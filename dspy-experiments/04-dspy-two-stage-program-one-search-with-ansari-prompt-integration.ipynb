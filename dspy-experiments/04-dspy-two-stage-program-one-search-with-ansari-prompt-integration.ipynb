{
 "cells": [
  {
   "cell_type": "code",
   "execution_count": 1,
   "metadata": {},
   "outputs": [
    {
     "data": {
      "text/plain": [
       "\"\\nThis two-stage program answers Islam-related questions by leveraging a large language model and searching through authoritative Islamic sources, ensuring that all answers are according to the Sunni tradition. In the first stage, the program accepts a question, determines the language, and generates a relevant search query for Hadith, Quran, or the Encyclopedia of Islamic Jurisprudence (Mawsuah), if necessary. The search query is composed in the Arabic language to optimize the retrieval of relevant search results. If a direct answer can be provided without searching, it is returned at this stage. Otherwise, the search query is executed, and relevant results are gathered.\\n\\nIn the second stage, the original question, its language, the searched source, and the search results are used to generate a factually based final answer. The answer is provided in the same language as the input question, and it is concise, evidence-based, and cites classical and modern scholars from the Sunni tradition. When presenting the Qur'an, the program includes the ayah number, Arabic text, and translation (if the user's language is different from Arabic). The program only uses hadith that are the result of the search. If the hadith is from a function call, it is presented with the collection, LK id, text, and grade. Otherwise, the hadith is presented as 'I believe (though not 100% sure of the reference) there is a hadith that says: [text of hadith]'. The program emphasizes being specific about which scholars say something and is particularly careful about matters that are obligatory or prohibited.\\n\""
      ]
     },
     "execution_count": 1,
     "metadata": {},
     "output_type": "execute_result"
    }
   ],
   "source": [
    "\"\"\"\n",
    "This two-stage program answers Islam-related questions by leveraging a large language model and searching through authoritative Islamic sources, ensuring that all answers are according to the Sunni tradition. In the first stage, the program accepts a question, determines the language, and generates a relevant search query for Hadith, Quran, or the Encyclopedia of Islamic Jurisprudence (Mawsuah), if necessary. The search query is composed in the Arabic language to optimize the retrieval of relevant search results. If a direct answer can be provided without searching, it is returned at this stage. Otherwise, the search query is executed, and relevant results are gathered.\n",
    "\n",
    "In the second stage, the original question, its language, the searched source, and the search results are used to generate a factually based final answer. The answer is provided in the same language as the input question, and it is concise, evidence-based, and cites classical and modern scholars from the Sunni tradition. When presenting the Qur'an, the program includes the ayah number, Arabic text, and translation (if the user's language is different from Arabic). The program only uses hadith that are the result of the search. If the hadith is from a function call, it is presented with the collection, LK id, text, and grade. Otherwise, the hadith is presented as 'I believe (though not 100% sure of the reference) there is a hadith that says: [text of hadith]'. The program emphasizes being specific about which scholars say something and is particularly careful about matters that are obligatory or prohibited.\n",
    "\"\"\""
   ]
  },
  {
   "cell_type": "code",
   "execution_count": 2,
   "metadata": {},
   "outputs": [],
   "source": [
    "# TODO:\n",
    "# 4. provide ~50 example questions\n",
    "# 5. define a metric for evaluation\n",
    "# 6. run corpo or mirpo optimization"
   ]
  },
  {
   "cell_type": "code",
   "execution_count": 3,
   "metadata": {},
   "outputs": [],
   "source": [
    "from env_vars import *"
   ]
  },
  {
   "cell_type": "code",
   "execution_count": 4,
   "metadata": {},
   "outputs": [],
   "source": [
    "from enum import Enum\n",
    "from pprint import pprint\n",
    "\n",
    "import dspy\n",
    "from pydantic import BaseModel, Field\n",
    "\n",
    "from tools.search_hadith import SearchHadith\n",
    "from tools.search_quran import SearchQuran\n",
    "from tools.search_mawsuah import SearchMawsuah"
   ]
  },
  {
   "cell_type": "code",
   "execution_count": 5,
   "metadata": {},
   "outputs": [],
   "source": [
    "# Stage 1\n",
    "class SearchSource(str, Enum):\n",
    "    HADITH = \"Hadith\"\n",
    "    QURAN = \"Quran\"\n",
    "    MAWSUAH = \"Mawsuah\"\n",
    "    NONE = \"None\"\n",
    "\n",
    "class Stage1InputQuery(BaseModel):\n",
    "    query: str = Field(description=\"Islam-related question\")\n",
    "\n",
    "class Stage1OutputResult(BaseModel):\n",
    "    language: str = Field(description=\"Language of the question\")\n",
    "    search_source: SearchSource = Field(description=\"Indicates the source for search: Hadith, Quran, Mawsuah, or None, based on the analysis of the question\")\n",
    "    search_query: str = Field(description=\"Optimized query for retrieving relevant information from the selected source in Arabic, excluding the source name\")\n",
    "    direct_answer: str = Field(description=\"Direct answer to the question in the same language as the question, if no search is required\")\n",
    "\n",
    "class GenerateStage1Output(dspy.Signature):\n",
    "    \"\"\"Formulate an optimized search query for retrieving relevant information from the selected Islamic source, only when a direct answer is not possible, based on a given question.\n",
    "\n",
    "    Accept an Islam-related question, which may not be in Arabic, and determine the appropriate source (Hadith, Quran, or Mawsuah) for the search query which must be composed in the Arabic language, excluding the source name. Carefully read the user's question and write the search query or the direct answer, ensuring that it is according to the Sunni tradition.\n",
    "    \"\"\"\n",
    "    input: Stage1InputQuery = dspy.InputField()\n",
    "    output: Stage1OutputResult = dspy.OutputField()\n"
   ]
  },
  {
   "cell_type": "code",
   "execution_count": 6,
   "metadata": {},
   "outputs": [],
   "source": [
    "class GenerateStage2FinalAnswer(dspy.Signature):\n",
    "    \"\"\"Produce a factually based final answer to an Islam-related question using search results.\n",
    "\n",
    "    Accept an input containing the original question, its language, the searched source, and the search results. Carefully analyze and translate the content if necessary. Provide a concise, evidence-based answer that cites classical and modern scholars from the Sunni tradition, such as Al Ghazali, Ibn Al Qayyim, Ibn Taymiyah, Imam Shafiee, Imam Nawawi, Imam Abu Hanifah, Ibn Hajr al Asqalani, Imam Ahmad bin Hanbal, Imam Malik, Ibn Hazm, Yusuf Al Qaradawi, Yasir Qadhi, Ma'in Al Qudah, Shu'aib Al Arnaout, Hamza Yusuf, Zaid Shakir, Taqiuddin Usmani, Muhammad Shinqeeti, Ismail Menk, Omar Suleiman, Salman Al-Awdah, Jamaaluddin Zarabozo, and Yaser Birjas. Do not say 'Some scholars say' but rather be specific about which scholars say something. Be particularly careful about matters that are obligatory or prohibited.\n",
    "    \"\"\"\n",
    "    question = dspy.InputField(desc=\"An Islam-related question\")\n",
    "    language = dspy.InputField(desc=\"Language of the question\")\n",
    "    searched_source = dspy.InputField(desc=\"The source that was searched: Hadith, Quran, or Mawsuah, based on the analysis of the question\")\n",
    "    search_results = dspy.InputField(desc=\"List of search results that might be relevant to the question\")\n",
    "\n",
    "    answer = dspy.OutputField(desc=\"Final answer to the question in the same language as the question, based on the relevant search results from Hadith, Quran, or Mawsuah. The answer is concise, evidence-based, and cites classical and modern scholars from the Sunni tradition. When presenting the Qur'an, include the ayah number, Arabic text, and translation (if the user's language is different from Arabic). Only use hadith that are the result of the search. If the hadith is from the search results, present it with the collection, LK id, text, and grade. Otherwise, present the hadith as 'I believe (though not 100% sure of the reference) there is a hadith that says: [text of hadith]'.\")"
   ]
  },
  {
   "cell_type": "code",
   "execution_count": 17,
   "metadata": {},
   "outputs": [],
   "source": [
    "class AnsariFlow(dspy.Module):\n",
    "    def __init__(self,):\n",
    "        self.llm = dspy.OpenAI(model='gpt-4o-2024-05-13', api_key=OPENAI_API_KEY)\n",
    "        self.ms = SearchMawsuah(auth_token=VECTARA_AUTH_TOKEN, customer_id=VECTARA_CUSTOMER_ID, corpus_id=VECTARA_CORPUS_ID)\n",
    "        self.hs = SearchHadith(api_key=KALEMAT_API_KEY)\n",
    "        self.qs = SearchQuran(api_key=KALEMAT_API_KEY)\n",
    "        self.stage1_predictor = dspy.TypedPredictor(GenerateStage1Output, max_retries=5, explain_errors=True)\n",
    "        self.stage2_predictor = dspy.Predict(GenerateStage2FinalAnswer)\n",
    "        \n",
    "\n",
    "    def forward(self, question: str):\n",
    "        # Stage 1: Generate search query or provide a direct answer if possible\n",
    "        with dspy.context(lm=self.llm):\n",
    "            stage1_input = Stage1InputQuery(query=question)\n",
    "            stage1_prediction = self.stage1_predictor(input=stage1_input)\n",
    "            pprint(stage1_prediction.output.dict())\n",
    "\n",
    "        if stage1_prediction.output.direct_answer.strip():\n",
    "            return stage1_prediction.output.direct_answer\n",
    "\n",
    "        search_source = stage1_prediction.output.search_source\n",
    "        search_query = stage1_prediction.output.search_query\n",
    "\n",
    "        # Stage 1 search query results\n",
    "        search_results = []\n",
    "        if search_source == SearchSource.HADITH:\n",
    "            search_results = self.hs.run_as_list(search_query)\n",
    "            pprint(search_results)\n",
    "        elif search_source == SearchSource.QURAN:\n",
    "            search_results = self.qs.run_as_list(search_query)\n",
    "            pprint(search_results)\n",
    "        elif search_source == SearchSource.MAWSUAH:\n",
    "            search_results = self.ms.run_as_list(search_query)\n",
    "            pprint(search_results)\n",
    "\n",
    "        # Stage 2: Generate the final answer using search results\n",
    "        with dspy.context(lm=self.llm):\n",
    "            stage2_prediction = self.stage2_predictor(question=question, language=stage1_prediction.output.language, searched_source=search_source.value, search_results=\"\\n\".join(search_results))\n",
    "            pprint(stage2_prediction.answer)\n",
    "        return stage2_prediction.answer"
   ]
  },
  {
   "cell_type": "code",
   "execution_count": 18,
   "metadata": {},
   "outputs": [
    {
     "name": "stdout",
     "output_type": "stream",
     "text": [
      "{'direct_answer': '',\n",
      " 'language': 'Turkish',\n",
      " 'search_query': 'الحجاب للنساء',\n",
      " 'search_source': <SearchSource.QURAN: 'Quran'>}\n",
      "Searching quran for \"الحجاب للنساء\"\n",
      "['Ayah: 33:55\\n'\n",
      " 'Arabic Text: لَّا جُنَاحَ عَلَيْهِنَّ فِىٓ ءَابَآئِهِنَّ وَلَآ '\n",
      " 'أَبْنَآئِهِنَّ وَلَآ إِخْوَٰنِهِنَّ وَلَآ أَبْنَآءِ إِخْوَٰنِهِنَّ '\n",
      " 'وَلَآ أَبْنَآءِ أَخَوَٰتِهِنَّ وَلَا نِسَآئِهِنَّ وَلَا مَا مَلَكَتْ '\n",
      " 'أَيْمَـٰنُهُنَّ ۗ وَٱتَّقِينَ ٱللَّهَ ۚ إِنَّ ٱللَّهَ كَانَ عَلَىٰ كُلِّ '\n",
      " 'شَىْءٍۢ شَهِيدًا\\n'\n",
      " '\\n'\n",
      " 'English Text: There is no blame on the Prophet’s wives ˹if they appear '\n",
      " 'unveiled˺ before their fathers, their sons, their brothers, their brothers’ '\n",
      " 'sons, their sisters’ sons, their fellow ˹Muslim˺ women, and those '\n",
      " '˹bondspeople˺ in their possession. And be mindful of Allah ˹O wives of the '\n",
      " 'Prophet!˺ Surely Allah is a Witness over all things.\\n'\n",
      " '\\n',\n",
      " 'Ayah: 33:53\\n'\n",
      " 'Arabic Text: يَـٰٓأَيُّهَا ٱلَّذِينَ ءَامَنُوا لَا تَدْخُلُوا بُيُوتَ '\n",
      " 'ٱلنَّبِىِّ إِلَّآ أَن يُؤْذَنَ لَكُمْ إِلَىٰ طَعَامٍ غَيْرَ نَـٰظِرِينَ '\n",
      " 'إِنَىٰهُ وَلَـٰكِنْ إِذَا دُعِيتُمْ فَٱدْخُلُوا فَإِذَا طَعِمْتُمْ '\n",
      " 'فَٱنتَشِرُوا وَلَا مُسْتَـْٔنِسِينَ لِحَدِيثٍ ۚ إِنَّ ذَٰلِكُمْ كَانَ '\n",
      " 'يُؤْذِى ٱلنَّبِىَّ فَيَسْتَحْىِۦ مِنكُمْ ۖ وَٱللَّهُ لَا يَسْتَحْىِۦ مِنَ '\n",
      " 'ٱلْحَقِّ ۚ وَإِذَا سَأَلْتُمُوهُنَّ مَتَـٰعًا فَسْـَٔلُوهُنَّ مِن وَرَآءِ '\n",
      " 'حِجَابٍۢ ۚ ذَٰلِكُمْ أَطْهَرُ لِقُلُوبِكُمْ وَقُلُوبِهِنَّ ۚ وَمَا كَانَ '\n",
      " 'لَكُمْ أَن تُؤْذُوا رَسُولَ ٱللَّهِ وَلَآ أَن تَنكِحُوٓا أَزْوَٰجَهُۥ مِنۢ '\n",
      " 'بَعْدِهِۦٓ أَبَدًا ۚ إِنَّ ذَٰلِكُمْ كَانَ عِندَ ٱللَّهِ عَظِيمًا\\n'\n",
      " '\\n'\n",
      " 'English Text: O believers! Do not enter the homes of the Prophet without '\n",
      " 'permission ˹and if invited˺ for a meal, do not ˹come too early and˺ linger '\n",
      " 'until the meal is ready. But if you are invited, then enter ˹on time˺. Once '\n",
      " 'you have eaten, then go on your way, and do not stay for casual talk. Such '\n",
      " 'behaviour is truly annoying to the Prophet, yet he is too shy to ask you to '\n",
      " 'leave. But Allah is never shy of the truth. And when you ˹believers˺ ask his '\n",
      " 'wives for something, ask them from behind a barrier. This is purer for your '\n",
      " 'hearts and theirs. And it is not right for you to annoy the Messenger of '\n",
      " 'Allah, nor ever marry his wives after him. This would certainly be a major '\n",
      " 'offence in the sight of Allah.\\n'\n",
      " '\\n']\n",
      "('Question: Kadinlarin basortusu takmalari sart mi?\\n'\n",
      " '\\n'\n",
      " 'Language: Turkish\\n'\n",
      " '\\n'\n",
      " 'Searched Source: Quran\\n'\n",
      " '\\n'\n",
      " 'Search Results:\\n'\n",
      " '1. Ayah: 33:55\\n'\n",
      " '   Arabic Text: لَّا جُنَاحَ عَلَيْهِنَّ فِىٓ ءَابَآئِهِنَّ وَلَآ '\n",
      " 'أَبْنَآئِهِنَّ وَلَآ إِخْوَٰنِهِنَّ وَلَآ أَبْنَآءِ إِخْوَٰنِهِنَّ '\n",
      " 'وَلَآ أَبْنَآءِ أَخَوَٰتِهِنَّ وَلَا ن')\n"
     ]
    },
    {
     "data": {
      "text/plain": [
       "'Question: Kadinlarin basortusu takmalari sart mi?\\n\\nLanguage: Turkish\\n\\nSearched Source: Quran\\n\\nSearch Results:\\n1. Ayah: 33:55\\n   Arabic Text: لَّا جُنَاحَ عَلَيْهِنَّ فِىٓ ءَابَآئِهِنَّ وَلَآ أَبْنَآئِهِنَّ وَلَآ إِخْوَٰنِهِنَّ وَلَآ أَبْنَآءِ إِخْوَٰنِهِنَّ وَلَآ أَبْنَآءِ أَخَوَٰتِهِنَّ وَلَا ن'"
      ]
     },
     "execution_count": 18,
     "metadata": {},
     "output_type": "execute_result"
    }
   ],
   "source": [
    "ansari = AnsariFlow()\n",
    "question = \"kadinlarin basortusu takmalari sart mi?\"\n",
    "ansari(question)"
   ]
  },
  {
   "cell_type": "code",
   "execution_count": 19,
   "metadata": {},
   "outputs": [
    {
     "name": "stdout",
     "output_type": "stream",
     "text": [
      "\n",
      "\n",
      "\n",
      "Produce a factually based final answer to an Islam-related question using search results.\n",
      "\n",
      "    Accept an input containing the original question, its language, the searched source, and the search results. Carefully analyze and translate the content if necessary. Provide a concise, evidence-based answer that cites classical and modern scholars from the Sunni tradition, such as Al Ghazali, Ibn Al Qayyim, Ibn Taymiyah, Imam Shafiee, Imam Nawawi, Imam Abu Hanifah, Ibn Hajr al Asqalani, Imam Ahmad bin Hanbal, Imam Malik, Ibn Hazm, Yusuf Al Qaradawi, Yasir Qadhi, Ma'in Al Qudah, Shu'aib Al Arnaout, Hamza Yusuf, Zaid Shakir, Taqiuddin Usmani, Muhammad Shinqeeti, Ismail Menk, Omar Suleiman, Salman Al-Awdah, Jamaaluddin Zarabozo, and Yaser Birjas. Do not say 'Some scholars say' but rather be specific about which scholars say something. Be particularly careful about matters that are obligatory or prohibited.\n",
      "\n",
      "---\n",
      "\n",
      "Follow the following format.\n",
      "\n",
      "Question: An Islam-related question\n",
      "\n",
      "Language: Language of the question\n",
      "\n",
      "Searched Source: The source that was searched: Hadith, Quran, or Mawsuah, based on the analysis of the question\n",
      "\n",
      "Search Results: List of search results that might be relevant to the question\n",
      "\n",
      "Answer: Final answer to the question in the same language as the question, based on the relevant search results from Hadith, Quran, or Mawsuah. The answer is concise, evidence-based, and cites classical and modern scholars from the Sunni tradition. When presenting the Qur'an, include the ayah number, Arabic text, and translation (if the user's language is different from Arabic). Only use hadith that are the result of the search. If the hadith is from the search results, present it with the collection, LK id, text, and grade. Otherwise, present the hadith as 'I believe (though not 100% sure of the reference) there is a hadith that says: [text of hadith]'.\n",
      "\n",
      "---\n",
      "\n",
      "Question: kadinlarin basortusu takmalari sart mi?\n",
      "\n",
      "Language: Turkish\n",
      "\n",
      "Searched Source: Quran\n",
      "\n",
      "Search Results: Ayah: 33:55 Arabic Text: لَّا جُنَاحَ عَلَيْهِنَّ فِىٓ ءَابَآئِهِنَّ وَلَآ أَبْنَآئِهِنَّ وَلَآ إِخْوَٰنِهِنَّ وَلَآ أَبْنَآءِ إِخْوَٰنِهِنَّ وَلَآ أَبْنَآءِ أَخَوَٰتِهِنَّ وَلَا نِسَآئِهِنَّ وَلَا مَا مَلَكَتْ أَيْمَـٰنُهُنَّ ۗ وَٱتَّقِينَ ٱللَّهَ ۚ إِنَّ ٱللَّهَ كَانَ عَلَىٰ كُلِّ شَىْءٍۢ شَهِيدًا English Text: There is no blame on the Prophet’s wives ˹if they appear unveiled˺ before their fathers, their sons, their brothers, their brothers’ sons, their sisters’ sons, their fellow ˹Muslim˺ women, and those ˹bondspeople˺ in their possession. And be mindful of Allah ˹O wives of the Prophet!˺ Surely Allah is a Witness over all things. Ayah: 33:53 Arabic Text: يَـٰٓأَيُّهَا ٱلَّذِينَ ءَامَنُوا لَا تَدْخُلُوا بُيُوتَ ٱلنَّبِىِّ إِلَّآ أَن يُؤْذَنَ لَكُمْ إِلَىٰ طَعَامٍ غَيْرَ نَـٰظِرِينَ إِنَىٰهُ وَلَـٰكِنْ إِذَا دُعِيتُمْ فَٱدْخُلُوا فَإِذَا طَعِمْتُمْ فَٱنتَشِرُوا وَلَا مُسْتَـْٔنِسِينَ لِحَدِيثٍ ۚ إِنَّ ذَٰلِكُمْ كَانَ يُؤْذِى ٱلنَّبِىَّ فَيَسْتَحْىِۦ مِنكُمْ ۖ وَٱللَّهُ لَا يَسْتَحْىِۦ مِنَ ٱلْحَقِّ ۚ وَإِذَا سَأَلْتُمُوهُنَّ مَتَـٰعًا فَسْـَٔلُوهُنَّ مِن وَرَآءِ حِجَابٍۢ ۚ ذَٰلِكُمْ أَطْهَرُ لِقُلُوبِكُمْ وَقُلُوبِهِنَّ ۚ وَمَا كَانَ لَكُمْ أَن تُؤْذُوا رَسُولَ ٱللَّهِ وَلَآ أَن تَنكِحُوٓا أَزْوَٰجَهُۥ مِنۢ بَعْدِهِۦٓ أَبَدًا ۚ إِنَّ ذَٰلِكُمْ كَانَ عِندَ ٱللَّهِ عَظِيمًا English Text: O believers! Do not enter the homes of the Prophet without permission ˹and if invited˺ for a meal, do not ˹come too early and˺ linger until the meal is ready. But if you are invited, then enter ˹on time˺. Once you have eaten, then go on your way, and do not stay for casual talk. Such behaviour is truly annoying to the Prophet, yet he is too shy to ask you to leave. But Allah is never shy of the truth. And when you ˹believers˺ ask his wives for something, ask them from behind a barrier. This is purer for your hearts and theirs. And it is not right for you to annoy the Messenger of Allah, nor ever marry his wives after him. This would certainly be a major offence in the sight of Allah.\n",
      "\n",
      "Answer:\u001b[32m Question: Kadinlarin basortusu takmalari sart mi?\n",
      "\n",
      "Language: Turkish\n",
      "\n",
      "Searched Source: Quran\n",
      "\n",
      "Search Results:\n",
      "1. Ayah: 33:55\n",
      "   Arabic Text: لَّا جُنَاحَ عَلَيْهِنَّ فِىٓ ءَابَآئِهِنَّ وَلَآ أَبْنَآئِهِنَّ وَلَآ إِخْوَٰنِهِنَّ وَلَآ أَبْنَآءِ إِخْوَٰنِهِنَّ وَلَآ أَبْنَآءِ أَخَوَٰتِهِنَّ وَلَا ن\u001b[0m\n",
      "\n",
      "\n",
      "\n"
     ]
    },
    {
     "data": {
      "text/plain": [
       "\"\\n\\n\\nProduce a factually based final answer to an Islam-related question using search results.\\n\\n    Accept an input containing the original question, its language, the searched source, and the search results. Carefully analyze and translate the content if necessary. Provide a concise, evidence-based answer that cites classical and modern scholars from the Sunni tradition, such as Al Ghazali, Ibn Al Qayyim, Ibn Taymiyah, Imam Shafiee, Imam Nawawi, Imam Abu Hanifah, Ibn Hajr al Asqalani, Imam Ahmad bin Hanbal, Imam Malik, Ibn Hazm, Yusuf Al Qaradawi, Yasir Qadhi, Ma'in Al Qudah, Shu'aib Al Arnaout, Hamza Yusuf, Zaid Shakir, Taqiuddin Usmani, Muhammad Shinqeeti, Ismail Menk, Omar Suleiman, Salman Al-Awdah, Jamaaluddin Zarabozo, and Yaser Birjas. Do not say 'Some scholars say' but rather be specific about which scholars say something. Be particularly careful about matters that are obligatory or prohibited.\\n\\n---\\n\\nFollow the following format.\\n\\nQuestion: An Islam-related question\\n\\nLanguage: Language of the question\\n\\nSearched Source: The source that was searched: Hadith, Quran, or Mawsuah, based on the analysis of the question\\n\\nSearch Results: List of search results that might be relevant to the question\\n\\nAnswer: Final answer to the question in the same language as the question, based on the relevant search results from Hadith, Quran, or Mawsuah. The answer is concise, evidence-based, and cites classical and modern scholars from the Sunni tradition. When presenting the Qur'an, include the ayah number, Arabic text, and translation (if the user's language is different from Arabic). Only use hadith that are the result of the search. If the hadith is from the search results, present it with the collection, LK id, text, and grade. Otherwise, present the hadith as 'I believe (though not 100% sure of the reference) there is a hadith that says: [text of hadith]'.\\n\\n---\\n\\nQuestion: kadinlarin basortusu takmalari sart mi?\\n\\nLanguage: Turkish\\n\\nSearched Source: Quran\\n\\nSearch Results: Ayah: 33:55 Arabic Text: لَّا جُنَاحَ عَلَيْهِنَّ فِىٓ ءَابَآئِهِنَّ وَلَآ أَبْنَآئِهِنَّ وَلَآ إِخْوَٰنِهِنَّ وَلَآ أَبْنَآءِ إِخْوَٰنِهِنَّ وَلَآ أَبْنَآءِ أَخَوَٰتِهِنَّ وَلَا نِسَآئِهِنَّ وَلَا مَا مَلَكَتْ أَيْمَـٰنُهُنَّ ۗ وَٱتَّقِينَ ٱللَّهَ ۚ إِنَّ ٱللَّهَ كَانَ عَلَىٰ كُلِّ شَىْءٍۢ شَهِيدًا English Text: There is no blame on the Prophet’s wives ˹if they appear unveiled˺ before their fathers, their sons, their brothers, their brothers’ sons, their sisters’ sons, their fellow ˹Muslim˺ women, and those ˹bondspeople˺ in their possession. And be mindful of Allah ˹O wives of the Prophet!˺ Surely Allah is a Witness over all things. Ayah: 33:53 Arabic Text: يَـٰٓأَيُّهَا ٱلَّذِينَ ءَامَنُوا لَا تَدْخُلُوا بُيُوتَ ٱلنَّبِىِّ إِلَّآ أَن يُؤْذَنَ لَكُمْ إِلَىٰ طَعَامٍ غَيْرَ نَـٰظِرِينَ إِنَىٰهُ وَلَـٰكِنْ إِذَا دُعِيتُمْ فَٱدْخُلُوا فَإِذَا طَعِمْتُمْ فَٱنتَشِرُوا وَلَا مُسْتَـْٔنِسِينَ لِحَدِيثٍ ۚ إِنَّ ذَٰلِكُمْ كَانَ يُؤْذِى ٱلنَّبِىَّ فَيَسْتَحْىِۦ مِنكُمْ ۖ وَٱللَّهُ لَا يَسْتَحْىِۦ مِنَ ٱلْحَقِّ ۚ وَإِذَا سَأَلْتُمُوهُنَّ مَتَـٰعًا فَسْـَٔلُوهُنَّ مِن وَرَآءِ حِجَابٍۢ ۚ ذَٰلِكُمْ أَطْهَرُ لِقُلُوبِكُمْ وَقُلُوبِهِنَّ ۚ وَمَا كَانَ لَكُمْ أَن تُؤْذُوا رَسُولَ ٱللَّهِ وَلَآ أَن تَنكِحُوٓا أَزْوَٰجَهُۥ مِنۢ بَعْدِهِۦٓ أَبَدًا ۚ إِنَّ ذَٰلِكُمْ كَانَ عِندَ ٱللَّهِ عَظِيمًا English Text: O believers! Do not enter the homes of the Prophet without permission ˹and if invited˺ for a meal, do not ˹come too early and˺ linger until the meal is ready. But if you are invited, then enter ˹on time˺. Once you have eaten, then go on your way, and do not stay for casual talk. Such behaviour is truly annoying to the Prophet, yet he is too shy to ask you to leave. But Allah is never shy of the truth. And when you ˹believers˺ ask his wives for something, ask them from behind a barrier. This is purer for your hearts and theirs. And it is not right for you to annoy the Messenger of Allah, nor ever marry his wives after him. This would certainly be a major offence in the sight of Allah.\\n\\nAnswer:\\x1b[32m Question: Kadinlarin basortusu takmalari sart mi?\\n\\nLanguage: Turkish\\n\\nSearched Source: Quran\\n\\nSearch Results:\\n1. Ayah: 33:55\\n   Arabic Text: لَّا جُنَاحَ عَلَيْهِنَّ فِىٓ ءَابَآئِهِنَّ وَلَآ أَبْنَآئِهِنَّ وَلَآ إِخْوَٰنِهِنَّ وَلَآ أَبْنَآءِ إِخْوَٰنِهِنَّ وَلَآ أَبْنَآءِ أَخَوَٰتِهِنَّ وَلَا ن\\x1b[0m\\n\\n\\n\""
      ]
     },
     "execution_count": 19,
     "metadata": {},
     "output_type": "execute_result"
    }
   ],
   "source": [
    "ansari.llm.inspect_history()"
   ]
  },
  {
   "cell_type": "code",
   "execution_count": null,
   "metadata": {},
   "outputs": [],
   "source": [
    "# TODO:\n",
    "# stage 2 must not be a typed predictor. because it is failing\n",
    "\n",
    "# LLM:\n",
    "# 1. speak in definitive terms when necessary: only when something is ما عُلِمَ من الدين بالضرورة\n",
    "# 2. use your quran and hadith knowledge when searching in them. When searching in Mawsuah, use your common sense to craft queries. The queries must retrieve relevant results. Don't write queries that ignores the content of the Quran or Hadith, the query will be used to serch directly in the sources, not intelligent AI will preprocess them, so craft them accordingly."
   ]
  },
  {
   "cell_type": "code",
   "execution_count": null,
   "metadata": {},
   "outputs": [],
   "source": []
  },
  {
   "cell_type": "code",
   "execution_count": null,
   "metadata": {},
   "outputs": [],
   "source": []
  },
  {
   "cell_type": "code",
   "execution_count": null,
   "metadata": {},
   "outputs": [],
   "source": []
  },
  {
   "cell_type": "code",
   "execution_count": 20,
   "metadata": {},
   "outputs": [
    {
     "name": "stdout",
     "output_type": "stream",
     "text": [
      "{'direct_answer': '',\n",
      " 'language': 'Turkish',\n",
      " 'search_query': 'حجاب النساء في الإسلام',\n",
      " 'search_source': <SearchSource.QURAN: 'Quran'>}\n",
      "Searching quran for \"حجاب النساء في الإسلام\"\n",
      "['Ayah: 33:55\\n'\n",
      " 'Arabic Text: لَّا جُنَاحَ عَلَيْهِنَّ فِىٓ ءَابَآئِهِنَّ وَلَآ '\n",
      " 'أَبْنَآئِهِنَّ وَلَآ إِخْوَٰنِهِنَّ وَلَآ أَبْنَآءِ إِخْوَٰنِهِنَّ '\n",
      " 'وَلَآ أَبْنَآءِ أَخَوَٰتِهِنَّ وَلَا نِسَآئِهِنَّ وَلَا مَا مَلَكَتْ '\n",
      " 'أَيْمَـٰنُهُنَّ ۗ وَٱتَّقِينَ ٱللَّهَ ۚ إِنَّ ٱللَّهَ كَانَ عَلَىٰ كُلِّ '\n",
      " 'شَىْءٍۢ شَهِيدًا\\n'\n",
      " '\\n'\n",
      " 'English Text: There is no blame on the Prophet’s wives ˹if they appear '\n",
      " 'unveiled˺ before their fathers, their sons, their brothers, their brothers’ '\n",
      " 'sons, their sisters’ sons, their fellow ˹Muslim˺ women, and those '\n",
      " '˹bondspeople˺ in their possession. And be mindful of Allah ˹O wives of the '\n",
      " 'Prophet!˺ Surely Allah is a Witness over all things.\\n'\n",
      " '\\n',\n",
      " 'Ayah: 24:60\\n'\n",
      " 'Arabic Text: وَٱلْقَوَٰعِدُ مِنَ ٱلنِّسَآءِ ٱلَّـٰتِى لَا يَرْجُونَ '\n",
      " 'نِكَاحًا فَلَيْسَ عَلَيْهِنَّ جُنَاحٌ أَن يَضَعْنَ ثِيَابَهُنَّ غَيْرَ '\n",
      " 'مُتَبَرِّجَـٰتٍ بِزِينَةٍۢ ۖ وَأَن يَسْتَعْفِفْنَ خَيْرٌ لَّهُنَّ ۗ '\n",
      " 'وَٱللَّهُ سَمِيعٌ عَلِيمٌ\\n'\n",
      " '\\n'\n",
      " 'English Text: As for elderly women past the age of marriage, there is no '\n",
      " 'blame on them if they take off their ˹outer˺ garments, without revealing '\n",
      " 'their adornments. But it is better for them if they avoid this ˹altogether˺. '\n",
      " 'And Allah is All-Hearing, All-Knowing.\\n'\n",
      " '\\n']\n",
      "('Question: Kadinlarin basortusu takmalari sart mi?\\n'\n",
      " '\\n'\n",
      " 'Language: Turkish\\n'\n",
      " '\\n'\n",
      " 'Searched Source: Quran\\n'\n",
      " '\\n'\n",
      " 'Search Results: \\n'\n",
      " '1. Ayah: 33:55\\n'\n",
      " '   Arabic Text: لَّا جُنَاحَ عَلَيْهِنَّ فِىٓ ءَابَآئِهِنَّ وَلَآ '\n",
      " 'أَبْنَآئِهِنَّ وَلَآ إِخْوَٰنِهِنَّ وَلَآ أَبْنَآءِ إِخْوَٰنِهِنَّ '\n",
      " 'وَلَآ أَبْنَآءِ أَخَوَٰتِهِنَّ وَلَا')\n"
     ]
    },
    {
     "data": {
      "text/plain": [
       "'Question: Kadinlarin basortusu takmalari sart mi?\\n\\nLanguage: Turkish\\n\\nSearched Source: Quran\\n\\nSearch Results: \\n1. Ayah: 33:55\\n   Arabic Text: لَّا جُنَاحَ عَلَيْهِنَّ فِىٓ ءَابَآئِهِنَّ وَلَآ أَبْنَآئِهِنَّ وَلَآ إِخْوَٰنِهِنَّ وَلَآ أَبْنَآءِ إِخْوَٰنِهِنَّ وَلَآ أَبْنَآءِ أَخَوَٰتِهِنَّ وَلَا'"
      ]
     },
     "execution_count": 20,
     "metadata": {},
     "output_type": "execute_result"
    }
   ],
   "source": [
    "\"\"\"\n",
    "This two-stage program answers Islam-related questions by leveraging a large language model and searching through authoritative Islamic sources, ensuring that all answers are according to the Sunni tradition. In the first stage, the program accepts a question, determines the language, and generates a relevant search query for Hadith, Quran, or the Encyclopedia of Islamic Jurisprudence (Mawsuah), if necessary. The search query is composed in the Arabic language to optimize the retrieval of relevant search results. If a direct answer can be provided without searching, it is returned at this stage. Otherwise, the search query is executed, and relevant results are gathered.\n",
    "\n",
    "In the second stage, the original question, its language, the searched source, and the search results are used to generate a factually based final answer. The answer is provided in the same language as the input question, and it is concise, evidence-based, and cites classical and modern scholars from the Sunni tradition. When presenting the Qur'an, the program includes the ayah number, Arabic text, and translation (if the user's language is different from Arabic). The program only uses hadith that are the result of the search. If the hadith is from a function call, it is presented with the collection, LK id, text, and grade. Otherwise, the hadith is presented as 'I believe (though not 100% sure of the reference) there is a hadith that says: [text of hadith]'. The program emphasizes being specific about which scholars say something and is particularly careful about matters that are obligatory or prohibited.\n",
    "\"\"\"\n",
    "\n",
    "from enum import Enum\n",
    "from pprint import pprint\n",
    "\n",
    "import dspy\n",
    "from pydantic import BaseModel, Field\n",
    "\n",
    "from env_vars import *\n",
    "from tools.search_quran import SearchQuran\n",
    "from tools.search_hadith import SearchHadith\n",
    "from tools.search_mawsuah import SearchMawsuah\n",
    "\n",
    "# Stage 1\n",
    "class SearchSource(str, Enum):\n",
    "    HADITH = \"Hadith\"\n",
    "    QURAN = \"Quran\"\n",
    "    MAWSUAH = \"Mawsuah\"\n",
    "    NONE = \"None\"\n",
    "\n",
    "class Stage1InputQuery(BaseModel):\n",
    "    query: str = Field(description=\"Islam-related question\")\n",
    "\n",
    "class Stage1OutputResult(BaseModel):\n",
    "    language: str = Field(description=\"Language of the question\")\n",
    "    search_source: SearchSource = Field(description=\"Indicates the source for search: Hadith, Quran, Mawsuah, or None, based on the analysis of the question. Uses definitive terms for established Islamic rulings (ما عُلِمَ من الدين بالضرورة)\")\n",
    "    search_query: str = Field(description=\"Optimized query for retrieving relevant information from the selected source in Arabic, crafted using Quranic knowledge, Hadith knowledge, or common sense for Mawsuah\")\n",
    "    direct_answer: str = Field(description=\"Direct answer to the question in the same language as the question, if no search is required, particularly for matters that are definitively known (ما عُلِمَ من الدين بالضرورة)\")\n",
    "\n",
    "class GenerateStage1Output(dspy.Signature):\n",
    "    \"\"\"Formulate an optimized search query for retrieving relevant information from the selected Islamic source, only when a direct answer is not possible, based on a given question.\n",
    "\n",
    "    Accept an Islam-related question, which may not be in Arabic, and determine the appropriate source (Hadith, Quran, or Mawsuah) for the search query which must be composed in the Arabic language. Use definitive terms for well-known Islamic rulings (المعلوم من الدين بالضرورة). When crafting a Quran search query, use specific Quranic knowledge to choose keywords that are guaranteed to bring back relevant results. When crafting a search query for Hadith, use specific Hadith knowledge to ensure relevant Hadiths are retrieved. For Mawsuah, use common sense to craft queries. The queries must be designed to retrieve relevant results directly from the sources.\n",
    "    \"\"\"\n",
    "    input: Stage1InputQuery = dspy.InputField()\n",
    "    output: Stage1OutputResult = dspy.OutputField()\n",
    "\n",
    "class GenerateStage2FinalAnswer(dspy.Signature):\n",
    "    \"\"\"Produce a factually based final answer to an Islam-related question using search results.\n",
    "\n",
    "    Accept an input containing the original question, its language, the searched source, and the search results. Carefully analyze and translate the content if necessary. Provide a concise, evidence-based answer that cites specific classical and modern scholars from the Sunni tradition, such as Al Ghazali, Ibn Al Qayyim, Ibn Taymiyah, Imam Shafiee, Imam Nawawi, Imam Abu Hanifah, Ibn Hajr al Asqalani, Imam Ahmad bin Hanbal, Imam Malik, Ibn Hazm, Yusuf Al Qaradawi, Yasir Qadhi, Ma'in Al Qudah, Shu'aib Al Arnaout, Hamza Yusuf, Zaid Shakir, Taqiuddin Usmani, Muhammad Shinqeeti, Ismail Menk, Omar Suleiman, Salman Al-Awdah, Jamaaluddin Zarabozo, and Yaser Birjas. Avoid vague references such as 'Some scholars say.' Be specific about which scholars hold a particular view. Ensure the answer is definitive and evidence-based, including relevant details from Quran and Hadith when available. When presenting Quranic references, include the ayah number, Arabic text, and translation if the user's language is different from Arabic. Only use hadith that are the result of the search. If the hadith is from the search results, present it with the collection, LK id, text, and grade. Otherwise, state that you believe (though not 100% sure of the reference) there is a hadith that says: [text of hadith]. Ensure the answer is comprehensive and well-supported by evidence.\n",
    "    \"\"\"\n",
    "    question = dspy.InputField(desc=\"An Islam-related question\")\n",
    "    language = dspy.InputField(desc=\"Language of the question\")\n",
    "    searched_source = dspy.InputField(desc=\"The source that was searched: Hadith, Quran, or Mawsuah, based on the analysis of the question\")\n",
    "    search_results = dspy.InputField(desc=\"List of search results that might be relevant to the question\")\n",
    "\n",
    "    answer = dspy.OutputField(desc=\"Final answer to the question in the same language as the question, based on the relevant search results from Hadith, Quran, or Mawsuah. The answer is concise, evidence-based, and cites specific classical and modern scholars from the Sunni tradition. When presenting the Qur'an, include the ayah number, Arabic text, and translation (if the user's language is different from Arabic). Only use hadith that are the result of the search. If the hadith is from the search results, present it with the collection, LK id, text, and grade. Otherwise, present the hadith as 'I believe (though not 100% sure of the reference) there is a hadith that says: [text of hadith]'. Ensure the answer is definitive and evidence-based, including relevant details from Quran and Hadith when available.\")\n",
    "\n",
    "class AnsariFlow(dspy.Module):\n",
    "    def __init__(self,):\n",
    "        self.llm = dspy.OpenAI(model='gpt-4o-2024-05-13', api_key=OPENAI_API_KEY)\n",
    "        self.ms = SearchMawsuah(auth_token=VECTARA_AUTH_TOKEN, customer_id=VECTARA_CUSTOMER_ID, corpus_id=VECTARA_CORPUS_ID)\n",
    "        self.hs = SearchHadith(api_key=KALEMAT_API_KEY)\n",
    "        self.qs = SearchQuran(api_key=KALEMAT_API_KEY)\n",
    "        self.stage1_predictor = dspy.TypedPredictor(GenerateStage1Output, max_retries=5, explain_errors=True)\n",
    "        self.stage2_predictor = dspy.Predict(GenerateStage2FinalAnswer)\n",
    "\n",
    "    def forward(self, question: str):\n",
    "        # Stage 1: Generate search query or provide a direct answer if possible\n",
    "        with dspy.context(lm=self.llm):\n",
    "            stage1_input = Stage1InputQuery(query=question)\n",
    "            stage1_prediction = self.stage1_predictor(input=stage1_input)\n",
    "            pprint(stage1_prediction.output.dict())\n",
    "\n",
    "        if stage1_prediction.output.direct_answer.strip():\n",
    "            return stage1_prediction.output.direct_answer\n",
    "\n",
    "        search_source = stage1_prediction.output.search_source\n",
    "        search_query = stage1_prediction.output.search_query\n",
    "\n",
    "        # Stage 1 search query results\n",
    "        search_results = []\n",
    "        if search_source == SearchSource.HADITH:\n",
    "            search_results = self.hs.run_as_list(search_query)\n",
    "            pprint(search_results)\n",
    "        elif search_source == SearchSource.QURAN:\n",
    "            search_results = self.qs.run_as_list(search_query)\n",
    "            pprint(search_results)\n",
    "        elif search_source == SearchSource.MAWSUAH:\n",
    "            search_results = self.ms.run_as_list(search_query)\n",
    "            pprint(search_results)\n",
    "\n",
    "        # Stage 2: Generate the final answer using search results\n",
    "        with dspy.context(lm=self.llm):\n",
    "            stage2_prediction = self.stage2_predictor(question=question, language=stage1_prediction.output.language, searched_source=search_source.value, search_results=\"\\n\".join(search_results))\n",
    "            pprint(stage2_prediction.answer)\n",
    "        return stage2_prediction.answer\n",
    "\n",
    "ansari = AnsariFlow()\n",
    "question = \"kadinlarin basortusu takmalari sart mi?\"\n",
    "answer = ansari(question)\n",
    "\n"
   ]
  },
  {
   "cell_type": "code",
   "execution_count": null,
   "metadata": {},
   "outputs": [],
   "source": []
  }
 ],
 "metadata": {
  "kernelspec": {
   "display_name": "main",
   "language": "python",
   "name": "python3"
  },
  "language_info": {
   "codemirror_mode": {
    "name": "ipython",
    "version": 3
   },
   "file_extension": ".py",
   "mimetype": "text/x-python",
   "name": "python",
   "nbconvert_exporter": "python",
   "pygments_lexer": "ipython3",
   "version": "3.10.12"
  }
 },
 "nbformat": 4,
 "nbformat_minor": 2
}
