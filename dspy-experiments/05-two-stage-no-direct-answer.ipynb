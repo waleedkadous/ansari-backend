{
 "cells": [
  {
   "cell_type": "code",
   "execution_count": 1,
   "metadata": {},
   "outputs": [],
   "source": [
    "from env_vars import *"
   ]
  },
  {
   "cell_type": "code",
   "execution_count": 2,
   "metadata": {},
   "outputs": [],
   "source": [
    "from enum import Enum\n",
    "from pprint import pprint\n",
    "\n",
    "import dspy\n",
    "from pydantic import BaseModel, Field\n",
    "from lingua import LanguageDetectorBuilder\n",
    "\n",
    "from tools.search_hadith import SearchHadith\n",
    "from tools.search_quran import SearchQuran\n",
    "from tools.search_mawsuah import SearchMawsuah"
   ]
  },
  {
   "cell_type": "code",
   "execution_count": 3,
   "metadata": {},
   "outputs": [],
   "source": [
    "import dspy\n",
    "import openai\n",
    "import backoff\n",
    "\n",
    "class OpenAIWrapper(dspy.dsp.modules.gpt3.GPT3):\n",
    "    @backoff.on_exception(\n",
    "        backoff.expo,\n",
    "        (openai.RateLimitError, openai.InternalServerError),\n",
    "        max_time=1000,\n",
    "        on_backoff=dspy.dsp.modules.gpt3.backoff_hdlr,\n",
    "    )\n",
    "    def request(self, prompt: str, **kwargs):\n",
    "        \"\"\"Handles retreival of GPT-3 completions whilst handling rate limiting and caching.\"\"\"\n",
    "        if \"model_type\" in kwargs:\n",
    "            del kwargs[\"model_type\"]\n",
    "\n",
    "        return self.basic_request(prompt, **kwargs)"
   ]
  },
  {
   "cell_type": "code",
   "execution_count": 4,
   "metadata": {},
   "outputs": [],
   "source": [
    "# Stage 1\n",
    "class SearchSource(str, Enum):\n",
    "    HADITH = \"Hadith\"\n",
    "    QURAN = \"Quran\"\n",
    "    MAWSUAH = \"Mawsuah\"\n",
    "    NONE = \"None\"\n",
    "\n",
    "class Stage1InputQuery(BaseModel):\n",
    "    query: str = Field(description=\"Islam-related question\")\n",
    "\n",
    "class Stage1OutputResult(BaseModel):\n",
    "    language: str = Field(description=\"Language of the question\")\n",
    "    search_queries: dict[SearchSource, str] = Field(description=\"Dictionary containing search queries for each source in Arabic\")\n",
    "\n",
    "\n",
    "class PrecisionIslamQueries(dspy.Signature):\n",
    "    \"\"\"Continually enhance your language capabilities for the Holy Quran, Hadith, and Mawsuah, an encyclopedia of Islamic jurisprudence (fiqh), by practicing effective search queries. Engage consistently with diverse questions posing challenges, analyzing them thoroughly to craft authentic Arabic search queries. Regular interaction with different topics ensures a richer vocabulary and precise queries targeting each source appropriately.\"\"\"\n",
    "    input: Stage1InputQuery = dspy.InputField()\n",
    "    output: Stage1OutputResult = dspy.OutputField()\n"
   ]
  },
  {
   "cell_type": "code",
   "execution_count": 5,
   "metadata": {},
   "outputs": [],
   "source": [
    "# Stage 2\n",
    "class Stage2InputData(BaseModel):\n",
    "    question: str = Field(description=\"An Islam-related question\")\n",
    "    language: str = Field(description=\"Language of the question\")\n",
    "    search_results: dict[SearchSource, list[str]] = Field(description=\"Dictionary containing search results for each source\")\n",
    "\n",
    "class Stage2OutputAnswer(BaseModel):\n",
    "    answer: str = Field(description=\"Final answer to the question\")\n",
    "\n",
    "class GenerateAnswer(dspy.Signature):\n",
    "    \"\"\"\n",
    "    You are Ansari, a multilingual Islamic bot. Answer questions with thorough, well-researched answers, grounded in the rich tradition of Sunni scholarship.\n",
    "    \"\"\"\n",
    "\n",
    "    input: Stage2InputData = dspy.InputField()\n",
    "    output: Stage2OutputAnswer = dspy.OutputField()"
   ]
  },
  {
   "cell_type": "code",
   "execution_count": 6,
   "metadata": {},
   "outputs": [],
   "source": [
    "class AnsariFlow(dspy.Module):\n",
    "    def __init__(self, openai_model_name=\"gpt-4o\"):\n",
    "        self.llm = OpenAIWrapper(model=openai_model_name, api_key=OPENAI_API_KEY, max_tokens=2000, model_type='chat')\n",
    "        self.ms = SearchMawsuah(auth_token=VECTARA_AUTH_TOKEN, customer_id=VECTARA_CUSTOMER_ID, corpus_id=VECTARA_CORPUS_ID)\n",
    "        self.hs = SearchHadith(api_key=KALEMAT_API_KEY)\n",
    "        self.qs = SearchQuran(api_key=KALEMAT_API_KEY)\n",
    "        self.stage1_predictor = dspy.TypedPredictor(PrecisionIslamQueries, max_retries=5, explain_errors=True)\n",
    "        self.stage2_predictor = dspy.TypedPredictor(GenerateAnswer)\n",
    "        \n",
    "\n",
    "    def forward(self, question: str):\n",
    "        # Stage 1: Generate search query or provide a direct answer if possible\n",
    "        with dspy.context(lm=self.llm):\n",
    "            stage1_input = Stage1InputQuery(query=question)\n",
    "            stage1_prediction = self.stage1_predictor(input=stage1_input)\n",
    "            # pprint(stage1_prediction.output)\n",
    "\n",
    "        # Stage 1 search queries and results\n",
    "        search_results = {source: [] for source in SearchSource}\n",
    "\n",
    "        for source, search_query in stage1_prediction.output.search_queries.items():\n",
    "            if source == SearchSource.HADITH:\n",
    "                search_results[source] = self.hs.run_as_list(search_query)\n",
    "            elif source == SearchSource.QURAN:\n",
    "                search_results[source] = self.qs.run_as_list(search_query)\n",
    "            elif source == SearchSource.MAWSUAH:\n",
    "                search_results[source] = self.ms.run_as_list(search_query)\n",
    "\n",
    "        # Stage 2: Generate the final answer using search results\n",
    "        with dspy.context(lm=self.llm):\n",
    "            stage2_input = Stage2InputData(question=question, language=stage1_prediction.output.language, search_results=search_results)\n",
    "            stage2_prediction = self.stage2_predictor(input=stage2_input)\n",
    "            # pprint(stage2_prediction.output)\n",
    "        return dspy.Prediction(answer=stage2_prediction.output.answer, quran_search_results=\"||\".join(search_results[SearchSource.QURAN]), hadith_search_results=\"||\".join(search_results[SearchSource.HADITH]), mawsuah_search_results=\"||\".join(search_results[SearchSource.MAWSUAH]), target_language=stage1_prediction.output.language)\n",
    "    "
   ]
  },
  {
   "cell_type": "code",
   "execution_count": 7,
   "metadata": {},
   "outputs": [],
   "source": [
    "# question = \"kadinlarin basortusu takmalari sart mi?\"\n",
    "# ansari = AnsariFlow(openai_model_name=\"gpt-3.5-turbo\")\n",
    "# answer = ansari(question)\n",
    "# pprint(answer)"
   ]
  },
  {
   "cell_type": "code",
   "execution_count": 8,
   "metadata": {},
   "outputs": [],
   "source": [
    "# question = \"kadinlarin basortusu takmalari sart mi?\"\n",
    "# ansari4o = AnsariFlow(openai_model_name=\"gpt-4o\")\n",
    "# answer = ansari4o(question)\n",
    "# pprint(answer)"
   ]
  },
  {
   "cell_type": "code",
   "execution_count": 9,
   "metadata": {},
   "outputs": [],
   "source": [
    "# answer = ansari4o(\"Who is Allah?\")\n",
    "# pprint(answer.answer)"
   ]
  },
  {
   "cell_type": "code",
   "execution_count": 10,
   "metadata": {},
   "outputs": [],
   "source": [
    "class RelevanceSignature(dspy.Signature):\n",
    "    \"\"\"Assess the relevance of an answer.\"\"\"\n",
    "\n",
    "    question: str = dspy.InputField(desc=\"The question asked.\")\n",
    "    predicted_answer: str = dspy.InputField(desc=\"The answer given by the system.\")\n",
    "\n",
    "    relevance: str = dspy.OutputField(desc=\"How relevant is the answer to the question? Answer with one of: high, moderate, or low.\")\n",
    "\n",
    "class SemanticAndMentionsSignature(dspy.Signature):\n",
    "    \"\"\"Assess the semantic match and mentions of Ayah and Hadith in an answer.\"\"\"\n",
    "\n",
    "    ground_truth_answer: str = dspy.InputField(desc=\"The expert's correct answer.\")\n",
    "    predicted_answer: str = dspy.InputField(desc=\"The answer given by the system.\")\n",
    "\n",
    "    semantic_match: str = dspy.OutputField(desc=\"Do the system answer and the ground truth answer convey the same meaning? Answer with 'Yes' or 'No'.\")\n",
    "    mentions_ayah: str = dspy.OutputField(desc=\"Does the answer mention an Ayah? Answer with 'Yes' or 'No'.\")\n",
    "    mentions_hadith: str = dspy.OutputField(desc=\"Does the answer mention a Hadith? Answer with 'Yes' or 'No'.\")\n",
    "\n",
    "class FluencyAndAddressSignature(dspy.Signature):\n",
    "    \"\"\"Assess the fluency and completeness of an answer.\"\"\"\n",
    "\n",
    "    predicted_answer: str = dspy.InputField(desc=\"The answer given by the system.\")\n",
    "\n",
    "    is_concise: str = dspy.OutputField(desc=\"Is the predicted answer concise, succinct and to the point? Answer with 'Yes' or 'No'.\")\n",
    "    eloquent: str = dspy.OutputField(desc=\"Is the answer clear, fluent, engaging, native-sounding, articulate, smooth, easy to read, and easy to understand? Answer with 'Yes' or 'No'.\")\n",
    "    fully_addresses_question: str = dspy.OutputField(desc=\"Does the answer fully address the question? Answer with 'Yes' or 'No'.\")\n",
    "\n",
    "class TraditionAndToneSignature(dspy.Signature):\n",
    "    \"\"\"Assess the tradition and tone of an answer.\"\"\"\n",
    "\n",
    "    predicted_answer: str = dspy.InputField(desc=\"The answer given by the system.\")\n",
    "\n",
    "    sunni_tradition: str = dspy.OutputField(desc=\"Is the answer based on Sunni tradition? Answer with 'Yes' or 'No'.\")\n",
    "    gentle_tone: str = dspy.OutputField(desc=\"Is the tone gentle and non-judgmental? Answer with 'Yes' or 'No'.\")\n",
    "\n",
    "class QuranFormatSignature(dspy.Signature):\n",
    "    \"\"\"Evaluate the evidence citation and formatting of an answer.\"\"\"\n",
    "\n",
    "    predicted_answer: str = dspy.InputField(desc=\"The answer given by the system.\")\n",
    "    quran_search_results: list[str] = dspy.InputField(desc=\"List of search results from the Quran.\")\n",
    "    target_language: str = dspy.InputField(desc=\"The target language for the answer.\")\n",
    "\n",
    "    quran_format: str = dspy.OutputField(desc=\"Is the Quranic reference correctly formatted, including the ayah number, Arabic text, and translation (if the target language differs from Arabic)? Answer with 'Yes' or 'No'.\")\n",
    "    quran_quoting: str = dspy.OutputField(desc=\"Are the referenced ayahs quoted exclusively from the search results? Answer with 'Yes' or 'No'.\")\n",
    "    quran_translated: str = dspy.OutputField(desc=\"Are the mentioned ayahs translated into the target language? Answer with 'Yes' or 'No'.\")\n",
    "\n",
    "class HadithFormatSignature(dspy.Signature):\n",
    "    \"\"\"Evaluate the evidence citation and formatting of an answer.\"\"\"\n",
    "\n",
    "    predicted_answer: str = dspy.InputField(desc=\"The answer given by the system.\")\n",
    "    hadith_search_results: list[str] = dspy.InputField(desc=\"List of search results from the Hadith.\")\n",
    "    target_language: str = dspy.InputField(desc=\"The target language for the answer.\")\n",
    "\n",
    "    hadith_quoting: str = dspy.OutputField(desc=\"Are the referenced hadiths quoted exclusively from the search results? Answer with 'Yes' or 'No'.\")\n",
    "    hadith_format: str = dspy.OutputField(desc=\"Is the Hadith reference correctly formatted, including the collection, LK id, text, and grade? Answer with 'Yes' or 'No'.\")\n",
    "    external_hadith_format: str = dspy.OutputField(desc=\"Is the format for Hadiths not from the search results correct, as follows: 'I believe (though not 100% sure of the reference) there is a hadith that says: [text of hadith]'? Answer with 'Yes' or 'No'.\")\n",
    "\n",
    "class EvidenceCitationSignature(dspy.Signature):\n",
    "    \"\"\"Evaluate the evidence citation and formatting of an answer.\"\"\"\n",
    "\n",
    "    predicted_answer: str = dspy.InputField(desc=\"The answer given by the system.\")\n",
    "    cites_evidence: str = dspy.OutputField(desc=\"Is each assertion made in the answer directly supported by evidence? Answer with 'Yes' or 'No'.\")\n",
    "\n",
    "\n",
    "class ScholarReferenceSignature(dspy.Signature):\n",
    "    \"\"\"Assess the scholar references in an answer.\"\"\"\n",
    "\n",
    "    predicted_answer: str = dspy.InputField(desc=\"The answer given by the system.\")\n",
    "\n",
    "    vague_scholar_reference: str = dspy.OutputField(desc=\"Does the answer use vague scholar references? Answer with 'Yes' or 'No'.\")\n",
    "    cites_classical_scholars: str = dspy.OutputField(desc=\"Does the answer cite classical scholars? Answer with 'Yes' or 'No'.\")\n",
    "    cites_modern_scholars: str = dspy.OutputField(desc=\"Does the answer cite modern scholars? Answer with 'Yes' or 'No'.\")\n",
    "\n"
   ]
  },
  {
   "cell_type": "code",
   "execution_count": 11,
   "metadata": {},
   "outputs": [],
   "source": [
    "llm_evaluator = OpenAIWrapper(model='gpt-3.5-turbo', max_tokens=2000, model_type='chat', api_key=OPENAI_API_KEY)\n",
    "llm_gpt4o = OpenAIWrapper(model='gpt-4o', max_tokens=2000, model_type='chat', api_key=OPENAI_API_KEY)"
   ]
  },
  {
   "cell_type": "code",
   "execution_count": 12,
   "metadata": {},
   "outputs": [],
   "source": [
    "def evaluate_relevance(question, predicted_answer):\n",
    "    with dspy.context(lm=llm_evaluator):\n",
    "        evaluation = dspy.Predict(RelevanceSignature)(\n",
    "            question=question,\n",
    "            predicted_answer=predicted_answer\n",
    "        )\n",
    "        if 'high' in evaluation.relevance.lower():\n",
    "            return 2\n",
    "        elif 'moderate' in evaluation.relevance.lower():\n",
    "            return 1\n",
    "        elif 'low' in evaluation.relevance.lower():\n",
    "            return -1\n",
    "        else:\n",
    "            return 0\n",
    "\n",
    "def evaluate_semantic_and_mentions(ground_truth_answer, predicted_answer):\n",
    "    with dspy.context(lm=llm_evaluator):\n",
    "        evaluation = dspy.Predict(SemanticAndMentionsSignature)(\n",
    "            ground_truth_answer=ground_truth_answer,\n",
    "            predicted_answer=predicted_answer\n",
    "        )\n",
    "    return [\"yes\" in eval.lower() for eval in [evaluation.semantic_match, evaluation.mentions_ayah, evaluation.mentions_hadith]]\n",
    "\n",
    "def evaluate_fluency_and_address(predicted_answer):\n",
    "    with dspy.context(lm=llm_evaluator):\n",
    "        evaluation = dspy.Predict(FluencyAndAddressSignature)(\n",
    "            predicted_answer=predicted_answer\n",
    "        )\n",
    "    return [\"yes\" in eval.lower() for eval in [evaluation.is_concise, evaluation.eloquent, evaluation.fully_addresses_question]]\n",
    "\n",
    "def evaluate_tradition_and_tone(predicted_answer):\n",
    "    with dspy.context(lm=llm_evaluator):\n",
    "        evaluation = dspy.Predict(TraditionAndToneSignature)(\n",
    "            predicted_answer=predicted_answer\n",
    "        )\n",
    "    return [\"yes\" in eval.lower() for eval in [evaluation.sunni_tradition, evaluation.gentle_tone]]\n",
    "\n",
    "def evaluate_quran_format(predicted_answer, quran_search_results, target_language):\n",
    "    with dspy.context(lm=llm_evaluator):\n",
    "        evaluation = dspy.Predict(QuranFormatSignature)(\n",
    "            predicted_answer=predicted_answer,\n",
    "            quran_search_results=quran_search_results,\n",
    "            target_language=target_language\n",
    "        )\n",
    "    return [\"yes\" in eval.lower() for eval in [evaluation.quran_format, evaluation.quran_quoting, evaluation.quran_translated]]\n",
    "\n",
    "def evaluate_hadith_format(predicted_answer, hadith_search_results, target_language):\n",
    "    with dspy.context(lm=llm_evaluator):\n",
    "        evaluation = dspy.Predict(HadithFormatSignature)(\n",
    "            predicted_answer=predicted_answer,\n",
    "            hadith_search_results=hadith_search_results,\n",
    "            target_language=target_language\n",
    "        )\n",
    "    return [\"yes\" in eval.lower() for eval in [evaluation.hadith_quoting, evaluation.hadith_format, evaluation.external_hadith_format]]\n",
    "\n",
    "def evaluate_evidence(predicted_answer):\n",
    "    with dspy.context(lm=llm_evaluator):\n",
    "        evaluation = dspy.Predict(EvidenceCitationSignature)(\n",
    "            predicted_answer=predicted_answer\n",
    "        )\n",
    "    return [\"yes\" in eval.lower() for eval in [evaluation.cites_evidence]]\n",
    "\n",
    "def evaluate_scholar_reference(predicted_answer):\n",
    "    with dspy.context(lm=llm_evaluator):\n",
    "        evaluation = dspy.Predict(ScholarReferenceSignature)(\n",
    "            predicted_answer=predicted_answer\n",
    "        )\n",
    "    return [\"yes\" in eval.lower() for eval in [evaluation.cites_classical_scholars, evaluation.cites_modern_scholars]]\n",
    "\n",
    "\n",
    "def calculate_score(evaluations):\n",
    "    return sum(1 if evaluation else -1 for evaluation in evaluations)\n"
   ]
  },
  {
   "cell_type": "code",
   "execution_count": 13,
   "metadata": {},
   "outputs": [],
   "source": [
    "lang_detector = LanguageDetectorBuilder.from_all_languages().with_preloaded_language_models().build()\n",
    "\n",
    "def metric(gold, pred, trace=None):\n",
    "    question, ground_truth_answer = gold.question, gold.answer\n",
    "    evaluations = []\n",
    "    evaluations.extend(evaluate_semantic_and_mentions(ground_truth_answer, pred.answer))\n",
    "    evaluations.extend(evaluate_fluency_and_address(pred.answer))\n",
    "    evaluations.extend(evaluate_tradition_and_tone(pred.answer))\n",
    "    evaluations.extend(evaluate_quran_format(pred.answer, pred.quran_search_results, pred.target_language))\n",
    "    evaluations.extend(evaluate_hadith_format(pred.answer, pred.hadith_search_results, pred.target_language))\n",
    "    evaluations.extend(evaluate_evidence(pred.answer))\n",
    "    evaluations.extend(evaluate_scholar_reference(pred.answer))\n",
    "    evaluations.append(lang_detector.detect_language_of(question)==lang_detector.detect_language_of(pred.answer))\n",
    "    score = calculate_score(evaluations)\n",
    "    score += evaluate_relevance(question, pred.answer)\n",
    "    return score"
   ]
  },
  {
   "cell_type": "code",
   "execution_count": 14,
   "metadata": {},
   "outputs": [],
   "source": [
    "import json\n",
    "import random\n",
    "with open(\"yaqeen-what-islam-says-about.json\", \"r\") as f:\n",
    "    qa_pairs = json.load(f)[\"questions\"]\n",
    "    random.seed(2024)\n",
    "    random.shuffle(qa_pairs)\n",
    "    \n",
    "data = []\n",
    "for pair in qa_pairs:\n",
    "    question, answer = pair[\"question\"], pair[\"answer\"]\n",
    "    data.append(dspy.Example(question=question, answer=answer).with_inputs(\"question\"))\n",
    "\n",
    "train_set_size = int(len(qa_pairs) * 0.9)\n",
    "trainset, testset = data[:train_set_size], data[train_set_size:]\n"
   ]
  },
  {
   "cell_type": "code",
   "execution_count": 15,
   "metadata": {},
   "outputs": [],
   "source": [
    "# # if want to evaluate on devset before optimizing\n",
    "# from dspy.evaluate import Evaluate\n",
    "\n",
    "# NUM_THREADS = 5\n",
    "# evaluate = Evaluate(devset=devset, metric=metric, num_threads=NUM_THREADS, display_progress=True, display_table=False)\n",
    "# evaluate(AnsariFlow(openai_model_name=\"gpt-3.5-turbo\"), devset=trainset)"
   ]
  },
  {
   "cell_type": "code",
   "execution_count": 16,
   "metadata": {},
   "outputs": [],
   "source": [
    "dspy.settings.configure(lm=llm_evaluator)"
   ]
  },
  {
   "cell_type": "code",
   "execution_count": 17,
   "metadata": {},
   "outputs": [
    {
     "name": "stderr",
     "output_type": "stream",
     "text": [
      "\u001b[2m2024-06-04T12:25:27.103485Z\u001b[0m [\u001b[33m\u001b[1mwarning  \u001b[0m] \u001b[1mDeprecationWarning: 'verbose' has been deprecated. To see all information for debugging, use 'dspy.set_log_level('debug')'. In the future this will raise an error.\u001b[0m [\u001b[34m\u001b[1mdspy.teleprompt.copro_optimizer\u001b[0m] \u001b[36mfilename\u001b[0m=\u001b[35mcopro_optimizer.py\u001b[0m \u001b[36mlineno\u001b[0m=\u001b[35m78\u001b[0m\n"
     ]
    },
    {
     "name": "stdout",
     "output_type": "stream",
     "text": [
      "Searching quran for \"هل يسمح الإسلام بجرائم الشرف؟\"\n",
      "Searching quran for \"هل يقدم القرآن توجيهات حول كيفية التعامل مع الصدمة والألم؟\"\n",
      "Searching quran for \"أين الكعبة؟\"\n"
     ]
    },
    {
     "name": "stderr",
     "output_type": "stream",
     "text": [
      "  0%|          | 0/98 [00:00<?, ?it/s]"
     ]
    },
    {
     "name": "stdout",
     "output_type": "stream",
     "text": [
      "Searching quran for \"من يجب عليه أداء الحج؟\"Searching quran for \"هل يصوم المسلمون خارج رمضان؟\"\n",
      "\n",
      "Searching quran for \"ما هي الفتوى؟\"\n",
      "Searching quran for \"هل الردة يعاقب عليها بالإعدام في الإسلام؟\"\n",
      "Searching quran for \"ما معنى حلال؟\"\n",
      "Searching hadith for \"أين الكعبة؟\"\n",
      "Searching hadith for \"ما معنى حلال؟\"\n",
      "Searching hadith for \"هل توجد أحاديث تتعلق بجرائم الشرف؟\"\n",
      "Searching hadith for \"من يجب عليه أداء الحج؟\"\n",
      "Searching hadith for \"هل يعاقب المرتد بالإعدام في الإسلام؟\"\n",
      "Searching hadith for \"ما هي الفتوى؟\"\n",
      "Searching hadith for \"هل يصوم المسلمون خارج رمضان؟\"\n",
      "Searching hadith for \"هل تقدم السنة النبوية توجيهات حول كيفية التعامل مع الصدمة والألم؟\"\n",
      "Searching al-mawsuah for \"ما هو حكم الفقه الإسلامي في جرائم الشرف؟\"\n",
      "Searching al-mawsuah for \"من يجب عليه أداء الحج؟\"\n",
      "Searching al-mawsuah for \"أين الكعبة؟\"\n",
      "Searching al-mawsuah for \"ما معنى حلال؟\"\n",
      "Searching al-mawsuah for \"ما هي الفتوى؟\"\n",
      "Searching al-mawsuah for \"حكم الردة في الفقه الإسلامي\"\n",
      "Searching al-mawsuah for \"هل يصوم المسلمون خارج رمضان؟\"\n",
      "Searching al-mawsuah for \"كيفية التعامل مع الصدمة والألم في الفقه الإسلامي\"\n"
     ]
    },
    {
     "name": "stderr",
     "output_type": "stream",
     "text": [
      "Average Metric: 14 / 2  (700.0):   2%|▏         | 2/98 [00:13<09:06,  5.69s/it]"
     ]
    },
    {
     "name": "stdout",
     "output_type": "stream",
     "text": [
      "Searching quran for \"ما هو رمضان؟\"\n",
      "Searching quran for \"هل الإسلام يشجع على العنف؟\"\n",
      "Searching hadith for \"هل الإسلام يشجع على العنف؟\"\n",
      "Searching hadith for \"ما هو رمضان؟\"\n"
     ]
    },
    {
     "name": "stderr",
     "output_type": "stream",
     "text": [
      "Average Metric: 22 / 3  (733.3):   3%|▎         | 3/98 [00:14<05:46,  3.65s/it]"
     ]
    },
    {
     "name": "stdout",
     "output_type": "stream",
     "text": [
      "Searching quran for \"هل يسمح الإسلام بالحرب الوقائية؟\"\n",
      "Searching al-mawsuah for \"هل الإسلام يشجع على العنف؟\"\n",
      "Searching al-mawsuah for \"ما هو رمضان؟\"\n",
      "Searching hadith for \"هل يسمح الإسلام بالحرب الوقائية؟\"\n"
     ]
    },
    {
     "name": "stderr",
     "output_type": "stream",
     "text": [
      "Average Metric: 30 / 4  (750.0):   4%|▍         | 4/98 [00:16<04:06,  2.63s/it]"
     ]
    },
    {
     "name": "stdout",
     "output_type": "stream",
     "text": [
      "Searching quran for \"أهمية ليلة القدر\"\n"
     ]
    },
    {
     "name": "stderr",
     "output_type": "stream",
     "text": [
      "Average Metric: 38 / 5  (760.0):   5%|▌         | 5/98 [00:16<02:51,  1.84s/it]"
     ]
    },
    {
     "name": "stdout",
     "output_type": "stream",
     "text": [
      "Searching quran for \"كيف يصف القرآن السعادة؟ كيف يمكن تحقيقها في الإسلام؟\"\n",
      "Searching al-mawsuah for \"هل يسمح الإسلام بالحرب الوقائية؟\"\n",
      "Searching hadith for \"فضل ليلة القدر\"\n"
     ]
    },
    {
     "name": "stderr",
     "output_type": "stream",
     "text": [
      "Average Metric: 48 / 6  (800.0):   6%|▌         | 6/98 [00:17<02:27,  1.60s/it]"
     ]
    },
    {
     "name": "stdout",
     "output_type": "stream",
     "text": [
      "Searching hadith for \"كيف يصف الحديث السعادة؟ كيف يمكن تحقيقها في الإسلام؟\"\n",
      "Searching quran for \"هل يوفر الإسلام إرشادات حول كيفية التعامل مع الأمراض النفسية؟\"\n",
      "Searching al-mawsuah for \"أهمية ليلة القدر في الفقه الإسلامي\"\n",
      "Searching al-mawsuah for \"السعادة في الفقه الإسلامي وكيفية تحقيقها\"\n",
      "Searching hadith for \"هل هناك أحاديث تتحدث عن كيفية التعامل مع الأمراض النفسية؟\"\n"
     ]
    },
    {
     "name": "stderr",
     "output_type": "stream",
     "text": [
      "Average Metric: 54 / 7  (771.4):   7%|▋         | 7/98 [00:19<02:21,  1.56s/it]"
     ]
    },
    {
     "name": "stdout",
     "output_type": "stream",
     "text": [
      "Searching quran for \"ما هو رمضان؟\"\n",
      "Searching al-mawsuah for \"إرشادات الفقه الإسلامي حول التعامل مع الأمراض النفسية\"\n",
      "Searching hadith for \"ما هو رمضان؟\"\n",
      "Searching al-mawsuah for \"ما هو رمضان؟\"\n"
     ]
    },
    {
     "name": "stderr",
     "output_type": "stream",
     "text": [
      "Average Metric: 64 / 8  (800.0):   8%|▊         | 8/98 [00:22<03:24,  2.27s/it]"
     ]
    },
    {
     "name": "stdout",
     "output_type": "stream",
     "text": [
      "Searching quran for \"لماذا يصلي المسلمون يوميا؟\"\n",
      "Searching hadith for \"لماذا يصلي المسلمون يوميا؟\"\n",
      "Searching al-mawsuah for \"لماذا يصلي المسلمون يوميا؟\"\n"
     ]
    },
    {
     "name": "stderr",
     "output_type": "stream",
     "text": [
      "Average Metric: 72 / 9  (800.0):   9%|▉         | 9/98 [00:26<03:57,  2.66s/it]"
     ]
    },
    {
     "name": "stdout",
     "output_type": "stream",
     "text": [
      "Searching quran for \"كيف تصوم رمضان؟\"\n",
      "Searching hadith for \"كيف تصوم رمضان؟\"\n"
     ]
    },
    {
     "name": "stderr",
     "output_type": "stream",
     "text": [
      "Average Metric: 78 / 10  (780.0):  10%|█         | 10/98 [00:27<03:24,  2.33s/it]"
     ]
    },
    {
     "name": "stdout",
     "output_type": "stream",
     "text": [
      "Searching quran for \"كيف نعلم أن القرآن وحي إلهي؟\"\n",
      "Searching al-mawsuah for \"كيف تصوم رمضان؟\"\n",
      "Searching hadith for \"كيف نعلم أن القرآن وحي إلهي؟\"\n",
      "Searching al-mawsuah for \"كيف نعلم أن القرآن وحي إلهي؟\"\n"
     ]
    },
    {
     "name": "stderr",
     "output_type": "stream",
     "text": [
      "Average Metric: 86 / 11  (781.8):  11%|█         | 11/98 [00:30<03:39,  2.53s/it]"
     ]
    },
    {
     "name": "stdout",
     "output_type": "stream",
     "text": [
      "Searching quran for \"من يجب عليه الصيام في رمضان؟\"\n"
     ]
    },
    {
     "name": "stderr",
     "output_type": "stream",
     "text": [
      "Average Metric: 94 / 12  (783.3):  12%|█▏        | 12/98 [00:31<02:55,  2.04s/it]"
     ]
    },
    {
     "name": "stdout",
     "output_type": "stream",
     "text": [
      "Searching quran for \"هل التجديف يعاقب عليه بالإعدام؟\"\n",
      "Searching hadith for \"من يجب عليه الصيام في رمضان؟\"\n",
      "Searching al-mawsuah for \"من يجب عليه الصيام في رمضان؟\"\n",
      "Searching hadith for \"هل التجديف يعاقب عليه بالإعدام؟\"\n"
     ]
    },
    {
     "name": "stderr",
     "output_type": "stream",
     "text": [
      "Average Metric: 96 / 13  (738.5):  13%|█▎        | 13/98 [00:33<02:46,  1.96s/it]"
     ]
    },
    {
     "name": "stdout",
     "output_type": "stream",
     "text": [
      "Searching quran for \"ما هو الغرض من الصيام في رمضان؟\"\n",
      "Searching al-mawsuah for \"هل التجديف يعاقب عليه بالإعدام؟\"\n"
     ]
    },
    {
     "name": "stderr",
     "output_type": "stream",
     "text": [
      "Average Metric: 104 / 14  (742.9):  14%|█▍        | 14/98 [00:34<02:15,  1.62s/it]"
     ]
    },
    {
     "name": "stdout",
     "output_type": "stream",
     "text": [
      "Searching quran for \"ماذا يقدم الإسلام للناس؟\"\n",
      "Searching hadith for \"ما هو الغرض من الصيام في رمضان؟\"\n",
      "Searching al-mawsuah for \"ما هو الغرض من الصيام في رمضان؟\"\n",
      "Searching hadith for \"ماذا يقدم الإسلام للناس؟\"\n"
     ]
    },
    {
     "name": "stderr",
     "output_type": "stream",
     "text": [
      "Average Metric: 114 / 15  (760.0):  15%|█▌        | 15/98 [00:35<02:05,  1.51s/it]"
     ]
    },
    {
     "name": "stdout",
     "output_type": "stream",
     "text": [
      "Searching quran for \"مدة الصيام في رمضان\"\n",
      "Searching al-mawsuah for \"ماذا يقدم الإسلام للناس؟\"\n",
      "Searching hadith for \"مدة الصيام في رمضان\"\n"
     ]
    },
    {
     "name": "stderr",
     "output_type": "stream",
     "text": [
      "Average Metric: 118 / 16  (737.5):  16%|█▋        | 16/98 [00:37<02:05,  1.54s/it]"
     ]
    },
    {
     "name": "stdout",
     "output_type": "stream",
     "text": [
      "Searching al-mawsuah for \"مدة الصيام في رمضان\"\n",
      "Searching quran for \"كيف يُساء تفسير الجهاد كإرهاب؟\"\n",
      "Searching hadith for \"كيف يُساء تفسير الجهاد كإرهاب؟\"\n",
      "Searching al-mawsuah for \"كيف يُساء تفسير الجهاد كإرهاب؟\"\n"
     ]
    },
    {
     "name": "stderr",
     "output_type": "stream",
     "text": [
      "Average Metric: 126 / 17  (741.2):  17%|█▋        | 17/98 [00:39<02:16,  1.69s/it]"
     ]
    },
    {
     "name": "stdout",
     "output_type": "stream",
     "text": [
      "Searching quran for \"كيف يُساء تفسير الجهاد كإرهاب؟\"\n",
      "Searching hadith for \"كيف يُساء تفسير الجهاد كإرهاب؟\"\n",
      "Searching al-mawsuah for \"كيف يُساء تفسير الجهاد كإرهاب؟\"\n"
     ]
    },
    {
     "name": "stderr",
     "output_type": "stream",
     "text": [
      "Average Metric: 136 / 18  (755.6):  18%|█▊        | 18/98 [00:44<03:27,  2.59s/it]"
     ]
    },
    {
     "name": "stdout",
     "output_type": "stream",
     "text": [
      "Searching quran for \"أركان الإسلام الخمسة\"\n",
      "Searching hadith for \"أركان الإسلام الخمسة\"\n",
      "Searching al-mawsuah for \"أركان الإسلام الخمسة\"\n"
     ]
    },
    {
     "name": "stderr",
     "output_type": "stream",
     "text": [
      "Average Metric: 146 / 19  (768.4):  19%|█▉        | 19/98 [00:46<03:15,  2.48s/it]"
     ]
    },
    {
     "name": "stdout",
     "output_type": "stream",
     "text": [
      "Searching quran for \"كيف يعامل الإسلام الأقليات الدينية؟\"\n"
     ]
    },
    {
     "name": "stderr",
     "output_type": "stream",
     "text": [
      "Average Metric: 154 / 20  (770.0):  20%|██        | 20/98 [00:47<02:36,  2.01s/it]"
     ]
    },
    {
     "name": "stdout",
     "output_type": "stream",
     "text": [
      "Searching quran for \"ليلة القدر\"\n",
      "Searching hadith for \"معاملة الإسلام للأقليات الدينية\"\n"
     ]
    },
    {
     "name": "stderr",
     "output_type": "stream",
     "text": [
      "Average Metric: 164 / 21  (781.0):  21%|██▏       | 21/98 [00:47<01:53,  1.48s/it]"
     ]
    },
    {
     "name": "stdout",
     "output_type": "stream",
     "text": [
      "Searching quran for \"من هو الله\"\n",
      "Searching hadith for \"ما هي ليلة القدر\"\n",
      "Searching al-mawsuah for \"معاملة الأقليات الدينية في الفقه الإسلامي\"\n"
     ]
    },
    {
     "name": "stderr",
     "output_type": "stream",
     "text": [
      "Average Metric: 170 / 22  (772.7):  22%|██▏       | 22/98 [00:48<01:43,  1.36s/it]"
     ]
    },
    {
     "name": "stdout",
     "output_type": "stream",
     "text": [
      "Searching hadith for \"من هو الله\"\n",
      "Searching quran for \"هل يؤمن المسلمون بالروح القدس؟\"\n",
      "Searching al-mawsuah for \"ليلة القدر في الفقه الإسلامي\"\n",
      "Searching al-mawsuah for \"من هو الله\"\n",
      "Searching hadith for \"هل ذكر الروح القدس في الأحاديث؟\"\n",
      "Searching al-mawsuah for \"الإيمان بالروح القدس في الفقه الإسلامي\"\n"
     ]
    },
    {
     "name": "stderr",
     "output_type": "stream",
     "text": [
      "Average Metric: 176 / 23  (765.2):  23%|██▎       | 23/98 [00:51<02:26,  1.95s/it]"
     ]
    },
    {
     "name": "stdout",
     "output_type": "stream",
     "text": [
      "Searching quran for \"هل يؤمن المسلمون بالجنة والنار؟\"\n",
      "Searching hadith for \"هل ذكر النبي الجنة والنار؟\"\n",
      "Searching al-mawsuah for \"الإيمان بالجنة والنار في الفقه الإسلامي\"\n"
     ]
    },
    {
     "name": "stderr",
     "output_type": "stream",
     "text": [
      "Average Metric: 196 / 25  (784.0):  24%|██▍       | 24/98 [00:55<02:55,  2.38s/it]"
     ]
    },
    {
     "name": "stdout",
     "output_type": "stream",
     "text": [
      "Searching quran for \"ما معنى الجهاد؟\"\n",
      "Searching quran for \"أين يحدث الحج؟\"\n",
      "Searching hadith for \"أين يحدث الحج؟\"\n",
      "Searching hadith for \"ما معنى الجهاد؟\"\n",
      "Searching al-mawsuah for \"ما معنى الجهاد؟\"\n",
      "Searching al-mawsuah for \"أين يحدث الحج؟\"\n"
     ]
    },
    {
     "name": "stderr",
     "output_type": "stream",
     "text": [
      "Average Metric: 206 / 26  (792.3):  27%|██▋       | 26/98 [01:00<02:57,  2.47s/it]"
     ]
    },
    {
     "name": "stdout",
     "output_type": "stream",
     "text": [
      "Searching quran for \"أحكام الحرب في الإسلام\"\n"
     ]
    },
    {
     "name": "stderr",
     "output_type": "stream",
     "text": [
      "Average Metric: 216 / 27  (800.0):  28%|██▊       | 27/98 [01:00<02:18,  1.95s/it]"
     ]
    },
    {
     "name": "stdout",
     "output_type": "stream",
     "text": [
      "Searching quran for \"متى ليلة القدر؟\"\n",
      "Searching hadith for \"أحاديث عن أحكام الحرب في الإسلام\"\n",
      "Searching hadith for \"متى ليلة القدر؟\"\n",
      "Searching al-mawsuah for \"أحكام الحرب في الفقه الإسلامي\"\n",
      "Searching al-mawsuah for \"متى ليلة القدر؟\"\n"
     ]
    },
    {
     "name": "stderr",
     "output_type": "stream",
     "text": [
      "Average Metric: 222 / 28  (792.9):  29%|██▊       | 28/98 [01:02<02:18,  1.98s/it]"
     ]
    },
    {
     "name": "stdout",
     "output_type": "stream",
     "text": [
      "Searching quran for \"كم مرة يصلي المسلمون خلال رمضان؟\"\n"
     ]
    },
    {
     "name": "stderr",
     "output_type": "stream",
     "text": [
      "Average Metric: 228 / 29  (786.2):  30%|██▉       | 29/98 [01:03<01:44,  1.51s/it]"
     ]
    },
    {
     "name": "stdout",
     "output_type": "stream",
     "text": [
      "Searching quran for \"لماذا الكعبة مهمة؟\"\n",
      "Searching hadith for \"كم مرة يصلي المسلمون خلال رمضان؟\"\n",
      "Searching hadith for \"لماذا الكعبة مهمة؟\"\n",
      "Searching al-mawsuah for \"كم مرة يصلي المسلمون خلال رمضان؟\"\n",
      "Searching al-mawsuah for \"أهمية الكعبة في الفقه الإسلامي\"\n"
     ]
    },
    {
     "name": "stderr",
     "output_type": "stream",
     "text": [
      "Average Metric: 240 / 30  (800.0):  31%|███       | 30/98 [01:05<01:56,  1.71s/it]"
     ]
    },
    {
     "name": "stdout",
     "output_type": "stream",
     "text": [
      "Searching quran for \"لماذا يجب على المسلمين الصيام لمدة شهر كامل؟\"\n"
     ]
    },
    {
     "name": "stderr",
     "output_type": "stream",
     "text": [
      "Average Metric: 260 / 32  (812.5):  32%|███▏      | 31/98 [01:06<01:41,  1.52s/it]"
     ]
    },
    {
     "name": "stdout",
     "output_type": "stream",
     "text": [
      "Searching hadith for \"لماذا يجب على المسلمين الصيام لمدة شهر كامل؟\"\n",
      "Searching quran for \"كيف يمكن للمرء أن يطهر قلبه وروحه؟\"\n",
      "Searching quran for \"كيف يمكن فهم والتعامل مع الحزن والأسى في الإسلام؟\"\n",
      "Searching al-mawsuah for \"لماذا يجب على المسلمين الصيام لمدة شهر كامل؟\"\n",
      "Searching hadith for \"كيف يمكن فهم والتعامل مع الحزن والأسى في الإسلام؟\"\n",
      "Searching hadith for \"كيف يمكن للمرء أن يطهر قلبه وروحه؟\"\n",
      "Searching al-mawsuah for \"كيف يمكن فهم والتعامل مع الحزن والأسى في الإسلام؟\"Searching al-mawsuah for \"كيف يمكن للمرء أن يطهر قلبه وروحه؟\"\n",
      "\n"
     ]
    },
    {
     "name": "stderr",
     "output_type": "stream",
     "text": [
      "Average Metric: 272 / 33  (824.2):  34%|███▎      | 33/98 [01:12<02:30,  2.31s/it]"
     ]
    },
    {
     "name": "stdout",
     "output_type": "stream",
     "text": [
      "Searching quran for \"ما هي الكعبة؟\"\n"
     ]
    },
    {
     "name": "stderr",
     "output_type": "stream",
     "text": [
      "Average Metric: 276 / 34  (811.8):  35%|███▍      | 34/98 [01:13<02:06,  1.98s/it]"
     ]
    },
    {
     "name": "stdout",
     "output_type": "stream",
     "text": [
      "Searching hadith for \"ما هي الكعبة؟\"\n",
      "Searching quran for \"من هو النبي محمد؟\"\n"
     ]
    },
    {
     "name": "stderr",
     "output_type": "stream",
     "text": [
      "Average Metric: 290 / 36  (805.6):  37%|███▋      | 36/98 [01:14<01:12,  1.16s/it]"
     ]
    },
    {
     "name": "stdout",
     "output_type": "stream",
     "text": [
      "Searching quran for \"ما هي التزكية؟\"\n",
      "Searching quran for \"أحكام الحرب في الإسلام\"\n",
      "Searching al-mawsuah for \"ما هي الكعبة؟\"\n",
      "Searching hadith for \"من هو النبي محمد؟\"\n",
      "Searching hadith for \"ما هي التزكية؟\"\n",
      "Searching hadith for \"أحاديث عن أحكام الحرب في الإسلام\"\n",
      "Searching al-mawsuah for \"من هو النبي محمد؟\"\n",
      "Searching al-mawsuah for \"ما هي التزكية؟\"\n",
      "Searching al-mawsuah for \"أحكام الحرب في الفقه الإسلامي\"\n"
     ]
    },
    {
     "name": "stderr",
     "output_type": "stream",
     "text": [
      "Average Metric: 302 / 37  (816.2):  38%|███▊      | 37/98 [01:16<01:35,  1.57s/it]"
     ]
    },
    {
     "name": "stdout",
     "output_type": "stream",
     "text": [
      "Searching quran for \"ما الذي يعلمه الإسلام عن إدارة القلق والاكتئاب والشك الذاتي؟\"\n",
      "Searching hadith for \"ما الذي يعلمه الإسلام عن إدارة القلق والاكتئاب والشك الذاتي؟\"\n",
      "Searching al-mawsuah for \"ما الذي يعلمه الإسلام عن إدارة القلق والاكتئاب والشك الذاتي؟\"\n"
     ]
    },
    {
     "name": "stderr",
     "output_type": "stream",
     "text": [
      "Average Metric: 314 / 38  (826.3):  39%|███▉      | 38/98 [01:21<02:32,  2.53s/it]"
     ]
    },
    {
     "name": "stdout",
     "output_type": "stream",
     "text": [
      "Searching quran for \"أين تؤدى العمرة؟\"\n"
     ]
    },
    {
     "name": "stderr",
     "output_type": "stream",
     "text": [
      "Average Metric: 324 / 39  (830.8):  40%|███▉      | 39/98 [01:22<01:54,  1.94s/it]"
     ]
    },
    {
     "name": "stdout",
     "output_type": "stream",
     "text": [
      "Searching quran for \"كيف تكون الروحانية الإسلامية فريدة؟\"\n",
      "Searching hadith for \"أين تؤدى العمرة؟\"\n",
      "Searching hadith for \"كيف تكون الروحانية الإسلامية فريدة؟\"\n"
     ]
    },
    {
     "name": "stderr",
     "output_type": "stream",
     "text": [
      "Average Metric: 328 / 40  (820.0):  41%|████      | 40/98 [01:23<01:36,  1.67s/it]"
     ]
    },
    {
     "name": "stdout",
     "output_type": "stream",
     "text": [
      "Searching quran for \"كيف يفهم الإسلام الروح\"\n",
      "Searching al-mawsuah for \"كيف تكون الروحانية الإسلامية فريدة؟\"\n",
      "Searching hadith for \"فهم الروح في الإسلام\"\n",
      "Searching al-mawsuah for \"أين تؤدى العمرة؟\"\n",
      "Searching al-mawsuah for \"الروح في الفقه الإسلامي\"\n"
     ]
    },
    {
     "name": "stderr",
     "output_type": "stream",
     "text": [
      "Average Metric: 336 / 41  (819.5):  42%|████▏     | 41/98 [01:27<02:08,  2.26s/it]"
     ]
    },
    {
     "name": "stdout",
     "output_type": "stream",
     "text": [
      "Searching quran for \"من هو عيسى في الإسلام؟\"\n"
     ]
    },
    {
     "name": "stderr",
     "output_type": "stream",
     "text": [
      "Average Metric: 352 / 43  (818.6):  43%|████▎     | 42/98 [01:27<01:43,  1.84s/it]"
     ]
    },
    {
     "name": "stdout",
     "output_type": "stream",
     "text": [
      "Searching quran for \"ما هو الإسلام؟\"\n",
      "Searching hadith for \"من هو عيسى في الأحاديث؟\"\n",
      "Searching quran for \"متى رمضان؟\"\n",
      "Searching hadith for \"متى رمضان؟\"\n",
      "Searching hadith for \"ما هو الإسلام؟\"\n",
      "Searching al-mawsuah for \"من هو عيسى في الفقه الإسلامي؟\"\n",
      "Searching al-mawsuah for \"ما هو الإسلام؟\"\n",
      "Searching al-mawsuah for \"متى رمضان؟\"\n"
     ]
    },
    {
     "name": "stderr",
     "output_type": "stream",
     "text": [
      "Average Metric: 360 / 44  (818.2):  45%|████▍     | 44/98 [01:34<02:17,  2.56s/it]"
     ]
    },
    {
     "name": "stdout",
     "output_type": "stream",
     "text": [
      "Searching quran for \"كيف يعامل الإسلام الأقليات الدينية؟\"\n",
      "Searching hadith for \"معاملة الإسلام للأقليات الدينية\"\n"
     ]
    },
    {
     "name": "stderr",
     "output_type": "stream",
     "text": [
      "Average Metric: 366 / 45  (813.3):  46%|████▌     | 45/98 [01:36<02:02,  2.32s/it]"
     ]
    },
    {
     "name": "stdout",
     "output_type": "stream",
     "text": [
      "Searching al-mawsuah for \"معاملة الأقليات الدينية في الفقه الإسلامي\"\n",
      "Searching quran for \"كيف تتعلق الشريعة بطقوس العبادة؟\"\n",
      "Searching hadith for \"كيف تتعلق الشريعة بطقوس العبادة؟\"\n"
     ]
    },
    {
     "name": "stderr",
     "output_type": "stream",
     "text": [
      "Average Metric: 380 / 47  (808.5):  48%|████▊     | 47/98 [01:38<01:21,  1.60s/it]"
     ]
    },
    {
     "name": "stdout",
     "output_type": "stream",
     "text": [
      "Searching al-mawsuah for \"كيف تتعلق الشريعة بطقوس العبادة؟\"\n",
      "Searching quran for \"هل انتشر الإسلام بالعنف والإكراه؟\"\n",
      "Searching quran for \"لماذا يتم الاحتفال بشهر رمضان؟\"\n"
     ]
    },
    {
     "name": "stderr",
     "output_type": "stream",
     "text": [
      "Average Metric: 390 / 48  (812.5):  49%|████▉     | 48/98 [01:39<01:12,  1.45s/it]"
     ]
    },
    {
     "name": "stdout",
     "output_type": "stream",
     "text": [
      "Searching hadith for \"هل انتشر الإسلام بالعنف والإكراه؟\"\n",
      "Searching hadith for \"لماذا يتم الاحتفال بشهر رمضان؟\"\n",
      "Searching quran for \"من هو النبي إبراهيم؟\"\n",
      "Searching al-mawsuah for \"هل انتشر الإسلام بالعنف والإكراه؟\"\n",
      "Searching al-mawsuah for \"لماذا يتم الاحتفال بشهر رمضان؟\"\n"
     ]
    },
    {
     "name": "stderr",
     "output_type": "stream",
     "text": [
      "Average Metric: 396 / 49  (808.2):  50%|█████     | 49/98 [01:39<01:01,  1.26s/it]"
     ]
    },
    {
     "name": "stdout",
     "output_type": "stream",
     "text": [
      "Searching quran for \"ما هو زكاة الفطر؟\"\n",
      "Searching hadith for \"من هو النبي إبراهيم؟\"\n",
      "Searching hadith for \"ما هو زكاة الفطر؟\"\n",
      "Searching al-mawsuah for \"من هو النبي إبراهيم؟\"\n"
     ]
    },
    {
     "name": "stderr",
     "output_type": "stream",
     "text": [
      "Average Metric: 400 / 50  (800.0):  51%|█████     | 50/98 [01:41<01:01,  1.29s/it]"
     ]
    },
    {
     "name": "stdout",
     "output_type": "stream",
     "text": [
      "Searching quran for \"هل يسمح الإسلام بقتل المدنيين؟\"\n",
      "Searching al-mawsuah for \"ما هو زكاة الفطر؟\"\n",
      "Searching hadith for \"هل يسمح الإسلام بقتل المدنيين؟\"\n"
     ]
    },
    {
     "name": "stderr",
     "output_type": "stream",
     "text": [
      "Average Metric: 406 / 51  (796.1):  52%|█████▏    | 51/98 [01:42<00:58,  1.24s/it]"
     ]
    },
    {
     "name": "stdout",
     "output_type": "stream",
     "text": [
      "Searching quran for \"ما هو الفقه؟\"\n",
      "Searching al-mawsuah for \"هل يسمح الإسلام بقتل المدنيين؟\"\n",
      "Searching hadith for \"ما هو الفقه؟\"\n",
      "Searching al-mawsuah for \"ما هو الفقه؟\"\n"
     ]
    },
    {
     "name": "stderr",
     "output_type": "stream",
     "text": [
      "Average Metric: 412 / 52  (792.3):  53%|█████▎    | 52/98 [01:47<01:51,  2.42s/it]"
     ]
    },
    {
     "name": "stdout",
     "output_type": "stream",
     "text": [
      "Searching quran for \"كيف تتعلق الشريعة بالمجتمع؟\"\n",
      "Searching hadith for \"كيف تتعلق الشريعة بالمجتمع؟\"\n",
      "Searching al-mawsuah for \"كيف تتعلق الشريعة بالمجتمع؟\"\n"
     ]
    },
    {
     "name": "stderr",
     "output_type": "stream",
     "text": [
      "Average Metric: 424 / 54  (785.2):  55%|█████▌    | 54/98 [01:52<01:33,  2.13s/it]"
     ]
    },
    {
     "name": "stdout",
     "output_type": "stream",
     "text": [
      "Searching quran for \"أهمية الصدقة في رمضان\"\n",
      "Searching quran for \"القيود الغذائية في الإسلام\"\n"
     ]
    },
    {
     "name": "stderr",
     "output_type": "stream",
     "text": [
      "Average Metric: 430 / 55  (781.8):  56%|█████▌    | 55/98 [01:52<01:08,  1.58s/it]"
     ]
    },
    {
     "name": "stdout",
     "output_type": "stream",
     "text": [
      "Searching quran for \"ما هو القرآن؟\"\n"
     ]
    },
    {
     "name": "stderr",
     "output_type": "stream",
     "text": [
      "Average Metric: 450 / 57  (789.5):  57%|█████▋    | 56/98 [01:52<00:52,  1.25s/it]"
     ]
    },
    {
     "name": "stdout",
     "output_type": "stream",
     "text": [
      "Searching quran for \"من بنى الكعبة؟\"\n",
      "Searching hadith for \"فضل الصدقة في رمضان\"\n",
      "Searching quran for \"من أين تأتي الشريعة؟\"\n",
      "Searching hadith for \"القيود الغذائية في الإسلام\"\n",
      "Searching hadith for \"ما هو القرآن؟\"\n",
      "Searching al-mawsuah for \"الصدقة في رمضان\"\n",
      "Searching hadith for \"من بنى الكعبة؟\"\n",
      "Searching hadith for \"من أين تأتي الشريعة؟\"\n",
      "Searching al-mawsuah for \"القيود الغذائية في الإسلام\"\n",
      "Searching al-mawsuah for \"ما هو القرآن؟\"\n",
      "Searching al-mawsuah for \"من بنى الكعبة؟\"\n",
      "Searching al-mawsuah for \"مصادر الشريعة الإسلامية\"\n"
     ]
    },
    {
     "name": "stderr",
     "output_type": "stream",
     "text": [
      "Average Metric: 456 / 58  (786.2):  59%|█████▉    | 58/98 [01:57<01:13,  1.83s/it]"
     ]
    },
    {
     "name": "stdout",
     "output_type": "stream",
     "text": [
      "Searching quran for \"كيف يغذي الإسلام رفاهنا العاطفي؟\"\n"
     ]
    },
    {
     "name": "stderr",
     "output_type": "stream",
     "text": [
      "Average Metric: 464 / 59  (786.4):  60%|██████    | 59/98 [01:58<01:03,  1.62s/it]"
     ]
    },
    {
     "name": "stdout",
     "output_type": "stream",
     "text": [
      "Searching hadith for \"كيف يغذي الإسلام رفاهنا العاطفي؟\"\n",
      "Searching quran for \"كيفية أداء العمرة\"\n",
      "Searching al-mawsuah for \"كيف يغذي الإسلام رفاهنا العاطفي؟\"\n",
      "Searching hadith for \"كيفية أداء العمرة\"\n",
      "Searching al-mawsuah for \"كيفية أداء العمرة\"\n"
     ]
    },
    {
     "name": "stderr",
     "output_type": "stream",
     "text": [
      "Average Metric: 474 / 60  (790.0):  61%|██████    | 60/98 [02:03<01:34,  2.49s/it]"
     ]
    },
    {
     "name": "stdout",
     "output_type": "stream",
     "text": [
      "Searching quran for \"آيات القرآن للتعامل مع الضيق والشدائد\"\n",
      "Searching hadith for \"أحاديث عن التعامل مع الضيق والشدائد\"\n"
     ]
    },
    {
     "name": "stderr",
     "output_type": "stream",
     "text": [
      "Average Metric: 484 / 61  (793.4):  62%|██████▏   | 61/98 [02:05<01:19,  2.16s/it]"
     ]
    },
    {
     "name": "stdout",
     "output_type": "stream",
     "text": [
      "Searching quran for \"هل يقول القرآن بقتل غير المؤمنين؟\"\n",
      "Searching al-mawsuah for \"أحكام الفقه الإسلامي حول التعامل مع الضيق والشدائد\"\n"
     ]
    },
    {
     "name": "stderr",
     "output_type": "stream",
     "text": [
      "Average Metric: 492 / 62  (793.5):  63%|██████▎   | 62/98 [02:05<01:02,  1.74s/it]"
     ]
    },
    {
     "name": "stdout",
     "output_type": "stream",
     "text": [
      "Searching quran for \"هل التجديف يعاقب عليه بالإعدام؟\"\n",
      "Searching hadith for \"هل يوجد حديث يأمر بقتل غير المؤمنين؟\"\n"
     ]
    },
    {
     "name": "stderr",
     "output_type": "stream",
     "text": [
      "Average Metric: 502 / 63  (796.8):  64%|██████▍   | 63/98 [02:06<00:49,  1.41s/it]"
     ]
    },
    {
     "name": "stdout",
     "output_type": "stream",
     "text": [
      "Searching quran for \"هل يسمح الإسلام بقتل المدنيين؟\"\n",
      "Searching al-mawsuah for \"ما هو حكم قتل غير المؤمنين في الفقه الإسلامي؟\"\n",
      "Searching hadith for \"هل التجديف يعاقب عليه بالإعدام؟\"\n",
      "Searching hadith for \"هل يسمح الإسلام بقتل المدنيين؟\"\n"
     ]
    },
    {
     "name": "stderr",
     "output_type": "stream",
     "text": [
      "Average Metric: 508 / 64  (793.8):  65%|██████▌   | 64/98 [02:07<00:48,  1.41s/it]"
     ]
    },
    {
     "name": "stdout",
     "output_type": "stream",
     "text": [
      "Searching al-mawsuah for \"هل التجديف يعاقب عليه بالإعدام؟\"\n",
      "Searching quran for \"ما معنى الإسلام؟\"\n",
      "Searching al-mawsuah for \"هل يسمح الإسلام بقتل المدنيين؟\"\n"
     ]
    },
    {
     "name": "stderr",
     "output_type": "stream",
     "text": [
      "Average Metric: 526 / 66  (797.0):  66%|██████▋   | 65/98 [02:08<00:39,  1.20s/it]"
     ]
    },
    {
     "name": "stdout",
     "output_type": "stream",
     "text": [
      "Searching quran for \"ما هو عيد الفطر؟\"\n",
      "Searching quran for \"لماذا الحج مهم؟\"\n",
      "Searching hadith for \"ما معنى الإسلام في الحديث؟\"\n"
     ]
    },
    {
     "name": "stderr",
     "output_type": "stream",
     "text": [
      "Average Metric: 532 / 67  (794.0):  68%|██████▊   | 67/98 [02:08<00:21,  1.41it/s]"
     ]
    },
    {
     "name": "stdout",
     "output_type": "stream",
     "text": [
      "Searching quran for \"كيفية أداء الحج\"\n",
      "Searching hadith for \"ما هو عيد الفطر؟\"\n",
      "Searching hadith for \"أهمية الحج في الأحاديث\"\n",
      "Searching al-mawsuah for \"ما هو تعريف الإسلام في الفقه الإسلامي؟\"\n",
      "Searching hadith for \"كيفية أداء الحج\"\n",
      "Searching al-mawsuah for \"ما هو عيد الفطر؟\"\n",
      "Searching al-mawsuah for \"كيفية أداء الحج\"\n",
      "Searching al-mawsuah for \"أهمية الحج في الفقه الإسلامي\"\n"
     ]
    },
    {
     "name": "stderr",
     "output_type": "stream",
     "text": [
      "Average Metric: 540 / 68  (794.1):  69%|██████▉   | 68/98 [02:11<00:38,  1.27s/it]"
     ]
    },
    {
     "name": "stdout",
     "output_type": "stream",
     "text": [
      "Searching quran for \"هل يقول القرآن بقتل غير المؤمنين؟\"\n",
      "Searching hadith for \"هل يوجد حديث يأمر بقتل غير المؤمنين؟\"\n",
      "Searching al-mawsuah for \"ما هو حكم قتل غير المؤمنين في الفقه الإسلامي؟\"\n"
     ]
    },
    {
     "name": "stderr",
     "output_type": "stream",
     "text": [
      "Average Metric: 540 / 69  (782.6):  70%|███████   | 69/98 [02:14<00:47,  1.62s/it]"
     ]
    },
    {
     "name": "stdout",
     "output_type": "stream",
     "text": [
      "Searching quran for \"هل هناك استثناءات أو إعفاءات من الصيام؟\"\n",
      "Searching hadith for \"هل هناك استثناءات أو إعفاءات من الصيام؟\"\n",
      "Searching al-mawsuah for \"هل هناك استثناءات أو إعفاءات من الصيام؟\"\n"
     ]
    },
    {
     "name": "stderr",
     "output_type": "stream",
     "text": [
      "Average Metric: 546 / 70  (780.0):  71%|███████▏  | 70/98 [02:18<01:01,  2.21s/it]"
     ]
    },
    {
     "name": "stdout",
     "output_type": "stream",
     "text": [
      "Searching quran for \"ما هي العمرة؟\"\n"
     ]
    },
    {
     "name": "stderr",
     "output_type": "stream",
     "text": [
      "Average Metric: 552 / 71  (777.5):  72%|███████▏  | 71/98 [02:18<00:44,  1.67s/it]"
     ]
    },
    {
     "name": "stdout",
     "output_type": "stream",
     "text": [
      "Searching quran for \"هل انتشر الإسلام بالعنف والإكراه؟\"\n"
     ]
    },
    {
     "name": "stderr",
     "output_type": "stream",
     "text": [
      "Average Metric: 562 / 72  (780.6):  73%|███████▎  | 72/98 [02:18<00:33,  1.27s/it]"
     ]
    },
    {
     "name": "stdout",
     "output_type": "stream",
     "text": [
      "Searching quran for \"هل العمرة والحج نفس الشيء؟\"\n"
     ]
    },
    {
     "name": "stderr",
     "output_type": "stream",
     "text": [
      "Average Metric: 570 / 73  (780.8):  74%|███████▍  | 73/98 [02:19<00:26,  1.04s/it]"
     ]
    },
    {
     "name": "stdout",
     "output_type": "stream",
     "text": [
      "Searching hadith for \"ما هي العمرة؟\"\n",
      "Searching quran for \"ماذا يؤمن المسلمون؟\"\n",
      "Searching hadith for \"هل انتشر الإسلام بالعنف والإكراه؟\"\n",
      "Searching hadith for \"هل العمرة والحج نفس الشيء؟\"\n",
      "Searching al-mawsuah for \"ما هي العمرة؟\"\n",
      "Searching hadith for \"ماذا يؤمن المسلمون؟\"\n",
      "Searching al-mawsuah for \"هل انتشر الإسلام بالعنف والإكراه؟\"\n",
      "Searching al-mawsuah for \"هل العمرة والحج نفس الشيء؟\"\n"
     ]
    },
    {
     "name": "stderr",
     "output_type": "stream",
     "text": [
      "Average Metric: 580 / 74  (783.8):  76%|███████▌  | 74/98 [02:20<00:29,  1.23s/it]"
     ]
    },
    {
     "name": "stdout",
     "output_type": "stream",
     "text": [
      "Searching al-mawsuah for \"ماذا يؤمن المسلمون؟\"\n",
      "Searching quran for \"هل الشريعة موحدة وغير متغيرة؟\"\n",
      "Searching hadith for \"هل الشريعة موحدة وغير متغيرة؟\"\n"
     ]
    },
    {
     "name": "stderr",
     "output_type": "stream",
     "text": [
      "Average Metric: 586 / 75  (781.3):  77%|███████▋  | 75/98 [02:22<00:32,  1.42s/it]"
     ]
    },
    {
     "name": "stdout",
     "output_type": "stream",
     "text": [
      "Searching al-mawsuah for \"هل الشريعة موحدة وغير متغيرة؟\"\n",
      "Searching quran for \"ما هي الصدقة؟\"\n",
      "Searching hadith for \"ما هي الصدقة؟\"\n",
      "Searching al-mawsuah for \"ما هي الصدقة؟\"\n"
     ]
    },
    {
     "name": "stderr",
     "output_type": "stream",
     "text": [
      "Average Metric: 590 / 76  (776.3):  78%|███████▊  | 76/98 [02:25<00:41,  1.90s/it]"
     ]
    },
    {
     "name": "stdout",
     "output_type": "stream",
     "text": [
      "Searching quran for \"صلاة التراويح\"\n",
      "Searching hadith for \"صلاة التراويح\"\n"
     ]
    },
    {
     "name": "stderr",
     "output_type": "stream",
     "text": [
      "Average Metric: 602 / 77  (781.8):  79%|███████▊  | 77/98 [02:27<00:38,  1.82s/it]"
     ]
    },
    {
     "name": "stdout",
     "output_type": "stream",
     "text": [
      "Searching quran for \"ما هو التوحيد؟\"\n",
      "Searching al-mawsuah for \"صلاة التراويح\"\n",
      "Searching hadith for \"ما هو التوحيد؟\"\n",
      "Searching al-mawsuah for \"ما هو التوحيد؟\"\n"
     ]
    },
    {
     "name": "stderr",
     "output_type": "stream",
     "text": [
      "Average Metric: 608 / 78  (779.5):  80%|███████▉  | 78/98 [02:29<00:39,  1.99s/it]"
     ]
    },
    {
     "name": "stdout",
     "output_type": "stream",
     "text": [
      "Searching quran for \"ما معنى الجهاد؟\"\n"
     ]
    },
    {
     "name": "stderr",
     "output_type": "stream",
     "text": [
      "Average Metric: 616 / 79  (779.7):  81%|████████  | 79/98 [02:30<00:30,  1.62s/it]"
     ]
    },
    {
     "name": "stdout",
     "output_type": "stream",
     "text": [
      "Searching quran for \"كيف يتناول الإسلام القدر والإرادة الحرة؟\"\n",
      "Searching hadith for \"ما معنى الجهاد؟\"\n",
      "Searching hadith for \"كيف يتناول الإسلام القدر والإرادة الحرة؟\"\n",
      "Searching al-mawsuah for \"ما معنى الجهاد؟\"\n"
     ]
    },
    {
     "name": "stderr",
     "output_type": "stream",
     "text": [
      "Average Metric: 624 / 80  (780.0):  82%|████████▏ | 80/98 [02:31<00:28,  1.57s/it]"
     ]
    },
    {
     "name": "stdout",
     "output_type": "stream",
     "text": [
      "Searching quran for \"الطلاق في الإسلام\"\n"
     ]
    },
    {
     "name": "stderr",
     "output_type": "stream",
     "text": [
      "Average Metric: 630 / 81  (777.8):  83%|████████▎ | 81/98 [02:32<00:19,  1.17s/it]"
     ]
    },
    {
     "name": "stdout",
     "output_type": "stream",
     "text": [
      "Searching al-mawsuah for \"كيف يتناول الإسلام القدر والإرادة الحرة؟\"\n",
      "Searching quran for \"ما هي الأعياد التي يحتفل بها المسلمون؟\"\n"
     ]
    },
    {
     "name": "stderr",
     "output_type": "stream",
     "text": [
      "Average Metric: 638 / 82  (778.0):  84%|████████▎ | 82/98 [02:32<00:15,  1.04it/s]"
     ]
    },
    {
     "name": "stdout",
     "output_type": "stream",
     "text": [
      "Searching quran for \"هل الوسواس القهري نتيجة وساوس الشيطان؟\"\n",
      "Searching hadith for \"حديث عن الطلاق\"\n",
      "Searching hadith for \"ما هي الأعياد التي يحتفل بها المسلمون؟\"\n",
      "Searching hadith for \"هل الوسواس القهري نتيجة وساوس الشيطان؟\"\n",
      "Searching al-mawsuah for \"الطلاق في الفقه الإسلامي\"\n"
     ]
    },
    {
     "name": "stderr",
     "output_type": "stream",
     "text": [
      "Average Metric: 644 / 83  (775.9):  85%|████████▍ | 83/98 [02:33<00:15,  1.01s/it]"
     ]
    },
    {
     "name": "stdout",
     "output_type": "stream",
     "text": [
      "Searching quran for \"كيف نعرف أن الله موجود؟\"\n",
      "Searching al-mawsuah for \"ما هي الأعياد التي يحتفل بها المسلمون؟\"\n",
      "Searching al-mawsuah for \"هل الوسواس القهري نتيجة وساوس الشيطان؟\"\n",
      "Searching hadith for \"كيف نعرف أن الله موجود؟\"\n",
      "Searching al-mawsuah for \"كيف نعرف أن الله موجود؟\"\n"
     ]
    },
    {
     "name": "stderr",
     "output_type": "stream",
     "text": [
      "Average Metric: 650 / 84  (773.8):  86%|████████▌ | 84/98 [02:41<00:40,  2.88s/it]"
     ]
    },
    {
     "name": "stdout",
     "output_type": "stream",
     "text": [
      "Searching quran for \"تاريخ الشريعة\"\n",
      "Searching hadith for \"تاريخ الشريعة\"\n"
     ]
    },
    {
     "name": "stderr",
     "output_type": "stream",
     "text": [
      "Average Metric: 654 / 85  (769.4):  87%|████████▋ | 85/98 [02:42<00:32,  2.51s/it]"
     ]
    },
    {
     "name": "stdout",
     "output_type": "stream",
     "text": [
      "Searching al-mawsuah for \"تاريخ الشريعة\"\n",
      "Searching quran for \"هل يسمح الإسلام بالحرب الوقائية؟\"\n",
      "Searching hadith for \"هل يسمح الإسلام بالحرب الوقائية؟\"\n"
     ]
    },
    {
     "name": "stderr",
     "output_type": "stream",
     "text": [
      "Average Metric: 660 / 86  (767.4):  88%|████████▊ | 86/98 [02:44<00:27,  2.29s/it]"
     ]
    },
    {
     "name": "stdout",
     "output_type": "stream",
     "text": [
      "Searching al-mawsuah for \"هل يسمح الإسلام بالحرب الوقائية؟\"\n",
      "Searching quran for \"الوحي في الإسلام\"\n"
     ]
    },
    {
     "name": "stderr",
     "output_type": "stream",
     "text": [
      "Average Metric: 668 / 87  (767.8):  89%|████████▉ | 87/98 [02:45<00:20,  1.83s/it]"
     ]
    },
    {
     "name": "stdout",
     "output_type": "stream",
     "text": [
      "Searching quran for \"هل الإسلام يشجع على العنف؟\"\n",
      "Searching hadith for \"الوحي في الإسلام\"\n"
     ]
    },
    {
     "name": "stderr",
     "output_type": "stream",
     "text": [
      "Average Metric: 684 / 89  (768.5):  91%|█████████ | 89/98 [02:46<00:09,  1.10s/it]"
     ]
    },
    {
     "name": "stdout",
     "output_type": "stream",
     "text": [
      "Searching quran for \"ما هي أهمية الحج؟\"\n",
      "Searching quran for \"لماذا يطلب الله من الناس عبادته؟\"\n",
      "Searching al-mawsuah for \"الوحي في الإسلام\"\n",
      "Searching hadith for \"هل الإسلام يشجع على العنف؟\"\n",
      "Searching hadith for \"ما هي أهمية الحج؟\"\n",
      "Searching al-mawsuah for \"هل الإسلام يشجع على العنف؟\"\n",
      "Searching hadith for \"لماذا يطلب الله من الناس عبادته؟\"\n"
     ]
    },
    {
     "name": "stderr",
     "output_type": "stream",
     "text": [
      "Average Metric: 692 / 90  (768.9):  92%|█████████▏| 90/98 [02:47<00:08,  1.07s/it]"
     ]
    },
    {
     "name": "stdout",
     "output_type": "stream",
     "text": [
      "Searching quran for \"هل يؤمن المسلمون بصلب عيسى؟\"\n"
     ]
    },
    {
     "name": "stderr",
     "output_type": "stream",
     "text": [
      "Average Metric: 700 / 91  (769.2):  93%|█████████▎| 91/98 [02:47<00:06,  1.08it/s]"
     ]
    },
    {
     "name": "stdout",
     "output_type": "stream",
     "text": [
      "Searching al-mawsuah for \"ما هي أهمية الحج؟\"\n",
      "Searching al-mawsuah for \"لماذا يطلب الله من الناس عبادته؟\"\n",
      "Searching hadith for \"هل ورد في الأحاديث أن المسلمين يؤمنون بصلب عيسى؟\"\n"
     ]
    },
    {
     "name": "stderr",
     "output_type": "stream",
     "text": [
      "Average Metric: 704 / 92  (765.2):  94%|█████████▍| 92/98 [02:48<00:05,  1.05it/s]"
     ]
    },
    {
     "name": "stdout",
     "output_type": "stream",
     "text": [
      "Searching al-mawsuah for \"موقف الفقه الإسلامي من صلب عيسى\"\n"
     ]
    },
    {
     "name": "stderr",
     "output_type": "stream",
     "text": [
      "Average Metric: 752 / 98  (767.3): 100%|██████████| 98/98 [03:18<00:00,  2.03s/it]\n"
     ]
    },
    {
     "name": "stdout",
     "output_type": "stream",
     "text": [
      "Searching quran for \"أين الكعبة؟\"\n",
      "Searching quran for \"من يجب عليه أداء الحج؟\"\n",
      "Searching quran for \"هل يسمح الإسلام بجرائم الشرف؟\"\n",
      "Searching quran for \"هل يصوم المسلمون خارج رمضان؟\"\n",
      "Searching quran for \"هل يقدم القرآن توجيهات حول كيفية التعامل مع الصدمة والألم؟\"\n",
      "Searching quran for \"ما هي الفتوى؟\"\n",
      "Searching quran for \"ما معنى حلال؟\"\n",
      "Searching quran for \"هل الردة يعاقب عليها بالإعدام في الإسلام؟\"\n"
     ]
    },
    {
     "name": "stderr",
     "output_type": "stream",
     "text": [
      "  0%|          | 0/98 [00:00<?, ?it/s]"
     ]
    },
    {
     "name": "stdout",
     "output_type": "stream",
     "text": [
      "Searching hadith for \"هل تقدم السنة النبوية توجيهات حول كيفية التعامل مع الصدمة والألم؟\"\n",
      "Searching hadith for \"أين الكعبة؟\"\n",
      "Searching hadith for \"من يجب عليه أداء الحج؟\"\n",
      "Searching hadith for \"ما معنى حلال؟\"\n",
      "Searching hadith for \"هل توجد أحاديث تتعلق بجرائم الشرف؟\"\n",
      "Searching hadith for \"ما هي الفتوى؟\"\n",
      "Searching hadith for \"هل يصوم المسلمون خارج رمضان؟\"\n",
      "Searching hadith for \"هل يعاقب المرتد بالإعدام في الإسلام؟\"\n",
      "Searching al-mawsuah for \"من يجب عليه أداء الحج؟\"\n",
      "Searching al-mawsuah for \"ما هو حكم الفقه الإسلامي في جرائم الشرف؟\"\n",
      "Searching al-mawsuah for \"كيفية التعامل مع الصدمة والألم في الفقه الإسلامي\"\n",
      "Searching al-mawsuah for \"أين الكعبة؟\"\n",
      "Searching al-mawsuah for \"ما هي الفتوى؟\"\n",
      "Searching al-mawsuah for \"ما معنى حلال؟\"\n",
      "Searching al-mawsuah for \"هل يصوم المسلمون خارج رمضان؟\"\n",
      "Searching al-mawsuah for \"حكم الردة في الفقه الإسلامي\"\n"
     ]
    },
    {
     "name": "stderr",
     "output_type": "stream",
     "text": [
      "Average Metric: 54 / 7  (771.4):   6%|▌         | 6/98 [00:02<01:01,  1.49it/s]"
     ]
    },
    {
     "name": "stdout",
     "output_type": "stream",
     "text": [
      "Searching quran for \"ما هو رمضان؟\"\n",
      "Searching quran for \"هل الإسلام يشجع على العنف؟\"\n",
      "Searching quran for \"هل يسمح الإسلام بالحرب الوقائية؟\"\n",
      "Searching quran for \"أهمية ليلة القدر\"\n",
      "Searching quran for \"كيف يصف القرآن السعادة؟ كيف يمكن تحقيقها في الإسلام؟\"\n",
      "Searching quran for \"هل يوفر الإسلام إرشادات حول كيفية التعامل مع الأمراض النفسية؟\"\n",
      "Searching quran for \"ما هو رمضان؟\"\n"
     ]
    },
    {
     "name": "stderr",
     "output_type": "stream",
     "text": [
      "Average Metric: 64 / 8  (800.0):   8%|▊         | 8/98 [00:02<00:18,  4.93it/s]"
     ]
    },
    {
     "name": "stdout",
     "output_type": "stream",
     "text": [
      "Searching quran for \"لماذا يصلي المسلمون يوميا؟\"\n",
      "Searching hadith for \"فضل ليلة القدر\"\n",
      "Searching hadith for \"هل الإسلام يشجع على العنف؟\"\n",
      "Searching hadith for \"ما هو رمضان؟\"\n",
      "Searching hadith for \"ما هو رمضان؟\"\n",
      "Searching hadith for \"هل هناك أحاديث تتحدث عن كيفية التعامل مع الأمراض النفسية؟\"\n",
      "Searching hadith for \"هل يسمح الإسلام بالحرب الوقائية؟\"\n",
      "Searching hadith for \"لماذا يصلي المسلمون يوميا؟\"\n",
      "Searching hadith for \"كيف يصف الحديث السعادة؟ كيف يمكن تحقيقها في الإسلام؟\"\n",
      "Searching al-mawsuah for \"أهمية ليلة القدر في الفقه الإسلامي\"\n",
      "Searching al-mawsuah for \"هل الإسلام يشجع على العنف؟\"\n",
      "Searching al-mawsuah for \"ما هو رمضان؟\"\n",
      "Searching al-mawsuah for \"ما هو رمضان؟\"\n",
      "Searching al-mawsuah for \"إرشادات الفقه الإسلامي حول التعامل مع الأمراض النفسية\"\n",
      "Searching al-mawsuah for \"السعادة في الفقه الإسلامي وكيفية تحقيقها\"\n",
      "Searching al-mawsuah for \"هل يسمح الإسلام بالحرب الوقائية؟\"\n",
      "Searching al-mawsuah for \"لماذا يصلي المسلمون يوميا؟\"\n"
     ]
    },
    {
     "name": "stderr",
     "output_type": "stream",
     "text": [
      "Average Metric: 100 / 13  (769.2):  12%|█▏        | 12/98 [00:05<00:35,  2.42it/s]"
     ]
    },
    {
     "name": "stdout",
     "output_type": "stream",
     "text": [
      "Searching quran for \"كيف تصوم رمضان؟\"\n",
      "Searching quran for \"كيف نعلم أن القرآن وحي إلهي؟\"\n",
      "Searching quran for \"من يجب عليه الصيام في رمضان؟\"\n",
      "Searching quran for \"هل التجديف يعاقب عليه بالإعدام؟\"\n",
      "Searching quran for \"ما هو الغرض من الصيام في رمضان؟\"\n"
     ]
    },
    {
     "name": "stderr",
     "output_type": "stream",
     "text": [
      "Average Metric: 112 / 15  (746.7):  14%|█▍        | 14/98 [00:05<00:23,  3.50it/s]"
     ]
    },
    {
     "name": "stdout",
     "output_type": "stream",
     "text": [
      "Searching quran for \"ماذا يقدم الإسلام للناس؟\"\n",
      "Searching quran for \"مدة الصيام في رمضان\"\n"
     ]
    },
    {
     "name": "stderr",
     "output_type": "stream",
     "text": [
      "Average Metric: 114 / 16  (712.5):  16%|█▋        | 16/98 [00:05<00:25,  3.20it/s]"
     ]
    },
    {
     "name": "stdout",
     "output_type": "stream",
     "text": [
      "Searching hadith for \"كيف تصوم رمضان؟\"\n",
      "Searching hadith for \"هل التجديف يعاقب عليه بالإعدام؟\"\n",
      "Searching hadith for \"كيف نعلم أن القرآن وحي إلهي؟\"\n",
      "Searching hadith for \"من يجب عليه الصيام في رمضان؟\"\n",
      "Searching quran for \"كيف يُساء تفسير الجهاد كإرهاب؟\"\n",
      "Searching hadith for \"ما هو الغرض من الصيام في رمضان؟\"\n",
      "Searching hadith for \"مدة الصيام في رمضان\"\n",
      "Searching hadith for \"ماذا يقدم الإسلام للناس؟\"\n",
      "Searching al-mawsuah for \"كيف تصوم رمضان؟\"\n",
      "Searching al-mawsuah for \"كيف نعلم أن القرآن وحي إلهي؟\"\n",
      "Searching al-mawsuah for \"هل التجديف يعاقب عليه بالإعدام؟\"\n",
      "Searching al-mawsuah for \"من يجب عليه الصيام في رمضان؟\"\n",
      "Searching al-mawsuah for \"ما هو الغرض من الصيام في رمضان؟\"\n",
      "Searching al-mawsuah for \"مدة الصيام في رمضان\"\n",
      "Searching al-mawsuah for \"ماذا يقدم الإسلام للناس؟\"\n",
      "Searching hadith for \"كيف يُساء تفسير الجهاد كإرهاب؟\"\n"
     ]
    },
    {
     "name": "stderr",
     "output_type": "stream",
     "text": [
      "Average Metric: 122 / 17  (717.6):  16%|█▋        | 16/98 [00:07<00:25,  3.20it/s]"
     ]
    },
    {
     "name": "stdout",
     "output_type": "stream",
     "text": [
      "Searching quran for \"كيف يُساء تفسير الجهاد كإرهاب؟\"\n"
     ]
    },
    {
     "name": "stderr",
     "output_type": "stream",
     "text": [
      "Average Metric: 146 / 20  (730.0):  19%|█▉        | 19/98 [00:07<00:33,  2.34it/s]"
     ]
    },
    {
     "name": "stdout",
     "output_type": "stream",
     "text": [
      "Searching quran for \"كيف يعامل الإسلام الأقليات الدينية؟\"\n",
      "Searching quran for \"أركان الإسلام الخمسة\"\n",
      "Searching quran for \"ليلة القدر\"\n",
      "Searching quran for \"هل يؤمن المسلمون بالروح القدس؟\"\n",
      "Searching al-mawsuah for \"كيف يُساء تفسير الجهاد كإرهاب؟\"\n"
     ]
    },
    {
     "name": "stderr",
     "output_type": "stream",
     "text": [
      "Average Metric: 172 / 23  (747.8):  22%|██▏       | 22/98 [00:07<00:26,  2.82it/s]"
     ]
    },
    {
     "name": "stdout",
     "output_type": "stream",
     "text": [
      "Searching quran for \"من هو الله\"Searching quran for \"هل يؤمن المسلمون بالجنة والنار؟\"\n",
      "\n",
      "Searching hadith for \"كيف يُساء تفسير الجهاد كإرهاب؟\"\n"
     ]
    },
    {
     "name": "stderr",
     "output_type": "stream",
     "text": [
      "Average Metric: 182 / 24  (758.3):  24%|██▍       | 24/98 [00:08<00:20,  3.62it/s]"
     ]
    },
    {
     "name": "stdout",
     "output_type": "stream",
     "text": [
      "Searching hadith for \"معاملة الإسلام للأقليات الدينية\"\n",
      "Searching hadith for \"أركان الإسلام الخمسة\"\n",
      "Searching quran for \"ما معنى الجهاد؟\"\n",
      "Searching hadith for \"ما هي ليلة القدر\"\n",
      "Searching hadith for \"هل ذكر الروح القدس في الأحاديث؟\"\n",
      "Searching hadith for \"من هو الله\"\n",
      "Searching hadith for \"هل ذكر النبي الجنة والنار؟\"\n",
      "Searching al-mawsuah for \"كيف يُساء تفسير الجهاد كإرهاب؟\"\n",
      "Searching al-mawsuah for \"معاملة الأقليات الدينية في الفقه الإسلامي\"\n",
      "Searching al-mawsuah for \"أركان الإسلام الخمسة\"\n",
      "Searching al-mawsuah for \"ليلة القدر في الفقه الإسلامي\"\n",
      "Searching hadith for \"ما معنى الجهاد؟\"\n",
      "Searching al-mawsuah for \"الإيمان بالروح القدس في الفقه الإسلامي\"\n"
     ]
    },
    {
     "name": "stderr",
     "output_type": "stream",
     "text": [
      "Average Metric: 198 / 26  (761.5):  27%|██▋       | 26/98 [00:09<00:25,  2.82it/s]"
     ]
    },
    {
     "name": "stdout",
     "output_type": "stream",
     "text": [
      "Searching al-mawsuah for \"من هو الله\"\n",
      "Searching quran for \"أين يحدث الحج؟\"\n",
      "Searching al-mawsuah for \"الإيمان بالجنة والنار في الفقه الإسلامي\"\n",
      "Searching quran for \"أحكام الحرب في الإسلام\"\n"
     ]
    },
    {
     "name": "stderr",
     "output_type": "stream",
     "text": [
      "Average Metric: 216 / 28  (771.4):  29%|██▊       | 28/98 [00:10<00:20,  3.42it/s]"
     ]
    },
    {
     "name": "stdout",
     "output_type": "stream",
     "text": [
      "Searching quran for \"متى ليلة القدر؟\"\n",
      "Searching al-mawsuah for \"ما معنى الجهاد؟\"\n",
      "Searching quran for \"كم مرة يصلي المسلمون خلال رمضان؟\"\n"
     ]
    },
    {
     "name": "stderr",
     "output_type": "stream",
     "text": [
      "Average Metric: 226 / 29  (779.3):  30%|██▉       | 29/98 [00:10<00:18,  3.75it/s]"
     ]
    },
    {
     "name": "stdout",
     "output_type": "stream",
     "text": [
      "Searching quran for \"لماذا الكعبة مهمة؟\"\n",
      "Searching hadith for \"أين يحدث الحج؟\"\n"
     ]
    },
    {
     "name": "stderr",
     "output_type": "stream",
     "text": [
      "Average Metric: 244 / 31  (787.1):  31%|███       | 30/98 [00:10<00:17,  3.83it/s]"
     ]
    },
    {
     "name": "stdout",
     "output_type": "stream",
     "text": [
      "Searching quran for \"لماذا يجب على المسلمين الصيام لمدة شهر كامل؟\"\n",
      "Searching quran for \"كيف يمكن فهم والتعامل مع الحزن والأسى في الإسلام؟\"\n",
      "Searching hadith for \"متى ليلة القدر؟\"\n",
      "Searching hadith for \"أحاديث عن أحكام الحرب في الإسلام\"\n"
     ]
    },
    {
     "name": "stderr",
     "output_type": "stream",
     "text": [
      "Average Metric: 250 / 32  (781.2):  33%|███▎      | 32/98 [00:10<00:15,  4.36it/s]"
     ]
    },
    {
     "name": "stdout",
     "output_type": "stream",
     "text": [
      "Searching hadith for \"كم مرة يصلي المسلمون خلال رمضان؟\"\n",
      "Searching quran for \"كيف يمكن للمرء أن يطهر قلبه وروحه؟\"\n",
      "Searching hadith for \"لماذا الكعبة مهمة؟\"\n",
      "Searching al-mawsuah for \"أين يحدث الحج؟\"\n",
      "Searching al-mawsuah for \"متى ليلة القدر؟\"\n",
      "Searching hadith for \"كيف يمكن فهم والتعامل مع الحزن والأسى في الإسلام؟\"\n",
      "Searching hadith for \"لماذا يجب على المسلمين الصيام لمدة شهر كامل؟\"\n",
      "Searching al-mawsuah for \"أحكام الحرب في الفقه الإسلامي\"\n",
      "Searching al-mawsuah for \"كم مرة يصلي المسلمون خلال رمضان؟\"\n",
      "Searching hadith for \"كيف يمكن للمرء أن يطهر قلبه وروحه؟\"\n",
      "Searching al-mawsuah for \"أهمية الكعبة في الفقه الإسلامي\"\n"
     ]
    },
    {
     "name": "stderr",
     "output_type": "stream",
     "text": [
      "Average Metric: 270 / 34  (794.1):  35%|███▍      | 34/98 [00:12<00:22,  2.79it/s]"
     ]
    },
    {
     "name": "stdout",
     "output_type": "stream",
     "text": [
      "Searching quran for \"ما هي الكعبة؟\"\n",
      "Searching quran for \"من هو النبي محمد؟\"\n",
      "Searching al-mawsuah for \"كيف يمكن فهم والتعامل مع الحزن والأسى في الإسلام؟\"\n",
      "Searching al-mawsuah for \"لماذا يجب على المسلمين الصيام لمدة شهر كامل؟\"\n"
     ]
    },
    {
     "name": "stderr",
     "output_type": "stream",
     "text": [
      "Average Metric: 286 / 36  (794.4):  36%|███▌      | 35/98 [00:12<00:21,  2.99it/s]"
     ]
    },
    {
     "name": "stdout",
     "output_type": "stream",
     "text": [
      "Searching quran for \"ما هي التزكية؟\"\n",
      "Searching quran for \"أحكام الحرب في الإسلام\"\n",
      "Searching al-mawsuah for \"كيف يمكن للمرء أن يطهر قلبه وروحه؟\"\n"
     ]
    },
    {
     "name": "stderr",
     "output_type": "stream",
     "text": [
      "Average Metric: 302 / 38  (794.7):  39%|███▉      | 38/98 [00:12<00:14,  4.01it/s]"
     ]
    },
    {
     "name": "stdout",
     "output_type": "stream",
     "text": [
      "Searching quran for \"ما الذي يعلمه الإسلام عن إدارة القلق والاكتئاب والشك الذاتي؟\"\n",
      "Searching hadith for \"ما هي الكعبة؟\"\n",
      "Searching quran for \"أين تؤدى العمرة؟\"\n"
     ]
    },
    {
     "name": "stderr",
     "output_type": "stream",
     "text": [
      "Average Metric: 312 / 39  (800.0):  40%|███▉      | 39/98 [00:12<00:12,  4.70it/s]"
     ]
    },
    {
     "name": "stdout",
     "output_type": "stream",
     "text": [
      "Searching hadith for \"من هو النبي محمد؟\"\n",
      "Searching quran for \"كيف تكون الروحانية الإسلامية فريدة؟\"\n"
     ]
    },
    {
     "name": "stderr",
     "output_type": "stream",
     "text": [
      "Average Metric: 320 / 40  (800.0):  41%|████      | 40/98 [00:13<00:13,  4.35it/s]"
     ]
    },
    {
     "name": "stdout",
     "output_type": "stream",
     "text": [
      "Searching hadith for \"ما هي التزكية؟\"\n",
      "Searching quran for \"كيف يفهم الإسلام الروح\"\n",
      "Searching hadith for \"أحاديث عن أحكام الحرب في الإسلام\"\n",
      "Searching hadith for \"ما الذي يعلمه الإسلام عن إدارة القلق والاكتئاب والشك الذاتي؟\"\n",
      "Searching al-mawsuah for \"ما هي الكعبة؟\"\n",
      "Searching hadith for \"كيف تكون الروحانية الإسلامية فريدة؟\"\n",
      "Searching al-mawsuah for \"من هو النبي محمد؟\"\n",
      "Searching al-mawsuah for \"ما هي التزكية؟\"\n",
      "Searching hadith for \"فهم الروح في الإسلام\"\n",
      "Searching al-mawsuah for \"أحكام الحرب في الفقه الإسلامي\"\n",
      "Searching hadith for \"أين تؤدى العمرة؟\"\n"
     ]
    },
    {
     "name": "stderr",
     "output_type": "stream",
     "text": [
      "Average Metric: 326 / 41  (795.1):  42%|████▏     | 41/98 [00:14<00:29,  1.91it/s]"
     ]
    },
    {
     "name": "stdout",
     "output_type": "stream",
     "text": [
      "Searching al-mawsuah for \"ما الذي يعلمه الإسلام عن إدارة القلق والاكتئاب والشك الذاتي؟\"\n",
      "Searching quran for \"من هو عيسى في الإسلام؟\"\n"
     ]
    },
    {
     "name": "stderr",
     "output_type": "stream",
     "text": [
      "Average Metric: 342 / 43  (795.3):  44%|████▍     | 43/98 [00:14<00:17,  3.09it/s]"
     ]
    },
    {
     "name": "stdout",
     "output_type": "stream",
     "text": [
      "Searching al-mawsuah for \"كيف تكون الروحانية الإسلامية فريدة؟\"\n",
      "Searching quran for \"ما هو الإسلام؟\"\n",
      "Searching quran for \"متى رمضان؟\"\n"
     ]
    },
    {
     "name": "stderr",
     "output_type": "stream",
     "text": [
      "Average Metric: 354 / 44  (804.5):  45%|████▍     | 44/98 [00:15<00:16,  3.36it/s]"
     ]
    },
    {
     "name": "stdout",
     "output_type": "stream",
     "text": [
      "Searching quran for \"كيف يعامل الإسلام الأقليات الدينية؟\"\n",
      "Searching al-mawsuah for \"الروح في الفقه الإسلامي\"\n"
     ]
    },
    {
     "name": "stderr",
     "output_type": "stream",
     "text": [
      "Average Metric: 364 / 46  (791.3):  47%|████▋     | 46/98 [00:15<00:12,  4.08it/s]"
     ]
    },
    {
     "name": "stdout",
     "output_type": "stream",
     "text": [
      "Searching quran for \"كيف تتعلق الشريعة بطقوس العبادة؟\"\n",
      "Searching quran for \"هل انتشر الإسلام بالعنف والإكراه؟\"\n",
      "Searching hadith for \"من هو عيسى في الأحاديث؟\"\n",
      "Searching al-mawsuah for \"أين تؤدى العمرة؟\"\n",
      "Searching hadith for \"ما هو الإسلام؟\"\n",
      "Searching hadith for \"متى رمضان؟\"\n"
     ]
    },
    {
     "name": "stderr",
     "output_type": "stream",
     "text": [
      "Average Metric: 374 / 47  (795.7):  48%|████▊     | 47/98 [00:15<00:15,  3.28it/s]"
     ]
    },
    {
     "name": "stdout",
     "output_type": "stream",
     "text": [
      "Searching hadith for \"معاملة الإسلام للأقليات الدينية\"\n",
      "Searching quran for \"لماذا يتم الاحتفال بشهر رمضان؟\"\n",
      "Searching hadith for \"كيف تتعلق الشريعة بطقوس العبادة؟\"\n",
      "Searching hadith for \"هل انتشر الإسلام بالعنف والإكراه؟\"\n",
      "Searching al-mawsuah for \"ما هو الإسلام؟\"\n"
     ]
    },
    {
     "name": "stderr",
     "output_type": "stream",
     "text": [
      "Average Metric: 382 / 48  (795.8):  49%|████▉     | 48/98 [00:16<00:17,  2.79it/s]"
     ]
    },
    {
     "name": "stdout",
     "output_type": "stream",
     "text": [
      "Searching quran for \"من هو النبي إبراهيم؟\"\n",
      "Searching al-mawsuah for \"من هو عيسى في الفقه الإسلامي؟\"\n",
      "Searching al-mawsuah for \"متى رمضان؟\"\n",
      "Searching al-mawsuah for \"معاملة الأقليات الدينية في الفقه الإسلامي\"\n",
      "Searching hadith for \"لماذا يتم الاحتفال بشهر رمضان؟\"\n",
      "Searching al-mawsuah for \"كيف تتعلق الشريعة بطقوس العبادة؟\"\n",
      "Searching al-mawsuah for \"هل انتشر الإسلام بالعنف والإكراه؟\"\n"
     ]
    },
    {
     "name": "stderr",
     "output_type": "stream",
     "text": [
      "Average Metric: 408 / 52  (784.6):  52%|█████▏    | 51/98 [00:17<00:14,  3.28it/s]"
     ]
    },
    {
     "name": "stdout",
     "output_type": "stream",
     "text": [
      "Searching quran for \"ما هو زكاة الفطر؟\"Searching quran for \"هل يسمح الإسلام بقتل المدنيين؟\"\n",
      "\n",
      "Searching hadith for \"من هو النبي إبراهيم؟\"\n",
      "Searching quran for \"ما هو الفقه؟\"\n",
      "Searching al-mawsuah for \"لماذا يتم الاحتفال بشهر رمضان؟\"\n",
      "Searching quran for \"كيف تتعلق الشريعة بالمجتمع؟\"\n"
     ]
    },
    {
     "name": "stderr",
     "output_type": "stream",
     "text": [
      "Average Metric: 428 / 54  (792.6):  55%|█████▌    | 54/98 [00:17<00:09,  4.71it/s]"
     ]
    },
    {
     "name": "stdout",
     "output_type": "stream",
     "text": [
      "Searching quran for \"أهمية الصدقة في رمضان\"\n",
      "Searching quran for \"القيود الغذائية في الإسلام\"\n"
     ]
    },
    {
     "name": "stderr",
     "output_type": "stream",
     "text": [
      "Average Metric: 436 / 55  (792.7):  56%|█████▌    | 55/98 [00:18<00:11,  3.74it/s]"
     ]
    },
    {
     "name": "stdout",
     "output_type": "stream",
     "text": [
      "Searching hadith for \"هل يسمح الإسلام بقتل المدنيين؟\"\n",
      "Searching hadith for \"ما هو زكاة الفطر؟\"\n",
      "Searching al-mawsuah for \"من هو النبي إبراهيم؟\"\n",
      "Searching hadith for \"كيف تتعلق الشريعة بالمجتمع؟\"\n",
      "Searching quran for \"ما هو القرآن؟\"\n",
      "Searching hadith for \"ما هو الفقه؟\"\n",
      "Searching hadith for \"فضل الصدقة في رمضان\"\n",
      "Searching hadith for \"القيود الغذائية في الإسلام\"\n",
      "Searching al-mawsuah for \"ما هو زكاة الفطر؟\"\n",
      "Searching al-mawsuah for \"هل يسمح الإسلام بقتل المدنيين؟\"\n",
      "Searching quran for \"من بنى الكعبة؟\"\n"
     ]
    },
    {
     "name": "stderr",
     "output_type": "stream",
     "text": [
      "Average Metric: 442 / 56  (789.3):  57%|█████▋    | 56/98 [00:19<00:17,  2.45it/s]"
     ]
    },
    {
     "name": "stdout",
     "output_type": "stream",
     "text": [
      "Searching al-mawsuah for \"كيف تتعلق الشريعة بالمجتمع؟\"\n",
      "Searching hadith for \"ما هو القرآن؟\"\n",
      "Searching al-mawsuah for \"ما هو الفقه؟\"\n",
      "Searching al-mawsuah for \"الصدقة في رمضان\"\n"
     ]
    },
    {
     "name": "stderr",
     "output_type": "stream",
     "text": [
      "Average Metric: 452 / 58  (779.3):  58%|█████▊    | 57/98 [00:19<00:18,  2.25it/s]"
     ]
    },
    {
     "name": "stdout",
     "output_type": "stream",
     "text": [
      "Searching al-mawsuah for \"القيود الغذائية في الإسلام\"\n",
      "Searching quran for \"من أين تأتي الشريعة؟\"\n",
      "Searching quran for \"كيف يغذي الإسلام رفاهنا العاطفي؟\"\n"
     ]
    },
    {
     "name": "stderr",
     "output_type": "stream",
     "text": [
      "Average Metric: 470 / 60  (783.3):  60%|██████    | 59/98 [00:19<00:11,  3.32it/s]"
     ]
    },
    {
     "name": "stdout",
     "output_type": "stream",
     "text": [
      "Searching al-mawsuah for \"ما هو القرآن؟\"\n",
      "Searching hadith for \"من بنى الكعبة؟\"\n",
      "Searching quran for \"كيفية أداء العمرة\"\n",
      "Searching quran for \"آيات القرآن للتعامل مع الضيق والشدائد\"\n"
     ]
    },
    {
     "name": "stderr",
     "output_type": "stream",
     "text": [
      "Average Metric: 476 / 61  (780.3):  62%|██████▏   | 61/98 [00:20<00:08,  4.17it/s]"
     ]
    },
    {
     "name": "stdout",
     "output_type": "stream",
     "text": [
      "Searching quran for \"هل يقول القرآن بقتل غير المؤمنين؟\"\n"
     ]
    },
    {
     "name": "stderr",
     "output_type": "stream",
     "text": [
      "Average Metric: 486 / 62  (783.9):  63%|██████▎   | 62/98 [00:20<00:09,  3.66it/s]"
     ]
    },
    {
     "name": "stdout",
     "output_type": "stream",
     "text": [
      "Searching hadith for \"من أين تأتي الشريعة؟\"\n",
      "Searching hadith for \"كيف يغذي الإسلام رفاهنا العاطفي؟\"\n",
      "Searching quran for \"هل التجديف يعاقب عليه بالإعدام؟\"\n"
     ]
    },
    {
     "name": "stderr",
     "output_type": "stream",
     "text": [
      "Average Metric: 496 / 63  (787.3):  64%|██████▍   | 63/98 [00:20<00:08,  3.99it/s]"
     ]
    },
    {
     "name": "stdout",
     "output_type": "stream",
     "text": [
      "Searching quran for \"هل يسمح الإسلام بقتل المدنيين؟\"\n",
      "Searching hadith for \"كيفية أداء العمرة\"\n",
      "Searching al-mawsuah for \"من بنى الكعبة؟\"\n",
      "Searching hadith for \"أحاديث عن التعامل مع الضيق والشدائد\"\n",
      "Searching hadith for \"هل يوجد حديث يأمر بقتل غير المؤمنين؟\"\n",
      "Searching hadith for \"هل التجديف يعاقب عليه بالإعدام؟\"\n",
      "Searching al-mawsuah for \"مصادر الشريعة الإسلامية\"\n",
      "Searching al-mawsuah for \"كيف يغذي الإسلام رفاهنا العاطفي؟\"\n",
      "Searching al-mawsuah for \"كيفية أداء العمرة\"\n",
      "Searching hadith for \"هل يسمح الإسلام بقتل المدنيين؟\"\n"
     ]
    },
    {
     "name": "stderr",
     "output_type": "stream",
     "text": [
      "Average Metric: 504 / 64  (787.5):  65%|██████▌   | 64/98 [00:21<00:14,  2.36it/s]"
     ]
    },
    {
     "name": "stdout",
     "output_type": "stream",
     "text": [
      "Searching al-mawsuah for \"أحكام الفقه الإسلامي حول التعامل مع الضيق والشدائد\"\n",
      "Searching quran for \"ما معنى الإسلام؟\"\n",
      "Searching al-mawsuah for \"ما هو حكم قتل غير المؤمنين في الفقه الإسلامي؟\"\n"
     ]
    },
    {
     "name": "stderr",
     "output_type": "stream",
     "text": [
      "Average Metric: 522 / 67  (779.1):  67%|██████▋   | 66/98 [00:22<00:14,  2.28it/s]"
     ]
    },
    {
     "name": "stdout",
     "output_type": "stream",
     "text": [
      "Searching quran for \"ما هو عيد الفطر؟\"\n",
      "Searching al-mawsuah for \"هل التجديف يعاقب عليه بالإعدام؟\"\n",
      "Searching quran for \"لماذا الحج مهم؟\"\n",
      "Searching quran for \"كيفية أداء الحج\"\n",
      "Searching al-mawsuah for \"هل يسمح الإسلام بقتل المدنيين؟\"\n"
     ]
    },
    {
     "name": "stderr",
     "output_type": "stream",
     "text": [
      "Average Metric: 532 / 68  (782.4):  69%|██████▉   | 68/98 [00:22<00:07,  4.04it/s]"
     ]
    },
    {
     "name": "stdout",
     "output_type": "stream",
     "text": [
      "Searching quran for \"هل يقول القرآن بقتل غير المؤمنين؟\"\n",
      "Searching hadith for \"ما معنى الإسلام في الحديث؟\"\n"
     ]
    },
    {
     "name": "stderr",
     "output_type": "stream",
     "text": [
      "Average Metric: 538 / 69  (779.7):  70%|███████   | 69/98 [00:22<00:07,  4.09it/s]"
     ]
    },
    {
     "name": "stdout",
     "output_type": "stream",
     "text": [
      "Searching quran for \"هل هناك استثناءات أو إعفاءات من الصيام؟\"\n"
     ]
    },
    {
     "name": "stderr",
     "output_type": "stream",
     "text": [
      "Average Metric: 552 / 71  (777.5):  71%|███████▏  | 70/98 [00:22<00:07,  3.87it/s]"
     ]
    },
    {
     "name": "stdout",
     "output_type": "stream",
     "text": [
      "Searching quran for \"ما هي العمرة؟\"\n",
      "Searching quran for \"هل انتشر الإسلام بالعنف والإكراه؟\"\n",
      "Searching hadith for \"أهمية الحج في الأحاديث\"\n",
      "Searching hadith for \"ما هو عيد الفطر؟\"\n",
      "Searching hadith for \"كيفية أداء الحج\"\n",
      "Searching hadith for \"هل يوجد حديث يأمر بقتل غير المؤمنين؟\"\n",
      "Searching al-mawsuah for \"ما هو تعريف الإسلام في الفقه الإسلامي؟\"\n",
      "Searching hadith for \"هل هناك استثناءات أو إعفاءات من الصيام؟\"\n",
      "Searching hadith for \"ما هي العمرة؟\"\n",
      "Searching hadith for \"هل انتشر الإسلام بالعنف والإكراه؟\"\n",
      "Searching al-mawsuah for \"أهمية الحج في الفقه الإسلامي\"\n",
      "Searching al-mawsuah for \"ما هو عيد الفطر؟\"\n",
      "Searching al-mawsuah for \"كيفية أداء الحج\"\n",
      "Searching al-mawsuah for \"ما هو حكم قتل غير المؤمنين في الفقه الإسلامي؟\"\n"
     ]
    },
    {
     "name": "stderr",
     "output_type": "stream",
     "text": [
      "Average Metric: 560 / 72  (777.8):  73%|███████▎  | 72/98 [00:24<00:10,  2.41it/s]"
     ]
    },
    {
     "name": "stdout",
     "output_type": "stream",
     "text": [
      "Searching quran for \"هل العمرة والحج نفس الشيء؟\"\n",
      "Searching al-mawsuah for \"هل هناك استثناءات أو إعفاءات من الصيام؟\"\n",
      "Searching al-mawsuah for \"هل انتشر الإسلام بالعنف والإكراه؟\"\n"
     ]
    },
    {
     "name": "stderr",
     "output_type": "stream",
     "text": [
      "Average Metric: 576 / 75  (768.0):  76%|███████▌  | 74/98 [00:24<00:09,  2.48it/s]"
     ]
    },
    {
     "name": "stdout",
     "output_type": "stream",
     "text": [
      "Searching al-mawsuah for \"ما هي العمرة؟\"\n",
      "Searching quran for \"ماذا يؤمن المسلمون؟\"\n",
      "Searching quran for \"هل الشريعة موحدة وغير متغيرة؟\"\n",
      "Searching quran for \"ما هي الصدقة؟\"\n"
     ]
    },
    {
     "name": "stderr",
     "output_type": "stream",
     "text": [
      "Average Metric: 582 / 76  (765.8):  78%|███████▊  | 76/98 [00:24<00:05,  3.72it/s]"
     ]
    },
    {
     "name": "stdout",
     "output_type": "stream",
     "text": [
      "Searching quran for \"صلاة التراويح\"\n",
      "Searching hadith for \"هل العمرة والحج نفس الشيء؟\"\n"
     ]
    },
    {
     "name": "stderr",
     "output_type": "stream",
     "text": [
      "Average Metric: 612 / 79  (774.7):  81%|████████  | 79/98 [00:25<00:03,  5.27it/s]"
     ]
    },
    {
     "name": "stdout",
     "output_type": "stream",
     "text": [
      "Searching quran for \"ما هو التوحيد؟\"\n",
      "Searching quran for \"ما معنى الجهاد؟\"\n",
      "Searching quran for \"كيف يتناول الإسلام القدر والإرادة الحرة؟\"\n",
      "Searching hadith for \"ماذا يؤمن المسلمون؟\"\n",
      "Searching hadith for \"هل الشريعة موحدة وغير متغيرة؟\"\n",
      "Searching hadith for \"ما هي الصدقة؟\"\n",
      "Searching al-mawsuah for \"هل العمرة والحج نفس الشيء؟\"\n",
      "Searching hadith for \"صلاة التراويح\"\n",
      "Searching hadith for \"ما هو التوحيد؟\"\n",
      "Searching hadith for \"ما معنى الجهاد؟\"\n",
      "Searching hadith for \"كيف يتناول الإسلام القدر والإرادة الحرة؟\"\n",
      "Searching al-mawsuah for \"ماذا يؤمن المسلمون؟\"\n",
      "Searching al-mawsuah for \"ما هي الصدقة؟\"\n",
      "Searching al-mawsuah for \"هل الشريعة موحدة وغير متغيرة؟\"\n"
     ]
    },
    {
     "name": "stderr",
     "output_type": "stream",
     "text": [
      "Average Metric: 620 / 80  (775.0):  82%|████████▏ | 80/98 [00:26<00:07,  2.49it/s]"
     ]
    },
    {
     "name": "stdout",
     "output_type": "stream",
     "text": [
      "Searching quran for \"الطلاق في الإسلام\"\n",
      "Searching al-mawsuah for \"صلاة التراويح\"\n",
      "Searching al-mawsuah for \"ما معنى الجهاد؟\"\n"
     ]
    },
    {
     "name": "stderr",
     "output_type": "stream",
     "text": [
      "Average Metric: 628 / 81  (775.3):  83%|████████▎ | 81/98 [00:26<00:07,  2.43it/s]"
     ]
    },
    {
     "name": "stdout",
     "output_type": "stream",
     "text": [
      "Searching al-mawsuah for \"ما هو التوحيد؟\"\n",
      "Searching al-mawsuah for \"كيف يتناول الإسلام القدر والإرادة الحرة؟\"\n",
      "Searching quran for \"ما هي الأعياد التي يحتفل بها المسلمون؟\"\n"
     ]
    },
    {
     "name": "stderr",
     "output_type": "stream",
     "text": [
      "Average Metric: 638 / 83  (768.7):  84%|████████▎ | 82/98 [00:27<00:05,  2.81it/s]"
     ]
    },
    {
     "name": "stdout",
     "output_type": "stream",
     "text": [
      "Searching quran for \"كيف نعرف أن الله موجود؟\"\n",
      "Searching quran for \"هل الوسواس القهري نتيجة وساوس الشيطان؟\"\n"
     ]
    },
    {
     "name": "stderr",
     "output_type": "stream",
     "text": [
      "Average Metric: 650 / 85  (764.7):  86%|████████▌ | 84/98 [00:27<00:03,  3.69it/s]"
     ]
    },
    {
     "name": "stdout",
     "output_type": "stream",
     "text": [
      "Searching hadith for \"حديث عن الطلاق\"\n",
      "Searching quran for \"تاريخ الشريعة\"\n",
      "Searching quran for \"هل يسمح الإسلام بالحرب الوقائية؟\"\n"
     ]
    },
    {
     "name": "stderr",
     "output_type": "stream",
     "text": [
      "Average Metric: 662 / 87  (760.9):  88%|████████▊ | 86/98 [00:27<00:02,  4.38it/s]"
     ]
    },
    {
     "name": "stdout",
     "output_type": "stream",
     "text": [
      "Searching quran for \"الوحي في الإسلام\"\n",
      "Searching quran for \"هل الإسلام يشجع على العنف؟\"\n",
      "Searching hadith for \"ما هي الأعياد التي يحتفل بها المسلمون؟\"\n",
      "Searching hadith for \"هل الوسواس القهري نتيجة وساوس الشيطان؟\"\n",
      "Searching hadith for \"كيف نعرف أن الله موجود؟\"\n",
      "Searching al-mawsuah for \"الطلاق في الفقه الإسلامي\"\n",
      "Searching hadith for \"تاريخ الشريعة\"\n",
      "Searching hadith for \"هل يسمح الإسلام بالحرب الوقائية؟\"\n",
      "Searching hadith for \"هل الإسلام يشجع على العنف؟\"\n",
      "Searching hadith for \"الوحي في الإسلام\"\n",
      "Searching al-mawsuah for \"ما هي الأعياد التي يحتفل بها المسلمون؟\"\n"
     ]
    },
    {
     "name": "stderr",
     "output_type": "stream",
     "text": [
      "Average Metric: 670 / 88  (761.4):  90%|████████▉ | 88/98 [00:28<00:03,  2.84it/s]"
     ]
    },
    {
     "name": "stdout",
     "output_type": "stream",
     "text": [
      "Searching al-mawsuah for \"هل الوسواس القهري نتيجة وساوس الشيطان؟\"\n",
      "Searching al-mawsuah for \"كيف نعرف أن الله موجود؟\"\n",
      "Searching al-mawsuah for \"تاريخ الشريعة\"\n",
      "Searching quran for \"ما هي أهمية الحج؟\"\n",
      "Searching al-mawsuah for \"هل يسمح الإسلام بالحرب الوقائية؟\"\n",
      "Searching al-mawsuah for \"هل الإسلام يشجع على العنف؟\"\n",
      "Searching al-mawsuah for \"الوحي في الإسلام\"\n"
     ]
    },
    {
     "name": "stderr",
     "output_type": "stream",
     "text": [
      "Average Metric: 700 / 92  (760.9):  93%|█████████▎| 91/98 [00:29<00:01,  3.65it/s]"
     ]
    },
    {
     "name": "stdout",
     "output_type": "stream",
     "text": [
      "Searching quran for \"لماذا يطلب الله من الناس عبادته؟\"\n",
      "Searching quran for \"هل يؤمن المسلمون بصلب عيسى؟\"\n"
     ]
    },
    {
     "name": "stderr",
     "output_type": "stream",
     "text": [
      "Average Metric: 708 / 93  (761.3):  95%|█████████▍| 93/98 [00:29<00:01,  4.33it/s]"
     ]
    },
    {
     "name": "stdout",
     "output_type": "stream",
     "text": [
      "Searching hadith for \"ما هي أهمية الحج؟\"\n"
     ]
    },
    {
     "name": "stderr",
     "output_type": "stream",
     "text": [
      "Average Metric: 724 / 95  (762.1):  96%|█████████▌| 94/98 [00:30<00:00,  4.49it/s]"
     ]
    },
    {
     "name": "stdout",
     "output_type": "stream",
     "text": [
      "Searching hadith for \"هل ورد في الأحاديث أن المسلمين يؤمنون بصلب عيسى؟\"\n",
      "Searching hadith for \"لماذا يطلب الله من الناس عبادته؟\"\n",
      "Searching al-mawsuah for \"ما هي أهمية الحج؟\"\n",
      "Searching al-mawsuah for \"موقف الفقه الإسلامي من صلب عيسى\"\n",
      "Searching al-mawsuah for \"لماذا يطلب الله من الناس عبادته؟\"\n"
     ]
    },
    {
     "name": "stderr",
     "output_type": "stream",
     "text": [
      "Average Metric: 748 / 98  (763.3): 100%|██████████| 98/98 [00:32<00:00,  3.06it/s]\n"
     ]
    },
    {
     "name": "stdout",
     "output_type": "stream",
     "text": [
      "Searching quran for \"أين الكعبة؟\"\n",
      "Searching quran for \"هل يسمح الإسلام بجرائم الشرف؟\"\n",
      "Searching quran for \"هل يقدم القرآن توجيهات حول كيفية التعامل مع الصدمة والألم؟\"\n",
      "Searching quran for \"هل يصوم المسلمون خارج رمضان؟\"\n",
      "Searching quran for \"ما معنى حلال؟\"\n",
      "Searching quran for \"ما هي الفتوى؟\"\n",
      "Searching quran for \"هل الردة يعاقب عليها بالإعدام في الإسلام؟\"\n",
      "Searching quran for \"من يجب عليه أداء الحج؟\"\n"
     ]
    },
    {
     "name": "stderr",
     "output_type": "stream",
     "text": [
      "  0%|          | 0/98 [00:00<?, ?it/s]"
     ]
    },
    {
     "name": "stdout",
     "output_type": "stream",
     "text": [
      "Searching hadith for \"ما هي الفتوى؟\"\n",
      "Searching hadith for \"أين الكعبة؟\"\n",
      "Searching hadith for \"ما معنى حلال؟\"\n",
      "Searching hadith for \"هل يعاقب المرتد بالإعدام في الإسلام؟\"\n",
      "Searching hadith for \"هل توجد أحاديث تتعلق بجرائم الشرف؟\"\n",
      "Searching hadith for \"من يجب عليه أداء الحج؟\"\n",
      "Searching hadith for \"هل تقدم السنة النبوية توجيهات حول كيفية التعامل مع الصدمة والألم؟\"\n",
      "Searching hadith for \"هل يصوم المسلمون خارج رمضان؟\"\n",
      "Searching al-mawsuah for \"ما هو حكم الفقه الإسلامي في جرائم الشرف؟\"\n",
      "Searching al-mawsuah for \"من يجب عليه أداء الحج؟\"\n",
      "Searching al-mawsuah for \"أين الكعبة؟\"\n",
      "Searching al-mawsuah for \"ما هي الفتوى؟\"\n",
      "Searching al-mawsuah for \"ما معنى حلال؟\"\n",
      "Searching al-mawsuah for \"كيفية التعامل مع الصدمة والألم في الفقه الإسلامي\"\n",
      "Searching al-mawsuah for \"حكم الردة في الفقه الإسلامي\"\n",
      "Searching al-mawsuah for \"هل يصوم المسلمون خارج رمضان؟\"\n"
     ]
    },
    {
     "name": "stderr",
     "output_type": "stream",
     "text": [
      "Average Metric: 48 / 6  (800.0):   5%|▌         | 5/98 [00:02<00:35,  2.59it/s]"
     ]
    },
    {
     "name": "stdout",
     "output_type": "stream",
     "text": [
      "Searching quran for \"ما هو رمضان؟\"\n",
      "Searching quran for \"هل الإسلام يشجع على العنف؟\"\n",
      "Searching quran for \"هل يسمح الإسلام بالحرب الوقائية؟\"\n",
      "Searching quran for \"أهمية ليلة القدر\"\n",
      "Searching quran for \"كيف يصف القرآن السعادة؟ كيف يمكن تحقيقها في الإسلام؟\"\n",
      "Searching quran for \"هل يوفر الإسلام إرشادات حول كيفية التعامل مع الأمراض النفسية؟\"\n"
     ]
    },
    {
     "name": "stderr",
     "output_type": "stream",
     "text": [
      "Average Metric: 64 / 8  (800.0):   7%|▋         | 7/98 [00:02<00:24,  3.73it/s]"
     ]
    },
    {
     "name": "stdout",
     "output_type": "stream",
     "text": [
      "Searching quran for \"ما هو رمضان؟\"\n",
      "Searching quran for \"لماذا يصلي المسلمون يوميا؟\"\n",
      "Searching hadith for \"ما هو رمضان؟\"\n",
      "Searching hadith for \"هل الإسلام يشجع على العنف؟\"\n",
      "Searching hadith for \"فضل ليلة القدر\"\n",
      "Searching hadith for \"هل يسمح الإسلام بالحرب الوقائية؟\"\n",
      "Searching hadith for \"هل هناك أحاديث تتحدث عن كيفية التعامل مع الأمراض النفسية؟\"\n",
      "Searching hadith for \"كيف يصف الحديث السعادة؟ كيف يمكن تحقيقها في الإسلام؟\"\n",
      "Searching hadith for \"ما هو رمضان؟\"\n",
      "Searching hadith for \"لماذا يصلي المسلمون يوميا؟\"\n",
      "Searching al-mawsuah for \"ما هو رمضان؟\"\n",
      "Searching al-mawsuah for \"أهمية ليلة القدر في الفقه الإسلامي\"\n",
      "Searching al-mawsuah for \"هل الإسلام يشجع على العنف؟\"\n",
      "Searching al-mawsuah for \"هل يسمح الإسلام بالحرب الوقائية؟\"\n",
      "Searching al-mawsuah for \"إرشادات الفقه الإسلامي حول التعامل مع الأمراض النفسية\"\n",
      "Searching al-mawsuah for \"السعادة في الفقه الإسلامي وكيفية تحقيقها\"\n",
      "Searching al-mawsuah for \"ما هو رمضان؟\"\n",
      "Searching al-mawsuah for \"لماذا يصلي المسلمون يوميا؟\"\n"
     ]
    },
    {
     "name": "stderr",
     "output_type": "stream",
     "text": [
      "Average Metric: 82 / 11  (745.5):  10%|█         | 10/98 [00:04<00:39,  2.22it/s]"
     ]
    },
    {
     "name": "stdout",
     "output_type": "stream",
     "text": [
      "Searching quran for \"كيف تصوم رمضان؟\"\n",
      "Searching quran for \"كيف نعلم أن القرآن وحي إلهي؟\"\n",
      "Searching quran for \"من يجب عليه الصيام في رمضان؟\"\n"
     ]
    },
    {
     "name": "stderr",
     "output_type": "stream",
     "text": [
      "Average Metric: 114 / 16  (712.5):  16%|█▋        | 16/98 [00:05<00:13,  6.08it/s]"
     ]
    },
    {
     "name": "stdout",
     "output_type": "stream",
     "text": [
      "Searching quran for \"هل التجديف يعاقب عليه بالإعدام؟\"\n",
      "Searching quran for \"ما هو الغرض من الصيام في رمضان؟\"\n",
      "Searching quran for \"ماذا يقدم الإسلام للناس؟\"\n",
      "Searching quran for \"مدة الصيام في رمضان\"\n",
      "Searching quran for \"كيف يُساء تفسير الجهاد كإرهاب؟\"\n",
      "Searching hadith for \"كيف تصوم رمضان؟\"\n",
      "Searching hadith for \"كيف نعلم أن القرآن وحي إلهي؟\"\n",
      "Searching hadith for \"من يجب عليه الصيام في رمضان؟\"\n",
      "Searching hadith for \"هل التجديف يعاقب عليه بالإعدام؟\"\n",
      "Searching hadith for \"ماذا يقدم الإسلام للناس؟\"\n",
      "Searching hadith for \"ما هو الغرض من الصيام في رمضان؟\"\n",
      "Searching hadith for \"كيف يُساء تفسير الجهاد كإرهاب؟\"\n",
      "Searching hadith for \"مدة الصيام في رمضان\"\n",
      "Searching al-mawsuah for \"كيف تصوم رمضان؟\"\n",
      "Searching al-mawsuah for \"كيف نعلم أن القرآن وحي إلهي؟\"\n",
      "Searching al-mawsuah for \"من يجب عليه الصيام في رمضان؟\"\n",
      "Searching al-mawsuah for \"كيف يُساء تفسير الجهاد كإرهاب؟\"Searching al-mawsuah for \"ما هو الغرض من الصيام في رمضان؟\"\n",
      "\n",
      "Searching al-mawsuah for \"هل التجديف يعاقب عليه بالإعدام؟\"\n",
      "Searching al-mawsuah for \"مدة الصيام في رمضان\"\n",
      "Searching al-mawsuah for \"ماذا يقدم الإسلام للناس؟\"\n"
     ]
    },
    {
     "name": "stderr",
     "output_type": "stream",
     "text": [
      "Average Metric: 122 / 17  (717.6):  16%|█▋        | 16/98 [00:06<00:13,  6.08it/s]"
     ]
    },
    {
     "name": "stdout",
     "output_type": "stream",
     "text": [
      "Searching quran for \"كيف يُساء تفسير الجهاد كإرهاب؟\"\n"
     ]
    },
    {
     "name": "stderr",
     "output_type": "stream",
     "text": [
      "Average Metric: 132 / 18  (733.3):  17%|█▋        | 17/98 [00:07<00:13,  6.08it/s]"
     ]
    },
    {
     "name": "stdout",
     "output_type": "stream",
     "text": [
      "Searching quran for \"أركان الإسلام الخمسة\"\n"
     ]
    },
    {
     "name": "stderr",
     "output_type": "stream",
     "text": [
      "Average Metric: 182 / 24  (758.3):  23%|██▎       | 23/98 [00:07<00:29,  2.54it/s]"
     ]
    },
    {
     "name": "stdout",
     "output_type": "stream",
     "text": [
      "Searching quran for \"هل يؤمن المسلمون بالروح القدس؟\"Searching quran for \"ليلة القدر\"\n",
      "Searching quran for \"كيف يعامل الإسلام الأقليات الدينية؟\"\n",
      "\n",
      "Searching quran for \"هل يؤمن المسلمون بالجنة والنار؟\"\n",
      "Searching quran for \"من هو الله\"\n",
      "Searching quran for \"ما معنى الجهاد؟\"\n",
      "Searching hadith for \"كيف يُساء تفسير الجهاد كإرهاب؟\"\n",
      "Searching hadith for \"أركان الإسلام الخمسة\"\n",
      "Searching hadith for \"ما هي ليلة القدر\"\n",
      "Searching hadith for \"هل ذكر النبي الجنة والنار؟\"\n",
      "Searching hadith for \"من هو الله\"\n",
      "Searching hadith for \"هل ذكر الروح القدس في الأحاديث؟\"\n",
      "Searching hadith for \"ما معنى الجهاد؟\"\n",
      "Searching hadith for \"معاملة الإسلام للأقليات الدينية\"\n",
      "Searching al-mawsuah for \"كيف يُساء تفسير الجهاد كإرهاب؟\"\n",
      "Searching al-mawsuah for \"أركان الإسلام الخمسة\"\n",
      "Searching al-mawsuah for \"ليلة القدر في الفقه الإسلامي\"\n",
      "Searching al-mawsuah for \"معاملة الأقليات الدينية في الفقه الإسلامي\"\n",
      "Searching al-mawsuah for \"ما معنى الجهاد؟\"\n",
      "Searching al-mawsuah for \"الإيمان بالجنة والنار في الفقه الإسلامي\"\n",
      "Searching al-mawsuah for \"الإيمان بالروح القدس في الفقه الإسلامي\"\n",
      "Searching al-mawsuah for \"من هو الله\"\n"
     ]
    },
    {
     "name": "stderr",
     "output_type": "stream",
     "text": [
      "Average Metric: 192 / 25  (768.0):  26%|██▌       | 25/98 [00:09<00:25,  2.82it/s]"
     ]
    },
    {
     "name": "stdout",
     "output_type": "stream",
     "text": [
      "Searching quran for \"أين يحدث الحج؟\"\n"
     ]
    },
    {
     "name": "stderr",
     "output_type": "stream",
     "text": [
      "Average Metric: 198 / 26  (761.5):  26%|██▌       | 25/98 [00:09<00:25,  2.82it/s]"
     ]
    },
    {
     "name": "stdout",
     "output_type": "stream",
     "text": [
      "Searching quran for \"أحكام الحرب في الإسلام\"\n"
     ]
    },
    {
     "name": "stderr",
     "output_type": "stream",
     "text": [
      "Average Metric: 244 / 31  (787.1):  31%|███       | 30/98 [00:10<00:23,  2.91it/s]"
     ]
    },
    {
     "name": "stdout",
     "output_type": "stream",
     "text": [
      "Searching quran for \"متى ليلة القدر؟\"\n",
      "Searching quran for \"كم مرة يصلي المسلمون خلال رمضان؟\"\n",
      "Searching quran for \"لماذا الكعبة مهمة؟\"\n",
      "Searching quran for \"لماذا يجب على المسلمين الصيام لمدة شهر كامل؟\"\n",
      "Searching quran for \"كيف يمكن فهم والتعامل مع الحزن والأسى في الإسلام؟\"\n",
      "Searching hadith for \"أين يحدث الحج؟\"\n"
     ]
    },
    {
     "name": "stderr",
     "output_type": "stream",
     "text": [
      "Average Metric: 250 / 32  (781.2):  33%|███▎      | 32/98 [00:10<00:14,  4.50it/s]"
     ]
    },
    {
     "name": "stdout",
     "output_type": "stream",
     "text": [
      "Searching quran for \"كيف يمكن للمرء أن يطهر قلبه وروحه؟\"\n",
      "Searching hadith for \"أحاديث عن أحكام الحرب في الإسلام\"\n",
      "Searching hadith for \"كم مرة يصلي المسلمون خلال رمضان؟\"\n",
      "Searching hadith for \"لماذا الكعبة مهمة؟\"\n",
      "Searching hadith for \"متى ليلة القدر؟\"\n",
      "Searching hadith for \"كيف يمكن فهم والتعامل مع الحزن والأسى في الإسلام؟\"\n",
      "Searching al-mawsuah for \"أين يحدث الحج؟\"\n",
      "Searching hadith for \"لماذا يجب على المسلمين الصيام لمدة شهر كامل؟\"\n",
      "Searching hadith for \"كيف يمكن للمرء أن يطهر قلبه وروحه؟\"\n",
      "Searching al-mawsuah for \"أحكام الحرب في الفقه الإسلامي\"\n",
      "Searching al-mawsuah for \"متى ليلة القدر؟\"\n",
      "Searching al-mawsuah for \"كم مرة يصلي المسلمون خلال رمضان؟\"\n"
     ]
    },
    {
     "name": "stderr",
     "output_type": "stream",
     "text": [
      "Average Metric: 262 / 33  (793.9):  33%|███▎      | 32/98 [00:11<00:14,  4.50it/s]"
     ]
    },
    {
     "name": "stdout",
     "output_type": "stream",
     "text": [
      "Searching al-mawsuah for \"كيف يمكن فهم والتعامل مع الحزن والأسى في الإسلام؟\"\n",
      "Searching al-mawsuah for \"أهمية الكعبة في الفقه الإسلامي\"\n",
      "Searching al-mawsuah for \"كيف يمكن للمرء أن يطهر قلبه وروحه؟\"\n",
      "Searching al-mawsuah for \"لماذا يجب على المسلمين الصيام لمدة شهر كامل؟\"\n",
      "Searching quran for \"ما هي الكعبة؟\"\n"
     ]
    },
    {
     "name": "stderr",
     "output_type": "stream",
     "text": [
      "Average Metric: 298 / 37  (805.4):  38%|███▊      | 37/98 [00:12<00:17,  3.44it/s]"
     ]
    },
    {
     "name": "stdout",
     "output_type": "stream",
     "text": [
      "Searching quran for \"من هو النبي محمد؟\"\n",
      "Searching quran for \"ما هي التزكية؟\"\n",
      "Searching quran for \"أحكام الحرب في الإسلام\"\n",
      "Searching quran for \"ما الذي يعلمه الإسلام عن إدارة القلق والاكتئاب والشك الذاتي؟\"\n"
     ]
    },
    {
     "name": "stderr",
     "output_type": "stream",
     "text": [
      "Average Metric: 320 / 40  (800.0):  40%|███▉      | 39/98 [00:12<00:17,  3.44it/s]"
     ]
    },
    {
     "name": "stdout",
     "output_type": "stream",
     "text": [
      "Searching quran for \"أين تؤدى العمرة؟\"\n",
      "Searching hadith for \"ما هي الكعبة؟\"\n",
      "Searching quran for \"كيف تكون الروحانية الإسلامية فريدة؟\"\n",
      "Searching quran for \"كيف يفهم الإسلام الروح\"\n",
      "Searching hadith for \"ما هي التزكية؟\"\n",
      "Searching hadith for \"أحاديث عن أحكام الحرب في الإسلام\"\n",
      "Searching hadith for \"من هو النبي محمد؟\"\n",
      "Searching hadith for \"كيف تكون الروحانية الإسلامية فريدة؟\"\n",
      "Searching hadith for \"ما الذي يعلمه الإسلام عن إدارة القلق والاكتئاب والشك الذاتي؟\"\n",
      "Searching al-mawsuah for \"ما هي الكعبة؟\"\n",
      "Searching hadith for \"فهم الروح في الإسلام\"\n",
      "Searching hadith for \"أين تؤدى العمرة؟\"\n",
      "Searching al-mawsuah for \"ما هي التزكية؟\"\n",
      "Searching al-mawsuah for \"أحكام الحرب في الفقه الإسلامي\"\n"
     ]
    },
    {
     "name": "stderr",
     "output_type": "stream",
     "text": [
      "Average Metric: 326 / 41  (795.1):  42%|████▏     | 41/98 [00:14<00:19,  2.90it/s]"
     ]
    },
    {
     "name": "stdout",
     "output_type": "stream",
     "text": [
      "Searching al-mawsuah for \"من هو النبي محمد؟\"\n",
      "Searching al-mawsuah for \"كيف تكون الروحانية الإسلامية فريدة؟\"\n",
      "Searching al-mawsuah for \"ما الذي يعلمه الإسلام عن إدارة القلق والاكتئاب والشك الذاتي؟\"\n",
      "Searching quran for \"من هو عيسى في الإسلام؟\"\n",
      "Searching al-mawsuah for \"الروح في الفقه الإسلامي\"\n"
     ]
    },
    {
     "name": "stderr",
     "output_type": "stream",
     "text": [
      "Average Metric: 348 / 43  (809.3):  43%|████▎     | 42/98 [00:14<00:19,  2.84it/s]"
     ]
    },
    {
     "name": "stdout",
     "output_type": "stream",
     "text": [
      "Searching quran for \"ما هو الإسلام؟\"\n"
     ]
    },
    {
     "name": "stderr",
     "output_type": "stream",
     "text": [
      "Average Metric: 364 / 46  (791.3):  46%|████▌     | 45/98 [00:15<00:17,  3.00it/s]"
     ]
    },
    {
     "name": "stdout",
     "output_type": "stream",
     "text": [
      "Searching quran for \"كيف يعامل الإسلام الأقليات الدينية؟\"\n",
      "Searching quran for \"متى رمضان؟\"\n",
      "Searching quran for \"كيف تتعلق الشريعة بطقوس العبادة؟\"\n",
      "Searching al-mawsuah for \"أين تؤدى العمرة؟\"\n",
      "Searching quran for \"هل انتشر الإسلام بالعنف والإكراه؟\"\n"
     ]
    },
    {
     "name": "stderr",
     "output_type": "stream",
     "text": [
      "Average Metric: 374 / 47  (795.7):  47%|████▋     | 46/98 [00:15<00:17,  3.00it/s]"
     ]
    },
    {
     "name": "stdout",
     "output_type": "stream",
     "text": [
      "Searching hadith for \"من هو عيسى في الأحاديث؟\"\n"
     ]
    },
    {
     "name": "stderr",
     "output_type": "stream",
     "text": [
      "Average Metric: 374 / 47  (795.7):  48%|████▊     | 47/98 [00:15<00:12,  4.15it/s]"
     ]
    },
    {
     "name": "stdout",
     "output_type": "stream",
     "text": [
      "Searching quran for \"لماذا يتم الاحتفال بشهر رمضان؟\"\n",
      "Searching hadith for \"ما هو الإسلام؟\"\n"
     ]
    },
    {
     "name": "stderr",
     "output_type": "stream",
     "text": [
      "Average Metric: 382 / 48  (795.8):  49%|████▉     | 48/98 [00:15<00:12,  3.95it/s]"
     ]
    },
    {
     "name": "stdout",
     "output_type": "stream",
     "text": [
      "Searching quran for \"من هو النبي إبراهيم؟\"\n",
      "Searching hadith for \"كيف تتعلق الشريعة بطقوس العبادة؟\"\n",
      "Searching hadith for \"متى رمضان؟\"\n",
      "Searching hadith for \"هل انتشر الإسلام بالعنف والإكراه؟\"\n",
      "Searching hadith for \"معاملة الإسلام للأقليات الدينية\"\n",
      "Searching al-mawsuah for \"من هو عيسى في الفقه الإسلامي؟\"\n",
      "Searching hadith for \"لماذا يتم الاحتفال بشهر رمضان؟\"\n",
      "Searching al-mawsuah for \"ما هو الإسلام؟\"\n",
      "Searching al-mawsuah for \"كيف تتعلق الشريعة بطقوس العبادة؟\"\n",
      "Searching al-mawsuah for \"هل انتشر الإسلام بالعنف والإكراه؟\"\n",
      "Searching al-mawsuah for \"معاملة الأقليات الدينية في الفقه الإسلامي\"\n",
      "Searching hadith for \"من هو النبي إبراهيم؟\"\n",
      "Searching al-mawsuah for \"متى رمضان؟\"\n"
     ]
    },
    {
     "name": "stderr",
     "output_type": "stream",
     "text": [
      "Average Metric: 392 / 50  (784.0):  50%|█████     | 49/98 [00:17<00:20,  2.35it/s]"
     ]
    },
    {
     "name": "stdout",
     "output_type": "stream",
     "text": [
      "Searching al-mawsuah for \"لماذا يتم الاحتفال بشهر رمضان؟\"\n",
      "Searching quran for \"ما هو زكاة الفطر؟\"\n",
      "Searching quran for \"هل يسمح الإسلام بقتل المدنيين؟\"\n"
     ]
    },
    {
     "name": "stderr",
     "output_type": "stream",
     "text": [
      "Average Metric: 428 / 54  (792.6):  54%|█████▍    | 53/98 [00:17<00:14,  3.05it/s]"
     ]
    },
    {
     "name": "stdout",
     "output_type": "stream",
     "text": [
      "Searching quran for \"ما هو الفقه؟\"\n",
      "Searching quran for \"كيف تتعلق الشريعة بالمجتمع؟\"\n",
      "Searching quran for \"أهمية الصدقة في رمضان\"\n",
      "Searching quran for \"القيود الغذائية في الإسلام\"\n"
     ]
    },
    {
     "name": "stderr",
     "output_type": "stream",
     "text": [
      "Average Metric: 436 / 55  (792.7):  56%|█████▌    | 55/98 [00:17<00:09,  4.51it/s]"
     ]
    },
    {
     "name": "stdout",
     "output_type": "stream",
     "text": [
      "Searching al-mawsuah for \"من هو النبي إبراهيم؟\"\n",
      "Searching quran for \"ما هو القرآن؟\"\n",
      "Searching hadith for \"هل يسمح الإسلام بقتل المدنيين؟\"\n",
      "Searching hadith for \"ما هو زكاة الفطر؟\"\n",
      "Searching hadith for \"كيف تتعلق الشريعة بالمجتمع؟\"\n",
      "Searching hadith for \"ما هو الفقه؟\"\n",
      "Searching hadith for \"فضل الصدقة في رمضان\"\n"
     ]
    },
    {
     "name": "stderr",
     "output_type": "stream",
     "text": [
      "Average Metric: 442 / 56  (789.3):  57%|█████▋    | 56/98 [00:18<00:12,  3.50it/s]"
     ]
    },
    {
     "name": "stdout",
     "output_type": "stream",
     "text": [
      "Searching hadith for \"القيود الغذائية في الإسلام\"\n",
      "Searching quran for \"من بنى الكعبة؟\"\n",
      "Searching hadith for \"ما هو القرآن؟\"\n",
      "Searching al-mawsuah for \"هل يسمح الإسلام بقتل المدنيين؟\"\n",
      "Searching al-mawsuah for \"ما هو زكاة الفطر؟\"\n",
      "Searching al-mawsuah for \"كيف تتعلق الشريعة بالمجتمع؟\"\n",
      "Searching al-mawsuah for \"ما هو الفقه؟\"\n",
      "Searching al-mawsuah for \"الصدقة في رمضان\"\n"
     ]
    },
    {
     "name": "stderr",
     "output_type": "stream",
     "text": [
      "Average Metric: 452 / 58  (779.3):  58%|█████▊    | 57/98 [00:19<00:16,  2.54it/s]"
     ]
    },
    {
     "name": "stdout",
     "output_type": "stream",
     "text": [
      "Searching hadith for \"من بنى الكعبة؟\"\n",
      "Searching al-mawsuah for \"القيود الغذائية في الإسلام\"\n",
      "Searching al-mawsuah for \"ما هو القرآن؟\"\n",
      "Searching quran for \"من أين تأتي الشريعة؟\"\n",
      "Searching quran for \"كيف يغذي الإسلام رفاهنا العاطفي؟\"\n"
     ]
    },
    {
     "name": "stderr",
     "output_type": "stream",
     "text": [
      "Average Metric: 476 / 61  (780.3):  62%|██████▏   | 61/98 [00:19<00:09,  3.87it/s]"
     ]
    },
    {
     "name": "stdout",
     "output_type": "stream",
     "text": [
      "Searching quran for \"كيفية أداء العمرة\"\n",
      "Searching quran for \"آيات القرآن للتعامل مع الضيق والشدائد\"\n",
      "Searching quran for \"هل يقول القرآن بقتل غير المؤمنين؟\"\n"
     ]
    },
    {
     "name": "stderr",
     "output_type": "stream",
     "text": [
      "Average Metric: 496 / 63  (787.3):  63%|██████▎   | 62/98 [00:20<00:08,  4.11it/s]"
     ]
    },
    {
     "name": "stdout",
     "output_type": "stream",
     "text": [
      "Searching al-mawsuah for \"من بنى الكعبة؟\"\n",
      "Searching quran for \"هل التجديف يعاقب عليه بالإعدام؟\"\n",
      "Searching quran for \"هل يسمح الإسلام بقتل المدنيين؟\"\n",
      "Searching hadith for \"من أين تأتي الشريعة؟\"\n",
      "Searching hadith for \"كيف يغذي الإسلام رفاهنا العاطفي؟\"\n",
      "Searching hadith for \"كيفية أداء العمرة\"\n",
      "Searching hadith for \"أحاديث عن التعامل مع الضيق والشدائد\"\n"
     ]
    },
    {
     "name": "stderr",
     "output_type": "stream",
     "text": [
      "Average Metric: 504 / 64  (787.5):  65%|██████▌   | 64/98 [00:20<00:10,  3.29it/s]"
     ]
    },
    {
     "name": "stdout",
     "output_type": "stream",
     "text": [
      "Searching hadith for \"هل يوجد حديث يأمر بقتل غير المؤمنين؟\"\n",
      "Searching hadith for \"هل التجديف يعاقب عليه بالإعدام؟\"\n",
      "Searching hadith for \"هل يسمح الإسلام بقتل المدنيين؟\"\n",
      "Searching quran for \"ما معنى الإسلام؟\"\n",
      "Searching al-mawsuah for \"مصادر الشريعة الإسلامية\"\n",
      "Searching al-mawsuah for \"كيف يغذي الإسلام رفاهنا العاطفي؟\"\n",
      "Searching al-mawsuah for \"كيفية أداء العمرة\"\n",
      "Searching al-mawsuah for \"أحكام الفقه الإسلامي حول التعامل مع الضيق والشدائد\"\n",
      "Searching al-mawsuah for \"ما هو حكم قتل غير المؤمنين في الفقه الإسلامي؟\"\n"
     ]
    },
    {
     "name": "stderr",
     "output_type": "stream",
     "text": [
      "Average Metric: 522 / 66  (790.9):  66%|██████▋   | 65/98 [00:21<00:13,  2.45it/s]"
     ]
    },
    {
     "name": "stdout",
     "output_type": "stream",
     "text": [
      "Searching al-mawsuah for \"هل يسمح الإسلام بقتل المدنيين؟\"\n",
      "Searching al-mawsuah for \"هل التجديف يعاقب عليه بالإعدام؟\"\n",
      "Searching hadith for \"ما معنى الإسلام في الحديث؟\"\n",
      "Searching quran for \"ما هو عيد الفطر؟\"\n",
      "Searching quran for \"لماذا الحج مهم؟\"\n"
     ]
    },
    {
     "name": "stderr",
     "output_type": "stream",
     "text": [
      "Average Metric: 532 / 68  (782.4):  69%|██████▉   | 68/98 [00:22<00:08,  3.71it/s]"
     ]
    },
    {
     "name": "stdout",
     "output_type": "stream",
     "text": [
      "Searching quran for \"كيفية أداء الحج\"\n",
      "Searching quran for \"هل يقول القرآن بقتل غير المؤمنين؟\"\n"
     ]
    },
    {
     "name": "stderr",
     "output_type": "stream",
     "text": [
      "Average Metric: 552 / 71  (777.5):  71%|███████▏  | 70/98 [00:22<00:06,  4.10it/s]"
     ]
    },
    {
     "name": "stdout",
     "output_type": "stream",
     "text": [
      "Searching quran for \"هل هناك استثناءات أو إعفاءات من الصيام؟\"\n",
      "Searching quran for \"ما هي العمرة؟\"\n",
      "Searching quran for \"هل انتشر الإسلام بالعنف والإكراه؟\"\n",
      "Searching hadith for \"أهمية الحج في الأحاديث\"\n",
      "Searching hadith for \"ما هو عيد الفطر؟\"\n",
      "Searching al-mawsuah for \"ما هو تعريف الإسلام في الفقه الإسلامي؟\"\n",
      "Searching hadith for \"كيفية أداء الحج\"\n",
      "Searching hadith for \"هل يوجد حديث يأمر بقتل غير المؤمنين؟\"\n",
      "Searching hadith for \"هل هناك استثناءات أو إعفاءات من الصيام؟\"\n",
      "Searching hadith for \"ما هي العمرة؟\"\n",
      "Searching hadith for \"هل انتشر الإسلام بالعنف والإكراه؟\"\n"
     ]
    },
    {
     "name": "stderr",
     "output_type": "stream",
     "text": [
      "Average Metric: 560 / 72  (777.8):  73%|███████▎  | 72/98 [00:23<00:08,  2.93it/s]"
     ]
    },
    {
     "name": "stdout",
     "output_type": "stream",
     "text": [
      "Searching al-mawsuah for \"ما هو عيد الفطر؟\"\n",
      "Searching al-mawsuah for \"أهمية الحج في الفقه الإسلامي\"\n",
      "Searching al-mawsuah for \"كيفية أداء الحج\"\n",
      "Searching quran for \"هل العمرة والحج نفس الشيء؟\"\n",
      "Searching al-mawsuah for \"ما هو حكم قتل غير المؤمنين في الفقه الإسلامي؟\"\n"
     ]
    },
    {
     "name": "stderr",
     "output_type": "stream",
     "text": [
      "Average Metric: 576 / 75  (768.0):  76%|███████▌  | 74/98 [00:24<00:10,  2.39it/s]"
     ]
    },
    {
     "name": "stdout",
     "output_type": "stream",
     "text": [
      "Searching al-mawsuah for \"هل انتشر الإسلام بالعنف والإكراه؟\"\n",
      "Searching al-mawsuah for \"هل هناك استثناءات أو إعفاءات من الصيام؟\"\n",
      "Searching al-mawsuah for \"ما هي العمرة؟\"\n",
      "Searching quran for \"ماذا يؤمن المسلمون؟\"\n",
      "Searching quran for \"هل الشريعة موحدة وغير متغيرة؟\"\n",
      "Searching quran for \"ما هي الصدقة؟\"\n",
      "Searching hadith for \"هل العمرة والحج نفس الشيء؟\"\n"
     ]
    },
    {
     "name": "stderr",
     "output_type": "stream",
     "text": [
      "Average Metric: 582 / 76  (765.8):  78%|███████▊  | 76/98 [00:24<00:06,  3.58it/s]"
     ]
    },
    {
     "name": "stdout",
     "output_type": "stream",
     "text": [
      "Searching quran for \"صلاة التراويح\"\n"
     ]
    },
    {
     "name": "stderr",
     "output_type": "stream",
     "text": [
      "Average Metric: 592 / 77  (768.8):  79%|███████▊  | 77/98 [00:24<00:05,  3.76it/s]"
     ]
    },
    {
     "name": "stdout",
     "output_type": "stream",
     "text": [
      "Searching quran for \"ما هو التوحيد؟\"\n",
      "Searching hadith for \"ماذا يؤمن المسلمون؟\"\n"
     ]
    },
    {
     "name": "stderr",
     "output_type": "stream",
     "text": [
      "Average Metric: 612 / 79  (774.7):  80%|███████▉  | 78/98 [00:25<00:05,  3.74it/s]"
     ]
    },
    {
     "name": "stdout",
     "output_type": "stream",
     "text": [
      "Searching al-mawsuah for \"هل العمرة والحج نفس الشيء؟\"\n",
      "Searching quran for \"ما معنى الجهاد؟\"\n",
      "Searching hadith for \"ما هي الصدقة؟\"\n",
      "Searching quran for \"كيف يتناول الإسلام القدر والإرادة الحرة؟\"\n",
      "Searching hadith for \"هل الشريعة موحدة وغير متغيرة؟\"\n",
      "Searching hadith for \"صلاة التراويح\"\n"
     ]
    },
    {
     "name": "stderr",
     "output_type": "stream",
     "text": [
      "Average Metric: 620 / 80  (775.0):  82%|████████▏ | 80/98 [00:25<00:05,  3.24it/s]"
     ]
    },
    {
     "name": "stdout",
     "output_type": "stream",
     "text": [
      "Searching hadith for \"ما هو التوحيد؟\"\n",
      "Searching quran for \"الطلاق في الإسلام\"\n",
      "Searching hadith for \"كيف يتناول الإسلام القدر والإرادة الحرة؟\"\n",
      "Searching hadith for \"ما معنى الجهاد؟\"\n",
      "Searching al-mawsuah for \"ماذا يؤمن المسلمون؟\"\n",
      "Searching al-mawsuah for \"ما هي الصدقة؟\"\n",
      "Searching al-mawsuah for \"هل الشريعة موحدة وغير متغيرة؟\"\n",
      "Searching al-mawsuah for \"صلاة التراويح\"\n"
     ]
    },
    {
     "name": "stderr",
     "output_type": "stream",
     "text": [
      "Average Metric: 628 / 81  (775.3):  83%|████████▎ | 81/98 [00:26<00:07,  2.30it/s]"
     ]
    },
    {
     "name": "stdout",
     "output_type": "stream",
     "text": [
      "Searching al-mawsuah for \"ما هو التوحيد؟\"\n",
      "Searching al-mawsuah for \"ما معنى الجهاد؟\"\n",
      "Searching hadith for \"حديث عن الطلاق\"\n",
      "Searching quran for \"ما هي الأعياد التي يحتفل بها المسلمون؟\"\n",
      "Searching al-mawsuah for \"كيف يتناول الإسلام القدر والإرادة الحرة؟\"\n"
     ]
    },
    {
     "name": "stderr",
     "output_type": "stream",
     "text": [
      "Average Metric: 638 / 83  (768.7):  84%|████████▎ | 82/98 [00:26<00:06,  2.30it/s]"
     ]
    },
    {
     "name": "stdout",
     "output_type": "stream",
     "text": [
      "Searching quran for \"هل الوسواس القهري نتيجة وساوس الشيطان؟\"\n",
      "Searching quran for \"كيف نعرف أن الله موجود؟\"\n"
     ]
    },
    {
     "name": "stderr",
     "output_type": "stream",
     "text": [
      "Average Metric: 644 / 84  (766.7):  86%|████████▌ | 84/98 [00:27<00:03,  3.62it/s]"
     ]
    },
    {
     "name": "stdout",
     "output_type": "stream",
     "text": [
      "Searching quran for \"تاريخ الشريعة\"\n"
     ]
    },
    {
     "name": "stderr",
     "output_type": "stream",
     "text": [
      "Average Metric: 662 / 87  (760.9):  88%|████████▊ | 86/98 [00:27<00:03,  3.34it/s]"
     ]
    },
    {
     "name": "stdout",
     "output_type": "stream",
     "text": [
      "Searching al-mawsuah for \"الطلاق في الفقه الإسلامي\"\n",
      "Searching quran for \"هل يسمح الإسلام بالحرب الوقائية؟\"\n",
      "Searching quran for \"الوحي في الإسلام\"\n",
      "Searching quran for \"هل الإسلام يشجع على العنف؟\"\n",
      "Searching hadith for \"هل الوسواس القهري نتيجة وساوس الشيطان؟\"\n",
      "Searching hadith for \"ما هي الأعياد التي يحتفل بها المسلمون؟\"\n",
      "Searching hadith for \"كيف نعرف أن الله موجود؟\"\n",
      "Searching hadith for \"تاريخ الشريعة\"\n"
     ]
    },
    {
     "name": "stderr",
     "output_type": "stream",
     "text": [
      "Average Metric: 670 / 88  (761.4):  90%|████████▉ | 88/98 [00:28<00:02,  3.42it/s]"
     ]
    },
    {
     "name": "stdout",
     "output_type": "stream",
     "text": [
      "Searching hadith for \"هل يسمح الإسلام بالحرب الوقائية؟\"\n",
      "Searching quran for \"ما هي أهمية الحج؟\"\n",
      "Searching hadith for \"هل الإسلام يشجع على العنف؟\"\n",
      "Searching hadith for \"الوحي في الإسلام\"\n",
      "Searching al-mawsuah for \"هل الوسواس القهري نتيجة وساوس الشيطان؟\"\n",
      "Searching al-mawsuah for \"ما هي الأعياد التي يحتفل بها المسلمون؟\"\n",
      "Searching al-mawsuah for \"كيف نعرف أن الله موجود؟\"\n",
      "Searching al-mawsuah for \"تاريخ الشريعة\"\n",
      "Searching al-mawsuah for \"هل الإسلام يشجع على العنف؟\"\n",
      "Searching al-mawsuah for \"الوحي في الإسلام\"\n",
      "Searching al-mawsuah for \"هل يسمح الإسلام بالحرب الوقائية؟\"\n",
      "Searching hadith for \"ما هي أهمية الحج؟\"\n"
     ]
    },
    {
     "name": "stderr",
     "output_type": "stream",
     "text": [
      "Average Metric: 700 / 92  (760.9):  93%|█████████▎| 91/98 [00:29<00:02,  2.40it/s]"
     ]
    },
    {
     "name": "stdout",
     "output_type": "stream",
     "text": [
      "Searching quran for \"لماذا يطلب الله من الناس عبادته؟\"\n",
      "Searching quran for \"هل يؤمن المسلمون بصلب عيسى؟\"\n"
     ]
    },
    {
     "name": "stderr",
     "output_type": "stream",
     "text": [
      "Average Metric: 724 / 95  (762.1):  97%|█████████▋| 95/98 [00:29<00:00,  4.61it/s]"
     ]
    },
    {
     "name": "stdout",
     "output_type": "stream",
     "text": [
      "Searching al-mawsuah for \"ما هي أهمية الحج؟\"\n",
      "Searching hadith for \"هل ورد في الأحاديث أن المسلمين يؤمنون بصلب عيسى؟\"\n",
      "Searching hadith for \"لماذا يطلب الله من الناس عبادته؟\"\n"
     ]
    },
    {
     "name": "stderr",
     "output_type": "stream",
     "text": [
      "Average Metric: 734 / 96  (764.6):  98%|█████████▊| 96/98 [00:30<00:00,  3.27it/s]"
     ]
    },
    {
     "name": "stdout",
     "output_type": "stream",
     "text": [
      "Searching al-mawsuah for \"موقف الفقه الإسلامي من صلب عيسى\"\n",
      "Searching al-mawsuah for \"لماذا يطلب الله من الناس عبادته؟\"\n"
     ]
    },
    {
     "name": "stderr",
     "output_type": "stream",
     "text": [
      "Average Metric: 748 / 98  (763.3): 100%|██████████| 98/98 [00:31<00:00,  3.07it/s]\n"
     ]
    },
    {
     "name": "stdout",
     "output_type": "stream",
     "text": [
      "Searching quran for \"من يجب عليه أداء الحج؟\"\n",
      "Searching quran for \"أين الكعبة؟\"\n",
      "Searching quran for \"هل يسمح الإسلام بجرائم الشرف؟\"\n",
      "Searching quran for \"هل يقدم القرآن توجيهات حول كيفية التعامل مع الصدمة والألم؟\"\n",
      "Searching quran for \"هل يصوم المسلمون خارج رمضان؟\"\n",
      "Searching quran for \"ما هي الفتوى؟\"\n",
      "Searching quran for \"هل الردة يعاقب عليها بالإعدام في الإسلام؟\"\n",
      "Searching quran for \"ما معنى حلال؟\"\n"
     ]
    },
    {
     "name": "stderr",
     "output_type": "stream",
     "text": [
      "  0%|          | 0/98 [00:00<?, ?it/s]"
     ]
    },
    {
     "name": "stdout",
     "output_type": "stream",
     "text": [
      "Searching hadith for \"أين الكعبة؟\"\n",
      "Searching hadith for \"ما معنى حلال؟\"\n",
      "Searching hadith for \"ما هي الفتوى؟\"\n",
      "Searching hadith for \"هل توجد أحاديث تتعلق بجرائم الشرف؟\"\n",
      "Searching hadith for \"من يجب عليه أداء الحج؟\"\n",
      "Searching hadith for \"هل تقدم السنة النبوية توجيهات حول كيفية التعامل مع الصدمة والألم؟\"\n",
      "Searching hadith for \"هل يعاقب المرتد بالإعدام في الإسلام؟\"\n",
      "Searching hadith for \"هل يصوم المسلمون خارج رمضان؟\"\n",
      "Searching al-mawsuah for \"ما هو حكم الفقه الإسلامي في جرائم الشرف؟\"\n",
      "Searching al-mawsuah for \"من يجب عليه أداء الحج؟\"\n",
      "Searching al-mawsuah for \"أين الكعبة؟\"\n",
      "Searching al-mawsuah for \"ما هي الفتوى؟\"\n",
      "Searching al-mawsuah for \"ما معنى حلال؟\"\n",
      "Searching al-mawsuah for \"كيفية التعامل مع الصدمة والألم في الفقه الإسلامي\"\n",
      "Searching al-mawsuah for \"حكم الردة في الفقه الإسلامي\"\n",
      "Searching al-mawsuah for \"هل يصوم المسلمون خارج رمضان؟\"\n"
     ]
    },
    {
     "name": "stderr",
     "output_type": "stream",
     "text": [
      "Average Metric: 54 / 7  (771.4):   6%|▌         | 6/98 [00:02<01:35,  1.04s/it]"
     ]
    },
    {
     "name": "stdout",
     "output_type": "stream",
     "text": [
      "Searching quran for \"ما هو رمضان؟\"\n",
      "Searching quran for \"هل يسمح الإسلام بالحرب الوقائية؟\"\n",
      "Searching quran for \"هل الإسلام يشجع على العنف؟\"\n",
      "Searching quran for \"أهمية ليلة القدر\"\n",
      "Searching quran for \"كيف يصف القرآن السعادة؟ كيف يمكن تحقيقها في الإسلام؟\"\n",
      "Searching quran for \"هل يوفر الإسلام إرشادات حول كيفية التعامل مع الأمراض النفسية؟\"\n",
      "Searching quran for \"ما هو رمضان؟\"\n"
     ]
    },
    {
     "name": "stderr",
     "output_type": "stream",
     "text": [
      "Average Metric: 64 / 8  (800.0):   8%|▊         | 8/98 [00:02<00:17,  5.12it/s]"
     ]
    },
    {
     "name": "stdout",
     "output_type": "stream",
     "text": [
      "Searching quran for \"لماذا يصلي المسلمون يوميا؟\"\n",
      "Searching hadith for \"ما هو رمضان؟\"\n",
      "Searching hadith for \"هل يسمح الإسلام بالحرب الوقائية؟\"\n",
      "Searching hadith for \"هل الإسلام يشجع على العنف؟\"\n",
      "Searching hadith for \"هل هناك أحاديث تتحدث عن كيفية التعامل مع الأمراض النفسية؟\"\n",
      "Searching hadith for \"ما هو رمضان؟\"\n",
      "Searching hadith for \"كيف يصف الحديث السعادة؟ كيف يمكن تحقيقها في الإسلام؟\"\n",
      "Searching hadith for \"فضل ليلة القدر\"\n",
      "Searching hadith for \"لماذا يصلي المسلمون يوميا؟\"\n",
      "Searching al-mawsuah for \"ما هو رمضان؟\"\n",
      "Searching al-mawsuah for \"هل الإسلام يشجع على العنف؟\"\n",
      "Searching al-mawsuah for \"إرشادات الفقه الإسلامي حول التعامل مع الأمراض النفسية\"\n",
      "Searching al-mawsuah for \"ما هو رمضان؟\"\n",
      "Searching al-mawsuah for \"أهمية ليلة القدر في الفقه الإسلامي\"Searching al-mawsuah for \"هل يسمح الإسلام بالحرب الوقائية؟\"\n",
      "\n",
      "Searching al-mawsuah for \"السعادة في الفقه الإسلامي وكيفية تحقيقها\"\n",
      "Searching al-mawsuah for \"لماذا يصلي المسلمون يوميا؟\"\n"
     ]
    },
    {
     "name": "stderr",
     "output_type": "stream",
     "text": [
      "Average Metric: 74 / 10  (740.0):   9%|▉         | 9/98 [00:04<00:17,  5.12it/s]"
     ]
    },
    {
     "name": "stdout",
     "output_type": "stream",
     "text": [
      "Searching quran for \"كيف تصوم رمضان؟\"\n",
      "Searching quran for \"كيف نعلم أن القرآن وحي إلهي؟\"\n",
      "Searching quran for \"ما هو الغرض من الصيام في رمضان؟\"\n"
     ]
    },
    {
     "name": "stderr",
     "output_type": "stream",
     "text": [
      "Average Metric: 104 / 15  (693.3):  14%|█▍        | 14/98 [00:05<00:22,  3.77it/s]"
     ]
    },
    {
     "name": "stdout",
     "output_type": "stream",
     "text": [
      "Searching quran for \"من يجب عليه الصيام في رمضان؟\"\n",
      "Searching quran for \"هل التجديف يعاقب عليه بالإعدام؟\"\n",
      "Searching quran for \"مدة الصيام في رمضان\"\n",
      "Searching quran for \"ماذا يقدم الإسلام للناس؟\"\n"
     ]
    },
    {
     "name": "stderr",
     "output_type": "stream",
     "text": [
      "Average Metric: 114 / 16  (712.5):  15%|█▌        | 15/98 [00:05<00:22,  3.77it/s]"
     ]
    },
    {
     "name": "stdout",
     "output_type": "stream",
     "text": [
      "Searching quran for \"كيف يُساء تفسير الجهاد كإرهاب؟\"\n",
      "Searching hadith for \"كيف تصوم رمضان؟\"\n",
      "Searching hadith for \"كيف نعلم أن القرآن وحي إلهي؟\"\n",
      "Searching hadith for \"هل التجديف يعاقب عليه بالإعدام؟\"\n",
      "Searching hadith for \"من يجب عليه الصيام في رمضان؟\"\n",
      "Searching hadith for \"ما هو الغرض من الصيام في رمضان؟\"\n",
      "Searching hadith for \"ماذا يقدم الإسلام للناس؟\"\n",
      "Searching hadith for \"مدة الصيام في رمضان\"\n",
      "Searching hadith for \"كيف يُساء تفسير الجهاد كإرهاب؟\"\n",
      "Searching al-mawsuah for \"كيف تصوم رمضان؟\"\n",
      "Searching al-mawsuah for \"كيف نعلم أن القرآن وحي إلهي؟\"\n",
      "Searching al-mawsuah for \"من يجب عليه الصيام في رمضان؟\"\n",
      "Searching al-mawsuah for \"ما هو الغرض من الصيام في رمضان؟\"\n",
      "Searching al-mawsuah for \"مدة الصيام في رمضان\"\n",
      "Searching al-mawsuah for \"هل التجديف يعاقب عليه بالإعدام؟\"\n",
      "Searching al-mawsuah for \"ماذا يقدم الإسلام للناس؟\"\n",
      "Searching al-mawsuah for \"كيف يُساء تفسير الجهاد كإرهاب؟\"\n"
     ]
    },
    {
     "name": "stderr",
     "output_type": "stream",
     "text": [
      "Average Metric: 122 / 17  (717.6):  17%|█▋        | 17/98 [00:06<00:31,  2.54it/s]"
     ]
    },
    {
     "name": "stdout",
     "output_type": "stream",
     "text": [
      "Searching quran for \"كيف يُساء تفسير الجهاد كإرهاب؟\"\n"
     ]
    },
    {
     "name": "stderr",
     "output_type": "stream",
     "text": [
      "Average Metric: 140 / 19  (736.8):  19%|█▉        | 19/98 [00:07<00:27,  2.87it/s]"
     ]
    },
    {
     "name": "stdout",
     "output_type": "stream",
     "text": [
      "Searching quran for \"أركان الإسلام الخمسة\"\n",
      "Searching quran for \"كيف يعامل الإسلام الأقليات الدينية؟\"\n"
     ]
    },
    {
     "name": "stderr",
     "output_type": "stream",
     "text": [
      "Average Metric: 182 / 24  (758.3):  23%|██▎       | 23/98 [00:07<00:18,  4.08it/s]"
     ]
    },
    {
     "name": "stdout",
     "output_type": "stream",
     "text": [
      "Searching quran for \"من هو الله\"\n",
      "Searching quran for \"ليلة القدر\"\n",
      "Searching quran for \"هل يؤمن المسلمون بالروح القدس؟\"\n",
      "Searching quran for \"هل يؤمن المسلمون بالجنة والنار؟\"\n",
      "Searching quran for \"ما معنى الجهاد؟\"\n",
      "Searching hadith for \"كيف يُساء تفسير الجهاد كإرهاب؟\"\n",
      "Searching hadith for \"أركان الإسلام الخمسة\"\n",
      "Searching hadith for \"معاملة الإسلام للأقليات الدينية\"\n",
      "Searching hadith for \"هل ذكر الروح القدس في الأحاديث؟\"\n",
      "Searching hadith for \"ما هي ليلة القدر\"\n",
      "Searching hadith for \"هل ذكر النبي الجنة والنار؟\"\n",
      "Searching hadith for \"من هو الله\"\n",
      "Searching hadith for \"ما معنى الجهاد؟\"\n",
      "Searching al-mawsuah for \"كيف يُساء تفسير الجهاد كإرهاب؟\"\n",
      "Searching al-mawsuah for \"أركان الإسلام الخمسة\"\n",
      "Searching al-mawsuah for \"معاملة الأقليات الدينية في الفقه الإسلامي\"\n",
      "Searching al-mawsuah for \"ليلة القدر في الفقه الإسلامي\"\n",
      "Searching al-mawsuah for \"ما معنى الجهاد؟\"\n",
      "Searching al-mawsuah for \"الإيمان بالروح القدس في الفقه الإسلامي\"\n",
      "Searching al-mawsuah for \"الإيمان بالجنة والنار في الفقه الإسلامي\"\n",
      "Searching al-mawsuah for \"من هو الله\"\n"
     ]
    },
    {
     "name": "stderr",
     "output_type": "stream",
     "text": [
      "Average Metric: 192 / 25  (768.0):  26%|██▌       | 25/98 [00:09<00:26,  2.78it/s]"
     ]
    },
    {
     "name": "stdout",
     "output_type": "stream",
     "text": [
      "Searching quran for \"أين يحدث الحج؟\"\n"
     ]
    },
    {
     "name": "stderr",
     "output_type": "stream",
     "text": [
      "Average Metric: 198 / 26  (761.5):  26%|██▌       | 25/98 [00:09<00:26,  2.78it/s]"
     ]
    },
    {
     "name": "stdout",
     "output_type": "stream",
     "text": [
      "Searching quran for \"أحكام الحرب في الإسلام\"\n"
     ]
    },
    {
     "name": "stderr",
     "output_type": "stream",
     "text": [
      "Average Metric: 234 / 30  (780.0):  30%|██▉       | 29/98 [00:10<00:23,  2.95it/s]"
     ]
    },
    {
     "name": "stdout",
     "output_type": "stream",
     "text": [
      "Searching quran for \"متى ليلة القدر؟\"\n",
      "Searching quran for \"لماذا الكعبة مهمة؟\"\n",
      "Searching quran for \"كم مرة يصلي المسلمون خلال رمضان؟\"\n",
      "Searching quran for \"لماذا يجب على المسلمين الصيام لمدة شهر كامل؟\"\n"
     ]
    },
    {
     "name": "stderr",
     "output_type": "stream",
     "text": [
      "Average Metric: 250 / 32  (781.2):  33%|███▎      | 32/98 [00:10<00:13,  5.04it/s]"
     ]
    },
    {
     "name": "stdout",
     "output_type": "stream",
     "text": [
      "Searching quran for \"كيف يمكن فهم والتعامل مع الحزن والأسى في الإسلام؟\"\n",
      "Searching hadith for \"أين يحدث الحج؟\"\n",
      "Searching quran for \"كيف يمكن للمرء أن يطهر قلبه وروحه؟\"\n",
      "Searching hadith for \"أحاديث عن أحكام الحرب في الإسلام\"\n",
      "Searching hadith for \"متى ليلة القدر؟\"\n",
      "Searching hadith for \"كم مرة يصلي المسلمون خلال رمضان؟\"\n",
      "Searching hadith for \"لماذا الكعبة مهمة؟\"\n",
      "Searching hadith for \"لماذا يجب على المسلمين الصيام لمدة شهر كامل؟\"\n",
      "Searching hadith for \"كيف يمكن فهم والتعامل مع الحزن والأسى في الإسلام؟\"\n",
      "Searching hadith for \"كيف يمكن للمرء أن يطهر قلبه وروحه؟\"\n",
      "Searching al-mawsuah for \"أين يحدث الحج؟\"\n",
      "Searching al-mawsuah for \"أحكام الحرب في الفقه الإسلامي\"\n",
      "Searching al-mawsuah for \"متى ليلة القدر؟\"\n"
     ]
    },
    {
     "name": "stderr",
     "output_type": "stream",
     "text": [
      "Average Metric: 262 / 33  (793.9):  33%|███▎      | 32/98 [00:11<00:13,  5.04it/s]"
     ]
    },
    {
     "name": "stdout",
     "output_type": "stream",
     "text": [
      "Searching al-mawsuah for \"كم مرة يصلي المسلمون خلال رمضان؟\"\n",
      "Searching al-mawsuah for \"أهمية الكعبة في الفقه الإسلامي\"\n",
      "Searching al-mawsuah for \"لماذا يجب على المسلمين الصيام لمدة شهر كامل؟\"\n",
      "Searching al-mawsuah for \"كيف يمكن فهم والتعامل مع الحزن والأسى في الإسلام؟\"\n",
      "Searching al-mawsuah for \"كيف يمكن للمرء أن يطهر قلبه وروحه؟\"\n",
      "Searching quran for \"ما هي الكعبة؟\"\n"
     ]
    },
    {
     "name": "stderr",
     "output_type": "stream",
     "text": [
      "Average Metric: 298 / 37  (805.4):  38%|███▊      | 37/98 [00:12<00:17,  3.46it/s]"
     ]
    },
    {
     "name": "stdout",
     "output_type": "stream",
     "text": [
      "Searching quran for \"من هو النبي محمد؟\"\n",
      "Searching quran for \"ما هي التزكية؟\"\n",
      "Searching quran for \"أحكام الحرب في الإسلام\"\n",
      "Searching quran for \"ما الذي يعلمه الإسلام عن إدارة القلق والاكتئاب والشك الذاتي؟\"\n"
     ]
    },
    {
     "name": "stderr",
     "output_type": "stream",
     "text": [
      "Average Metric: 320 / 40  (800.0):  41%|████      | 40/98 [00:12<00:12,  4.76it/s]"
     ]
    },
    {
     "name": "stdout",
     "output_type": "stream",
     "text": [
      "Searching quran for \"أين تؤدى العمرة؟\"\n",
      "Searching hadith for \"ما هي الكعبة؟\"\n",
      "Searching quran for \"كيف تكون الروحانية الإسلامية فريدة؟\"\n",
      "Searching quran for \"كيف يفهم الإسلام الروح\"\n",
      "Searching hadith for \"ما هي التزكية؟\"\n",
      "Searching hadith for \"أحاديث عن أحكام الحرب في الإسلام\"\n",
      "Searching hadith for \"من هو النبي محمد؟\"\n",
      "Searching hadith for \"ما الذي يعلمه الإسلام عن إدارة القلق والاكتئاب والشك الذاتي؟\"\n",
      "Searching hadith for \"كيف تكون الروحانية الإسلامية فريدة؟\"\n",
      "Searching hadith for \"فهم الروح في الإسلام\"\n",
      "Searching al-mawsuah for \"ما هي الكعبة؟\"\n",
      "Searching hadith for \"أين تؤدى العمرة؟\"\n",
      "Searching al-mawsuah for \"ما هي التزكية؟\"\n",
      "Searching al-mawsuah for \"أحكام الحرب في الفقه الإسلامي\"\n",
      "Searching al-mawsuah for \"من هو النبي محمد؟\"\n",
      "Searching al-mawsuah for \"ما الذي يعلمه الإسلام عن إدارة القلق والاكتئاب والشك الذاتي؟\"\n",
      "Searching al-mawsuah for \"كيف تكون الروحانية الإسلامية فريدة؟\"\n"
     ]
    },
    {
     "name": "stderr",
     "output_type": "stream",
     "text": [
      "Average Metric: 326 / 41  (795.1):  41%|████      | 40/98 [00:14<00:12,  4.76it/s]"
     ]
    },
    {
     "name": "stdout",
     "output_type": "stream",
     "text": [
      "Searching quran for \"من هو عيسى في الإسلام؟\"\n",
      "Searching al-mawsuah for \"الروح في الفقه الإسلامي\"\n"
     ]
    },
    {
     "name": "stderr",
     "output_type": "stream",
     "text": [
      "Average Metric: 336 / 42  (800.0):  43%|████▎     | 42/98 [00:14<00:22,  2.46it/s]"
     ]
    },
    {
     "name": "stdout",
     "output_type": "stream",
     "text": [
      "Searching quran for \"ما هو الإسلام؟\"\n"
     ]
    },
    {
     "name": "stderr",
     "output_type": "stream",
     "text": [
      "Average Metric: 364 / 46  (791.3):  46%|████▌     | 45/98 [00:14<00:20,  2.59it/s]"
     ]
    },
    {
     "name": "stdout",
     "output_type": "stream",
     "text": [
      "Searching quran for \"متى رمضان؟\"\n",
      "Searching quran for \"كيف يعامل الإسلام الأقليات الدينية؟\"\n",
      "Searching quran for \"كيف تتعلق الشريعة بطقوس العبادة؟\"\n",
      "Searching quran for \"هل انتشر الإسلام بالعنف والإكراه؟\"\n",
      "Searching al-mawsuah for \"أين تؤدى العمرة؟\"\n"
     ]
    },
    {
     "name": "stderr",
     "output_type": "stream",
     "text": [
      "Average Metric: 374 / 47  (795.7):  48%|████▊     | 47/98 [00:15<00:12,  4.05it/s]"
     ]
    },
    {
     "name": "stdout",
     "output_type": "stream",
     "text": [
      "Searching hadith for \"من هو عيسى في الأحاديث؟\"\n",
      "Searching quran for \"لماذا يتم الاحتفال بشهر رمضان؟\"\n",
      "Searching hadith for \"ما هو الإسلام؟\"\n"
     ]
    },
    {
     "name": "stderr",
     "output_type": "stream",
     "text": [
      "Average Metric: 382 / 48  (795.8):  49%|████▉     | 48/98 [00:15<00:14,  3.39it/s]"
     ]
    },
    {
     "name": "stdout",
     "output_type": "stream",
     "text": [
      "Searching hadith for \"متى رمضان؟\"\n",
      "Searching hadith for \"معاملة الإسلام للأقليات الدينية\"\n",
      "Searching hadith for \"هل انتشر الإسلام بالعنف والإكراه؟\"\n",
      "Searching hadith for \"كيف تتعلق الشريعة بطقوس العبادة؟\"\n",
      "Searching quran for \"من هو النبي إبراهيم؟\"\n",
      "Searching al-mawsuah for \"من هو عيسى في الفقه الإسلامي؟\"\n",
      "Searching hadith for \"لماذا يتم الاحتفال بشهر رمضان؟\"\n",
      "Searching al-mawsuah for \"ما هو الإسلام؟\"\n",
      "Searching al-mawsuah for \"معاملة الأقليات الدينية في الفقه الإسلامي\"\n",
      "Searching al-mawsuah for \"كيف تتعلق الشريعة بطقوس العبادة؟\"\n",
      "Searching al-mawsuah for \"متى رمضان؟\"\n",
      "Searching al-mawsuah for \"هل انتشر الإسلام بالعنف والإكراه؟\"\n",
      "Searching hadith for \"من هو النبي إبراهيم؟\"\n",
      "Searching al-mawsuah for \"لماذا يتم الاحتفال بشهر رمضان؟\"\n"
     ]
    },
    {
     "name": "stderr",
     "output_type": "stream",
     "text": [
      "Average Metric: 392 / 50  (784.0):  50%|█████     | 49/98 [00:16<00:21,  2.26it/s]"
     ]
    },
    {
     "name": "stdout",
     "output_type": "stream",
     "text": [
      "Searching quran for \"ما هو زكاة الفطر؟\"\n",
      "Searching quran for \"هل يسمح الإسلام بقتل المدنيين؟\"\n"
     ]
    },
    {
     "name": "stderr",
     "output_type": "stream",
     "text": [
      "Average Metric: 436 / 55  (792.7):  56%|█████▌    | 55/98 [00:17<00:08,  5.08it/s]"
     ]
    },
    {
     "name": "stdout",
     "output_type": "stream",
     "text": [
      "Searching quran for \"ما هو الفقه؟\"\n",
      "Searching quran for \"القيود الغذائية في الإسلام\"\n",
      "Searching quran for \"كيف تتعلق الشريعة بالمجتمع؟\"\n",
      "Searching quran for \"أهمية الصدقة في رمضان\"\n",
      "Searching quran for \"ما هو القرآن؟\"\n",
      "Searching al-mawsuah for \"من هو النبي إبراهيم؟\"\n",
      "Searching hadith for \"هل يسمح الإسلام بقتل المدنيين؟\"\n",
      "Searching hadith for \"ما هو زكاة الفطر؟\"\n",
      "Searching hadith for \"كيف تتعلق الشريعة بالمجتمع؟\"\n",
      "Searching hadith for \"ما هو الفقه؟\"\n",
      "Searching hadith for \"القيود الغذائية في الإسلام\"\n",
      "Searching hadith for \"فضل الصدقة في رمضان\"\n",
      "Searching hadith for \"ما هو القرآن؟\"\n"
     ]
    },
    {
     "name": "stderr",
     "output_type": "stream",
     "text": [
      "Average Metric: 442 / 56  (789.3):  56%|█████▌    | 55/98 [00:18<00:08,  5.08it/s]"
     ]
    },
    {
     "name": "stdout",
     "output_type": "stream",
     "text": [
      "Searching quran for \"من بنى الكعبة؟\"\n",
      "Searching al-mawsuah for \"ما هو زكاة الفطر؟\"\n",
      "Searching al-mawsuah for \"هل يسمح الإسلام بقتل المدنيين؟\"\n",
      "Searching al-mawsuah for \"الصدقة في رمضان\"\n",
      "Searching al-mawsuah for \"ما هو القرآن؟\"\n",
      "Searching al-mawsuah for \"كيف تتعلق الشريعة بالمجتمع؟\"\n",
      "Searching al-mawsuah for \"ما هو الفقه؟\"\n",
      "Searching al-mawsuah for \"القيود الغذائية في الإسلام\"\n"
     ]
    },
    {
     "name": "stderr",
     "output_type": "stream",
     "text": [
      "Average Metric: 452 / 58  (779.3):  58%|█████▊    | 57/98 [00:19<00:15,  2.59it/s]"
     ]
    },
    {
     "name": "stdout",
     "output_type": "stream",
     "text": [
      "Searching quran for \"من أين تأتي الشريعة؟\"\n",
      "Searching hadith for \"من بنى الكعبة؟\"\n",
      "Searching quran for \"كيف يغذي الإسلام رفاهنا العاطفي؟\"\n"
     ]
    },
    {
     "name": "stderr",
     "output_type": "stream",
     "text": [
      "Average Metric: 486 / 62  (783.9):  62%|██████▏   | 61/98 [00:19<00:12,  2.90it/s]"
     ]
    },
    {
     "name": "stdout",
     "output_type": "stream",
     "text": [
      "Searching quran for \"كيفية أداء العمرة\"\n",
      "Searching quran for \"آيات القرآن للتعامل مع الضيق والشدائد\"\n",
      "Searching quran for \"هل يقول القرآن بقتل غير المؤمنين؟\"\n",
      "Searching quran for \"هل التجديف يعاقب عليه بالإعدام؟\"\n"
     ]
    },
    {
     "name": "stderr",
     "output_type": "stream",
     "text": [
      "Average Metric: 496 / 63  (787.3):  64%|██████▍   | 63/98 [00:20<00:07,  4.44it/s]"
     ]
    },
    {
     "name": "stdout",
     "output_type": "stream",
     "text": [
      "Searching quran for \"هل يسمح الإسلام بقتل المدنيين؟\"\n",
      "Searching hadith for \"كيف يغذي الإسلام رفاهنا العاطفي؟\"\n",
      "Searching hadith for \"من أين تأتي الشريعة؟\"\n",
      "Searching al-mawsuah for \"من بنى الكعبة؟\"\n",
      "Searching hadith for \"كيفية أداء العمرة\"\n",
      "Searching hadith for \"أحاديث عن التعامل مع الضيق والشدائد\"\n",
      "Searching hadith for \"هل التجديف يعاقب عليه بالإعدام؟\"\n"
     ]
    },
    {
     "name": "stderr",
     "output_type": "stream",
     "text": [
      "Average Metric: 504 / 64  (787.5):  64%|██████▍   | 63/98 [00:20<00:07,  4.44it/s]"
     ]
    },
    {
     "name": "stdout",
     "output_type": "stream",
     "text": [
      "Searching hadith for \"هل يوجد حديث يأمر بقتل غير المؤمنين؟\"\n",
      "Searching hadith for \"هل يسمح الإسلام بقتل المدنيين؟\"\n",
      "Searching al-mawsuah for \"مصادر الشريعة الإسلامية\"\n",
      "Searching al-mawsuah for \"كيف يغذي الإسلام رفاهنا العاطفي؟\"\n",
      "Searching quran for \"ما معنى الإسلام؟\"\n",
      "Searching al-mawsuah for \"كيفية أداء العمرة\"\n",
      "Searching al-mawsuah for \"أحكام الفقه الإسلامي حول التعامل مع الضيق والشدائد\"\n",
      "Searching al-mawsuah for \"هل التجديف يعاقب عليه بالإعدام؟\"\n",
      "Searching al-mawsuah for \"ما هو حكم قتل غير المؤمنين في الفقه الإسلامي؟\"\n"
     ]
    },
    {
     "name": "stderr",
     "output_type": "stream",
     "text": [
      "Average Metric: 522 / 66  (790.9):  66%|██████▋   | 65/98 [00:21<00:12,  2.71it/s]"
     ]
    },
    {
     "name": "stdout",
     "output_type": "stream",
     "text": [
      "Searching al-mawsuah for \"هل يسمح الإسلام بقتل المدنيين؟\"\n",
      "Searching quran for \"ما هو عيد الفطر؟\"\n",
      "Searching quran for \"لماذا الحج مهم؟\"\n",
      "Searching hadith for \"ما معنى الإسلام في الحديث؟\"\n"
     ]
    },
    {
     "name": "stderr",
     "output_type": "stream",
     "text": [
      "Average Metric: 532 / 68  (782.4):  68%|██████▊   | 67/98 [00:22<00:09,  3.17it/s]"
     ]
    },
    {
     "name": "stdout",
     "output_type": "stream",
     "text": [
      "Searching quran for \"كيفية أداء الحج\"\n",
      "Searching quran for \"هل يقول القرآن بقتل غير المؤمنين؟\"\n"
     ]
    },
    {
     "name": "stderr",
     "output_type": "stream",
     "text": [
      "Average Metric: 552 / 71  (777.5):  72%|███████▏  | 71/98 [00:22<00:05,  4.69it/s]"
     ]
    },
    {
     "name": "stdout",
     "output_type": "stream",
     "text": [
      "Searching quran for \"ما هي العمرة؟\"\n",
      "Searching quran for \"هل هناك استثناءات أو إعفاءات من الصيام؟\"\n",
      "Searching quran for \"هل انتشر الإسلام بالعنف والإكراه؟\"\n",
      "Searching hadith for \"أهمية الحج في الأحاديث\"\n",
      "Searching hadith for \"ما هو عيد الفطر؟\"\n",
      "Searching al-mawsuah for \"ما هو تعريف الإسلام في الفقه الإسلامي؟\"\n",
      "Searching hadith for \"كيفية أداء الحج\"\n",
      "Searching hadith for \"هل يوجد حديث يأمر بقتل غير المؤمنين؟\"\n",
      "Searching hadith for \"ما هي العمرة؟\"\n",
      "Searching hadith for \"هل هناك استثناءات أو إعفاءات من الصيام؟\"\n",
      "Searching hadith for \"هل انتشر الإسلام بالعنف والإكراه؟\"\n"
     ]
    },
    {
     "name": "stderr",
     "output_type": "stream",
     "text": [
      "Average Metric: 560 / 72  (777.8):  73%|███████▎  | 72/98 [00:23<00:09,  2.81it/s]"
     ]
    },
    {
     "name": "stdout",
     "output_type": "stream",
     "text": [
      "Searching al-mawsuah for \"أهمية الحج في الفقه الإسلامي\"\n",
      "Searching al-mawsuah for \"ما هو عيد الفطر؟\"\n",
      "Searching quran for \"هل العمرة والحج نفس الشيء؟\"\n",
      "Searching al-mawsuah for \"كيفية أداء الحج\"\n",
      "Searching al-mawsuah for \"ما هو حكم قتل غير المؤمنين في الفقه الإسلامي؟\"\n",
      "Searching al-mawsuah for \"هل انتشر الإسلام بالعنف والإكراه؟\"\n",
      "Searching al-mawsuah for \"ما هي العمرة؟\"\n",
      "Searching al-mawsuah for \"هل هناك استثناءات أو إعفاءات من الصيام؟\"\n",
      "Searching quran for \"ماذا يؤمن المسلمون؟\"\n"
     ]
    },
    {
     "name": "stderr",
     "output_type": "stream",
     "text": [
      "Average Metric: 576 / 75  (768.0):  76%|███████▌  | 74/98 [00:24<00:08,  2.94it/s]"
     ]
    },
    {
     "name": "stdout",
     "output_type": "stream",
     "text": [
      "Searching quran for \"هل الشريعة موحدة وغير متغيرة؟\"\n",
      "Searching quran for \"ما هي الصدقة؟\"\n",
      "Searching hadith for \"هل العمرة والحج نفس الشيء؟\"\n"
     ]
    },
    {
     "name": "stderr",
     "output_type": "stream",
     "text": [
      "Average Metric: 592 / 77  (768.8):  78%|███████▊  | 76/98 [00:24<00:05,  3.85it/s]"
     ]
    },
    {
     "name": "stdout",
     "output_type": "stream",
     "text": [
      "Searching quran for \"صلاة التراويح\"\n"
     ]
    },
    {
     "name": "stderr",
     "output_type": "stream",
     "text": [
      "Average Metric: 612 / 79  (774.7):  80%|███████▉  | 78/98 [00:24<00:04,  4.59it/s]"
     ]
    },
    {
     "name": "stdout",
     "output_type": "stream",
     "text": [
      "Searching quran for \"ما هو التوحيد؟\"\n",
      "Searching quran for \"ما معنى الجهاد؟\"\n"
     ]
    },
    {
     "name": "stderr",
     "output_type": "stream",
     "text": [
      "Average Metric: 612 / 79  (774.7):  81%|████████  | 79/98 [00:24<00:03,  5.29it/s]"
     ]
    },
    {
     "name": "stdout",
     "output_type": "stream",
     "text": [
      "Searching quran for \"كيف يتناول الإسلام القدر والإرادة الحرة؟\"\n",
      "Searching hadith for \"ماذا يؤمن المسلمون؟\"\n",
      "Searching al-mawsuah for \"هل العمرة والحج نفس الشيء؟\"\n",
      "Searching hadith for \"هل الشريعة موحدة وغير متغيرة؟\"\n",
      "Searching hadith for \"ما هي الصدقة؟\"\n",
      "Searching hadith for \"صلاة التراويح\"\n",
      "Searching hadith for \"ما هو التوحيد؟\"\n",
      "Searching hadith for \"ما معنى الجهاد؟\"\n",
      "Searching hadith for \"كيف يتناول الإسلام القدر والإرادة الحرة؟\"\n"
     ]
    },
    {
     "name": "stderr",
     "output_type": "stream",
     "text": [
      "Average Metric: 620 / 80  (775.0):  82%|████████▏ | 80/98 [00:25<00:06,  2.73it/s]"
     ]
    },
    {
     "name": "stdout",
     "output_type": "stream",
     "text": [
      "Searching al-mawsuah for \"ماذا يؤمن المسلمون؟\"Searching quran for \"الطلاق في الإسلام\"\n",
      "\n",
      "Searching al-mawsuah for \"ما هي الصدقة؟\"\n",
      "Searching al-mawsuah for \"هل الشريعة موحدة وغير متغيرة؟\"\n",
      "Searching al-mawsuah for \"صلاة التراويح\"\n"
     ]
    },
    {
     "name": "stderr",
     "output_type": "stream",
     "text": [
      "Average Metric: 628 / 81  (775.3):  83%|████████▎ | 81/98 [00:26<00:07,  2.14it/s]"
     ]
    },
    {
     "name": "stdout",
     "output_type": "stream",
     "text": [
      "Searching al-mawsuah for \"ما معنى الجهاد؟\"\n",
      "Searching al-mawsuah for \"ما هو التوحيد؟\"\n",
      "Searching quran for \"ما هي الأعياد التي يحتفل بها المسلمون؟\"\n"
     ]
    },
    {
     "name": "stderr",
     "output_type": "stream",
     "text": [
      "Average Metric: 638 / 83  (768.7):  84%|████████▎ | 82/98 [00:26<00:06,  2.57it/s]"
     ]
    },
    {
     "name": "stdout",
     "output_type": "stream",
     "text": [
      "Searching al-mawsuah for \"كيف يتناول الإسلام القدر والإرادة الحرة؟\"\n",
      "Searching hadith for \"حديث عن الطلاق\"\n",
      "Searching quran for \"هل الوسواس القهري نتيجة وساوس الشيطان؟\"\n",
      "Searching quran for \"كيف نعرف أن الله موجود؟\"\n"
     ]
    },
    {
     "name": "stderr",
     "output_type": "stream",
     "text": [
      "Average Metric: 650 / 85  (764.7):  87%|████████▋ | 85/98 [00:27<00:03,  4.16it/s]"
     ]
    },
    {
     "name": "stdout",
     "output_type": "stream",
     "text": [
      "Searching quran for \"تاريخ الشريعة\"\n",
      "Searching quran for \"هل يسمح الإسلام بالحرب الوقائية؟\"\n"
     ]
    },
    {
     "name": "stderr",
     "output_type": "stream",
     "text": [
      "Average Metric: 662 / 87  (760.9):  89%|████████▉ | 87/98 [00:27<00:02,  5.24it/s]"
     ]
    },
    {
     "name": "stdout",
     "output_type": "stream",
     "text": [
      "Searching quran for \"الوحي في الإسلام\"\n",
      "Searching al-mawsuah for \"الطلاق في الفقه الإسلامي\"\n",
      "Searching quran for \"هل الإسلام يشجع على العنف؟\"\n",
      "Searching hadith for \"ما هي الأعياد التي يحتفل بها المسلمون؟\"\n",
      "Searching hadith for \"هل الوسواس القهري نتيجة وساوس الشيطان؟\"\n",
      "Searching hadith for \"كيف نعرف أن الله موجود؟\"\n",
      "Searching hadith for \"تاريخ الشريعة\"\n",
      "Searching hadith for \"هل يسمح الإسلام بالحرب الوقائية؟\"\n",
      "Searching hadith for \"الوحي في الإسلام\"\n"
     ]
    },
    {
     "name": "stderr",
     "output_type": "stream",
     "text": [
      "Average Metric: 670 / 88  (761.4):  90%|████████▉ | 88/98 [00:28<00:03,  2.96it/s]"
     ]
    },
    {
     "name": "stdout",
     "output_type": "stream",
     "text": [
      "Searching hadith for \"هل الإسلام يشجع على العنف؟\"\n",
      "Searching quran for \"ما هي أهمية الحج؟\"\n",
      "Searching al-mawsuah for \"ما هي الأعياد التي يحتفل بها المسلمون؟\"\n",
      "Searching al-mawsuah for \"هل الوسواس القهري نتيجة وساوس الشيطان؟\"\n",
      "Searching al-mawsuah for \"تاريخ الشريعة\"\n",
      "Searching al-mawsuah for \"كيف نعرف أن الله موجود؟\"\n",
      "Searching al-mawsuah for \"الوحي في الإسلام\"\n",
      "Searching al-mawsuah for \"هل يسمح الإسلام بالحرب الوقائية؟\"\n",
      "Searching al-mawsuah for \"هل الإسلام يشجع على العنف؟\"\n"
     ]
    },
    {
     "name": "stderr",
     "output_type": "stream",
     "text": [
      "Average Metric: 694 / 91  (762.6):  92%|█████████▏| 90/98 [00:29<00:02,  2.70it/s]"
     ]
    },
    {
     "name": "stdout",
     "output_type": "stream",
     "text": [
      "Searching quran for \"لماذا يطلب الله من الناس عبادته؟\"\n",
      "Searching hadith for \"ما هي أهمية الحج؟\"\n",
      "Searching quran for \"هل يؤمن المسلمون بصلب عيسى؟\"\n"
     ]
    },
    {
     "name": "stderr",
     "output_type": "stream",
     "text": [
      "Average Metric: 724 / 95  (762.1):  97%|█████████▋| 95/98 [00:29<00:00,  5.30it/s]"
     ]
    },
    {
     "name": "stdout",
     "output_type": "stream",
     "text": [
      "Searching al-mawsuah for \"ما هي أهمية الحج؟\"\n",
      "Searching hadith for \"لماذا يطلب الله من الناس عبادته؟\"\n",
      "Searching hadith for \"هل ورد في الأحاديث أن المسلمين يؤمنون بصلب عيسى؟\"\n"
     ]
    },
    {
     "name": "stderr",
     "output_type": "stream",
     "text": [
      "Average Metric: 734 / 96  (764.6):  98%|█████████▊| 96/98 [00:30<00:00,  2.83it/s]"
     ]
    },
    {
     "name": "stdout",
     "output_type": "stream",
     "text": [
      "Searching al-mawsuah for \"لماذا يطلب الله من الناس عبادته؟\"\n",
      "Searching al-mawsuah for \"موقف الفقه الإسلامي من صلب عيسى\"\n"
     ]
    },
    {
     "name": "stderr",
     "output_type": "stream",
     "text": [
      "Average Metric: 748 / 98  (763.3): 100%|██████████| 98/98 [00:31<00:00,  3.11it/s]\n"
     ]
    },
    {
     "name": "stdout",
     "output_type": "stream",
     "text": [
      "Searching quran for \"هل يسمح الإسلام بجرائم الشرف؟\"\n",
      "Searching quran for \"من يجب عليه أداء الحج؟\"\n",
      "Searching quran for \"أين الكعبة؟\"\n",
      "Searching quran for \"هل يقدم القرآن توجيهات حول كيفية التعامل مع الصدمة والألم؟\"\n"
     ]
    },
    {
     "name": "stderr",
     "output_type": "stream",
     "text": [
      "  0%|          | 0/98 [00:00<?, ?it/s]"
     ]
    },
    {
     "name": "stdout",
     "output_type": "stream",
     "text": [
      "Searching quran for \"ما هي الفتوى؟\"\n",
      "Searching quran for \"هل يصوم المسلمون خارج رمضان؟\"\n",
      "Searching quran for \"هل الردة يعاقب عليها بالإعدام في الإسلام؟\"\n",
      "Searching quran for \"ما معنى حلال؟\"\n",
      "Searching hadith for \"أين الكعبة؟\"\n",
      "Searching hadith for \"ما هي الفتوى؟\"\n",
      "Searching hadith for \"هل توجد أحاديث تتعلق بجرائم الشرف؟\"\n",
      "Searching hadith for \"ما معنى حلال؟\"\n",
      "Searching hadith for \"هل تقدم السنة النبوية توجيهات حول كيفية التعامل مع الصدمة والألم؟\"\n",
      "Searching hadith for \"هل يصوم المسلمون خارج رمضان؟\"\n",
      "Searching hadith for \"من يجب عليه أداء الحج؟\"\n",
      "Searching hadith for \"هل يعاقب المرتد بالإعدام في الإسلام؟\"\n",
      "Searching al-mawsuah for \"ما هو حكم الفقه الإسلامي في جرائم الشرف؟\"\n",
      "Searching al-mawsuah for \"من يجب عليه أداء الحج؟\"\n",
      "Searching al-mawsuah for \"أين الكعبة؟\"\n",
      "Searching al-mawsuah for \"ما هي الفتوى؟\"\n",
      "Searching al-mawsuah for \"ما معنى حلال؟\"\n",
      "Searching al-mawsuah for \"كيفية التعامل مع الصدمة والألم في الفقه الإسلامي\"\n",
      "Searching al-mawsuah for \"هل يصوم المسلمون خارج رمضان؟\"\n",
      "Searching al-mawsuah for \"حكم الردة في الفقه الإسلامي\"\n"
     ]
    },
    {
     "name": "stderr",
     "output_type": "stream",
     "text": [
      "Average Metric: 54 / 7  (771.4):   6%|▌         | 6/98 [00:02<01:37,  1.06s/it]"
     ]
    },
    {
     "name": "stdout",
     "output_type": "stream",
     "text": [
      "Searching quran for \"ما هو رمضان؟\"\n",
      "Searching quran for \"هل يسمح الإسلام بالحرب الوقائية؟\"\n",
      "Searching quran for \"هل الإسلام يشجع على العنف؟\"\n",
      "Searching quran for \"أهمية ليلة القدر\"\n",
      "Searching quran for \"كيف يصف القرآن السعادة؟ كيف يمكن تحقيقها في الإسلام؟\"\n",
      "Searching quran for \"هل يوفر الإسلام إرشادات حول كيفية التعامل مع الأمراض النفسية؟\"\n",
      "Searching quran for \"ما هو رمضان؟\"\n"
     ]
    },
    {
     "name": "stderr",
     "output_type": "stream",
     "text": [
      "Average Metric: 64 / 8  (800.0):   8%|▊         | 8/98 [00:02<00:17,  5.10it/s]"
     ]
    },
    {
     "name": "stdout",
     "output_type": "stream",
     "text": [
      "Searching quran for \"لماذا يصلي المسلمون يوميا؟\"\n",
      "Searching hadith for \"ما هو رمضان؟\"\n",
      "Searching hadith for \"هل الإسلام يشجع على العنف؟\"\n",
      "Searching hadith for \"هل يسمح الإسلام بالحرب الوقائية؟\"\n",
      "Searching hadith for \"فضل ليلة القدر\"\n",
      "Searching hadith for \"هل هناك أحاديث تتحدث عن كيفية التعامل مع الأمراض النفسية؟\"\n",
      "Searching hadith for \"كيف يصف الحديث السعادة؟ كيف يمكن تحقيقها في الإسلام؟\"\n",
      "Searching hadith for \"ما هو رمضان؟\"\n",
      "Searching hadith for \"لماذا يصلي المسلمون يوميا؟\"\n",
      "Searching al-mawsuah for \"هل الإسلام يشجع على العنف؟\"Searching al-mawsuah for \"ما هو رمضان؟\"\n",
      "\n",
      "Searching al-mawsuah for \"أهمية ليلة القدر في الفقه الإسلامي\"\n",
      "Searching al-mawsuah for \"إرشادات الفقه الإسلامي حول التعامل مع الأمراض النفسية\"\n",
      "Searching al-mawsuah for \"ما هو رمضان؟\"\n",
      "Searching al-mawsuah for \"السعادة في الفقه الإسلامي وكيفية تحقيقها\"\n",
      "Searching al-mawsuah for \"هل يسمح الإسلام بالحرب الوقائية؟\"\n",
      "Searching al-mawsuah for \"لماذا يصلي المسلمون يوميا؟\"\n"
     ]
    },
    {
     "name": "stderr",
     "output_type": "stream",
     "text": [
      "Average Metric: 102 / 14  (728.6):  13%|█▎        | 13/98 [00:04<00:25,  3.28it/s]"
     ]
    },
    {
     "name": "stdout",
     "output_type": "stream",
     "text": [
      "Searching quran for \"كيف تصوم رمضان؟\"\n",
      "Searching quran for \"كيف نعلم أن القرآن وحي إلهي؟\"\n",
      "Searching quran for \"من يجب عليه الصيام في رمضان؟\"\n",
      "Searching quran for \"هل التجديف يعاقب عليه بالإعدام؟\"\n",
      "Searching quran for \"ما هو الغرض من الصيام في رمضان؟\"\n",
      "Searching quran for \"ماذا يقدم الإسلام للناس؟\"\n",
      "Searching quran for \"مدة الصيام في رمضان\"\n"
     ]
    },
    {
     "name": "stderr",
     "output_type": "stream",
     "text": [
      "Average Metric: 114 / 16  (712.5):  15%|█▌        | 15/98 [00:05<00:19,  4.24it/s]"
     ]
    },
    {
     "name": "stdout",
     "output_type": "stream",
     "text": [
      "Searching quran for \"كيف يُساء تفسير الجهاد كإرهاب؟\"\n",
      "Searching hadith for \"كيف تصوم رمضان؟\"\n",
      "Searching hadith for \"من يجب عليه الصيام في رمضان؟\"\n",
      "Searching hadith for \"كيف نعلم أن القرآن وحي إلهي؟\"\n",
      "Searching hadith for \"هل التجديف يعاقب عليه بالإعدام؟\"\n",
      "Searching hadith for \"ماذا يقدم الإسلام للناس؟\"\n",
      "Searching hadith for \"مدة الصيام في رمضان\"\n",
      "Searching hadith for \"كيف يُساء تفسير الجهاد كإرهاب؟\"\n",
      "Searching hadith for \"ما هو الغرض من الصيام في رمضان؟\"\n",
      "Searching al-mawsuah for \"كيف تصوم رمضان؟\"\n",
      "Searching al-mawsuah for \"من يجب عليه الصيام في رمضان؟\"\n",
      "Searching al-mawsuah for \"كيف نعلم أن القرآن وحي إلهي؟\"\n",
      "Searching al-mawsuah for \"هل التجديف يعاقب عليه بالإعدام؟\"\n",
      "Searching al-mawsuah for \"مدة الصيام في رمضان\"\n",
      "Searching al-mawsuah for \"كيف يُساء تفسير الجهاد كإرهاب؟\"\n",
      "Searching al-mawsuah for \"ما هو الغرض من الصيام في رمضان؟\"\n",
      "Searching al-mawsuah for \"ماذا يقدم الإسلام للناس؟\"\n"
     ]
    },
    {
     "name": "stderr",
     "output_type": "stream",
     "text": [
      "Average Metric: 150 / 20  (750.0):  19%|█▉        | 19/98 [00:07<00:27,  2.84it/s]"
     ]
    },
    {
     "name": "stdout",
     "output_type": "stream",
     "text": [
      "Searching quran for \"كيف يُساء تفسير الجهاد كإرهاب؟\"\n",
      "Searching quran for \"أركان الإسلام الخمسة\"\n",
      "Searching quran for \"كيف يعامل الإسلام الأقليات الدينية؟\"\n",
      "Searching quran for \"ليلة القدر\"\n"
     ]
    },
    {
     "name": "stderr",
     "output_type": "stream",
     "text": [
      "Average Metric: 182 / 24  (758.3):  23%|██▎       | 23/98 [00:07<00:17,  4.23it/s]"
     ]
    },
    {
     "name": "stdout",
     "output_type": "stream",
     "text": [
      "Searching quran for \"من هو الله\"\n",
      "Searching quran for \"هل يؤمن المسلمون بالروح القدس؟\"\n",
      "Searching quran for \"هل يؤمن المسلمون بالجنة والنار؟\"\n",
      "Searching quran for \"ما معنى الجهاد؟\"\n",
      "Searching hadith for \"كيف يُساء تفسير الجهاد كإرهاب؟\"\n",
      "Searching hadith for \"أركان الإسلام الخمسة\"\n",
      "Searching hadith for \"معاملة الإسلام للأقليات الدينية\"\n",
      "Searching hadith for \"ما هي ليلة القدر\"\n",
      "Searching hadith for \"هل ذكر الروح القدس في الأحاديث؟\"\n",
      "Searching hadith for \"من هو الله\"\n",
      "Searching hadith for \"هل ذكر النبي الجنة والنار؟\"\n",
      "Searching hadith for \"ما معنى الجهاد؟\"\n",
      "Searching al-mawsuah for \"كيف يُساء تفسير الجهاد كإرهاب؟\"\n",
      "Searching al-mawsuah for \"أركان الإسلام الخمسة\"\n",
      "Searching al-mawsuah for \"معاملة الأقليات الدينية في الفقه الإسلامي\"\n",
      "Searching al-mawsuah for \"ليلة القدر في الفقه الإسلامي\"\n",
      "Searching al-mawsuah for \"ما معنى الجهاد؟\"\n",
      "Searching al-mawsuah for \"الإيمان بالروح القدس في الفقه الإسلامي\"\n",
      "Searching al-mawsuah for \"الإيمان بالجنة والنار في الفقه الإسلامي\"\n",
      "Searching al-mawsuah for \"من هو الله\"\n"
     ]
    },
    {
     "name": "stderr",
     "output_type": "stream",
     "text": [
      "Average Metric: 208 / 27  (770.4):  28%|██▊       | 27/98 [00:09<00:22,  3.13it/s]"
     ]
    },
    {
     "name": "stdout",
     "output_type": "stream",
     "text": [
      "Searching quran for \"أين يحدث الحج؟\"\n",
      "Searching quran for \"أحكام الحرب في الإسلام\"\n",
      "Searching quran for \"متى ليلة القدر؟\"\n"
     ]
    },
    {
     "name": "stderr",
     "output_type": "stream",
     "text": [
      "Average Metric: 232 / 30  (773.3):  30%|██▉       | 29/98 [00:09<00:17,  3.99it/s]"
     ]
    },
    {
     "name": "stdout",
     "output_type": "stream",
     "text": [
      "Searching quran for \"كم مرة يصلي المسلمون خلال رمضان؟\"\n",
      "Searching quran for \"لماذا الكعبة مهمة؟\"\n",
      "Searching quran for \"لماذا يجب على المسلمين الصيام لمدة شهر كامل؟\"\n"
     ]
    },
    {
     "name": "stderr",
     "output_type": "stream",
     "text": [
      "Average Metric: 250 / 32  (781.2):  32%|███▏      | 31/98 [00:10<00:14,  4.59it/s]"
     ]
    },
    {
     "name": "stdout",
     "output_type": "stream",
     "text": [
      "Searching quran for \"كيف يمكن فهم والتعامل مع الحزن والأسى في الإسلام؟\"\n",
      "Searching quran for \"كيف يمكن للمرء أن يطهر قلبه وروحه؟\"\n",
      "Searching hadith for \"أين يحدث الحج؟\"\n",
      "Searching hadith for \"أحاديث عن أحكام الحرب في الإسلام\"\n",
      "Searching hadith for \"متى ليلة القدر؟\"\n",
      "Searching hadith for \"لماذا الكعبة مهمة؟\"\n",
      "Searching hadith for \"كم مرة يصلي المسلمون خلال رمضان؟\"\n",
      "Searching hadith for \"لماذا يجب على المسلمين الصيام لمدة شهر كامل؟\"\n",
      "Searching hadith for \"كيف يمكن للمرء أن يطهر قلبه وروحه؟\"\n",
      "Searching hadith for \"كيف يمكن فهم والتعامل مع الحزن والأسى في الإسلام؟\"\n",
      "Searching al-mawsuah for \"أين يحدث الحج؟\"\n",
      "Searching al-mawsuah for \"أحكام الحرب في الفقه الإسلامي\"\n",
      "Searching al-mawsuah for \"متى ليلة القدر؟\"\n",
      "Searching al-mawsuah for \"أهمية الكعبة في الفقه الإسلامي\"\n",
      "Searching al-mawsuah for \"لماذا يجب على المسلمين الصيام لمدة شهر كامل؟\"\n",
      "Searching al-mawsuah for \"كم مرة يصلي المسلمون خلال رمضان؟\"\n"
     ]
    },
    {
     "name": "stderr",
     "output_type": "stream",
     "text": [
      "Average Metric: 262 / 33  (793.9):  34%|███▎      | 33/98 [00:11<00:26,  2.47it/s]"
     ]
    },
    {
     "name": "stdout",
     "output_type": "stream",
     "text": [
      "Searching al-mawsuah for \"كيف يمكن للمرء أن يطهر قلبه وروحه؟\"\n",
      "Searching al-mawsuah for \"كيف يمكن فهم والتعامل مع الحزن والأسى في الإسلام؟\"\n",
      "Searching quran for \"ما هي الكعبة؟\"\n"
     ]
    },
    {
     "name": "stderr",
     "output_type": "stream",
     "text": [
      "Average Metric: 282 / 35  (805.7):  35%|███▍      | 34/98 [00:12<00:22,  2.82it/s]"
     ]
    },
    {
     "name": "stdout",
     "output_type": "stream",
     "text": [
      "Searching quran for \"من هو النبي محمد؟\"\n",
      "Searching quran for \"ما هي التزكية؟\"\n"
     ]
    },
    {
     "name": "stderr",
     "output_type": "stream",
     "text": [
      "Average Metric: 302 / 38  (794.7):  39%|███▉      | 38/98 [00:12<00:13,  4.61it/s]"
     ]
    },
    {
     "name": "stdout",
     "output_type": "stream",
     "text": [
      "Searching quran for \"أحكام الحرب في الإسلام\"\n",
      "Searching quran for \"ما الذي يعلمه الإسلام عن إدارة القلق والاكتئاب والشك الذاتي؟\"\n",
      "Searching quran for \"أين تؤدى العمرة؟\"\n"
     ]
    },
    {
     "name": "stderr",
     "output_type": "stream",
     "text": [
      "Average Metric: 320 / 40  (800.0):  40%|███▉      | 39/98 [00:12<00:12,  4.81it/s]"
     ]
    },
    {
     "name": "stdout",
     "output_type": "stream",
     "text": [
      "Searching quran for \"كيف تكون الروحانية الإسلامية فريدة؟\"\n",
      "Searching quran for \"كيف يفهم الإسلام الروح\"\n",
      "Searching hadith for \"ما هي الكعبة؟\"\n",
      "Searching hadith for \"ما هي التزكية؟\"\n",
      "Searching hadith for \"من هو النبي محمد؟\"\n",
      "Searching hadith for \"أحاديث عن أحكام الحرب في الإسلام\"\n",
      "Searching hadith for \"ما الذي يعلمه الإسلام عن إدارة القلق والاكتئاب والشك الذاتي؟\"\n",
      "Searching hadith for \"كيف تكون الروحانية الإسلامية فريدة؟\"\n",
      "Searching hadith for \"فهم الروح في الإسلام\"\n",
      "Searching hadith for \"أين تؤدى العمرة؟\"\n",
      "Searching al-mawsuah for \"ما هي التزكية؟\"\n",
      "Searching al-mawsuah for \"ما هي الكعبة؟\"\n",
      "Searching al-mawsuah for \"من هو النبي محمد؟\"\n",
      "Searching al-mawsuah for \"أحكام الحرب في الفقه الإسلامي\"\n",
      "Searching al-mawsuah for \"ما الذي يعلمه الإسلام عن إدارة القلق والاكتئاب والشك الذاتي؟\"\n",
      "Searching al-mawsuah for \"كيف تكون الروحانية الإسلامية فريدة؟\"\n",
      "Searching al-mawsuah for \"الروح في الفقه الإسلامي\"\n"
     ]
    },
    {
     "name": "stderr",
     "output_type": "stream",
     "text": [
      "Average Metric: 336 / 42  (800.0):  42%|████▏     | 41/98 [00:14<00:26,  2.19it/s]"
     ]
    },
    {
     "name": "stdout",
     "output_type": "stream",
     "text": [
      "Searching quran for \"من هو عيسى في الإسلام؟\"\n",
      "Searching quran for \"ما هو الإسلام؟\"\n"
     ]
    },
    {
     "name": "stderr",
     "output_type": "stream",
     "text": [
      "Average Metric: 358 / 45  (795.6):  45%|████▍     | 44/98 [00:14<00:16,  3.26it/s]"
     ]
    },
    {
     "name": "stdout",
     "output_type": "stream",
     "text": [
      "Searching quran for \"متى رمضان؟\"\n",
      "Searching quran for \"كيف يعامل الإسلام الأقليات الدينية؟\"\n",
      "Searching quran for \"كيف تتعلق الشريعة بطقوس العبادة؟\"\n",
      "Searching al-mawsuah for \"أين تؤدى العمرة؟\"\n"
     ]
    },
    {
     "name": "stderr",
     "output_type": "stream",
     "text": [
      "Average Metric: 364 / 46  (791.3):  47%|████▋     | 46/98 [00:14<00:11,  4.51it/s]"
     ]
    },
    {
     "name": "stdout",
     "output_type": "stream",
     "text": [
      "Searching quran for \"هل انتشر الإسلام بالعنف والإكراه؟\"\n"
     ]
    },
    {
     "name": "stderr",
     "output_type": "stream",
     "text": [
      "Average Metric: 374 / 47  (795.7):  48%|████▊     | 47/98 [00:15<00:12,  4.23it/s]"
     ]
    },
    {
     "name": "stdout",
     "output_type": "stream",
     "text": [
      "Searching quran for \"لماذا يتم الاحتفال بشهر رمضان؟\"\n",
      "Searching hadith for \"ما هو الإسلام؟\"\n",
      "Searching hadith for \"من هو عيسى في الأحاديث؟\"\n"
     ]
    },
    {
     "name": "stderr",
     "output_type": "stream",
     "text": [
      "Average Metric: 382 / 48  (795.8):  49%|████▉     | 48/98 [00:15<00:12,  3.94it/s]"
     ]
    },
    {
     "name": "stdout",
     "output_type": "stream",
     "text": [
      "Searching hadith for \"متى رمضان؟\"\n",
      "Searching quran for \"من هو النبي إبراهيم؟\"\n",
      "Searching hadith for \"كيف تتعلق الشريعة بطقوس العبادة؟\"\n",
      "Searching hadith for \"معاملة الإسلام للأقليات الدينية\"\n",
      "Searching hadith for \"هل انتشر الإسلام بالعنف والإكراه؟\"\n",
      "Searching al-mawsuah for \"ما هو الإسلام؟\"\n",
      "Searching hadith for \"لماذا يتم الاحتفال بشهر رمضان؟\"\n",
      "Searching al-mawsuah for \"من هو عيسى في الفقه الإسلامي؟\"\n",
      "Searching al-mawsuah for \"متى رمضان؟\"\n",
      "Searching al-mawsuah for \"كيف تتعلق الشريعة بطقوس العبادة؟\"\n",
      "Searching al-mawsuah for \"معاملة الأقليات الدينية في الفقه الإسلامي\"\n",
      "Searching hadith for \"من هو النبي إبراهيم؟\"\n",
      "Searching al-mawsuah for \"هل انتشر الإسلام بالعنف والإكراه؟\"\n"
     ]
    },
    {
     "name": "stderr",
     "output_type": "stream",
     "text": [
      "Average Metric: 386 / 49  (787.8):  50%|█████     | 49/98 [00:16<00:24,  1.99it/s]"
     ]
    },
    {
     "name": "stdout",
     "output_type": "stream",
     "text": [
      "Searching al-mawsuah for \"لماذا يتم الاحتفال بشهر رمضان؟\"\n",
      "Searching quran for \"ما هو زكاة الفطر؟\"\n"
     ]
    },
    {
     "name": "stderr",
     "output_type": "stream",
     "text": [
      "Average Metric: 418 / 53  (788.7):  54%|█████▍    | 53/98 [00:17<00:10,  4.20it/s]"
     ]
    },
    {
     "name": "stdout",
     "output_type": "stream",
     "text": [
      "Searching quran for \"هل يسمح الإسلام بقتل المدنيين؟\"\n",
      "Searching quran for \"ما هو الفقه؟\"\n",
      "Searching quran for \"كيف تتعلق الشريعة بالمجتمع؟\"\n",
      "Searching quran for \"أهمية الصدقة في رمضان\"\n",
      "Searching quran for \"القيود الغذائية في الإسلام\"\n"
     ]
    },
    {
     "name": "stderr",
     "output_type": "stream",
     "text": [
      "Average Metric: 428 / 54  (792.6):  54%|█████▍    | 53/98 [00:17<00:10,  4.20it/s]"
     ]
    },
    {
     "name": "stdout",
     "output_type": "stream",
     "text": [
      "Searching al-mawsuah for \"من هو النبي إبراهيم؟\"\n"
     ]
    },
    {
     "name": "stderr",
     "output_type": "stream",
     "text": [
      "Average Metric: 436 / 55  (792.7):  56%|█████▌    | 55/98 [00:17<00:09,  4.51it/s]"
     ]
    },
    {
     "name": "stdout",
     "output_type": "stream",
     "text": [
      "Searching quran for \"ما هو القرآن؟\"\n",
      "Searching hadith for \"ما هو زكاة الفطر؟\"\n",
      "Searching hadith for \"هل يسمح الإسلام بقتل المدنيين؟\"\n",
      "Searching hadith for \"كيف تتعلق الشريعة بالمجتمع؟\"\n",
      "Searching hadith for \"ما هو الفقه؟\"\n"
     ]
    },
    {
     "name": "stderr",
     "output_type": "stream",
     "text": [
      "Average Metric: 442 / 56  (789.3):  57%|█████▋    | 56/98 [00:18<00:11,  3.51it/s]"
     ]
    },
    {
     "name": "stdout",
     "output_type": "stream",
     "text": [
      "Searching hadith for \"فضل الصدقة في رمضان\"\n",
      "Searching hadith for \"القيود الغذائية في الإسلام\"\n",
      "Searching quran for \"من بنى الكعبة؟\"\n",
      "Searching al-mawsuah for \"ما هو زكاة الفطر؟\"\n",
      "Searching hadith for \"ما هو القرآن؟\"\n",
      "Searching al-mawsuah for \"هل يسمح الإسلام بقتل المدنيين؟\"\n",
      "Searching al-mawsuah for \"كيف تتعلق الشريعة بالمجتمع؟\"\n",
      "Searching al-mawsuah for \"ما هو الفقه؟\"\n",
      "Searching al-mawsuah for \"الصدقة في رمضان\"\n",
      "Searching hadith for \"من بنى الكعبة؟\"\n",
      "Searching al-mawsuah for \"القيود الغذائية في الإسلام\"\n",
      "Searching al-mawsuah for \"ما هو القرآن؟\"\n"
     ]
    },
    {
     "name": "stderr",
     "output_type": "stream",
     "text": [
      "Average Metric: 452 / 58  (779.3):  59%|█████▉    | 58/98 [00:19<00:14,  2.71it/s]"
     ]
    },
    {
     "name": "stdout",
     "output_type": "stream",
     "text": [
      "Searching quran for \"من أين تأتي الشريعة؟\"\n",
      "Searching quran for \"كيف يغذي الإسلام رفاهنا العاطفي؟\"\n"
     ]
    },
    {
     "name": "stderr",
     "output_type": "stream",
     "text": [
      "Average Metric: 476 / 61  (780.3):  62%|██████▏   | 61/98 [00:19<00:08,  4.46it/s]"
     ]
    },
    {
     "name": "stdout",
     "output_type": "stream",
     "text": [
      "Searching quran for \"كيفية أداء العمرة\"\n",
      "Searching quran for \"آيات القرآن للتعامل مع الضيق والشدائد\"\n",
      "Searching quran for \"هل يقول القرآن بقتل غير المؤمنين؟\"\n"
     ]
    },
    {
     "name": "stderr",
     "output_type": "stream",
     "text": [
      "Average Metric: 496 / 63  (787.3):  63%|██████▎   | 62/98 [00:20<00:07,  4.67it/s]"
     ]
    },
    {
     "name": "stdout",
     "output_type": "stream",
     "text": [
      "Searching al-mawsuah for \"من بنى الكعبة؟\"\n",
      "Searching quran for \"هل التجديف يعاقب عليه بالإعدام؟\"\n",
      "Searching quran for \"هل يسمح الإسلام بقتل المدنيين؟\"\n"
     ]
    },
    {
     "name": "stderr",
     "output_type": "stream",
     "text": [
      "Average Metric: 496 / 63  (787.3):  64%|██████▍   | 63/98 [00:20<00:07,  4.86it/s]"
     ]
    },
    {
     "name": "stdout",
     "output_type": "stream",
     "text": [
      "Searching hadith for \"من أين تأتي الشريعة؟\"\n",
      "Searching hadith for \"كيف يغذي الإسلام رفاهنا العاطفي؟\"\n",
      "Searching hadith for \"كيفية أداء العمرة\"\n",
      "Searching hadith for \"أحاديث عن التعامل مع الضيق والشدائد\"\n",
      "Searching hadith for \"هل يوجد حديث يأمر بقتل غير المؤمنين؟\"\n",
      "Searching hadith for \"هل التجديف يعاقب عليه بالإعدام؟\"\n"
     ]
    },
    {
     "name": "stderr",
     "output_type": "stream",
     "text": [
      "Average Metric: 504 / 64  (787.5):  65%|██████▌   | 64/98 [00:20<00:11,  3.06it/s]"
     ]
    },
    {
     "name": "stdout",
     "output_type": "stream",
     "text": [
      "Searching quran for \"ما معنى الإسلام؟\"\n",
      "Searching hadith for \"هل يسمح الإسلام بقتل المدنيين؟\"\n",
      "Searching al-mawsuah for \"مصادر الشريعة الإسلامية\"\n",
      "Searching al-mawsuah for \"كيف يغذي الإسلام رفاهنا العاطفي؟\"\n",
      "Searching al-mawsuah for \"كيفية أداء العمرة\"\n",
      "Searching al-mawsuah for \"أحكام الفقه الإسلامي حول التعامل مع الضيق والشدائد\"\n",
      "Searching al-mawsuah for \"ما هو حكم قتل غير المؤمنين في الفقه الإسلامي؟\"\n"
     ]
    },
    {
     "name": "stderr",
     "output_type": "stream",
     "text": [
      "Average Metric: 512 / 65  (787.7):  65%|██████▌   | 64/98 [00:21<00:11,  3.06it/s]"
     ]
    },
    {
     "name": "stdout",
     "output_type": "stream",
     "text": [
      "Searching al-mawsuah for \"هل التجديف يعاقب عليه بالإعدام؟\"\n",
      "Searching al-mawsuah for \"هل يسمح الإسلام بقتل المدنيين؟\"\n",
      "Searching hadith for \"ما معنى الإسلام في الحديث؟\"\n"
     ]
    },
    {
     "name": "stderr",
     "output_type": "stream",
     "text": [
      "Average Metric: 532 / 68  (782.4):  68%|██████▊   | 67/98 [00:21<00:15,  1.99it/s]"
     ]
    },
    {
     "name": "stdout",
     "output_type": "stream",
     "text": [
      "Searching quran for \"ما هو عيد الفطر؟\"\n",
      "Searching quran for \"لماذا الحج مهم؟\"\n",
      "Searching quran for \"كيفية أداء الحج\"\n",
      "Searching quran for \"هل يقول القرآن بقتل غير المؤمنين؟\"\n"
     ]
    },
    {
     "name": "stderr",
     "output_type": "stream",
     "text": [
      "Average Metric: 552 / 71  (777.5):  72%|███████▏  | 71/98 [00:22<00:05,  4.80it/s]"
     ]
    },
    {
     "name": "stdout",
     "output_type": "stream",
     "text": [
      "Searching quran for \"هل هناك استثناءات أو إعفاءات من الصيام؟\"\n",
      "Searching quran for \"ما هي العمرة؟\"\n",
      "Searching quran for \"هل انتشر الإسلام بالعنف والإكراه؟\"\n",
      "Searching al-mawsuah for \"ما هو تعريف الإسلام في الفقه الإسلامي؟\"\n",
      "Searching hadith for \"أهمية الحج في الأحاديث\"\n",
      "Searching hadith for \"كيفية أداء الحج\"\n",
      "Searching hadith for \"هل يوجد حديث يأمر بقتل غير المؤمنين؟\"\n",
      "Searching hadith for \"ما هو عيد الفطر؟\"\n",
      "Searching hadith for \"هل هناك استثناءات أو إعفاءات من الصيام؟\"\n",
      "Searching hadith for \"ما هي العمرة؟\"\n",
      "Searching hadith for \"هل انتشر الإسلام بالعنف والإكراه؟\"\n"
     ]
    },
    {
     "name": "stderr",
     "output_type": "stream",
     "text": [
      "Average Metric: 560 / 72  (777.8):  73%|███████▎  | 72/98 [00:23<00:09,  2.86it/s]"
     ]
    },
    {
     "name": "stdout",
     "output_type": "stream",
     "text": [
      "Searching al-mawsuah for \"كيفية أداء الحج\"\n",
      "Searching al-mawsuah for \"ما هو حكم قتل غير المؤمنين في الفقه الإسلامي؟\"\n",
      "Searching quran for \"هل العمرة والحج نفس الشيء؟\"\n",
      "Searching al-mawsuah for \"أهمية الحج في الفقه الإسلامي\"\n",
      "Searching al-mawsuah for \"ما هو عيد الفطر؟\"\n"
     ]
    },
    {
     "name": "stderr",
     "output_type": "stream",
     "text": [
      "Average Metric: 566 / 73  (775.3):  74%|███████▍  | 73/98 [00:23<00:10,  2.45it/s]"
     ]
    },
    {
     "name": "stdout",
     "output_type": "stream",
     "text": [
      "Searching al-mawsuah for \"هل انتشر الإسلام بالعنف والإكراه؟\"\n",
      "Searching al-mawsuah for \"هل هناك استثناءات أو إعفاءات من الصيام؟\"\n",
      "Searching al-mawsuah for \"ما هي العمرة؟\"\n",
      "Searching quran for \"ماذا يؤمن المسلمون؟\"\n"
     ]
    },
    {
     "name": "stderr",
     "output_type": "stream",
     "text": [
      "Average Metric: 582 / 76  (765.8):  77%|███████▋  | 75/98 [00:24<00:08,  2.65it/s]"
     ]
    },
    {
     "name": "stdout",
     "output_type": "stream",
     "text": [
      "Searching hadith for \"هل العمرة والحج نفس الشيء؟\"\n",
      "Searching quran for \"هل الشريعة موحدة وغير متغيرة؟\"\n",
      "Searching quran for \"ما هي الصدقة؟\"\n",
      "Searching quran for \"صلاة التراويح\"\n"
     ]
    },
    {
     "name": "stderr",
     "output_type": "stream",
     "text": [
      "Average Metric: 600 / 78  (769.2):  80%|███████▉  | 78/98 [00:24<00:04,  4.34it/s]"
     ]
    },
    {
     "name": "stdout",
     "output_type": "stream",
     "text": [
      "Searching quran for \"ما هو التوحيد؟\"\n",
      "Searching quran for \"ما معنى الجهاد؟\"\n",
      "Searching hadith for \"ماذا يؤمن المسلمون؟\"\n"
     ]
    },
    {
     "name": "stderr",
     "output_type": "stream",
     "text": [
      "Average Metric: 612 / 79  (774.7):  80%|███████▉  | 78/98 [00:24<00:04,  4.34it/s]"
     ]
    },
    {
     "name": "stdout",
     "output_type": "stream",
     "text": [
      "Searching quran for \"كيف يتناول الإسلام القدر والإرادة الحرة؟\"\n",
      "Searching al-mawsuah for \"هل العمرة والحج نفس الشيء؟\"\n",
      "Searching hadith for \"هل الشريعة موحدة وغير متغيرة؟\"\n",
      "Searching hadith for \"ما هي الصدقة؟\"\n",
      "Searching hadith for \"صلاة التراويح\"\n"
     ]
    },
    {
     "name": "stderr",
     "output_type": "stream",
     "text": [
      "Average Metric: 620 / 80  (775.0):  82%|████████▏ | 80/98 [00:25<00:05,  3.25it/s]"
     ]
    },
    {
     "name": "stdout",
     "output_type": "stream",
     "text": [
      "Searching hadith for \"ما هو التوحيد؟\"\n",
      "Searching hadith for \"ما معنى الجهاد؟\"\n",
      "Searching al-mawsuah for \"ماذا يؤمن المسلمون؟\"\n",
      "Searching hadith for \"كيف يتناول الإسلام القدر والإرادة الحرة؟\"\n",
      "Searching quran for \"الطلاق في الإسلام\"\n",
      "Searching al-mawsuah for \"ما هي الصدقة؟\"\n",
      "Searching al-mawsuah for \"هل الشريعة موحدة وغير متغيرة؟\"\n",
      "Searching al-mawsuah for \"صلاة التراويح\"\n"
     ]
    },
    {
     "name": "stderr",
     "output_type": "stream",
     "text": [
      "Average Metric: 628 / 81  (775.3):  83%|████████▎ | 81/98 [00:26<00:06,  2.54it/s]"
     ]
    },
    {
     "name": "stdout",
     "output_type": "stream",
     "text": [
      "Searching al-mawsuah for \"ما معنى الجهاد؟\"\n",
      "Searching al-mawsuah for \"ما هو التوحيد؟\"\n",
      "Searching quran for \"ما هي الأعياد التي يحتفل بها المسلمون؟\"\n",
      "Searching hadith for \"حديث عن الطلاق\"\n"
     ]
    },
    {
     "name": "stderr",
     "output_type": "stream",
     "text": [
      "Average Metric: 632 / 82  (770.7):  84%|████████▎ | 82/98 [00:26<00:05,  2.72it/s]"
     ]
    },
    {
     "name": "stdout",
     "output_type": "stream",
     "text": [
      "Searching al-mawsuah for \"كيف يتناول الإسلام القدر والإرادة الحرة؟\"\n",
      "Searching quran for \"هل الوسواس القهري نتيجة وساوس الشيطان؟\"\n"
     ]
    },
    {
     "name": "stderr",
     "output_type": "stream",
     "text": [
      "Average Metric: 650 / 85  (764.7):  87%|████████▋ | 85/98 [00:26<00:02,  4.38it/s]"
     ]
    },
    {
     "name": "stdout",
     "output_type": "stream",
     "text": [
      "Searching quran for \"تاريخ الشريعة\"\n",
      "Searching quran for \"كيف نعرف أن الله موجود؟\"\n",
      "Searching quran for \"هل يسمح الإسلام بالحرب الوقائية؟\"\n"
     ]
    },
    {
     "name": "stderr",
     "output_type": "stream",
     "text": [
      "Average Metric: 662 / 87  (760.9):  89%|████████▉ | 87/98 [00:27<00:01,  5.61it/s]"
     ]
    },
    {
     "name": "stdout",
     "output_type": "stream",
     "text": [
      "Searching quran for \"الوحي في الإسلام\"\n",
      "Searching al-mawsuah for \"الطلاق في الفقه الإسلامي\"\n",
      "Searching hadith for \"ما هي الأعياد التي يحتفل بها المسلمون؟\"\n",
      "Searching quran for \"هل الإسلام يشجع على العنف؟\"\n",
      "Searching hadith for \"هل الوسواس القهري نتيجة وساوس الشيطان؟\"\n",
      "Searching hadith for \"تاريخ الشريعة\"\n",
      "Searching hadith for \"كيف نعرف أن الله موجود؟\"\n",
      "Searching hadith for \"هل يسمح الإسلام بالحرب الوقائية؟\"\n"
     ]
    },
    {
     "name": "stderr",
     "output_type": "stream",
     "text": [
      "Average Metric: 670 / 88  (761.4):  90%|████████▉ | 88/98 [00:27<00:03,  3.22it/s]"
     ]
    },
    {
     "name": "stdout",
     "output_type": "stream",
     "text": [
      "Searching hadith for \"الوحي في الإسلام\"\n",
      "Searching quran for \"ما هي أهمية الحج؟\"\n",
      "Searching hadith for \"هل الإسلام يشجع على العنف؟\"\n",
      "Searching al-mawsuah for \"ما هي الأعياد التي يحتفل بها المسلمون؟\"\n",
      "Searching al-mawsuah for \"هل الوسواس القهري نتيجة وساوس الشيطان؟\"\n",
      "Searching al-mawsuah for \"تاريخ الشريعة\"\n",
      "Searching al-mawsuah for \"كيف نعرف أن الله موجود؟\"\n",
      "Searching al-mawsuah for \"الوحي في الإسلام\"\n",
      "Searching al-mawsuah for \"هل يسمح الإسلام بالحرب الوقائية؟\"\n"
     ]
    },
    {
     "name": "stderr",
     "output_type": "stream",
     "text": [
      "Average Metric: 676 / 89  (759.6):  91%|█████████ | 89/98 [00:28<00:03,  2.27it/s]"
     ]
    },
    {
     "name": "stdout",
     "output_type": "stream",
     "text": [
      "Searching al-mawsuah for \"هل الإسلام يشجع على العنف؟\"\n",
      "Searching hadith for \"ما هي أهمية الحج؟\"\n",
      "Searching quran for \"لماذا يطلب الله من الناس عبادته؟\"\n"
     ]
    },
    {
     "name": "stderr",
     "output_type": "stream",
     "text": [
      "Average Metric: 694 / 91  (762.6):  92%|█████████▏| 90/98 [00:28<00:02,  2.71it/s]"
     ]
    },
    {
     "name": "stdout",
     "output_type": "stream",
     "text": [
      "Searching quran for \"هل يؤمن المسلمون بصلب عيسى؟\"\n"
     ]
    },
    {
     "name": "stderr",
     "output_type": "stream",
     "text": [
      "Average Metric: 724 / 95  (762.1):  96%|█████████▌| 94/98 [00:29<00:00,  4.82it/s]"
     ]
    },
    {
     "name": "stdout",
     "output_type": "stream",
     "text": [
      "Searching al-mawsuah for \"ما هي أهمية الحج؟\"\n",
      "Searching hadith for \"لماذا يطلب الله من الناس عبادته؟\"\n",
      "Searching hadith for \"هل ورد في الأحاديث أن المسلمين يؤمنون بصلب عيسى؟\"\n"
     ]
    },
    {
     "name": "stderr",
     "output_type": "stream",
     "text": [
      "Average Metric: 734 / 96  (764.6):  98%|█████████▊| 96/98 [00:30<00:00,  3.12it/s]"
     ]
    },
    {
     "name": "stdout",
     "output_type": "stream",
     "text": [
      "Searching al-mawsuah for \"لماذا يطلب الله من الناس عبادته؟\"\n",
      "Searching al-mawsuah for \"موقف الفقه الإسلامي من صلب عيسى\"\n"
     ]
    },
    {
     "name": "stderr",
     "output_type": "stream",
     "text": [
      "Average Metric: 748 / 98  (763.3): 100%|██████████| 98/98 [00:31<00:00,  3.12it/s]\n"
     ]
    },
    {
     "name": "stdout",
     "output_type": "stream",
     "text": [
      "Searching quran for \"أين الكعبة؟\"\n",
      "Searching quran for \"من يجب عليه أداء الحج؟\"\n",
      "Searching quran for \"هل يسمح الإسلام بجرائم الشرف؟\"\n",
      "Searching quran for \"هل يقدم القرآن توجيهات حول كيفية التعامل مع الصدمة والألم؟\"\n",
      "Searching quran for \"هل يصوم المسلمون خارج رمضان؟\"\n",
      "Searching quran for \"ما هي الفتوى؟\"\n",
      "Searching quran for \"ما معنى حلال؟\"\n",
      "Searching quran for \"هل الردة يعاقب عليها بالإعدام في الإسلام؟\"\n"
     ]
    },
    {
     "name": "stderr",
     "output_type": "stream",
     "text": [
      "  0%|          | 0/98 [00:00<?, ?it/s]"
     ]
    },
    {
     "name": "stdout",
     "output_type": "stream",
     "text": [
      "Searching hadith for \"أين الكعبة؟\"\n",
      "Searching hadith for \"هل توجد أحاديث تتعلق بجرائم الشرف؟\"\n",
      "Searching hadith for \"من يجب عليه أداء الحج؟\"\n",
      "Searching hadith for \"هل يصوم المسلمون خارج رمضان؟\"\n",
      "Searching hadith for \"ما هي الفتوى؟\"\n",
      "Searching hadith for \"هل تقدم السنة النبوية توجيهات حول كيفية التعامل مع الصدمة والألم؟\"\n",
      "Searching hadith for \"ما معنى حلال؟\"\n",
      "Searching hadith for \"هل يعاقب المرتد بالإعدام في الإسلام؟\"\n",
      "Searching al-mawsuah for \"ما هو حكم الفقه الإسلامي في جرائم الشرف؟\"\n",
      "Searching al-mawsuah for \"من يجب عليه أداء الحج؟\"\n",
      "Searching al-mawsuah for \"أين الكعبة؟\"\n",
      "Searching al-mawsuah for \"ما هي الفتوى؟\"\n",
      "Searching al-mawsuah for \"هل يصوم المسلمون خارج رمضان؟\"\n",
      "Searching al-mawsuah for \"كيفية التعامل مع الصدمة والألم في الفقه الإسلامي\"\n",
      "Searching al-mawsuah for \"ما معنى حلال؟\"\n",
      "Searching al-mawsuah for \"حكم الردة في الفقه الإسلامي\"\n"
     ]
    },
    {
     "name": "stderr",
     "output_type": "stream",
     "text": [
      "Average Metric: 54 / 7  (771.4):   6%|▌         | 6/98 [00:02<00:59,  1.54it/s]"
     ]
    },
    {
     "name": "stdout",
     "output_type": "stream",
     "text": [
      "Searching quran for \"ما هو رمضان؟\"\n",
      "Searching quran for \"هل الإسلام يشجع على العنف؟\"\n",
      "Searching quran for \"هل يسمح الإسلام بالحرب الوقائية؟\"\n",
      "Searching quran for \"كيف يصف القرآن السعادة؟ كيف يمكن تحقيقها في الإسلام؟\"\n",
      "Searching quran for \"أهمية ليلة القدر\"\n",
      "Searching quran for \"هل يوفر الإسلام إرشادات حول كيفية التعامل مع الأمراض النفسية؟\"\n",
      "Searching quran for \"ما هو رمضان؟\"\n"
     ]
    },
    {
     "name": "stderr",
     "output_type": "stream",
     "text": [
      "Average Metric: 64 / 8  (800.0):   8%|▊         | 8/98 [00:02<00:18,  4.93it/s]"
     ]
    },
    {
     "name": "stdout",
     "output_type": "stream",
     "text": [
      "Searching quran for \"لماذا يصلي المسلمون يوميا؟\"\n",
      "Searching hadith for \"هل يسمح الإسلام بالحرب الوقائية؟\"\n",
      "Searching hadith for \"ما هو رمضان؟\"\n",
      "Searching hadith for \"فضل ليلة القدر\"\n",
      "Searching hadith for \"هل هناك أحاديث تتحدث عن كيفية التعامل مع الأمراض النفسية؟\"\n",
      "Searching hadith for \"هل الإسلام يشجع على العنف؟\"\n",
      "Searching hadith for \"ما هو رمضان؟\"\n",
      "Searching hadith for \"كيف يصف الحديث السعادة؟ كيف يمكن تحقيقها في الإسلام؟\"\n",
      "Searching hadith for \"لماذا يصلي المسلمون يوميا؟\"\n",
      "Searching al-mawsuah for \"ما هو رمضان؟\"\n",
      "Searching al-mawsuah for \"أهمية ليلة القدر في الفقه الإسلامي\"\n",
      "Searching al-mawsuah for \"هل الإسلام يشجع على العنف؟\"\n",
      "Searching al-mawsuah for \"ما هو رمضان؟\"\n",
      "Searching al-mawsuah for \"السعادة في الفقه الإسلامي وكيفية تحقيقها\"\n",
      "Searching al-mawsuah for \"هل يسمح الإسلام بالحرب الوقائية؟\"\n",
      "Searching al-mawsuah for \"إرشادات الفقه الإسلامي حول التعامل مع الأمراض النفسية\"\n",
      "Searching al-mawsuah for \"لماذا يصلي المسلمون يوميا؟\"\n"
     ]
    },
    {
     "name": "stderr",
     "output_type": "stream",
     "text": [
      "Average Metric: 102 / 14  (728.6):  14%|█▍        | 14/98 [00:04<00:22,  3.79it/s]"
     ]
    },
    {
     "name": "stdout",
     "output_type": "stream",
     "text": [
      "Searching quran for \"كيف تصوم رمضان؟\"\n",
      "Searching quran for \"كيف نعلم أن القرآن وحي إلهي؟\"\n",
      "Searching quran for \"من يجب عليه الصيام في رمضان؟\"\n",
      "Searching quran for \"هل التجديف يعاقب عليه بالإعدام؟\"\n",
      "Searching quran for \"ما هو الغرض من الصيام في رمضان؟\"\n",
      "Searching quran for \"ماذا يقدم الإسلام للناس؟\"\n"
     ]
    },
    {
     "name": "stderr",
     "output_type": "stream",
     "text": [
      "Average Metric: 114 / 16  (712.5):  15%|█▌        | 15/98 [00:05<00:21,  3.79it/s]"
     ]
    },
    {
     "name": "stdout",
     "output_type": "stream",
     "text": [
      "Searching quran for \"مدة الصيام في رمضان\"\n",
      "Searching quran for \"كيف يُساء تفسير الجهاد كإرهاب؟\"\n",
      "Searching hadith for \"كيف تصوم رمضان؟\"\n",
      "Searching hadith for \"كيف نعلم أن القرآن وحي إلهي؟\"\n",
      "Searching hadith for \"هل التجديف يعاقب عليه بالإعدام؟\"\n",
      "Searching hadith for \"ماذا يقدم الإسلام للناس؟\"\n",
      "Searching hadith for \"من يجب عليه الصيام في رمضان؟\"\n",
      "Searching hadith for \"ما هو الغرض من الصيام في رمضان؟\"\n",
      "Searching hadith for \"مدة الصيام في رمضان\"\n",
      "Searching hadith for \"كيف يُساء تفسير الجهاد كإرهاب؟\"\n",
      "Searching al-mawsuah for \"كيف تصوم رمضان؟\"\n",
      "Searching al-mawsuah for \"كيف نعلم أن القرآن وحي إلهي؟\"\n",
      "Searching al-mawsuah for \"من يجب عليه الصيام في رمضان؟\"\n",
      "Searching al-mawsuah for \"ما هو الغرض من الصيام في رمضان؟\"\n",
      "Searching al-mawsuah for \"هل التجديف يعاقب عليه بالإعدام؟\"\n",
      "Searching al-mawsuah for \"ماذا يقدم الإسلام للناس؟\"\n",
      "Searching al-mawsuah for \"مدة الصيام في رمضان\"\n",
      "Searching al-mawsuah for \"كيف يُساء تفسير الجهاد كإرهاب؟\"\n"
     ]
    },
    {
     "name": "stderr",
     "output_type": "stream",
     "text": [
      "Average Metric: 138 / 19  (726.3):  18%|█▊        | 18/98 [00:07<00:33,  2.41it/s]"
     ]
    },
    {
     "name": "stdout",
     "output_type": "stream",
     "text": [
      "Searching quran for \"كيف يُساء تفسير الجهاد كإرهاب؟\"\n",
      "Searching quran for \"أركان الإسلام الخمسة\"\n",
      "Searching quran for \"كيف يعامل الإسلام الأقليات الدينية؟\"\n"
     ]
    },
    {
     "name": "stderr",
     "output_type": "stream",
     "text": [
      "Average Metric: 176 / 23  (765.2):  23%|██▎       | 23/98 [00:07<00:15,  4.70it/s]"
     ]
    },
    {
     "name": "stdout",
     "output_type": "stream",
     "text": [
      "Searching quran for \"ليلة القدر\"\n",
      "Searching quran for \"من هو الله\"\n",
      "Searching quran for \"هل يؤمن المسلمون بالروح القدس؟\"\n",
      "Searching quran for \"هل يؤمن المسلمون بالجنة والنار؟\"\n",
      "Searching quran for \"ما معنى الجهاد؟\"\n"
     ]
    },
    {
     "name": "stderr",
     "output_type": "stream",
     "text": [
      "Average Metric: 182 / 24  (758.3):  23%|██▎       | 23/98 [00:07<00:15,  4.70it/s]"
     ]
    },
    {
     "name": "stdout",
     "output_type": "stream",
     "text": [
      "Searching hadith for \"كيف يُساء تفسير الجهاد كإرهاب؟\"\n",
      "Searching hadith for \"أركان الإسلام الخمسة\"\n",
      "Searching hadith for \"ما هي ليلة القدر\"\n",
      "Searching hadith for \"معاملة الإسلام للأقليات الدينية\"\n",
      "Searching hadith for \"هل ذكر الروح القدس في الأحاديث؟\"\n",
      "Searching hadith for \"من هو الله\"\n",
      "Searching hadith for \"هل ذكر النبي الجنة والنار؟\"\n",
      "Searching hadith for \"ما معنى الجهاد؟\"\n",
      "Searching al-mawsuah for \"كيف يُساء تفسير الجهاد كإرهاب؟\"\n",
      "Searching al-mawsuah for \"أركان الإسلام الخمسة\"\n",
      "Searching al-mawsuah for \"ليلة القدر في الفقه الإسلامي\"\n",
      "Searching al-mawsuah for \"معاملة الأقليات الدينية في الفقه الإسلامي\"\n",
      "Searching al-mawsuah for \"الإيمان بالروح القدس في الفقه الإسلامي\"\n",
      "Searching al-mawsuah for \"ما معنى الجهاد؟\"\n",
      "Searching al-mawsuah for \"من هو الله\"\n",
      "Searching al-mawsuah for \"الإيمان بالجنة والنار في الفقه الإسلامي\"\n"
     ]
    },
    {
     "name": "stderr",
     "output_type": "stream",
     "text": [
      "Average Metric: 208 / 27  (770.4):  27%|██▋       | 26/98 [00:09<00:25,  2.79it/s]"
     ]
    },
    {
     "name": "stdout",
     "output_type": "stream",
     "text": [
      "Searching quran for \"أين يحدث الحج؟\"Searching quran for \"أحكام الحرب في الإسلام\"\n",
      "\n",
      "Searching quran for \"متى ليلة القدر؟\"\n"
     ]
    },
    {
     "name": "stderr",
     "output_type": "stream",
     "text": [
      "Average Metric: 232 / 30  (773.3):  31%|███       | 30/98 [00:09<00:17,  3.94it/s]"
     ]
    },
    {
     "name": "stdout",
     "output_type": "stream",
     "text": [
      "Searching quran for \"كم مرة يصلي المسلمون خلال رمضان؟\"\n",
      "Searching quran for \"لماذا الكعبة مهمة؟\"\n",
      "Searching quran for \"لماذا يجب على المسلمين الصيام لمدة شهر كامل؟\"\n"
     ]
    },
    {
     "name": "stderr",
     "output_type": "stream",
     "text": [
      "Average Metric: 250 / 32  (781.2):  33%|███▎      | 32/98 [00:10<00:13,  4.86it/s]"
     ]
    },
    {
     "name": "stdout",
     "output_type": "stream",
     "text": [
      "Searching quran for \"كيف يمكن فهم والتعامل مع الحزن والأسى في الإسلام؟\"\n",
      "Searching quran for \"كيف يمكن للمرء أن يطهر قلبه وروحه؟\"\n",
      "Searching hadith for \"أين يحدث الحج؟\"\n",
      "Searching hadith for \"أحاديث عن أحكام الحرب في الإسلام\"\n",
      "Searching hadith for \"متى ليلة القدر؟\"\n",
      "Searching hadith for \"كم مرة يصلي المسلمون خلال رمضان؟\"\n",
      "Searching hadith for \"لماذا الكعبة مهمة؟\"\n",
      "Searching hadith for \"لماذا يجب على المسلمين الصيام لمدة شهر كامل؟\"\n",
      "Searching hadith for \"كيف يمكن للمرء أن يطهر قلبه وروحه؟\"\n",
      "Searching hadith for \"كيف يمكن فهم والتعامل مع الحزن والأسى في الإسلام؟\"\n",
      "Searching al-mawsuah for \"أين يحدث الحج؟\"\n",
      "Searching al-mawsuah for \"أحكام الحرب في الفقه الإسلامي\"\n",
      "Searching al-mawsuah for \"متى ليلة القدر؟\"\n",
      "Searching al-mawsuah for \"كم مرة يصلي المسلمون خلال رمضان؟\"\n",
      "Searching al-mawsuah for \"أهمية الكعبة في الفقه الإسلامي\"\n",
      "Searching al-mawsuah for \"لماذا يجب على المسلمين الصيام لمدة شهر كامل؟\"\n",
      "Searching al-mawsuah for \"كيف يمكن للمرء أن يطهر قلبه وروحه؟\"\n",
      "Searching al-mawsuah for \"كيف يمكن فهم والتعامل مع الحزن والأسى في الإسلام؟\"\n"
     ]
    },
    {
     "name": "stderr",
     "output_type": "stream",
     "text": [
      "Average Metric: 282 / 35  (805.7):  36%|███▌      | 35/98 [00:12<00:22,  2.79it/s]"
     ]
    },
    {
     "name": "stdout",
     "output_type": "stream",
     "text": [
      "Searching quran for \"ما هي الكعبة؟\"\n",
      "Searching quran for \"من هو النبي محمد؟\"\n",
      "Searching quran for \"ما هي التزكية؟\"\n"
     ]
    },
    {
     "name": "stderr",
     "output_type": "stream",
     "text": [
      "Average Metric: 302 / 38  (794.7):  38%|███▊      | 37/98 [00:12<00:17,  3.44it/s]"
     ]
    },
    {
     "name": "stdout",
     "output_type": "stream",
     "text": [
      "Searching quran for \"أحكام الحرب في الإسلام\"\n",
      "Searching quran for \"ما الذي يعلمه الإسلام عن إدارة القلق والاكتئاب والشك الذاتي؟\"\n",
      "Searching quran for \"أين تؤدى العمرة؟\"\n",
      "Searching hadith for \"ما هي الكعبة؟\"\n",
      "Searching hadith for \"من هو النبي محمد؟\"\n",
      "Searching hadith for \"ما هي التزكية؟\"\n"
     ]
    },
    {
     "name": "stderr",
     "output_type": "stream",
     "text": [
      "Average Metric: 320 / 40  (800.0):  40%|███▉      | 39/98 [00:13<00:17,  3.43it/s]"
     ]
    },
    {
     "name": "stdout",
     "output_type": "stream",
     "text": [
      "Searching quran for \"كيف تكون الروحانية الإسلامية فريدة؟\"\n",
      "Searching hadith for \"أحاديث عن أحكام الحرب في الإسلام\"\n",
      "Searching quran for \"كيف يفهم الإسلام الروح\"\n",
      "Searching hadith for \"ما الذي يعلمه الإسلام عن إدارة القلق والاكتئاب والشك الذاتي؟\"\n",
      "Searching hadith for \"أين تؤدى العمرة؟\"\n",
      "Searching al-mawsuah for \"ما هي التزكية؟\"\n",
      "Searching al-mawsuah for \"ما هي الكعبة؟\"\n",
      "Searching al-mawsuah for \"من هو النبي محمد؟\"\n",
      "Searching hadith for \"كيف تكون الروحانية الإسلامية فريدة؟\"\n",
      "Searching al-mawsuah for \"أحكام الحرب في الفقه الإسلامي\"\n",
      "Searching hadith for \"فهم الروح في الإسلام\"\n",
      "Searching al-mawsuah for \"ما الذي يعلمه الإسلام عن إدارة القلق والاكتئاب والشك الذاتي؟\"\n"
     ]
    },
    {
     "name": "stderr",
     "output_type": "stream",
     "text": [
      "Average Metric: 342 / 43  (795.3):  44%|████▍     | 43/98 [00:14<00:17,  3.12it/s]"
     ]
    },
    {
     "name": "stdout",
     "output_type": "stream",
     "text": [
      "Searching quran for \"من هو عيسى في الإسلام؟\"\n",
      "Searching quran for \"ما هو الإسلام؟\"\n",
      "Searching quran for \"متى رمضان؟\"\n",
      "Searching al-mawsuah for \"كيف تكون الروحانية الإسلامية فريدة؟\"\n"
     ]
    },
    {
     "name": "stderr",
     "output_type": "stream",
     "text": [
      "Average Metric: 358 / 45  (795.6):  46%|████▌     | 45/98 [00:14<00:13,  3.83it/s]"
     ]
    },
    {
     "name": "stdout",
     "output_type": "stream",
     "text": [
      "Searching quran for \"كيف يعامل الإسلام الأقليات الدينية؟\"\n",
      "Searching al-mawsuah for \"الروح في الفقه الإسلامي\"\n",
      "Searching al-mawsuah for \"أين تؤدى العمرة؟\"\n",
      "Searching quran for \"كيف تتعلق الشريعة بطقوس العبادة؟\"\n"
     ]
    },
    {
     "name": "stderr",
     "output_type": "stream",
     "text": [
      "Average Metric: 364 / 46  (791.3):  47%|████▋     | 46/98 [00:15<00:16,  3.22it/s]"
     ]
    },
    {
     "name": "stdout",
     "output_type": "stream",
     "text": [
      "Searching hadith for \"من هو عيسى في الأحاديث؟\"\n",
      "Searching hadith for \"متى رمضان؟\"\n",
      "Searching hadith for \"ما هو الإسلام؟\"\n",
      "Searching quran for \"هل انتشر الإسلام بالعنف والإكراه؟\"\n"
     ]
    },
    {
     "name": "stderr",
     "output_type": "stream",
     "text": [
      "Average Metric: 382 / 48  (795.8):  48%|████▊     | 47/98 [00:15<00:15,  3.37it/s]"
     ]
    },
    {
     "name": "stdout",
     "output_type": "stream",
     "text": [
      "Searching hadith for \"معاملة الإسلام للأقليات الدينية\"\n",
      "Searching quran for \"لماذا يتم الاحتفال بشهر رمضان؟\"\n",
      "Searching hadith for \"كيف تتعلق الشريعة بطقوس العبادة؟\"\n",
      "Searching quran for \"من هو النبي إبراهيم؟\"\n",
      "Searching al-mawsuah for \"ما هو الإسلام؟\"\n",
      "Searching hadith for \"هل انتشر الإسلام بالعنف والإكراه؟\"\n",
      "Searching al-mawsuah for \"من هو عيسى في الفقه الإسلامي؟\"\n",
      "Searching al-mawsuah for \"متى رمضان؟\"\n",
      "Searching al-mawsuah for \"معاملة الأقليات الدينية في الفقه الإسلامي\"\n",
      "Searching al-mawsuah for \"كيف تتعلق الشريعة بطقوس العبادة؟\"\n",
      "Searching hadith for \"لماذا يتم الاحتفال بشهر رمضان؟\"\n",
      "Searching hadith for \"من هو النبي إبراهيم؟\"\n"
     ]
    },
    {
     "name": "stderr",
     "output_type": "stream",
     "text": [
      "Average Metric: 392 / 50  (784.0):  50%|█████     | 49/98 [00:16<00:21,  2.29it/s]"
     ]
    },
    {
     "name": "stdout",
     "output_type": "stream",
     "text": [
      "Searching al-mawsuah for \"هل انتشر الإسلام بالعنف والإكراه؟\"\n",
      "Searching quran for \"ما هو زكاة الفطر؟\"\n",
      "Searching quran for \"هل يسمح الإسلام بقتل المدنيين؟\"\n"
     ]
    },
    {
     "name": "stderr",
     "output_type": "stream",
     "text": [
      "Average Metric: 418 / 53  (788.7):  53%|█████▎    | 52/98 [00:17<00:14,  3.14it/s]"
     ]
    },
    {
     "name": "stdout",
     "output_type": "stream",
     "text": [
      "Searching al-mawsuah for \"لماذا يتم الاحتفال بشهر رمضان؟\"\n",
      "Searching quran for \"ما هو الفقه؟\"\n",
      "Searching quran for \"كيف تتعلق الشريعة بالمجتمع؟\"\n",
      "Searching quran for \"أهمية الصدقة في رمضان\"\n"
     ]
    },
    {
     "name": "stderr",
     "output_type": "stream",
     "text": [
      "Average Metric: 428 / 54  (792.6):  55%|█████▌    | 54/98 [00:17<00:11,  3.93it/s]"
     ]
    },
    {
     "name": "stdout",
     "output_type": "stream",
     "text": [
      "Searching al-mawsuah for \"من هو النبي إبراهيم؟\"\n",
      "Searching quran for \"القيود الغذائية في الإسلام\"\n",
      "Searching hadith for \"هل يسمح الإسلام بقتل المدنيين؟\"\n"
     ]
    },
    {
     "name": "stderr",
     "output_type": "stream",
     "text": [
      "Average Metric: 436 / 55  (792.7):  56%|█████▌    | 55/98 [00:17<00:11,  3.89it/s]"
     ]
    },
    {
     "name": "stdout",
     "output_type": "stream",
     "text": [
      "Searching hadith for \"ما هو زكاة الفطر؟\"\n",
      "Searching quran for \"ما هو القرآن؟\"\n",
      "Searching hadith for \"كيف تتعلق الشريعة بالمجتمع؟\"\n",
      "Searching hadith for \"ما هو الفقه؟\"\n",
      "Searching hadith for \"فضل الصدقة في رمضان\"\n"
     ]
    },
    {
     "name": "stderr",
     "output_type": "stream",
     "text": [
      "Average Metric: 442 / 56  (789.3):  57%|█████▋    | 56/98 [00:18<00:12,  3.34it/s]"
     ]
    },
    {
     "name": "stdout",
     "output_type": "stream",
     "text": [
      "Searching quran for \"من بنى الكعبة؟\"\n",
      "Searching al-mawsuah for \"هل يسمح الإسلام بقتل المدنيين؟\"\n",
      "Searching hadith for \"القيود الغذائية في الإسلام\"\n",
      "Searching al-mawsuah for \"ما هو زكاة الفطر؟\"\n",
      "Searching al-mawsuah for \"الصدقة في رمضان\"\n",
      "Searching al-mawsuah for \"كيف تتعلق الشريعة بالمجتمع؟\"\n",
      "Searching hadith for \"ما هو القرآن؟\"\n",
      "Searching al-mawsuah for \"ما هو الفقه؟\"\n"
     ]
    },
    {
     "name": "stderr",
     "output_type": "stream",
     "text": [
      "Average Metric: 452 / 58  (779.3):  58%|█████▊    | 57/98 [00:19<00:16,  2.43it/s]"
     ]
    },
    {
     "name": "stdout",
     "output_type": "stream",
     "text": [
      "Searching quran for \"من أين تأتي الشريعة؟\"\n",
      "Searching hadith for \"من بنى الكعبة؟\"\n",
      "Searching quran for \"كيف يغذي الإسلام رفاهنا العاطفي؟\"\n",
      "Searching al-mawsuah for \"القيود الغذائية في الإسلام\"\n"
     ]
    },
    {
     "name": "stderr",
     "output_type": "stream",
     "text": [
      "Average Metric: 462 / 59  (783.1):  59%|█████▉    | 58/98 [00:19<00:16,  2.43it/s]"
     ]
    },
    {
     "name": "stdout",
     "output_type": "stream",
     "text": [
      "Searching al-mawsuah for \"ما هو القرآن؟\"\n",
      "Searching quran for \"كيفية أداء العمرة\"\n",
      "Searching quran for \"آيات القرآن للتعامل مع الضيق والشدائد\"\n"
     ]
    },
    {
     "name": "stderr",
     "output_type": "stream",
     "text": [
      "Average Metric: 476 / 61  (780.3):  61%|██████    | 60/98 [00:19<00:14,  2.71it/s]"
     ]
    },
    {
     "name": "stdout",
     "output_type": "stream",
     "text": [
      "Searching quran for \"هل يقول القرآن بقتل غير المؤمنين؟\"\n",
      "Searching al-mawsuah for \"من بنى الكعبة؟\"\n",
      "Searching hadith for \"كيف يغذي الإسلام رفاهنا العاطفي؟\"\n",
      "Searching hadith for \"من أين تأتي الشريعة؟\"\n"
     ]
    },
    {
     "name": "stderr",
     "output_type": "stream",
     "text": [
      "Average Metric: 496 / 63  (787.3):  63%|██████▎   | 62/98 [00:20<00:10,  3.47it/s]"
     ]
    },
    {
     "name": "stdout",
     "output_type": "stream",
     "text": [
      "Searching quran for \"هل التجديف يعاقب عليه بالإعدام؟\"\n",
      "Searching quran for \"هل يسمح الإسلام بقتل المدنيين؟\"\n",
      "Searching hadith for \"كيفية أداء العمرة\"\n",
      "Searching hadith for \"أحاديث عن التعامل مع الضيق والشدائد\"\n",
      "Searching hadith for \"هل يوجد حديث يأمر بقتل غير المؤمنين؟\"\n"
     ]
    },
    {
     "name": "stderr",
     "output_type": "stream",
     "text": [
      "Average Metric: 504 / 64  (787.5):  65%|██████▌   | 64/98 [00:20<00:09,  3.58it/s]"
     ]
    },
    {
     "name": "stdout",
     "output_type": "stream",
     "text": [
      "Searching quran for \"ما معنى الإسلام؟\"\n",
      "Searching al-mawsuah for \"كيف يغذي الإسلام رفاهنا العاطفي؟\"\n",
      "Searching al-mawsuah for \"مصادر الشريعة الإسلامية\"\n",
      "Searching hadith for \"هل التجديف يعاقب عليه بالإعدام؟\"\n",
      "Searching hadith for \"هل يسمح الإسلام بقتل المدنيين؟\"\n",
      "Searching al-mawsuah for \"كيفية أداء العمرة\"\n",
      "Searching al-mawsuah for \"أحكام الفقه الإسلامي حول التعامل مع الضيق والشدائد\"\n",
      "Searching al-mawsuah for \"ما هو حكم قتل غير المؤمنين في الفقه الإسلامي؟\"\n"
     ]
    },
    {
     "name": "stderr",
     "output_type": "stream",
     "text": [
      "Average Metric: 522 / 66  (790.9):  66%|██████▋   | 65/98 [00:21<00:12,  2.60it/s]"
     ]
    },
    {
     "name": "stdout",
     "output_type": "stream",
     "text": [
      "Searching hadith for \"ما معنى الإسلام في الحديث؟\"\n",
      "Searching quran for \"ما هو عيد الفطر؟\"\n",
      "Searching quran for \"لماذا الحج مهم؟\"\n"
     ]
    },
    {
     "name": "stderr",
     "output_type": "stream",
     "text": [
      "Average Metric: 532 / 68  (782.4):  68%|██████▊   | 67/98 [00:22<00:09,  3.26it/s]"
     ]
    },
    {
     "name": "stdout",
     "output_type": "stream",
     "text": [
      "Searching al-mawsuah for \"هل يسمح الإسلام بقتل المدنيين؟\"\n",
      "Searching al-mawsuah for \"هل التجديف يعاقب عليه بالإعدام؟\"\n",
      "Searching quran for \"كيفية أداء الحج\"\n",
      "Searching quran for \"هل يقول القرآن بقتل غير المؤمنين؟\"\n"
     ]
    },
    {
     "name": "stderr",
     "output_type": "stream",
     "text": [
      "Average Metric: 538 / 69  (779.7):  70%|███████   | 69/98 [00:22<00:07,  3.85it/s]"
     ]
    },
    {
     "name": "stdout",
     "output_type": "stream",
     "text": [
      "Searching quran for \"هل هناك استثناءات أو إعفاءات من الصيام؟\"\n",
      "Searching al-mawsuah for \"ما هو تعريف الإسلام في الفقه الإسلامي؟\"\n",
      "Searching hadith for \"أهمية الحج في الأحاديث\"\n",
      "Searching hadith for \"ما هو عيد الفطر؟\"\n"
     ]
    },
    {
     "name": "stderr",
     "output_type": "stream",
     "text": [
      "Average Metric: 552 / 71  (777.5):  71%|███████▏  | 70/98 [00:22<00:07,  3.60it/s]"
     ]
    },
    {
     "name": "stdout",
     "output_type": "stream",
     "text": [
      "Searching quran for \"ما هي العمرة؟\"\n",
      "Searching quran for \"هل انتشر الإسلام بالعنف والإكراه؟\"\n",
      "Searching hadith for \"هل يوجد حديث يأمر بقتل غير المؤمنين؟\"\n",
      "Searching hadith for \"كيفية أداء الحج\"\n",
      "Searching hadith for \"هل هناك استثناءات أو إعفاءات من الصيام؟\"\n",
      "Searching al-mawsuah for \"أهمية الحج في الفقه الإسلامي\"\n",
      "Searching al-mawsuah for \"ما هو عيد الفطر؟\"\n"
     ]
    },
    {
     "name": "stderr",
     "output_type": "stream",
     "text": [
      "Average Metric: 560 / 72  (777.8):  73%|███████▎  | 72/98 [00:23<00:07,  3.29it/s]"
     ]
    },
    {
     "name": "stdout",
     "output_type": "stream",
     "text": [
      "Searching quran for \"هل العمرة والحج نفس الشيء؟\"\n",
      "Searching hadith for \"ما هي العمرة؟\"\n",
      "Searching hadith for \"هل انتشر الإسلام بالعنف والإكراه؟\"\n",
      "Searching al-mawsuah for \"ما هو حكم قتل غير المؤمنين في الفقه الإسلامي؟\"\n",
      "Searching al-mawsuah for \"كيفية أداء الحج\"\n"
     ]
    },
    {
     "name": "stderr",
     "output_type": "stream",
     "text": [
      "Average Metric: 570 / 74  (770.3):  74%|███████▍  | 73/98 [00:24<00:10,  2.48it/s]"
     ]
    },
    {
     "name": "stdout",
     "output_type": "stream",
     "text": [
      "Searching al-mawsuah for \"هل هناك استثناءات أو إعفاءات من الصيام؟\"\n",
      "Searching hadith for \"هل العمرة والحج نفس الشيء؟\"\n",
      "Searching quran for \"ماذا يؤمن المسلمون؟\"\n",
      "Searching al-mawsuah for \"هل انتشر الإسلام بالعنف والإكراه؟\"\n",
      "Searching quran for \"هل الشريعة موحدة وغير متغيرة؟\"\n"
     ]
    },
    {
     "name": "stderr",
     "output_type": "stream",
     "text": [
      "Average Metric: 582 / 76  (765.8):  77%|███████▋  | 75/98 [00:24<00:06,  3.49it/s]"
     ]
    },
    {
     "name": "stdout",
     "output_type": "stream",
     "text": [
      "Searching al-mawsuah for \"ما هي العمرة؟\"\n",
      "Searching quran for \"ما هي الصدقة؟\"\n",
      "Searching quran for \"صلاة التراويح\"\n"
     ]
    },
    {
     "name": "stderr",
     "output_type": "stream",
     "text": [
      "Average Metric: 612 / 79  (774.7):  80%|███████▉  | 78/98 [00:25<00:05,  4.00it/s]"
     ]
    },
    {
     "name": "stdout",
     "output_type": "stream",
     "text": [
      "Searching quran for \"ما هو التوحيد؟\"\n",
      "Searching al-mawsuah for \"هل العمرة والحج نفس الشيء؟\"\n",
      "Searching quran for \"ما معنى الجهاد؟\"\n",
      "Searching hadith for \"ماذا يؤمن المسلمون؟\"\n",
      "Searching hadith for \"هل الشريعة موحدة وغير متغيرة؟\"\n",
      "Searching quran for \"كيف يتناول الإسلام القدر والإرادة الحرة؟\"\n",
      "Searching hadith for \"صلاة التراويح\"\n",
      "Searching hadith for \"ما هي الصدقة؟\"\n"
     ]
    },
    {
     "name": "stderr",
     "output_type": "stream",
     "text": [
      "Average Metric: 620 / 80  (775.0):  82%|████████▏ | 80/98 [00:25<00:05,  3.41it/s]"
     ]
    },
    {
     "name": "stdout",
     "output_type": "stream",
     "text": [
      "Searching hadith for \"ما هو التوحيد؟\"\n",
      "Searching quran for \"الطلاق في الإسلام\"\n",
      "Searching al-mawsuah for \"ماذا يؤمن المسلمون؟\"\n",
      "Searching hadith for \"ما معنى الجهاد؟\"\n",
      "Searching hadith for \"كيف يتناول الإسلام القدر والإرادة الحرة؟\"\n",
      "Searching al-mawsuah for \"هل الشريعة موحدة وغير متغيرة؟\"\n",
      "Searching al-mawsuah for \"صلاة التراويح\"\n",
      "Searching al-mawsuah for \"ما هي الصدقة؟\"\n"
     ]
    },
    {
     "name": "stderr",
     "output_type": "stream",
     "text": [
      "Average Metric: 634 / 82  (773.2):  84%|████████▎ | 82/98 [00:26<00:05,  2.95it/s]"
     ]
    },
    {
     "name": "stdout",
     "output_type": "stream",
     "text": [
      "Searching al-mawsuah for \"ما معنى الجهاد؟\"\n",
      "Searching al-mawsuah for \"ما هو التوحيد؟\"\n",
      "Searching hadith for \"حديث عن الطلاق\"\n",
      "Searching quran for \"ما هي الأعياد التي يحتفل بها المسلمون؟\"\n",
      "Searching al-mawsuah for \"كيف يتناول الإسلام القدر والإرادة الحرة؟\"\n",
      "Searching quran for \"هل الوسواس القهري نتيجة وساوس الشيطان؟\"\n"
     ]
    },
    {
     "name": "stderr",
     "output_type": "stream",
     "text": [
      "Average Metric: 644 / 84  (766.7):  86%|████████▌ | 84/98 [00:26<00:03,  4.39it/s]"
     ]
    },
    {
     "name": "stdout",
     "output_type": "stream",
     "text": [
      "Searching quran for \"كيف نعرف أن الله موجود؟\"\n",
      "Searching quran for \"تاريخ الشريعة\"\n"
     ]
    },
    {
     "name": "stderr",
     "output_type": "stream",
     "text": [
      "Average Metric: 658 / 86  (765.1):  87%|████████▋ | 85/98 [00:27<00:04,  3.15it/s]"
     ]
    },
    {
     "name": "stdout",
     "output_type": "stream",
     "text": [
      "Searching al-mawsuah for \"الطلاق في الفقه الإسلامي\"\n",
      "Searching hadith for \"ما هي الأعياد التي يحتفل بها المسلمون؟\"\n",
      "Searching quran for \"هل يسمح الإسلام بالحرب الوقائية؟\"\n",
      "Searching quran for \"الوحي في الإسلام\"\n",
      "Searching quran for \"هل الإسلام يشجع على العنف؟\"\n"
     ]
    },
    {
     "name": "stderr",
     "output_type": "stream",
     "text": [
      "Average Metric: 662 / 87  (760.9):  88%|████████▊ | 86/98 [00:27<00:03,  3.15it/s]"
     ]
    },
    {
     "name": "stdout",
     "output_type": "stream",
     "text": [
      "Searching hadith for \"هل الوسواس القهري نتيجة وساوس الشيطان؟\"\n",
      "Searching hadith for \"تاريخ الشريعة\"\n",
      "Searching hadith for \"كيف نعرف أن الله موجود؟\"\n"
     ]
    },
    {
     "name": "stderr",
     "output_type": "stream",
     "text": [
      "Average Metric: 670 / 88  (761.4):  90%|████████▉ | 88/98 [00:28<00:02,  3.54it/s]"
     ]
    },
    {
     "name": "stdout",
     "output_type": "stream",
     "text": [
      "Searching quran for \"ما هي أهمية الحج؟\"\n",
      "Searching al-mawsuah for \"ما هي الأعياد التي يحتفل بها المسلمون؟\"\n",
      "Searching hadith for \"هل يسمح الإسلام بالحرب الوقائية؟\"\n",
      "Searching hadith for \"هل الإسلام يشجع على العنف؟\"\n",
      "Searching al-mawsuah for \"تاريخ الشريعة\"\n",
      "Searching al-mawsuah for \"هل الوسواس القهري نتيجة وساوس الشيطان؟\"\n",
      "Searching hadith for \"الوحي في الإسلام\"\n",
      "Searching al-mawsuah for \"كيف نعرف أن الله موجود؟\"\n"
     ]
    },
    {
     "name": "stderr",
     "output_type": "stream",
     "text": [
      "Average Metric: 694 / 91  (762.6):  92%|█████████▏| 90/98 [00:29<00:03,  2.53it/s]"
     ]
    },
    {
     "name": "stdout",
     "output_type": "stream",
     "text": [
      "Searching al-mawsuah for \"هل الإسلام يشجع على العنف؟\"\n",
      "Searching hadith for \"ما هي أهمية الحج؟\"\n",
      "Searching al-mawsuah for \"الوحي في الإسلام\"\n",
      "Searching quran for \"لماذا يطلب الله من الناس عبادته؟\"\n",
      "Searching al-mawsuah for \"هل يسمح الإسلام بالحرب الوقائية؟\"\n",
      "Searching quran for \"هل يؤمن المسلمون بصلب عيسى؟\"\n"
     ]
    },
    {
     "name": "stderr",
     "output_type": "stream",
     "text": [
      "Average Metric: 724 / 95  (762.1):  96%|█████████▌| 94/98 [00:29<00:01,  3.20it/s]"
     ]
    },
    {
     "name": "stdout",
     "output_type": "stream",
     "text": [
      "Searching al-mawsuah for \"ما هي أهمية الحج؟\"\n",
      "Searching hadith for \"لماذا يطلب الله من الناس عبادته؟\"\n",
      "Searching hadith for \"هل ورد في الأحاديث أن المسلمين يؤمنون بصلب عيسى؟\"\n"
     ]
    },
    {
     "name": "stderr",
     "output_type": "stream",
     "text": [
      "Average Metric: 734 / 96  (764.6):  98%|█████████▊| 96/98 [00:30<00:00,  3.42it/s]"
     ]
    },
    {
     "name": "stdout",
     "output_type": "stream",
     "text": [
      "Searching al-mawsuah for \"لماذا يطلب الله من الناس عبادته؟\"\n",
      "Searching al-mawsuah for \"موقف الفقه الإسلامي من صلب عيسى\"\n"
     ]
    },
    {
     "name": "stderr",
     "output_type": "stream",
     "text": [
      "Average Metric: 748 / 98  (763.3): 100%|██████████| 98/98 [00:31<00:00,  3.09it/s]\n"
     ]
    },
    {
     "name": "stdout",
     "output_type": "stream",
     "text": [
      "Searching quran for \"من يجب عليه أداء الحج؟\"\n",
      "Searching quran for \"أين الكعبة؟\"\n",
      "Searching quran for \"هل يسمح الإسلام بجرائم الشرف؟\"\n",
      "Searching quran for \"هل يصوم المسلمون خارج رمضان؟\"\n",
      "Searching quran for \"هل يقدم القرآن توجيهات حول كيفية التعامل مع الصدمة والألم؟\"\n",
      "Searching quran for \"ما هي الفتوى؟\"\n",
      "Searching quran for \"ما معنى حلال؟\"\n",
      "Searching quran for \"هل الردة يعاقب عليها بالإعدام في الإسلام؟\"\n"
     ]
    },
    {
     "name": "stderr",
     "output_type": "stream",
     "text": [
      "  0%|          | 0/98 [00:00<?, ?it/s]"
     ]
    },
    {
     "name": "stdout",
     "output_type": "stream",
     "text": [
      "Searching hadith for \"هل يصوم المسلمون خارج رمضان؟\"\n",
      "Searching hadith for \"هل توجد أحاديث تتعلق بجرائم الشرف؟\"\n",
      "Searching hadith for \"أين الكعبة؟\"\n",
      "Searching hadith for \"ما هي الفتوى؟\"\n",
      "Searching hadith for \"من يجب عليه أداء الحج؟\"\n",
      "Searching hadith for \"هل تقدم السنة النبوية توجيهات حول كيفية التعامل مع الصدمة والألم؟\"\n",
      "Searching hadith for \"ما معنى حلال؟\"\n",
      "Searching hadith for \"هل يعاقب المرتد بالإعدام في الإسلام؟\"\n",
      "Searching al-mawsuah for \"ما هو حكم الفقه الإسلامي في جرائم الشرف؟\"\n",
      "Searching al-mawsuah for \"من يجب عليه أداء الحج؟\"\n",
      "Searching al-mawsuah for \"هل يصوم المسلمون خارج رمضان؟\"\n",
      "Searching al-mawsuah for \"ما هي الفتوى؟\"\n",
      "Searching al-mawsuah for \"كيفية التعامل مع الصدمة والألم في الفقه الإسلامي\"\n",
      "Searching al-mawsuah for \"أين الكعبة؟\"\n",
      "Searching al-mawsuah for \"ما معنى حلال؟\"\n",
      "Searching al-mawsuah for \"حكم الردة في الفقه الإسلامي\"\n"
     ]
    },
    {
     "name": "stderr",
     "output_type": "stream",
     "text": [
      "Average Metric: 64 / 8  (800.0):   7%|▋         | 7/98 [00:02<00:45,  2.02it/s]"
     ]
    },
    {
     "name": "stdout",
     "output_type": "stream",
     "text": [
      "Searching quran for \"هل الإسلام يشجع على العنف؟\"\n",
      "Searching quran for \"ما هو رمضان؟\"\n",
      "Searching quran for \"هل يسمح الإسلام بالحرب الوقائية؟\"\n",
      "Searching quran for \"أهمية ليلة القدر\"\n",
      "Searching quran for \"كيف يصف القرآن السعادة؟ كيف يمكن تحقيقها في الإسلام؟\"\n",
      "Searching quran for \"ما هو رمضان؟\"\n",
      "Searching quran for \"هل يوفر الإسلام إرشادات حول كيفية التعامل مع الأمراض النفسية؟\"\n",
      "Searching quran for \"لماذا يصلي المسلمون يوميا؟\"\n",
      "Searching hadith for \"هل الإسلام يشجع على العنف؟\"\n",
      "Searching hadith for \"هل يسمح الإسلام بالحرب الوقائية؟\"\n",
      "Searching hadith for \"ما هو رمضان؟\"\n",
      "Searching hadith for \"فضل ليلة القدر\"\n",
      "Searching hadith for \"كيف يصف الحديث السعادة؟ كيف يمكن تحقيقها في الإسلام؟\"\n",
      "Searching hadith for \"لماذا يصلي المسلمون يوميا؟\"\n",
      "Searching hadith for \"هل هناك أحاديث تتحدث عن كيفية التعامل مع الأمراض النفسية؟\"\n",
      "Searching hadith for \"ما هو رمضان؟\"\n",
      "Searching al-mawsuah for \"هل الإسلام يشجع على العنف؟\"\n",
      "Searching al-mawsuah for \"ما هو رمضان؟\"\n",
      "Searching al-mawsuah for \"أهمية ليلة القدر في الفقه الإسلامي\"\n",
      "Searching al-mawsuah for \"السعادة في الفقه الإسلامي وكيفية تحقيقها\"\n",
      "Searching al-mawsuah for \"هل يسمح الإسلام بالحرب الوقائية؟\"\n",
      "Searching al-mawsuah for \"ما هو رمضان؟\"\n",
      "Searching al-mawsuah for \"إرشادات الفقه الإسلامي حول التعامل مع الأمراض النفسية\"\n",
      "Searching al-mawsuah for \"لماذا يصلي المسلمون يوميا؟\"\n"
     ]
    },
    {
     "name": "stderr",
     "output_type": "stream",
     "text": [
      "Average Metric: 114 / 16  (712.5):  15%|█▌        | 15/98 [00:04<00:25,  3.28it/s]"
     ]
    },
    {
     "name": "stdout",
     "output_type": "stream",
     "text": [
      "Searching quran for \"كيف تصوم رمضان؟\"\n",
      "Searching quran for \"كيف نعلم أن القرآن وحي إلهي؟\"\n",
      "Searching quran for \"من يجب عليه الصيام في رمضان؟\"\n",
      "Searching quran for \"هل التجديف يعاقب عليه بالإعدام؟\"\n",
      "Searching quran for \"ما هو الغرض من الصيام في رمضان؟\"\n",
      "Searching quran for \"مدة الصيام في رمضان\"\n",
      "Searching quran for \"ماذا يقدم الإسلام للناس؟\"\n",
      "Searching quran for \"كيف يُساء تفسير الجهاد كإرهاب؟\"\n"
     ]
    },
    {
     "name": "stderr",
     "output_type": "stream",
     "text": [
      "Average Metric: 114 / 16  (712.5):  16%|█▋        | 16/98 [00:04<00:15,  5.22it/s]"
     ]
    },
    {
     "name": "stdout",
     "output_type": "stream",
     "text": [
      "Searching hadith for \"كيف تصوم رمضان؟\"\n",
      "Searching hadith for \"كيف نعلم أن القرآن وحي إلهي؟\"\n",
      "Searching hadith for \"هل التجديف يعاقب عليه بالإعدام؟\"\n",
      "Searching hadith for \"من يجب عليه الصيام في رمضان؟\"\n",
      "Searching hadith for \"ما هو الغرض من الصيام في رمضان؟\"\n",
      "Searching hadith for \"ماذا يقدم الإسلام للناس؟\"\n",
      "Searching hadith for \"مدة الصيام في رمضان\"\n",
      "Searching hadith for \"كيف يُساء تفسير الجهاد كإرهاب؟\"\n",
      "Searching al-mawsuah for \"كيف تصوم رمضان؟\"\n",
      "Searching al-mawsuah for \"كيف نعلم أن القرآن وحي إلهي؟\"\n",
      "Searching al-mawsuah for \"من يجب عليه الصيام في رمضان؟\"\n",
      "Searching al-mawsuah for \"ما هو الغرض من الصيام في رمضان؟\"\n",
      "Searching al-mawsuah for \"هل التجديف يعاقب عليه بالإعدام؟\"\n",
      "Searching al-mawsuah for \"كيف يُساء تفسير الجهاد كإرهاب؟\"\n",
      "Searching al-mawsuah for \"مدة الصيام في رمضان\"\n",
      "Searching al-mawsuah for \"ماذا يقدم الإسلام للناس؟\"\n"
     ]
    },
    {
     "name": "stderr",
     "output_type": "stream",
     "text": [
      "Average Metric: 140 / 19  (736.8):  19%|█▉        | 19/98 [00:07<00:29,  2.71it/s]"
     ]
    },
    {
     "name": "stdout",
     "output_type": "stream",
     "text": [
      "Searching quran for \"أركان الإسلام الخمسة\"Searching quran for \"كيف يُساء تفسير الجهاد كإرهاب؟\"\n",
      "\n",
      "Searching quran for \"كيف يعامل الإسلام الأقليات الدينية؟\"\n",
      "Searching quran for \"ليلة القدر\"\n"
     ]
    },
    {
     "name": "stderr",
     "output_type": "stream",
     "text": [
      "Average Metric: 182 / 24  (758.3):  23%|██▎       | 23/98 [00:07<00:18,  4.01it/s]"
     ]
    },
    {
     "name": "stdout",
     "output_type": "stream",
     "text": [
      "Searching quran for \"من هو الله\"\n",
      "Searching quran for \"هل يؤمن المسلمون بالروح القدس؟\"\n",
      "Searching quran for \"هل يؤمن المسلمون بالجنة والنار؟\"\n",
      "Searching quran for \"ما معنى الجهاد؟\"\n",
      "Searching hadith for \"كيف يُساء تفسير الجهاد كإرهاب؟\"\n",
      "Searching hadith for \"أركان الإسلام الخمسة\"\n",
      "Searching hadith for \"ما هي ليلة القدر\"\n",
      "Searching hadith for \"هل ذكر الروح القدس في الأحاديث؟\"\n",
      "Searching hadith for \"معاملة الإسلام للأقليات الدينية\"\n",
      "Searching hadith for \"من هو الله\"\n",
      "Searching hadith for \"هل ذكر النبي الجنة والنار؟\"\n",
      "Searching hadith for \"ما معنى الجهاد؟\"\n",
      "Searching al-mawsuah for \"أركان الإسلام الخمسة\"\n",
      "Searching al-mawsuah for \"كيف يُساء تفسير الجهاد كإرهاب؟\"\n",
      "Searching al-mawsuah for \"ليلة القدر في الفقه الإسلامي\"\n",
      "Searching al-mawsuah for \"معاملة الأقليات الدينية في الفقه الإسلامي\"\n",
      "Searching al-mawsuah for \"الإيمان بالروح القدس في الفقه الإسلامي\"\n",
      "Searching al-mawsuah for \"ما معنى الجهاد؟\"\n",
      "Searching al-mawsuah for \"الإيمان بالجنة والنار في الفقه الإسلامي\"\n",
      "Searching al-mawsuah for \"من هو الله\"\n"
     ]
    },
    {
     "name": "stderr",
     "output_type": "stream",
     "text": [
      "Average Metric: 198 / 26  (761.5):  26%|██▌       | 25/98 [00:09<00:29,  2.47it/s]"
     ]
    },
    {
     "name": "stdout",
     "output_type": "stream",
     "text": [
      "Searching quran for \"أين يحدث الحج؟\"\n",
      "Searching quran for \"أحكام الحرب في الإسلام\"\n"
     ]
    },
    {
     "name": "stderr",
     "output_type": "stream",
     "text": [
      "Average Metric: 244 / 31  (787.1):  32%|███▏      | 31/98 [00:09<00:15,  4.34it/s]"
     ]
    },
    {
     "name": "stdout",
     "output_type": "stream",
     "text": [
      "Searching quran for \"متى ليلة القدر؟\"\n",
      "Searching quran for \"كم مرة يصلي المسلمون خلال رمضان؟\"\n",
      "Searching quran for \"لماذا الكعبة مهمة؟\"\n",
      "Searching quran for \"لماذا يجب على المسلمين الصيام لمدة شهر كامل؟\"\n",
      "Searching quran for \"كيف يمكن فهم والتعامل مع الحزن والأسى في الإسلام؟\"\n"
     ]
    },
    {
     "name": "stderr",
     "output_type": "stream",
     "text": [
      "Average Metric: 250 / 32  (781.2):  32%|███▏      | 31/98 [00:09<00:15,  4.34it/s]"
     ]
    },
    {
     "name": "stdout",
     "output_type": "stream",
     "text": [
      "Searching quran for \"كيف يمكن للمرء أن يطهر قلبه وروحه؟\"\n",
      "Searching hadith for \"أين يحدث الحج؟\"\n",
      "Searching hadith for \"أحاديث عن أحكام الحرب في الإسلام\"\n",
      "Searching hadith for \"لماذا الكعبة مهمة؟\"Searching hadith for \"متى ليلة القدر؟\"\n",
      "Searching hadith for \"كم مرة يصلي المسلمون خلال رمضان؟\"\n",
      "\n",
      "Searching hadith for \"لماذا يجب على المسلمين الصيام لمدة شهر كامل؟\"\n",
      "Searching hadith for \"كيف يمكن للمرء أن يطهر قلبه وروحه؟\"\n",
      "Searching hadith for \"كيف يمكن فهم والتعامل مع الحزن والأسى في الإسلام؟\"\n",
      "Searching al-mawsuah for \"أين يحدث الحج؟\"\n",
      "Searching al-mawsuah for \"أحكام الحرب في الفقه الإسلامي\"\n",
      "Searching al-mawsuah for \"متى ليلة القدر؟\"\n",
      "Searching al-mawsuah for \"لماذا يجب على المسلمين الصيام لمدة شهر كامل؟\"\n",
      "Searching al-mawsuah for \"أهمية الكعبة في الفقه الإسلامي\"\n",
      "Searching al-mawsuah for \"كم مرة يصلي المسلمون خلال رمضان؟\"\n",
      "Searching al-mawsuah for \"كيف يمكن للمرء أن يطهر قلبه وروحه؟\"\n",
      "Searching al-mawsuah for \"كيف يمكن فهم والتعامل مع الحزن والأسى في الإسلام؟\"\n"
     ]
    },
    {
     "name": "stderr",
     "output_type": "stream",
     "text": [
      "Average Metric: 262 / 33  (793.9):  34%|███▎      | 33/98 [00:11<00:25,  2.56it/s]"
     ]
    },
    {
     "name": "stdout",
     "output_type": "stream",
     "text": [
      "Searching quran for \"ما هي الكعبة؟\"\n"
     ]
    },
    {
     "name": "stderr",
     "output_type": "stream",
     "text": [
      "Average Metric: 310 / 39  (794.9):  39%|███▉      | 38/98 [00:12<00:13,  4.41it/s]"
     ]
    },
    {
     "name": "stdout",
     "output_type": "stream",
     "text": [
      "Searching quran for \"من هو النبي محمد؟\"Searching quran for \"ما هي التزكية؟\"\n",
      "\n",
      "Searching quran for \"أحكام الحرب في الإسلام\"\n",
      "Searching quran for \"ما الذي يعلمه الإسلام عن إدارة القلق والاكتئاب والشك الذاتي؟\"\n",
      "Searching quran for \"أين تؤدى العمرة؟\"\n",
      "Searching quran for \"كيف تكون الروحانية الإسلامية فريدة؟\"\n"
     ]
    },
    {
     "name": "stderr",
     "output_type": "stream",
     "text": [
      "Average Metric: 320 / 40  (800.0):  40%|███▉      | 39/98 [00:12<00:13,  4.41it/s]"
     ]
    },
    {
     "name": "stdout",
     "output_type": "stream",
     "text": [
      "Searching quran for \"كيف يفهم الإسلام الروح\"\n",
      "Searching hadith for \"ما هي الكعبة؟\"\n",
      "Searching hadith for \"ما هي التزكية؟\"\n",
      "Searching hadith for \"من هو النبي محمد؟\"\n",
      "Searching hadith for \"ما الذي يعلمه الإسلام عن إدارة القلق والاكتئاب والشك الذاتي؟\"\n",
      "Searching hadith for \"أحاديث عن أحكام الحرب في الإسلام\"\n",
      "Searching hadith for \"كيف تكون الروحانية الإسلامية فريدة؟\"\n",
      "Searching hadith for \"فهم الروح في الإسلام\"\n",
      "Searching hadith for \"أين تؤدى العمرة؟\"\n",
      "Searching al-mawsuah for \"ما هي الكعبة؟\"\n",
      "Searching al-mawsuah for \"ما هي التزكية؟\"\n",
      "Searching al-mawsuah for \"من هو النبي محمد؟\"\n",
      "Searching al-mawsuah for \"ما الذي يعلمه الإسلام عن إدارة القلق والاكتئاب والشك الذاتي؟\"\n",
      "Searching al-mawsuah for \"أحكام الحرب في الفقه الإسلامي\"\n",
      "Searching al-mawsuah for \"كيف تكون الروحانية الإسلامية فريدة؟\"\n",
      "Searching al-mawsuah for \"الروح في الفقه الإسلامي\"\n"
     ]
    },
    {
     "name": "stderr",
     "output_type": "stream",
     "text": [
      "Average Metric: 336 / 42  (800.0):  42%|████▏     | 41/98 [00:14<00:22,  2.56it/s]"
     ]
    },
    {
     "name": "stdout",
     "output_type": "stream",
     "text": [
      "Searching quran for \"من هو عيسى في الإسلام؟\"\n",
      "Searching quran for \"ما هو الإسلام؟\"\n"
     ]
    },
    {
     "name": "stderr",
     "output_type": "stream",
     "text": [
      "Average Metric: 364 / 46  (791.3):  46%|████▌     | 45/98 [00:14<00:17,  3.08it/s]"
     ]
    },
    {
     "name": "stdout",
     "output_type": "stream",
     "text": [
      "Searching quran for \"متى رمضان؟\"\n",
      "Searching quran for \"كيف يعامل الإسلام الأقليات الدينية؟\"\n",
      "Searching quran for \"كيف تتعلق الشريعة بطقوس العبادة؟\"\n",
      "Searching quran for \"هل انتشر الإسلام بالعنف والإكراه؟\"\n",
      "Searching al-mawsuah for \"أين تؤدى العمرة؟\"\n"
     ]
    },
    {
     "name": "stderr",
     "output_type": "stream",
     "text": [
      "Average Metric: 374 / 47  (795.7):  48%|████▊     | 47/98 [00:15<00:12,  4.10it/s]"
     ]
    },
    {
     "name": "stdout",
     "output_type": "stream",
     "text": [
      "Searching quran for \"لماذا يتم الاحتفال بشهر رمضان؟\"\n",
      "Searching hadith for \"ما هو الإسلام؟\"\n"
     ]
    },
    {
     "name": "stderr",
     "output_type": "stream",
     "text": [
      "Average Metric: 382 / 48  (795.8):  49%|████▉     | 48/98 [00:15<00:12,  4.02it/s]"
     ]
    },
    {
     "name": "stdout",
     "output_type": "stream",
     "text": [
      "Searching hadith for \"من هو عيسى في الأحاديث؟\"\n",
      "Searching quran for \"من هو النبي إبراهيم؟\"\n",
      "Searching hadith for \"متى رمضان؟\"\n",
      "Searching hadith for \"معاملة الإسلام للأقليات الدينية\"\n",
      "Searching hadith for \"هل انتشر الإسلام بالعنف والإكراه؟\"\n",
      "Searching hadith for \"كيف تتعلق الشريعة بطقوس العبادة؟\"\n",
      "Searching hadith for \"لماذا يتم الاحتفال بشهر رمضان؟\"\n",
      "Searching al-mawsuah for \"ما هو الإسلام؟\"\n",
      "Searching al-mawsuah for \"معاملة الأقليات الدينية في الفقه الإسلامي\"\n",
      "Searching al-mawsuah for \"هل انتشر الإسلام بالعنف والإكراه؟\"\n",
      "Searching al-mawsuah for \"متى رمضان؟\"\n",
      "Searching hadith for \"من هو النبي إبراهيم؟\"\n",
      "Searching al-mawsuah for \"من هو عيسى في الفقه الإسلامي؟\"\n",
      "Searching al-mawsuah for \"كيف تتعلق الشريعة بطقوس العبادة؟\"\n"
     ]
    },
    {
     "name": "stderr",
     "output_type": "stream",
     "text": [
      "Average Metric: 386 / 49  (787.8):  50%|█████     | 49/98 [00:16<00:20,  2.42it/s]"
     ]
    },
    {
     "name": "stdout",
     "output_type": "stream",
     "text": [
      "Searching al-mawsuah for \"لماذا يتم الاحتفال بشهر رمضان؟\"\n",
      "Searching quran for \"ما هو زكاة الفطر؟\"\n"
     ]
    },
    {
     "name": "stderr",
     "output_type": "stream",
     "text": [
      "Average Metric: 422 / 53  (796.2):  54%|█████▍    | 53/98 [00:17<00:10,  4.24it/s]"
     ]
    },
    {
     "name": "stdout",
     "output_type": "stream",
     "text": [
      "Searching quran for \"هل يسمح الإسلام بقتل المدنيين؟\"\n",
      "Searching quran for \"ما هو الفقه؟\"\n",
      "Searching quran for \"كيف تتعلق الشريعة بالمجتمع؟\"\n",
      "Searching quran for \"أهمية الصدقة في رمضان\"\n"
     ]
    },
    {
     "name": "stderr",
     "output_type": "stream",
     "text": [
      "Average Metric: 428 / 54  (792.6):  55%|█████▌    | 54/98 [00:17<00:09,  4.60it/s]"
     ]
    },
    {
     "name": "stdout",
     "output_type": "stream",
     "text": [
      "Searching al-mawsuah for \"من هو النبي إبراهيم؟\"\n",
      "Searching quran for \"القيود الغذائية في الإسلام\"\n"
     ]
    },
    {
     "name": "stderr",
     "output_type": "stream",
     "text": [
      "Average Metric: 436 / 55  (792.7):  56%|█████▌    | 55/98 [00:17<00:09,  4.74it/s]"
     ]
    },
    {
     "name": "stdout",
     "output_type": "stream",
     "text": [
      "Searching quran for \"ما هو القرآن؟\"\n",
      "Searching hadith for \"ما هو زكاة الفطر؟\"\n",
      "Searching hadith for \"هل يسمح الإسلام بقتل المدنيين؟\"\n",
      "Searching hadith for \"كيف تتعلق الشريعة بالمجتمع؟\"\n",
      "Searching hadith for \"ما هو الفقه؟\"\n"
     ]
    },
    {
     "name": "stderr",
     "output_type": "stream",
     "text": [
      "Average Metric: 442 / 56  (789.3):  57%|█████▋    | 56/98 [00:18<00:13,  3.22it/s]"
     ]
    },
    {
     "name": "stdout",
     "output_type": "stream",
     "text": [
      "Searching hadith for \"فضل الصدقة في رمضان\"\n",
      "Searching hadith for \"القيود الغذائية في الإسلام\"\n",
      "Searching quran for \"من بنى الكعبة؟\"\n",
      "Searching hadith for \"ما هو القرآن؟\"\n",
      "Searching al-mawsuah for \"ما هو زكاة الفطر؟\"\n",
      "Searching al-mawsuah for \"هل يسمح الإسلام بقتل المدنيين؟\"\n",
      "Searching al-mawsuah for \"كيف تتعلق الشريعة بالمجتمع؟\"\n",
      "Searching al-mawsuah for \"الصدقة في رمضان\"\n",
      "Searching al-mawsuah for \"ما هو الفقه؟\"\n"
     ]
    },
    {
     "name": "stderr",
     "output_type": "stream",
     "text": [
      "Average Metric: 446 / 57  (782.5):  57%|█████▋    | 56/98 [00:19<00:13,  3.22it/s]"
     ]
    },
    {
     "name": "stdout",
     "output_type": "stream",
     "text": [
      "Searching hadith for \"من بنى الكعبة؟\"\n",
      "Searching al-mawsuah for \"ما هو القرآن؟\"\n",
      "Searching al-mawsuah for \"القيود الغذائية في الإسلام\"\n"
     ]
    },
    {
     "name": "stderr",
     "output_type": "stream",
     "text": [
      "Average Metric: 452 / 58  (779.3):  59%|█████▉    | 58/98 [00:19<00:15,  2.52it/s]"
     ]
    },
    {
     "name": "stdout",
     "output_type": "stream",
     "text": [
      "Searching quran for \"من أين تأتي الشريعة؟\"\n",
      "Searching quran for \"كيف يغذي الإسلام رفاهنا العاطفي؟\"\n"
     ]
    },
    {
     "name": "stderr",
     "output_type": "stream",
     "text": [
      "Average Metric: 476 / 61  (780.3):  62%|██████▏   | 61/98 [00:19<00:08,  4.52it/s]"
     ]
    },
    {
     "name": "stdout",
     "output_type": "stream",
     "text": [
      "Searching quran for \"كيفية أداء العمرة\"\n",
      "Searching quran for \"آيات القرآن للتعامل مع الضيق والشدائد\"\n",
      "Searching quran for \"هل يقول القرآن بقتل غير المؤمنين؟\"\n"
     ]
    },
    {
     "name": "stderr",
     "output_type": "stream",
     "text": [
      "Average Metric: 496 / 63  (787.3):  63%|██████▎   | 62/98 [00:19<00:08,  4.27it/s]"
     ]
    },
    {
     "name": "stdout",
     "output_type": "stream",
     "text": [
      "Searching al-mawsuah for \"من بنى الكعبة؟\"\n",
      "Searching quran for \"هل التجديف يعاقب عليه بالإعدام؟\"\n",
      "Searching quran for \"هل يسمح الإسلام بقتل المدنيين؟\"\n",
      "Searching hadith for \"من أين تأتي الشريعة؟\"\n",
      "Searching hadith for \"كيف يغذي الإسلام رفاهنا العاطفي؟\"\n",
      "Searching hadith for \"كيفية أداء العمرة\"\n",
      "Searching hadith for \"أحاديث عن التعامل مع الضيق والشدائد\"\n",
      "Searching hadith for \"هل يوجد حديث يأمر بقتل غير المؤمنين؟\"\n"
     ]
    },
    {
     "name": "stderr",
     "output_type": "stream",
     "text": [
      "Average Metric: 504 / 64  (787.5):  65%|██████▌   | 64/98 [00:20<00:09,  3.61it/s]"
     ]
    },
    {
     "name": "stdout",
     "output_type": "stream",
     "text": [
      "Searching quran for \"ما معنى الإسلام؟\"\n",
      "Searching hadith for \"هل التجديف يعاقب عليه بالإعدام؟\"\n",
      "Searching hadith for \"هل يسمح الإسلام بقتل المدنيين؟\"\n",
      "Searching al-mawsuah for \"مصادر الشريعة الإسلامية\"\n",
      "Searching al-mawsuah for \"كيف يغذي الإسلام رفاهنا العاطفي؟\"\n",
      "Searching al-mawsuah for \"كيفية أداء العمرة\"\n",
      "Searching al-mawsuah for \"أحكام الفقه الإسلامي حول التعامل مع الضيق والشدائد\"\n",
      "Searching al-mawsuah for \"ما هو حكم قتل غير المؤمنين في الفقه الإسلامي؟\"\n",
      "Searching hadith for \"ما معنى الإسلام في الحديث؟\"\n",
      "Searching al-mawsuah for \"هل يسمح الإسلام بقتل المدنيين؟\"\n",
      "Searching al-mawsuah for \"هل التجديف يعاقب عليه بالإعدام؟\"\n"
     ]
    },
    {
     "name": "stderr",
     "output_type": "stream",
     "text": [
      "Average Metric: 532 / 68  (782.4):  68%|██████▊   | 67/98 [00:21<00:11,  2.61it/s]"
     ]
    },
    {
     "name": "stdout",
     "output_type": "stream",
     "text": [
      "Searching quran for \"ما هو عيد الفطر؟\"\n",
      "Searching quran for \"لماذا الحج مهم؟\"\n",
      "Searching quran for \"هل يقول القرآن بقتل غير المؤمنين؟\"\n",
      "Searching quran for \"كيفية أداء الحج\"\n"
     ]
    },
    {
     "name": "stderr",
     "output_type": "stream",
     "text": [
      "Average Metric: 544 / 70  (777.1):  71%|███████▏  | 70/98 [00:22<00:05,  4.73it/s]"
     ]
    },
    {
     "name": "stdout",
     "output_type": "stream",
     "text": [
      "Searching quran for \"هل هناك استثناءات أو إعفاءات من الصيام؟\"\n",
      "Searching quran for \"ما هي العمرة؟\"\n",
      "Searching al-mawsuah for \"ما هو تعريف الإسلام في الفقه الإسلامي؟\"\n"
     ]
    },
    {
     "name": "stderr",
     "output_type": "stream",
     "text": [
      "Average Metric: 552 / 71  (777.5):  72%|███████▏  | 71/98 [00:22<00:05,  4.96it/s]"
     ]
    },
    {
     "name": "stdout",
     "output_type": "stream",
     "text": [
      "Searching quran for \"هل انتشر الإسلام بالعنف والإكراه؟\"\n",
      "Searching hadith for \"ما هو عيد الفطر؟\"\n",
      "Searching hadith for \"أهمية الحج في الأحاديث\"\n",
      "Searching hadith for \"هل يوجد حديث يأمر بقتل غير المؤمنين؟\"\n",
      "Searching hadith for \"كيفية أداء الحج\"\n"
     ]
    },
    {
     "name": "stderr",
     "output_type": "stream",
     "text": [
      "Average Metric: 560 / 72  (777.8):  73%|███████▎  | 72/98 [00:23<00:08,  3.05it/s]"
     ]
    },
    {
     "name": "stdout",
     "output_type": "stream",
     "text": [
      "Searching hadith for \"هل هناك استثناءات أو إعفاءات من الصيام؟\"\n",
      "Searching hadith for \"ما هي العمرة؟\"\n",
      "Searching quran for \"هل العمرة والحج نفس الشيء؟\"\n",
      "Searching hadith for \"هل انتشر الإسلام بالعنف والإكراه؟\"\n",
      "Searching al-mawsuah for \"ما هو عيد الفطر؟\"\n",
      "Searching al-mawsuah for \"ما هو حكم قتل غير المؤمنين في الفقه الإسلامي؟\"\n",
      "Searching al-mawsuah for \"كيفية أداء الحج\"\n",
      "Searching al-mawsuah for \"أهمية الحج في الفقه الإسلامي\"\n",
      "Searching al-mawsuah for \"ما هي العمرة؟\"\n",
      "Searching al-mawsuah for \"هل هناك استثناءات أو إعفاءات من الصيام؟\"\n",
      "Searching al-mawsuah for \"هل انتشر الإسلام بالعنف والإكراه؟\"\n",
      "Searching hadith for \"هل العمرة والحج نفس الشيء؟\"\n"
     ]
    },
    {
     "name": "stderr",
     "output_type": "stream",
     "text": [
      "Average Metric: 578 / 75  (770.7):  77%|███████▋  | 75/98 [00:24<00:07,  3.12it/s]"
     ]
    },
    {
     "name": "stdout",
     "output_type": "stream",
     "text": [
      "Searching quran for \"ماذا يؤمن المسلمون؟\"\n",
      "Searching quran for \"هل الشريعة موحدة وغير متغيرة؟\"\n",
      "Searching quran for \"ما هي الصدقة؟\"\n"
     ]
    },
    {
     "name": "stderr",
     "output_type": "stream",
     "text": [
      "Average Metric: 582 / 76  (765.8):  78%|███████▊  | 76/98 [00:24<00:05,  3.70it/s]"
     ]
    },
    {
     "name": "stdout",
     "output_type": "stream",
     "text": [
      "Searching quran for \"صلاة التراويح\"\n"
     ]
    },
    {
     "name": "stderr",
     "output_type": "stream",
     "text": [
      "Average Metric: 612 / 79  (774.7):  80%|███████▉  | 78/98 [00:24<00:05,  3.56it/s]"
     ]
    },
    {
     "name": "stdout",
     "output_type": "stream",
     "text": [
      "Searching al-mawsuah for \"هل العمرة والحج نفس الشيء؟\"\n",
      "Searching quran for \"ما هو التوحيد؟\"\n",
      "Searching quran for \"ما معنى الجهاد؟\"\n",
      "Searching quran for \"كيف يتناول الإسلام القدر والإرادة الحرة؟\"\n",
      "Searching hadith for \"هل الشريعة موحدة وغير متغيرة؟\"\n",
      "Searching hadith for \"ماذا يؤمن المسلمون؟\"\n",
      "Searching hadith for \"ما هي الصدقة؟\"\n",
      "Searching hadith for \"صلاة التراويح\"\n"
     ]
    },
    {
     "name": "stderr",
     "output_type": "stream",
     "text": [
      "Average Metric: 620 / 80  (775.0):  82%|████████▏ | 80/98 [00:25<00:04,  3.94it/s]"
     ]
    },
    {
     "name": "stdout",
     "output_type": "stream",
     "text": [
      "Searching quran for \"الطلاق في الإسلام\"\n",
      "Searching hadith for \"ما معنى الجهاد؟\"\n",
      "Searching hadith for \"كيف يتناول الإسلام القدر والإرادة الحرة؟\"\n",
      "Searching hadith for \"ما هو التوحيد؟\"\n",
      "Searching al-mawsuah for \"ماذا يؤمن المسلمون؟\"\n",
      "Searching al-mawsuah for \"هل الشريعة موحدة وغير متغيرة؟\"\n",
      "Searching al-mawsuah for \"ما هي الصدقة؟\"\n",
      "Searching al-mawsuah for \"صلاة التراويح\"\n",
      "Searching hadith for \"حديث عن الطلاق\"\n",
      "Searching al-mawsuah for \"ما معنى الجهاد؟\"\n",
      "Searching al-mawsuah for \"ما هو التوحيد؟\"\n",
      "Searching al-mawsuah for \"كيف يتناول الإسلام القدر والإرادة الحرة؟\"\n"
     ]
    },
    {
     "name": "stderr",
     "output_type": "stream",
     "text": [
      "Average Metric: 634 / 82  (773.2):  84%|████████▎ | 82/98 [00:26<00:05,  2.79it/s]"
     ]
    },
    {
     "name": "stdout",
     "output_type": "stream",
     "text": [
      "Searching quran for \"ما هي الأعياد التي يحتفل بها المسلمون؟\"\n",
      "Searching quran for \"هل الوسواس القهري نتيجة وساوس الشيطان؟\"\n"
     ]
    },
    {
     "name": "stderr",
     "output_type": "stream",
     "text": [
      "Average Metric: 644 / 84  (766.7):  85%|████████▍ | 83/98 [00:26<00:04,  3.23it/s]"
     ]
    },
    {
     "name": "stdout",
     "output_type": "stream",
     "text": [
      "Searching quran for \"كيف نعرف أن الله موجود؟\"\n",
      "Searching quran for \"تاريخ الشريعة\"\n",
      "Searching al-mawsuah for \"الطلاق في الفقه الإسلامي\"\n"
     ]
    },
    {
     "name": "stderr",
     "output_type": "stream",
     "text": [
      "Average Metric: 662 / 87  (760.9):  88%|████████▊ | 86/98 [00:27<00:02,  4.03it/s]"
     ]
    },
    {
     "name": "stdout",
     "output_type": "stream",
     "text": [
      "Searching quran for \"هل يسمح الإسلام بالحرب الوقائية؟\"\n",
      "Searching quran for \"الوحي في الإسلام\"\n",
      "Searching quran for \"هل الإسلام يشجع على العنف؟\"\n",
      "Searching hadith for \"ما هي الأعياد التي يحتفل بها المسلمون؟\"\n",
      "Searching hadith for \"هل الوسواس القهري نتيجة وساوس الشيطان؟\"\n",
      "Searching hadith for \"تاريخ الشريعة\"\n",
      "Searching hadith for \"كيف نعرف أن الله موجود؟\"\n"
     ]
    },
    {
     "name": "stderr",
     "output_type": "stream",
     "text": [
      "Average Metric: 670 / 88  (761.4):  90%|████████▉ | 88/98 [00:27<00:02,  4.00it/s]"
     ]
    },
    {
     "name": "stdout",
     "output_type": "stream",
     "text": [
      "Searching quran for \"ما هي أهمية الحج؟\"\n",
      "Searching hadith for \"هل يسمح الإسلام بالحرب الوقائية؟\"\n",
      "Searching hadith for \"هل الإسلام يشجع على العنف؟\"\n",
      "Searching hadith for \"الوحي في الإسلام\"\n",
      "Searching al-mawsuah for \"ما هي الأعياد التي يحتفل بها المسلمون؟\"\n",
      "Searching al-mawsuah for \"تاريخ الشريعة\"\n",
      "Searching al-mawsuah for \"هل الوسواس القهري نتيجة وساوس الشيطان؟\"\n",
      "Searching al-mawsuah for \"كيف نعرف أن الله موجود؟\"\n",
      "Searching hadith for \"ما هي أهمية الحج؟\"\n",
      "Searching al-mawsuah for \"هل يسمح الإسلام بالحرب الوقائية؟\"\n",
      "Searching al-mawsuah for \"هل الإسلام يشجع على العنف؟\"\n",
      "Searching al-mawsuah for \"الوحي في الإسلام\"\n"
     ]
    },
    {
     "name": "stderr",
     "output_type": "stream",
     "text": [
      "Average Metric: 694 / 91  (762.6):  92%|█████████▏| 90/98 [00:29<00:03,  2.44it/s]"
     ]
    },
    {
     "name": "stdout",
     "output_type": "stream",
     "text": [
      "Searching quran for \"لماذا يطلب الله من الناس عبادته؟\"\n",
      "Searching quran for \"هل يؤمن المسلمون بصلب عيسى؟\"\n"
     ]
    },
    {
     "name": "stderr",
     "output_type": "stream",
     "text": [
      "Average Metric: 724 / 95  (762.1):  97%|█████████▋| 95/98 [00:29<00:00,  5.15it/s]"
     ]
    },
    {
     "name": "stdout",
     "output_type": "stream",
     "text": [
      "Searching al-mawsuah for \"ما هي أهمية الحج؟\"\n",
      "Searching hadith for \"هل ورد في الأحاديث أن المسلمين يؤمنون بصلب عيسى؟\"\n",
      "Searching hadith for \"لماذا يطلب الله من الناس عبادته؟\"\n"
     ]
    },
    {
     "name": "stderr",
     "output_type": "stream",
     "text": [
      "Average Metric: 734 / 96  (764.6):  98%|█████████▊| 96/98 [00:30<00:00,  3.30it/s]"
     ]
    },
    {
     "name": "stdout",
     "output_type": "stream",
     "text": [
      "Searching al-mawsuah for \"موقف الفقه الإسلامي من صلب عيسى\"\n",
      "Searching al-mawsuah for \"لماذا يطلب الله من الناس عبادته؟\"\n"
     ]
    },
    {
     "name": "stderr",
     "output_type": "stream",
     "text": [
      "Average Metric: 748 / 98  (763.3): 100%|██████████| 98/98 [00:31<00:00,  3.10it/s]\n"
     ]
    },
    {
     "name": "stdout",
     "output_type": "stream",
     "text": [
      "Searching quran for \"من يجب عليه أداء الحج؟\"\n",
      "Searching quran for \"أين الكعبة؟\"\n",
      "Searching quran for \"هل يسمح الإسلام بجرائم الشرف؟\"\n",
      "Searching quran for \"هل يقدم القرآن توجيهات حول كيفية التعامل مع الصدمة والألم؟\"\n",
      "Searching quran for \"هل يصوم المسلمون خارج رمضان؟\"\n",
      "Searching quran for \"ما هي الفتوى؟\"\n",
      "Searching quran for \"ما معنى حلال؟\"\n",
      "Searching quran for \"هل الردة يعاقب عليها بالإعدام في الإسلام؟\"\n"
     ]
    },
    {
     "name": "stderr",
     "output_type": "stream",
     "text": [
      "  0%|          | 0/98 [00:00<?, ?it/s]"
     ]
    },
    {
     "name": "stdout",
     "output_type": "stream",
     "text": [
      "Searching hadith for \"هل توجد أحاديث تتعلق بجرائم الشرف؟\"\n",
      "Searching hadith for \"أين الكعبة؟\"\n",
      "Searching hadith for \"ما هي الفتوى؟\"\n",
      "Searching hadith for \"هل يصوم المسلمون خارج رمضان؟\"\n",
      "Searching hadith for \"ما معنى حلال؟\"\n",
      "Searching hadith for \"هل تقدم السنة النبوية توجيهات حول كيفية التعامل مع الصدمة والألم؟\"\n",
      "Searching hadith for \"هل يعاقب المرتد بالإعدام في الإسلام؟\"\n",
      "Searching hadith for \"من يجب عليه أداء الحج؟\"\n",
      "Searching al-mawsuah for \"ما هو حكم الفقه الإسلامي في جرائم الشرف؟\"\n",
      "Searching al-mawsuah for \"من يجب عليه أداء الحج؟\"\n",
      "Searching al-mawsuah for \"أين الكعبة؟\"\n",
      "Searching al-mawsuah for \"ما هي الفتوى؟\"\n",
      "Searching al-mawsuah for \"ما معنى حلال؟\"\n",
      "Searching al-mawsuah for \"هل يصوم المسلمون خارج رمضان؟\"\n",
      "Searching al-mawsuah for \"كيفية التعامل مع الصدمة والألم في الفقه الإسلامي\"\n",
      "Searching al-mawsuah for \"حكم الردة في الفقه الإسلامي\"\n"
     ]
    },
    {
     "name": "stderr",
     "output_type": "stream",
     "text": [
      "Average Metric: 48 / 6  (800.0):   5%|▌         | 5/98 [00:02<00:43,  2.12it/s]"
     ]
    },
    {
     "name": "stdout",
     "output_type": "stream",
     "text": [
      "Searching quran for \"ما هو رمضان؟\"\n",
      "Searching quran for \"هل الإسلام يشجع على العنف؟\"\n",
      "Searching quran for \"هل يسمح الإسلام بالحرب الوقائية؟\"\n",
      "Searching quran for \"أهمية ليلة القدر\"\n",
      "Searching quran for \"كيف يصف القرآن السعادة؟ كيف يمكن تحقيقها في الإسلام؟\"\n",
      "Searching quran for \"هل يوفر الإسلام إرشادات حول كيفية التعامل مع الأمراض النفسية؟\"\n"
     ]
    },
    {
     "name": "stderr",
     "output_type": "stream",
     "text": [
      "Average Metric: 64 / 8  (800.0):   7%|▋         | 7/98 [00:02<00:22,  4.03it/s]"
     ]
    },
    {
     "name": "stdout",
     "output_type": "stream",
     "text": [
      "Searching quran for \"ما هو رمضان؟\"\n",
      "Searching quran for \"لماذا يصلي المسلمون يوميا؟\"\n",
      "Searching hadith for \"ما هو رمضان؟\"\n",
      "Searching hadith for \"هل يسمح الإسلام بالحرب الوقائية؟\"\n",
      "Searching hadith for \"فضل ليلة القدر\"\n",
      "Searching hadith for \"هل الإسلام يشجع على العنف؟\"\n",
      "Searching hadith for \"هل هناك أحاديث تتحدث عن كيفية التعامل مع الأمراض النفسية؟\"\n",
      "Searching hadith for \"كيف يصف الحديث السعادة؟ كيف يمكن تحقيقها في الإسلام؟\"\n",
      "Searching hadith for \"لماذا يصلي المسلمون يوميا؟\"\n",
      "Searching hadith for \"ما هو رمضان؟\"\n",
      "Searching al-mawsuah for \"ما هو رمضان؟\"Searching al-mawsuah for \"أهمية ليلة القدر في الفقه الإسلامي\"\n",
      "\n",
      "Searching al-mawsuah for \"هل الإسلام يشجع على العنف؟\"\n",
      "Searching al-mawsuah for \"إرشادات الفقه الإسلامي حول التعامل مع الأمراض النفسية\"\n",
      "Searching al-mawsuah for \"هل يسمح الإسلام بالحرب الوقائية؟\"\n",
      "Searching al-mawsuah for \"السعادة في الفقه الإسلامي وكيفية تحقيقها\"\n",
      "Searching al-mawsuah for \"ما هو رمضان؟\"\n",
      "Searching al-mawsuah for \"لماذا يصلي المسلمون يوميا؟\"\n"
     ]
    },
    {
     "name": "stderr",
     "output_type": "stream",
     "text": [
      "Average Metric: 114 / 16  (712.5):  15%|█▌        | 15/98 [00:04<00:45,  1.82it/s]"
     ]
    },
    {
     "name": "stdout",
     "output_type": "stream",
     "text": [
      "Searching quran for \"كيف تصوم رمضان؟\"\n",
      "Searching quran for \"كيف نعلم أن القرآن وحي إلهي؟\"\n",
      "Searching quran for \"من يجب عليه الصيام في رمضان؟\"\n",
      "Searching quran for \"هل التجديف يعاقب عليه بالإعدام؟\"\n",
      "Searching quran for \"ما هو الغرض من الصيام في رمضان؟\"\n",
      "Searching quran for \"ماذا يقدم الإسلام للناس؟\"\n",
      "Searching quran for \"مدة الصيام في رمضان\"\n",
      "Searching quran for \"كيف يُساء تفسير الجهاد كإرهاب؟\"\n",
      "Searching hadith for \"كيف تصوم رمضان؟\"\n",
      "Searching hadith for \"كيف نعلم أن القرآن وحي إلهي؟\"\n",
      "Searching hadith for \"من يجب عليه الصيام في رمضان؟\"\n",
      "Searching hadith for \"ماذا يقدم الإسلام للناس؟\"\n",
      "Searching hadith for \"ما هو الغرض من الصيام في رمضان؟\"\n",
      "Searching hadith for \"مدة الصيام في رمضان\"\n",
      "Searching hadith for \"كيف يُساء تفسير الجهاد كإرهاب؟\"\n",
      "Searching hadith for \"هل التجديف يعاقب عليه بالإعدام؟\"\n",
      "Searching al-mawsuah for \"كيف تصوم رمضان؟\"\n",
      "Searching al-mawsuah for \"كيف نعلم أن القرآن وحي إلهي؟\"\n",
      "Searching al-mawsuah for \"من يجب عليه الصيام في رمضان؟\"\n",
      "Searching al-mawsuah for \"كيف يُساء تفسير الجهاد كإرهاب؟\"\n",
      "Searching al-mawsuah for \"مدة الصيام في رمضان\"\n",
      "Searching al-mawsuah for \"ما هو الغرض من الصيام في رمضان؟\"\n",
      "Searching al-mawsuah for \"ماذا يقدم الإسلام للناس؟\"\n",
      "Searching al-mawsuah for \"هل التجديف يعاقب عليه بالإعدام؟\"\n"
     ]
    },
    {
     "name": "stderr",
     "output_type": "stream",
     "text": [
      "Average Metric: 148 / 20  (740.0):  19%|█▉        | 19/98 [00:07<00:24,  3.18it/s]"
     ]
    },
    {
     "name": "stdout",
     "output_type": "stream",
     "text": [
      "Searching quran for \"كيف يُساء تفسير الجهاد كإرهاب؟\"\n",
      "Searching quran for \"أركان الإسلام الخمسة\"\n",
      "Searching quran for \"كيف يعامل الإسلام الأقليات الدينية؟\"\n",
      "Searching quran for \"ليلة القدر\"\n"
     ]
    },
    {
     "name": "stderr",
     "output_type": "stream",
     "text": [
      "Average Metric: 182 / 24  (758.3):  24%|██▍       | 24/98 [00:07<00:14,  5.16it/s]"
     ]
    },
    {
     "name": "stdout",
     "output_type": "stream",
     "text": [
      "Searching quran for \"من هو الله\"\n",
      "Searching quran for \"هل يؤمن المسلمون بالروح القدس؟\"\n",
      "Searching quran for \"هل يؤمن المسلمون بالجنة والنار؟\"\n",
      "Searching quran for \"ما معنى الجهاد؟\"\n",
      "Searching hadith for \"كيف يُساء تفسير الجهاد كإرهاب؟\"\n",
      "Searching hadith for \"أركان الإسلام الخمسة\"\n",
      "Searching hadith for \"ما هي ليلة القدر\"\n",
      "Searching hadith for \"معاملة الإسلام للأقليات الدينية\"\n",
      "Searching hadith for \"هل ذكر الروح القدس في الأحاديث؟\"\n",
      "Searching hadith for \"هل ذكر النبي الجنة والنار؟\"\n",
      "Searching hadith for \"من هو الله\"\n",
      "Searching hadith for \"ما معنى الجهاد؟\"\n",
      "Searching al-mawsuah for \"كيف يُساء تفسير الجهاد كإرهاب؟\"\n",
      "Searching al-mawsuah for \"أركان الإسلام الخمسة\"\n",
      "Searching al-mawsuah for \"ليلة القدر في الفقه الإسلامي\"\n",
      "Searching al-mawsuah for \"معاملة الأقليات الدينية في الفقه الإسلامي\"\n",
      "Searching al-mawsuah for \"الإيمان بالروح القدس في الفقه الإسلامي\"\n",
      "Searching al-mawsuah for \"الإيمان بالجنة والنار في الفقه الإسلامي\"\n",
      "Searching al-mawsuah for \"ما معنى الجهاد؟\"\n",
      "Searching al-mawsuah for \"من هو الله\"\n"
     ]
    },
    {
     "name": "stderr",
     "output_type": "stream",
     "text": [
      "Average Metric: 216 / 28  (771.4):  29%|██▊       | 28/98 [00:09<00:21,  3.30it/s]"
     ]
    },
    {
     "name": "stdout",
     "output_type": "stream",
     "text": [
      "Searching quran for \"أين يحدث الحج؟\"\n",
      "Searching quran for \"أحكام الحرب في الإسلام\"\n",
      "Searching quran for \"متى ليلة القدر؟\"\n",
      "Searching quran for \"كم مرة يصلي المسلمون خلال رمضان؟\"\n"
     ]
    },
    {
     "name": "stderr",
     "output_type": "stream",
     "text": [
      "Average Metric: 244 / 31  (787.1):  31%|███       | 30/98 [00:09<00:17,  3.91it/s]"
     ]
    },
    {
     "name": "stdout",
     "output_type": "stream",
     "text": [
      "Searching quran for \"لماذا الكعبة مهمة؟\"\n",
      "Searching quran for \"لماذا يجب على المسلمين الصيام لمدة شهر كامل؟\"\n",
      "Searching quran for \"كيف يمكن فهم والتعامل مع الحزن والأسى في الإسلام؟\"\n"
     ]
    },
    {
     "name": "stderr",
     "output_type": "stream",
     "text": [
      "Average Metric: 250 / 32  (781.2):  33%|███▎      | 32/98 [00:10<00:13,  4.74it/s]"
     ]
    },
    {
     "name": "stdout",
     "output_type": "stream",
     "text": [
      "Searching quran for \"كيف يمكن للمرء أن يطهر قلبه وروحه؟\"\n",
      "Searching hadith for \"أين يحدث الحج؟\"\n",
      "Searching hadith for \"أحاديث عن أحكام الحرب في الإسلام\"\n",
      "Searching hadith for \"كم مرة يصلي المسلمون خلال رمضان؟\"\n",
      "Searching hadith for \"متى ليلة القدر؟\"\n",
      "Searching hadith for \"لماذا الكعبة مهمة؟\"\n",
      "Searching hadith for \"لماذا يجب على المسلمين الصيام لمدة شهر كامل؟\"\n",
      "Searching hadith for \"كيف يمكن فهم والتعامل مع الحزن والأسى في الإسلام؟\"\n",
      "Searching hadith for \"كيف يمكن للمرء أن يطهر قلبه وروحه؟\"\n",
      "Searching al-mawsuah for \"أين يحدث الحج؟\"\n",
      "Searching al-mawsuah for \"متى ليلة القدر؟\"\n",
      "Searching al-mawsuah for \"أحكام الحرب في الفقه الإسلامي\"\n",
      "Searching al-mawsuah for \"كم مرة يصلي المسلمون خلال رمضان؟\"\n",
      "Searching al-mawsuah for \"أهمية الكعبة في الفقه الإسلامي\"\n",
      "Searching al-mawsuah for \"لماذا يجب على المسلمين الصيام لمدة شهر كامل؟\"\n",
      "Searching al-mawsuah for \"كيف يمكن فهم والتعامل مع الحزن والأسى في الإسلام؟\"\n",
      "Searching al-mawsuah for \"كيف يمكن للمرء أن يطهر قلبه وروحه؟\"\n"
     ]
    },
    {
     "name": "stderr",
     "output_type": "stream",
     "text": [
      "Average Metric: 282 / 35  (805.7):  35%|███▍      | 34/98 [00:12<00:27,  2.37it/s]"
     ]
    },
    {
     "name": "stdout",
     "output_type": "stream",
     "text": [
      "Searching quran for \"ما هي الكعبة؟\"\n",
      "Searching quran for \"من هو النبي محمد؟\"\n",
      "Searching quran for \"ما هي التزكية؟\"\n"
     ]
    },
    {
     "name": "stderr",
     "output_type": "stream",
     "text": [
      "Average Metric: 298 / 37  (805.4):  38%|███▊      | 37/98 [00:12<00:18,  3.38it/s]"
     ]
    },
    {
     "name": "stdout",
     "output_type": "stream",
     "text": [
      "Searching quran for \"أحكام الحرب في الإسلام\"\n",
      "Searching quran for \"ما الذي يعلمه الإسلام عن إدارة القلق والاكتئاب والشك الذاتي؟\"\n"
     ]
    },
    {
     "name": "stderr",
     "output_type": "stream",
     "text": [
      "Average Metric: 320 / 40  (800.0):  41%|████      | 40/98 [00:12<00:12,  4.65it/s]"
     ]
    },
    {
     "name": "stdout",
     "output_type": "stream",
     "text": [
      "Searching quran for \"أين تؤدى العمرة؟\"\n",
      "Searching quran for \"كيف تكون الروحانية الإسلامية فريدة؟\"\n",
      "Searching quran for \"كيف يفهم الإسلام الروح\"\n",
      "Searching hadith for \"ما هي الكعبة؟\"\n",
      "Searching hadith for \"ما هي التزكية؟\"\n",
      "Searching hadith for \"من هو النبي محمد؟\"\n",
      "Searching hadith for \"أحاديث عن أحكام الحرب في الإسلام\"\n",
      "Searching hadith for \"ما الذي يعلمه الإسلام عن إدارة القلق والاكتئاب والشك الذاتي؟\"\n",
      "Searching hadith for \"كيف تكون الروحانية الإسلامية فريدة؟\"\n",
      "Searching hadith for \"فهم الروح في الإسلام\"\n",
      "Searching hadith for \"أين تؤدى العمرة؟\"\n",
      "Searching al-mawsuah for \"ما هي التزكية؟\"\n",
      "Searching al-mawsuah for \"ما هي الكعبة؟\"\n",
      "Searching al-mawsuah for \"أحكام الحرب في الفقه الإسلامي\"\n",
      "Searching al-mawsuah for \"من هو النبي محمد؟\"\n",
      "Searching al-mawsuah for \"ما الذي يعلمه الإسلام عن إدارة القلق والاكتئاب والشك الذاتي؟\"\n",
      "Searching al-mawsuah for \"كيف تكون الروحانية الإسلامية فريدة؟\"\n"
     ]
    },
    {
     "name": "stderr",
     "output_type": "stream",
     "text": [
      "Average Metric: 330 / 41  (804.9):  41%|████      | 40/98 [00:14<00:12,  4.65it/s]"
     ]
    },
    {
     "name": "stdout",
     "output_type": "stream",
     "text": [
      "Searching al-mawsuah for \"الروح في الفقه الإسلامي\"\n",
      "Searching quran for \"من هو عيسى في الإسلام؟\"\n"
     ]
    },
    {
     "name": "stderr",
     "output_type": "stream",
     "text": [
      "Average Metric: 348 / 43  (809.3):  44%|████▍     | 43/98 [00:14<00:20,  2.67it/s]"
     ]
    },
    {
     "name": "stdout",
     "output_type": "stream",
     "text": [
      "Searching quran for \"ما هو الإسلام؟\"\n",
      "Searching quran for \"متى رمضان؟\"\n"
     ]
    },
    {
     "name": "stderr",
     "output_type": "stream",
     "text": [
      "Average Metric: 364 / 46  (791.3):  46%|████▌     | 45/98 [00:14<00:18,  2.87it/s]"
     ]
    },
    {
     "name": "stdout",
     "output_type": "stream",
     "text": [
      "Searching al-mawsuah for \"أين تؤدى العمرة؟\"\n",
      "Searching quran for \"كيف يعامل الإسلام الأقليات الدينية؟\"\n",
      "Searching quran for \"هل انتشر الإسلام بالعنف والإكراه؟\"\n",
      "Searching quran for \"كيف تتعلق الشريعة بطقوس العبادة؟\"\n"
     ]
    },
    {
     "name": "stderr",
     "output_type": "stream",
     "text": [
      "Average Metric: 374 / 47  (795.7):  48%|████▊     | 47/98 [00:15<00:11,  4.47it/s]"
     ]
    },
    {
     "name": "stdout",
     "output_type": "stream",
     "text": [
      "Searching quran for \"لماذا يتم الاحتفال بشهر رمضان؟\"\n",
      "Searching hadith for \"ما هو الإسلام؟\"\n",
      "Searching hadith for \"من هو عيسى في الأحاديث؟\"\n",
      "Searching hadith for \"متى رمضان؟\"\n"
     ]
    },
    {
     "name": "stderr",
     "output_type": "stream",
     "text": [
      "Average Metric: 382 / 48  (795.8):  49%|████▉     | 48/98 [00:15<00:14,  3.48it/s]"
     ]
    },
    {
     "name": "stdout",
     "output_type": "stream",
     "text": [
      "Searching quran for \"من هو النبي إبراهيم؟\"\n",
      "Searching hadith for \"معاملة الإسلام للأقليات الدينية\"\n",
      "Searching hadith for \"كيف تتعلق الشريعة بطقوس العبادة؟\"\n",
      "Searching hadith for \"هل انتشر الإسلام بالعنف والإكراه؟\"\n",
      "Searching hadith for \"لماذا يتم الاحتفال بشهر رمضان؟\"\n",
      "Searching al-mawsuah for \"ما هو الإسلام؟\"\n",
      "Searching al-mawsuah for \"من هو عيسى في الفقه الإسلامي؟\"\n",
      "Searching al-mawsuah for \"متى رمضان؟\"\n",
      "Searching al-mawsuah for \"معاملة الأقليات الدينية في الفقه الإسلامي\"\n",
      "Searching al-mawsuah for \"كيف تتعلق الشريعة بطقوس العبادة؟\"\n",
      "Searching al-mawsuah for \"هل انتشر الإسلام بالعنف والإكراه؟\"\n",
      "Searching al-mawsuah for \"لماذا يتم الاحتفال بشهر رمضان؟\"\n",
      "Searching hadith for \"من هو النبي إبراهيم؟\"\n"
     ]
    },
    {
     "name": "stderr",
     "output_type": "stream",
     "text": [
      "Average Metric: 386 / 49  (787.8):  50%|█████     | 49/98 [00:16<00:22,  2.19it/s]"
     ]
    },
    {
     "name": "stdout",
     "output_type": "stream",
     "text": [
      "Searching quran for \"ما هو زكاة الفطر؟\"\n"
     ]
    },
    {
     "name": "stderr",
     "output_type": "stream",
     "text": [
      "Average Metric: 436 / 55  (792.7):  55%|█████▌    | 54/98 [00:17<00:22,  1.95it/s]"
     ]
    },
    {
     "name": "stdout",
     "output_type": "stream",
     "text": [
      "Searching quran for \"هل يسمح الإسلام بقتل المدنيين؟\"\n",
      "Searching quran for \"ما هو الفقه؟\"\n",
      "Searching al-mawsuah for \"من هو النبي إبراهيم؟\"\n",
      "Searching quran for \"كيف تتعلق الشريعة بالمجتمع؟\"\n",
      "Searching quran for \"ما هو القرآن؟\"\n",
      "Searching quran for \"أهمية الصدقة في رمضان\"\n",
      "Searching quran for \"القيود الغذائية في الإسلام\"\n",
      "Searching hadith for \"ما هو زكاة الفطر؟\"\n"
     ]
    },
    {
     "name": "stderr",
     "output_type": "stream",
     "text": [
      "Average Metric: 442 / 56  (789.3):  57%|█████▋    | 56/98 [00:18<00:11,  3.61it/s]"
     ]
    },
    {
     "name": "stdout",
     "output_type": "stream",
     "text": [
      "Searching hadith for \"هل يسمح الإسلام بقتل المدنيين؟\"\n",
      "Searching hadith for \"ما هو الفقه؟\"\n",
      "Searching hadith for \"كيف تتعلق الشريعة بالمجتمع؟\"\n",
      "Searching hadith for \"القيود الغذائية في الإسلام\"\n",
      "Searching hadith for \"ما هو القرآن؟\"\n",
      "Searching hadith for \"فضل الصدقة في رمضان\"\n",
      "Searching quran for \"من بنى الكعبة؟\"\n",
      "Searching al-mawsuah for \"ما هو زكاة الفطر؟\"\n",
      "Searching al-mawsuah for \"هل يسمح الإسلام بقتل المدنيين؟\"\n",
      "Searching al-mawsuah for \"ما هو القرآن؟\"\n",
      "Searching al-mawsuah for \"ما هو الفقه؟\"\n",
      "Searching al-mawsuah for \"كيف تتعلق الشريعة بالمجتمع؟\"\n",
      "Searching al-mawsuah for \"الصدقة في رمضان\"\n"
     ]
    },
    {
     "name": "stderr",
     "output_type": "stream",
     "text": [
      "Average Metric: 446 / 57  (782.5):  58%|█████▊    | 57/98 [00:19<00:14,  2.79it/s]"
     ]
    },
    {
     "name": "stdout",
     "output_type": "stream",
     "text": [
      "Searching hadith for \"من بنى الكعبة؟\"\n",
      "Searching al-mawsuah for \"القيود الغذائية في الإسلام\"\n",
      "Searching quran for \"من أين تأتي الشريعة؟\"\n"
     ]
    },
    {
     "name": "stderr",
     "output_type": "stream",
     "text": [
      "Average Metric: 462 / 59  (783.1):  60%|██████    | 59/98 [00:19<00:12,  3.01it/s]"
     ]
    },
    {
     "name": "stdout",
     "output_type": "stream",
     "text": [
      "Searching quran for \"كيف يغذي الإسلام رفاهنا العاطفي؟\"\n",
      "Searching quran for \"كيفية أداء العمرة\"\n",
      "Searching quran for \"آيات القرآن للتعامل مع الضيق والشدائد\"\n"
     ]
    },
    {
     "name": "stderr",
     "output_type": "stream",
     "text": [
      "Average Metric: 486 / 62  (783.9):  63%|██████▎   | 62/98 [00:20<00:07,  4.94it/s]"
     ]
    },
    {
     "name": "stdout",
     "output_type": "stream",
     "text": [
      "Searching quran for \"هل يقول القرآن بقتل غير المؤمنين؟\"\n",
      "Searching quran for \"هل التجديف يعاقب عليه بالإعدام؟\"\n",
      "Searching al-mawsuah for \"من بنى الكعبة؟\"\n"
     ]
    },
    {
     "name": "stderr",
     "output_type": "stream",
     "text": [
      "Average Metric: 496 / 63  (787.3):  63%|██████▎   | 62/98 [00:20<00:07,  4.94it/s]"
     ]
    },
    {
     "name": "stdout",
     "output_type": "stream",
     "text": [
      "Searching hadith for \"من أين تأتي الشريعة؟\"\n",
      "Searching quran for \"هل يسمح الإسلام بقتل المدنيين؟\"\n",
      "Searching hadith for \"كيف يغذي الإسلام رفاهنا العاطفي؟\"\n",
      "Searching hadith for \"كيفية أداء العمرة\"\n",
      "Searching hadith for \"أحاديث عن التعامل مع الضيق والشدائد\"\n",
      "Searching hadith for \"هل يوجد حديث يأمر بقتل غير المؤمنين؟\"\n",
      "Searching hadith for \"هل التجديف يعاقب عليه بالإعدام؟\"\n"
     ]
    },
    {
     "name": "stderr",
     "output_type": "stream",
     "text": [
      "Average Metric: 504 / 64  (787.5):  65%|██████▌   | 64/98 [00:20<00:09,  3.56it/s]"
     ]
    },
    {
     "name": "stdout",
     "output_type": "stream",
     "text": [
      "Searching quran for \"ما معنى الإسلام؟\"\n",
      "Searching hadith for \"هل يسمح الإسلام بقتل المدنيين؟\"\n",
      "Searching al-mawsuah for \"مصادر الشريعة الإسلامية\"\n",
      "Searching al-mawsuah for \"كيف يغذي الإسلام رفاهنا العاطفي؟\"\n",
      "Searching al-mawsuah for \"كيفية أداء العمرة\"\n",
      "Searching al-mawsuah for \"ما هو حكم قتل غير المؤمنين في الفقه الإسلامي؟\"\n",
      "Searching al-mawsuah for \"أحكام الفقه الإسلامي حول التعامل مع الضيق والشدائد\"\n"
     ]
    },
    {
     "name": "stderr",
     "output_type": "stream",
     "text": [
      "Average Metric: 514 / 65  (790.8):  66%|██████▋   | 65/98 [00:21<00:12,  2.62it/s]"
     ]
    },
    {
     "name": "stdout",
     "output_type": "stream",
     "text": [
      "Searching al-mawsuah for \"هل التجديف يعاقب عليه بالإعدام؟\"\n",
      "Searching al-mawsuah for \"هل يسمح الإسلام بقتل المدنيين؟\"\n",
      "Searching hadith for \"ما معنى الإسلام في الحديث؟\"\n",
      "Searching quran for \"ما هو عيد الفطر؟\"\n"
     ]
    },
    {
     "name": "stderr",
     "output_type": "stream",
     "text": [
      "Average Metric: 532 / 68  (782.4):  68%|██████▊   | 67/98 [00:22<00:09,  3.24it/s]"
     ]
    },
    {
     "name": "stdout",
     "output_type": "stream",
     "text": [
      "Searching quran for \"لماذا الحج مهم؟\"\n",
      "Searching quran for \"كيفية أداء الحج\"\n",
      "Searching quran for \"هل يقول القرآن بقتل غير المؤمنين؟\"\n"
     ]
    },
    {
     "name": "stderr",
     "output_type": "stream",
     "text": [
      "Average Metric: 552 / 71  (777.5):  71%|███████▏  | 70/98 [00:22<00:06,  4.44it/s]"
     ]
    },
    {
     "name": "stdout",
     "output_type": "stream",
     "text": [
      "Searching quran for \"هل هناك استثناءات أو إعفاءات من الصيام؟\"\n",
      "Searching quran for \"ما هي العمرة؟\"\n",
      "Searching quran for \"هل انتشر الإسلام بالعنف والإكراه؟\"\n",
      "Searching hadith for \"ما هو عيد الفطر؟\"\n",
      "Searching al-mawsuah for \"ما هو تعريف الإسلام في الفقه الإسلامي؟\"\n",
      "Searching hadith for \"أهمية الحج في الأحاديث\"\n",
      "Searching hadith for \"هل يوجد حديث يأمر بقتل غير المؤمنين؟\"\n",
      "Searching hadith for \"كيفية أداء الحج\"\n",
      "Searching hadith for \"هل انتشر الإسلام بالعنف والإكراه؟\"\n",
      "Searching hadith for \"هل هناك استثناءات أو إعفاءات من الصيام؟\"\n",
      "Searching hadith for \"ما هي العمرة؟\"\n",
      "Searching al-mawsuah for \"ما هو عيد الفطر؟\"\n"
     ]
    },
    {
     "name": "stderr",
     "output_type": "stream",
     "text": [
      "Average Metric: 560 / 72  (777.8):  73%|███████▎  | 72/98 [00:23<00:07,  3.31it/s]"
     ]
    },
    {
     "name": "stdout",
     "output_type": "stream",
     "text": [
      "Searching quran for \"هل العمرة والحج نفس الشيء؟\"\n",
      "Searching al-mawsuah for \"أهمية الحج في الفقه الإسلامي\"\n",
      "Searching al-mawsuah for \"ما هو حكم قتل غير المؤمنين في الفقه الإسلامي؟\"\n",
      "Searching al-mawsuah for \"كيفية أداء الحج\"\n",
      "Searching al-mawsuah for \"هل انتشر الإسلام بالعنف والإكراه؟\"\n",
      "Searching al-mawsuah for \"ما هي العمرة؟\"\n"
     ]
    },
    {
     "name": "stderr",
     "output_type": "stream",
     "text": [
      "Average Metric: 566 / 73  (775.3):  74%|███████▍  | 73/98 [00:24<00:09,  2.68it/s]"
     ]
    },
    {
     "name": "stdout",
     "output_type": "stream",
     "text": [
      "Searching al-mawsuah for \"هل هناك استثناءات أو إعفاءات من الصيام؟\"\n",
      "Searching quran for \"ماذا يؤمن المسلمون؟\"\n",
      "Searching hadith for \"هل العمرة والحج نفس الشيء؟\"\n"
     ]
    },
    {
     "name": "stderr",
     "output_type": "stream",
     "text": [
      "Average Metric: 582 / 76  (765.8):  77%|███████▋  | 75/98 [00:24<00:07,  2.90it/s]"
     ]
    },
    {
     "name": "stdout",
     "output_type": "stream",
     "text": [
      "Searching quran for \"هل الشريعة موحدة وغير متغيرة؟\"\n",
      "Searching quran for \"ما هي الصدقة؟\"\n",
      "Searching quran for \"صلاة التراويح\"\n"
     ]
    },
    {
     "name": "stderr",
     "output_type": "stream",
     "text": [
      "Average Metric: 600 / 78  (769.2):  80%|███████▉  | 78/98 [00:24<00:04,  4.68it/s]"
     ]
    },
    {
     "name": "stdout",
     "output_type": "stream",
     "text": [
      "Searching quran for \"ما هو التوحيد؟\"\n",
      "Searching quran for \"ما معنى الجهاد؟\"\n"
     ]
    },
    {
     "name": "stderr",
     "output_type": "stream",
     "text": [
      "Average Metric: 612 / 79  (774.7):  81%|████████  | 79/98 [00:25<00:03,  4.93it/s]"
     ]
    },
    {
     "name": "stdout",
     "output_type": "stream",
     "text": [
      "Searching al-mawsuah for \"هل العمرة والحج نفس الشيء؟\"\n",
      "Searching hadith for \"ماذا يؤمن المسلمون؟\"\n",
      "Searching quran for \"كيف يتناول الإسلام القدر والإرادة الحرة؟\"\n",
      "Searching hadith for \"هل الشريعة موحدة وغير متغيرة؟\"\n",
      "Searching hadith for \"ما هي الصدقة؟\"\n",
      "Searching hadith for \"صلاة التراويح\"\n"
     ]
    },
    {
     "name": "stderr",
     "output_type": "stream",
     "text": [
      "Average Metric: 620 / 80  (775.0):  82%|████████▏ | 80/98 [00:25<00:05,  3.02it/s]"
     ]
    },
    {
     "name": "stdout",
     "output_type": "stream",
     "text": [
      "Searching hadith for \"ما هو التوحيد؟\"\n",
      "Searching hadith for \"ما معنى الجهاد؟\"\n",
      "Searching quran for \"الطلاق في الإسلام\"\n",
      "Searching al-mawsuah for \"ماذا يؤمن المسلمون؟\"\n",
      "Searching hadith for \"كيف يتناول الإسلام القدر والإرادة الحرة؟\"\n",
      "Searching al-mawsuah for \"ما هي الصدقة؟\"\n",
      "Searching al-mawsuah for \"صلاة التراويح\"\n",
      "Searching al-mawsuah for \"هل الشريعة موحدة وغير متغيرة؟\"\n"
     ]
    },
    {
     "name": "stderr",
     "output_type": "stream",
     "text": [
      "Average Metric: 628 / 81  (775.3):  83%|████████▎ | 81/98 [00:26<00:07,  2.30it/s]"
     ]
    },
    {
     "name": "stdout",
     "output_type": "stream",
     "text": [
      "Searching al-mawsuah for \"ما معنى الجهاد؟\"\n",
      "Searching al-mawsuah for \"ما هو التوحيد؟\"\n",
      "Searching quran for \"ما هي الأعياد التي يحتفل بها المسلمون؟\"\n",
      "Searching hadith for \"حديث عن الطلاق\"\n",
      "Searching al-mawsuah for \"كيف يتناول الإسلام القدر والإرادة الحرة؟\"\n"
     ]
    },
    {
     "name": "stderr",
     "output_type": "stream",
     "text": [
      "Average Metric: 644 / 84  (766.7):  85%|████████▍ | 83/98 [00:27<00:06,  2.42it/s]"
     ]
    },
    {
     "name": "stdout",
     "output_type": "stream",
     "text": [
      "Searching quran for \"كيف نعرف أن الله موجود؟\"\n",
      "Searching quran for \"هل الوسواس القهري نتيجة وساوس الشيطان؟\"\n",
      "Searching quran for \"تاريخ الشريعة\"\n"
     ]
    },
    {
     "name": "stderr",
     "output_type": "stream",
     "text": [
      "Average Metric: 658 / 86  (765.1):  87%|████████▋ | 85/98 [00:27<00:03,  4.17it/s]"
     ]
    },
    {
     "name": "stdout",
     "output_type": "stream",
     "text": [
      "Searching quran for \"هل يسمح الإسلام بالحرب الوقائية؟\"\n",
      "Searching quran for \"الوحي في الإسلام\"\n"
     ]
    },
    {
     "name": "stderr",
     "output_type": "stream",
     "text": [
      "Average Metric: 662 / 87  (760.9):  89%|████████▉ | 87/98 [00:27<00:02,  4.91it/s]"
     ]
    },
    {
     "name": "stdout",
     "output_type": "stream",
     "text": [
      "Searching al-mawsuah for \"الطلاق في الفقه الإسلامي\"\n",
      "Searching hadith for \"ما هي الأعياد التي يحتفل بها المسلمون؟\"\n",
      "Searching quran for \"هل الإسلام يشجع على العنف؟\"\n",
      "Searching hadith for \"هل الوسواس القهري نتيجة وساوس الشيطان؟\"\n",
      "Searching hadith for \"تاريخ الشريعة\"\n",
      "Searching hadith for \"كيف نعرف أن الله موجود؟\"\n",
      "Searching hadith for \"هل يسمح الإسلام بالحرب الوقائية؟\"\n",
      "Searching hadith for \"الوحي في الإسلام\"\n"
     ]
    },
    {
     "name": "stderr",
     "output_type": "stream",
     "text": [
      "Average Metric: 670 / 88  (761.4):  90%|████████▉ | 88/98 [00:28<00:03,  2.95it/s]"
     ]
    },
    {
     "name": "stdout",
     "output_type": "stream",
     "text": [
      "Searching al-mawsuah for \"ما هي الأعياد التي يحتفل بها المسلمون؟\"\n",
      "Searching hadith for \"هل الإسلام يشجع على العنف؟\"\n",
      "Searching quran for \"ما هي أهمية الحج؟\"\n",
      "Searching al-mawsuah for \"تاريخ الشريعة\"\n",
      "Searching al-mawsuah for \"هل الوسواس القهري نتيجة وساوس الشيطان؟\"\n",
      "Searching al-mawsuah for \"كيف نعرف أن الله موجود؟\"\n",
      "Searching al-mawsuah for \"الوحي في الإسلام\"\n",
      "Searching al-mawsuah for \"هل يسمح الإسلام بالحرب الوقائية؟\"\n",
      "Searching al-mawsuah for \"هل الإسلام يشجع على العنف؟\"\n"
     ]
    },
    {
     "name": "stderr",
     "output_type": "stream",
     "text": [
      "Average Metric: 686 / 90  (762.2):  91%|█████████ | 89/98 [00:29<00:03,  2.39it/s]"
     ]
    },
    {
     "name": "stdout",
     "output_type": "stream",
     "text": [
      "Searching quran for \"لماذا يطلب الله من الناس عبادته؟\"\n",
      "Searching hadith for \"ما هي أهمية الحج؟\"\n",
      "Searching quran for \"هل يؤمن المسلمون بصلب عيسى؟\"\n"
     ]
    },
    {
     "name": "stderr",
     "output_type": "stream",
     "text": [
      "Average Metric: 724 / 95  (762.1):  97%|█████████▋| 95/98 [00:29<00:00,  5.59it/s]"
     ]
    },
    {
     "name": "stdout",
     "output_type": "stream",
     "text": [
      "Searching hadith for \"لماذا يطلب الله من الناس عبادته؟\"\n",
      "Searching hadith for \"هل ورد في الأحاديث أن المسلمين يؤمنون بصلب عيسى؟\"\n",
      "Searching al-mawsuah for \"ما هي أهمية الحج؟\"\n"
     ]
    },
    {
     "name": "stderr",
     "output_type": "stream",
     "text": [
      "Average Metric: 734 / 96  (764.6):  98%|█████████▊| 96/98 [00:30<00:00,  2.66it/s]"
     ]
    },
    {
     "name": "stdout",
     "output_type": "stream",
     "text": [
      "Searching al-mawsuah for \"لماذا يطلب الله من الناس عبادته؟\"\n",
      "Searching al-mawsuah for \"موقف الفقه الإسلامي من صلب عيسى\"\n"
     ]
    },
    {
     "name": "stderr",
     "output_type": "stream",
     "text": [
      "Average Metric: 748 / 98  (763.3): 100%|██████████| 98/98 [00:31<00:00,  3.08it/s]\n"
     ]
    },
    {
     "name": "stdout",
     "output_type": "stream",
     "text": [
      "Searching quran for \"أين الكعبة؟\"\n",
      "Searching quran for \"من يجب عليه أداء الحج؟\"\n",
      "Searching quran for \"هل يسمح الإسلام بجرائم الشرف؟\"\n",
      "Searching quran for \"هل يصوم المسلمون خارج رمضان؟\"\n",
      "Searching quran for \"هل يقدم القرآن توجيهات حول كيفية التعامل مع الصدمة والألم؟\"\n",
      "Searching quran for \"ما معنى حلال؟\"\n",
      "Searching quran for \"ما هي الفتوى؟\"\n",
      "Searching quran for \"هل الردة يعاقب عليها بالإعدام في الإسلام؟\"\n"
     ]
    },
    {
     "name": "stderr",
     "output_type": "stream",
     "text": [
      "  0%|          | 0/98 [00:00<?, ?it/s]"
     ]
    },
    {
     "name": "stdout",
     "output_type": "stream",
     "text": [
      "Searching hadith for \"أين الكعبة؟\"\n",
      "Searching hadith for \"هل توجد أحاديث تتعلق بجرائم الشرف؟\"\n",
      "Searching hadith for \"هل تقدم السنة النبوية توجيهات حول كيفية التعامل مع الصدمة والألم؟\"\n",
      "Searching hadith for \"ما معنى حلال؟\"\n",
      "Searching hadith for \"من يجب عليه أداء الحج؟\"\n",
      "Searching hadith for \"ما هي الفتوى؟\"\n",
      "Searching hadith for \"هل يعاقب المرتد بالإعدام في الإسلام؟\"\n",
      "Searching hadith for \"هل يصوم المسلمون خارج رمضان؟\"\n",
      "Searching al-mawsuah for \"ما هو حكم الفقه الإسلامي في جرائم الشرف؟\"\n",
      "Searching al-mawsuah for \"من يجب عليه أداء الحج؟\"\n",
      "Searching al-mawsuah for \"أين الكعبة؟\"\n",
      "Searching al-mawsuah for \"ما معنى حلال؟\"\n",
      "Searching al-mawsuah for \"كيفية التعامل مع الصدمة والألم في الفقه الإسلامي\"\n",
      "Searching al-mawsuah for \"ما هي الفتوى؟\"\n",
      "Searching al-mawsuah for \"حكم الردة في الفقه الإسلامي\"\n",
      "Searching al-mawsuah for \"هل يصوم المسلمون خارج رمضان؟\"\n"
     ]
    },
    {
     "name": "stderr",
     "output_type": "stream",
     "text": [
      "Average Metric: 54 / 7  (771.4):   6%|▌         | 6/98 [00:02<00:34,  2.65it/s]"
     ]
    },
    {
     "name": "stdout",
     "output_type": "stream",
     "text": [
      "Searching quran for \"ما هو رمضان؟\"\n",
      "Searching quran for \"هل الإسلام يشجع على العنف؟\"\n",
      "Searching quran for \"هل يسمح الإسلام بالحرب الوقائية؟\"\n",
      "Searching quran for \"أهمية ليلة القدر\"\n",
      "Searching quran for \"كيف يصف القرآن السعادة؟ كيف يمكن تحقيقها في الإسلام؟\"\n",
      "Searching quran for \"هل يوفر الإسلام إرشادات حول كيفية التعامل مع الأمراض النفسية؟\"\n",
      "Searching quran for \"ما هو رمضان؟\"\n"
     ]
    },
    {
     "name": "stderr",
     "output_type": "stream",
     "text": [
      "Average Metric: 64 / 8  (800.0):   8%|▊         | 8/98 [00:02<00:20,  4.46it/s]"
     ]
    },
    {
     "name": "stdout",
     "output_type": "stream",
     "text": [
      "Searching quran for \"لماذا يصلي المسلمون يوميا؟\"\n",
      "Searching hadith for \"ما هو رمضان؟\"\n",
      "Searching hadith for \"هل الإسلام يشجع على العنف؟\"\n",
      "Searching hadith for \"هل يسمح الإسلام بالحرب الوقائية؟\"\n",
      "Searching hadith for \"فضل ليلة القدر\"\n",
      "Searching hadith for \"هل هناك أحاديث تتحدث عن كيفية التعامل مع الأمراض النفسية؟\"\n",
      "Searching hadith for \"ما هو رمضان؟\"\n",
      "Searching hadith for \"كيف يصف الحديث السعادة؟ كيف يمكن تحقيقها في الإسلام؟\"\n",
      "Searching hadith for \"لماذا يصلي المسلمون يوميا؟\"\n",
      "Searching al-mawsuah for \"ما هو رمضان؟\"\n",
      "Searching al-mawsuah for \"هل الإسلام يشجع على العنف؟\"\n",
      "Searching al-mawsuah for \"ما هو رمضان؟\"\n",
      "Searching al-mawsuah for \"أهمية ليلة القدر في الفقه الإسلامي\"\n",
      "Searching al-mawsuah for \"هل يسمح الإسلام بالحرب الوقائية؟\"\n",
      "Searching al-mawsuah for \"إرشادات الفقه الإسلامي حول التعامل مع الأمراض النفسية\"\n",
      "Searching al-mawsuah for \"السعادة في الفقه الإسلامي وكيفية تحقيقها\"\n",
      "Searching al-mawsuah for \"لماذا يصلي المسلمون يوميا؟\"\n"
     ]
    },
    {
     "name": "stderr",
     "output_type": "stream",
     "text": [
      "Average Metric: 94 / 13  (723.1):  12%|█▏        | 12/98 [00:04<00:41,  2.06it/s]"
     ]
    },
    {
     "name": "stdout",
     "output_type": "stream",
     "text": [
      "Searching quran for \"كيف تصوم رمضان؟\"\n",
      "Searching quran for \"كيف نعلم أن القرآن وحي إلهي؟\"\n",
      "Searching quran for \"من يجب عليه الصيام في رمضان؟\"\n",
      "Searching quran for \"هل التجديف يعاقب عليه بالإعدام؟\"\n",
      "Searching quran for \"ما هو الغرض من الصيام في رمضان؟\"\n"
     ]
    },
    {
     "name": "stderr",
     "output_type": "stream",
     "text": [
      "Average Metric: 114 / 16  (712.5):  16%|█▋        | 16/98 [00:05<00:18,  4.50it/s]"
     ]
    },
    {
     "name": "stdout",
     "output_type": "stream",
     "text": [
      "Searching quran for \"ماذا يقدم الإسلام للناس؟\"\n",
      "Searching quran for \"مدة الصيام في رمضان\"\n",
      "Searching quran for \"كيف يُساء تفسير الجهاد كإرهاب؟\"\n",
      "Searching hadith for \"كيف تصوم رمضان؟\"\n",
      "Searching hadith for \"كيف نعلم أن القرآن وحي إلهي؟\"\n",
      "Searching hadith for \"هل التجديف يعاقب عليه بالإعدام؟\"\n",
      "Searching hadith for \"من يجب عليه الصيام في رمضان؟\"\n",
      "Searching hadith for \"ما هو الغرض من الصيام في رمضان؟\"\n",
      "Searching hadith for \"ماذا يقدم الإسلام للناس؟\"\n",
      "Searching hadith for \"مدة الصيام في رمضان\"\n",
      "Searching hadith for \"كيف يُساء تفسير الجهاد كإرهاب؟\"\n",
      "Searching al-mawsuah for \"كيف تصوم رمضان؟\"\n",
      "Searching al-mawsuah for \"كيف نعلم أن القرآن وحي إلهي؟\"\n",
      "Searching al-mawsuah for \"ما هو الغرض من الصيام في رمضان؟\"\n",
      "Searching al-mawsuah for \"من يجب عليه الصيام في رمضان؟\"\n",
      "Searching al-mawsuah for \"هل التجديف يعاقب عليه بالإعدام؟\"\n",
      "Searching al-mawsuah for \"مدة الصيام في رمضان\"\n",
      "Searching al-mawsuah for \"كيف يُساء تفسير الجهاد كإرهاب؟\"\n",
      "Searching al-mawsuah for \"ماذا يقدم الإسلام للناس؟\"\n"
     ]
    },
    {
     "name": "stderr",
     "output_type": "stream",
     "text": [
      "Average Metric: 122 / 17  (717.6):  16%|█▋        | 16/98 [00:06<00:18,  4.50it/s]"
     ]
    },
    {
     "name": "stdout",
     "output_type": "stream",
     "text": [
      "Searching quran for \"كيف يُساء تفسير الجهاد كإرهاب؟\"\n"
     ]
    },
    {
     "name": "stderr",
     "output_type": "stream",
     "text": [
      "Average Metric: 156 / 21  (742.9):  20%|██        | 20/98 [00:07<00:26,  2.92it/s]"
     ]
    },
    {
     "name": "stdout",
     "output_type": "stream",
     "text": [
      "Searching quran for \"أركان الإسلام الخمسة\"\n",
      "Searching quran for \"كيف يعامل الإسلام الأقليات الدينية؟\"\n",
      "Searching quran for \"ليلة القدر\"\n",
      "Searching quran for \"من هو الله\"\n",
      "Searching quran for \"هل يؤمن المسلمون بالروح القدس؟\"\n",
      "Searching quran for \"هل يؤمن المسلمون بالجنة والنار؟\"\n"
     ]
    },
    {
     "name": "stderr",
     "output_type": "stream",
     "text": [
      "Average Metric: 182 / 24  (758.3):  24%|██▍       | 24/98 [00:07<00:15,  4.86it/s]"
     ]
    },
    {
     "name": "stdout",
     "output_type": "stream",
     "text": [
      "Searching quran for \"ما معنى الجهاد؟\"\n",
      "Searching hadith for \"كيف يُساء تفسير الجهاد كإرهاب؟\"\n",
      "Searching hadith for \"أركان الإسلام الخمسة\"\n",
      "Searching hadith for \"معاملة الإسلام للأقليات الدينية\"\n",
      "Searching hadith for \"هل ذكر الروح القدس في الأحاديث؟\"\n",
      "Searching hadith for \"ما هي ليلة القدر\"\n",
      "Searching hadith for \"هل ذكر النبي الجنة والنار؟\"\n",
      "Searching hadith for \"من هو الله\"\n",
      "Searching hadith for \"ما معنى الجهاد؟\"\n",
      "Searching al-mawsuah for \"كيف يُساء تفسير الجهاد كإرهاب؟\"\n",
      "Searching al-mawsuah for \"أركان الإسلام الخمسة\"\n",
      "Searching al-mawsuah for \"معاملة الأقليات الدينية في الفقه الإسلامي\"\n",
      "Searching al-mawsuah for \"ليلة القدر في الفقه الإسلامي\"\n",
      "Searching al-mawsuah for \"الإيمان بالروح القدس في الفقه الإسلامي\"\n",
      "Searching al-mawsuah for \"ما معنى الجهاد؟\"\n",
      "Searching al-mawsuah for \"الإيمان بالجنة والنار في الفقه الإسلامي\"\n",
      "Searching al-mawsuah for \"من هو الله\"\n"
     ]
    },
    {
     "name": "stderr",
     "output_type": "stream",
     "text": [
      "Average Metric: 192 / 25  (768.0):  24%|██▍       | 24/98 [00:09<00:15,  4.86it/s]"
     ]
    },
    {
     "name": "stdout",
     "output_type": "stream",
     "text": [
      "Searching quran for \"أين يحدث الحج؟\"\n"
     ]
    },
    {
     "name": "stderr",
     "output_type": "stream",
     "text": [
      "Average Metric: 208 / 27  (770.4):  27%|██▋       | 26/98 [00:09<00:28,  2.51it/s]"
     ]
    },
    {
     "name": "stdout",
     "output_type": "stream",
     "text": [
      "Searching quran for \"أحكام الحرب في الإسلام\"\n",
      "Searching quran for \"متى ليلة القدر؟\"\n"
     ]
    },
    {
     "name": "stderr",
     "output_type": "stream",
     "text": [
      "Average Metric: 250 / 32  (781.2):  33%|███▎      | 32/98 [00:10<00:14,  4.54it/s]"
     ]
    },
    {
     "name": "stdout",
     "output_type": "stream",
     "text": [
      "Searching quran for \"لماذا الكعبة مهمة؟\"\n",
      "Searching quran for \"كم مرة يصلي المسلمون خلال رمضان؟\"\n",
      "Searching quran for \"لماذا يجب على المسلمين الصيام لمدة شهر كامل؟\"\n",
      "Searching quran for \"كيف يمكن فهم والتعامل مع الحزن والأسى في الإسلام؟\"\n",
      "Searching quran for \"كيف يمكن للمرء أن يطهر قلبه وروحه؟\"\n",
      "Searching hadith for \"أين يحدث الحج؟\"\n",
      "Searching hadith for \"أحاديث عن أحكام الحرب في الإسلام\"\n",
      "Searching hadith for \"متى ليلة القدر؟\"\n",
      "Searching hadith for \"لماذا الكعبة مهمة؟\"\n",
      "Searching hadith for \"كم مرة يصلي المسلمون خلال رمضان؟\"\n",
      "Searching hadith for \"لماذا يجب على المسلمين الصيام لمدة شهر كامل؟\"\n",
      "Searching hadith for \"كيف يمكن فهم والتعامل مع الحزن والأسى في الإسلام؟\"\n",
      "Searching hadith for \"كيف يمكن للمرء أن يطهر قلبه وروحه؟\"\n",
      "Searching al-mawsuah for \"أين يحدث الحج؟\"\n",
      "Searching al-mawsuah for \"متى ليلة القدر؟\"\n",
      "Searching al-mawsuah for \"أحكام الحرب في الفقه الإسلامي\"\n"
     ]
    },
    {
     "name": "stderr",
     "output_type": "stream",
     "text": [
      "Average Metric: 262 / 33  (793.9):  33%|███▎      | 32/98 [00:11<00:14,  4.54it/s]"
     ]
    },
    {
     "name": "stdout",
     "output_type": "stream",
     "text": [
      "Searching al-mawsuah for \"لماذا يجب على المسلمين الصيام لمدة شهر كامل؟\"\n",
      "Searching al-mawsuah for \"أهمية الكعبة في الفقه الإسلامي\"\n",
      "Searching al-mawsuah for \"كم مرة يصلي المسلمون خلال رمضان؟\"\n",
      "Searching al-mawsuah for \"كيف يمكن فهم والتعامل مع الحزن والأسى في الإسلام؟\"\n",
      "Searching al-mawsuah for \"كيف يمكن للمرء أن يطهر قلبه وروحه؟\"\n",
      "Searching quran for \"ما هي الكعبة؟\"\n"
     ]
    },
    {
     "name": "stderr",
     "output_type": "stream",
     "text": [
      "Average Metric: 282 / 35  (805.7):  36%|███▌      | 35/98 [00:12<00:22,  2.80it/s]"
     ]
    },
    {
     "name": "stdout",
     "output_type": "stream",
     "text": [
      "Searching quran for \"من هو النبي محمد؟\"\n",
      "Searching quran for \"ما هي التزكية؟\"\n"
     ]
    },
    {
     "name": "stderr",
     "output_type": "stream",
     "text": [
      "Average Metric: 298 / 37  (805.4):  38%|███▊      | 37/98 [00:12<00:16,  3.71it/s]"
     ]
    },
    {
     "name": "stdout",
     "output_type": "stream",
     "text": [
      "Searching quran for \"أحكام الحرب في الإسلام\"\n",
      "Searching quran for \"ما الذي يعلمه الإسلام عن إدارة القلق والاكتئاب والشك الذاتي؟\"\n"
     ]
    },
    {
     "name": "stderr",
     "output_type": "stream",
     "text": [
      "Average Metric: 320 / 40  (800.0):  40%|███▉      | 39/98 [00:12<00:13,  4.47it/s]"
     ]
    },
    {
     "name": "stdout",
     "output_type": "stream",
     "text": [
      "Searching quran for \"كيف تكون الروحانية الإسلامية فريدة؟\"Searching quran for \"أين تؤدى العمرة؟\"\n",
      "Searching quran for \"كيف يفهم الإسلام الروح\"\n",
      "\n",
      "Searching hadith for \"ما هي الكعبة؟\"\n",
      "Searching hadith for \"من هو النبي محمد؟\"\n",
      "Searching hadith for \"ما هي التزكية؟\"\n",
      "Searching hadith for \"أحاديث عن أحكام الحرب في الإسلام\"\n",
      "Searching hadith for \"ما الذي يعلمه الإسلام عن إدارة القلق والاكتئاب والشك الذاتي؟\"\n",
      "Searching hadith for \"كيف تكون الروحانية الإسلامية فريدة؟\"\n",
      "Searching hadith for \"فهم الروح في الإسلام\"\n",
      "Searching al-mawsuah for \"ما هي الكعبة؟\"\n",
      "Searching hadith for \"أين تؤدى العمرة؟\"\n",
      "Searching al-mawsuah for \"من هو النبي محمد؟\"\n",
      "Searching al-mawsuah for \"ما هي التزكية؟\"\n",
      "Searching al-mawsuah for \"أحكام الحرب في الفقه الإسلامي\"Searching al-mawsuah for \"ما الذي يعلمه الإسلام عن إدارة القلق والاكتئاب والشك الذاتي؟\"\n",
      "\n",
      "Searching al-mawsuah for \"كيف تكون الروحانية الإسلامية فريدة؟\"\n"
     ]
    },
    {
     "name": "stderr",
     "output_type": "stream",
     "text": [
      "Average Metric: 326 / 41  (795.1):  42%|████▏     | 41/98 [00:14<00:23,  2.39it/s]"
     ]
    },
    {
     "name": "stdout",
     "output_type": "stream",
     "text": [
      "Searching al-mawsuah for \"الروح في الفقه الإسلامي\"\n",
      "Searching quran for \"من هو عيسى في الإسلام؟\"\n"
     ]
    },
    {
     "name": "stderr",
     "output_type": "stream",
     "text": [
      "Average Metric: 342 / 43  (795.3):  43%|████▎     | 42/98 [00:14<00:22,  2.48it/s]"
     ]
    },
    {
     "name": "stdout",
     "output_type": "stream",
     "text": [
      "Searching quran for \"ما هو الإسلام؟\"\n",
      "Searching quran for \"متى رمضان؟\"\n"
     ]
    },
    {
     "name": "stderr",
     "output_type": "stream",
     "text": [
      "Average Metric: 364 / 46  (791.3):  47%|████▋     | 46/98 [00:14<00:11,  4.41it/s]"
     ]
    },
    {
     "name": "stdout",
     "output_type": "stream",
     "text": [
      "Searching quran for \"كيف يعامل الإسلام الأقليات الدينية؟\"\n",
      "Searching quran for \"كيف تتعلق الشريعة بطقوس العبادة؟\"\n",
      "Searching quran for \"هل انتشر الإسلام بالعنف والإكراه؟\"\n",
      "Searching al-mawsuah for \"أين تؤدى العمرة؟\"\n"
     ]
    },
    {
     "name": "stderr",
     "output_type": "stream",
     "text": [
      "Average Metric: 374 / 47  (795.7):  47%|████▋     | 46/98 [00:15<00:11,  4.41it/s]"
     ]
    },
    {
     "name": "stdout",
     "output_type": "stream",
     "text": [
      "Searching quran for \"لماذا يتم الاحتفال بشهر رمضان؟\"\n",
      "Searching hadith for \"من هو عيسى في الأحاديث؟\"\n",
      "Searching hadith for \"متى رمضان؟\"\n",
      "Searching hadith for \"ما هو الإسلام؟\"\n"
     ]
    },
    {
     "name": "stderr",
     "output_type": "stream",
     "text": [
      "Average Metric: 382 / 48  (795.8):  49%|████▉     | 48/98 [00:15<00:14,  3.57it/s]"
     ]
    },
    {
     "name": "stdout",
     "output_type": "stream",
     "text": [
      "Searching hadith for \"معاملة الإسلام للأقليات الدينية\"\n",
      "Searching hadith for \"كيف تتعلق الشريعة بطقوس العبادة؟\"\n",
      "Searching quran for \"من هو النبي إبراهيم؟\"\n",
      "Searching hadith for \"هل انتشر الإسلام بالعنف والإكراه؟\"\n",
      "Searching hadith for \"لماذا يتم الاحتفال بشهر رمضان؟\"\n",
      "Searching al-mawsuah for \"من هو عيسى في الفقه الإسلامي؟\"\n",
      "Searching al-mawsuah for \"ما هو الإسلام؟\"\n",
      "Searching al-mawsuah for \"متى رمضان؟\"\n",
      "Searching al-mawsuah for \"معاملة الأقليات الدينية في الفقه الإسلامي\"\n",
      "Searching al-mawsuah for \"كيف تتعلق الشريعة بطقوس العبادة؟\"\n",
      "Searching al-mawsuah for \"هل انتشر الإسلام بالعنف والإكراه؟\"\n",
      "Searching hadith for \"من هو النبي إبراهيم؟\"\n",
      "Searching al-mawsuah for \"لماذا يتم الاحتفال بشهر رمضان؟\"\n"
     ]
    },
    {
     "name": "stderr",
     "output_type": "stream",
     "text": [
      "Average Metric: 418 / 53  (788.7):  53%|█████▎    | 52/98 [00:17<00:12,  3.56it/s]"
     ]
    },
    {
     "name": "stdout",
     "output_type": "stream",
     "text": [
      "Searching quran for \"ما هو زكاة الفطر؟\"\n",
      "Searching quran for \"هل يسمح الإسلام بقتل المدنيين؟\"\n",
      "Searching quran for \"ما هو الفقه؟\"\n",
      "Searching quran for \"كيف تتعلق الشريعة بالمجتمع؟\"\n",
      "Searching quran for \"أهمية الصدقة في رمضان\"\n"
     ]
    },
    {
     "name": "stderr",
     "output_type": "stream",
     "text": [
      "Average Metric: 428 / 54  (792.6):  55%|█████▌    | 54/98 [00:17<00:09,  4.58it/s]"
     ]
    },
    {
     "name": "stdout",
     "output_type": "stream",
     "text": [
      "Searching quran for \"القيود الغذائية في الإسلام\"\n"
     ]
    },
    {
     "name": "stderr",
     "output_type": "stream",
     "text": [
      "Average Metric: 436 / 55  (792.7):  55%|█████▌    | 54/98 [00:17<00:09,  4.58it/s]"
     ]
    },
    {
     "name": "stdout",
     "output_type": "stream",
     "text": [
      "Searching al-mawsuah for \"من هو النبي إبراهيم؟\"\n",
      "Searching quran for \"ما هو القرآن؟\"\n",
      "Searching hadith for \"هل يسمح الإسلام بقتل المدنيين؟\"\n",
      "Searching hadith for \"ما هو الفقه؟\"\n",
      "Searching hadith for \"ما هو زكاة الفطر؟\"\n",
      "Searching hadith for \"كيف تتعلق الشريعة بالمجتمع؟\"\n",
      "Searching hadith for \"فضل الصدقة في رمضان\"\n",
      "Searching hadith for \"القيود الغذائية في الإسلام\"\n"
     ]
    },
    {
     "name": "stderr",
     "output_type": "stream",
     "text": [
      "Average Metric: 442 / 56  (789.3):  57%|█████▋    | 56/98 [00:18<00:13,  3.09it/s]"
     ]
    },
    {
     "name": "stdout",
     "output_type": "stream",
     "text": [
      "Searching hadith for \"ما هو القرآن؟\"\n",
      "Searching quran for \"من بنى الكعبة؟\"\n",
      "Searching al-mawsuah for \"هل يسمح الإسلام بقتل المدنيين؟\"\n",
      "Searching al-mawsuah for \"ما هو زكاة الفطر؟\"\n",
      "Searching al-mawsuah for \"ما هو الفقه؟\"\n",
      "Searching al-mawsuah for \"الصدقة في رمضان\"\n",
      "Searching al-mawsuah for \"كيف تتعلق الشريعة بالمجتمع؟\"\n",
      "Searching al-mawsuah for \"القيود الغذائية في الإسلام\"\n",
      "Searching al-mawsuah for \"ما هو القرآن؟\"\n",
      "Searching hadith for \"من بنى الكعبة؟\"\n"
     ]
    },
    {
     "name": "stderr",
     "output_type": "stream",
     "text": [
      "Average Metric: 476 / 61  (780.3):  61%|██████    | 60/98 [00:19<00:11,  3.24it/s]"
     ]
    },
    {
     "name": "stdout",
     "output_type": "stream",
     "text": [
      "Searching quran for \"من أين تأتي الشريعة؟\"\n",
      "Searching quran for \"كيف يغذي الإسلام رفاهنا العاطفي؟\"\n",
      "Searching quran for \"كيفية أداء العمرة\"\n",
      "Searching quran for \"آيات القرآن للتعامل مع الضيق والشدائد\"\n",
      "Searching quran for \"هل يقول القرآن بقتل غير المؤمنين؟\"\n"
     ]
    },
    {
     "name": "stderr",
     "output_type": "stream",
     "text": [
      "Average Metric: 496 / 63  (787.3):  63%|██████▎   | 62/98 [00:19<00:08,  4.14it/s]"
     ]
    },
    {
     "name": "stdout",
     "output_type": "stream",
     "text": [
      "Searching quran for \"هل التجديف يعاقب عليه بالإعدام؟\"\n",
      "Searching quran for \"هل يسمح الإسلام بقتل المدنيين؟\"\n",
      "Searching al-mawsuah for \"من بنى الكعبة؟\"\n",
      "Searching hadith for \"كيف يغذي الإسلام رفاهنا العاطفي؟\"\n",
      "Searching hadith for \"من أين تأتي الشريعة؟\"\n",
      "Searching hadith for \"كيفية أداء العمرة\"\n",
      "Searching hadith for \"أحاديث عن التعامل مع الضيق والشدائد\"\n",
      "Searching hadith for \"هل يوجد حديث يأمر بقتل غير المؤمنين؟\"\n",
      "Searching hadith for \"هل التجديف يعاقب عليه بالإعدام؟\"\n",
      "Searching hadith for \"هل يسمح الإسلام بقتل المدنيين؟\"\n"
     ]
    },
    {
     "name": "stderr",
     "output_type": "stream",
     "text": [
      "Average Metric: 504 / 64  (787.5):  65%|██████▌   | 64/98 [00:20<00:10,  3.11it/s]"
     ]
    },
    {
     "name": "stdout",
     "output_type": "stream",
     "text": [
      "Searching quran for \"ما معنى الإسلام؟\"\n",
      "Searching al-mawsuah for \"كيفية أداء العمرة\"\n",
      "Searching al-mawsuah for \"أحكام الفقه الإسلامي حول التعامل مع الضيق والشدائد\"\n",
      "Searching al-mawsuah for \"كيف يغذي الإسلام رفاهنا العاطفي؟\"\n",
      "Searching al-mawsuah for \"مصادر الشريعة الإسلامية\"\n",
      "Searching al-mawsuah for \"ما هو حكم قتل غير المؤمنين في الفقه الإسلامي؟\"\n",
      "Searching al-mawsuah for \"هل يسمح الإسلام بقتل المدنيين؟\"\n",
      "Searching al-mawsuah for \"هل التجديف يعاقب عليه بالإعدام؟\"\n"
     ]
    },
    {
     "name": "stderr",
     "output_type": "stream",
     "text": [
      "Average Metric: 532 / 68  (782.4):  68%|██████▊   | 67/98 [00:21<00:12,  2.50it/s]"
     ]
    },
    {
     "name": "stdout",
     "output_type": "stream",
     "text": [
      "Searching quran for \"ما هو عيد الفطر؟\"\n",
      "Searching quran for \"لماذا الحج مهم؟\"\n",
      "Searching quran for \"هل يقول القرآن بقتل غير المؤمنين؟\"\n",
      "Searching quran for \"كيفية أداء الحج\"\n",
      "Searching hadith for \"ما معنى الإسلام في الحديث؟\"\n"
     ]
    },
    {
     "name": "stderr",
     "output_type": "stream",
     "text": [
      "Average Metric: 538 / 69  (779.7):  70%|███████   | 69/98 [00:21<00:06,  4.31it/s]"
     ]
    },
    {
     "name": "stdout",
     "output_type": "stream",
     "text": [
      "Searching quran for \"هل هناك استثناءات أو إعفاءات من الصيام؟\"\n"
     ]
    },
    {
     "name": "stderr",
     "output_type": "stream",
     "text": [
      "Average Metric: 552 / 71  (777.5):  72%|███████▏  | 71/98 [00:22<00:05,  4.53it/s]"
     ]
    },
    {
     "name": "stdout",
     "output_type": "stream",
     "text": [
      "Searching quran for \"ما هي العمرة؟\"\n",
      "Searching quran for \"هل انتشر الإسلام بالعنف والإكراه؟\"\n",
      "Searching hadith for \"كيفية أداء الحج\"\n",
      "Searching hadith for \"أهمية الحج في الأحاديث\"\n",
      "Searching hadith for \"ما هو عيد الفطر؟\"\n",
      "Searching al-mawsuah for \"ما هو تعريف الإسلام في الفقه الإسلامي؟\"\n",
      "Searching hadith for \"هل يوجد حديث يأمر بقتل غير المؤمنين؟\"\n",
      "Searching hadith for \"هل هناك استثناءات أو إعفاءات من الصيام؟\"\n",
      "Searching hadith for \"ما هي العمرة؟\"\n",
      "Searching hadith for \"هل انتشر الإسلام بالعنف والإكراه؟\"\n",
      "Searching al-mawsuah for \"كيفية أداء الحج\"\n",
      "Searching al-mawsuah for \"ما هو حكم قتل غير المؤمنين في الفقه الإسلامي؟\"\n",
      "Searching al-mawsuah for \"أهمية الحج في الفقه الإسلامي\"\n",
      "Searching al-mawsuah for \"ما هو عيد الفطر؟\"\n"
     ]
    },
    {
     "name": "stderr",
     "output_type": "stream",
     "text": [
      "Average Metric: 560 / 72  (777.8):  73%|███████▎  | 72/98 [00:23<00:10,  2.44it/s]"
     ]
    },
    {
     "name": "stdout",
     "output_type": "stream",
     "text": [
      "Searching quran for \"هل العمرة والحج نفس الشيء؟\"\n",
      "Searching al-mawsuah for \"هل هناك استثناءات أو إعفاءات من الصيام؟\"\n"
     ]
    },
    {
     "name": "stderr",
     "output_type": "stream",
     "text": [
      "Average Metric: 566 / 73  (775.3):  74%|███████▍  | 73/98 [00:23<00:10,  2.39it/s]"
     ]
    },
    {
     "name": "stdout",
     "output_type": "stream",
     "text": [
      "Searching al-mawsuah for \"ما هي العمرة؟\"\n",
      "Searching al-mawsuah for \"هل انتشر الإسلام بالعنف والإكراه؟\"\n",
      "Searching quran for \"ماذا يؤمن المسلمون؟\"\n"
     ]
    },
    {
     "name": "stderr",
     "output_type": "stream",
     "text": [
      "Average Metric: 582 / 76  (765.8):  77%|███████▋  | 75/98 [00:24<00:07,  3.16it/s]"
     ]
    },
    {
     "name": "stdout",
     "output_type": "stream",
     "text": [
      "Searching quran for \"هل الشريعة موحدة وغير متغيرة؟\"\n",
      "Searching quran for \"صلاة التراويح\"\n",
      "Searching quran for \"ما هي الصدقة؟\"\n",
      "Searching hadith for \"هل العمرة والحج نفس الشيء؟\"\n"
     ]
    },
    {
     "name": "stderr",
     "output_type": "stream",
     "text": [
      "Average Metric: 612 / 79  (774.7):  80%|███████▉  | 78/98 [00:24<00:04,  4.13it/s]"
     ]
    },
    {
     "name": "stdout",
     "output_type": "stream",
     "text": [
      "Searching quran for \"ما هو التوحيد؟\"\n",
      "Searching quran for \"كيف يتناول الإسلام القدر والإرادة الحرة؟\"\n",
      "Searching quran for \"ما معنى الجهاد؟\"\n",
      "Searching hadith for \"ماذا يؤمن المسلمون؟\"\n",
      "Searching hadith for \"هل الشريعة موحدة وغير متغيرة؟\"\n",
      "Searching al-mawsuah for \"هل العمرة والحج نفس الشيء؟\"\n",
      "Searching hadith for \"صلاة التراويح\"\n",
      "Searching hadith for \"ما هي الصدقة؟\"\n",
      "Searching hadith for \"ما هو التوحيد؟\"\n",
      "Searching hadith for \"كيف يتناول الإسلام القدر والإرادة الحرة؟\"\n",
      "Searching hadith for \"ما معنى الجهاد؟\"\n",
      "Searching al-mawsuah for \"ماذا يؤمن المسلمون؟\"\n"
     ]
    },
    {
     "name": "stderr",
     "output_type": "stream",
     "text": [
      "Average Metric: 620 / 80  (775.0):  82%|████████▏ | 80/98 [00:25<00:05,  3.13it/s]"
     ]
    },
    {
     "name": "stdout",
     "output_type": "stream",
     "text": [
      "Searching quran for \"الطلاق في الإسلام\"\n",
      "Searching al-mawsuah for \"هل الشريعة موحدة وغير متغيرة؟\"\n",
      "Searching al-mawsuah for \"صلاة التراويح\"\n",
      "Searching al-mawsuah for \"ما هي الصدقة؟\"\n"
     ]
    },
    {
     "name": "stderr",
     "output_type": "stream",
     "text": [
      "Average Metric: 628 / 81  (775.3):  83%|████████▎ | 81/98 [00:26<00:06,  2.77it/s]"
     ]
    },
    {
     "name": "stdout",
     "output_type": "stream",
     "text": [
      "Searching al-mawsuah for \"ما معنى الجهاد؟\"\n",
      "Searching al-mawsuah for \"ما هو التوحيد؟\"\n",
      "Searching al-mawsuah for \"كيف يتناول الإسلام القدر والإرادة الحرة؟\"\n",
      "Searching quran for \"ما هي الأعياد التي يحتفل بها المسلمون؟\"\n"
     ]
    },
    {
     "name": "stderr",
     "output_type": "stream",
     "text": [
      "Average Metric: 644 / 84  (766.7):  85%|████████▍ | 83/98 [00:26<00:05,  2.76it/s]"
     ]
    },
    {
     "name": "stdout",
     "output_type": "stream",
     "text": [
      "Searching hadith for \"حديث عن الطلاق\"\n",
      "Searching quran for \"هل الوسواس القهري نتيجة وساوس الشيطان؟\"\n",
      "Searching quran for \"كيف نعرف أن الله موجود؟\"\n",
      "Searching quran for \"تاريخ الشريعة\"\n"
     ]
    },
    {
     "name": "stderr",
     "output_type": "stream",
     "text": [
      "Average Metric: 654 / 86  (760.5):  88%|████████▊ | 86/98 [00:27<00:02,  4.48it/s]"
     ]
    },
    {
     "name": "stdout",
     "output_type": "stream",
     "text": [
      "Searching quran for \"هل يسمح الإسلام بالحرب الوقائية؟\"\n",
      "Searching hadith for \"ما هي الأعياد التي يحتفل بها المسلمون؟\"\n"
     ]
    },
    {
     "name": "stderr",
     "output_type": "stream",
     "text": [
      "Average Metric: 662 / 87  (760.9):  88%|████████▊ | 86/98 [00:27<00:02,  4.48it/s]"
     ]
    },
    {
     "name": "stdout",
     "output_type": "stream",
     "text": [
      "Searching quran for \"الوحي في الإسلام\"\n",
      "Searching quran for \"هل الإسلام يشجع على العنف؟\"\n",
      "Searching al-mawsuah for \"الطلاق في الفقه الإسلامي\"\n",
      "Searching hadith for \"تاريخ الشريعة\"\n",
      "Searching hadith for \"هل الوسواس القهري نتيجة وساوس الشيطان؟\"\n",
      "Searching hadith for \"كيف نعرف أن الله موجود؟\"\n",
      "Searching hadith for \"هل يسمح الإسلام بالحرب الوقائية؟\"\n",
      "Searching hadith for \"هل الإسلام يشجع على العنف؟\"\n",
      "Searching hadith for \"الوحي في الإسلام\"\n",
      "Searching al-mawsuah for \"ما هي الأعياد التي يحتفل بها المسلمون؟\"\n"
     ]
    },
    {
     "name": "stderr",
     "output_type": "stream",
     "text": [
      "Average Metric: 670 / 88  (761.4):  90%|████████▉ | 88/98 [00:28<00:03,  2.84it/s]"
     ]
    },
    {
     "name": "stdout",
     "output_type": "stream",
     "text": [
      "Searching al-mawsuah for \"تاريخ الشريعة\"\n",
      "Searching quran for \"ما هي أهمية الحج؟\"\n",
      "Searching al-mawsuah for \"هل الوسواس القهري نتيجة وساوس الشيطان؟\"\n",
      "Searching al-mawsuah for \"كيف نعرف أن الله موجود؟\"\n"
     ]
    },
    {
     "name": "stderr",
     "output_type": "stream",
     "text": [
      "Average Metric: 676 / 89  (759.6):  91%|█████████ | 89/98 [00:28<00:03,  2.66it/s]"
     ]
    },
    {
     "name": "stdout",
     "output_type": "stream",
     "text": [
      "Searching al-mawsuah for \"هل يسمح الإسلام بالحرب الوقائية؟\"\n",
      "Searching al-mawsuah for \"هل الإسلام يشجع على العنف؟\"\n",
      "Searching al-mawsuah for \"الوحي في الإسلام\"\n",
      "Searching quran for \"لماذا يطلب الله من الناس عبادته؟\"\n"
     ]
    },
    {
     "name": "stderr",
     "output_type": "stream",
     "text": [
      "Average Metric: 700 / 92  (760.9):  94%|█████████▍| 92/98 [00:29<00:01,  4.14it/s]"
     ]
    },
    {
     "name": "stdout",
     "output_type": "stream",
     "text": [
      "Searching quran for \"هل يؤمن المسلمون بصلب عيسى؟\"\n",
      "Searching hadith for \"ما هي أهمية الحج؟\"\n"
     ]
    },
    {
     "name": "stderr",
     "output_type": "stream",
     "text": [
      "Average Metric: 724 / 95  (762.1):  97%|█████████▋| 95/98 [00:29<00:00,  5.70it/s]"
     ]
    },
    {
     "name": "stdout",
     "output_type": "stream",
     "text": [
      "Searching hadith for \"لماذا يطلب الله من الناس عبادته؟\"\n",
      "Searching hadith for \"هل ورد في الأحاديث أن المسلمين يؤمنون بصلب عيسى؟\"\n",
      "Searching al-mawsuah for \"ما هي أهمية الحج؟\"\n",
      "Searching al-mawsuah for \"لماذا يطلب الله من الناس عبادته؟\"\n",
      "Searching al-mawsuah for \"موقف الفقه الإسلامي من صلب عيسى\"\n"
     ]
    },
    {
     "name": "stderr",
     "output_type": "stream",
     "text": [
      "Average Metric: 748 / 98  (763.3): 100%|██████████| 98/98 [00:31<00:00,  3.10it/s]\n"
     ]
    },
    {
     "name": "stdout",
     "output_type": "stream",
     "text": [
      "Searching quran for \"من يجب عليه أداء الحج؟\"\n",
      "Searching quran for \"أين الكعبة؟\"\n",
      "Searching quran for \"هل يسمح الإسلام بجرائم الشرف؟\"\n",
      "Searching quran for \"هل يصوم المسلمون خارج رمضان؟\"\n",
      "Searching quran for \"هل يقدم القرآن توجيهات حول كيفية التعامل مع الصدمة والألم؟\"\n",
      "Searching quran for \"ما هي الفتوى؟\"\n",
      "Searching quran for \"ما معنى حلال؟\"\n",
      "Searching quran for \"هل الردة يعاقب عليها بالإعدام في الإسلام؟\"\n"
     ]
    },
    {
     "name": "stderr",
     "output_type": "stream",
     "text": [
      "  0%|          | 0/98 [00:00<?, ?it/s]"
     ]
    },
    {
     "name": "stdout",
     "output_type": "stream",
     "text": [
      "Searching hadith for \"هل تقدم السنة النبوية توجيهات حول كيفية التعامل مع الصدمة والألم؟\"\n",
      "Searching hadith for \"هل توجد أحاديث تتعلق بجرائم الشرف؟\"\n",
      "Searching hadith for \"ما معنى حلال؟\"\n",
      "Searching hadith for \"ما هي الفتوى؟\"\n",
      "Searching hadith for \"هل يصوم المسلمون خارج رمضان؟\"\n",
      "Searching hadith for \"من يجب عليه أداء الحج؟\"\n",
      "Searching hadith for \"هل يعاقب المرتد بالإعدام في الإسلام؟\"\n",
      "Searching hadith for \"أين الكعبة؟\"\n",
      "Searching al-mawsuah for \"ما هو حكم الفقه الإسلامي في جرائم الشرف؟\"\n",
      "Searching al-mawsuah for \"من يجب عليه أداء الحج؟\"\n",
      "Searching al-mawsuah for \"كيفية التعامل مع الصدمة والألم في الفقه الإسلامي\"\n",
      "Searching al-mawsuah for \"ما معنى حلال؟\"\n",
      "Searching al-mawsuah for \"أين الكعبة؟\"\n",
      "Searching al-mawsuah for \"ما هي الفتوى؟\"\n",
      "Searching al-mawsuah for \"هل يصوم المسلمون خارج رمضان؟\"\n",
      "Searching al-mawsuah for \"حكم الردة في الفقه الإسلامي\"\n"
     ]
    },
    {
     "name": "stderr",
     "output_type": "stream",
     "text": [
      "Average Metric: 54 / 7  (771.4):   6%|▌         | 6/98 [00:02<01:01,  1.49it/s]"
     ]
    },
    {
     "name": "stdout",
     "output_type": "stream",
     "text": [
      "Searching quran for \"ما هو رمضان؟\"\n",
      "Searching quran for \"هل الإسلام يشجع على العنف؟\"\n",
      "Searching quran for \"هل يسمح الإسلام بالحرب الوقائية؟\"\n",
      "Searching quran for \"أهمية ليلة القدر\"\n",
      "Searching quran for \"كيف يصف القرآن السعادة؟ كيف يمكن تحقيقها في الإسلام؟\"\n",
      "Searching quran for \"هل يوفر الإسلام إرشادات حول كيفية التعامل مع الأمراض النفسية؟\"\n",
      "Searching quran for \"ما هو رمضان؟\"\n"
     ]
    },
    {
     "name": "stderr",
     "output_type": "stream",
     "text": [
      "Average Metric: 64 / 8  (800.0):   8%|▊         | 8/98 [00:02<00:18,  4.90it/s]"
     ]
    },
    {
     "name": "stdout",
     "output_type": "stream",
     "text": [
      "Searching quran for \"لماذا يصلي المسلمون يوميا؟\"\n",
      "Searching hadith for \"ما هو رمضان؟\"\n",
      "Searching hadith for \"هل يسمح الإسلام بالحرب الوقائية؟\"\n",
      "Searching hadith for \"فضل ليلة القدر\"\n",
      "Searching hadith for \"هل الإسلام يشجع على العنف؟\"\n",
      "Searching hadith for \"هل هناك أحاديث تتحدث عن كيفية التعامل مع الأمراض النفسية؟\"\n",
      "Searching hadith for \"ما هو رمضان؟\"\n",
      "Searching hadith for \"كيف يصف الحديث السعادة؟ كيف يمكن تحقيقها في الإسلام؟\"\n",
      "Searching hadith for \"لماذا يصلي المسلمون يوميا؟\"\n",
      "Searching al-mawsuah for \"ما هو رمضان؟\"\n",
      "Searching al-mawsuah for \"أهمية ليلة القدر في الفقه الإسلامي\"\n",
      "Searching al-mawsuah for \"هل الإسلام يشجع على العنف؟\"\n",
      "Searching al-mawsuah for \"ما هو رمضان؟\"\n",
      "Searching al-mawsuah for \"إرشادات الفقه الإسلامي حول التعامل مع الأمراض النفسية\"\n",
      "Searching al-mawsuah for \"هل يسمح الإسلام بالحرب الوقائية؟\"\n",
      "Searching al-mawsuah for \"السعادة في الفقه الإسلامي وكيفية تحقيقها\"\n",
      "Searching al-mawsuah for \"لماذا يصلي المسلمون يوميا؟\"\n"
     ]
    },
    {
     "name": "stderr",
     "output_type": "stream",
     "text": [
      "Average Metric: 102 / 14  (728.6):  13%|█▎        | 13/98 [00:04<00:34,  2.48it/s]"
     ]
    },
    {
     "name": "stdout",
     "output_type": "stream",
     "text": [
      "Searching quran for \"كيف تصوم رمضان؟\"\n",
      "Searching quran for \"كيف نعلم أن القرآن وحي إلهي؟\"\n",
      "Searching quran for \"من يجب عليه الصيام في رمضان؟\"\n",
      "Searching quran for \"هل التجديف يعاقب عليه بالإعدام؟\"\n",
      "Searching quran for \"ما هو الغرض من الصيام في رمضان؟\"\n",
      "Searching quran for \"ماذا يقدم الإسلام للناس؟\"\n"
     ]
    },
    {
     "name": "stderr",
     "output_type": "stream",
     "text": [
      "Average Metric: 114 / 16  (712.5):  15%|█▌        | 15/98 [00:05<00:20,  3.99it/s]"
     ]
    },
    {
     "name": "stdout",
     "output_type": "stream",
     "text": [
      "Searching quran for \"مدة الصيام في رمضان\"\n",
      "Searching quran for \"كيف يُساء تفسير الجهاد كإرهاب؟\"\n",
      "Searching hadith for \"كيف تصوم رمضان؟\"\n",
      "Searching hadith for \"هل التجديف يعاقب عليه بالإعدام؟\"\n",
      "Searching hadith for \"من يجب عليه الصيام في رمضان؟\"\n",
      "Searching hadith for \"كيف نعلم أن القرآن وحي إلهي؟\"\n",
      "Searching hadith for \"ماذا يقدم الإسلام للناس؟\"\n",
      "Searching hadith for \"ما هو الغرض من الصيام في رمضان؟\"\n",
      "Searching hadith for \"مدة الصيام في رمضان\"\n",
      "Searching hadith for \"كيف يُساء تفسير الجهاد كإرهاب؟\"\n",
      "Searching al-mawsuah for \"كيف تصوم رمضان؟\"\n",
      "Searching al-mawsuah for \"من يجب عليه الصيام في رمضان؟\"\n",
      "Searching al-mawsuah for \"كيف نعلم أن القرآن وحي إلهي؟\"\n",
      "Searching al-mawsuah for \"ما هو الغرض من الصيام في رمضان؟\"\n",
      "Searching al-mawsuah for \"ماذا يقدم الإسلام للناس؟\"\n",
      "Searching al-mawsuah for \"هل التجديف يعاقب عليه بالإعدام؟\"\n",
      "Searching al-mawsuah for \"مدة الصيام في رمضان\"\n",
      "Searching al-mawsuah for \"كيف يُساء تفسير الجهاد كإرهاب؟\"\n"
     ]
    },
    {
     "name": "stderr",
     "output_type": "stream",
     "text": [
      "Average Metric: 128 / 18  (711.1):  17%|█▋        | 17/98 [00:07<00:34,  2.32it/s]"
     ]
    },
    {
     "name": "stdout",
     "output_type": "stream",
     "text": [
      "Searching quran for \"كيف يُساء تفسير الجهاد كإرهاب؟\"\n",
      "Searching quran for \"أركان الإسلام الخمسة\"\n",
      "Searching quran for \"كيف يعامل الإسلام الأقليات الدينية؟\"\n"
     ]
    },
    {
     "name": "stderr",
     "output_type": "stream",
     "text": [
      "Average Metric: 182 / 24  (758.3):  24%|██▍       | 24/98 [00:07<00:15,  4.93it/s]"
     ]
    },
    {
     "name": "stdout",
     "output_type": "stream",
     "text": [
      "Searching quran for \"ليلة القدر\"\n",
      "Searching quran for \"هل يؤمن المسلمون بالروح القدس؟\"\n",
      "Searching quran for \"من هو الله\"\n",
      "Searching quran for \"هل يؤمن المسلمون بالجنة والنار؟\"\n",
      "Searching quran for \"ما معنى الجهاد؟\"\n",
      "Searching hadith for \"كيف يُساء تفسير الجهاد كإرهاب؟\"\n",
      "Searching hadith for \"أركان الإسلام الخمسة\"\n",
      "Searching hadith for \"معاملة الإسلام للأقليات الدينية\"\n",
      "Searching hadith for \"ما هي ليلة القدر\"\n",
      "Searching hadith for \"هل ذكر الروح القدس في الأحاديث؟\"\n",
      "Searching hadith for \"من هو الله\"\n",
      "Searching hadith for \"هل ذكر النبي الجنة والنار؟\"\n",
      "Searching hadith for \"ما معنى الجهاد؟\"\n",
      "Searching al-mawsuah for \"كيف يُساء تفسير الجهاد كإرهاب؟\"\n",
      "Searching al-mawsuah for \"أركان الإسلام الخمسة\"\n",
      "Searching al-mawsuah for \"ليلة القدر في الفقه الإسلامي\"\n",
      "Searching al-mawsuah for \"معاملة الأقليات الدينية في الفقه الإسلامي\"\n",
      "Searching al-mawsuah for \"الإيمان بالروح القدس في الفقه الإسلامي\"\n",
      "Searching al-mawsuah for \"ما معنى الجهاد؟\"\n",
      "Searching al-mawsuah for \"الإيمان بالجنة والنار في الفقه الإسلامي\"\n",
      "Searching al-mawsuah for \"من هو الله\"\n"
     ]
    },
    {
     "name": "stderr",
     "output_type": "stream",
     "text": [
      "Average Metric: 192 / 25  (768.0):  24%|██▍       | 24/98 [00:09<00:15,  4.93it/s]"
     ]
    },
    {
     "name": "stdout",
     "output_type": "stream",
     "text": [
      "Searching quran for \"أين يحدث الحج؟\"\n"
     ]
    },
    {
     "name": "stderr",
     "output_type": "stream",
     "text": [
      "Average Metric: 216 / 28  (771.4):  29%|██▊       | 28/98 [00:09<00:21,  3.25it/s]"
     ]
    },
    {
     "name": "stdout",
     "output_type": "stream",
     "text": [
      "Searching quran for \"أحكام الحرب في الإسلام\"\n",
      "Searching quran for \"متى ليلة القدر؟\"\n",
      "Searching quran for \"كم مرة يصلي المسلمون خلال رمضان؟\"\n"
     ]
    },
    {
     "name": "stderr",
     "output_type": "stream",
     "text": [
      "Average Metric: 250 / 32  (781.2):  33%|███▎      | 32/98 [00:09<00:13,  4.94it/s]"
     ]
    },
    {
     "name": "stdout",
     "output_type": "stream",
     "text": [
      "Searching quran for \"لماذا الكعبة مهمة؟\"\n",
      "Searching quran for \"لماذا يجب على المسلمين الصيام لمدة شهر كامل؟\"\n",
      "Searching quran for \"كيف يمكن فهم والتعامل مع الحزن والأسى في الإسلام؟\"\n",
      "Searching quran for \"كيف يمكن للمرء أن يطهر قلبه وروحه؟\"\n",
      "Searching hadith for \"أين يحدث الحج؟\"\n",
      "Searching hadith for \"أحاديث عن أحكام الحرب في الإسلام\"\n",
      "Searching hadith for \"متى ليلة القدر؟\"\n",
      "Searching hadith for \"كم مرة يصلي المسلمون خلال رمضان؟\"\n",
      "Searching hadith for \"لماذا الكعبة مهمة؟\"\n",
      "Searching hadith for \"لماذا يجب على المسلمين الصيام لمدة شهر كامل؟\"\n",
      "Searching hadith for \"كيف يمكن للمرء أن يطهر قلبه وروحه؟\"\n",
      "Searching hadith for \"كيف يمكن فهم والتعامل مع الحزن والأسى في الإسلام؟\"\n",
      "Searching al-mawsuah for \"أين يحدث الحج؟\"\n",
      "Searching al-mawsuah for \"متى ليلة القدر؟\"\n",
      "Searching al-mawsuah for \"أحكام الحرب في الفقه الإسلامي\"\n",
      "Searching al-mawsuah for \"كم مرة يصلي المسلمون خلال رمضان؟\"\n",
      "Searching al-mawsuah for \"لماذا يجب على المسلمين الصيام لمدة شهر كامل؟\"\n",
      "Searching al-mawsuah for \"أهمية الكعبة في الفقه الإسلامي\"\n",
      "Searching al-mawsuah for \"كيف يمكن فهم والتعامل مع الحزن والأسى في الإسلام؟\"\n",
      "Searching al-mawsuah for \"كيف يمكن للمرء أن يطهر قلبه وروحه؟\"\n"
     ]
    },
    {
     "name": "stderr",
     "output_type": "stream",
     "text": [
      "Average Metric: 262 / 33  (793.9):  33%|███▎      | 32/98 [00:11<00:13,  4.94it/s]"
     ]
    },
    {
     "name": "stdout",
     "output_type": "stream",
     "text": [
      "Searching quran for \"ما هي الكعبة؟\"\n"
     ]
    },
    {
     "name": "stderr",
     "output_type": "stream",
     "text": [
      "Average Metric: 286 / 36  (794.4):  36%|███▌      | 35/98 [00:12<00:26,  2.39it/s]"
     ]
    },
    {
     "name": "stdout",
     "output_type": "stream",
     "text": [
      "Searching quran for \"من هو النبي محمد؟\"\n",
      "Searching quran for \"ما هي التزكية؟\"\n"
     ]
    },
    {
     "name": "stderr",
     "output_type": "stream",
     "text": [
      "Average Metric: 306 / 38  (805.3):  38%|███▊      | 37/98 [00:12<00:18,  3.31it/s]"
     ]
    },
    {
     "name": "stdout",
     "output_type": "stream",
     "text": [
      "Searching quran for \"أحكام الحرب في الإسلام\"\n",
      "Searching quran for \"ما الذي يعلمه الإسلام عن إدارة القلق والاكتئاب والشك الذاتي؟\"\n",
      "Searching quran for \"أين تؤدى العمرة؟\"\n"
     ]
    },
    {
     "name": "stderr",
     "output_type": "stream",
     "text": [
      "Average Metric: 320 / 40  (800.0):  40%|███▉      | 39/98 [00:12<00:17,  3.31it/s]"
     ]
    },
    {
     "name": "stdout",
     "output_type": "stream",
     "text": [
      "Searching quran for \"كيف يفهم الإسلام الروح\"\n",
      "Searching quran for \"كيف تكون الروحانية الإسلامية فريدة؟\"\n",
      "Searching hadith for \"ما هي الكعبة؟\"\n",
      "Searching hadith for \"من هو النبي محمد؟\"\n",
      "Searching hadith for \"ما هي التزكية؟\"\n",
      "Searching hadith for \"أحاديث عن أحكام الحرب في الإسلام\"\n",
      "Searching hadith for \"ما الذي يعلمه الإسلام عن إدارة القلق والاكتئاب والشك الذاتي؟\"\n",
      "Searching hadith for \"كيف تكون الروحانية الإسلامية فريدة؟\"\n",
      "Searching hadith for \"فهم الروح في الإسلام\"\n",
      "Searching al-mawsuah for \"ما هي الكعبة؟\"\n",
      "Searching hadith for \"أين تؤدى العمرة؟\"\n",
      "Searching al-mawsuah for \"ما هي التزكية؟\"\n",
      "Searching al-mawsuah for \"من هو النبي محمد؟\"\n",
      "Searching al-mawsuah for \"أحكام الحرب في الفقه الإسلامي\"\n",
      "Searching al-mawsuah for \"ما الذي يعلمه الإسلام عن إدارة القلق والاكتئاب والشك الذاتي؟\"\n",
      "Searching al-mawsuah for \"كيف تكون الروحانية الإسلامية فريدة؟\"\n",
      "Searching al-mawsuah for \"الروح في الفقه الإسلامي\"\n"
     ]
    },
    {
     "name": "stderr",
     "output_type": "stream",
     "text": [
      "Average Metric: 336 / 42  (800.0):  43%|████▎     | 42/98 [00:14<00:19,  2.86it/s]"
     ]
    },
    {
     "name": "stdout",
     "output_type": "stream",
     "text": [
      "Searching quran for \"من هو عيسى في الإسلام؟\"\n",
      "Searching quran for \"ما هو الإسلام؟\"\n"
     ]
    },
    {
     "name": "stderr",
     "output_type": "stream",
     "text": [
      "Average Metric: 354 / 44  (804.5):  45%|████▍     | 44/98 [00:14<00:16,  3.33it/s]"
     ]
    },
    {
     "name": "stdout",
     "output_type": "stream",
     "text": [
      "Searching quran for \"متى رمضان؟\"\n",
      "Searching quran for \"كيف يعامل الإسلام الأقليات الدينية؟\"\n",
      "Searching al-mawsuah for \"أين تؤدى العمرة؟\"\n"
     ]
    },
    {
     "name": "stderr",
     "output_type": "stream",
     "text": [
      "Average Metric: 374 / 47  (795.7):  48%|████▊     | 47/98 [00:15<00:09,  5.14it/s]"
     ]
    },
    {
     "name": "stdout",
     "output_type": "stream",
     "text": [
      "Searching quran for \"كيف تتعلق الشريعة بطقوس العبادة؟\"\n",
      "Searching quran for \"هل انتشر الإسلام بالعنف والإكراه؟\"\n",
      "Searching quran for \"لماذا يتم الاحتفال بشهر رمضان؟\"\n",
      "Searching hadith for \"من هو عيسى في الأحاديث؟\"\n",
      "Searching hadith for \"ما هو الإسلام؟\"\n"
     ]
    },
    {
     "name": "stderr",
     "output_type": "stream",
     "text": [
      "Average Metric: 382 / 48  (795.8):  49%|████▉     | 48/98 [00:15<00:13,  3.76it/s]"
     ]
    },
    {
     "name": "stdout",
     "output_type": "stream",
     "text": [
      "Searching hadith for \"متى رمضان؟\"\n",
      "Searching quran for \"من هو النبي إبراهيم؟\"\n",
      "Searching hadith for \"معاملة الإسلام للأقليات الدينية\"\n",
      "Searching hadith for \"كيف تتعلق الشريعة بطقوس العبادة؟\"\n",
      "Searching hadith for \"هل انتشر الإسلام بالعنف والإكراه؟\"\n",
      "Searching hadith for \"لماذا يتم الاحتفال بشهر رمضان؟\"\n",
      "Searching al-mawsuah for \"ما هو الإسلام؟\"\n",
      "Searching al-mawsuah for \"من هو عيسى في الفقه الإسلامي؟\"\n",
      "Searching al-mawsuah for \"متى رمضان؟\"\n",
      "Searching al-mawsuah for \"معاملة الأقليات الدينية في الفقه الإسلامي\"\n",
      "Searching al-mawsuah for \"كيف تتعلق الشريعة بطقوس العبادة؟\"\n",
      "Searching al-mawsuah for \"هل انتشر الإسلام بالعنف والإكراه؟\"\n",
      "Searching hadith for \"من هو النبي إبراهيم؟\"\n",
      "Searching al-mawsuah for \"لماذا يتم الاحتفال بشهر رمضان؟\"\n"
     ]
    },
    {
     "name": "stderr",
     "output_type": "stream",
     "text": [
      "Average Metric: 386 / 49  (787.8):  50%|█████     | 49/98 [00:16<00:21,  2.23it/s]"
     ]
    },
    {
     "name": "stdout",
     "output_type": "stream",
     "text": [
      "Searching quran for \"ما هو زكاة الفطر؟\"\n"
     ]
    },
    {
     "name": "stderr",
     "output_type": "stream",
     "text": [
      "Average Metric: 428 / 54  (792.6):  54%|█████▍    | 53/98 [00:17<00:12,  3.61it/s]"
     ]
    },
    {
     "name": "stdout",
     "output_type": "stream",
     "text": [
      "Searching quran for \"هل يسمح الإسلام بقتل المدنيين؟\"\n",
      "Searching quran for \"ما هو الفقه؟\"\n",
      "Searching quran for \"كيف تتعلق الشريعة بالمجتمع؟\"\n",
      "Searching quran for \"القيود الغذائية في الإسلام\"\n",
      "Searching quran for \"أهمية الصدقة في رمضان\"\n"
     ]
    },
    {
     "name": "stderr",
     "output_type": "stream",
     "text": [
      "Average Metric: 436 / 55  (792.7):  56%|█████▌    | 55/98 [00:17<00:07,  5.74it/s]"
     ]
    },
    {
     "name": "stdout",
     "output_type": "stream",
     "text": [
      "Searching quran for \"ما هو القرآن؟\"\n",
      "Searching al-mawsuah for \"من هو النبي إبراهيم؟\"\n",
      "Searching hadith for \"ما هو زكاة الفطر؟\"\n",
      "Searching hadith for \"هل يسمح الإسلام بقتل المدنيين؟\"\n",
      "Searching hadith for \"ما هو الفقه؟\"\n",
      "Searching hadith for \"كيف تتعلق الشريعة بالمجتمع؟\"\n"
     ]
    },
    {
     "name": "stderr",
     "output_type": "stream",
     "text": [
      "Average Metric: 442 / 56  (789.3):  56%|█████▌    | 55/98 [00:18<00:07,  5.74it/s]"
     ]
    },
    {
     "name": "stdout",
     "output_type": "stream",
     "text": [
      "Searching hadith for \"القيود الغذائية في الإسلام\"\n",
      "Searching hadith for \"فضل الصدقة في رمضان\"\n",
      "Searching hadith for \"ما هو القرآن؟\"\n",
      "Searching quran for \"من بنى الكعبة؟\"\n",
      "Searching al-mawsuah for \"ما هو زكاة الفطر؟\"\n",
      "Searching al-mawsuah for \"هل يسمح الإسلام بقتل المدنيين؟\"\n",
      "Searching al-mawsuah for \"ما هو الفقه؟\"\n",
      "Searching al-mawsuah for \"الصدقة في رمضان\"\n",
      "Searching al-mawsuah for \"كيف تتعلق الشريعة بالمجتمع؟\"\n",
      "Searching al-mawsuah for \"ما هو القرآن؟\"\n",
      "Searching al-mawsuah for \"القيود الغذائية في الإسلام\"\n"
     ]
    },
    {
     "name": "stderr",
     "output_type": "stream",
     "text": [
      "Average Metric: 446 / 57  (782.5):  58%|█████▊    | 57/98 [00:19<00:16,  2.54it/s]"
     ]
    },
    {
     "name": "stdout",
     "output_type": "stream",
     "text": [
      "Searching hadith for \"من بنى الكعبة؟\"\n",
      "Searching quran for \"من أين تأتي الشريعة؟\"\n"
     ]
    },
    {
     "name": "stderr",
     "output_type": "stream",
     "text": [
      "Average Metric: 452 / 58  (779.3):  59%|█████▉    | 58/98 [00:19<00:14,  2.85it/s]"
     ]
    },
    {
     "name": "stdout",
     "output_type": "stream",
     "text": [
      "Searching quran for \"كيف يغذي الإسلام رفاهنا العاطفي؟\"\n"
     ]
    },
    {
     "name": "stderr",
     "output_type": "stream",
     "text": [
      "Average Metric: 486 / 62  (783.9):  62%|██████▏   | 61/98 [00:19<00:08,  4.20it/s]"
     ]
    },
    {
     "name": "stdout",
     "output_type": "stream",
     "text": [
      "Searching quran for \"كيفية أداء العمرة\"\n",
      "Searching quran for \"آيات القرآن للتعامل مع الضيق والشدائد\"\n",
      "Searching quran for \"هل يقول القرآن بقتل غير المؤمنين؟\"\n",
      "Searching quran for \"هل التجديف يعاقب عليه بالإعدام؟\"\n"
     ]
    },
    {
     "name": "stderr",
     "output_type": "stream",
     "text": [
      "Average Metric: 496 / 63  (787.3):  64%|██████▍   | 63/98 [00:19<00:06,  5.36it/s]"
     ]
    },
    {
     "name": "stdout",
     "output_type": "stream",
     "text": [
      "Searching quran for \"هل يسمح الإسلام بقتل المدنيين؟\"\n",
      "Searching al-mawsuah for \"من بنى الكعبة؟\"\n",
      "Searching hadith for \"من أين تأتي الشريعة؟\"\n",
      "Searching hadith for \"كيف يغذي الإسلام رفاهنا العاطفي؟\"\n",
      "Searching hadith for \"كيفية أداء العمرة\"\n",
      "Searching hadith for \"أحاديث عن التعامل مع الضيق والشدائد\"\n",
      "Searching hadith for \"هل يوجد حديث يأمر بقتل غير المؤمنين؟\"\n",
      "Searching hadith for \"هل التجديف يعاقب عليه بالإعدام؟\"\n",
      "Searching hadith for \"هل يسمح الإسلام بقتل المدنيين؟\"\n"
     ]
    },
    {
     "name": "stderr",
     "output_type": "stream",
     "text": [
      "Average Metric: 504 / 64  (787.5):  65%|██████▌   | 64/98 [00:20<00:10,  3.10it/s]"
     ]
    },
    {
     "name": "stdout",
     "output_type": "stream",
     "text": [
      "Searching quran for \"ما معنى الإسلام؟\"\n",
      "Searching al-mawsuah for \"مصادر الشريعة الإسلامية\"\n",
      "Searching al-mawsuah for \"كيف يغذي الإسلام رفاهنا العاطفي؟\"\n",
      "Searching al-mawsuah for \"كيفية أداء العمرة\"\n",
      "Searching al-mawsuah for \"أحكام الفقه الإسلامي حول التعامل مع الضيق والشدائد\"\n",
      "Searching al-mawsuah for \"ما هو حكم قتل غير المؤمنين في الفقه الإسلامي؟\"\n"
     ]
    },
    {
     "name": "stderr",
     "output_type": "stream",
     "text": [
      "Average Metric: 514 / 65  (790.8):  66%|██████▋   | 65/98 [00:21<00:13,  2.39it/s]"
     ]
    },
    {
     "name": "stdout",
     "output_type": "stream",
     "text": [
      "Searching al-mawsuah for \"هل التجديف يعاقب عليه بالإعدام؟\"\n",
      "Searching al-mawsuah for \"هل يسمح الإسلام بقتل المدنيين؟\"\n",
      "Searching quran for \"ما هو عيد الفطر؟\"\n"
     ]
    },
    {
     "name": "stderr",
     "output_type": "stream",
     "text": [
      "Average Metric: 522 / 67  (779.1):  67%|██████▋   | 66/98 [00:21<00:12,  2.62it/s]"
     ]
    },
    {
     "name": "stdout",
     "output_type": "stream",
     "text": [
      "Searching hadith for \"ما معنى الإسلام في الحديث؟\"\n",
      "Searching quran for \"لماذا الحج مهم؟\"\n",
      "Searching quran for \"كيفية أداء الحج\"\n"
     ]
    },
    {
     "name": "stderr",
     "output_type": "stream",
     "text": [
      "Average Metric: 532 / 68  (782.4):  69%|██████▉   | 68/98 [00:21<00:07,  3.89it/s]"
     ]
    },
    {
     "name": "stdout",
     "output_type": "stream",
     "text": [
      "Searching quran for \"هل يقول القرآن بقتل غير المؤمنين؟\"\n"
     ]
    },
    {
     "name": "stderr",
     "output_type": "stream",
     "text": [
      "Average Metric: 540 / 69  (782.6):  70%|███████   | 69/98 [00:22<00:07,  3.82it/s]"
     ]
    },
    {
     "name": "stdout",
     "output_type": "stream",
     "text": [
      "Searching quran for \"هل هناك استثناءات أو إعفاءات من الصيام؟\"\n",
      "Searching quran for \"ما هي العمرة؟\"\n"
     ]
    },
    {
     "name": "stderr",
     "output_type": "stream",
     "text": [
      "Average Metric: 552 / 71  (777.5):  71%|███████▏  | 70/98 [00:22<00:08,  3.47it/s]"
     ]
    },
    {
     "name": "stdout",
     "output_type": "stream",
     "text": [
      "Searching hadith for \"ما هو عيد الفطر؟\"Searching quran for \"هل انتشر الإسلام بالعنف والإكراه؟\"\n",
      "Searching al-mawsuah for \"ما هو تعريف الإسلام في الفقه الإسلامي؟\"\n",
      "\n",
      "Searching hadith for \"أهمية الحج في الأحاديث\"\n",
      "Searching hadith for \"كيفية أداء الحج\"\n",
      "Searching hadith for \"هل يوجد حديث يأمر بقتل غير المؤمنين؟\"\n",
      "Searching hadith for \"هل هناك استثناءات أو إعفاءات من الصيام؟\"\n",
      "Searching hadith for \"هل انتشر الإسلام بالعنف والإكراه؟\"\n",
      "Searching hadith for \"ما هي العمرة؟\"\n"
     ]
    },
    {
     "name": "stderr",
     "output_type": "stream",
     "text": [
      "Average Metric: 560 / 72  (777.8):  73%|███████▎  | 72/98 [00:23<00:09,  2.77it/s]"
     ]
    },
    {
     "name": "stdout",
     "output_type": "stream",
     "text": [
      "Searching al-mawsuah for \"ما هو عيد الفطر؟\"\n",
      "Searching quran for \"هل العمرة والحج نفس الشيء؟\"\n",
      "Searching al-mawsuah for \"كيفية أداء الحج\"\n",
      "Searching al-mawsuah for \"ما هو حكم قتل غير المؤمنين في الفقه الإسلامي؟\"\n",
      "Searching al-mawsuah for \"أهمية الحج في الفقه الإسلامي\"\n"
     ]
    },
    {
     "name": "stderr",
     "output_type": "stream",
     "text": [
      "Average Metric: 566 / 73  (775.3):  74%|███████▍  | 73/98 [00:24<00:10,  2.29it/s]"
     ]
    },
    {
     "name": "stdout",
     "output_type": "stream",
     "text": [
      "Searching al-mawsuah for \"هل هناك استثناءات أو إعفاءات من الصيام؟\"\n",
      "Searching al-mawsuah for \"هل انتشر الإسلام بالعنف والإكراه؟\"\n",
      "Searching al-mawsuah for \"ما هي العمرة؟\"\n",
      "Searching quran for \"ماذا يؤمن المسلمون؟\"\n"
     ]
    },
    {
     "name": "stderr",
     "output_type": "stream",
     "text": [
      "Average Metric: 572 / 74  (773.0):  76%|███████▌  | 74/98 [00:24<00:09,  2.65it/s]"
     ]
    },
    {
     "name": "stdout",
     "output_type": "stream",
     "text": [
      "Searching hadith for \"هل العمرة والحج نفس الشيء؟\"\n",
      "Searching quran for \"هل الشريعة موحدة وغير متغيرة؟\"\n"
     ]
    },
    {
     "name": "stderr",
     "output_type": "stream",
     "text": [
      "Average Metric: 582 / 76  (765.8):  77%|███████▋  | 75/98 [00:24<00:07,  3.08it/s]"
     ]
    },
    {
     "name": "stdout",
     "output_type": "stream",
     "text": [
      "Searching quran for \"ما هي الصدقة؟\"\n",
      "Searching quran for \"صلاة التراويح\"\n"
     ]
    },
    {
     "name": "stderr",
     "output_type": "stream",
     "text": [
      "Average Metric: 612 / 79  (774.7):  80%|███████▉  | 78/98 [00:24<00:05,  3.83it/s]"
     ]
    },
    {
     "name": "stdout",
     "output_type": "stream",
     "text": [
      "Searching quran for \"ما هو التوحيد؟\"\n",
      "Searching quran for \"ما معنى الجهاد؟\"\n",
      "Searching hadith for \"ماذا يؤمن المسلمون؟\"\n",
      "Searching quran for \"كيف يتناول الإسلام القدر والإرادة الحرة؟\"\n",
      "Searching al-mawsuah for \"هل العمرة والحج نفس الشيء؟\"\n",
      "Searching hadith for \"هل الشريعة موحدة وغير متغيرة؟\"\n",
      "Searching hadith for \"ما هي الصدقة؟\"\n",
      "Searching hadith for \"صلاة التراويح\"\n"
     ]
    },
    {
     "name": "stderr",
     "output_type": "stream",
     "text": [
      "Average Metric: 620 / 80  (775.0):  82%|████████▏ | 80/98 [00:25<00:04,  3.76it/s]"
     ]
    },
    {
     "name": "stdout",
     "output_type": "stream",
     "text": [
      "Searching quran for \"الطلاق في الإسلام\"\n",
      "Searching hadith for \"ما معنى الجهاد؟\"\n",
      "Searching hadith for \"ما هو التوحيد؟\"\n",
      "Searching al-mawsuah for \"ماذا يؤمن المسلمون؟\"\n",
      "Searching hadith for \"كيف يتناول الإسلام القدر والإرادة الحرة؟\"\n",
      "Searching al-mawsuah for \"هل الشريعة موحدة وغير متغيرة؟\"\n",
      "Searching al-mawsuah for \"ما هي الصدقة؟\"\n",
      "Searching al-mawsuah for \"صلاة التراويح\"\n",
      "Searching al-mawsuah for \"ما معنى الجهاد؟\"\n"
     ]
    },
    {
     "name": "stderr",
     "output_type": "stream",
     "text": [
      "Average Metric: 628 / 81  (775.3):  83%|████████▎ | 81/98 [00:26<00:06,  2.67it/s]"
     ]
    },
    {
     "name": "stdout",
     "output_type": "stream",
     "text": [
      "Searching hadith for \"حديث عن الطلاق\"\n",
      "Searching quran for \"ما هي الأعياد التي يحتفل بها المسلمون؟\"\n",
      "Searching al-mawsuah for \"ما هو التوحيد؟\"\n",
      "Searching al-mawsuah for \"كيف يتناول الإسلام القدر والإرادة الحرة؟\"\n"
     ]
    },
    {
     "name": "stderr",
     "output_type": "stream",
     "text": [
      "Average Metric: 634 / 82  (773.2):  84%|████████▎ | 82/98 [00:26<00:05,  2.90it/s]"
     ]
    },
    {
     "name": "stdout",
     "output_type": "stream",
     "text": [
      "Searching quran for \"هل الوسواس القهري نتيجة وساوس الشيطان؟\"\n"
     ]
    },
    {
     "name": "stderr",
     "output_type": "stream",
     "text": [
      "Average Metric: 644 / 84  (766.7):  85%|████████▍ | 83/98 [00:27<00:04,  3.09it/s]"
     ]
    },
    {
     "name": "stdout",
     "output_type": "stream",
     "text": [
      "Searching quran for \"كيف نعرف أن الله موجود؟\"\n",
      "Searching quran for \"تاريخ الشريعة\"\n"
     ]
    },
    {
     "name": "stderr",
     "output_type": "stream",
     "text": [
      "Average Metric: 650 / 85  (764.7):  87%|████████▋ | 85/98 [00:27<00:03,  4.22it/s]"
     ]
    },
    {
     "name": "stdout",
     "output_type": "stream",
     "text": [
      "Searching quran for \"هل يسمح الإسلام بالحرب الوقائية؟\"\n",
      "Searching al-mawsuah for \"الطلاق في الفقه الإسلامي\"\n",
      "Searching hadith for \"ما هي الأعياد التي يحتفل بها المسلمون؟\"\n"
     ]
    },
    {
     "name": "stderr",
     "output_type": "stream",
     "text": [
      "Average Metric: 662 / 87  (760.9):  88%|████████▊ | 86/98 [00:27<00:02,  4.22it/s]"
     ]
    },
    {
     "name": "stdout",
     "output_type": "stream",
     "text": [
      "Searching quran for \"هل الإسلام يشجع على العنف؟\"\n",
      "Searching quran for \"الوحي في الإسلام\"\n",
      "Searching hadith for \"هل الوسواس القهري نتيجة وساوس الشيطان؟\"\n",
      "Searching hadith for \"تاريخ الشريعة\"\n",
      "Searching hadith for \"كيف نعرف أن الله موجود؟\"\n"
     ]
    },
    {
     "name": "stderr",
     "output_type": "stream",
     "text": [
      "Average Metric: 670 / 88  (761.4):  90%|████████▉ | 88/98 [00:28<00:02,  3.70it/s]"
     ]
    },
    {
     "name": "stdout",
     "output_type": "stream",
     "text": [
      "Searching hadith for \"هل يسمح الإسلام بالحرب الوقائية؟\"\n",
      "Searching quran for \"ما هي أهمية الحج؟\"\n",
      "Searching al-mawsuah for \"ما هي الأعياد التي يحتفل بها المسلمون؟\"\n",
      "Searching hadith for \"هل الإسلام يشجع على العنف؟\"\n",
      "Searching hadith for \"الوحي في الإسلام\"\n",
      "Searching al-mawsuah for \"هل الوسواس القهري نتيجة وساوس الشيطان؟\"\n",
      "Searching al-mawsuah for \"تاريخ الشريعة\"\n",
      "Searching al-mawsuah for \"كيف نعرف أن الله موجود؟\"\n"
     ]
    },
    {
     "name": "stderr",
     "output_type": "stream",
     "text": [
      "Average Metric: 676 / 89  (759.6):  91%|█████████ | 89/98 [00:29<00:03,  2.46it/s]"
     ]
    },
    {
     "name": "stdout",
     "output_type": "stream",
     "text": [
      "Searching al-mawsuah for \"هل يسمح الإسلام بالحرب الوقائية؟\"\n",
      "Searching hadith for \"ما هي أهمية الحج؟\"\n",
      "Searching quran for \"لماذا يطلب الله من الناس عبادته؟\"\n",
      "Searching al-mawsuah for \"الوحي في الإسلام\"\n",
      "Searching al-mawsuah for \"هل الإسلام يشجع على العنف؟\"\n"
     ]
    },
    {
     "name": "stderr",
     "output_type": "stream",
     "text": [
      "Average Metric: 694 / 91  (762.6):  92%|█████████▏| 90/98 [00:29<00:02,  2.79it/s]"
     ]
    },
    {
     "name": "stdout",
     "output_type": "stream",
     "text": [
      "Searching quran for \"هل يؤمن المسلمون بصلب عيسى؟\"\n"
     ]
    },
    {
     "name": "stderr",
     "output_type": "stream",
     "text": [
      "Average Metric: 724 / 95  (762.1):  96%|█████████▌| 94/98 [00:29<00:00,  4.24it/s]"
     ]
    },
    {
     "name": "stdout",
     "output_type": "stream",
     "text": [
      "Searching al-mawsuah for \"ما هي أهمية الحج؟\"\n",
      "Searching hadith for \"لماذا يطلب الله من الناس عبادته؟\"\n",
      "Searching hadith for \"هل ورد في الأحاديث أن المسلمين يؤمنون بصلب عيسى؟\"\n"
     ]
    },
    {
     "name": "stderr",
     "output_type": "stream",
     "text": [
      "Average Metric: 734 / 96  (764.6):  98%|█████████▊| 96/98 [00:30<00:00,  3.56it/s]"
     ]
    },
    {
     "name": "stdout",
     "output_type": "stream",
     "text": [
      "Searching al-mawsuah for \"لماذا يطلب الله من الناس عبادته؟\"\n",
      "Searching al-mawsuah for \"موقف الفقه الإسلامي من صلب عيسى\"\n"
     ]
    },
    {
     "name": "stderr",
     "output_type": "stream",
     "text": [
      "Average Metric: 748 / 98  (763.3): 100%|██████████| 98/98 [00:31<00:00,  3.08it/s]\n"
     ]
    },
    {
     "name": "stdout",
     "output_type": "stream",
     "text": [
      "Searching quran for \"أين الكعبة؟\"\n",
      "Searching quran for \"من يجب عليه أداء الحج؟\"\n",
      "Searching quran for \"هل يسمح الإسلام بجرائم الشرف؟\"\n",
      "Searching quran for \"هل يقدم القرآن توجيهات حول كيفية التعامل مع الصدمة والألم؟\"\n",
      "Searching quran for \"هل يصوم المسلمون خارج رمضان؟\"\n",
      "Searching quran for \"ما هي الفتوى؟\"\n",
      "Searching quran for \"ما معنى حلال؟\"\n",
      "Searching quran for \"هل الردة يعاقب عليها بالإعدام في الإسلام؟\"\n"
     ]
    },
    {
     "name": "stderr",
     "output_type": "stream",
     "text": [
      "  0%|          | 0/98 [00:00<?, ?it/s]"
     ]
    },
    {
     "name": "stdout",
     "output_type": "stream",
     "text": [
      "Searching hadith for \"هل توجد أحاديث تتعلق بجرائم الشرف؟\"\n",
      "Searching hadith for \"أين الكعبة؟\"\n",
      "Searching hadith for \"هل يصوم المسلمون خارج رمضان؟\"\n",
      "Searching hadith for \"ما معنى حلال؟\"\n",
      "Searching hadith for \"ما هي الفتوى؟\"\n",
      "Searching hadith for \"هل تقدم السنة النبوية توجيهات حول كيفية التعامل مع الصدمة والألم؟\"\n",
      "Searching hadith for \"من يجب عليه أداء الحج؟\"\n",
      "Searching hadith for \"هل يعاقب المرتد بالإعدام في الإسلام؟\"\n",
      "Searching al-mawsuah for \"ما هو حكم الفقه الإسلامي في جرائم الشرف؟\"\n",
      "Searching al-mawsuah for \"من يجب عليه أداء الحج؟\"\n",
      "Searching al-mawsuah for \"هل يصوم المسلمون خارج رمضان؟\"\n",
      "Searching al-mawsuah for \"أين الكعبة؟\"\n",
      "Searching al-mawsuah for \"ما هي الفتوى؟\"\n",
      "Searching al-mawsuah for \"ما معنى حلال؟\"\n",
      "Searching al-mawsuah for \"كيفية التعامل مع الصدمة والألم في الفقه الإسلامي\"\n",
      "Searching al-mawsuah for \"حكم الردة في الفقه الإسلامي\"\n"
     ]
    },
    {
     "name": "stderr",
     "output_type": "stream",
     "text": [
      "Average Metric: 54 / 7  (771.4):   6%|▌         | 6/98 [00:02<00:35,  2.56it/s]"
     ]
    },
    {
     "name": "stdout",
     "output_type": "stream",
     "text": [
      "Searching quran for \"ما هو رمضان؟\"\n",
      "Searching quran for \"هل الإسلام يشجع على العنف؟\"\n",
      "Searching quran for \"هل يسمح الإسلام بالحرب الوقائية؟\"\n",
      "Searching quran for \"كيف يصف القرآن السعادة؟ كيف يمكن تحقيقها في الإسلام؟\"\n",
      "Searching quran for \"أهمية ليلة القدر\"\n",
      "Searching quran for \"هل يوفر الإسلام إرشادات حول كيفية التعامل مع الأمراض النفسية؟\"\n",
      "Searching quran for \"ما هو رمضان؟\"\n"
     ]
    },
    {
     "name": "stderr",
     "output_type": "stream",
     "text": [
      "Average Metric: 64 / 8  (800.0):   8%|▊         | 8/98 [00:02<00:20,  4.37it/s]"
     ]
    },
    {
     "name": "stdout",
     "output_type": "stream",
     "text": [
      "Searching quran for \"لماذا يصلي المسلمون يوميا؟\"\n",
      "Searching hadith for \"ما هو رمضان؟\"\n",
      "Searching hadith for \"هل يسمح الإسلام بالحرب الوقائية؟\"\n",
      "Searching hadith for \"هل الإسلام يشجع على العنف؟\"\n",
      "Searching hadith for \"ما هو رمضان؟\"\n",
      "Searching hadith for \"هل هناك أحاديث تتحدث عن كيفية التعامل مع الأمراض النفسية؟\"\n",
      "Searching hadith for \"فضل ليلة القدر\"\n",
      "Searching hadith for \"لماذا يصلي المسلمون يوميا؟\"\n",
      "Searching hadith for \"كيف يصف الحديث السعادة؟ كيف يمكن تحقيقها في الإسلام؟\"\n",
      "Searching al-mawsuah for \"ما هو رمضان؟\"\n",
      "Searching al-mawsuah for \"هل الإسلام يشجع على العنف؟\"\n",
      "Searching al-mawsuah for \"ما هو رمضان؟\"\n",
      "Searching al-mawsuah for \"هل يسمح الإسلام بالحرب الوقائية؟\"\n",
      "Searching al-mawsuah for \"إرشادات الفقه الإسلامي حول التعامل مع الأمراض النفسية\"\n",
      "Searching al-mawsuah for \"أهمية ليلة القدر في الفقه الإسلامي\"\n",
      "Searching al-mawsuah for \"السعادة في الفقه الإسلامي وكيفية تحقيقها\"\n",
      "Searching al-mawsuah for \"لماذا يصلي المسلمون يوميا؟\"\n"
     ]
    },
    {
     "name": "stderr",
     "output_type": "stream",
     "text": [
      "Average Metric: 74 / 10  (740.0):  10%|█         | 10/98 [00:04<00:42,  2.07it/s]"
     ]
    },
    {
     "name": "stdout",
     "output_type": "stream",
     "text": [
      "Searching quran for \"كيف تصوم رمضان؟\"\n",
      "Searching quran for \"كيف نعلم أن القرآن وحي إلهي؟\"\n"
     ]
    },
    {
     "name": "stderr",
     "output_type": "stream",
     "text": [
      "Average Metric: 114 / 16  (712.5):  15%|█▌        | 15/98 [00:05<00:22,  3.65it/s]"
     ]
    },
    {
     "name": "stdout",
     "output_type": "stream",
     "text": [
      "Searching quran for \"هل التجديف يعاقب عليه بالإعدام؟\"\n",
      "Searching quran for \"من يجب عليه الصيام في رمضان؟\"\n",
      "Searching quran for \"ما هو الغرض من الصيام في رمضان؟\"\n",
      "Searching quran for \"مدة الصيام في رمضان\"\n",
      "Searching quran for \"ماذا يقدم الإسلام للناس؟\"\n",
      "Searching quran for \"كيف يُساء تفسير الجهاد كإرهاب؟\"\n",
      "Searching hadith for \"كيف تصوم رمضان؟\"\n",
      "Searching hadith for \"كيف نعلم أن القرآن وحي إلهي؟\"\n",
      "Searching hadith for \"هل التجديف يعاقب عليه بالإعدام؟\"\n",
      "Searching hadith for \"من يجب عليه الصيام في رمضان؟\"\n",
      "Searching hadith for \"ما هو الغرض من الصيام في رمضان؟\"\n",
      "Searching hadith for \"كيف يُساء تفسير الجهاد كإرهاب؟\"\n",
      "Searching hadith for \"ماذا يقدم الإسلام للناس؟\"\n",
      "Searching hadith for \"مدة الصيام في رمضان\"\n",
      "Searching al-mawsuah for \"كيف تصوم رمضان؟\"\n",
      "Searching al-mawsuah for \"كيف نعلم أن القرآن وحي إلهي؟\"\n",
      "Searching al-mawsuah for \"من يجب عليه الصيام في رمضان؟\"\n",
      "Searching al-mawsuah for \"ما هو الغرض من الصيام في رمضان؟\"\n",
      "Searching al-mawsuah for \"هل التجديف يعاقب عليه بالإعدام؟\"\n",
      "Searching al-mawsuah for \"كيف يُساء تفسير الجهاد كإرهاب؟\"\n",
      "Searching al-mawsuah for \"مدة الصيام في رمضان\"\n",
      "Searching al-mawsuah for \"ماذا يقدم الإسلام للناس؟\"\n"
     ]
    },
    {
     "name": "stderr",
     "output_type": "stream",
     "text": [
      "Average Metric: 132 / 18  (733.3):  17%|█▋        | 17/98 [00:07<00:34,  2.38it/s]"
     ]
    },
    {
     "name": "stdout",
     "output_type": "stream",
     "text": [
      "Searching quran for \"كيف يُساء تفسير الجهاد كإرهاب؟\"\n",
      "Searching quran for \"أركان الإسلام الخمسة\"\n"
     ]
    },
    {
     "name": "stderr",
     "output_type": "stream",
     "text": [
      "Average Metric: 176 / 23  (765.2):  22%|██▏       | 22/98 [00:07<00:23,  3.19it/s]"
     ]
    },
    {
     "name": "stdout",
     "output_type": "stream",
     "text": [
      "Searching quran for \"كيف يعامل الإسلام الأقليات الدينية؟\"\n",
      "Searching quran for \"ليلة القدر\"\n",
      "Searching quran for \"هل يؤمن المسلمون بالروح القدس؟\"\n",
      "Searching quran for \"من هو الله\"\n",
      "Searching quran for \"هل يؤمن المسلمون بالجنة والنار؟\"\n"
     ]
    },
    {
     "name": "stderr",
     "output_type": "stream",
     "text": [
      "Average Metric: 182 / 24  (758.3):  24%|██▍       | 24/98 [00:07<00:13,  5.69it/s]"
     ]
    },
    {
     "name": "stdout",
     "output_type": "stream",
     "text": [
      "Searching quran for \"ما معنى الجهاد؟\"\n",
      "Searching hadith for \"كيف يُساء تفسير الجهاد كإرهاب؟\"\n",
      "Searching hadith for \"أركان الإسلام الخمسة\"\n",
      "Searching hadith for \"معاملة الإسلام للأقليات الدينية\"\n",
      "Searching hadith for \"هل ذكر الروح القدس في الأحاديث؟\"\n",
      "Searching hadith for \"ما هي ليلة القدر\"\n",
      "Searching hadith for \"هل ذكر النبي الجنة والنار؟\"\n",
      "Searching hadith for \"من هو الله\"\n",
      "Searching hadith for \"ما معنى الجهاد؟\"\n",
      "Searching al-mawsuah for \"كيف يُساء تفسير الجهاد كإرهاب؟\"\n",
      "Searching al-mawsuah for \"أركان الإسلام الخمسة\"\n",
      "Searching al-mawsuah for \"معاملة الأقليات الدينية في الفقه الإسلامي\"\n",
      "Searching al-mawsuah for \"ليلة القدر في الفقه الإسلامي\"\n",
      "Searching al-mawsuah for \"الإيمان بالروح القدس في الفقه الإسلامي\"\n",
      "Searching al-mawsuah for \"الإيمان بالجنة والنار في الفقه الإسلامي\"\n",
      "Searching al-mawsuah for \"ما معنى الجهاد؟\"\n",
      "Searching al-mawsuah for \"من هو الله\"\n"
     ]
    },
    {
     "name": "stderr",
     "output_type": "stream",
     "text": [
      "Average Metric: 198 / 26  (761.5):  27%|██▋       | 26/98 [00:09<00:26,  2.76it/s]"
     ]
    },
    {
     "name": "stdout",
     "output_type": "stream",
     "text": [
      "Searching quran for \"أين يحدث الحج؟\"\n",
      "Searching quran for \"أحكام الحرب في الإسلام\"\n"
     ]
    },
    {
     "name": "stderr",
     "output_type": "stream",
     "text": [
      "Average Metric: 234 / 30  (780.0):  30%|██▉       | 29/98 [00:10<00:20,  3.40it/s]"
     ]
    },
    {
     "name": "stdout",
     "output_type": "stream",
     "text": [
      "Searching quran for \"متى ليلة القدر؟\"\n",
      "Searching quran for \"كم مرة يصلي المسلمون خلال رمضان؟\"\n",
      "Searching quran for \"لماذا الكعبة مهمة؟\"\n",
      "Searching quran for \"لماذا يجب على المسلمين الصيام لمدة شهر كامل؟\"\n"
     ]
    },
    {
     "name": "stderr",
     "output_type": "stream",
     "text": [
      "Average Metric: 250 / 32  (781.2):  32%|███▏      | 31/98 [00:10<00:19,  3.40it/s]"
     ]
    },
    {
     "name": "stdout",
     "output_type": "stream",
     "text": [
      "Searching quran for \"كيف يمكن فهم والتعامل مع الحزن والأسى في الإسلام؟\"\n",
      "Searching quran for \"كيف يمكن للمرء أن يطهر قلبه وروحه؟\"\n",
      "Searching hadith for \"أين يحدث الحج؟\"\n",
      "Searching hadith for \"أحاديث عن أحكام الحرب في الإسلام\"\n",
      "Searching hadith for \"كم مرة يصلي المسلمون خلال رمضان؟\"\n",
      "Searching hadith for \"متى ليلة القدر؟\"\n",
      "Searching hadith for \"لماذا الكعبة مهمة؟\"\n",
      "Searching hadith for \"لماذا يجب على المسلمين الصيام لمدة شهر كامل؟\"\n",
      "Searching hadith for \"كيف يمكن فهم والتعامل مع الحزن والأسى في الإسلام؟\"\n",
      "Searching hadith for \"كيف يمكن للمرء أن يطهر قلبه وروحه؟\"\n",
      "Searching al-mawsuah for \"أين يحدث الحج؟\"\n",
      "Searching al-mawsuah for \"أحكام الحرب في الفقه الإسلامي\"\n",
      "Searching al-mawsuah for \"متى ليلة القدر؟\"\n",
      "Searching al-mawsuah for \"كم مرة يصلي المسلمون خلال رمضان؟\"\n",
      "Searching al-mawsuah for \"لماذا يجب على المسلمين الصيام لمدة شهر كامل؟\"\n"
     ]
    },
    {
     "name": "stderr",
     "output_type": "stream",
     "text": [
      "Average Metric: 262 / 33  (793.9):  34%|███▎      | 33/98 [00:11<00:23,  2.74it/s]"
     ]
    },
    {
     "name": "stdout",
     "output_type": "stream",
     "text": [
      "Searching al-mawsuah for \"أهمية الكعبة في الفقه الإسلامي\"\n",
      "Searching al-mawsuah for \"كيف يمكن فهم والتعامل مع الحزن والأسى في الإسلام؟\"\n",
      "Searching al-mawsuah for \"كيف يمكن للمرء أن يطهر قلبه وروحه؟\"\n",
      "Searching quran for \"ما هي الكعبة؟\"\n"
     ]
    },
    {
     "name": "stderr",
     "output_type": "stream",
     "text": [
      "Average Metric: 274 / 34  (805.9):  35%|███▍      | 34/98 [00:11<00:21,  2.92it/s]"
     ]
    },
    {
     "name": "stdout",
     "output_type": "stream",
     "text": [
      "Searching quran for \"من هو النبي محمد؟\"\n"
     ]
    },
    {
     "name": "stderr",
     "output_type": "stream",
     "text": [
      "Average Metric: 298 / 37  (805.4):  38%|███▊      | 37/98 [00:12<00:14,  4.18it/s]"
     ]
    },
    {
     "name": "stdout",
     "output_type": "stream",
     "text": [
      "Searching quran for \"ما هي التزكية؟\"\n",
      "Searching quran for \"أحكام الحرب في الإسلام\"\n",
      "Searching quran for \"ما الذي يعلمه الإسلام عن إدارة القلق والاكتئاب والشك الذاتي؟\"\n"
     ]
    },
    {
     "name": "stderr",
     "output_type": "stream",
     "text": [
      "Average Metric: 320 / 40  (800.0):  40%|███▉      | 39/98 [00:12<00:13,  4.30it/s]"
     ]
    },
    {
     "name": "stdout",
     "output_type": "stream",
     "text": [
      "Searching quran for \"أين تؤدى العمرة؟\"\n",
      "Searching quran for \"كيف تكون الروحانية الإسلامية فريدة؟\"\n",
      "Searching quran for \"كيف يفهم الإسلام الروح\"\n",
      "Searching hadith for \"ما هي الكعبة؟\"\n",
      "Searching hadith for \"من هو النبي محمد؟\"\n",
      "Searching hadith for \"ما هي التزكية؟\"\n",
      "Searching hadith for \"أحاديث عن أحكام الحرب في الإسلام\"\n",
      "Searching hadith for \"ما الذي يعلمه الإسلام عن إدارة القلق والاكتئاب والشك الذاتي؟\"\n",
      "Searching hadith for \"كيف تكون الروحانية الإسلامية فريدة؟\"\n",
      "Searching hadith for \"فهم الروح في الإسلام\"\n",
      "Searching al-mawsuah for \"ما هي الكعبة؟\"\n",
      "Searching hadith for \"أين تؤدى العمرة؟\"\n",
      "Searching al-mawsuah for \"من هو النبي محمد؟\"\n",
      "Searching al-mawsuah for \"ما هي التزكية؟\"\n",
      "Searching al-mawsuah for \"أحكام الحرب في الفقه الإسلامي\"\n",
      "Searching al-mawsuah for \"ما الذي يعلمه الإسلام عن إدارة القلق والاكتئاب والشك الذاتي؟\"\n"
     ]
    },
    {
     "name": "stderr",
     "output_type": "stream",
     "text": [
      "Average Metric: 326 / 41  (795.1):  42%|████▏     | 41/98 [00:14<00:22,  2.57it/s]"
     ]
    },
    {
     "name": "stdout",
     "output_type": "stream",
     "text": [
      "Searching al-mawsuah for \"كيف تكون الروحانية الإسلامية فريدة؟\"\n",
      "Searching quran for \"من هو عيسى في الإسلام؟\"\n",
      "Searching al-mawsuah for \"الروح في الفقه الإسلامي\"\n"
     ]
    },
    {
     "name": "stderr",
     "output_type": "stream",
     "text": [
      "Average Metric: 342 / 43  (795.3):  43%|████▎     | 42/98 [00:14<00:20,  2.70it/s]"
     ]
    },
    {
     "name": "stdout",
     "output_type": "stream",
     "text": [
      "Searching quran for \"ما هو الإسلام؟\"\n",
      "Searching quran for \"متى رمضان؟\"\n"
     ]
    },
    {
     "name": "stderr",
     "output_type": "stream",
     "text": [
      "Average Metric: 364 / 46  (791.3):  47%|████▋     | 46/98 [00:15<00:12,  4.27it/s]"
     ]
    },
    {
     "name": "stdout",
     "output_type": "stream",
     "text": [
      "Searching quran for \"كيف يعامل الإسلام الأقليات الدينية؟\"\n",
      "Searching quran for \"كيف تتعلق الشريعة بطقوس العبادة؟\"\n",
      "Searching al-mawsuah for \"أين تؤدى العمرة؟\"\n",
      "Searching quran for \"هل انتشر الإسلام بالعنف والإكراه؟\"\n"
     ]
    },
    {
     "name": "stderr",
     "output_type": "stream",
     "text": [
      "Average Metric: 374 / 47  (795.7):  48%|████▊     | 47/98 [00:15<00:10,  4.76it/s]"
     ]
    },
    {
     "name": "stdout",
     "output_type": "stream",
     "text": [
      "Searching quran for \"لماذا يتم الاحتفال بشهر رمضان؟\"\n",
      "Searching hadith for \"من هو عيسى في الأحاديث؟\"\n",
      "Searching hadith for \"متى رمضان؟\"\n",
      "Searching hadith for \"ما هو الإسلام؟\"\n"
     ]
    },
    {
     "name": "stderr",
     "output_type": "stream",
     "text": [
      "Average Metric: 382 / 48  (795.8):  49%|████▉     | 48/98 [00:15<00:15,  3.33it/s]"
     ]
    },
    {
     "name": "stdout",
     "output_type": "stream",
     "text": [
      "Searching hadith for \"معاملة الإسلام للأقليات الدينية\"\n",
      "Searching hadith for \"كيف تتعلق الشريعة بطقوس العبادة؟\"\n",
      "Searching quran for \"من هو النبي إبراهيم؟\"\n",
      "Searching hadith for \"هل انتشر الإسلام بالعنف والإكراه؟\"\n",
      "Searching hadith for \"لماذا يتم الاحتفال بشهر رمضان؟\"\n",
      "Searching al-mawsuah for \"من هو عيسى في الفقه الإسلامي؟\"\n",
      "Searching al-mawsuah for \"ما هو الإسلام؟\"\n",
      "Searching al-mawsuah for \"متى رمضان؟\"\n",
      "Searching al-mawsuah for \"معاملة الأقليات الدينية في الفقه الإسلامي\"\n",
      "Searching al-mawsuah for \"كيف تتعلق الشريعة بطقوس العبادة؟\"\n",
      "Searching al-mawsuah for \"هل انتشر الإسلام بالعنف والإكراه؟\"\n",
      "Searching hadith for \"من هو النبي إبراهيم؟\"\n",
      "Searching al-mawsuah for \"لماذا يتم الاحتفال بشهر رمضان؟\"\n"
     ]
    },
    {
     "name": "stderr",
     "output_type": "stream",
     "text": [
      "Average Metric: 398 / 51  (780.4):  52%|█████▏    | 51/98 [00:17<00:14,  3.14it/s]"
     ]
    },
    {
     "name": "stdout",
     "output_type": "stream",
     "text": [
      "Searching quran for \"ما هو زكاة الفطر؟\"\n",
      "Searching quran for \"هل يسمح الإسلام بقتل المدنيين؟\"\n",
      "Searching quran for \"ما هو الفقه؟\"\n"
     ]
    },
    {
     "name": "stderr",
     "output_type": "stream",
     "text": [
      "Average Metric: 428 / 54  (792.6):  55%|█████▌    | 54/98 [00:17<00:08,  5.14it/s]"
     ]
    },
    {
     "name": "stdout",
     "output_type": "stream",
     "text": [
      "Searching quran for \"كيف تتعلق الشريعة بالمجتمع؟\"\n",
      "Searching quran for \"أهمية الصدقة في رمضان\"\n",
      "Searching quran for \"القيود الغذائية في الإسلام\"\n"
     ]
    },
    {
     "name": "stderr",
     "output_type": "stream",
     "text": [
      "Average Metric: 436 / 55  (792.7):  55%|█████▌    | 54/98 [00:17<00:08,  5.14it/s]"
     ]
    },
    {
     "name": "stdout",
     "output_type": "stream",
     "text": [
      "Searching quran for \"ما هو القرآن؟\"\n",
      "Searching al-mawsuah for \"من هو النبي إبراهيم؟\"\n",
      "Searching hadith for \"ما هو زكاة الفطر؟\"\n",
      "Searching hadith for \"هل يسمح الإسلام بقتل المدنيين؟\"\n",
      "Searching hadith for \"ما هو الفقه؟\"\n",
      "Searching hadith for \"كيف تتعلق الشريعة بالمجتمع؟\"\n",
      "Searching hadith for \"فضل الصدقة في رمضان\"\n",
      "Searching hadith for \"القيود الغذائية في الإسلام\"\n"
     ]
    },
    {
     "name": "stderr",
     "output_type": "stream",
     "text": [
      "Average Metric: 442 / 56  (789.3):  57%|█████▋    | 56/98 [00:18<00:14,  2.99it/s]"
     ]
    },
    {
     "name": "stdout",
     "output_type": "stream",
     "text": [
      "Searching hadith for \"ما هو القرآن؟\"\n",
      "Searching al-mawsuah for \"ما هو زكاة الفطر؟\"\n",
      "Searching quran for \"من بنى الكعبة؟\"\n",
      "Searching al-mawsuah for \"هل يسمح الإسلام بقتل المدنيين؟\"\n",
      "Searching al-mawsuah for \"ما هو الفقه؟\"\n",
      "Searching al-mawsuah for \"الصدقة في رمضان\"\n",
      "Searching al-mawsuah for \"كيف تتعلق الشريعة بالمجتمع؟\"\n",
      "Searching al-mawsuah for \"ما هو القرآن؟\"\n",
      "Searching al-mawsuah for \"القيود الغذائية في الإسلام\"\n"
     ]
    },
    {
     "name": "stderr",
     "output_type": "stream",
     "text": [
      "Average Metric: 452 / 58  (779.3):  58%|█████▊    | 57/98 [00:19<00:16,  2.42it/s]"
     ]
    },
    {
     "name": "stdout",
     "output_type": "stream",
     "text": [
      "Searching quran for \"من أين تأتي الشريعة؟\"\n",
      "Searching quran for \"كيف يغذي الإسلام رفاهنا العاطفي؟\"\n",
      "Searching hadith for \"من بنى الكعبة؟\"\n"
     ]
    },
    {
     "name": "stderr",
     "output_type": "stream",
     "text": [
      "Average Metric: 476 / 61  (780.3):  62%|██████▏   | 61/98 [00:19<00:08,  4.20it/s]"
     ]
    },
    {
     "name": "stdout",
     "output_type": "stream",
     "text": [
      "Searching quran for \"كيفية أداء العمرة\"\n",
      "Searching quran for \"آيات القرآن للتعامل مع الضيق والشدائد\"\n",
      "Searching quran for \"هل يقول القرآن بقتل غير المؤمنين؟\"\n"
     ]
    },
    {
     "name": "stderr",
     "output_type": "stream",
     "text": [
      "Average Metric: 496 / 63  (787.3):  63%|██████▎   | 62/98 [00:19<00:07,  4.58it/s]"
     ]
    },
    {
     "name": "stdout",
     "output_type": "stream",
     "text": [
      "Searching quran for \"هل التجديف يعاقب عليه بالإعدام؟\"\n",
      "Searching quran for \"هل يسمح الإسلام بقتل المدنيين؟\"\n",
      "Searching hadith for \"من أين تأتي الشريعة؟\"\n",
      "Searching hadith for \"كيف يغذي الإسلام رفاهنا العاطفي؟\"\n",
      "Searching al-mawsuah for \"من بنى الكعبة؟\"\n",
      "Searching hadith for \"كيفية أداء العمرة\"\n",
      "Searching hadith for \"أحاديث عن التعامل مع الضيق والشدائد\"\n",
      "Searching hadith for \"هل يوجد حديث يأمر بقتل غير المؤمنين؟\"\n",
      "Searching hadith for \"هل التجديف يعاقب عليه بالإعدام؟\"\n",
      "Searching hadith for \"هل يسمح الإسلام بقتل المدنيين؟\"\n"
     ]
    },
    {
     "name": "stderr",
     "output_type": "stream",
     "text": [
      "Average Metric: 504 / 64  (787.5):  65%|██████▌   | 64/98 [00:21<00:12,  2.80it/s]"
     ]
    },
    {
     "name": "stdout",
     "output_type": "stream",
     "text": [
      "Searching al-mawsuah for \"مصادر الشريعة الإسلامية\"\n",
      "Searching al-mawsuah for \"كيف يغذي الإسلام رفاهنا العاطفي؟\"\n",
      "Searching al-mawsuah for \"كيفية أداء العمرة\"\n",
      "Searching quran for \"ما معنى الإسلام؟\"\n",
      "Searching al-mawsuah for \"أحكام الفقه الإسلامي حول التعامل مع الضيق والشدائد\"\n",
      "Searching al-mawsuah for \"ما هو حكم قتل غير المؤمنين في الفقه الإسلامي؟\"\n",
      "Searching al-mawsuah for \"هل يسمح الإسلام بقتل المدنيين؟\"\n",
      "Searching al-mawsuah for \"هل التجديف يعاقب عليه بالإعدام؟\"\n"
     ]
    },
    {
     "name": "stderr",
     "output_type": "stream",
     "text": [
      "Average Metric: 522 / 67  (779.1):  68%|██████▊   | 67/98 [00:21<00:08,  3.48it/s]"
     ]
    },
    {
     "name": "stdout",
     "output_type": "stream",
     "text": [
      "Searching quran for \"ما هو عيد الفطر؟\"\n",
      "Searching quran for \"لماذا الحج مهم؟\"\n",
      "Searching quran for \"كيفية أداء الحج\"\n",
      "Searching hadith for \"ما معنى الإسلام في الحديث؟\"\n"
     ]
    },
    {
     "name": "stderr",
     "output_type": "stream",
     "text": [
      "Average Metric: 544 / 70  (777.1):  70%|███████   | 69/98 [00:22<00:06,  4.33it/s]"
     ]
    },
    {
     "name": "stdout",
     "output_type": "stream",
     "text": [
      "Searching quran for \"هل يقول القرآن بقتل غير المؤمنين؟\"\n",
      "Searching quran for \"هل هناك استثناءات أو إعفاءات من الصيام؟\"\n",
      "Searching quran for \"ما هي العمرة؟\"\n"
     ]
    },
    {
     "name": "stderr",
     "output_type": "stream",
     "text": [
      "Average Metric: 552 / 71  (777.5):  72%|███████▏  | 71/98 [00:22<00:04,  5.61it/s]"
     ]
    },
    {
     "name": "stdout",
     "output_type": "stream",
     "text": [
      "Searching quran for \"هل انتشر الإسلام بالعنف والإكراه؟\"\n",
      "Searching hadith for \"أهمية الحج في الأحاديث\"\n",
      "Searching hadith for \"ما هو عيد الفطر؟\"\n",
      "Searching hadith for \"كيفية أداء الحج\"\n",
      "Searching al-mawsuah for \"ما هو تعريف الإسلام في الفقه الإسلامي؟\"\n",
      "Searching hadith for \"هل يوجد حديث يأمر بقتل غير المؤمنين؟\"\n",
      "Searching hadith for \"ما هي العمرة؟\"\n",
      "Searching hadith for \"هل هناك استثناءات أو إعفاءات من الصيام؟\"\n",
      "Searching hadith for \"هل انتشر الإسلام بالعنف والإكراه؟\"\n",
      "Searching al-mawsuah for \"كيفية أداء الحج\"\n",
      "Searching al-mawsuah for \"ما هو عيد الفطر؟\"\n",
      "Searching al-mawsuah for \"أهمية الحج في الفقه الإسلامي\"\n",
      "Searching al-mawsuah for \"ما هو حكم قتل غير المؤمنين في الفقه الإسلامي؟\"\n"
     ]
    },
    {
     "name": "stderr",
     "output_type": "stream",
     "text": [
      "Average Metric: 560 / 72  (777.8):  73%|███████▎  | 72/98 [00:23<00:11,  2.33it/s]"
     ]
    },
    {
     "name": "stdout",
     "output_type": "stream",
     "text": [
      "Searching quran for \"هل العمرة والحج نفس الشيء؟\"\n",
      "Searching al-mawsuah for \"ما هي العمرة؟\"\n",
      "Searching al-mawsuah for \"هل انتشر الإسلام بالعنف والإكراه؟\"\n",
      "Searching al-mawsuah for \"هل هناك استثناءات أو إعفاءات من الصيام؟\"\n"
     ]
    },
    {
     "name": "stderr",
     "output_type": "stream",
     "text": [
      "Average Metric: 576 / 75  (768.0):  77%|███████▋  | 75/98 [00:24<00:06,  3.45it/s]"
     ]
    },
    {
     "name": "stdout",
     "output_type": "stream",
     "text": [
      "Searching quran for \"ماذا يؤمن المسلمون؟\"\n",
      "Searching quran for \"هل الشريعة موحدة وغير متغيرة؟\"\n",
      "Searching quran for \"ما هي الصدقة؟\"\n"
     ]
    },
    {
     "name": "stderr",
     "output_type": "stream",
     "text": [
      "Average Metric: 590 / 77  (766.2):  78%|███████▊  | 76/98 [00:24<00:05,  3.87it/s]"
     ]
    },
    {
     "name": "stdout",
     "output_type": "stream",
     "text": [
      "Searching quran for \"صلاة التراويح\"\n",
      "Searching hadith for \"هل العمرة والحج نفس الشيء؟\"\n",
      "Searching quran for \"ما هو التوحيد؟\"\n"
     ]
    },
    {
     "name": "stderr",
     "output_type": "stream",
     "text": [
      "Average Metric: 612 / 79  (774.7):  81%|████████  | 79/98 [00:24<00:03,  5.46it/s]"
     ]
    },
    {
     "name": "stdout",
     "output_type": "stream",
     "text": [
      "Searching quran for \"ما معنى الجهاد؟\"\n",
      "Searching quran for \"كيف يتناول الإسلام القدر والإرادة الحرة؟\"\n",
      "Searching hadith for \"ماذا يؤمن المسلمون؟\"\n",
      "Searching hadith for \"هل الشريعة موحدة وغير متغيرة؟\"\n",
      "Searching hadith for \"ما هي الصدقة؟\"\n",
      "Searching al-mawsuah for \"هل العمرة والحج نفس الشيء؟\"\n",
      "Searching hadith for \"صلاة التراويح\"\n",
      "Searching hadith for \"ما هو التوحيد؟\"\n",
      "Searching hadith for \"ما معنى الجهاد؟\"\n",
      "Searching hadith for \"كيف يتناول الإسلام القدر والإرادة الحرة؟\"\n"
     ]
    },
    {
     "name": "stderr",
     "output_type": "stream",
     "text": [
      "Average Metric: 620 / 80  (775.0):  82%|████████▏ | 80/98 [00:25<00:07,  2.56it/s]"
     ]
    },
    {
     "name": "stdout",
     "output_type": "stream",
     "text": [
      "Searching al-mawsuah for \"ماذا يؤمن المسلمون؟\"\n",
      "Searching al-mawsuah for \"ما هي الصدقة؟\"\n",
      "Searching al-mawsuah for \"هل الشريعة موحدة وغير متغيرة؟\"\n",
      "Searching quran for \"الطلاق في الإسلام\"\n",
      "Searching al-mawsuah for \"صلاة التراويح\"\n",
      "Searching al-mawsuah for \"ما معنى الجهاد؟\"\n",
      "Searching al-mawsuah for \"ما هو التوحيد؟\"\n",
      "Searching al-mawsuah for \"كيف يتناول الإسلام القدر والإرادة الحرة؟\"\n"
     ]
    },
    {
     "name": "stderr",
     "output_type": "stream",
     "text": [
      "Average Metric: 638 / 83  (768.7):  85%|████████▍ | 83/98 [00:26<00:04,  3.44it/s]"
     ]
    },
    {
     "name": "stdout",
     "output_type": "stream",
     "text": [
      "Searching quran for \"ما هي الأعياد التي يحتفل بها المسلمون؟\"\n",
      "Searching quran for \"هل الوسواس القهري نتيجة وساوس الشيطان؟\"\n",
      "Searching quran for \"كيف نعرف أن الله موجود؟\"\n",
      "Searching hadith for \"حديث عن الطلاق\"\n"
     ]
    },
    {
     "name": "stderr",
     "output_type": "stream",
     "text": [
      "Average Metric: 644 / 84  (766.7):  86%|████████▌ | 84/98 [00:26<00:03,  3.89it/s]"
     ]
    },
    {
     "name": "stdout",
     "output_type": "stream",
     "text": [
      "Searching quran for \"تاريخ الشريعة\"\n"
     ]
    },
    {
     "name": "stderr",
     "output_type": "stream",
     "text": [
      "Average Metric: 662 / 87  (760.9):  88%|████████▊ | 86/98 [00:27<00:02,  4.51it/s]"
     ]
    },
    {
     "name": "stdout",
     "output_type": "stream",
     "text": [
      "Searching quran for \"هل يسمح الإسلام بالحرب الوقائية؟\"\n",
      "Searching quran for \"الوحي في الإسلام\"\n",
      "Searching quran for \"هل الإسلام يشجع على العنف؟\"\n",
      "Searching hadith for \"هل الوسواس القهري نتيجة وساوس الشيطان؟\"\n",
      "Searching hadith for \"ما هي الأعياد التي يحتفل بها المسلمون؟\"\n",
      "Searching al-mawsuah for \"الطلاق في الفقه الإسلامي\"\n",
      "Searching hadith for \"كيف نعرف أن الله موجود؟\"\n",
      "Searching hadith for \"تاريخ الشريعة\"\n",
      "Searching hadith for \"هل يسمح الإسلام بالحرب الوقائية؟\"\n",
      "Searching hadith for \"هل الإسلام يشجع على العنف؟\"\n",
      "Searching hadith for \"الوحي في الإسلام\"\n"
     ]
    },
    {
     "name": "stderr",
     "output_type": "stream",
     "text": [
      "Average Metric: 670 / 88  (761.4):  90%|████████▉ | 88/98 [00:28<00:03,  2.57it/s]"
     ]
    },
    {
     "name": "stdout",
     "output_type": "stream",
     "text": [
      "Searching al-mawsuah for \"ما هي الأعياد التي يحتفل بها المسلمون؟\"\n",
      "Searching al-mawsuah for \"هل الوسواس القهري نتيجة وساوس الشيطان؟\"\n",
      "Searching al-mawsuah for \"تاريخ الشريعة\"\n",
      "Searching al-mawsuah for \"كيف نعرف أن الله موجود؟\"\n",
      "Searching quran for \"ما هي أهمية الحج؟\"\n",
      "Searching al-mawsuah for \"هل يسمح الإسلام بالحرب الوقائية؟\"\n",
      "Searching al-mawsuah for \"هل الإسلام يشجع على العنف؟\"\n",
      "Searching al-mawsuah for \"الوحي في الإسلام\"\n"
     ]
    },
    {
     "name": "stderr",
     "output_type": "stream",
     "text": [
      "Average Metric: 694 / 91  (762.6):  92%|█████████▏| 90/98 [00:29<00:03,  2.32it/s]"
     ]
    },
    {
     "name": "stdout",
     "output_type": "stream",
     "text": [
      "Searching quran for \"لماذا يطلب الله من الناس عبادته؟\"\n",
      "Searching quran for \"هل يؤمن المسلمون بصلب عيسى؟\"\n"
     ]
    },
    {
     "name": "stderr",
     "output_type": "stream",
     "text": [
      "Average Metric: 708 / 93  (761.3):  95%|█████████▍| 93/98 [00:29<00:01,  4.09it/s]"
     ]
    },
    {
     "name": "stdout",
     "output_type": "stream",
     "text": [
      "Searching hadith for \"ما هي أهمية الحج؟\"\n"
     ]
    },
    {
     "name": "stderr",
     "output_type": "stream",
     "text": [
      "Average Metric: 724 / 95  (762.1):  96%|█████████▌| 94/98 [00:29<00:00,  4.50it/s]"
     ]
    },
    {
     "name": "stdout",
     "output_type": "stream",
     "text": [
      "Searching hadith for \"هل ورد في الأحاديث أن المسلمين يؤمنون بصلب عيسى؟\"\n",
      "Searching hadith for \"لماذا يطلب الله من الناس عبادته؟\"\n",
      "Searching al-mawsuah for \"ما هي أهمية الحج؟\"\n"
     ]
    },
    {
     "name": "stderr",
     "output_type": "stream",
     "text": [
      "Average Metric: 734 / 96  (764.6):  98%|█████████▊| 96/98 [00:30<00:00,  2.63it/s]"
     ]
    },
    {
     "name": "stdout",
     "output_type": "stream",
     "text": [
      "Searching al-mawsuah for \"لماذا يطلب الله من الناس عبادته؟\"\n",
      "Searching al-mawsuah for \"موقف الفقه الإسلامي من صلب عيسى\"\n"
     ]
    },
    {
     "name": "stderr",
     "output_type": "stream",
     "text": [
      "Average Metric: 748 / 98  (763.3): 100%|██████████| 98/98 [00:31<00:00,  3.10it/s]\n"
     ]
    },
    {
     "name": "stdout",
     "output_type": "stream",
     "text": [
      "Searching quran for \"أين الكعبة؟\"\n",
      "Searching quran for \"هل يسمح الإسلام بجرائم الشرف؟\"\n",
      "Searching quran for \"من يجب عليه أداء الحج؟\"\n",
      "Searching quran for \"هل يقدم القرآن توجيهات حول كيفية التعامل مع الصدمة والألم؟\"\n",
      "Searching quran for \"هل يصوم المسلمون خارج رمضان؟\"\n",
      "Searching quran for \"ما هي الفتوى؟\"\n",
      "Searching quran for \"ما معنى حلال؟\"\n",
      "Searching quran for \"هل الردة يعاقب عليها بالإعدام في الإسلام؟\"\n"
     ]
    },
    {
     "name": "stderr",
     "output_type": "stream",
     "text": [
      "  0%|          | 0/98 [00:00<?, ?it/s]"
     ]
    },
    {
     "name": "stdout",
     "output_type": "stream",
     "text": [
      "Searching hadith for \"هل توجد أحاديث تتعلق بجرائم الشرف؟\"\n",
      "Searching hadith for \"ما معنى حلال؟\"\n",
      "Searching hadith for \"من يجب عليه أداء الحج؟\"\n",
      "Searching hadith for \"هل يصوم المسلمون خارج رمضان؟\"\n",
      "Searching hadith for \"ما هي الفتوى؟\"\n",
      "Searching hadith for \"أين الكعبة؟\"\n",
      "Searching hadith for \"هل تقدم السنة النبوية توجيهات حول كيفية التعامل مع الصدمة والألم؟\"\n",
      "Searching hadith for \"هل يعاقب المرتد بالإعدام في الإسلام؟\"\n",
      "Searching al-mawsuah for \"من يجب عليه أداء الحج؟\"\n",
      "Searching al-mawsuah for \"ما هو حكم الفقه الإسلامي في جرائم الشرف؟\"\n",
      "Searching al-mawsuah for \"هل يصوم المسلمون خارج رمضان؟\"\n",
      "Searching al-mawsuah for \"ما معنى حلال؟\"\n",
      "Searching al-mawsuah for \"أين الكعبة؟\"\n",
      "Searching al-mawsuah for \"ما هي الفتوى؟\"\n",
      "Searching al-mawsuah for \"كيفية التعامل مع الصدمة والألم في الفقه الإسلامي\"\n",
      "Searching al-mawsuah for \"حكم الردة في الفقه الإسلامي\"\n"
     ]
    },
    {
     "name": "stderr",
     "output_type": "stream",
     "text": [
      "Average Metric: 54 / 7  (771.4):   6%|▌         | 6/98 [00:02<01:01,  1.51it/s]"
     ]
    },
    {
     "name": "stdout",
     "output_type": "stream",
     "text": [
      "Searching quran for \"ما هو رمضان؟\"\n",
      "Searching quran for \"هل الإسلام يشجع على العنف؟\"\n",
      "Searching quran for \"أهمية ليلة القدر\"\n",
      "Searching quran for \"هل يسمح الإسلام بالحرب الوقائية؟\"\n",
      "Searching quran for \"كيف يصف القرآن السعادة؟ كيف يمكن تحقيقها في الإسلام؟\"\n",
      "Searching quran for \"هل يوفر الإسلام إرشادات حول كيفية التعامل مع الأمراض النفسية؟\"\n"
     ]
    },
    {
     "name": "stderr",
     "output_type": "stream",
     "text": [
      "Average Metric: 64 / 8  (800.0):   8%|▊         | 8/98 [00:02<00:19,  4.54it/s]"
     ]
    },
    {
     "name": "stdout",
     "output_type": "stream",
     "text": [
      "Searching quran for \"ما هو رمضان؟\"\n",
      "Searching quran for \"لماذا يصلي المسلمون يوميا؟\"\n",
      "Searching hadith for \"ما هو رمضان؟\"\n",
      "Searching hadith for \"فضل ليلة القدر\"\n",
      "Searching hadith for \"هل يسمح الإسلام بالحرب الوقائية؟\"\n",
      "Searching hadith for \"هل هناك أحاديث تتحدث عن كيفية التعامل مع الأمراض النفسية؟\"\n",
      "Searching hadith for \"هل الإسلام يشجع على العنف؟\"\n",
      "Searching hadith for \"كيف يصف الحديث السعادة؟ كيف يمكن تحقيقها في الإسلام؟\"\n",
      "Searching hadith for \"ما هو رمضان؟\"\n",
      "Searching hadith for \"لماذا يصلي المسلمون يوميا؟\"\n",
      "Searching al-mawsuah for \"ما هو رمضان؟\"\n",
      "Searching al-mawsuah for \"أهمية ليلة القدر في الفقه الإسلامي\"\n",
      "Searching al-mawsuah for \"إرشادات الفقه الإسلامي حول التعامل مع الأمراض النفسية\"\n",
      "Searching al-mawsuah for \"هل الإسلام يشجع على العنف؟\"\n",
      "Searching al-mawsuah for \"السعادة في الفقه الإسلامي وكيفية تحقيقها\"\n",
      "Searching al-mawsuah for \"ما هو رمضان؟\"\n",
      "Searching al-mawsuah for \"هل يسمح الإسلام بالحرب الوقائية؟\"\n",
      "Searching al-mawsuah for \"لماذا يصلي المسلمون يوميا؟\"\n"
     ]
    },
    {
     "name": "stderr",
     "output_type": "stream",
     "text": [
      "Average Metric: 104 / 15  (693.3):  15%|█▌        | 15/98 [00:04<00:19,  4.18it/s]"
     ]
    },
    {
     "name": "stdout",
     "output_type": "stream",
     "text": [
      "Searching quran for \"كيف تصوم رمضان؟\"\n",
      "Searching quran for \"كيف نعلم أن القرآن وحي إلهي؟\"\n",
      "Searching quran for \"من يجب عليه الصيام في رمضان؟\"\n",
      "Searching quran for \"هل التجديف يعاقب عليه بالإعدام؟\"\n",
      "Searching quran for \"ما هو الغرض من الصيام في رمضان؟\"\n",
      "Searching quran for \"ماذا يقدم الإسلام للناس؟\"\n",
      "Searching quran for \"مدة الصيام في رمضان\"\n"
     ]
    },
    {
     "name": "stderr",
     "output_type": "stream",
     "text": [
      "Average Metric: 114 / 16  (712.5):  15%|█▌        | 15/98 [00:05<00:19,  4.18it/s]"
     ]
    },
    {
     "name": "stdout",
     "output_type": "stream",
     "text": [
      "Searching quran for \"كيف يُساء تفسير الجهاد كإرهاب؟\"\n",
      "Searching hadith for \"كيف تصوم رمضان؟\"\n",
      "Searching hadith for \"هل التجديف يعاقب عليه بالإعدام؟\"\n",
      "Searching hadith for \"كيف نعلم أن القرآن وحي إلهي؟\"\n",
      "Searching hadith for \"ماذا يقدم الإسلام للناس؟\"\n",
      "Searching hadith for \"ما هو الغرض من الصيام في رمضان؟\"\n",
      "Searching hadith for \"من يجب عليه الصيام في رمضان؟\"\n",
      "Searching hadith for \"مدة الصيام في رمضان\"\n",
      "Searching hadith for \"كيف يُساء تفسير الجهاد كإرهاب؟\"\n",
      "Searching al-mawsuah for \"كيف تصوم رمضان؟\"\n",
      "Searching al-mawsuah for \"كيف نعلم أن القرآن وحي إلهي؟\"\n",
      "Searching al-mawsuah for \"ما هو الغرض من الصيام في رمضان؟\"\n",
      "Searching al-mawsuah for \"من يجب عليه الصيام في رمضان؟\"\n",
      "Searching al-mawsuah for \"هل التجديف يعاقب عليه بالإعدام؟\"\n",
      "Searching al-mawsuah for \"مدة الصيام في رمضان\"\n",
      "Searching al-mawsuah for \"ماذا يقدم الإسلام للناس؟\"\n",
      "Searching al-mawsuah for \"كيف يُساء تفسير الجهاد كإرهاب؟\"\n"
     ]
    },
    {
     "name": "stderr",
     "output_type": "stream",
     "text": [
      "Average Metric: 140 / 19  (736.8):  19%|█▉        | 19/98 [00:07<00:26,  2.93it/s]"
     ]
    },
    {
     "name": "stdout",
     "output_type": "stream",
     "text": [
      "Searching quran for \"كيف يُساء تفسير الجهاد كإرهاب؟\"\n",
      "Searching quran for \"أركان الإسلام الخمسة\"\n",
      "Searching quran for \"كيف يعامل الإسلام الأقليات الدينية؟\"\n"
     ]
    },
    {
     "name": "stderr",
     "output_type": "stream",
     "text": [
      "Average Metric: 182 / 24  (758.3):  24%|██▍       | 24/98 [00:07<00:14,  5.23it/s]"
     ]
    },
    {
     "name": "stdout",
     "output_type": "stream",
     "text": [
      "Searching quran for \"ليلة القدر\"\n",
      "Searching quran for \"من هو الله\"\n",
      "Searching quran for \"هل يؤمن المسلمون بالروح القدس؟\"\n",
      "Searching quran for \"هل يؤمن المسلمون بالجنة والنار؟\"\n",
      "Searching quran for \"ما معنى الجهاد؟\"\n",
      "Searching hadith for \"كيف يُساء تفسير الجهاد كإرهاب؟\"\n",
      "Searching hadith for \"معاملة الإسلام للأقليات الدينية\"\n",
      "Searching hadith for \"أركان الإسلام الخمسة\"\n",
      "Searching hadith for \"هل ذكر الروح القدس في الأحاديث؟\"\n",
      "Searching hadith for \"ما هي ليلة القدر\"\n",
      "Searching hadith for \"من هو الله\"\n",
      "Searching hadith for \"هل ذكر النبي الجنة والنار؟\"\n",
      "Searching hadith for \"ما معنى الجهاد؟\"\n",
      "Searching al-mawsuah for \"كيف يُساء تفسير الجهاد كإرهاب؟\"\n",
      "Searching al-mawsuah for \"أركان الإسلام الخمسة\"\n",
      "Searching al-mawsuah for \"معاملة الأقليات الدينية في الفقه الإسلامي\"\n",
      "Searching al-mawsuah for \"ليلة القدر في الفقه الإسلامي\"\n",
      "Searching al-mawsuah for \"الإيمان بالروح القدس في الفقه الإسلامي\"\n",
      "Searching al-mawsuah for \"ما معنى الجهاد؟\"\n",
      "Searching al-mawsuah for \"الإيمان بالجنة والنار في الفقه الإسلامي\"\n",
      "Searching al-mawsuah for \"من هو الله\"\n"
     ]
    },
    {
     "name": "stderr",
     "output_type": "stream",
     "text": [
      "Average Metric: 192 / 25  (768.0):  24%|██▍       | 24/98 [00:09<00:14,  5.23it/s]"
     ]
    },
    {
     "name": "stdout",
     "output_type": "stream",
     "text": [
      "Searching quran for \"أين يحدث الحج؟\"\n"
     ]
    },
    {
     "name": "stderr",
     "output_type": "stream",
     "text": [
      "Average Metric: 216 / 28  (771.4):  29%|██▊       | 28/98 [00:09<00:22,  3.07it/s]"
     ]
    },
    {
     "name": "stdout",
     "output_type": "stream",
     "text": [
      "Searching quran for \"أحكام الحرب في الإسلام\"\n",
      "Searching quran for \"متى ليلة القدر؟\"\n",
      "Searching quran for \"كم مرة يصلي المسلمون خلال رمضان؟\"\n"
     ]
    },
    {
     "name": "stderr",
     "output_type": "stream",
     "text": [
      "Average Metric: 250 / 32  (781.2):  32%|███▏      | 31/98 [00:09<00:15,  4.41it/s]"
     ]
    },
    {
     "name": "stdout",
     "output_type": "stream",
     "text": [
      "Searching quran for \"لماذا الكعبة مهمة؟\"\n",
      "Searching quran for \"لماذا يجب على المسلمين الصيام لمدة شهر كامل؟\"\n",
      "Searching quran for \"كيف يمكن فهم والتعامل مع الحزن والأسى في الإسلام؟\"\n",
      "Searching quran for \"كيف يمكن للمرء أن يطهر قلبه وروحه؟\"\n",
      "Searching hadith for \"أين يحدث الحج؟\"\n",
      "Searching hadith for \"متى ليلة القدر؟\"\n",
      "Searching hadith for \"أحاديث عن أحكام الحرب في الإسلام\"\n",
      "Searching hadith for \"كم مرة يصلي المسلمون خلال رمضان؟\"\n",
      "Searching hadith for \"لماذا الكعبة مهمة؟\"\n",
      "Searching hadith for \"لماذا يجب على المسلمين الصيام لمدة شهر كامل؟\"\n",
      "Searching hadith for \"كيف يمكن للمرء أن يطهر قلبه وروحه؟\"\n",
      "Searching hadith for \"كيف يمكن فهم والتعامل مع الحزن والأسى في الإسلام؟\"\n",
      "Searching al-mawsuah for \"أين يحدث الحج؟\"\n",
      "Searching al-mawsuah for \"متى ليلة القدر؟\"\n",
      "Searching al-mawsuah for \"أحكام الحرب في الفقه الإسلامي\"\n",
      "Searching al-mawsuah for \"كم مرة يصلي المسلمون خلال رمضان؟\"\n",
      "Searching al-mawsuah for \"لماذا يجب على المسلمين الصيام لمدة شهر كامل؟\"\n",
      "Searching al-mawsuah for \"أهمية الكعبة في الفقه الإسلامي\"\n",
      "Searching al-mawsuah for \"كيف يمكن للمرء أن يطهر قلبه وروحه؟\"Searching al-mawsuah for \"كيف يمكن فهم والتعامل مع الحزن والأسى في الإسلام؟\"\n",
      "\n"
     ]
    },
    {
     "name": "stderr",
     "output_type": "stream",
     "text": [
      "Average Metric: 270 / 34  (794.1):  34%|███▎      | 33/98 [00:11<00:26,  2.45it/s]"
     ]
    },
    {
     "name": "stdout",
     "output_type": "stream",
     "text": [
      "Searching quran for \"ما هي الكعبة؟\"\n",
      "Searching quran for \"من هو النبي محمد؟\"\n"
     ]
    },
    {
     "name": "stderr",
     "output_type": "stream",
     "text": [
      "Average Metric: 298 / 37  (805.4):  37%|███▋      | 36/98 [00:12<00:21,  2.85it/s]"
     ]
    },
    {
     "name": "stdout",
     "output_type": "stream",
     "text": [
      "Searching quran for \"ما هي التزكية؟\"\n",
      "Searching quran for \"أحكام الحرب في الإسلام\"\n",
      "Searching quran for \"ما الذي يعلمه الإسلام عن إدارة القلق والاكتئاب والشك الذاتي؟\"\n"
     ]
    },
    {
     "name": "stderr",
     "output_type": "stream",
     "text": [
      "Average Metric: 320 / 40  (800.0):  40%|███▉      | 39/98 [00:12<00:14,  3.94it/s]"
     ]
    },
    {
     "name": "stdout",
     "output_type": "stream",
     "text": [
      "Searching quran for \"كيف تكون الروحانية الإسلامية فريدة؟\"\n",
      "Searching quran for \"أين تؤدى العمرة؟\"\n",
      "Searching quran for \"كيف يفهم الإسلام الروح\"\n",
      "Searching hadith for \"ما هي الكعبة؟\"\n",
      "Searching hadith for \"من هو النبي محمد؟\"\n",
      "Searching hadith for \"ما هي التزكية؟\"\n",
      "Searching hadith for \"ما الذي يعلمه الإسلام عن إدارة القلق والاكتئاب والشك الذاتي؟\"\n",
      "Searching hadith for \"أحاديث عن أحكام الحرب في الإسلام\"\n",
      "Searching hadith for \"كيف تكون الروحانية الإسلامية فريدة؟\"\n",
      "Searching hadith for \"فهم الروح في الإسلام\"\n",
      "Searching al-mawsuah for \"ما هي الكعبة؟\"\n",
      "Searching hadith for \"أين تؤدى العمرة؟\"\n",
      "Searching al-mawsuah for \"من هو النبي محمد؟\"\n",
      "Searching al-mawsuah for \"ما هي التزكية؟\"\n",
      "Searching al-mawsuah for \"ما الذي يعلمه الإسلام عن إدارة القلق والاكتئاب والشك الذاتي؟\"\n",
      "Searching al-mawsuah for \"أحكام الحرب في الفقه الإسلامي\"\n",
      "Searching al-mawsuah for \"كيف تكون الروحانية الإسلامية فريدة؟\"\n",
      "Searching al-mawsuah for \"الروح في الفقه الإسلامي\"\n"
     ]
    },
    {
     "name": "stderr",
     "output_type": "stream",
     "text": [
      "Average Metric: 326 / 41  (795.1):  42%|████▏     | 41/98 [00:14<00:22,  2.58it/s]"
     ]
    },
    {
     "name": "stdout",
     "output_type": "stream",
     "text": [
      "Searching quran for \"من هو عيسى في الإسلام؟\"\n"
     ]
    },
    {
     "name": "stderr",
     "output_type": "stream",
     "text": [
      "Average Metric: 346 / 44  (786.4):  45%|████▍     | 44/98 [00:14<00:15,  3.47it/s]"
     ]
    },
    {
     "name": "stdout",
     "output_type": "stream",
     "text": [
      "Searching quran for \"ما هو الإسلام؟\"\n",
      "Searching quran for \"متى رمضان؟\"\n",
      "Searching quran for \"كيف يعامل الإسلام الأقليات الدينية؟\"\n"
     ]
    },
    {
     "name": "stderr",
     "output_type": "stream",
     "text": [
      "Average Metric: 364 / 46  (791.3):  47%|████▋     | 46/98 [00:14<00:11,  4.49it/s]"
     ]
    },
    {
     "name": "stdout",
     "output_type": "stream",
     "text": [
      "Searching quran for \"كيف تتعلق الشريعة بطقوس العبادة؟\"\n",
      "Searching quran for \"هل انتشر الإسلام بالعنف والإكراه؟\"\n",
      "Searching al-mawsuah for \"أين تؤدى العمرة؟\"\n"
     ]
    },
    {
     "name": "stderr",
     "output_type": "stream",
     "text": [
      "Average Metric: 374 / 47  (795.7):  47%|████▋     | 46/98 [00:15<00:11,  4.49it/s]"
     ]
    },
    {
     "name": "stdout",
     "output_type": "stream",
     "text": [
      "Searching quran for \"لماذا يتم الاحتفال بشهر رمضان؟\"\n",
      "Searching hadith for \"من هو عيسى في الأحاديث؟\"\n",
      "Searching hadith for \"متى رمضان؟\"\n",
      "Searching hadith for \"ما هو الإسلام؟\"\n",
      "Searching hadith for \"معاملة الإسلام للأقليات الدينية\"\n",
      "Searching hadith for \"كيف تتعلق الشريعة بطقوس العبادة؟\"\n",
      "Searching hadith for \"هل انتشر الإسلام بالعنف والإكراه؟\"\n"
     ]
    },
    {
     "name": "stderr",
     "output_type": "stream",
     "text": [
      "Average Metric: 382 / 48  (795.8):  49%|████▉     | 48/98 [00:15<00:14,  3.46it/s]"
     ]
    },
    {
     "name": "stdout",
     "output_type": "stream",
     "text": [
      "Searching quran for \"من هو النبي إبراهيم؟\"\n",
      "Searching hadith for \"لماذا يتم الاحتفال بشهر رمضان؟\"\n",
      "Searching al-mawsuah for \"ما هو الإسلام؟\"\n",
      "Searching al-mawsuah for \"متى رمضان؟\"\n",
      "Searching al-mawsuah for \"من هو عيسى في الفقه الإسلامي؟\"\n",
      "Searching al-mawsuah for \"معاملة الأقليات الدينية في الفقه الإسلامي\"\n",
      "Searching al-mawsuah for \"كيف تتعلق الشريعة بطقوس العبادة؟\"\n",
      "Searching al-mawsuah for \"هل انتشر الإسلام بالعنف والإكراه؟\"\n",
      "Searching al-mawsuah for \"لماذا يتم الاحتفال بشهر رمضان؟\"\n",
      "Searching hadith for \"من هو النبي إبراهيم؟\"\n"
     ]
    },
    {
     "name": "stderr",
     "output_type": "stream",
     "text": [
      "Average Metric: 402 / 51  (788.2):  51%|█████     | 50/98 [00:17<00:21,  2.25it/s]"
     ]
    },
    {
     "name": "stdout",
     "output_type": "stream",
     "text": [
      "Searching quran for \"ما هو زكاة الفطر؟\"\n",
      "Searching quran for \"هل يسمح الإسلام بقتل المدنيين؟\"\n",
      "Searching quran for \"ما هو الفقه؟\"\n",
      "Searching quran for \"كيف تتعلق الشريعة بالمجتمع؟\"\n",
      "Searching quran for \"أهمية الصدقة في رمضان\"\n"
     ]
    },
    {
     "name": "stderr",
     "output_type": "stream",
     "text": [
      "Average Metric: 436 / 55  (792.7):  56%|█████▌    | 55/98 [00:17<00:07,  5.40it/s]"
     ]
    },
    {
     "name": "stdout",
     "output_type": "stream",
     "text": [
      "Searching quran for \"القيود الغذائية في الإسلام\"\n",
      "Searching quran for \"ما هو القرآن؟\"\n",
      "Searching al-mawsuah for \"من هو النبي إبراهيم؟\"\n",
      "Searching hadith for \"ما هو زكاة الفطر؟\"\n",
      "Searching hadith for \"هل يسمح الإسلام بقتل المدنيين؟\"\n",
      "Searching hadith for \"كيف تتعلق الشريعة بالمجتمع؟\"\n",
      "Searching hadith for \"ما هو الفقه؟\"\n",
      "Searching hadith for \"فضل الصدقة في رمضان\"\n",
      "Searching hadith for \"القيود الغذائية في الإسلام\"\n",
      "Searching hadith for \"ما هو القرآن؟\"\n"
     ]
    },
    {
     "name": "stderr",
     "output_type": "stream",
     "text": [
      "Average Metric: 442 / 56  (789.3):  56%|█████▌    | 55/98 [00:18<00:07,  5.40it/s]"
     ]
    },
    {
     "name": "stdout",
     "output_type": "stream",
     "text": [
      "Searching quran for \"من بنى الكعبة؟\"\n",
      "Searching al-mawsuah for \"ما هو زكاة الفطر؟\"\n",
      "Searching al-mawsuah for \"هل يسمح الإسلام بقتل المدنيين؟\"\n",
      "Searching al-mawsuah for \"الصدقة في رمضان\"\n",
      "Searching al-mawsuah for \"ما هو الفقه؟\"\n",
      "Searching al-mawsuah for \"كيف تتعلق الشريعة بالمجتمع؟\"\n",
      "Searching al-mawsuah for \"ما هو القرآن؟\"\n",
      "Searching al-mawsuah for \"القيود الغذائية في الإسلام\"\n"
     ]
    },
    {
     "name": "stderr",
     "output_type": "stream",
     "text": [
      "Average Metric: 452 / 58  (779.3):  58%|█████▊    | 57/98 [00:19<00:16,  2.56it/s]"
     ]
    },
    {
     "name": "stdout",
     "output_type": "stream",
     "text": [
      "Searching quran for \"من أين تأتي الشريعة؟\"\n",
      "Searching hadith for \"من بنى الكعبة؟\"\n",
      "Searching quran for \"كيف يغذي الإسلام رفاهنا العاطفي؟\"\n"
     ]
    },
    {
     "name": "stderr",
     "output_type": "stream",
     "text": [
      "Average Metric: 486 / 62  (783.9):  63%|██████▎   | 62/98 [00:19<00:07,  4.53it/s]"
     ]
    },
    {
     "name": "stdout",
     "output_type": "stream",
     "text": [
      "Searching quran for \"كيفية أداء العمرة\"\n",
      "Searching quran for \"آيات القرآن للتعامل مع الضيق والشدائد\"\n",
      "Searching quran for \"هل يقول القرآن بقتل غير المؤمنين؟\"\n",
      "Searching quran for \"هل التجديف يعاقب عليه بالإعدام؟\"\n"
     ]
    },
    {
     "name": "stderr",
     "output_type": "stream",
     "text": [
      "Average Metric: 496 / 63  (787.3):  63%|██████▎   | 62/98 [00:19<00:07,  4.53it/s]"
     ]
    },
    {
     "name": "stdout",
     "output_type": "stream",
     "text": [
      "Searching quran for \"هل يسمح الإسلام بقتل المدنيين؟\"\n",
      "Searching hadith for \"كيف يغذي الإسلام رفاهنا العاطفي؟\"\n",
      "Searching hadith for \"من أين تأتي الشريعة؟\"\n",
      "Searching al-mawsuah for \"من بنى الكعبة؟\"\n",
      "Searching hadith for \"كيفية أداء العمرة\"\n",
      "Searching hadith for \"هل يوجد حديث يأمر بقتل غير المؤمنين؟\"\n",
      "Searching hadith for \"هل التجديف يعاقب عليه بالإعدام؟\"\n",
      "Searching hadith for \"أحاديث عن التعامل مع الضيق والشدائد\"\n",
      "Searching hadith for \"هل يسمح الإسلام بقتل المدنيين؟\"\n"
     ]
    },
    {
     "name": "stderr",
     "output_type": "stream",
     "text": [
      "Average Metric: 504 / 64  (787.5):  65%|██████▌   | 64/98 [00:21<00:11,  2.96it/s]"
     ]
    },
    {
     "name": "stdout",
     "output_type": "stream",
     "text": [
      "Searching al-mawsuah for \"كيف يغذي الإسلام رفاهنا العاطفي؟\"\n",
      "Searching al-mawsuah for \"مصادر الشريعة الإسلامية\"\n",
      "Searching quran for \"ما معنى الإسلام؟\"\n",
      "Searching al-mawsuah for \"كيفية أداء العمرة\"\n",
      "Searching al-mawsuah for \"أحكام الفقه الإسلامي حول التعامل مع الضيق والشدائد\"\n",
      "Searching al-mawsuah for \"ما هو حكم قتل غير المؤمنين في الفقه الإسلامي؟\"\n",
      "Searching al-mawsuah for \"هل التجديف يعاقب عليه بالإعدام؟\"\n",
      "Searching al-mawsuah for \"هل يسمح الإسلام بقتل المدنيين؟\"\n"
     ]
    },
    {
     "name": "stderr",
     "output_type": "stream",
     "text": [
      "Average Metric: 532 / 68  (782.4):  68%|██████▊   | 67/98 [00:21<00:09,  3.27it/s]"
     ]
    },
    {
     "name": "stdout",
     "output_type": "stream",
     "text": [
      "Searching quran for \"ما هو عيد الفطر؟\"\n",
      "Searching quran for \"لماذا الحج مهم؟\"\n",
      "Searching quran for \"كيفية أداء الحج\"\n",
      "Searching hadith for \"ما معنى الإسلام في الحديث؟\"\n",
      "Searching quran for \"هل يقول القرآن بقتل غير المؤمنين؟\"\n"
     ]
    },
    {
     "name": "stderr",
     "output_type": "stream",
     "text": [
      "Average Metric: 552 / 71  (777.5):  71%|███████▏  | 70/98 [00:22<00:06,  4.05it/s]"
     ]
    },
    {
     "name": "stdout",
     "output_type": "stream",
     "text": [
      "Searching quran for \"هل هناك استثناءات أو إعفاءات من الصيام؟\"\n",
      "Searching quran for \"ما هي العمرة؟\"\n",
      "Searching quran for \"هل انتشر الإسلام بالعنف والإكراه؟\"\n",
      "Searching hadith for \"أهمية الحج في الأحاديث\"\n",
      "Searching hadith for \"ما هو عيد الفطر؟\"\n",
      "Searching hadith for \"كيفية أداء الحج\"\n",
      "Searching hadith for \"هل يوجد حديث يأمر بقتل غير المؤمنين؟\"\n",
      "Searching al-mawsuah for \"ما هو تعريف الإسلام في الفقه الإسلامي؟\"\n",
      "Searching hadith for \"ما هي العمرة؟\"\n",
      "Searching hadith for \"هل انتشر الإسلام بالعنف والإكراه؟\"\n",
      "Searching hadith for \"هل هناك استثناءات أو إعفاءات من الصيام؟\"\n",
      "Searching al-mawsuah for \"أهمية الحج في الفقه الإسلامي\"\n",
      "Searching al-mawsuah for \"كيفية أداء الحج\"\n",
      "Searching al-mawsuah for \"ما هو عيد الفطر؟\"\n",
      "Searching al-mawsuah for \"ما هو حكم قتل غير المؤمنين في الفقه الإسلامي؟\"\n"
     ]
    },
    {
     "name": "stderr",
     "output_type": "stream",
     "text": [
      "Average Metric: 560 / 72  (777.8):  73%|███████▎  | 72/98 [00:23<00:09,  2.76it/s]"
     ]
    },
    {
     "name": "stdout",
     "output_type": "stream",
     "text": [
      "Searching al-mawsuah for \"هل انتشر الإسلام بالعنف والإكراه؟\"\n",
      "Searching quran for \"هل العمرة والحج نفس الشيء؟\"\n",
      "Searching al-mawsuah for \"ما هي العمرة؟\"\n",
      "Searching al-mawsuah for \"هل هناك استثناءات أو إعفاءات من الصيام؟\"\n"
     ]
    },
    {
     "name": "stderr",
     "output_type": "stream",
     "text": [
      "Average Metric: 576 / 75  (768.0):  77%|███████▋  | 75/98 [00:24<00:06,  3.59it/s]"
     ]
    },
    {
     "name": "stdout",
     "output_type": "stream",
     "text": [
      "Searching quran for \"ماذا يؤمن المسلمون؟\"\n",
      "Searching quran for \"هل الشريعة موحدة وغير متغيرة؟\"\n",
      "Searching quran for \"ما هي الصدقة؟\"\n"
     ]
    },
    {
     "name": "stderr",
     "output_type": "stream",
     "text": [
      "Average Metric: 600 / 78  (769.2):  80%|███████▉  | 78/98 [00:24<00:03,  5.15it/s]"
     ]
    },
    {
     "name": "stdout",
     "output_type": "stream",
     "text": [
      "Searching quran for \"صلاة التراويح\"\n",
      "Searching quran for \"ما هو التوحيد؟\"\n",
      "Searching hadith for \"هل العمرة والحج نفس الشيء؟\"\n",
      "Searching quran for \"ما معنى الجهاد؟\"\n"
     ]
    },
    {
     "name": "stderr",
     "output_type": "stream",
     "text": [
      "Average Metric: 612 / 79  (774.7):  81%|████████  | 79/98 [00:24<00:03,  5.30it/s]"
     ]
    },
    {
     "name": "stdout",
     "output_type": "stream",
     "text": [
      "Searching quran for \"كيف يتناول الإسلام القدر والإرادة الحرة؟\"\n",
      "Searching hadith for \"ماذا يؤمن المسلمون؟\"\n",
      "Searching hadith for \"هل الشريعة موحدة وغير متغيرة؟\"\n",
      "Searching al-mawsuah for \"هل العمرة والحج نفس الشيء؟\"\n",
      "Searching hadith for \"ما هي الصدقة؟\"\n",
      "Searching hadith for \"ما هو التوحيد؟\"\n",
      "Searching hadith for \"ما معنى الجهاد؟\"\n",
      "Searching hadith for \"صلاة التراويح\"\n",
      "Searching hadith for \"كيف يتناول الإسلام القدر والإرادة الحرة؟\"\n"
     ]
    },
    {
     "name": "stderr",
     "output_type": "stream",
     "text": [
      "Average Metric: 620 / 80  (775.0):  82%|████████▏ | 80/98 [00:25<00:07,  2.40it/s]"
     ]
    },
    {
     "name": "stdout",
     "output_type": "stream",
     "text": [
      "Searching al-mawsuah for \"ماذا يؤمن المسلمون؟\"\n",
      "Searching al-mawsuah for \"هل الشريعة موحدة وغير متغيرة؟\"\n",
      "Searching quran for \"الطلاق في الإسلام\"\n",
      "Searching al-mawsuah for \"ما هي الصدقة؟\"\n",
      "Searching al-mawsuah for \"ما معنى الجهاد؟\"\n",
      "Searching al-mawsuah for \"ما هو التوحيد؟\"\n",
      "Searching al-mawsuah for \"صلاة التراويح\"\n"
     ]
    },
    {
     "name": "stderr",
     "output_type": "stream",
     "text": [
      "Average Metric: 628 / 81  (775.3):  83%|████████▎ | 81/98 [00:26<00:07,  2.18it/s]"
     ]
    },
    {
     "name": "stdout",
     "output_type": "stream",
     "text": [
      "Searching al-mawsuah for \"كيف يتناول الإسلام القدر والإرادة الحرة؟\"\n",
      "Searching quran for \"ما هي الأعياد التي يحتفل بها المسلمون؟\"\n"
     ]
    },
    {
     "name": "stderr",
     "output_type": "stream",
     "text": [
      "Average Metric: 652 / 85  (767.1):  86%|████████▌ | 84/98 [00:26<00:04,  3.22it/s]"
     ]
    },
    {
     "name": "stdout",
     "output_type": "stream",
     "text": [
      "Searching quran for \"هل الوسواس القهري نتيجة وساوس الشيطان؟\"\n",
      "Searching hadith for \"حديث عن الطلاق\"\n",
      "Searching quran for \"كيف نعرف أن الله موجود؟\"\n",
      "Searching quran for \"تاريخ الشريعة\"\n",
      "Searching quran for \"هل يسمح الإسلام بالحرب الوقائية؟\"\n"
     ]
    },
    {
     "name": "stderr",
     "output_type": "stream",
     "text": [
      "Average Metric: 662 / 87  (760.9):  89%|████████▉ | 87/98 [00:27<00:01,  6.65it/s]"
     ]
    },
    {
     "name": "stdout",
     "output_type": "stream",
     "text": [
      "Searching quran for \"الوحي في الإسلام\"\n",
      "Searching quran for \"هل الإسلام يشجع على العنف؟\"\n",
      "Searching hadith for \"ما هي الأعياد التي يحتفل بها المسلمون؟\"\n",
      "Searching hadith for \"هل الوسواس القهري نتيجة وساوس الشيطان؟\"\n",
      "Searching al-mawsuah for \"الطلاق في الفقه الإسلامي\"\n",
      "Searching hadith for \"كيف نعرف أن الله موجود؟\"\n",
      "Searching hadith for \"تاريخ الشريعة\"\n",
      "Searching hadith for \"هل يسمح الإسلام بالحرب الوقائية؟\"\n",
      "Searching hadith for \"هل الإسلام يشجع على العنف؟\"\n",
      "Searching hadith for \"الوحي في الإسلام\"\n"
     ]
    },
    {
     "name": "stderr",
     "output_type": "stream",
     "text": [
      "Average Metric: 670 / 88  (761.4):  89%|████████▉ | 87/98 [00:28<00:01,  6.65it/s]"
     ]
    },
    {
     "name": "stdout",
     "output_type": "stream",
     "text": [
      "Searching al-mawsuah for \"ما هي الأعياد التي يحتفل بها المسلمون؟\"\n",
      "Searching al-mawsuah for \"هل الوسواس القهري نتيجة وساوس الشيطان؟\"\n",
      "Searching quran for \"ما هي أهمية الحج؟\"\n",
      "Searching al-mawsuah for \"تاريخ الشريعة\"\n",
      "Searching al-mawsuah for \"كيف نعرف أن الله موجود؟\"\n",
      "Searching al-mawsuah for \"هل يسمح الإسلام بالحرب الوقائية؟\"\n",
      "Searching al-mawsuah for \"الوحي في الإسلام\"\n",
      "Searching al-mawsuah for \"هل الإسلام يشجع على العنف؟\"\n"
     ]
    },
    {
     "name": "stderr",
     "output_type": "stream",
     "text": [
      "Average Metric: 676 / 89  (759.6):  91%|█████████ | 89/98 [00:29<00:03,  2.31it/s]"
     ]
    },
    {
     "name": "stdout",
     "output_type": "stream",
     "text": [
      "Searching quran for \"لماذا يطلب الله من الناس عبادته؟\"\n"
     ]
    },
    {
     "name": "stderr",
     "output_type": "stream",
     "text": [
      "Average Metric: 708 / 93  (761.3):  95%|█████████▍| 93/98 [00:29<00:01,  4.35it/s]"
     ]
    },
    {
     "name": "stdout",
     "output_type": "stream",
     "text": [
      "Searching quran for \"هل يؤمن المسلمون بصلب عيسى؟\"\n",
      "Searching hadith for \"ما هي أهمية الحج؟\"\n"
     ]
    },
    {
     "name": "stderr",
     "output_type": "stream",
     "text": [
      "Average Metric: 724 / 95  (762.1):  97%|█████████▋| 95/98 [00:29<00:00,  5.43it/s]"
     ]
    },
    {
     "name": "stdout",
     "output_type": "stream",
     "text": [
      "Searching hadith for \"لماذا يطلب الله من الناس عبادته؟\"\n",
      "Searching hadith for \"هل ورد في الأحاديث أن المسلمين يؤمنون بصلب عيسى؟\"\n",
      "Searching al-mawsuah for \"ما هي أهمية الحج؟\"\n",
      "Searching al-mawsuah for \"لماذا يطلب الله من الناس عبادته؟\"\n",
      "Searching al-mawsuah for \"موقف الفقه الإسلامي من صلب عيسى\"\n"
     ]
    },
    {
     "name": "stderr",
     "output_type": "stream",
     "text": [
      "Average Metric: 748 / 98  (763.3): 100%|██████████| 98/98 [00:31<00:00,  3.09it/s]\n"
     ]
    },
    {
     "name": "stdout",
     "output_type": "stream",
     "text": [
      "Searching quran for \"من يجب عليه أداء الحج؟\"\n",
      "Searching quran for \"أين الكعبة؟\"\n",
      "Searching quran for \"هل يسمح الإسلام بجرائم الشرف؟\"\n",
      "Searching quran for \"هل يقدم القرآن توجيهات حول كيفية التعامل مع الصدمة والألم؟\"\n",
      "Searching quran for \"هل يصوم المسلمون خارج رمضان؟\"\n",
      "Searching quran for \"ما هي الفتوى؟\"\n",
      "Searching quran for \"ما معنى حلال؟\"\n",
      "Searching quran for \"هل الردة يعاقب عليها بالإعدام في الإسلام؟\"\n"
     ]
    },
    {
     "name": "stderr",
     "output_type": "stream",
     "text": [
      "  0%|          | 0/98 [00:00<?, ?it/s]"
     ]
    },
    {
     "name": "stdout",
     "output_type": "stream",
     "text": [
      "Searching hadith for \"هل توجد أحاديث تتعلق بجرائم الشرف؟\"\n",
      "Searching hadith for \"أين الكعبة؟\"\n",
      "Searching hadith for \"هل تقدم السنة النبوية توجيهات حول كيفية التعامل مع الصدمة والألم؟\"\n",
      "Searching hadith for \"ما معنى حلال؟\"\n",
      "Searching hadith for \"هل يصوم المسلمون خارج رمضان؟\"\n",
      "Searching hadith for \"ما هي الفتوى؟\"\n",
      "Searching hadith for \"هل يعاقب المرتد بالإعدام في الإسلام؟\"\n",
      "Searching hadith for \"من يجب عليه أداء الحج؟\"\n",
      "Searching al-mawsuah for \"ما هو حكم الفقه الإسلامي في جرائم الشرف؟\"\n",
      "Searching al-mawsuah for \"من يجب عليه أداء الحج؟\"\n",
      "Searching al-mawsuah for \"كيفية التعامل مع الصدمة والألم في الفقه الإسلامي\"\n",
      "Searching al-mawsuah for \"ما معنى حلال؟\"\n",
      "Searching al-mawsuah for \"أين الكعبة؟\"\n",
      "Searching al-mawsuah for \"هل يصوم المسلمون خارج رمضان؟\"\n",
      "Searching al-mawsuah for \"ما هي الفتوى؟\"\n",
      "Searching al-mawsuah for \"حكم الردة في الفقه الإسلامي\"\n"
     ]
    },
    {
     "name": "stderr",
     "output_type": "stream",
     "text": [
      "Average Metric: 64 / 8  (800.0):   7%|▋         | 7/98 [00:03<00:28,  3.15it/s]"
     ]
    },
    {
     "name": "stdout",
     "output_type": "stream",
     "text": [
      "Searching quran for \"هل يسمح الإسلام بالحرب الوقائية؟\"\n",
      "Searching quran for \"أهمية ليلة القدر\"\n",
      "Searching quran for \"ما هو رمضان؟\"\n",
      "Searching quran for \"كيف يصف القرآن السعادة؟ كيف يمكن تحقيقها في الإسلام؟\"\n",
      "Searching quran for \"هل الإسلام يشجع على العنف؟\"\n",
      "Searching quran for \"ما هو رمضان؟\"\n",
      "Searching quran for \"هل يوفر الإسلام إرشادات حول كيفية التعامل مع الأمراض النفسية؟\"\n",
      "Searching quran for \"لماذا يصلي المسلمون يوميا؟\"\n",
      "Searching hadith for \"فضل ليلة القدر\"\n",
      "Searching hadith for \"هل يسمح الإسلام بالحرب الوقائية؟\"\n",
      "Searching hadith for \"هل الإسلام يشجع على العنف؟\"\n",
      "Searching hadith for \"لماذا يصلي المسلمون يوميا؟\"\n",
      "Searching hadith for \"هل هناك أحاديث تتحدث عن كيفية التعامل مع الأمراض النفسية؟\"\n",
      "Searching hadith for \"ما هو رمضان؟\"\n",
      "Searching hadith for \"ما هو رمضان؟\"\n",
      "Searching hadith for \"كيف يصف الحديث السعادة؟ كيف يمكن تحقيقها في الإسلام؟\"\n",
      "Searching al-mawsuah for \"أهمية ليلة القدر في الفقه الإسلامي\"\n",
      "Searching al-mawsuah for \"هل الإسلام يشجع على العنف؟\"\n",
      "Searching al-mawsuah for \"ما هو رمضان؟\"\n",
      "Searching al-mawsuah for \"إرشادات الفقه الإسلامي حول التعامل مع الأمراض النفسية\"\n",
      "Searching al-mawsuah for \"ما هو رمضان؟\"\n",
      "Searching al-mawsuah for \"السعادة في الفقه الإسلامي وكيفية تحقيقها\"\n",
      "Searching al-mawsuah for \"هل يسمح الإسلام بالحرب الوقائية؟\"\n",
      "Searching al-mawsuah for \"لماذا يصلي المسلمون يوميا؟\"\n"
     ]
    },
    {
     "name": "stderr",
     "output_type": "stream",
     "text": [
      "Average Metric: 114 / 16  (712.5):  15%|█▌        | 15/98 [00:05<00:38,  2.16it/s]"
     ]
    },
    {
     "name": "stdout",
     "output_type": "stream",
     "text": [
      "Searching quran for \"كيف تصوم رمضان؟\"Searching quran for \"كيف نعلم أن القرآن وحي إلهي؟\"\n",
      "\n",
      "Searching quran for \"ما هو الغرض من الصيام في رمضان؟\"\n",
      "Searching quran for \"من يجب عليه الصيام في رمضان؟\"\n",
      "Searching quran for \"ماذا يقدم الإسلام للناس؟\"\n",
      "Searching quran for \"مدة الصيام في رمضان\"\n",
      "Searching quran for \"كيف يُساء تفسير الجهاد كإرهاب؟\"\n",
      "Searching quran for \"هل التجديف يعاقب عليه بالإعدام؟\"\n",
      "Searching hadith for \"كيف تصوم رمضان؟\"\n",
      "Searching hadith for \"مدة الصيام في رمضان\"\n",
      "Searching hadith for \"ماذا يقدم الإسلام للناس؟\"\n",
      "Searching hadith for \"هل التجديف يعاقب عليه بالإعدام؟\"\n",
      "Searching hadith for \"كيف نعلم أن القرآن وحي إلهي؟\"\n",
      "Searching hadith for \"كيف يُساء تفسير الجهاد كإرهاب؟\"\n",
      "Searching hadith for \"ما هو الغرض من الصيام في رمضان؟\"\n",
      "Searching hadith for \"من يجب عليه الصيام في رمضان؟\"\n",
      "Searching al-mawsuah for \"كيف تصوم رمضان؟\"\n",
      "Searching al-mawsuah for \"مدة الصيام في رمضان\"\n",
      "Searching al-mawsuah for \"من يجب عليه الصيام في رمضان؟\"\n",
      "Searching al-mawsuah for \"ما هو الغرض من الصيام في رمضان؟\"\n",
      "Searching al-mawsuah for \"كيف نعلم أن القرآن وحي إلهي؟\"\n",
      "Searching al-mawsuah for \"كيف يُساء تفسير الجهاد كإرهاب؟\"\n",
      "Searching al-mawsuah for \"ماذا يقدم الإسلام للناس؟\"\n",
      "Searching al-mawsuah for \"هل التجديف يعاقب عليه بالإعدام؟\"\n"
     ]
    },
    {
     "name": "stderr",
     "output_type": "stream",
     "text": [
      "Average Metric: 122 / 17  (717.6):  17%|█▋        | 17/98 [00:07<00:33,  2.45it/s]"
     ]
    },
    {
     "name": "stdout",
     "output_type": "stream",
     "text": [
      "Searching quran for \"كيف يُساء تفسير الجهاد كإرهاب؟\"\n"
     ]
    },
    {
     "name": "stderr",
     "output_type": "stream",
     "text": [
      "Average Metric: 172 / 23  (747.8):  22%|██▏       | 22/98 [00:08<00:22,  3.43it/s]"
     ]
    },
    {
     "name": "stdout",
     "output_type": "stream",
     "text": [
      "Searching quran for \"أركان الإسلام الخمسة\"\n",
      "Searching quran for \"كيف يعامل الإسلام الأقليات الدينية؟\"\n",
      "Searching quran for \"ليلة القدر\"\n",
      "Searching quran for \"من هو الله\"\n",
      "Searching quran for \"هل يؤمن المسلمون بالروح القدس؟\"\n",
      "Searching quran for \"هل يؤمن المسلمون بالجنة والنار؟\"\n"
     ]
    },
    {
     "name": "stderr",
     "output_type": "stream",
     "text": [
      "Average Metric: 182 / 24  (758.3):  23%|██▎       | 23/98 [00:08<00:21,  3.43it/s]"
     ]
    },
    {
     "name": "stdout",
     "output_type": "stream",
     "text": [
      "Searching quran for \"ما معنى الجهاد؟\"\n",
      "Searching hadith for \"كيف يُساء تفسير الجهاد كإرهاب؟\"\n",
      "Searching hadith for \"أركان الإسلام الخمسة\"\n",
      "Searching hadith for \"معاملة الإسلام للأقليات الدينية\"\n",
      "Searching hadith for \"ما هي ليلة القدر\"\n",
      "Searching hadith for \"هل ذكر النبي الجنة والنار؟\"\n",
      "Searching hadith for \"هل ذكر الروح القدس في الأحاديث؟\"\n",
      "Searching hadith for \"من هو الله\"\n",
      "Searching hadith for \"ما معنى الجهاد؟\"\n",
      "Searching al-mawsuah for \"كيف يُساء تفسير الجهاد كإرهاب؟\"\n",
      "Searching al-mawsuah for \"أركان الإسلام الخمسة\"\n",
      "Searching al-mawsuah for \"معاملة الأقليات الدينية في الفقه الإسلامي\"\n",
      "Searching al-mawsuah for \"ليلة القدر في الفقه الإسلامي\"\n",
      "Searching al-mawsuah for \"ما معنى الجهاد؟\"\n",
      "Searching al-mawsuah for \"الإيمان بالروح القدس في الفقه الإسلامي\"\n",
      "Searching al-mawsuah for \"الإيمان بالجنة والنار في الفقه الإسلامي\"\n",
      "Searching al-mawsuah for \"من هو الله\"\n"
     ]
    },
    {
     "name": "stderr",
     "output_type": "stream",
     "text": [
      "Average Metric: 192 / 25  (768.0):  26%|██▌       | 25/98 [00:09<00:26,  2.77it/s]"
     ]
    },
    {
     "name": "stdout",
     "output_type": "stream",
     "text": [
      "Searching quran for \"أين يحدث الحج؟\"\n"
     ]
    },
    {
     "name": "stderr",
     "output_type": "stream",
     "text": [
      "Average Metric: 216 / 28  (771.4):  28%|██▊       | 27/98 [00:10<00:22,  3.18it/s]"
     ]
    },
    {
     "name": "stdout",
     "output_type": "stream",
     "text": [
      "Searching quran for \"أحكام الحرب في الإسلام\"\n",
      "Searching quran for \"متى ليلة القدر؟\"\n",
      "Searching quran for \"كم مرة يصلي المسلمون خلال رمضان؟\"\n"
     ]
    },
    {
     "name": "stderr",
     "output_type": "stream",
     "text": [
      "Average Metric: 250 / 32  (781.2):  32%|███▏      | 31/98 [00:10<00:15,  4.46it/s]"
     ]
    },
    {
     "name": "stdout",
     "output_type": "stream",
     "text": [
      "Searching quran for \"لماذا الكعبة مهمة؟\"\n",
      "Searching quran for \"لماذا يجب على المسلمين الصيام لمدة شهر كامل؟\"\n",
      "Searching quran for \"كيف يمكن فهم والتعامل مع الحزن والأسى في الإسلام؟\"\n",
      "Searching quran for \"كيف يمكن للمرء أن يطهر قلبه وروحه؟\"\n",
      "Searching hadith for \"أين يحدث الحج؟\"\n",
      "Searching hadith for \"متى ليلة القدر؟\"\n",
      "Searching hadith for \"أحاديث عن أحكام الحرب في الإسلام\"\n",
      "Searching hadith for \"كم مرة يصلي المسلمون خلال رمضان؟\"\n",
      "Searching hadith for \"لماذا الكعبة مهمة؟\"\n",
      "Searching hadith for \"لماذا يجب على المسلمين الصيام لمدة شهر كامل؟\"\n",
      "Searching hadith for \"كيف يمكن للمرء أن يطهر قلبه وروحه؟\"\n",
      "Searching al-mawsuah for \"أين يحدث الحج؟\"\n",
      "Searching hadith for \"كيف يمكن فهم والتعامل مع الحزن والأسى في الإسلام؟\"\n",
      "Searching al-mawsuah for \"متى ليلة القدر؟\"\n",
      "Searching al-mawsuah for \"أحكام الحرب في الفقه الإسلامي\"\n",
      "Searching al-mawsuah for \"كم مرة يصلي المسلمون خلال رمضان؟\"\n",
      "Searching al-mawsuah for \"أهمية الكعبة في الفقه الإسلامي\"\n",
      "Searching al-mawsuah for \"لماذا يجب على المسلمين الصيام لمدة شهر كامل؟\"\n",
      "Searching al-mawsuah for \"كيف يمكن للمرء أن يطهر قلبه وروحه؟\"\n",
      "Searching al-mawsuah for \"كيف يمكن فهم والتعامل مع الحزن والأسى في الإسلام؟\"\n"
     ]
    },
    {
     "name": "stderr",
     "output_type": "stream",
     "text": [
      "Average Metric: 262 / 33  (793.9):  34%|███▎      | 33/98 [00:12<00:24,  2.62it/s]"
     ]
    },
    {
     "name": "stdout",
     "output_type": "stream",
     "text": [
      "Searching quran for \"ما هي الكعبة؟\"\n"
     ]
    },
    {
     "name": "stderr",
     "output_type": "stream",
     "text": [
      "Average Metric: 274 / 35  (782.9):  35%|███▍      | 34/98 [00:12<00:23,  2.74it/s]"
     ]
    },
    {
     "name": "stdout",
     "output_type": "stream",
     "text": [
      "Searching quran for \"من هو النبي محمد؟\"\n",
      "Searching quran for \"ما هي التزكية؟\"\n"
     ]
    },
    {
     "name": "stderr",
     "output_type": "stream",
     "text": [
      "Average Metric: 310 / 39  (794.9):  39%|███▉      | 38/98 [00:13<00:14,  4.00it/s]"
     ]
    },
    {
     "name": "stdout",
     "output_type": "stream",
     "text": [
      "Searching quran for \"أحكام الحرب في الإسلام\"\n",
      "Searching quran for \"ما الذي يعلمه الإسلام عن إدارة القلق والاكتئاب والشك الذاتي؟\"\n",
      "Searching quran for \"أين تؤدى العمرة؟\"\n",
      "Searching quran for \"كيف تكون الروحانية الإسلامية فريدة؟\"\n"
     ]
    },
    {
     "name": "stderr",
     "output_type": "stream",
     "text": [
      "Average Metric: 320 / 40  (800.0):  41%|████      | 40/98 [00:13<00:09,  5.93it/s]"
     ]
    },
    {
     "name": "stdout",
     "output_type": "stream",
     "text": [
      "Searching quran for \"كيف يفهم الإسلام الروح\"\n",
      "Searching hadith for \"ما هي الكعبة؟\"\n",
      "Searching hadith for \"من هو النبي محمد؟\"\n",
      "Searching hadith for \"ما هي التزكية؟\"\n",
      "Searching hadith for \"أحاديث عن أحكام الحرب في الإسلام\"\n",
      "Searching hadith for \"ما الذي يعلمه الإسلام عن إدارة القلق والاكتئاب والشك الذاتي؟\"\n",
      "Searching hadith for \"كيف تكون الروحانية الإسلامية فريدة؟\"\n",
      "Searching hadith for \"فهم الروح في الإسلام\"\n",
      "Searching hadith for \"أين تؤدى العمرة؟\"\n",
      "Searching al-mawsuah for \"ما هي الكعبة؟\"\n",
      "Searching al-mawsuah for \"ما هي التزكية؟\"\n",
      "Searching al-mawsuah for \"من هو النبي محمد؟\"\n",
      "Searching al-mawsuah for \"أحكام الحرب في الفقه الإسلامي\"\n",
      "Searching al-mawsuah for \"ما الذي يعلمه الإسلام عن إدارة القلق والاكتئاب والشك الذاتي؟\"\n",
      "Searching al-mawsuah for \"كيف تكون الروحانية الإسلامية فريدة؟\"\n"
     ]
    },
    {
     "name": "stderr",
     "output_type": "stream",
     "text": [
      "Average Metric: 336 / 42  (800.0):  43%|████▎     | 42/98 [00:15<00:21,  2.61it/s]"
     ]
    },
    {
     "name": "stdout",
     "output_type": "stream",
     "text": [
      "Searching quran for \"من هو عيسى في الإسلام؟\"\n",
      "Searching al-mawsuah for \"الروح في الفقه الإسلامي\"\n",
      "Searching quran for \"ما هو الإسلام؟\"\n"
     ]
    },
    {
     "name": "stderr",
     "output_type": "stream",
     "text": [
      "Average Metric: 364 / 46  (791.3):  46%|████▌     | 45/98 [00:15<00:16,  3.20it/s]"
     ]
    },
    {
     "name": "stdout",
     "output_type": "stream",
     "text": [
      "Searching quran for \"متى رمضان؟\"\n",
      "Searching al-mawsuah for \"أين تؤدى العمرة؟\"\n",
      "Searching quran for \"كيف يعامل الإسلام الأقليات الدينية؟\"\n",
      "Searching quran for \"كيف تتعلق الشريعة بطقوس العبادة؟\"\n",
      "Searching quran for \"هل انتشر الإسلام بالعنف والإكراه؟\"\n"
     ]
    },
    {
     "name": "stderr",
     "output_type": "stream",
     "text": [
      "Average Metric: 374 / 47  (795.7):  48%|████▊     | 47/98 [00:15<00:10,  4.85it/s]"
     ]
    },
    {
     "name": "stdout",
     "output_type": "stream",
     "text": [
      "Searching quran for \"لماذا يتم الاحتفال بشهر رمضان؟\"\n",
      "Searching hadith for \"من هو عيسى في الأحاديث؟\"\n",
      "Searching hadith for \"ما هو الإسلام؟\"\n"
     ]
    },
    {
     "name": "stderr",
     "output_type": "stream",
     "text": [
      "Average Metric: 382 / 48  (795.8):  49%|████▉     | 48/98 [00:16<00:11,  4.51it/s]"
     ]
    },
    {
     "name": "stdout",
     "output_type": "stream",
     "text": [
      "Searching hadith for \"متى رمضان؟\"\n",
      "Searching quran for \"من هو النبي إبراهيم؟\"\n",
      "Searching hadith for \"كيف تتعلق الشريعة بطقوس العبادة؟\"\n",
      "Searching hadith for \"معاملة الإسلام للأقليات الدينية\"\n",
      "Searching hadith for \"هل انتشر الإسلام بالعنف والإكراه؟\"\n",
      "Searching al-mawsuah for \"ما هو الإسلام؟\"\n",
      "Searching hadith for \"لماذا يتم الاحتفال بشهر رمضان؟\"\n",
      "Searching al-mawsuah for \"من هو عيسى في الفقه الإسلامي؟\"\n",
      "Searching al-mawsuah for \"متى رمضان؟\"\n",
      "Searching hadith for \"من هو النبي إبراهيم؟\"\n",
      "Searching al-mawsuah for \"كيف تتعلق الشريعة بطقوس العبادة؟\"\n",
      "Searching al-mawsuah for \"معاملة الأقليات الدينية في الفقه الإسلامي\"\n",
      "Searching al-mawsuah for \"هل انتشر الإسلام بالعنف والإكراه؟\"\n"
     ]
    },
    {
     "name": "stderr",
     "output_type": "stream",
     "text": [
      "Average Metric: 386 / 49  (787.8):  50%|█████     | 49/98 [00:17<00:22,  2.14it/s]"
     ]
    },
    {
     "name": "stdout",
     "output_type": "stream",
     "text": [
      "Searching quran for \"ما هو زكاة الفطر؟\"\n",
      "Searching al-mawsuah for \"لماذا يتم الاحتفال بشهر رمضان؟\"\n"
     ]
    },
    {
     "name": "stderr",
     "output_type": "stream",
     "text": [
      "Average Metric: 428 / 54  (792.6):  54%|█████▍    | 53/98 [00:17<00:10,  4.46it/s]"
     ]
    },
    {
     "name": "stdout",
     "output_type": "stream",
     "text": [
      "Searching quran for \"هل يسمح الإسلام بقتل المدنيين؟\"\n",
      "Searching quran for \"ما هو الفقه؟\"\n",
      "Searching quran for \"كيف تتعلق الشريعة بالمجتمع؟\"\n",
      "Searching quran for \"أهمية الصدقة في رمضان\"\n",
      "Searching quran for \"القيود الغذائية في الإسلام\"\n",
      "Searching al-mawsuah for \"من هو النبي إبراهيم؟\"\n"
     ]
    },
    {
     "name": "stderr",
     "output_type": "stream",
     "text": [
      "Average Metric: 436 / 55  (792.7):  56%|█████▌    | 55/98 [00:18<00:09,  4.56it/s]"
     ]
    },
    {
     "name": "stdout",
     "output_type": "stream",
     "text": [
      "Searching quran for \"ما هو القرآن؟\"\n",
      "Searching hadith for \"ما هو زكاة الفطر؟\"\n",
      "Searching hadith for \"هل يسمح الإسلام بقتل المدنيين؟\"\n",
      "Searching hadith for \"ما هو الفقه؟\"\n",
      "Searching hadith for \"كيف تتعلق الشريعة بالمجتمع؟\"\n"
     ]
    },
    {
     "name": "stderr",
     "output_type": "stream",
     "text": [
      "Average Metric: 442 / 56  (789.3):  57%|█████▋    | 56/98 [00:18<00:12,  3.48it/s]"
     ]
    },
    {
     "name": "stdout",
     "output_type": "stream",
     "text": [
      "Searching hadith for \"القيود الغذائية في الإسلام\"\n",
      "Searching hadith for \"فضل الصدقة في رمضان\"\n",
      "Searching quran for \"من بنى الكعبة؟\"\n",
      "Searching al-mawsuah for \"ما هو زكاة الفطر؟\"\n",
      "Searching hadith for \"ما هو القرآن؟\"\n",
      "Searching al-mawsuah for \"هل يسمح الإسلام بقتل المدنيين؟\"\n",
      "Searching al-mawsuah for \"ما هو الفقه؟\"\n",
      "Searching al-mawsuah for \"كيف تتعلق الشريعة بالمجتمع؟\"\n",
      "Searching al-mawsuah for \"الصدقة في رمضان\"\n",
      "Searching al-mawsuah for \"القيود الغذائية في الإسلام\"\n"
     ]
    },
    {
     "name": "stderr",
     "output_type": "stream",
     "text": [
      "Average Metric: 452 / 58  (779.3):  58%|█████▊    | 57/98 [00:19<00:18,  2.24it/s]"
     ]
    },
    {
     "name": "stdout",
     "output_type": "stream",
     "text": [
      "Searching hadith for \"من بنى الكعبة؟\"\n",
      "Searching al-mawsuah for \"ما هو القرآن؟\"\n",
      "Searching quran for \"من أين تأتي الشريعة؟\"\n",
      "Searching quran for \"كيف يغذي الإسلام رفاهنا العاطفي؟\"\n"
     ]
    },
    {
     "name": "stderr",
     "output_type": "stream",
     "text": [
      "Average Metric: 476 / 61  (780.3):  62%|██████▏   | 61/98 [00:20<00:09,  4.05it/s]"
     ]
    },
    {
     "name": "stdout",
     "output_type": "stream",
     "text": [
      "Searching quran for \"كيفية أداء العمرة\"\n",
      "Searching quran for \"آيات القرآن للتعامل مع الضيق والشدائد\"\n",
      "Searching quran for \"هل يقول القرآن بقتل غير المؤمنين؟\"\n"
     ]
    },
    {
     "name": "stderr",
     "output_type": "stream",
     "text": [
      "Average Metric: 496 / 63  (787.3):  64%|██████▍   | 63/98 [00:20<00:07,  4.60it/s]"
     ]
    },
    {
     "name": "stdout",
     "output_type": "stream",
     "text": [
      "Searching quran for \"هل التجديف يعاقب عليه بالإعدام؟\"\n",
      "Searching al-mawsuah for \"من بنى الكعبة؟\"\n",
      "Searching quran for \"هل يسمح الإسلام بقتل المدنيين؟\"\n",
      "Searching hadith for \"كيف يغذي الإسلام رفاهنا العاطفي؟\"\n",
      "Searching hadith for \"من أين تأتي الشريعة؟\"\n",
      "Searching hadith for \"كيفية أداء العمرة\"\n",
      "Searching hadith for \"أحاديث عن التعامل مع الضيق والشدائد\"\n",
      "Searching hadith for \"هل يوجد حديث يأمر بقتل غير المؤمنين؟\"\n"
     ]
    },
    {
     "name": "stderr",
     "output_type": "stream",
     "text": [
      "Average Metric: 504 / 64  (787.5):  65%|██████▌   | 64/98 [00:21<00:11,  2.95it/s]"
     ]
    },
    {
     "name": "stdout",
     "output_type": "stream",
     "text": [
      "Searching hadith for \"هل التجديف يعاقب عليه بالإعدام؟\"\n",
      "Searching quran for \"ما معنى الإسلام؟\"\n",
      "Searching hadith for \"هل يسمح الإسلام بقتل المدنيين؟\"\n",
      "Searching al-mawsuah for \"كيف يغذي الإسلام رفاهنا العاطفي؟\"\n",
      "Searching al-mawsuah for \"مصادر الشريعة الإسلامية\"\n",
      "Searching al-mawsuah for \"كيفية أداء العمرة\"\n",
      "Searching al-mawsuah for \"أحكام الفقه الإسلامي حول التعامل مع الضيق والشدائد\"\n",
      "Searching al-mawsuah for \"ما هو حكم قتل غير المؤمنين في الفقه الإسلامي؟\"\n"
     ]
    },
    {
     "name": "stderr",
     "output_type": "stream",
     "text": [
      "Average Metric: 522 / 66  (790.9):  66%|██████▋   | 65/98 [00:22<00:15,  2.15it/s]"
     ]
    },
    {
     "name": "stdout",
     "output_type": "stream",
     "text": [
      "Searching al-mawsuah for \"هل التجديف يعاقب عليه بالإعدام؟\"\n",
      "Searching al-mawsuah for \"هل يسمح الإسلام بقتل المدنيين؟\"\n",
      "Searching hadith for \"ما معنى الإسلام في الحديث؟\"\n",
      "Searching quran for \"ما هو عيد الفطر؟\"\n",
      "Searching quran for \"لماذا الحج مهم؟\"\n"
     ]
    },
    {
     "name": "stderr",
     "output_type": "stream",
     "text": [
      "Average Metric: 532 / 68  (782.4):  68%|██████▊   | 67/98 [00:22<00:10,  3.02it/s]"
     ]
    },
    {
     "name": "stdout",
     "output_type": "stream",
     "text": [
      "Searching quran for \"كيفية أداء الحج\"\n",
      "Searching quran for \"هل يقول القرآن بقتل غير المؤمنين؟\"\n"
     ]
    },
    {
     "name": "stderr",
     "output_type": "stream",
     "text": [
      "Average Metric: 552 / 71  (777.5):  72%|███████▏  | 71/98 [00:22<00:05,  5.09it/s]"
     ]
    },
    {
     "name": "stdout",
     "output_type": "stream",
     "text": [
      "Searching quran for \"هل هناك استثناءات أو إعفاءات من الصيام؟\"\n",
      "Searching quran for \"ما هي العمرة؟\"\n",
      "Searching quran for \"هل انتشر الإسلام بالعنف والإكراه؟\"\n",
      "Searching hadith for \"ما هو عيد الفطر؟\"\n",
      "Searching hadith for \"أهمية الحج في الأحاديث\"\n",
      "Searching al-mawsuah for \"ما هو تعريف الإسلام في الفقه الإسلامي؟\"\n",
      "Searching hadith for \"هل يوجد حديث يأمر بقتل غير المؤمنين؟\"\n",
      "Searching hadith for \"كيفية أداء الحج\"\n",
      "Searching hadith for \"ما هي العمرة؟\"\n",
      "Searching hadith for \"هل هناك استثناءات أو إعفاءات من الصيام؟\"\n",
      "Searching hadith for \"هل انتشر الإسلام بالعنف والإكراه؟\"\n",
      "Searching al-mawsuah for \"ما هو عيد الفطر؟\"\n",
      "Searching al-mawsuah for \"أهمية الحج في الفقه الإسلامي\"\n"
     ]
    },
    {
     "name": "stderr",
     "output_type": "stream",
     "text": [
      "Average Metric: 560 / 72  (777.8):  73%|███████▎  | 72/98 [00:23<00:09,  2.84it/s]"
     ]
    },
    {
     "name": "stdout",
     "output_type": "stream",
     "text": [
      "Searching quran for \"هل العمرة والحج نفس الشيء؟\"\n",
      "Searching al-mawsuah for \"كيفية أداء الحج\"\n",
      "Searching al-mawsuah for \"ما هو حكم قتل غير المؤمنين في الفقه الإسلامي؟\"\n"
     ]
    },
    {
     "name": "stderr",
     "output_type": "stream",
     "text": [
      "Average Metric: 566 / 73  (775.3):  74%|███████▍  | 73/98 [00:24<00:10,  2.32it/s]"
     ]
    },
    {
     "name": "stdout",
     "output_type": "stream",
     "text": [
      "Searching al-mawsuah for \"هل انتشر الإسلام بالعنف والإكراه؟\"\n",
      "Searching al-mawsuah for \"ما هي العمرة؟\"\n",
      "Searching al-mawsuah for \"هل هناك استثناءات أو إعفاءات من الصيام؟\"\n",
      "Searching quran for \"ماذا يؤمن المسلمون؟\"\n"
     ]
    },
    {
     "name": "stderr",
     "output_type": "stream",
     "text": [
      "Average Metric: 576 / 75  (768.0):  76%|███████▌  | 74/98 [00:24<00:08,  2.74it/s]"
     ]
    },
    {
     "name": "stdout",
     "output_type": "stream",
     "text": [
      "Searching hadith for \"هل العمرة والحج نفس الشيء؟\"\n",
      "Searching quran for \"هل الشريعة موحدة وغير متغيرة؟\"\n",
      "Searching quran for \"ما هي الصدقة؟\"\n"
     ]
    },
    {
     "name": "stderr",
     "output_type": "stream",
     "text": [
      "Average Metric: 582 / 76  (765.8):  78%|███████▊  | 76/98 [00:24<00:05,  3.92it/s]"
     ]
    },
    {
     "name": "stdout",
     "output_type": "stream",
     "text": [
      "Searching quran for \"صلاة التراويح\"\n"
     ]
    },
    {
     "name": "stderr",
     "output_type": "stream",
     "text": [
      "Average Metric: 600 / 78  (769.2):  79%|███████▊  | 77/98 [00:25<00:05,  3.83it/s]"
     ]
    },
    {
     "name": "stdout",
     "output_type": "stream",
     "text": [
      "Searching quran for \"ما معنى الجهاد؟\"\n",
      "Searching quran for \"ما هو التوحيد؟\"\n",
      "Searching al-mawsuah for \"هل العمرة والحج نفس الشيء؟\"\n",
      "Searching hadith for \"ماذا يؤمن المسلمون؟\"\n"
     ]
    },
    {
     "name": "stderr",
     "output_type": "stream",
     "text": [
      "Average Metric: 612 / 79  (774.7):  81%|████████  | 79/98 [00:25<00:03,  4.93it/s]"
     ]
    },
    {
     "name": "stdout",
     "output_type": "stream",
     "text": [
      "Searching quran for \"كيف يتناول الإسلام القدر والإرادة الحرة؟\"\n",
      "Searching hadith for \"هل الشريعة موحدة وغير متغيرة؟\"\n",
      "Searching hadith for \"ما هي الصدقة؟\"\n",
      "Searching hadith for \"صلاة التراويح\"\n"
     ]
    },
    {
     "name": "stderr",
     "output_type": "stream",
     "text": [
      "Average Metric: 620 / 80  (775.0):  82%|████████▏ | 80/98 [00:26<00:05,  3.30it/s]"
     ]
    },
    {
     "name": "stdout",
     "output_type": "stream",
     "text": [
      "Searching hadith for \"ما معنى الجهاد؟\"\n",
      "Searching hadith for \"ما هو التوحيد؟\"\n",
      "Searching quran for \"الطلاق في الإسلام\"\n",
      "Searching al-mawsuah for \"ماذا يؤمن المسلمون؟\"\n",
      "Searching hadith for \"كيف يتناول الإسلام القدر والإرادة الحرة؟\"\n",
      "Searching al-mawsuah for \"ما هي الصدقة؟\"\n",
      "Searching al-mawsuah for \"هل الشريعة موحدة وغير متغيرة؟\"\n",
      "Searching al-mawsuah for \"صلاة التراويح\"\n",
      "Searching al-mawsuah for \"ما معنى الجهاد؟\"\n"
     ]
    },
    {
     "name": "stderr",
     "output_type": "stream",
     "text": [
      "Average Metric: 628 / 81  (775.3):  83%|████████▎ | 81/98 [00:27<00:07,  2.27it/s]"
     ]
    },
    {
     "name": "stdout",
     "output_type": "stream",
     "text": [
      "Searching al-mawsuah for \"ما هو التوحيد؟\"\n",
      "Searching hadith for \"حديث عن الطلاق\"\n",
      "Searching quran for \"ما هي الأعياد التي يحتفل بها المسلمون؟\"\n",
      "Searching al-mawsuah for \"كيف يتناول الإسلام القدر والإرادة الحرة؟\"\n"
     ]
    },
    {
     "name": "stderr",
     "output_type": "stream",
     "text": [
      "Average Metric: 644 / 84  (766.7):  86%|████████▌ | 84/98 [00:27<00:03,  3.92it/s]"
     ]
    },
    {
     "name": "stdout",
     "output_type": "stream",
     "text": [
      "Searching quran for \"هل الوسواس القهري نتيجة وساوس الشيطان؟\"\n",
      "Searching quran for \"كيف نعرف أن الله موجود؟\"\n",
      "Searching quran for \"تاريخ الشريعة\"\n"
     ]
    },
    {
     "name": "stderr",
     "output_type": "stream",
     "text": [
      "Average Metric: 658 / 86  (765.1):  88%|████████▊ | 86/98 [00:27<00:02,  4.26it/s]"
     ]
    },
    {
     "name": "stdout",
     "output_type": "stream",
     "text": [
      "Searching quran for \"هل يسمح الإسلام بالحرب الوقائية؟\"\n",
      "Searching al-mawsuah for \"الطلاق في الفقه الإسلامي\"\n",
      "Searching quran for \"الوحي في الإسلام\"\n",
      "Searching hadith for \"ما هي الأعياد التي يحتفل بها المسلمون؟\"\n"
     ]
    },
    {
     "name": "stderr",
     "output_type": "stream",
     "text": [
      "Average Metric: 662 / 87  (760.9):  88%|████████▊ | 86/98 [00:27<00:02,  4.26it/s]"
     ]
    },
    {
     "name": "stdout",
     "output_type": "stream",
     "text": [
      "Searching quran for \"هل الإسلام يشجع على العنف؟\"\n",
      "Searching hadith for \"هل الوسواس القهري نتيجة وساوس الشيطان؟\"\n",
      "Searching hadith for \"كيف نعرف أن الله موجود؟\"\n",
      "Searching hadith for \"تاريخ الشريعة\"\n"
     ]
    },
    {
     "name": "stderr",
     "output_type": "stream",
     "text": [
      "Average Metric: 670 / 88  (761.4):  90%|████████▉ | 88/98 [00:28<00:02,  3.46it/s]"
     ]
    },
    {
     "name": "stdout",
     "output_type": "stream",
     "text": [
      "Searching hadith for \"هل يسمح الإسلام بالحرب الوقائية؟\"\n",
      "Searching quran for \"ما هي أهمية الحج؟\"\n",
      "Searching hadith for \"الوحي في الإسلام\"\n",
      "Searching al-mawsuah for \"ما هي الأعياد التي يحتفل بها المسلمون؟\"\n",
      "Searching hadith for \"هل الإسلام يشجع على العنف؟\"\n",
      "Searching al-mawsuah for \"هل الوسواس القهري نتيجة وساوس الشيطان؟\"\n",
      "Searching al-mawsuah for \"تاريخ الشريعة\"\n",
      "Searching al-mawsuah for \"كيف نعرف أن الله موجود؟\"\n"
     ]
    },
    {
     "name": "stderr",
     "output_type": "stream",
     "text": [
      "Average Metric: 676 / 89  (759.6):  91%|█████████ | 89/98 [00:29<00:03,  2.28it/s]"
     ]
    },
    {
     "name": "stdout",
     "output_type": "stream",
     "text": [
      "Searching al-mawsuah for \"هل يسمح الإسلام بالحرب الوقائية؟\"\n",
      "Searching hadith for \"ما هي أهمية الحج؟\"\n",
      "Searching al-mawsuah for \"الوحي في الإسلام\"\n",
      "Searching al-mawsuah for \"هل الإسلام يشجع على العنف؟\"\n",
      "Searching quran for \"لماذا يطلب الله من الناس عبادته؟\"\n"
     ]
    },
    {
     "name": "stderr",
     "output_type": "stream",
     "text": [
      "Average Metric: 700 / 92  (760.9):  93%|█████████▎| 91/98 [00:29<00:02,  2.74it/s]"
     ]
    },
    {
     "name": "stdout",
     "output_type": "stream",
     "text": [
      "Searching quran for \"هل يؤمن المسلمون بصلب عيسى؟\"\n"
     ]
    },
    {
     "name": "stderr",
     "output_type": "stream",
     "text": [
      "Average Metric: 724 / 95  (762.1):  96%|█████████▌| 94/98 [00:30<00:00,  4.06it/s]"
     ]
    },
    {
     "name": "stdout",
     "output_type": "stream",
     "text": [
      "Searching al-mawsuah for \"ما هي أهمية الحج؟\"\n",
      "Searching hadith for \"لماذا يطلب الله من الناس عبادته؟\"\n",
      "Searching hadith for \"هل ورد في الأحاديث أن المسلمين يؤمنون بصلب عيسى؟\"\n"
     ]
    },
    {
     "name": "stderr",
     "output_type": "stream",
     "text": [
      "Average Metric: 734 / 96  (764.6):  98%|█████████▊| 96/98 [00:31<00:00,  3.24it/s]"
     ]
    },
    {
     "name": "stdout",
     "output_type": "stream",
     "text": [
      "Searching al-mawsuah for \"لماذا يطلب الله من الناس عبادته؟\"\n",
      "Searching al-mawsuah for \"موقف الفقه الإسلامي من صلب عيسى\"\n"
     ]
    },
    {
     "name": "stderr",
     "output_type": "stream",
     "text": [
      "Average Metric: 748 / 98  (763.3): 100%|██████████| 98/98 [00:32<00:00,  3.05it/s]\n"
     ]
    },
    {
     "name": "stdout",
     "output_type": "stream",
     "text": [
      "Searching quran for \"أين الكعبة؟\"\n",
      "Searching quran for \"من يجب عليه أداء الحج؟\"\n",
      "Searching quran for \"هل يسمح الإسلام بجرائم الشرف؟\"\n",
      "Searching quran for \"هل يصوم المسلمون خارج رمضان؟\"\n",
      "Searching quran for \"هل يقدم القرآن توجيهات حول كيفية التعامل مع الصدمة والألم؟\"\n",
      "Searching quran for \"ما هي الفتوى؟\"\n",
      "Searching quran for \"ما معنى حلال؟\"\n",
      "Searching quran for \"هل الردة يعاقب عليها بالإعدام في الإسلام؟\"\n"
     ]
    },
    {
     "name": "stderr",
     "output_type": "stream",
     "text": [
      "  0%|          | 0/98 [00:00<?, ?it/s]"
     ]
    },
    {
     "name": "stdout",
     "output_type": "stream",
     "text": [
      "Searching hadith for \"أين الكعبة؟\"\n",
      "Searching hadith for \"هل يصوم المسلمون خارج رمضان؟\"\n",
      "Searching hadith for \"هل توجد أحاديث تتعلق بجرائم الشرف؟\"\n",
      "Searching hadith for \"من يجب عليه أداء الحج؟\"\n",
      "Searching hadith for \"ما هي الفتوى؟\"\n",
      "Searching hadith for \"هل تقدم السنة النبوية توجيهات حول كيفية التعامل مع الصدمة والألم؟\"\n",
      "Searching hadith for \"ما معنى حلال؟\"\n",
      "Searching hadith for \"هل يعاقب المرتد بالإعدام في الإسلام؟\"\n",
      "Searching al-mawsuah for \"ما هو حكم الفقه الإسلامي في جرائم الشرف؟\"\n",
      "Searching al-mawsuah for \"من يجب عليه أداء الحج؟\"\n",
      "Searching al-mawsuah for \"أين الكعبة؟\"\n",
      "Searching al-mawsuah for \"هل يصوم المسلمون خارج رمضان؟\"\n",
      "Searching al-mawsuah for \"ما معنى حلال؟\"\n",
      "Searching al-mawsuah for \"كيفية التعامل مع الصدمة والألم في الفقه الإسلامي\"\n",
      "Searching al-mawsuah for \"ما هي الفتوى؟\"\n",
      "Searching al-mawsuah for \"حكم الردة في الفقه الإسلامي\"\n"
     ]
    },
    {
     "name": "stderr",
     "output_type": "stream",
     "text": [
      "Average Metric: 54 / 7  (771.4):   6%|▌         | 6/98 [00:02<00:43,  2.10it/s]"
     ]
    },
    {
     "name": "stdout",
     "output_type": "stream",
     "text": [
      "Searching quran for \"ما هو رمضان؟\"\n",
      "Searching quran for \"هل الإسلام يشجع على العنف؟\"\n",
      "Searching quran for \"هل يسمح الإسلام بالحرب الوقائية؟\"\n",
      "Searching quran for \"أهمية ليلة القدر\"\n",
      "Searching quran for \"كيف يصف القرآن السعادة؟ كيف يمكن تحقيقها في الإسلام؟\"\n",
      "Searching quran for \"هل يوفر الإسلام إرشادات حول كيفية التعامل مع الأمراض النفسية؟\"\n",
      "Searching quran for \"ما هو رمضان؟\"\n"
     ]
    },
    {
     "name": "stderr",
     "output_type": "stream",
     "text": [
      "Average Metric: 64 / 8  (800.0):   8%|▊         | 8/98 [00:02<00:18,  4.82it/s]"
     ]
    },
    {
     "name": "stdout",
     "output_type": "stream",
     "text": [
      "Searching quran for \"لماذا يصلي المسلمون يوميا؟\"\n",
      "Searching hadith for \"ما هو رمضان؟\"\n",
      "Searching hadith for \"هل الإسلام يشجع على العنف؟\"\n",
      "Searching hadith for \"فضل ليلة القدر\"\n",
      "Searching hadith for \"هل هناك أحاديث تتحدث عن كيفية التعامل مع الأمراض النفسية؟\"\n",
      "Searching hadith for \"كيف يصف الحديث السعادة؟ كيف يمكن تحقيقها في الإسلام؟\"\n",
      "Searching hadith for \"ما هو رمضان؟\"\n",
      "Searching hadith for \"هل يسمح الإسلام بالحرب الوقائية؟\"\n",
      "Searching hadith for \"لماذا يصلي المسلمون يوميا؟\"\n",
      "Searching al-mawsuah for \"ما هو رمضان؟\"\n",
      "Searching al-mawsuah for \"هل الإسلام يشجع على العنف؟\"\n",
      "Searching al-mawsuah for \"أهمية ليلة القدر في الفقه الإسلامي\"\n",
      "Searching al-mawsuah for \"إرشادات الفقه الإسلامي حول التعامل مع الأمراض النفسية\"\n",
      "Searching al-mawsuah for \"ما هو رمضان؟\"\n",
      "Searching al-mawsuah for \"السعادة في الفقه الإسلامي وكيفية تحقيقها\"\n",
      "Searching al-mawsuah for \"هل يسمح الإسلام بالحرب الوقائية؟\"\n",
      "Searching al-mawsuah for \"لماذا يصلي المسلمون يوميا؟\"\n"
     ]
    },
    {
     "name": "stderr",
     "output_type": "stream",
     "text": [
      "Average Metric: 74 / 10  (740.0):   9%|▉         | 9/98 [00:04<00:18,  4.82it/s]"
     ]
    },
    {
     "name": "stdout",
     "output_type": "stream",
     "text": [
      "Searching quran for \"كيف تصوم رمضان؟\"\n",
      "Searching quran for \"كيف نعلم أن القرآن وحي إلهي؟\"\n"
     ]
    },
    {
     "name": "stderr",
     "output_type": "stream",
     "text": [
      "Average Metric: 114 / 16  (712.5):  15%|█▌        | 15/98 [00:04<00:35,  2.31it/s]"
     ]
    },
    {
     "name": "stdout",
     "output_type": "stream",
     "text": [
      "Searching quran for \"من يجب عليه الصيام في رمضان؟\"\n",
      "Searching quran for \"ما هو الغرض من الصيام في رمضان؟\"\n",
      "Searching quran for \"هل التجديف يعاقب عليه بالإعدام؟\"\n",
      "Searching quran for \"مدة الصيام في رمضان\"\n",
      "Searching quran for \"ماذا يقدم الإسلام للناس؟\"\n",
      "Searching quran for \"كيف يُساء تفسير الجهاد كإرهاب؟\"\n",
      "Searching hadith for \"كيف تصوم رمضان؟\"\n",
      "Searching hadith for \"كيف نعلم أن القرآن وحي إلهي؟\"\n",
      "Searching hadith for \"هل التجديف يعاقب عليه بالإعدام؟\"\n",
      "Searching hadith for \"من يجب عليه الصيام في رمضان؟\"\n",
      "Searching hadith for \"ما هو الغرض من الصيام في رمضان؟\"\n",
      "Searching hadith for \"كيف يُساء تفسير الجهاد كإرهاب؟\"\n",
      "Searching hadith for \"ماذا يقدم الإسلام للناس؟\"\n",
      "Searching hadith for \"مدة الصيام في رمضان\"\n",
      "Searching al-mawsuah for \"كيف تصوم رمضان؟\"\n",
      "Searching al-mawsuah for \"كيف نعلم أن القرآن وحي إلهي؟\"\n",
      "Searching al-mawsuah for \"من يجب عليه الصيام في رمضان؟\"\n",
      "Searching al-mawsuah for \"ما هو الغرض من الصيام في رمضان؟\"\n",
      "Searching al-mawsuah for \"كيف يُساء تفسير الجهاد كإرهاب؟\"\n",
      "Searching al-mawsuah for \"مدة الصيام في رمضان\"\n",
      "Searching al-mawsuah for \"هل التجديف يعاقب عليه بالإعدام؟\"\n",
      "Searching al-mawsuah for \"ماذا يقدم الإسلام للناس؟\"\n"
     ]
    },
    {
     "name": "stderr",
     "output_type": "stream",
     "text": [
      "Average Metric: 132 / 18  (733.3):  17%|█▋        | 17/98 [00:07<00:31,  2.58it/s]"
     ]
    },
    {
     "name": "stdout",
     "output_type": "stream",
     "text": [
      "Searching quran for \"كيف يُساء تفسير الجهاد كإرهاب؟\"\n",
      "Searching quran for \"أركان الإسلام الخمسة\"\n"
     ]
    },
    {
     "name": "stderr",
     "output_type": "stream",
     "text": [
      "Average Metric: 182 / 24  (758.3):  24%|██▍       | 24/98 [00:07<00:15,  4.79it/s]"
     ]
    },
    {
     "name": "stdout",
     "output_type": "stream",
     "text": [
      "Searching quran for \"كيف يعامل الإسلام الأقليات الدينية؟\"\n",
      "Searching quran for \"ليلة القدر\"\n",
      "Searching quran for \"من هو الله\"\n",
      "Searching quran for \"هل يؤمن المسلمون بالروح القدس؟\"\n",
      "Searching quran for \"هل يؤمن المسلمون بالجنة والنار؟\"\n",
      "Searching quran for \"ما معنى الجهاد؟\"\n",
      "Searching hadith for \"كيف يُساء تفسير الجهاد كإرهاب؟\"\n",
      "Searching hadith for \"أركان الإسلام الخمسة\"\n",
      "Searching hadith for \"ما هي ليلة القدر\"\n",
      "Searching hadith for \"معاملة الإسلام للأقليات الدينية\"\n",
      "Searching hadith for \"هل ذكر الروح القدس في الأحاديث؟\"\n",
      "Searching hadith for \"هل ذكر النبي الجنة والنار؟\"\n",
      "Searching hadith for \"ما معنى الجهاد؟\"\n",
      "Searching hadith for \"من هو الله\"\n",
      "Searching al-mawsuah for \"كيف يُساء تفسير الجهاد كإرهاب؟\"\n",
      "Searching al-mawsuah for \"أركان الإسلام الخمسة\"\n",
      "Searching al-mawsuah for \"معاملة الأقليات الدينية في الفقه الإسلامي\"\n",
      "Searching al-mawsuah for \"ليلة القدر في الفقه الإسلامي\"\n",
      "Searching al-mawsuah for \"ما معنى الجهاد؟\"\n"
     ]
    },
    {
     "name": "stderr",
     "output_type": "stream",
     "text": [
      "Average Metric: 192 / 25  (768.0):  24%|██▍       | 24/98 [00:09<00:15,  4.79it/s]"
     ]
    },
    {
     "name": "stdout",
     "output_type": "stream",
     "text": [
      "Searching al-mawsuah for \"الإيمان بالروح القدس في الفقه الإسلامي\"\n",
      "Searching al-mawsuah for \"الإيمان بالجنة والنار في الفقه الإسلامي\"\n",
      "Searching al-mawsuah for \"من هو الله\"\n",
      "Searching quran for \"أين يحدث الحج؟\"\n"
     ]
    },
    {
     "name": "stderr",
     "output_type": "stream",
     "text": [
      "Average Metric: 198 / 26  (761.5):  27%|██▋       | 26/98 [00:09<00:25,  2.78it/s]"
     ]
    },
    {
     "name": "stdout",
     "output_type": "stream",
     "text": [
      "Searching quran for \"أحكام الحرب في الإسلام\"\n"
     ]
    },
    {
     "name": "stderr",
     "output_type": "stream",
     "text": [
      "Average Metric: 232 / 30  (773.3):  31%|███       | 30/98 [00:09<00:18,  3.77it/s]"
     ]
    },
    {
     "name": "stdout",
     "output_type": "stream",
     "text": [
      "Searching quran for \"متى ليلة القدر؟\"\n",
      "Searching quran for \"كم مرة يصلي المسلمون خلال رمضان؟\"\n",
      "Searching quran for \"لماذا الكعبة مهمة؟\"\n",
      "Searching quran for \"لماذا يجب على المسلمين الصيام لمدة شهر كامل؟\"\n"
     ]
    },
    {
     "name": "stderr",
     "output_type": "stream",
     "text": [
      "Average Metric: 250 / 32  (781.2):  32%|███▏      | 31/98 [00:10<00:17,  3.77it/s]"
     ]
    },
    {
     "name": "stdout",
     "output_type": "stream",
     "text": [
      "Searching quran for \"كيف يمكن فهم والتعامل مع الحزن والأسى في الإسلام؟\"\n",
      "Searching hadith for \"أين يحدث الحج؟\"\n",
      "Searching quran for \"كيف يمكن للمرء أن يطهر قلبه وروحه؟\"\n",
      "Searching hadith for \"أحاديث عن أحكام الحرب في الإسلام\"\n",
      "Searching hadith for \"متى ليلة القدر؟\"\n",
      "Searching hadith for \"كم مرة يصلي المسلمون خلال رمضان؟\"\n",
      "Searching hadith for \"لماذا الكعبة مهمة؟\"\n",
      "Searching hadith for \"لماذا يجب على المسلمين الصيام لمدة شهر كامل؟\"\n",
      "Searching al-mawsuah for \"أين يحدث الحج؟\"\n",
      "Searching hadith for \"كيف يمكن فهم والتعامل مع الحزن والأسى في الإسلام؟\"\n",
      "Searching hadith for \"كيف يمكن للمرء أن يطهر قلبه وروحه؟\"\n",
      "Searching al-mawsuah for \"أحكام الحرب في الفقه الإسلامي\"\n",
      "Searching al-mawsuah for \"متى ليلة القدر؟\"\n",
      "Searching al-mawsuah for \"كم مرة يصلي المسلمون خلال رمضان؟\"\n",
      "Searching al-mawsuah for \"أهمية الكعبة في الفقه الإسلامي\"\n",
      "Searching al-mawsuah for \"لماذا يجب على المسلمين الصيام لمدة شهر كامل؟\"\n",
      "Searching al-mawsuah for \"كيف يمكن للمرء أن يطهر قلبه وروحه؟\"\n",
      "Searching al-mawsuah for \"كيف يمكن فهم والتعامل مع الحزن والأسى في الإسلام؟\"\n"
     ]
    },
    {
     "name": "stderr",
     "output_type": "stream",
     "text": [
      "Average Metric: 262 / 33  (793.9):  34%|███▎      | 33/98 [00:11<00:23,  2.75it/s]"
     ]
    },
    {
     "name": "stdout",
     "output_type": "stream",
     "text": [
      "Searching quran for \"ما هي الكعبة؟\"\n"
     ]
    },
    {
     "name": "stderr",
     "output_type": "stream",
     "text": [
      "Average Metric: 282 / 35  (805.7):  35%|███▍      | 34/98 [00:12<00:23,  2.77it/s]"
     ]
    },
    {
     "name": "stdout",
     "output_type": "stream",
     "text": [
      "Searching quran for \"من هو النبي محمد؟\"\n",
      "Searching quran for \"ما هي التزكية؟\"\n"
     ]
    },
    {
     "name": "stderr",
     "output_type": "stream",
     "text": [
      "Average Metric: 310 / 39  (794.9):  39%|███▉      | 38/98 [00:12<00:13,  4.44it/s]"
     ]
    },
    {
     "name": "stdout",
     "output_type": "stream",
     "text": [
      "Searching quran for \"أحكام الحرب في الإسلام\"\n",
      "Searching quran for \"ما الذي يعلمه الإسلام عن إدارة القلق والاكتئاب والشك الذاتي؟\"\n",
      "Searching quran for \"أين تؤدى العمرة؟\"\n",
      "Searching quran for \"كيف تكون الروحانية الإسلامية فريدة؟\"\n"
     ]
    },
    {
     "name": "stderr",
     "output_type": "stream",
     "text": [
      "Average Metric: 320 / 40  (800.0):  41%|████      | 40/98 [00:12<00:10,  5.53it/s]"
     ]
    },
    {
     "name": "stdout",
     "output_type": "stream",
     "text": [
      "Searching hadith for \"ما هي الكعبة؟\"\n",
      "Searching quran for \"كيف يفهم الإسلام الروح\"\n",
      "Searching hadith for \"من هو النبي محمد؟\"\n",
      "Searching hadith for \"ما هي التزكية؟\"\n",
      "Searching hadith for \"ما الذي يعلمه الإسلام عن إدارة القلق والاكتئاب والشك الذاتي؟\"\n",
      "Searching hadith for \"أحاديث عن أحكام الحرب في الإسلام\"\n",
      "Searching hadith for \"كيف تكون الروحانية الإسلامية فريدة؟\"\n",
      "Searching hadith for \"فهم الروح في الإسلام\"\n",
      "Searching al-mawsuah for \"ما هي الكعبة؟\"\n",
      "Searching hadith for \"أين تؤدى العمرة؟\"\n",
      "Searching al-mawsuah for \"ما هي التزكية؟\"\n",
      "Searching al-mawsuah for \"من هو النبي محمد؟\"\n",
      "Searching al-mawsuah for \"ما الذي يعلمه الإسلام عن إدارة القلق والاكتئاب والشك الذاتي؟\"\n",
      "Searching al-mawsuah for \"أحكام الحرب في الفقه الإسلامي\"\n"
     ]
    },
    {
     "name": "stderr",
     "output_type": "stream",
     "text": [
      "Average Metric: 326 / 41  (795.1):  41%|████      | 40/98 [00:14<00:10,  5.53it/s]"
     ]
    },
    {
     "name": "stdout",
     "output_type": "stream",
     "text": [
      "Searching al-mawsuah for \"كيف تكون الروحانية الإسلامية فريدة؟\"\n",
      "Searching quran for \"من هو عيسى في الإسلام؟\"\n",
      "Searching al-mawsuah for \"الروح في الفقه الإسلامي\"\n"
     ]
    },
    {
     "name": "stderr",
     "output_type": "stream",
     "text": [
      "Average Metric: 336 / 42  (800.0):  43%|████▎     | 42/98 [00:14<00:22,  2.46it/s]"
     ]
    },
    {
     "name": "stdout",
     "output_type": "stream",
     "text": [
      "Searching quran for \"ما هو الإسلام؟\"\n"
     ]
    },
    {
     "name": "stderr",
     "output_type": "stream",
     "text": [
      "Average Metric: 346 / 44  (786.4):  45%|████▍     | 44/98 [00:14<00:18,  2.92it/s]"
     ]
    },
    {
     "name": "stdout",
     "output_type": "stream",
     "text": [
      "Searching quran for \"متى رمضان؟\"\n",
      "Searching quran for \"كيف يعامل الإسلام الأقليات الدينية؟\"\n"
     ]
    },
    {
     "name": "stderr",
     "output_type": "stream",
     "text": [
      "Average Metric: 374 / 47  (795.7):  48%|████▊     | 47/98 [00:15<00:11,  4.51it/s]"
     ]
    },
    {
     "name": "stdout",
     "output_type": "stream",
     "text": [
      "Searching quran for \"كيف تتعلق الشريعة بطقوس العبادة؟\"\n",
      "Searching quran for \"هل انتشر الإسلام بالعنف والإكراه؟\"\n",
      "Searching al-mawsuah for \"أين تؤدى العمرة؟\"\n",
      "Searching hadith for \"من هو عيسى في الأحاديث؟\"\n",
      "Searching quran for \"لماذا يتم الاحتفال بشهر رمضان؟\"\n",
      "Searching hadith for \"ما هو الإسلام؟\"\n",
      "Searching hadith for \"متى رمضان؟\"\n"
     ]
    },
    {
     "name": "stderr",
     "output_type": "stream",
     "text": [
      "Average Metric: 382 / 48  (795.8):  49%|████▉     | 48/98 [00:15<00:14,  3.52it/s]"
     ]
    },
    {
     "name": "stdout",
     "output_type": "stream",
     "text": [
      "Searching quran for \"من هو النبي إبراهيم؟\"\n",
      "Searching hadith for \"كيف تتعلق الشريعة بطقوس العبادة؟\"\n",
      "Searching hadith for \"معاملة الإسلام للأقليات الدينية\"\n",
      "Searching hadith for \"هل انتشر الإسلام بالعنف والإكراه؟\"\n",
      "Searching hadith for \"لماذا يتم الاحتفال بشهر رمضان؟\"\n",
      "Searching al-mawsuah for \"ما هو الإسلام؟\"\n",
      "Searching al-mawsuah for \"من هو عيسى في الفقه الإسلامي؟\"\n",
      "Searching al-mawsuah for \"متى رمضان؟\"\n",
      "Searching al-mawsuah for \"كيف تتعلق الشريعة بطقوس العبادة؟\"\n",
      "Searching al-mawsuah for \"معاملة الأقليات الدينية في الفقه الإسلامي\"\n",
      "Searching al-mawsuah for \"هل انتشر الإسلام بالعنف والإكراه؟\"\n",
      "Searching hadith for \"من هو النبي إبراهيم؟\"\n",
      "Searching al-mawsuah for \"لماذا يتم الاحتفال بشهر رمضان؟\"\n"
     ]
    },
    {
     "name": "stderr",
     "output_type": "stream",
     "text": [
      "Average Metric: 398 / 51  (780.4):  51%|█████     | 50/98 [00:16<00:18,  2.55it/s]"
     ]
    },
    {
     "name": "stdout",
     "output_type": "stream",
     "text": [
      "Searching quran for \"ما هو زكاة الفطر؟\"\n",
      "Searching quran for \"هل يسمح الإسلام بقتل المدنيين؟\"\n",
      "Searching quran for \"ما هو الفقه؟\"\n"
     ]
    },
    {
     "name": "stderr",
     "output_type": "stream",
     "text": [
      "Average Metric: 436 / 55  (792.7):  56%|█████▌    | 55/98 [00:17<00:07,  5.65it/s]"
     ]
    },
    {
     "name": "stdout",
     "output_type": "stream",
     "text": [
      "Searching quran for \"كيف تتعلق الشريعة بالمجتمع؟\"\n",
      "Searching quran for \"أهمية الصدقة في رمضان\"\n",
      "Searching quran for \"القيود الغذائية في الإسلام\"\n",
      "Searching quran for \"ما هو القرآن؟\"\n",
      "Searching al-mawsuah for \"من هو النبي إبراهيم؟\"\n",
      "Searching hadith for \"ما هو زكاة الفطر؟\"\n",
      "Searching hadith for \"هل يسمح الإسلام بقتل المدنيين؟\"\n",
      "Searching hadith for \"ما هو الفقه؟\"\n",
      "Searching hadith for \"كيف تتعلق الشريعة بالمجتمع؟\"\n",
      "Searching hadith for \"فضل الصدقة في رمضان\"\n",
      "Searching hadith for \"القيود الغذائية في الإسلام\"\n",
      "Searching hadith for \"ما هو القرآن؟\"\n"
     ]
    },
    {
     "name": "stderr",
     "output_type": "stream",
     "text": [
      "Average Metric: 442 / 56  (789.3):  56%|█████▌    | 55/98 [00:18<00:07,  5.65it/s]"
     ]
    },
    {
     "name": "stdout",
     "output_type": "stream",
     "text": [
      "Searching al-mawsuah for \"ما هو زكاة الفطر؟\"\n",
      "Searching quran for \"من بنى الكعبة؟\"\n",
      "Searching al-mawsuah for \"هل يسمح الإسلام بقتل المدنيين؟\"\n",
      "Searching al-mawsuah for \"ما هو الفقه؟\"\n",
      "Searching al-mawsuah for \"الصدقة في رمضان\"\n",
      "Searching al-mawsuah for \"كيف تتعلق الشريعة بالمجتمع؟\"\n",
      "Searching al-mawsuah for \"ما هو القرآن؟\"\n",
      "Searching al-mawsuah for \"القيود الغذائية في الإسلام\"\n"
     ]
    },
    {
     "name": "stderr",
     "output_type": "stream",
     "text": [
      "Average Metric: 452 / 58  (779.3):  59%|█████▉    | 58/98 [00:19<00:14,  2.83it/s]"
     ]
    },
    {
     "name": "stdout",
     "output_type": "stream",
     "text": [
      "Searching quran for \"من أين تأتي الشريعة؟\"\n",
      "Searching hadith for \"من بنى الكعبة؟\"\n",
      "Searching quran for \"كيف يغذي الإسلام رفاهنا العاطفي؟\"\n"
     ]
    },
    {
     "name": "stderr",
     "output_type": "stream",
     "text": [
      "Average Metric: 470 / 60  (783.3):  61%|██████    | 60/98 [00:19<00:10,  3.65it/s]"
     ]
    },
    {
     "name": "stdout",
     "output_type": "stream",
     "text": [
      "Searching quran for \"كيفية أداء العمرة\"\n",
      "Searching quran for \"آيات القرآن للتعامل مع الضيق والشدائد\"\n"
     ]
    },
    {
     "name": "stderr",
     "output_type": "stream",
     "text": [
      "Average Metric: 486 / 62  (783.9):  62%|██████▏   | 61/98 [00:19<00:09,  4.04it/s]"
     ]
    },
    {
     "name": "stdout",
     "output_type": "stream",
     "text": [
      "Searching quran for \"هل يقول القرآن بقتل غير المؤمنين؟\"\n",
      "Searching quran for \"هل التجديف يعاقب عليه بالإعدام؟\"\n"
     ]
    },
    {
     "name": "stderr",
     "output_type": "stream",
     "text": [
      "Average Metric: 496 / 63  (787.3):  64%|██████▍   | 63/98 [00:19<00:06,  5.02it/s]"
     ]
    },
    {
     "name": "stdout",
     "output_type": "stream",
     "text": [
      "Searching quran for \"هل يسمح الإسلام بقتل المدنيين؟\"\n",
      "Searching hadith for \"من أين تأتي الشريعة؟\"\n",
      "Searching al-mawsuah for \"من بنى الكعبة؟\"\n",
      "Searching hadith for \"كيف يغذي الإسلام رفاهنا العاطفي؟\"\n",
      "Searching hadith for \"كيفية أداء العمرة\"\n",
      "Searching hadith for \"أحاديث عن التعامل مع الضيق والشدائد\"\n",
      "Searching hadith for \"هل يوجد حديث يأمر بقتل غير المؤمنين؟\"\n",
      "Searching hadith for \"هل التجديف يعاقب عليه بالإعدام؟\"\n"
     ]
    },
    {
     "name": "stderr",
     "output_type": "stream",
     "text": [
      "Average Metric: 504 / 64  (787.5):  65%|██████▌   | 64/98 [00:20<00:11,  2.95it/s]"
     ]
    },
    {
     "name": "stdout",
     "output_type": "stream",
     "text": [
      "Searching hadith for \"هل يسمح الإسلام بقتل المدنيين؟\"\n",
      "Searching quran for \"ما معنى الإسلام؟\"\n",
      "Searching al-mawsuah for \"مصادر الشريعة الإسلامية\"\n",
      "Searching al-mawsuah for \"كيفية أداء العمرة\"\n",
      "Searching al-mawsuah for \"كيف يغذي الإسلام رفاهنا العاطفي؟\"\n",
      "Searching al-mawsuah for \"أحكام الفقه الإسلامي حول التعامل مع الضيق والشدائد\"\n",
      "Searching al-mawsuah for \"ما هو حكم قتل غير المؤمنين في الفقه الإسلامي؟\"\n",
      "Searching al-mawsuah for \"هل التجديف يعاقب عليه بالإعدام؟\"\n",
      "Searching al-mawsuah for \"هل يسمح الإسلام بقتل المدنيين؟\"\n"
     ]
    },
    {
     "name": "stderr",
     "output_type": "stream",
     "text": [
      "Average Metric: 522 / 67  (779.1):  68%|██████▊   | 67/98 [00:21<00:09,  3.37it/s]"
     ]
    },
    {
     "name": "stdout",
     "output_type": "stream",
     "text": [
      "Searching quran for \"ما هو عيد الفطر؟\"\n",
      "Searching quran for \"لماذا الحج مهم؟\"\n",
      "Searching hadith for \"ما معنى الإسلام في الحديث؟\"\n",
      "Searching quran for \"كيفية أداء الحج\"\n"
     ]
    },
    {
     "name": "stderr",
     "output_type": "stream",
     "text": [
      "Average Metric: 532 / 68  (782.4):  69%|██████▉   | 68/98 [00:21<00:08,  3.70it/s]"
     ]
    },
    {
     "name": "stdout",
     "output_type": "stream",
     "text": [
      "Searching quran for \"هل يقول القرآن بقتل غير المؤمنين؟\"\n"
     ]
    },
    {
     "name": "stderr",
     "output_type": "stream",
     "text": [
      "Average Metric: 552 / 71  (777.5):  71%|███████▏  | 70/98 [00:22<00:07,  3.74it/s]"
     ]
    },
    {
     "name": "stdout",
     "output_type": "stream",
     "text": [
      "Searching quran for \"هل هناك استثناءات أو إعفاءات من الصيام؟\"\n",
      "Searching quran for \"ما هي العمرة؟\"\n",
      "Searching quran for \"هل انتشر الإسلام بالعنف والإكراه؟\"\n",
      "Searching hadith for \"أهمية الحج في الأحاديث\"\n",
      "Searching hadith for \"ما هو عيد الفطر؟\"\n",
      "Searching al-mawsuah for \"ما هو تعريف الإسلام في الفقه الإسلامي؟\"\n",
      "Searching hadith for \"كيفية أداء الحج\"\n",
      "Searching hadith for \"هل يوجد حديث يأمر بقتل غير المؤمنين؟\"\n",
      "Searching hadith for \"هل انتشر الإسلام بالعنف والإكراه؟\"\n",
      "Searching hadith for \"ما هي العمرة؟\"\n",
      "Searching hadith for \"هل هناك استثناءات أو إعفاءات من الصيام؟\"\n"
     ]
    },
    {
     "name": "stderr",
     "output_type": "stream",
     "text": [
      "Average Metric: 560 / 72  (777.8):  73%|███████▎  | 72/98 [00:23<00:08,  3.06it/s]"
     ]
    },
    {
     "name": "stdout",
     "output_type": "stream",
     "text": [
      "Searching al-mawsuah for \"أهمية الحج في الفقه الإسلامي\"\n",
      "Searching al-mawsuah for \"ما هو عيد الفطر؟\"\n",
      "Searching quran for \"هل العمرة والحج نفس الشيء؟\"\n",
      "Searching al-mawsuah for \"كيفية أداء الحج\"\n",
      "Searching al-mawsuah for \"ما هو حكم قتل غير المؤمنين في الفقه الإسلامي؟\"\n",
      "Searching al-mawsuah for \"هل انتشر الإسلام بالعنف والإكراه؟\"\n",
      "Searching al-mawsuah for \"ما هي العمرة؟\"\n"
     ]
    },
    {
     "name": "stderr",
     "output_type": "stream",
     "text": [
      "Average Metric: 566 / 73  (775.3):  73%|███████▎  | 72/98 [00:24<00:08,  3.06it/s]"
     ]
    },
    {
     "name": "stdout",
     "output_type": "stream",
     "text": [
      "Searching al-mawsuah for \"هل هناك استثناءات أو إعفاءات من الصيام؟\"\n",
      "Searching quran for \"ماذا يؤمن المسلمون؟\"\n",
      "Searching quran for \"هل الشريعة موحدة وغير متغيرة؟\"\n"
     ]
    },
    {
     "name": "stderr",
     "output_type": "stream",
     "text": [
      "Average Metric: 576 / 75  (768.0):  76%|███████▌  | 74/98 [00:24<00:10,  2.34it/s]"
     ]
    },
    {
     "name": "stdout",
     "output_type": "stream",
     "text": [
      "Searching hadith for \"هل العمرة والحج نفس الشيء؟\"\n",
      "Searching quran for \"ما هي الصدقة؟\"\n"
     ]
    },
    {
     "name": "stderr",
     "output_type": "stream",
     "text": [
      "Average Metric: 592 / 77  (768.8):  78%|███████▊  | 76/98 [00:24<00:05,  3.75it/s]"
     ]
    },
    {
     "name": "stdout",
     "output_type": "stream",
     "text": [
      "Searching quran for \"صلاة التراويح\"\n",
      "Searching quran for \"ما هو التوحيد؟\"\n"
     ]
    },
    {
     "name": "stderr",
     "output_type": "stream",
     "text": [
      "Average Metric: 612 / 79  (774.7):  80%|███████▉  | 78/98 [00:24<00:04,  4.29it/s]"
     ]
    },
    {
     "name": "stdout",
     "output_type": "stream",
     "text": [
      "Searching quran for \"ما معنى الجهاد؟\"\n",
      "Searching quran for \"كيف يتناول الإسلام القدر والإرادة الحرة؟\"\n",
      "Searching al-mawsuah for \"هل العمرة والحج نفس الشيء؟\"\n",
      "Searching hadith for \"هل الشريعة موحدة وغير متغيرة؟\"\n",
      "Searching hadith for \"ماذا يؤمن المسلمون؟\"\n",
      "Searching hadith for \"ما هي الصدقة؟\"\n",
      "Searching hadith for \"صلاة التراويح\"\n",
      "Searching hadith for \"ما هو التوحيد؟\"\n"
     ]
    },
    {
     "name": "stderr",
     "output_type": "stream",
     "text": [
      "Average Metric: 620 / 80  (775.0):  82%|████████▏ | 80/98 [00:25<00:05,  3.24it/s]"
     ]
    },
    {
     "name": "stdout",
     "output_type": "stream",
     "text": [
      "Searching hadith for \"ما معنى الجهاد؟\"\n",
      "Searching hadith for \"كيف يتناول الإسلام القدر والإرادة الحرة؟\"\n",
      "Searching quran for \"الطلاق في الإسلام\"\n",
      "Searching al-mawsuah for \"ماذا يؤمن المسلمون؟\"\n",
      "Searching al-mawsuah for \"ما هي الصدقة؟\"\n",
      "Searching al-mawsuah for \"هل الشريعة موحدة وغير متغيرة؟\"\n",
      "Searching al-mawsuah for \"صلاة التراويح\"\n",
      "Searching al-mawsuah for \"ما هو التوحيد؟\"\n",
      "Searching al-mawsuah for \"ما معنى الجهاد؟\"\n",
      "Searching al-mawsuah for \"كيف يتناول الإسلام القدر والإرادة الحرة؟\"\n"
     ]
    },
    {
     "name": "stderr",
     "output_type": "stream",
     "text": [
      "Average Metric: 638 / 83  (768.7):  84%|████████▎ | 82/98 [00:26<00:06,  2.41it/s]"
     ]
    },
    {
     "name": "stdout",
     "output_type": "stream",
     "text": [
      "Searching hadith for \"حديث عن الطلاق\"\n",
      "Searching quran for \"ما هي الأعياد التي يحتفل بها المسلمون؟\"\n",
      "Searching quran for \"هل الوسواس القهري نتيجة وساوس الشيطان؟\"\n",
      "Searching quran for \"كيف نعرف أن الله موجود؟\"\n"
     ]
    },
    {
     "name": "stderr",
     "output_type": "stream",
     "text": [
      "Average Metric: 652 / 85  (767.1):  86%|████████▌ | 84/98 [00:27<00:03,  3.65it/s]"
     ]
    },
    {
     "name": "stdout",
     "output_type": "stream",
     "text": [
      "Searching quran for \"تاريخ الشريعة\"\n",
      "Searching quran for \"هل يسمح الإسلام بالحرب الوقائية؟\"\n"
     ]
    },
    {
     "name": "stderr",
     "output_type": "stream",
     "text": [
      "Average Metric: 662 / 87  (760.9):  88%|████████▊ | 86/98 [00:27<00:03,  3.79it/s]"
     ]
    },
    {
     "name": "stdout",
     "output_type": "stream",
     "text": [
      "Searching quran for \"الوحي في الإسلام\"\n",
      "Searching quran for \"هل الإسلام يشجع على العنف؟\"\n",
      "Searching al-mawsuah for \"الطلاق في الفقه الإسلامي\"\n",
      "Searching hadith for \"هل الوسواس القهري نتيجة وساوس الشيطان؟\"\n",
      "Searching hadith for \"ما هي الأعياد التي يحتفل بها المسلمون؟\"\n",
      "Searching hadith for \"كيف نعرف أن الله موجود؟\"\n",
      "Searching hadith for \"تاريخ الشريعة\"\n",
      "Searching hadith for \"هل يسمح الإسلام بالحرب الوقائية؟\"\n",
      "Searching hadith for \"هل الإسلام يشجع على العنف؟\"\n",
      "Searching hadith for \"الوحي في الإسلام\"\n"
     ]
    },
    {
     "name": "stderr",
     "output_type": "stream",
     "text": [
      "Average Metric: 670 / 88  (761.4):  90%|████████▉ | 88/98 [00:28<00:03,  3.24it/s]"
     ]
    },
    {
     "name": "stdout",
     "output_type": "stream",
     "text": [
      "Searching quran for \"ما هي أهمية الحج؟\"\n",
      "Searching al-mawsuah for \"هل الوسواس القهري نتيجة وساوس الشيطان؟\"\n",
      "Searching al-mawsuah for \"ما هي الأعياد التي يحتفل بها المسلمون؟\"\n",
      "Searching al-mawsuah for \"كيف نعرف أن الله موجود؟\"\n",
      "Searching al-mawsuah for \"تاريخ الشريعة\"\n",
      "Searching al-mawsuah for \"هل الإسلام يشجع على العنف؟\"\n",
      "Searching al-mawsuah for \"الوحي في الإسلام\"\n",
      "Searching al-mawsuah for \"هل يسمح الإسلام بالحرب الوقائية؟\"\n"
     ]
    },
    {
     "name": "stderr",
     "output_type": "stream",
     "text": [
      "Average Metric: 700 / 92  (760.9):  94%|█████████▍| 92/98 [00:29<00:01,  3.90it/s]"
     ]
    },
    {
     "name": "stdout",
     "output_type": "stream",
     "text": [
      "Searching quran for \"لماذا يطلب الله من الناس عبادته؟\"\n",
      "Searching hadith for \"ما هي أهمية الحج؟\"\n",
      "Searching quran for \"هل يؤمن المسلمون بصلب عيسى؟\"\n"
     ]
    },
    {
     "name": "stderr",
     "output_type": "stream",
     "text": [
      "Average Metric: 724 / 95  (762.1):  96%|█████████▌| 94/98 [00:29<00:01,  3.87it/s]"
     ]
    },
    {
     "name": "stdout",
     "output_type": "stream",
     "text": [
      "Searching hadith for \"هل ورد في الأحاديث أن المسلمين يؤمنون بصلب عيسى؟\"\n",
      "Searching al-mawsuah for \"ما هي أهمية الحج؟\"\n",
      "Searching hadith for \"لماذا يطلب الله من الناس عبادته؟\"\n"
     ]
    },
    {
     "name": "stderr",
     "output_type": "stream",
     "text": [
      "Average Metric: 734 / 96  (764.6):  98%|█████████▊| 96/98 [00:30<00:00,  3.13it/s]"
     ]
    },
    {
     "name": "stdout",
     "output_type": "stream",
     "text": [
      "Searching al-mawsuah for \"موقف الفقه الإسلامي من صلب عيسى\"\n",
      "Searching al-mawsuah for \"لماذا يطلب الله من الناس عبادته؟\"\n"
     ]
    },
    {
     "name": "stderr",
     "output_type": "stream",
     "text": [
      "Average Metric: 748 / 98  (763.3): 100%|██████████| 98/98 [00:31<00:00,  3.11it/s]\n"
     ]
    },
    {
     "name": "stdout",
     "output_type": "stream",
     "text": [
      "Searching quran for \"أين الكعبة؟\"\n",
      "Searching quran for \"من يجب عليه أداء الحج؟\"\n",
      "Searching quran for \"هل يسمح الإسلام بجرائم الشرف؟\"\n",
      "Searching quran for \"هل يصوم المسلمون خارج رمضان؟\"\n",
      "Searching quran for \"هل يقدم القرآن توجيهات حول كيفية التعامل مع الصدمة والألم؟\"\n",
      "Searching quran for \"ما معنى حلال؟\"\n",
      "Searching quran for \"ما هي الفتوى؟\"\n",
      "Searching quran for \"هل الردة يعاقب عليها بالإعدام في الإسلام؟\"\n"
     ]
    },
    {
     "name": "stderr",
     "output_type": "stream",
     "text": [
      "  0%|          | 0/98 [00:00<?, ?it/s]"
     ]
    },
    {
     "name": "stdout",
     "output_type": "stream",
     "text": [
      "Searching hadith for \"أين الكعبة؟\"\n",
      "Searching hadith for \"هل يصوم المسلمون خارج رمضان؟\"\n",
      "Searching hadith for \"هل توجد أحاديث تتعلق بجرائم الشرف؟\"\n",
      "Searching hadith for \"هل تقدم السنة النبوية توجيهات حول كيفية التعامل مع الصدمة والألم؟\"\n",
      "Searching hadith for \"ما معنى حلال؟\"\n",
      "Searching hadith for \"ما هي الفتوى؟\"\n",
      "Searching hadith for \"من يجب عليه أداء الحج؟\"\n",
      "Searching hadith for \"هل يعاقب المرتد بالإعدام في الإسلام؟\"\n",
      "Searching al-mawsuah for \"ما هو حكم الفقه الإسلامي في جرائم الشرف؟\"\n",
      "Searching al-mawsuah for \"من يجب عليه أداء الحج؟\"\n",
      "Searching al-mawsuah for \"هل يصوم المسلمون خارج رمضان؟\"\n",
      "Searching al-mawsuah for \"أين الكعبة؟\"\n",
      "Searching al-mawsuah for \"كيفية التعامل مع الصدمة والألم في الفقه الإسلامي\"\n",
      "Searching al-mawsuah for \"ما معنى حلال؟\"\n",
      "Searching al-mawsuah for \"ما هي الفتوى؟\"\n",
      "Searching al-mawsuah for \"حكم الردة في الفقه الإسلامي\"\n"
     ]
    },
    {
     "name": "stderr",
     "output_type": "stream",
     "text": [
      "Average Metric: 54 / 7  (771.4):   6%|▌         | 6/98 [00:02<00:34,  2.66it/s]"
     ]
    },
    {
     "name": "stdout",
     "output_type": "stream",
     "text": [
      "Searching quran for \"ما هو رمضان؟\"\n",
      "Searching quran for \"هل الإسلام يشجع على العنف؟\"\n",
      "Searching quran for \"هل يسمح الإسلام بالحرب الوقائية؟\"\n",
      "Searching quran for \"أهمية ليلة القدر\"\n",
      "Searching quran for \"كيف يصف القرآن السعادة؟ كيف يمكن تحقيقها في الإسلام؟\"\n",
      "Searching quran for \"هل يوفر الإسلام إرشادات حول كيفية التعامل مع الأمراض النفسية؟\"\n",
      "Searching quran for \"ما هو رمضان؟\"\n"
     ]
    },
    {
     "name": "stderr",
     "output_type": "stream",
     "text": [
      "Average Metric: 64 / 8  (800.0):   8%|▊         | 8/98 [00:08<01:45,  1.18s/it]"
     ]
    },
    {
     "name": "stdout",
     "output_type": "stream",
     "text": [
      "Searching quran for \"لماذا يصلي المسلمون يوميا؟\"\n",
      "Searching hadith for \"لماذا يصلي المسلمون يوميا؟\"\n",
      "Searching hadith for \"ما هو رمضان؟\"\n",
      "Searching hadith for \"ما هو رمضان؟\"\n",
      "Searching hadith for \"هل يسمح الإسلام بالحرب الوقائية؟\"\n",
      "Searching hadith for \"هل الإسلام يشجع على العنف؟\"\n",
      "Searching hadith for \"هل هناك أحاديث تتحدث عن كيفية التعامل مع الأمراض النفسية؟\"\n",
      "Searching hadith for \"فضل ليلة القدر\"\n",
      "Searching hadith for \"كيف يصف الحديث السعادة؟ كيف يمكن تحقيقها في الإسلام؟\"\n",
      "Searching al-mawsuah for \"ما هو رمضان؟\"\n",
      "Searching al-mawsuah for \"ما هو رمضان؟\"\n",
      "Searching al-mawsuah for \"هل الإسلام يشجع على العنف؟\"\n",
      "Searching al-mawsuah for \"أهمية ليلة القدر في الفقه الإسلامي\"\n",
      "Searching al-mawsuah for \"إرشادات الفقه الإسلامي حول التعامل مع الأمراض النفسية\"\n",
      "Searching al-mawsuah for \"السعادة في الفقه الإسلامي وكيفية تحقيقها\"\n",
      "Searching al-mawsuah for \"لماذا يصلي المسلمون يوميا؟\"\n",
      "Searching al-mawsuah for \"هل يسمح الإسلام بالحرب الوقائية؟\"\n"
     ]
    },
    {
     "name": "stderr",
     "output_type": "stream",
     "text": [
      "Average Metric: 106 / 15  (706.7):  14%|█▍        | 14/98 [00:17<01:40,  1.20s/it]"
     ]
    },
    {
     "name": "stdout",
     "output_type": "stream",
     "text": [
      "Searching quran for \"كيف تصوم رمضان؟\"\n",
      "Searching quran for \"كيف نعلم أن القرآن وحي إلهي؟\"\n",
      "Searching quran for \"من يجب عليه الصيام في رمضان؟\"\n",
      "Searching quran for \"هل التجديف يعاقب عليه بالإعدام؟\"\n",
      "Searching quran for \"ما هو الغرض من الصيام في رمضان؟\"\n",
      "Searching quran for \"ماذا يقدم الإسلام للناس؟\"\n",
      "Searching quran for \"مدة الصيام في رمضان\"\n"
     ]
    },
    {
     "name": "stderr",
     "output_type": "stream",
     "text": [
      "Average Metric: 114 / 16  (712.5):  16%|█▋        | 16/98 [00:18<01:14,  1.10it/s]"
     ]
    },
    {
     "name": "stdout",
     "output_type": "stream",
     "text": [
      "Searching quran for \"كيف يُساء تفسير الجهاد كإرهاب؟\"\n",
      "Searching hadith for \"كيف تصوم رمضان؟\"\n",
      "Searching hadith for \"هل التجديف يعاقب عليه بالإعدام؟\"\n",
      "Searching hadith for \"كيف نعلم أن القرآن وحي إلهي؟\"\n",
      "Searching hadith for \"من يجب عليه الصيام في رمضان؟\"\n",
      "Searching hadith for \"ما هو الغرض من الصيام في رمضان؟\"\n",
      "Searching hadith for \"ماذا يقدم الإسلام للناس؟\"\n",
      "Searching hadith for \"مدة الصيام في رمضان\"\n",
      "Searching hadith for \"كيف يُساء تفسير الجهاد كإرهاب؟\"\n",
      "Searching al-mawsuah for \"كيف تصوم رمضان؟\"\n",
      "Searching al-mawsuah for \"كيف نعلم أن القرآن وحي إلهي؟\"\n",
      "Searching al-mawsuah for \"من يجب عليه الصيام في رمضان؟\"\n",
      "Searching al-mawsuah for \"ما هو الغرض من الصيام في رمضان؟\"\n",
      "Searching al-mawsuah for \"مدة الصيام في رمضان\"\n",
      "Searching al-mawsuah for \"هل التجديف يعاقب عليه بالإعدام؟\"\n",
      "Searching al-mawsuah for \"ماذا يقدم الإسلام للناس؟\"\n",
      "Searching al-mawsuah for \"كيف يُساء تفسير الجهاد كإرهاب؟\"\n"
     ]
    },
    {
     "name": "stderr",
     "output_type": "stream",
     "text": [
      "Average Metric: 130 / 18  (722.2):  18%|█▊        | 18/98 [00:20<01:16,  1.05it/s]"
     ]
    },
    {
     "name": "stdout",
     "output_type": "stream",
     "text": [
      "Searching quran for \"كيف يُساء تفسير الجهاد كإرهاب؟\"\n",
      "Searching quran for \"أركان الإسلام الخمسة\"\n"
     ]
    },
    {
     "name": "stderr",
     "output_type": "stream",
     "text": [
      "Average Metric: 182 / 24  (758.3):  23%|██▎       | 23/98 [00:20<00:53,  1.41it/s]"
     ]
    },
    {
     "name": "stdout",
     "output_type": "stream",
     "text": [
      "Searching quran for \"كيف يعامل الإسلام الأقليات الدينية؟\"\n",
      "Searching quran for \"ليلة القدر\"\n",
      "Searching quran for \"من هو الله\"\n",
      "Searching quran for \"هل يؤمن المسلمون بالروح القدس؟\"\n",
      "Searching quran for \"هل يؤمن المسلمون بالجنة والنار؟\"\n",
      "Searching quran for \"ما معنى الجهاد؟\"\n",
      "Searching hadith for \"كيف يُساء تفسير الجهاد كإرهاب؟\"\n",
      "Searching hadith for \"أركان الإسلام الخمسة\"\n",
      "Searching hadith for \"معاملة الإسلام للأقليات الدينية\"\n",
      "Searching hadith for \"ما هي ليلة القدر\"\n",
      "Searching hadith for \"هل ذكر النبي الجنة والنار؟\"\n",
      "Searching hadith for \"هل ذكر الروح القدس في الأحاديث؟\"\n",
      "Searching hadith for \"ما معنى الجهاد؟\"\n",
      "Searching hadith for \"من هو الله\"\n",
      "Searching al-mawsuah for \"كيف يُساء تفسير الجهاد كإرهاب؟\"\n",
      "Searching al-mawsuah for \"أركان الإسلام الخمسة\"\n",
      "Searching al-mawsuah for \"معاملة الأقليات الدينية في الفقه الإسلامي\"\n",
      "Searching al-mawsuah for \"ليلة القدر في الفقه الإسلامي\"\n",
      "Searching al-mawsuah for \"ما معنى الجهاد؟\"\n",
      "Searching al-mawsuah for \"الإيمان بالجنة والنار في الفقه الإسلامي\"\n",
      "Searching al-mawsuah for \"الإيمان بالروح القدس في الفقه الإسلامي\"\n",
      "Searching al-mawsuah for \"من هو الله\"\n"
     ]
    },
    {
     "name": "stderr",
     "output_type": "stream",
     "text": [
      "Average Metric: 198 / 26  (761.5):  26%|██▌       | 25/98 [00:22<00:40,  1.80it/s]"
     ]
    },
    {
     "name": "stdout",
     "output_type": "stream",
     "text": [
      "Searching quran for \"أين يحدث الحج؟\"\n",
      "Searching quran for \"أحكام الحرب في الإسلام\"\n"
     ]
    },
    {
     "name": "stderr",
     "output_type": "stream",
     "text": [
      "Average Metric: 222 / 29  (765.5):  29%|██▊       | 28/98 [00:22<00:29,  2.35it/s]"
     ]
    },
    {
     "name": "stdout",
     "output_type": "stream",
     "text": [
      "Searching quran for \"متى ليلة القدر؟\"\n",
      "Searching quran for \"لماذا الكعبة مهمة؟\"\n",
      "Searching quran for \"كم مرة يصلي المسلمون خلال رمضان؟\"\n"
     ]
    },
    {
     "name": "stderr",
     "output_type": "stream",
     "text": [
      "Average Metric: 250 / 32  (781.2):  33%|███▎      | 32/98 [00:23<00:16,  3.91it/s]"
     ]
    },
    {
     "name": "stdout",
     "output_type": "stream",
     "text": [
      "Searching quran for \"لماذا يجب على المسلمين الصيام لمدة شهر كامل؟\"\n",
      "Searching quran for \"كيف يمكن فهم والتعامل مع الحزن والأسى في الإسلام؟\"\n",
      "Searching quran for \"كيف يمكن للمرء أن يطهر قلبه وروحه؟\"\n",
      "Searching hadith for \"أين يحدث الحج؟\"\n",
      "Searching hadith for \"متى ليلة القدر؟\"\n",
      "Searching hadith for \"أحاديث عن أحكام الحرب في الإسلام\"\n",
      "Searching hadith for \"لماذا الكعبة مهمة؟\"\n",
      "Searching hadith for \"كم مرة يصلي المسلمون خلال رمضان؟\"\n",
      "Searching hadith for \"كيف يمكن فهم والتعامل مع الحزن والأسى في الإسلام؟\"\n",
      "Searching hadith for \"لماذا يجب على المسلمين الصيام لمدة شهر كامل؟\"\n",
      "Searching hadith for \"كيف يمكن للمرء أن يطهر قلبه وروحه؟\"\n",
      "Searching al-mawsuah for \"أين يحدث الحج؟\"\n",
      "Searching al-mawsuah for \"متى ليلة القدر؟\"\n",
      "Searching al-mawsuah for \"أحكام الحرب في الفقه الإسلامي\"\n",
      "Searching al-mawsuah for \"أهمية الكعبة في الفقه الإسلامي\"\n",
      "Searching al-mawsuah for \"لماذا يجب على المسلمين الصيام لمدة شهر كامل؟\"\n",
      "Searching al-mawsuah for \"كيف يمكن فهم والتعامل مع الحزن والأسى في الإسلام؟\"\n",
      "Searching al-mawsuah for \"كم مرة يصلي المسلمون خلال رمضان؟\"\n",
      "Searching al-mawsuah for \"كيف يمكن للمرء أن يطهر قلبه وروحه؟\"\n"
     ]
    },
    {
     "name": "stderr",
     "output_type": "stream",
     "text": [
      "Average Metric: 270 / 34  (794.1):  35%|███▍      | 34/98 [00:24<00:28,  2.28it/s]"
     ]
    },
    {
     "name": "stdout",
     "output_type": "stream",
     "text": [
      "Searching quran for \"ما هي الكعبة؟\"\n",
      "Searching quran for \"من هو النبي محمد؟\"\n"
     ]
    },
    {
     "name": "stderr",
     "output_type": "stream",
     "text": [
      "Average Metric: 298 / 37  (805.4):  37%|███▋      | 36/98 [00:25<00:22,  2.78it/s]"
     ]
    },
    {
     "name": "stdout",
     "output_type": "stream",
     "text": [
      "Searching quran for \"ما هي التزكية؟\"\n",
      "Searching quran for \"أحكام الحرب في الإسلام\"\n",
      "Searching quran for \"ما الذي يعلمه الإسلام عن إدارة القلق والاكتئاب والشك الذاتي؟\"\n"
     ]
    },
    {
     "name": "stderr",
     "output_type": "stream",
     "text": [
      "Average Metric: 320 / 40  (800.0):  40%|███▉      | 39/98 [00:25<00:14,  3.98it/s]"
     ]
    },
    {
     "name": "stdout",
     "output_type": "stream",
     "text": [
      "Searching quran for \"أين تؤدى العمرة؟\"\n",
      "Searching quran for \"كيف تكون الروحانية الإسلامية فريدة؟\"\n",
      "Searching quran for \"كيف يفهم الإسلام الروح\"\n",
      "Searching hadith for \"ما هي الكعبة؟\"\n",
      "Searching hadith for \"من هو النبي محمد؟\"\n",
      "Searching hadith for \"ما هي التزكية؟\"\n",
      "Searching hadith for \"ما الذي يعلمه الإسلام عن إدارة القلق والاكتئاب والشك الذاتي؟\"\n",
      "Searching hadith for \"أحاديث عن أحكام الحرب في الإسلام\"\n",
      "Searching hadith for \"كيف تكون الروحانية الإسلامية فريدة؟\"\n",
      "Searching hadith for \"فهم الروح في الإسلام\"\n",
      "Searching al-mawsuah for \"ما هي الكعبة؟\"\n",
      "Searching hadith for \"أين تؤدى العمرة؟\"\n",
      "Searching al-mawsuah for \"من هو النبي محمد؟\"\n",
      "Searching al-mawsuah for \"ما هي التزكية؟\"\n",
      "Searching al-mawsuah for \"أحكام الحرب في الفقه الإسلامي\"\n",
      "Searching al-mawsuah for \"ما الذي يعلمه الإسلام عن إدارة القلق والاكتئاب والشك الذاتي؟\"\n",
      "Searching al-mawsuah for \"كيف تكون الروحانية الإسلامية فريدة؟\"\n",
      "Searching al-mawsuah for \"الروح في الفقه الإسلامي\"\n"
     ]
    },
    {
     "name": "stderr",
     "output_type": "stream",
     "text": [
      "Average Metric: 336 / 42  (800.0):  43%|████▎     | 42/98 [00:27<00:20,  2.70it/s]"
     ]
    },
    {
     "name": "stdout",
     "output_type": "stream",
     "text": [
      "Searching quran for \"من هو عيسى في الإسلام؟\"\n",
      "Searching quran for \"ما هو الإسلام؟\"\n"
     ]
    },
    {
     "name": "stderr",
     "output_type": "stream",
     "text": [
      "Average Metric: 342 / 43  (795.3):  44%|████▍     | 43/98 [00:27<00:17,  3.15it/s]"
     ]
    },
    {
     "name": "stdout",
     "output_type": "stream",
     "text": [
      "Searching quran for \"متى رمضان؟\"\n"
     ]
    },
    {
     "name": "stderr",
     "output_type": "stream",
     "text": [
      "Average Metric: 374 / 47  (795.7):  47%|████▋     | 46/98 [00:27<00:11,  4.71it/s]"
     ]
    },
    {
     "name": "stdout",
     "output_type": "stream",
     "text": [
      "Searching quran for \"كيف يعامل الإسلام الأقليات الدينية؟\"\n",
      "Searching quran for \"كيف تتعلق الشريعة بطقوس العبادة؟\"\n",
      "Searching al-mawsuah for \"أين تؤدى العمرة؟\"\n",
      "Searching quran for \"هل انتشر الإسلام بالعنف والإكراه؟\"\n",
      "Searching quran for \"لماذا يتم الاحتفال بشهر رمضان؟\"\n",
      "Searching hadith for \"من هو عيسى في الأحاديث؟\"\n",
      "Searching hadith for \"ما هو الإسلام؟\"\n",
      "Searching hadith for \"متى رمضان؟\"\n"
     ]
    },
    {
     "name": "stderr",
     "output_type": "stream",
     "text": [
      "Average Metric: 382 / 48  (795.8):  49%|████▉     | 48/98 [00:28<00:12,  3.88it/s]"
     ]
    },
    {
     "name": "stdout",
     "output_type": "stream",
     "text": [
      "Searching hadith for \"معاملة الإسلام للأقليات الدينية\"\n",
      "Searching hadith for \"كيف تتعلق الشريعة بطقوس العبادة؟\"\n",
      "Searching quran for \"من هو النبي إبراهيم؟\"\n",
      "Searching hadith for \"هل انتشر الإسلام بالعنف والإكراه؟\"\n",
      "Searching hadith for \"لماذا يتم الاحتفال بشهر رمضان؟\"\n",
      "Searching al-mawsuah for \"ما هو الإسلام؟\"\n",
      "Searching al-mawsuah for \"من هو عيسى في الفقه الإسلامي؟\"\n",
      "Searching al-mawsuah for \"متى رمضان؟\"\n",
      "Searching al-mawsuah for \"معاملة الأقليات الدينية في الفقه الإسلامي\"\n",
      "Searching al-mawsuah for \"كيف تتعلق الشريعة بطقوس العبادة؟\"\n",
      "Searching al-mawsuah for \"لماذا يتم الاحتفال بشهر رمضان؟\"\n",
      "Searching al-mawsuah for \"هل انتشر الإسلام بالعنف والإكراه؟\"\n",
      "Searching hadith for \"من هو النبي إبراهيم؟\"\n"
     ]
    },
    {
     "name": "stderr",
     "output_type": "stream",
     "text": [
      "Average Metric: 392 / 50  (784.0):  51%|█████     | 50/98 [00:29<00:18,  2.63it/s]"
     ]
    },
    {
     "name": "stdout",
     "output_type": "stream",
     "text": [
      "Searching quran for \"ما هو زكاة الفطر؟\"\n",
      "Searching quran for \"هل يسمح الإسلام بقتل المدنيين؟\"\n"
     ]
    },
    {
     "name": "stderr",
     "output_type": "stream",
     "text": [
      "Average Metric: 436 / 55  (792.7):  55%|█████▌    | 54/98 [00:30<00:09,  4.56it/s]"
     ]
    },
    {
     "name": "stdout",
     "output_type": "stream",
     "text": [
      "Searching quran for \"ما هو الفقه؟\"\n",
      "Searching quran for \"كيف تتعلق الشريعة بالمجتمع؟\"\n",
      "Searching quran for \"أهمية الصدقة في رمضان\"\n",
      "Searching quran for \"القيود الغذائية في الإسلام\"\n",
      "Searching quran for \"ما هو القرآن؟\"\n",
      "Searching al-mawsuah for \"من هو النبي إبراهيم؟\"\n",
      "Searching hadith for \"ما هو زكاة الفطر؟\"\n",
      "Searching hadith for \"هل يسمح الإسلام بقتل المدنيين؟\"\n",
      "Searching hadith for \"كيف تتعلق الشريعة بالمجتمع؟\"\n",
      "Searching hadith for \"ما هو الفقه؟\"\n",
      "Searching hadith for \"فضل الصدقة في رمضان\"\n",
      "Searching hadith for \"القيود الغذائية في الإسلام\"\n",
      "Searching hadith for \"ما هو القرآن؟\"\n",
      "Searching quran for \"من بنى الكعبة؟\"\n"
     ]
    },
    {
     "name": "stderr",
     "output_type": "stream",
     "text": [
      "Average Metric: 442 / 56  (789.3):  57%|█████▋    | 56/98 [00:31<00:11,  3.58it/s]"
     ]
    },
    {
     "name": "stdout",
     "output_type": "stream",
     "text": [
      "Searching al-mawsuah for \"ما هو زكاة الفطر؟\"\n",
      "Searching al-mawsuah for \"هل يسمح الإسلام بقتل المدنيين؟\"\n",
      "Searching al-mawsuah for \"كيف تتعلق الشريعة بالمجتمع؟\"\n",
      "Searching al-mawsuah for \"ما هو الفقه؟\"\n",
      "Searching al-mawsuah for \"الصدقة في رمضان\"\n",
      "Searching al-mawsuah for \"ما هو القرآن؟\"\n"
     ]
    },
    {
     "name": "stderr",
     "output_type": "stream",
     "text": [
      "Average Metric: 452 / 58  (779.3):  58%|█████▊    | 57/98 [00:32<00:15,  2.61it/s]"
     ]
    },
    {
     "name": "stdout",
     "output_type": "stream",
     "text": [
      "Searching al-mawsuah for \"القيود الغذائية في الإسلام\"\n",
      "Searching hadith for \"من بنى الكعبة؟\"\n",
      "Searching quran for \"من أين تأتي الشريعة؟\"\n",
      "Searching quran for \"كيف يغذي الإسلام رفاهنا العاطفي؟\"\n"
     ]
    },
    {
     "name": "stderr",
     "output_type": "stream",
     "text": [
      "Average Metric: 486 / 62  (783.9):  62%|██████▏   | 61/98 [00:32<00:08,  4.34it/s]"
     ]
    },
    {
     "name": "stdout",
     "output_type": "stream",
     "text": [
      "Searching quran for \"كيفية أداء العمرة\"\n",
      "Searching quran for \"آيات القرآن للتعامل مع الضيق والشدائد\"\n",
      "Searching quran for \"هل يقول القرآن بقتل غير المؤمنين؟\"\n",
      "Searching quran for \"هل التجديف يعاقب عليه بالإعدام؟\"\n"
     ]
    },
    {
     "name": "stderr",
     "output_type": "stream",
     "text": [
      "Average Metric: 496 / 63  (787.3):  64%|██████▍   | 63/98 [00:32<00:07,  4.98it/s]"
     ]
    },
    {
     "name": "stdout",
     "output_type": "stream",
     "text": [
      "Searching quran for \"هل يسمح الإسلام بقتل المدنيين؟\"\n",
      "Searching al-mawsuah for \"من بنى الكعبة؟\"\n",
      "Searching hadith for \"كيف يغذي الإسلام رفاهنا العاطفي؟\"\n",
      "Searching hadith for \"من أين تأتي الشريعة؟\"\n",
      "Searching hadith for \"كيفية أداء العمرة\"\n",
      "Searching hadith for \"أحاديث عن التعامل مع الضيق والشدائد\"\n",
      "Searching hadith for \"هل يوجد حديث يأمر بقتل غير المؤمنين؟\"\n",
      "Searching hadith for \"هل التجديف يعاقب عليه بالإعدام؟\"\n"
     ]
    },
    {
     "name": "stderr",
     "output_type": "stream",
     "text": [
      "Average Metric: 504 / 64  (787.5):  65%|██████▌   | 64/98 [00:33<00:11,  3.05it/s]"
     ]
    },
    {
     "name": "stdout",
     "output_type": "stream",
     "text": [
      "Searching hadith for \"هل يسمح الإسلام بقتل المدنيين؟\"\n",
      "Searching al-mawsuah for \"كيف يغذي الإسلام رفاهنا العاطفي؟\"\n",
      "Searching quran for \"ما معنى الإسلام؟\"\n",
      "Searching al-mawsuah for \"مصادر الشريعة الإسلامية\"\n",
      "Searching al-mawsuah for \"كيفية أداء العمرة\"\n",
      "Searching al-mawsuah for \"أحكام الفقه الإسلامي حول التعامل مع الضيق والشدائد\"\n",
      "Searching al-mawsuah for \"ما هو حكم قتل غير المؤمنين في الفقه الإسلامي؟\"\n"
     ]
    },
    {
     "name": "stderr",
     "output_type": "stream",
     "text": [
      "Average Metric: 512 / 65  (787.7):  66%|██████▋   | 65/98 [00:34<00:13,  2.42it/s]"
     ]
    },
    {
     "name": "stdout",
     "output_type": "stream",
     "text": [
      "Searching al-mawsuah for \"هل التجديف يعاقب عليه بالإعدام؟\"\n",
      "Searching al-mawsuah for \"هل يسمح الإسلام بقتل المدنيين؟\"\n",
      "Searching quran for \"ما هو عيد الفطر؟\"\n"
     ]
    },
    {
     "name": "stderr",
     "output_type": "stream",
     "text": [
      "Average Metric: 522 / 67  (779.1):  68%|██████▊   | 67/98 [00:34<00:09,  3.40it/s]"
     ]
    },
    {
     "name": "stdout",
     "output_type": "stream",
     "text": [
      "Searching quran for \"لماذا الحج مهم؟\"\n",
      "Searching hadith for \"ما معنى الإسلام في الحديث؟\"\n",
      "Searching quran for \"كيفية أداء الحج\"\n"
     ]
    },
    {
     "name": "stderr",
     "output_type": "stream",
     "text": [
      "Average Metric: 532 / 68  (782.4):  69%|██████▉   | 68/98 [00:34<00:07,  3.89it/s]"
     ]
    },
    {
     "name": "stdout",
     "output_type": "stream",
     "text": [
      "Searching quran for \"هل يقول القرآن بقتل غير المؤمنين؟\"\n"
     ]
    },
    {
     "name": "stderr",
     "output_type": "stream",
     "text": [
      "Average Metric: 552 / 71  (777.5):  71%|███████▏  | 70/98 [00:35<00:07,  3.89it/s]"
     ]
    },
    {
     "name": "stdout",
     "output_type": "stream",
     "text": [
      "Searching quran for \"هل هناك استثناءات أو إعفاءات من الصيام؟\"\n",
      "Searching quran for \"ما هي العمرة؟\"\n",
      "Searching quran for \"هل انتشر الإسلام بالعنف والإكراه؟\"\n",
      "Searching hadith for \"ما هو عيد الفطر؟\"\n",
      "Searching hadith for \"أهمية الحج في الأحاديث\"\n",
      "Searching al-mawsuah for \"ما هو تعريف الإسلام في الفقه الإسلامي؟\"\n",
      "Searching hadith for \"كيفية أداء الحج\"\n",
      "Searching hadith for \"هل يوجد حديث يأمر بقتل غير المؤمنين؟\"\n",
      "Searching hadith for \"هل هناك استثناءات أو إعفاءات من الصيام؟\"\n",
      "Searching hadith for \"ما هي العمرة؟\"\n",
      "Searching hadith for \"هل انتشر الإسلام بالعنف والإكراه؟\"\n",
      "Searching al-mawsuah for \"ما هو عيد الفطر؟\"\n",
      "Searching al-mawsuah for \"أهمية الحج في الفقه الإسلامي\"\n",
      "Searching al-mawsuah for \"كيفية أداء الحج\"\n"
     ]
    },
    {
     "name": "stderr",
     "output_type": "stream",
     "text": [
      "Average Metric: 560 / 72  (777.8):  73%|███████▎  | 72/98 [00:36<00:09,  2.88it/s]"
     ]
    },
    {
     "name": "stdout",
     "output_type": "stream",
     "text": [
      "Searching al-mawsuah for \"ما هو حكم قتل غير المؤمنين في الفقه الإسلامي؟\"\n",
      "Searching quran for \"هل العمرة والحج نفس الشيء؟\"\n",
      "Searching al-mawsuah for \"هل انتشر الإسلام بالعنف والإكراه؟\"\n",
      "Searching al-mawsuah for \"ما هي العمرة؟\"\n",
      "Searching al-mawsuah for \"هل هناك استثناءات أو إعفاءات من الصيام؟\"\n"
     ]
    },
    {
     "name": "stderr",
     "output_type": "stream",
     "text": [
      "Average Metric: 576 / 75  (768.0):  77%|███████▋  | 75/98 [00:37<00:06,  3.61it/s]"
     ]
    },
    {
     "name": "stdout",
     "output_type": "stream",
     "text": [
      "Searching quran for \"ماذا يؤمن المسلمون؟\"\n",
      "Searching quran for \"هل الشريعة موحدة وغير متغيرة؟\"\n",
      "Searching quran for \"ما هي الصدقة؟\"\n"
     ]
    },
    {
     "name": "stderr",
     "output_type": "stream",
     "text": [
      "Average Metric: 582 / 76  (765.8):  78%|███████▊  | 76/98 [00:37<00:05,  3.73it/s]"
     ]
    },
    {
     "name": "stdout",
     "output_type": "stream",
     "text": [
      "Searching hadith for \"هل العمرة والحج نفس الشيء؟\"\n",
      "Searching quran for \"صلاة التراويح\"\n"
     ]
    },
    {
     "name": "stderr",
     "output_type": "stream",
     "text": [
      "Average Metric: 600 / 78  (769.2):  80%|███████▉  | 78/98 [00:37<00:04,  4.73it/s]"
     ]
    },
    {
     "name": "stdout",
     "output_type": "stream",
     "text": [
      "Searching quran for \"ما هو التوحيد؟\"\n",
      "Searching quran for \"ما معنى الجهاد؟\"\n"
     ]
    },
    {
     "name": "stderr",
     "output_type": "stream",
     "text": [
      "Average Metric: 612 / 79  (774.7):  81%|████████  | 79/98 [00:37<00:03,  5.20it/s]"
     ]
    },
    {
     "name": "stdout",
     "output_type": "stream",
     "text": [
      "Searching quran for \"كيف يتناول الإسلام القدر والإرادة الحرة؟\"\n",
      "Searching hadith for \"ماذا يؤمن المسلمون؟\"\n",
      "Searching hadith for \"هل الشريعة موحدة وغير متغيرة؟\"\n",
      "Searching al-mawsuah for \"هل العمرة والحج نفس الشيء؟\"\n",
      "Searching hadith for \"ما هي الصدقة؟\"\n",
      "Searching hadith for \"صلاة التراويح\"\n",
      "Searching hadith for \"ما هو التوحيد؟\"\n",
      "Searching hadith for \"ما معنى الجهاد؟\"\n",
      "Searching hadith for \"كيف يتناول الإسلام القدر والإرادة الحرة؟\"\n",
      "Searching al-mawsuah for \"ماذا يؤمن المسلمون؟\"\n"
     ]
    },
    {
     "name": "stderr",
     "output_type": "stream",
     "text": [
      "Average Metric: 620 / 80  (775.0):  82%|████████▏ | 80/98 [00:38<00:07,  2.51it/s]"
     ]
    },
    {
     "name": "stdout",
     "output_type": "stream",
     "text": [
      "Searching quran for \"الطلاق في الإسلام\"\n",
      "Searching al-mawsuah for \"هل الشريعة موحدة وغير متغيرة؟\"\n",
      "Searching al-mawsuah for \"ما هي الصدقة؟\"\n",
      "Searching al-mawsuah for \"صلاة التراويح\"\n",
      "Searching al-mawsuah for \"ما هو التوحيد؟\"\n",
      "Searching al-mawsuah for \"ما معنى الجهاد؟\"\n"
     ]
    },
    {
     "name": "stderr",
     "output_type": "stream",
     "text": [
      "Average Metric: 638 / 83  (768.7):  84%|████████▎ | 82/98 [00:39<00:06,  2.64it/s]"
     ]
    },
    {
     "name": "stdout",
     "output_type": "stream",
     "text": [
      "Searching quran for \"ما هي الأعياد التي يحتفل بها المسلمون؟\"\n",
      "Searching al-mawsuah for \"كيف يتناول الإسلام القدر والإرادة الحرة؟\"\n",
      "Searching quran for \"هل الوسواس القهري نتيجة وساوس الشيطان؟\"\n",
      "Searching hadith for \"حديث عن الطلاق\"\n",
      "Searching quran for \"كيف نعرف أن الله موجود؟\"\n"
     ]
    },
    {
     "name": "stderr",
     "output_type": "stream",
     "text": [
      "Average Metric: 652 / 85  (767.1):  87%|████████▋ | 85/98 [00:39<00:03,  4.18it/s]"
     ]
    },
    {
     "name": "stdout",
     "output_type": "stream",
     "text": [
      "Searching quran for \"تاريخ الشريعة\"\n",
      "Searching quran for \"هل يسمح الإسلام بالحرب الوقائية؟\"\n"
     ]
    },
    {
     "name": "stderr",
     "output_type": "stream",
     "text": [
      "Average Metric: 662 / 87  (760.9):  89%|████████▉ | 87/98 [00:40<00:01,  5.56it/s]"
     ]
    },
    {
     "name": "stdout",
     "output_type": "stream",
     "text": [
      "Searching quran for \"الوحي في الإسلام\"\n",
      "Searching quran for \"هل الإسلام يشجع على العنف؟\"\n",
      "Searching hadith for \"ما هي الأعياد التي يحتفل بها المسلمون؟\"\n",
      "Searching al-mawsuah for \"الطلاق في الفقه الإسلامي\"\n",
      "Searching hadith for \"هل الوسواس القهري نتيجة وساوس الشيطان؟\"\n",
      "Searching hadith for \"كيف نعرف أن الله موجود؟\"\n",
      "Searching hadith for \"تاريخ الشريعة\"\n",
      "Searching hadith for \"هل يسمح الإسلام بالحرب الوقائية؟\"\n",
      "Searching hadith for \"الوحي في الإسلام\"\n"
     ]
    },
    {
     "name": "stderr",
     "output_type": "stream",
     "text": [
      "Average Metric: 670 / 88  (761.4):  90%|████████▉ | 88/98 [00:41<00:03,  2.74it/s]"
     ]
    },
    {
     "name": "stdout",
     "output_type": "stream",
     "text": [
      "Searching hadith for \"هل الإسلام يشجع على العنف؟\"\n",
      "Searching al-mawsuah for \"ما هي الأعياد التي يحتفل بها المسلمون؟\"\n",
      "Searching quran for \"ما هي أهمية الحج؟\"\n",
      "Searching al-mawsuah for \"هل الوسواس القهري نتيجة وساوس الشيطان؟\"\n",
      "Searching al-mawsuah for \"كيف نعرف أن الله موجود؟\"\n",
      "Searching al-mawsuah for \"تاريخ الشريعة\"\n",
      "Searching al-mawsuah for \"هل يسمح الإسلام بالحرب الوقائية؟\"\n",
      "Searching al-mawsuah for \"الوحي في الإسلام\"\n",
      "Searching al-mawsuah for \"هل الإسلام يشجع على العنف؟\"\n"
     ]
    },
    {
     "name": "stderr",
     "output_type": "stream",
     "text": [
      "Average Metric: 694 / 91  (762.6):  92%|█████████▏| 90/98 [00:41<00:03,  2.64it/s]"
     ]
    },
    {
     "name": "stdout",
     "output_type": "stream",
     "text": [
      "Searching quran for \"لماذا يطلب الله من الناس عبادته؟\"\n",
      "Searching hadith for \"ما هي أهمية الحج؟\"\n",
      "Searching quran for \"هل يؤمن المسلمون بصلب عيسى؟\"\n"
     ]
    },
    {
     "name": "stderr",
     "output_type": "stream",
     "text": [
      "Average Metric: 724 / 95  (762.1):  96%|█████████▌| 94/98 [00:42<00:00,  4.54it/s]"
     ]
    },
    {
     "name": "stdout",
     "output_type": "stream",
     "text": [
      "Searching hadith for \"لماذا يطلب الله من الناس عبادته؟\"\n",
      "Searching al-mawsuah for \"ما هي أهمية الحج؟\"\n",
      "Searching hadith for \"هل ورد في الأحاديث أن المسلمين يؤمنون بصلب عيسى؟\"\n"
     ]
    },
    {
     "name": "stderr",
     "output_type": "stream",
     "text": [
      "Average Metric: 734 / 96  (764.6):  98%|█████████▊| 96/98 [00:43<00:00,  2.96it/s]"
     ]
    },
    {
     "name": "stdout",
     "output_type": "stream",
     "text": [
      "Searching al-mawsuah for \"لماذا يطلب الله من الناس عبادته؟\"\n",
      "Searching al-mawsuah for \"موقف الفقه الإسلامي من صلب عيسى\"\n"
     ]
    },
    {
     "name": "stderr",
     "output_type": "stream",
     "text": [
      "Average Metric: 748 / 98  (763.3): 100%|██████████| 98/98 [00:44<00:00,  2.21it/s]\n"
     ]
    },
    {
     "name": "stdout",
     "output_type": "stream",
     "text": [
      "Searching quran for \"أين الكعبة؟\"\n",
      "Searching quran for \"من يجب عليه أداء الحج؟\"\n",
      "Searching quran for \"هل يسمح الإسلام بجرائم الشرف؟\"\n",
      "Searching quran for \"هل يقدم القرآن توجيهات حول كيفية التعامل مع الصدمة والألم؟\"\n",
      "Searching quran for \"هل يصوم المسلمون خارج رمضان؟\"\n",
      "Searching quran for \"ما هي الفتوى؟\"\n",
      "Searching quran for \"ما معنى حلال؟\"\n",
      "Searching quran for \"هل الردة يعاقب عليها بالإعدام في الإسلام؟\"\n"
     ]
    },
    {
     "name": "stderr",
     "output_type": "stream",
     "text": [
      "  0%|          | 0/98 [00:00<?, ?it/s]"
     ]
    },
    {
     "name": "stdout",
     "output_type": "stream",
     "text": [
      "Searching hadith for \"أين الكعبة؟\"\n",
      "Searching hadith for \"هل تقدم السنة النبوية توجيهات حول كيفية التعامل مع الصدمة والألم؟\"\n",
      "Searching hadith for \"هل يصوم المسلمون خارج رمضان؟\"\n",
      "Searching hadith for \"ما هي الفتوى؟\"\n",
      "Searching hadith for \"هل يعاقب المرتد بالإعدام في الإسلام؟\"\n",
      "Searching hadith for \"ما معنى حلال؟\"\n",
      "Searching hadith for \"من يجب عليه أداء الحج؟\"\n",
      "Searching hadith for \"هل توجد أحاديث تتعلق بجرائم الشرف؟\"\n",
      "Searching al-mawsuah for \"من يجب عليه أداء الحج؟\"\n",
      "Searching al-mawsuah for \"أين الكعبة؟\"\n",
      "Searching al-mawsuah for \"ما هو حكم الفقه الإسلامي في جرائم الشرف؟\"\n",
      "Searching al-mawsuah for \"كيفية التعامل مع الصدمة والألم في الفقه الإسلامي\"\n",
      "Searching al-mawsuah for \"هل يصوم المسلمون خارج رمضان؟\"\n",
      "Searching al-mawsuah for \"ما معنى حلال؟\"\n",
      "Searching al-mawsuah for \"ما هي الفتوى؟\"\n",
      "Searching al-mawsuah for \"حكم الردة في الفقه الإسلامي\"\n"
     ]
    },
    {
     "name": "stderr",
     "output_type": "stream",
     "text": [
      "Average Metric: 40 / 5  (800.0):   4%|▍         | 4/98 [00:02<00:45,  2.06it/s]"
     ]
    },
    {
     "name": "stdout",
     "output_type": "stream",
     "text": [
      "Searching quran for \"ما هو رمضان؟\"\n",
      "Searching quran for \"هل الإسلام يشجع على العنف؟\"\n",
      "Searching quran for \"هل يسمح الإسلام بالحرب الوقائية؟\"\n",
      "Searching quran for \"كيف يصف القرآن السعادة؟ كيف يمكن تحقيقها في الإسلام؟\"\n",
      "Searching quran for \"أهمية ليلة القدر\"\n"
     ]
    },
    {
     "name": "stderr",
     "output_type": "stream",
     "text": [
      "Average Metric: 64 / 8  (800.0):   7%|▋         | 7/98 [00:02<00:22,  4.08it/s]"
     ]
    },
    {
     "name": "stdout",
     "output_type": "stream",
     "text": [
      "Searching quran for \"هل يوفر الإسلام إرشادات حول كيفية التعامل مع الأمراض النفسية؟\"\n",
      "Searching quran for \"ما هو رمضان؟\"\n",
      "Searching quran for \"لماذا يصلي المسلمون يوميا؟\"\n",
      "Searching hadith for \"ما هو رمضان؟\"\n",
      "Searching hadith for \"هل يسمح الإسلام بالحرب الوقائية؟\"\n",
      "Searching hadith for \"هل الإسلام يشجع على العنف؟\"\n",
      "Searching hadith for \"فضل ليلة القدر\"\n",
      "Searching hadith for \"لماذا يصلي المسلمون يوميا؟\"\n",
      "Searching hadith for \"كيف يصف الحديث السعادة؟ كيف يمكن تحقيقها في الإسلام؟\"\n",
      "Searching hadith for \"هل هناك أحاديث تتحدث عن كيفية التعامل مع الأمراض النفسية؟\"\n",
      "Searching hadith for \"ما هو رمضان؟\"\n",
      "Searching al-mawsuah for \"ما هو رمضان؟\"\n",
      "Searching al-mawsuah for \"هل الإسلام يشجع على العنف؟\"\n",
      "Searching al-mawsuah for \"هل يسمح الإسلام بالحرب الوقائية؟\"\n",
      "Searching al-mawsuah for \"أهمية ليلة القدر في الفقه الإسلامي\"\n",
      "Searching al-mawsuah for \"السعادة في الفقه الإسلامي وكيفية تحقيقها\"\n",
      "Searching al-mawsuah for \"إرشادات الفقه الإسلامي حول التعامل مع الأمراض النفسية\"\n",
      "Searching al-mawsuah for \"ما هو رمضان؟\"\n",
      "Searching al-mawsuah for \"لماذا يصلي المسلمون يوميا؟\"\n"
     ]
    },
    {
     "name": "stderr",
     "output_type": "stream",
     "text": [
      "Average Metric: 82 / 11  (745.5):  10%|█         | 10/98 [00:04<00:45,  1.92it/s]"
     ]
    },
    {
     "name": "stdout",
     "output_type": "stream",
     "text": [
      "Searching quran for \"كيف تصوم رمضان؟\"\n",
      "Searching quran for \"كيف نعلم أن القرآن وحي إلهي؟\"\n",
      "Searching quran for \"من يجب عليه الصيام في رمضان؟\"\n"
     ]
    },
    {
     "name": "stderr",
     "output_type": "stream",
     "text": [
      "Average Metric: 114 / 16  (712.5):  16%|█▋        | 16/98 [00:05<00:16,  5.01it/s]"
     ]
    },
    {
     "name": "stdout",
     "output_type": "stream",
     "text": [
      "Searching quran for \"ما هو الغرض من الصيام في رمضان؟\"\n",
      "Searching quran for \"هل التجديف يعاقب عليه بالإعدام؟\"\n",
      "Searching quran for \"ماذا يقدم الإسلام للناس؟\"\n",
      "Searching quran for \"مدة الصيام في رمضان\"\n",
      "Searching quran for \"كيف يُساء تفسير الجهاد كإرهاب؟\"\n",
      "Searching hadith for \"كيف تصوم رمضان؟\"\n",
      "Searching hadith for \"كيف نعلم أن القرآن وحي إلهي؟\"\n",
      "Searching hadith for \"من يجب عليه الصيام في رمضان؟\"\n",
      "Searching hadith for \"هل التجديف يعاقب عليه بالإعدام؟\"\n",
      "Searching hadith for \"ماذا يقدم الإسلام للناس؟\"\n",
      "Searching hadith for \"ما هو الغرض من الصيام في رمضان؟\"\n",
      "Searching hadith for \"كيف يُساء تفسير الجهاد كإرهاب؟\"\n",
      "Searching hadith for \"مدة الصيام في رمضان\"\n",
      "Searching al-mawsuah for \"كيف تصوم رمضان؟\"\n",
      "Searching al-mawsuah for \"كيف نعلم أن القرآن وحي إلهي؟\"\n",
      "Searching al-mawsuah for \"من يجب عليه الصيام في رمضان؟\"\n",
      "Searching al-mawsuah for \"ما هو الغرض من الصيام في رمضان؟\"\n",
      "Searching al-mawsuah for \"مدة الصيام في رمضان\"\n",
      "Searching al-mawsuah for \"كيف يُساء تفسير الجهاد كإرهاب؟\"\n",
      "Searching al-mawsuah for \"ماذا يقدم الإسلام للناس؟\"\n",
      "Searching al-mawsuah for \"هل التجديف يعاقب عليه بالإعدام؟\"\n"
     ]
    },
    {
     "name": "stderr",
     "output_type": "stream",
     "text": [
      "Average Metric: 132 / 18  (733.3):  18%|█▊        | 18/98 [00:07<00:31,  2.55it/s]"
     ]
    },
    {
     "name": "stdout",
     "output_type": "stream",
     "text": [
      "Searching quran for \"كيف يُساء تفسير الجهاد كإرهاب؟\"\n",
      "Searching quran for \"أركان الإسلام الخمسة\"\n"
     ]
    },
    {
     "name": "stderr",
     "output_type": "stream",
     "text": [
      "Average Metric: 182 / 24  (758.3):  23%|██▎       | 23/98 [00:07<00:16,  4.44it/s]"
     ]
    },
    {
     "name": "stdout",
     "output_type": "stream",
     "text": [
      "Searching quran for \"كيف يعامل الإسلام الأقليات الدينية؟\"\n",
      "Searching quran for \"ليلة القدر\"\n",
      "Searching quran for \"هل يؤمن المسلمون بالروح القدس؟\"\n",
      "Searching quran for \"هل يؤمن المسلمون بالجنة والنار؟\"\n",
      "Searching quran for \"من هو الله\"\n",
      "Searching quran for \"ما معنى الجهاد؟\"\n",
      "Searching hadith for \"كيف يُساء تفسير الجهاد كإرهاب؟\"\n",
      "Searching hadith for \"أركان الإسلام الخمسة\"\n",
      "Searching hadith for \"معاملة الإسلام للأقليات الدينية\"\n",
      "Searching hadith for \"ما هي ليلة القدر\"\n",
      "Searching hadith for \"هل ذكر النبي الجنة والنار؟\"\n",
      "Searching hadith for \"هل ذكر الروح القدس في الأحاديث؟\"\n",
      "Searching hadith for \"من هو الله\"\n",
      "Searching hadith for \"ما معنى الجهاد؟\"\n",
      "Searching al-mawsuah for \"كيف يُساء تفسير الجهاد كإرهاب؟\"\n",
      "Searching al-mawsuah for \"أركان الإسلام الخمسة\"\n",
      "Searching al-mawsuah for \"معاملة الأقليات الدينية في الفقه الإسلامي\"\n",
      "Searching al-mawsuah for \"ليلة القدر في الفقه الإسلامي\"\n",
      "Searching al-mawsuah for \"ما معنى الجهاد؟\"\n",
      "Searching al-mawsuah for \"الإيمان بالروح القدس في الفقه الإسلامي\"\n",
      "Searching al-mawsuah for \"الإيمان بالجنة والنار في الفقه الإسلامي\"\n",
      "Searching al-mawsuah for \"من هو الله\"\n"
     ]
    },
    {
     "name": "stderr",
     "output_type": "stream",
     "text": [
      "Average Metric: 198 / 26  (761.5):  26%|██▌       | 25/98 [00:09<00:29,  2.44it/s]"
     ]
    },
    {
     "name": "stdout",
     "output_type": "stream",
     "text": [
      "Searching quran for \"أين يحدث الحج؟\"\n",
      "Searching quran for \"أحكام الحرب في الإسلام\"\n"
     ]
    },
    {
     "name": "stderr",
     "output_type": "stream",
     "text": [
      "Average Metric: 216 / 28  (771.4):  28%|██▊       | 27/98 [00:09<00:24,  2.90it/s]"
     ]
    },
    {
     "name": "stdout",
     "output_type": "stream",
     "text": [
      "Searching quran for \"متى ليلة القدر؟\"\n",
      "Searching quran for \"كم مرة يصلي المسلمون خلال رمضان؟\"\n"
     ]
    },
    {
     "name": "stderr",
     "output_type": "stream",
     "text": [
      "Average Metric: 244 / 31  (787.1):  32%|███▏      | 31/98 [00:10<00:14,  4.54it/s]"
     ]
    },
    {
     "name": "stdout",
     "output_type": "stream",
     "text": [
      "Searching quran for \"لماذا الكعبة مهمة؟\"\n",
      "Searching quran for \"لماذا يجب على المسلمين الصيام لمدة شهر كامل؟\"\n",
      "Searching quran for \"كيف يمكن فهم والتعامل مع الحزن والأسى في الإسلام؟\"\n"
     ]
    },
    {
     "name": "stderr",
     "output_type": "stream",
     "text": [
      "Average Metric: 250 / 32  (781.2):  32%|███▏      | 31/98 [00:10<00:14,  4.54it/s]"
     ]
    },
    {
     "name": "stdout",
     "output_type": "stream",
     "text": [
      "Searching quran for \"كيف يمكن للمرء أن يطهر قلبه وروحه؟\"\n",
      "Searching hadith for \"أين يحدث الحج؟\"\n",
      "Searching hadith for \"أحاديث عن أحكام الحرب في الإسلام\"\n",
      "Searching hadith for \"متى ليلة القدر؟\"\n",
      "Searching hadith for \"كم مرة يصلي المسلمون خلال رمضان؟\"\n",
      "Searching hadith for \"لماذا الكعبة مهمة؟\"\n",
      "Searching hadith for \"لماذا يجب على المسلمين الصيام لمدة شهر كامل؟\"\n",
      "Searching hadith for \"كيف يمكن فهم والتعامل مع الحزن والأسى في الإسلام؟\"\n",
      "Searching hadith for \"كيف يمكن للمرء أن يطهر قلبه وروحه؟\"\n",
      "Searching al-mawsuah for \"أين يحدث الحج؟\"\n",
      "Searching al-mawsuah for \"أحكام الحرب في الفقه الإسلامي\"\n",
      "Searching al-mawsuah for \"متى ليلة القدر؟\"\n",
      "Searching al-mawsuah for \"كم مرة يصلي المسلمون خلال رمضان؟\"\n",
      "Searching al-mawsuah for \"أهمية الكعبة في الفقه الإسلامي\"\n",
      "Searching al-mawsuah for \"لماذا يجب على المسلمين الصيام لمدة شهر كامل؟\"\n",
      "Searching al-mawsuah for \"كيف يمكن فهم والتعامل مع الحزن والأسى في الإسلام؟\"\n",
      "Searching al-mawsuah for \"كيف يمكن للمرء أن يطهر قلبه وروحه؟\"\n"
     ]
    },
    {
     "name": "stderr",
     "output_type": "stream",
     "text": [
      "Average Metric: 282 / 35  (805.7):  36%|███▌      | 35/98 [00:11<00:19,  3.25it/s]"
     ]
    },
    {
     "name": "stdout",
     "output_type": "stream",
     "text": [
      "Searching quran for \"ما هي الكعبة؟\"\n",
      "Searching quran for \"من هو النبي محمد؟\"\n",
      "Searching quran for \"ما هي التزكية؟\"\n"
     ]
    },
    {
     "name": "stderr",
     "output_type": "stream",
     "text": [
      "Average Metric: 286 / 36  (794.4):  36%|███▌      | 35/98 [00:12<00:19,  3.25it/s]"
     ]
    },
    {
     "name": "stdout",
     "output_type": "stream",
     "text": [
      "Searching quran for \"أحكام الحرب في الإسلام\"\n"
     ]
    },
    {
     "name": "stderr",
     "output_type": "stream",
     "text": [
      "Average Metric: 320 / 40  (800.0):  41%|████      | 40/98 [00:12<00:11,  5.16it/s]"
     ]
    },
    {
     "name": "stdout",
     "output_type": "stream",
     "text": [
      "Searching quran for \"ما الذي يعلمه الإسلام عن إدارة القلق والاكتئاب والشك الذاتي؟\"\n",
      "Searching quran for \"أين تؤدى العمرة؟\"\n",
      "Searching quran for \"كيف تكون الروحانية الإسلامية فريدة؟\"\n",
      "Searching quran for \"كيف يفهم الإسلام الروح\"\n",
      "Searching hadith for \"ما هي الكعبة؟\"\n",
      "Searching hadith for \"ما هي التزكية؟\"\n",
      "Searching hadith for \"من هو النبي محمد؟\"\n",
      "Searching hadith for \"أحاديث عن أحكام الحرب في الإسلام\"\n",
      "Searching hadith for \"ما الذي يعلمه الإسلام عن إدارة القلق والاكتئاب والشك الذاتي؟\"\n",
      "Searching hadith for \"كيف تكون الروحانية الإسلامية فريدة؟\"\n",
      "Searching hadith for \"فهم الروح في الإسلام\"\n",
      "Searching al-mawsuah for \"ما هي التزكية؟\"\n",
      "Searching al-mawsuah for \"ما هي الكعبة؟\"\n",
      "Searching hadith for \"أين تؤدى العمرة؟\"\n",
      "Searching al-mawsuah for \"من هو النبي محمد؟\"\n",
      "Searching al-mawsuah for \"أحكام الحرب في الفقه الإسلامي\"\n"
     ]
    },
    {
     "name": "stderr",
     "output_type": "stream",
     "text": [
      "Average Metric: 330 / 41  (804.9):  41%|████      | 40/98 [00:14<00:11,  5.16it/s]"
     ]
    },
    {
     "name": "stdout",
     "output_type": "stream",
     "text": [
      "Searching al-mawsuah for \"ما الذي يعلمه الإسلام عن إدارة القلق والاكتئاب والشك الذاتي؟\"\n",
      "Searching al-mawsuah for \"كيف تكون الروحانية الإسلامية فريدة؟\"\n",
      "Searching quran for \"من هو عيسى في الإسلام؟\"\n"
     ]
    },
    {
     "name": "stderr",
     "output_type": "stream",
     "text": [
      "Average Metric: 336 / 42  (800.0):  43%|████▎     | 42/98 [00:14<00:21,  2.62it/s]"
     ]
    },
    {
     "name": "stdout",
     "output_type": "stream",
     "text": [
      "Searching quran for \"ما هو الإسلام؟\"\n",
      "Searching al-mawsuah for \"الروح في الفقه الإسلامي\"\n"
     ]
    },
    {
     "name": "stderr",
     "output_type": "stream",
     "text": [
      "Average Metric: 354 / 44  (804.5):  45%|████▍     | 44/98 [00:14<00:17,  3.15it/s]"
     ]
    },
    {
     "name": "stdout",
     "output_type": "stream",
     "text": [
      "Searching quran for \"متى رمضان؟\"\n",
      "Searching quran for \"كيف يعامل الإسلام الأقليات الدينية؟\"\n"
     ]
    },
    {
     "name": "stderr",
     "output_type": "stream",
     "text": [
      "Average Metric: 364 / 46  (791.3):  46%|████▌     | 45/98 [00:14<00:16,  3.26it/s]"
     ]
    },
    {
     "name": "stdout",
     "output_type": "stream",
     "text": [
      "Searching quran for \"كيف تتعلق الشريعة بطقوس العبادة؟\"\n",
      "Searching quran for \"هل انتشر الإسلام بالعنف والإكراه؟\"\n"
     ]
    },
    {
     "name": "stderr",
     "output_type": "stream",
     "text": [
      "Average Metric: 374 / 47  (795.7):  48%|████▊     | 47/98 [00:15<00:13,  3.71it/s]"
     ]
    },
    {
     "name": "stdout",
     "output_type": "stream",
     "text": [
      "Searching al-mawsuah for \"أين تؤدى العمرة؟\"\n",
      "Searching hadith for \"ما هو الإسلام؟\"\n",
      "Searching hadith for \"من هو عيسى في الأحاديث؟\"\n",
      "Searching quran for \"لماذا يتم الاحتفال بشهر رمضان؟\"\n",
      "Searching hadith for \"متى رمضان؟\"\n",
      "Searching hadith for \"معاملة الإسلام للأقليات الدينية\"\n",
      "Searching hadith for \"كيف تتعلق الشريعة بطقوس العبادة؟\"\n",
      "Searching hadith for \"هل انتشر الإسلام بالعنف والإكراه؟\"\n",
      "Searching al-mawsuah for \"ما هو الإسلام؟\"\n"
     ]
    },
    {
     "name": "stderr",
     "output_type": "stream",
     "text": [
      "Average Metric: 382 / 48  (795.8):  49%|████▉     | 48/98 [00:15<00:16,  2.96it/s]"
     ]
    },
    {
     "name": "stdout",
     "output_type": "stream",
     "text": [
      "Searching quran for \"من هو النبي إبراهيم؟\"\n",
      "Searching al-mawsuah for \"من هو عيسى في الفقه الإسلامي؟\"\n",
      "Searching hadith for \"لماذا يتم الاحتفال بشهر رمضان؟\"\n",
      "Searching al-mawsuah for \"معاملة الأقليات الدينية في الفقه الإسلامي\"\n",
      "Searching al-mawsuah for \"متى رمضان؟\"\n",
      "Searching al-mawsuah for \"كيف تتعلق الشريعة بطقوس العبادة؟\"\n",
      "Searching al-mawsuah for \"هل انتشر الإسلام بالعنف والإكراه؟\"\n"
     ]
    },
    {
     "name": "stderr",
     "output_type": "stream",
     "text": [
      "Average Metric: 386 / 49  (787.8):  50%|█████     | 49/98 [00:16<00:21,  2.32it/s]"
     ]
    },
    {
     "name": "stdout",
     "output_type": "stream",
     "text": [
      "Searching quran for \"ما هو زكاة الفطر؟\"\n",
      "Searching hadith for \"من هو النبي إبراهيم؟\"\n",
      "Searching al-mawsuah for \"لماذا يتم الاحتفال بشهر رمضان؟\"\n"
     ]
    },
    {
     "name": "stderr",
     "output_type": "stream",
     "text": [
      "Average Metric: 408 / 52  (784.6):  53%|█████▎    | 52/98 [00:17<00:11,  3.90it/s]"
     ]
    },
    {
     "name": "stdout",
     "output_type": "stream",
     "text": [
      "Searching quran for \"هل يسمح الإسلام بقتل المدنيين؟\"\n",
      "Searching quran for \"ما هو الفقه؟\"\n",
      "Searching quran for \"كيف تتعلق الشريعة بالمجتمع؟\"\n"
     ]
    },
    {
     "name": "stderr",
     "output_type": "stream",
     "text": [
      "Average Metric: 428 / 54  (792.6):  54%|█████▍    | 53/98 [00:17<00:10,  4.25it/s]"
     ]
    },
    {
     "name": "stdout",
     "output_type": "stream",
     "text": [
      "Searching quran for \"القيود الغذائية في الإسلام\"\n",
      "Searching quran for \"أهمية الصدقة في رمضان\"\n"
     ]
    },
    {
     "name": "stderr",
     "output_type": "stream",
     "text": [
      "Average Metric: 436 / 55  (792.7):  56%|█████▌    | 55/98 [00:17<00:08,  4.92it/s]"
     ]
    },
    {
     "name": "stdout",
     "output_type": "stream",
     "text": [
      "Searching quran for \"ما هو القرآن؟\"\n",
      "Searching hadith for \"ما هو زكاة الفطر؟\"\n",
      "Searching al-mawsuah for \"من هو النبي إبراهيم؟\"\n",
      "Searching hadith for \"هل يسمح الإسلام بقتل المدنيين؟\"\n",
      "Searching hadith for \"كيف تتعلق الشريعة بالمجتمع؟\"\n",
      "Searching hadith for \"ما هو الفقه؟\"\n",
      "Searching hadith for \"القيود الغذائية في الإسلام\"\n",
      "Searching hadith for \"فضل الصدقة في رمضان\"\n",
      "Searching al-mawsuah for \"ما هو زكاة الفطر؟\"\n",
      "Searching hadith for \"ما هو القرآن؟\"\n"
     ]
    },
    {
     "name": "stderr",
     "output_type": "stream",
     "text": [
      "Average Metric: 442 / 56  (789.3):  57%|█████▋    | 56/98 [00:18<00:16,  2.53it/s]"
     ]
    },
    {
     "name": "stdout",
     "output_type": "stream",
     "text": [
      "Searching al-mawsuah for \"هل يسمح الإسلام بقتل المدنيين؟\"\n",
      "Searching quran for \"من بنى الكعبة؟\"\n",
      "Searching al-mawsuah for \"كيف تتعلق الشريعة بالمجتمع؟\"\n",
      "Searching al-mawsuah for \"ما هو الفقه؟\"\n",
      "Searching al-mawsuah for \"الصدقة في رمضان\"\n",
      "Searching al-mawsuah for \"القيود الغذائية في الإسلام\"\n"
     ]
    },
    {
     "name": "stderr",
     "output_type": "stream",
     "text": [
      "Average Metric: 452 / 58  (779.3):  58%|█████▊    | 57/98 [00:19<00:16,  2.49it/s]"
     ]
    },
    {
     "name": "stdout",
     "output_type": "stream",
     "text": [
      "Searching quran for \"من أين تأتي الشريعة؟\"\n",
      "Searching al-mawsuah for \"ما هو القرآن؟\"\n"
     ]
    },
    {
     "name": "stderr",
     "output_type": "stream",
     "text": [
      "Average Metric: 462 / 59  (783.1):  60%|██████    | 59/98 [00:19<00:11,  3.33it/s]"
     ]
    },
    {
     "name": "stdout",
     "output_type": "stream",
     "text": [
      "Searching quran for \"كيف يغذي الإسلام رفاهنا العاطفي؟\"\n",
      "Searching quran for \"كيفية أداء العمرة\"\n",
      "Searching hadith for \"من بنى الكعبة؟\"\n"
     ]
    },
    {
     "name": "stderr",
     "output_type": "stream",
     "text": [
      "Average Metric: 476 / 61  (780.3):  62%|██████▏   | 61/98 [00:19<00:08,  4.59it/s]"
     ]
    },
    {
     "name": "stdout",
     "output_type": "stream",
     "text": [
      "Searching quran for \"آيات القرآن للتعامل مع الضيق والشدائد\"\n",
      "Searching quran for \"هل يقول القرآن بقتل غير المؤمنين؟\"\n"
     ]
    },
    {
     "name": "stderr",
     "output_type": "stream",
     "text": [
      "Average Metric: 496 / 63  (787.3):  64%|██████▍   | 63/98 [00:19<00:06,  5.11it/s]"
     ]
    },
    {
     "name": "stdout",
     "output_type": "stream",
     "text": [
      "Searching quran for \"هل التجديف يعاقب عليه بالإعدام؟\"\n",
      "Searching hadith for \"من أين تأتي الشريعة؟\"\n",
      "Searching quran for \"هل يسمح الإسلام بقتل المدنيين؟\"\n",
      "Searching hadith for \"كيف يغذي الإسلام رفاهنا العاطفي؟\"\n",
      "Searching hadith for \"كيفية أداء العمرة\"\n",
      "Searching al-mawsuah for \"من بنى الكعبة؟\"\n",
      "Searching hadith for \"أحاديث عن التعامل مع الضيق والشدائد\"\n",
      "Searching hadith for \"هل يوجد حديث يأمر بقتل غير المؤمنين؟\"\n",
      "Searching hadith for \"هل التجديف يعاقب عليه بالإعدام؟\"\n",
      "Searching al-mawsuah for \"مصادر الشريعة الإسلامية\"\n",
      "Searching hadith for \"هل يسمح الإسلام بقتل المدنيين؟\"\n",
      "Searching al-mawsuah for \"كيف يغذي الإسلام رفاهنا العاطفي؟\"\n",
      "Searching al-mawsuah for \"كيفية أداء العمرة\"\n",
      "Searching al-mawsuah for \"أحكام الفقه الإسلامي حول التعامل مع الضيق والشدائد\"\n"
     ]
    },
    {
     "name": "stderr",
     "output_type": "stream",
     "text": [
      "Average Metric: 504 / 64  (787.5):  65%|██████▌   | 64/98 [00:21<00:15,  2.17it/s]"
     ]
    },
    {
     "name": "stdout",
     "output_type": "stream",
     "text": [
      "Searching al-mawsuah for \"ما هو حكم قتل غير المؤمنين في الفقه الإسلامي؟\"\n",
      "Searching quran for \"ما معنى الإسلام؟\"\n"
     ]
    },
    {
     "name": "stderr",
     "output_type": "stream",
     "text": [
      "Average Metric: 514 / 65  (790.8):  66%|██████▋   | 65/98 [00:21<00:13,  2.41it/s]"
     ]
    },
    {
     "name": "stdout",
     "output_type": "stream",
     "text": [
      "Searching quran for \"ما هو عيد الفطر؟\"\n",
      "Searching al-mawsuah for \"هل التجديف يعاقب عليه بالإعدام؟\"\n",
      "Searching al-mawsuah for \"هل يسمح الإسلام بقتل المدنيين؟\"\n"
     ]
    },
    {
     "name": "stderr",
     "output_type": "stream",
     "text": [
      "Average Metric: 532 / 68  (782.4):  69%|██████▉   | 68/98 [00:21<00:06,  4.31it/s]"
     ]
    },
    {
     "name": "stdout",
     "output_type": "stream",
     "text": [
      "Searching quran for \"لماذا الحج مهم؟\"\n",
      "Searching quran for \"كيفية أداء الحج\"\n",
      "Searching quran for \"هل يقول القرآن بقتل غير المؤمنين؟\"\n"
     ]
    },
    {
     "name": "stderr",
     "output_type": "stream",
     "text": [
      "Average Metric: 538 / 69  (779.7):  70%|███████   | 69/98 [00:22<00:06,  4.26it/s]"
     ]
    },
    {
     "name": "stdout",
     "output_type": "stream",
     "text": [
      "Searching hadith for \"ما معنى الإسلام في الحديث؟\"\n",
      "Searching quran for \"هل هناك استثناءات أو إعفاءات من الصيام؟\"\n"
     ]
    },
    {
     "name": "stderr",
     "output_type": "stream",
     "text": [
      "Average Metric: 552 / 71  (777.5):  71%|███████▏  | 70/98 [00:22<00:06,  4.13it/s]"
     ]
    },
    {
     "name": "stdout",
     "output_type": "stream",
     "text": [
      "Searching hadith for \"ما هو عيد الفطر؟\"\n",
      "Searching quran for \"ما هي العمرة؟\"\n",
      "Searching quran for \"هل انتشر الإسلام بالعنف والإكراه؟\"\n",
      "Searching hadith for \"أهمية الحج في الأحاديث\"\n",
      "Searching hadith for \"كيفية أداء الحج\"\n",
      "Searching hadith for \"هل يوجد حديث يأمر بقتل غير المؤمنين؟\"\n",
      "Searching al-mawsuah for \"ما هو تعريف الإسلام في الفقه الإسلامي؟\"\n",
      "Searching hadith for \"هل هناك استثناءات أو إعفاءات من الصيام؟\"\n",
      "Searching hadith for \"ما هي العمرة؟\"\n",
      "Searching hadith for \"هل انتشر الإسلام بالعنف والإكراه؟\"\n",
      "Searching al-mawsuah for \"ما هو عيد الفطر؟\"\n",
      "Searching al-mawsuah for \"كيفية أداء الحج\"\n",
      "Searching al-mawsuah for \"أهمية الحج في الفقه الإسلامي\"\n",
      "Searching al-mawsuah for \"ما هو حكم قتل غير المؤمنين في الفقه الإسلامي؟\"\n"
     ]
    },
    {
     "name": "stderr",
     "output_type": "stream",
     "text": [
      "Average Metric: 560 / 72  (777.8):  73%|███████▎  | 72/98 [00:23<00:11,  2.32it/s]"
     ]
    },
    {
     "name": "stdout",
     "output_type": "stream",
     "text": [
      "Searching quran for \"هل العمرة والحج نفس الشيء؟\"\n",
      "Searching al-mawsuah for \"هل هناك استثناءات أو إعفاءات من الصيام؟\"\n",
      "Searching al-mawsuah for \"هل انتشر الإسلام بالعنف والإكراه؟\"\n"
     ]
    },
    {
     "name": "stderr",
     "output_type": "stream",
     "text": [
      "Average Metric: 572 / 74  (773.0):  74%|███████▍  | 73/98 [00:24<00:09,  2.54it/s]"
     ]
    },
    {
     "name": "stdout",
     "output_type": "stream",
     "text": [
      "Searching quran for \"ماذا يؤمن المسلمون؟\"\n",
      "Searching al-mawsuah for \"ما هي العمرة؟\"\n",
      "Searching quran for \"هل الشريعة موحدة وغير متغيرة؟\"\n"
     ]
    },
    {
     "name": "stderr",
     "output_type": "stream",
     "text": [
      "Average Metric: 582 / 76  (765.8):  77%|███████▋  | 75/98 [00:24<00:06,  3.37it/s]"
     ]
    },
    {
     "name": "stdout",
     "output_type": "stream",
     "text": [
      "Searching quran for \"ما هي الصدقة؟\"\n",
      "Searching quran for \"صلاة التراويح\"\n"
     ]
    },
    {
     "name": "stderr",
     "output_type": "stream",
     "text": [
      "Average Metric: 592 / 77  (768.8):  79%|███████▊  | 77/98 [00:24<00:05,  3.97it/s]"
     ]
    },
    {
     "name": "stdout",
     "output_type": "stream",
     "text": [
      "Searching hadith for \"هل العمرة والحج نفس الشيء؟\"\n",
      "Searching quran for \"ما هو التوحيد؟\"\n"
     ]
    },
    {
     "name": "stderr",
     "output_type": "stream",
     "text": [
      "Average Metric: 612 / 79  (774.7):  80%|███████▉  | 78/98 [00:24<00:04,  4.50it/s]"
     ]
    },
    {
     "name": "stdout",
     "output_type": "stream",
     "text": [
      "Searching quran for \"ما معنى الجهاد؟\"\n",
      "Searching quran for \"كيف يتناول الإسلام القدر والإرادة الحرة؟\"\n",
      "Searching hadith for \"ماذا يؤمن المسلمون؟\"\n",
      "Searching hadith for \"هل الشريعة موحدة وغير متغيرة؟\"\n",
      "Searching hadith for \"صلاة التراويح\"\n",
      "Searching hadith for \"ما هي الصدقة؟\"\n",
      "Searching al-mawsuah for \"هل العمرة والحج نفس الشيء؟\"\n",
      "Searching hadith for \"ما هو التوحيد؟\"\n",
      "Searching hadith for \"ما معنى الجهاد؟\"\n",
      "Searching hadith for \"كيف يتناول الإسلام القدر والإرادة الحرة؟\"\n",
      "Searching al-mawsuah for \"ماذا يؤمن المسلمون؟\"\n",
      "Searching al-mawsuah for \"هل الشريعة موحدة وغير متغيرة؟\"\n"
     ]
    },
    {
     "name": "stderr",
     "output_type": "stream",
     "text": [
      "Average Metric: 620 / 80  (775.0):  82%|████████▏ | 80/98 [00:26<00:06,  2.69it/s]"
     ]
    },
    {
     "name": "stdout",
     "output_type": "stream",
     "text": [
      "Searching al-mawsuah for \"صلاة التراويح\"\n",
      "Searching al-mawsuah for \"ما هي الصدقة؟\"\n",
      "Searching quran for \"الطلاق في الإسلام\"\n"
     ]
    },
    {
     "name": "stderr",
     "output_type": "stream",
     "text": [
      "Average Metric: 634 / 82  (773.2):  83%|████████▎ | 81/98 [00:26<00:06,  2.68it/s]"
     ]
    },
    {
     "name": "stdout",
     "output_type": "stream",
     "text": [
      "Searching al-mawsuah for \"ما هو التوحيد؟\"\n",
      "Searching al-mawsuah for \"ما معنى الجهاد؟\"\n",
      "Searching quran for \"ما هي الأعياد التي يحتفل بها المسلمون؟\"\n",
      "Searching al-mawsuah for \"كيف يتناول الإسلام القدر والإرادة الحرة؟\"\n",
      "Searching quran for \"هل الوسواس القهري نتيجة وساوس الشيطان؟\"\n"
     ]
    },
    {
     "name": "stderr",
     "output_type": "stream",
     "text": [
      "Average Metric: 644 / 84  (766.7):  85%|████████▍ | 83/98 [00:26<00:04,  3.41it/s]"
     ]
    },
    {
     "name": "stdout",
     "output_type": "stream",
     "text": [
      "Searching quran for \"كيف نعرف أن الله موجود؟\"\n",
      "Searching quran for \"تاريخ الشريعة\"\n",
      "Searching hadith for \"حديث عن الطلاق\"\n"
     ]
    },
    {
     "name": "stderr",
     "output_type": "stream",
     "text": [
      "Average Metric: 658 / 86  (765.1):  87%|████████▋ | 85/98 [00:27<00:03,  3.95it/s]"
     ]
    },
    {
     "name": "stdout",
     "output_type": "stream",
     "text": [
      "Searching quran for \"هل يسمح الإسلام بالحرب الوقائية؟\"\n",
      "Searching quran for \"الوحي في الإسلام\"\n",
      "Searching hadith for \"ما هي الأعياد التي يحتفل بها المسلمون؟\"\n",
      "Searching hadith for \"هل الوسواس القهري نتيجة وساوس الشيطان؟\"\n"
     ]
    },
    {
     "name": "stderr",
     "output_type": "stream",
     "text": [
      "Average Metric: 662 / 87  (760.9):  89%|████████▉ | 87/98 [00:27<00:02,  4.89it/s]"
     ]
    },
    {
     "name": "stdout",
     "output_type": "stream",
     "text": [
      "Searching quran for \"هل الإسلام يشجع على العنف؟\"\n",
      "Searching hadith for \"تاريخ الشريعة\"\n",
      "Searching al-mawsuah for \"الطلاق في الفقه الإسلامي\"\n",
      "Searching hadith for \"كيف نعرف أن الله موجود؟\"\n",
      "Searching hadith for \"الوحي في الإسلام\"\n",
      "Searching al-mawsuah for \"ما هي الأعياد التي يحتفل بها المسلمون؟\"\n",
      "Searching hadith for \"هل الإسلام يشجع على العنف؟\"\n",
      "Searching al-mawsuah for \"هل الوسواس القهري نتيجة وساوس الشيطان؟\"\n",
      "Searching hadith for \"هل يسمح الإسلام بالحرب الوقائية؟\"\n",
      "Searching al-mawsuah for \"تاريخ الشريعة\"\n"
     ]
    },
    {
     "name": "stderr",
     "output_type": "stream",
     "text": [
      "Average Metric: 670 / 88  (761.4):  90%|████████▉ | 88/98 [00:28<00:03,  2.63it/s]"
     ]
    },
    {
     "name": "stdout",
     "output_type": "stream",
     "text": [
      "Searching al-mawsuah for \"كيف نعرف أن الله موجود؟\"\n",
      "Searching quran for \"ما هي أهمية الحج؟\"\n"
     ]
    },
    {
     "name": "stderr",
     "output_type": "stream",
     "text": [
      "Average Metric: 676 / 89  (759.6):  91%|█████████ | 89/98 [00:28<00:03,  2.60it/s]"
     ]
    },
    {
     "name": "stdout",
     "output_type": "stream",
     "text": [
      "Searching al-mawsuah for \"الوحي في الإسلام\"\n",
      "Searching quran for \"لماذا يطلب الله من الناس عبادته؟\"\n"
     ]
    },
    {
     "name": "stderr",
     "output_type": "stream",
     "text": [
      "Average Metric: 694 / 91  (762.6):  92%|█████████▏| 90/98 [00:28<00:02,  3.12it/s]"
     ]
    },
    {
     "name": "stdout",
     "output_type": "stream",
     "text": [
      "Searching al-mawsuah for \"هل الإسلام يشجع على العنف؟\"\n",
      "Searching quran for \"هل يؤمن المسلمون بصلب عيسى؟\"\n",
      "Searching al-mawsuah for \"هل يسمح الإسلام بالحرب الوقائية؟\"\n"
     ]
    },
    {
     "name": "stderr",
     "output_type": "stream",
     "text": [
      "Average Metric: 700 / 92  (760.9):  94%|█████████▍| 92/98 [00:29<00:01,  3.75it/s]"
     ]
    },
    {
     "name": "stdout",
     "output_type": "stream",
     "text": [
      "Searching hadith for \"ما هي أهمية الحج؟\"\n"
     ]
    },
    {
     "name": "stderr",
     "output_type": "stream",
     "text": [
      "Average Metric: 724 / 95  (762.1):  97%|█████████▋| 95/98 [00:29<00:00,  4.78it/s]"
     ]
    },
    {
     "name": "stdout",
     "output_type": "stream",
     "text": [
      "Searching hadith for \"لماذا يطلب الله من الناس عبادته؟\"\n",
      "Searching hadith for \"هل ورد في الأحاديث أن المسلمين يؤمنون بصلب عيسى؟\"\n",
      "Searching al-mawsuah for \"ما هي أهمية الحج؟\"\n",
      "Searching al-mawsuah for \"لماذا يطلب الله من الناس عبادته؟\"\n",
      "Searching al-mawsuah for \"موقف الفقه الإسلامي من صلب عيسى\"\n"
     ]
    },
    {
     "name": "stderr",
     "output_type": "stream",
     "text": [
      "Average Metric: 748 / 98  (763.3): 100%|██████████| 98/98 [00:31<00:00,  3.12it/s]\n"
     ]
    },
    {
     "name": "stdout",
     "output_type": "stream",
     "text": [
      "Searching quran for \"أين الكعبة؟\"\n",
      "Searching quran for \"من يجب عليه أداء الحج؟\"\n",
      "Searching quran for \"هل يسمح الإسلام بجرائم الشرف؟\"\n",
      "Searching quran for \"هل يصوم المسلمون خارج رمضان؟\"\n",
      "Searching quran for \"هل يقدم القرآن توجيهات حول كيفية التعامل مع الصدمة والألم؟\"\n",
      "Searching quran for \"ما هي الفتوى؟\"\n",
      "Searching quran for \"ما معنى حلال؟\"\n",
      "Searching quran for \"هل الردة يعاقب عليها بالإعدام في الإسلام؟\"\n"
     ]
    },
    {
     "name": "stderr",
     "output_type": "stream",
     "text": [
      "  0%|          | 0/98 [00:00<?, ?it/s]"
     ]
    },
    {
     "name": "stdout",
     "output_type": "stream",
     "text": [
      "Searching hadith for \"أين الكعبة؟\"\n",
      "Searching hadith for \"ما معنى حلال؟\"\n",
      "Searching hadith for \"ما هي الفتوى؟\"\n",
      "Searching hadith for \"هل يصوم المسلمون خارج رمضان؟\"\n",
      "Searching hadith for \"هل توجد أحاديث تتعلق بجرائم الشرف؟\"\n",
      "Searching hadith for \"من يجب عليه أداء الحج؟\"\n",
      "Searching hadith for \"هل يعاقب المرتد بالإعدام في الإسلام؟\"\n",
      "Searching hadith for \"هل تقدم السنة النبوية توجيهات حول كيفية التعامل مع الصدمة والألم؟\"\n",
      "Searching al-mawsuah for \"ما هو حكم الفقه الإسلامي في جرائم الشرف؟\"\n",
      "Searching al-mawsuah for \"من يجب عليه أداء الحج؟\"\n",
      "Searching al-mawsuah for \"ما معنى حلال؟\"\n",
      "Searching al-mawsuah for \"أين الكعبة؟\"\n",
      "Searching al-mawsuah for \"هل يصوم المسلمون خارج رمضان؟\"\n",
      "Searching al-mawsuah for \"ما هي الفتوى؟\"\n",
      "Searching al-mawsuah for \"كيفية التعامل مع الصدمة والألم في الفقه الإسلامي\"\n",
      "Searching al-mawsuah for \"حكم الردة في الفقه الإسلامي\"\n"
     ]
    },
    {
     "name": "stderr",
     "output_type": "stream",
     "text": [
      "Average Metric: 48 / 6  (800.0):   5%|▌         | 5/98 [00:02<03:45,  2.43s/it] "
     ]
    },
    {
     "name": "stdout",
     "output_type": "stream",
     "text": [
      "Searching quran for \"ما هو رمضان؟\"\n",
      "Searching quran for \"هل الإسلام يشجع على العنف؟\"\n",
      "Searching quran for \"هل يسمح الإسلام بالحرب الوقائية؟\"\n",
      "Searching quran for \"كيف يصف القرآن السعادة؟ كيف يمكن تحقيقها في الإسلام؟\"\n",
      "Searching quran for \"أهمية ليلة القدر\"\n",
      "Searching quran for \"هل يوفر الإسلام إرشادات حول كيفية التعامل مع الأمراض النفسية؟\"\n"
     ]
    },
    {
     "name": "stderr",
     "output_type": "stream",
     "text": [
      "Average Metric: 64 / 8  (800.0):   7%|▋         | 7/98 [00:02<00:26,  3.41it/s]"
     ]
    },
    {
     "name": "stdout",
     "output_type": "stream",
     "text": [
      "Searching quran for \"ما هو رمضان؟\"\n",
      "Searching quran for \"لماذا يصلي المسلمون يوميا؟\"\n",
      "Searching hadith for \"فضل ليلة القدر\"\n",
      "Searching hadith for \"ما هو رمضان؟\"\n",
      "Searching hadith for \"هل يسمح الإسلام بالحرب الوقائية؟\"\n",
      "Searching hadith for \"هل الإسلام يشجع على العنف؟\"\n",
      "Searching hadith for \"هل هناك أحاديث تتحدث عن كيفية التعامل مع الأمراض النفسية؟\"\n",
      "Searching hadith for \"كيف يصف الحديث السعادة؟ كيف يمكن تحقيقها في الإسلام؟\"\n",
      "Searching hadith for \"ما هو رمضان؟\"\n",
      "Searching hadith for \"لماذا يصلي المسلمون يوميا؟\"\n",
      "Searching al-mawsuah for \"أهمية ليلة القدر في الفقه الإسلامي\"\n",
      "Searching al-mawsuah for \"ما هو رمضان؟\"\n",
      "Searching al-mawsuah for \"هل الإسلام يشجع على العنف؟\"\n",
      "Searching al-mawsuah for \"إرشادات الفقه الإسلامي حول التعامل مع الأمراض النفسية\"\n",
      "Searching al-mawsuah for \"السعادة في الفقه الإسلامي وكيفية تحقيقها\"\n",
      "Searching al-mawsuah for \"هل يسمح الإسلام بالحرب الوقائية؟\"\n",
      "Searching al-mawsuah for \"ما هو رمضان؟\"\n",
      "Searching al-mawsuah for \"لماذا يصلي المسلمون يوميا؟\"\n"
     ]
    },
    {
     "name": "stderr",
     "output_type": "stream",
     "text": [
      "Average Metric: 100 / 14  (714.3):  13%|█▎        | 13/98 [00:04<00:24,  3.41it/s]"
     ]
    },
    {
     "name": "stdout",
     "output_type": "stream",
     "text": [
      "Searching quran for \"كيف تصوم رمضان؟\"\n",
      "Searching quran for \"من يجب عليه الصيام في رمضان؟\"\n",
      "Searching quran for \"كيف نعلم أن القرآن وحي إلهي؟\"\n",
      "Searching quran for \"هل التجديف يعاقب عليه بالإعدام؟\"\n",
      "Searching quran for \"ما هو الغرض من الصيام في رمضان؟\"\n",
      "Searching quran for \"ماذا يقدم الإسلام للناس؟\"\n"
     ]
    },
    {
     "name": "stderr",
     "output_type": "stream",
     "text": [
      "Average Metric: 114 / 16  (712.5):  15%|█▌        | 15/98 [00:05<00:19,  4.26it/s]"
     ]
    },
    {
     "name": "stdout",
     "output_type": "stream",
     "text": [
      "Searching quran for \"مدة الصيام في رمضان\"\n",
      "Searching quran for \"كيف يُساء تفسير الجهاد كإرهاب؟\"\n",
      "Searching hadith for \"كيف تصوم رمضان؟\"\n",
      "Searching hadith for \"هل التجديف يعاقب عليه بالإعدام؟\"\n",
      "Searching hadith for \"من يجب عليه الصيام في رمضان؟\"\n",
      "Searching hadith for \"كيف نعلم أن القرآن وحي إلهي؟\"\n",
      "Searching hadith for \"ما هو الغرض من الصيام في رمضان؟\"\n",
      "Searching hadith for \"ماذا يقدم الإسلام للناس؟\"\n",
      "Searching hadith for \"مدة الصيام في رمضان\"\n",
      "Searching hadith for \"كيف يُساء تفسير الجهاد كإرهاب؟\"\n",
      "Searching al-mawsuah for \"كيف تصوم رمضان؟\"\n",
      "Searching al-mawsuah for \"كيف نعلم أن القرآن وحي إلهي؟\"\n",
      "Searching al-mawsuah for \"من يجب عليه الصيام في رمضان؟\"\n",
      "Searching al-mawsuah for \"ما هو الغرض من الصيام في رمضان؟\"\n",
      "Searching al-mawsuah for \"هل التجديف يعاقب عليه بالإعدام؟\"\n",
      "Searching al-mawsuah for \"مدة الصيام في رمضان\"\n",
      "Searching al-mawsuah for \"كيف يُساء تفسير الجهاد كإرهاب؟\"\n",
      "Searching al-mawsuah for \"ماذا يقدم الإسلام للناس؟\"\n"
     ]
    },
    {
     "name": "stderr",
     "output_type": "stream",
     "text": [
      "Average Metric: 140 / 19  (736.8):  18%|█▊        | 18/98 [00:07<00:35,  2.25it/s]"
     ]
    },
    {
     "name": "stdout",
     "output_type": "stream",
     "text": [
      "Searching quran for \"كيف يُساء تفسير الجهاد كإرهاب؟\"\n",
      "Searching quran for \"أركان الإسلام الخمسة\"\n",
      "Searching quran for \"كيف يعامل الإسلام الأقليات الدينية؟\"\n"
     ]
    },
    {
     "name": "stderr",
     "output_type": "stream",
     "text": [
      "Average Metric: 182 / 24  (758.3):  23%|██▎       | 23/98 [00:07<00:20,  3.66it/s]"
     ]
    },
    {
     "name": "stdout",
     "output_type": "stream",
     "text": [
      "Searching quran for \"ليلة القدر\"\n",
      "Searching quran for \"هل يؤمن المسلمون بالروح القدس؟\"\n",
      "Searching quran for \"من هو الله\"\n",
      "Searching quran for \"هل يؤمن المسلمون بالجنة والنار؟\"\n",
      "Searching quran for \"ما معنى الجهاد؟\"\n",
      "Searching hadith for \"كيف يُساء تفسير الجهاد كإرهاب؟\"\n",
      "Searching hadith for \"معاملة الإسلام للأقليات الدينية\"\n",
      "Searching hadith for \"أركان الإسلام الخمسة\"\n",
      "Searching hadith for \"ما هي ليلة القدر\"\n",
      "Searching hadith for \"هل ذكر الروح القدس في الأحاديث؟\"\n",
      "Searching hadith for \"من هو الله\"\n",
      "Searching hadith for \"هل ذكر النبي الجنة والنار؟\"\n",
      "Searching hadith for \"ما معنى الجهاد؟\"\n",
      "Searching al-mawsuah for \"كيف يُساء تفسير الجهاد كإرهاب؟\"\n",
      "Searching al-mawsuah for \"أركان الإسلام الخمسة\"\n",
      "Searching al-mawsuah for \"معاملة الأقليات الدينية في الفقه الإسلامي\"\n",
      "Searching al-mawsuah for \"ليلة القدر في الفقه الإسلامي\"\n",
      "Searching al-mawsuah for \"الإيمان بالروح القدس في الفقه الإسلامي\"\n",
      "Searching al-mawsuah for \"ما معنى الجهاد؟\"\n",
      "Searching al-mawsuah for \"الإيمان بالجنة والنار في الفقه الإسلامي\"\n",
      "Searching al-mawsuah for \"من هو الله\"\n"
     ]
    },
    {
     "name": "stderr",
     "output_type": "stream",
     "text": [
      "Average Metric: 198 / 26  (761.5):  27%|██▋       | 26/98 [00:09<00:24,  2.93it/s]"
     ]
    },
    {
     "name": "stdout",
     "output_type": "stream",
     "text": [
      "Searching quran for \"أين يحدث الحج؟\"\n",
      "Searching quran for \"أحكام الحرب في الإسلام\"\n"
     ]
    },
    {
     "name": "stderr",
     "output_type": "stream",
     "text": [
      "Average Metric: 222 / 29  (765.5):  30%|██▉       | 29/98 [00:09<00:16,  4.29it/s]"
     ]
    },
    {
     "name": "stdout",
     "output_type": "stream",
     "text": [
      "Searching quran for \"متى ليلة القدر؟\"\n",
      "Searching quran for \"كم مرة يصلي المسلمون خلال رمضان؟\"\n",
      "Searching quran for \"لماذا الكعبة مهمة؟\"\n"
     ]
    },
    {
     "name": "stderr",
     "output_type": "stream",
     "text": [
      "Average Metric: 250 / 32  (781.2):  32%|███▏      | 31/98 [00:10<00:12,  5.28it/s]"
     ]
    },
    {
     "name": "stdout",
     "output_type": "stream",
     "text": [
      "Searching quran for \"لماذا يجب على المسلمين الصيام لمدة شهر كامل؟\"\n",
      "Searching quran for \"كيف يمكن فهم والتعامل مع الحزن والأسى في الإسلام؟\"\n",
      "Searching quran for \"كيف يمكن للمرء أن يطهر قلبه وروحه؟\"\n",
      "Searching hadith for \"أين يحدث الحج؟\"\n",
      "Searching hadith for \"أحاديث عن أحكام الحرب في الإسلام\"\n",
      "Searching hadith for \"كم مرة يصلي المسلمون خلال رمضان؟\"\n",
      "Searching hadith for \"متى ليلة القدر؟\"\n",
      "Searching hadith for \"لماذا الكعبة مهمة؟\"\n",
      "Searching hadith for \"كيف يمكن للمرء أن يطهر قلبه وروحه؟\"\n",
      "Searching hadith for \"كيف يمكن فهم والتعامل مع الحزن والأسى في الإسلام؟\"\n",
      "Searching hadith for \"لماذا يجب على المسلمين الصيام لمدة شهر كامل؟\"\n",
      "Searching al-mawsuah for \"أين يحدث الحج؟\"\n",
      "Searching al-mawsuah for \"أحكام الحرب في الفقه الإسلامي\"\n",
      "Searching al-mawsuah for \"متى ليلة القدر؟\"\n",
      "Searching al-mawsuah for \"كم مرة يصلي المسلمون خلال رمضان؟\"\n",
      "Searching al-mawsuah for \"أهمية الكعبة في الفقه الإسلامي\"\n",
      "Searching al-mawsuah for \"كيف يمكن للمرء أن يطهر قلبه وروحه؟\"\n",
      "Searching al-mawsuah for \"كيف يمكن فهم والتعامل مع الحزن والأسى في الإسلام؟\"\n",
      "Searching al-mawsuah for \"لماذا يجب على المسلمين الصيام لمدة شهر كامل؟\"\n"
     ]
    },
    {
     "name": "stderr",
     "output_type": "stream",
     "text": [
      "Average Metric: 262 / 33  (793.9):  34%|███▎      | 33/98 [00:11<00:26,  2.46it/s]"
     ]
    },
    {
     "name": "stdout",
     "output_type": "stream",
     "text": [
      "Searching quran for \"ما هي الكعبة؟\"\n"
     ]
    },
    {
     "name": "stderr",
     "output_type": "stream",
     "text": [
      "Average Metric: 286 / 36  (794.4):  36%|███▌      | 35/98 [00:12<00:24,  2.59it/s]"
     ]
    },
    {
     "name": "stdout",
     "output_type": "stream",
     "text": [
      "Searching quran for \"من هو النبي محمد؟\"\n",
      "Searching quran for \"ما هي التزكية؟\"\n",
      "Searching quran for \"أحكام الحرب في الإسلام\"\n"
     ]
    },
    {
     "name": "stderr",
     "output_type": "stream",
     "text": [
      "Average Metric: 320 / 40  (800.0):  40%|███▉      | 39/98 [00:12<00:13,  4.39it/s]"
     ]
    },
    {
     "name": "stdout",
     "output_type": "stream",
     "text": [
      "Searching quran for \"ما الذي يعلمه الإسلام عن إدارة القلق والاكتئاب والشك الذاتي؟\"\n",
      "Searching quran for \"أين تؤدى العمرة؟\"\n",
      "Searching quran for \"كيف تكون الروحانية الإسلامية فريدة؟\"\n",
      "Searching quran for \"كيف يفهم الإسلام الروح\"\n",
      "Searching hadith for \"ما هي الكعبة؟\"\n",
      "Searching hadith for \"ما هي التزكية؟\"\n",
      "Searching hadith for \"أحاديث عن أحكام الحرب في الإسلام\"\n",
      "Searching hadith for \"من هو النبي محمد؟\"\n",
      "Searching hadith for \"ما الذي يعلمه الإسلام عن إدارة القلق والاكتئاب والشك الذاتي؟\"\n",
      "Searching hadith for \"كيف تكون الروحانية الإسلامية فريدة؟\"\n",
      "Searching hadith for \"فهم الروح في الإسلام\"\n",
      "Searching al-mawsuah for \"ما هي الكعبة؟\"\n",
      "Searching hadith for \"أين تؤدى العمرة؟\"\n",
      "Searching al-mawsuah for \"ما هي التزكية؟\"\n",
      "Searching al-mawsuah for \"أحكام الحرب في الفقه الإسلامي\"\n",
      "Searching al-mawsuah for \"من هو النبي محمد؟\"\n",
      "Searching al-mawsuah for \"ما الذي يعلمه الإسلام عن إدارة القلق والاكتئاب والشك الذاتي؟\"\n",
      "Searching al-mawsuah for \"كيف تكون الروحانية الإسلامية فريدة؟\"\n",
      "Searching al-mawsuah for \"الروح في الفقه الإسلامي\"\n"
     ]
    },
    {
     "name": "stderr",
     "output_type": "stream",
     "text": [
      "Average Metric: 336 / 42  (800.0):  42%|████▏     | 41/98 [00:14<00:22,  2.53it/s]"
     ]
    },
    {
     "name": "stdout",
     "output_type": "stream",
     "text": [
      "Searching quran for \"من هو عيسى في الإسلام؟\"\n",
      "Searching quran for \"ما هو الإسلام؟\"\n"
     ]
    },
    {
     "name": "stderr",
     "output_type": "stream",
     "text": [
      "Average Metric: 364 / 46  (791.3):  46%|████▌     | 45/98 [00:14<00:13,  3.89it/s]"
     ]
    },
    {
     "name": "stdout",
     "output_type": "stream",
     "text": [
      "Searching quran for \"متى رمضان؟\"\n",
      "Searching quran for \"كيف يعامل الإسلام الأقليات الدينية؟\"\n",
      "Searching quran for \"كيف تتعلق الشريعة بطقوس العبادة؟\"\n",
      "Searching quran for \"هل انتشر الإسلام بالعنف والإكراه؟\"\n"
     ]
    },
    {
     "name": "stderr",
     "output_type": "stream",
     "text": [
      "Average Metric: 374 / 47  (795.7):  48%|████▊     | 47/98 [00:15<00:11,  4.49it/s]"
     ]
    },
    {
     "name": "stdout",
     "output_type": "stream",
     "text": [
      "Searching al-mawsuah for \"أين تؤدى العمرة؟\"\n",
      "Searching quran for \"لماذا يتم الاحتفال بشهر رمضان؟\"\n",
      "Searching hadith for \"ما هو الإسلام؟\"\n",
      "Searching hadith for \"من هو عيسى في الأحاديث؟\"\n",
      "Searching hadith for \"متى رمضان؟\"\n",
      "Searching hadith for \"معاملة الإسلام للأقليات الدينية\"\n",
      "Searching hadith for \"كيف تتعلق الشريعة بطقوس العبادة؟\"\n"
     ]
    },
    {
     "name": "stderr",
     "output_type": "stream",
     "text": [
      "Average Metric: 382 / 48  (795.8):  49%|████▉     | 48/98 [00:15<00:14,  3.49it/s]"
     ]
    },
    {
     "name": "stdout",
     "output_type": "stream",
     "text": [
      "Searching hadith for \"هل انتشر الإسلام بالعنف والإكراه؟\"\n",
      "Searching quran for \"من هو النبي إبراهيم؟\"\n",
      "Searching hadith for \"لماذا يتم الاحتفال بشهر رمضان؟\"\n",
      "Searching al-mawsuah for \"ما هو الإسلام؟\"\n",
      "Searching al-mawsuah for \"من هو عيسى في الفقه الإسلامي؟\"\n",
      "Searching al-mawsuah for \"معاملة الأقليات الدينية في الفقه الإسلامي\"\n",
      "Searching al-mawsuah for \"متى رمضان؟\"\n",
      "Searching al-mawsuah for \"كيف تتعلق الشريعة بطقوس العبادة؟\"\n",
      "Searching al-mawsuah for \"هل انتشر الإسلام بالعنف والإكراه؟\"\n",
      "Searching hadith for \"من هو النبي إبراهيم؟\"\n",
      "Searching al-mawsuah for \"لماذا يتم الاحتفال بشهر رمضان؟\"\n"
     ]
    },
    {
     "name": "stderr",
     "output_type": "stream",
     "text": [
      "Average Metric: 386 / 49  (787.8):  50%|█████     | 49/98 [00:16<00:21,  2.26it/s]"
     ]
    },
    {
     "name": "stdout",
     "output_type": "stream",
     "text": [
      "Searching quran for \"ما هو زكاة الفطر؟\"\n"
     ]
    },
    {
     "name": "stderr",
     "output_type": "stream",
     "text": [
      "Average Metric: 428 / 54  (792.6):  55%|█████▌    | 54/98 [00:17<00:09,  4.86it/s]"
     ]
    },
    {
     "name": "stdout",
     "output_type": "stream",
     "text": [
      "Searching quran for \"هل يسمح الإسلام بقتل المدنيين؟\"\n",
      "Searching quran for \"ما هو الفقه؟\"\n",
      "Searching quran for \"كيف تتعلق الشريعة بالمجتمع؟\"\n",
      "Searching quran for \"أهمية الصدقة في رمضان\"\n",
      "Searching quran for \"القيود الغذائية في الإسلام\"\n"
     ]
    },
    {
     "name": "stderr",
     "output_type": "stream",
     "text": [
      "Average Metric: 436 / 55  (792.7):  56%|█████▌    | 55/98 [00:17<00:08,  5.13it/s]"
     ]
    },
    {
     "name": "stdout",
     "output_type": "stream",
     "text": [
      "Searching quran for \"ما هو القرآن؟\"\n",
      "Searching al-mawsuah for \"من هو النبي إبراهيم؟\"\n",
      "Searching hadith for \"ما هو زكاة الفطر؟\"\n",
      "Searching hadith for \"هل يسمح الإسلام بقتل المدنيين؟\"\n",
      "Searching hadith for \"كيف تتعلق الشريعة بالمجتمع؟\"\n",
      "Searching hadith for \"ما هو الفقه؟\"\n",
      "Searching hadith for \"فضل الصدقة في رمضان\"\n",
      "Searching hadith for \"القيود الغذائية في الإسلام\"\n",
      "Searching hadith for \"ما هو القرآن؟\"\n"
     ]
    },
    {
     "name": "stderr",
     "output_type": "stream",
     "text": [
      "Average Metric: 442 / 56  (789.3):  57%|█████▋    | 56/98 [00:18<00:14,  2.81it/s]"
     ]
    },
    {
     "name": "stdout",
     "output_type": "stream",
     "text": [
      "Searching al-mawsuah for \"ما هو زكاة الفطر؟\"\n",
      "Searching quran for \"من بنى الكعبة؟\"\n",
      "Searching al-mawsuah for \"هل يسمح الإسلام بقتل المدنيين؟\"\n",
      "Searching al-mawsuah for \"الصدقة في رمضان\"\n",
      "Searching al-mawsuah for \"ما هو الفقه؟\"\n",
      "Searching al-mawsuah for \"كيف تتعلق الشريعة بالمجتمع؟\"\n"
     ]
    },
    {
     "name": "stderr",
     "output_type": "stream",
     "text": [
      "Average Metric: 446 / 57  (782.5):  58%|█████▊    | 57/98 [00:19<00:17,  2.33it/s]"
     ]
    },
    {
     "name": "stdout",
     "output_type": "stream",
     "text": [
      "Searching al-mawsuah for \"ما هو القرآن؟\"\n",
      "Searching al-mawsuah for \"القيود الغذائية في الإسلام\"\n",
      "Searching quran for \"من أين تأتي الشريعة؟\"\n"
     ]
    },
    {
     "name": "stderr",
     "output_type": "stream",
     "text": [
      "Average Metric: 452 / 58  (779.3):  59%|█████▉    | 58/98 [00:19<00:15,  2.61it/s]"
     ]
    },
    {
     "name": "stdout",
     "output_type": "stream",
     "text": [
      "Searching hadith for \"من بنى الكعبة؟\"\n",
      "Searching quran for \"كيف يغذي الإسلام رفاهنا العاطفي؟\"\n"
     ]
    },
    {
     "name": "stderr",
     "output_type": "stream",
     "text": [
      "Average Metric: 476 / 61  (780.3):  61%|██████    | 60/98 [00:19<00:11,  3.18it/s]"
     ]
    },
    {
     "name": "stdout",
     "output_type": "stream",
     "text": [
      "Searching quran for \"كيفية أداء العمرة\"Searching quran for \"آيات القرآن للتعامل مع الضيق والشدائد\"\n",
      "\n",
      "Searching quran for \"هل يقول القرآن بقتل غير المؤمنين؟\"\n"
     ]
    },
    {
     "name": "stderr",
     "output_type": "stream",
     "text": [
      "Average Metric: 496 / 63  (787.3):  63%|██████▎   | 62/98 [00:19<00:07,  5.00it/s]"
     ]
    },
    {
     "name": "stdout",
     "output_type": "stream",
     "text": [
      "Searching quran for \"هل التجديف يعاقب عليه بالإعدام؟\"\n",
      "Searching quran for \"هل يسمح الإسلام بقتل المدنيين؟\"\n",
      "Searching hadith for \"من أين تأتي الشريعة؟\"\n",
      "Searching al-mawsuah for \"من بنى الكعبة؟\"\n",
      "Searching hadith for \"كيف يغذي الإسلام رفاهنا العاطفي؟\"\n",
      "Searching hadith for \"كيفية أداء العمرة\"\n",
      "Searching hadith for \"أحاديث عن التعامل مع الضيق والشدائد\"\n",
      "Searching hadith for \"هل يوجد حديث يأمر بقتل غير المؤمنين؟\"\n",
      "Searching hadith for \"هل التجديف يعاقب عليه بالإعدام؟\"\n",
      "Searching hadith for \"هل يسمح الإسلام بقتل المدنيين؟\"\n"
     ]
    },
    {
     "name": "stderr",
     "output_type": "stream",
     "text": [
      "Average Metric: 504 / 64  (787.5):  65%|██████▌   | 64/98 [00:20<00:11,  3.01it/s]"
     ]
    },
    {
     "name": "stdout",
     "output_type": "stream",
     "text": [
      "Searching al-mawsuah for \"مصادر الشريعة الإسلامية\"\n",
      "Searching quran for \"ما معنى الإسلام؟\"\n",
      "Searching al-mawsuah for \"كيفية أداء العمرة\"\n",
      "Searching al-mawsuah for \"أحكام الفقه الإسلامي حول التعامل مع الضيق والشدائد\"\n",
      "Searching al-mawsuah for \"كيف يغذي الإسلام رفاهنا العاطفي؟\"\n",
      "Searching al-mawsuah for \"ما هو حكم قتل غير المؤمنين في الفقه الإسلامي؟\"\n",
      "Searching al-mawsuah for \"هل يسمح الإسلام بقتل المدنيين؟\"\n",
      "Searching al-mawsuah for \"هل التجديف يعاقب عليه بالإعدام؟\"\n"
     ]
    },
    {
     "name": "stderr",
     "output_type": "stream",
     "text": [
      "Average Metric: 532 / 68  (782.4):  68%|██████▊   | 67/98 [00:21<00:10,  3.03it/s]"
     ]
    },
    {
     "name": "stdout",
     "output_type": "stream",
     "text": [
      "Searching quran for \"ما هو عيد الفطر؟\"\n",
      "Searching quran for \"لماذا الحج مهم؟\"\n",
      "Searching hadith for \"ما معنى الإسلام في الحديث؟\"\n",
      "Searching quran for \"هل يقول القرآن بقتل غير المؤمنين؟\"\n",
      "Searching quran for \"كيفية أداء الحج\"\n"
     ]
    },
    {
     "name": "stderr",
     "output_type": "stream",
     "text": [
      "Average Metric: 544 / 70  (777.1):  70%|███████   | 69/98 [00:22<00:05,  4.87it/s]"
     ]
    },
    {
     "name": "stdout",
     "output_type": "stream",
     "text": [
      "Searching quran for \"هل هناك استثناءات أو إعفاءات من الصيام؟\"\n",
      "Searching quran for \"ما هي العمرة؟\"\n"
     ]
    },
    {
     "name": "stderr",
     "output_type": "stream",
     "text": [
      "Average Metric: 552 / 71  (777.5):  71%|███████▏  | 70/98 [00:22<00:05,  4.82it/s]"
     ]
    },
    {
     "name": "stdout",
     "output_type": "stream",
     "text": [
      "Searching quran for \"هل انتشر الإسلام بالعنف والإكراه؟\"\n",
      "Searching hadith for \"ما هو عيد الفطر؟\"\n",
      "Searching hadith for \"أهمية الحج في الأحاديث\"\n",
      "Searching hadith for \"كيفية أداء الحج\"\n",
      "Searching al-mawsuah for \"ما هو تعريف الإسلام في الفقه الإسلامي؟\"\n",
      "Searching hadith for \"هل يوجد حديث يأمر بقتل غير المؤمنين؟\"\n",
      "Searching hadith for \"هل هناك استثناءات أو إعفاءات من الصيام؟\"\n",
      "Searching hadith for \"ما هي العمرة؟\"\n",
      "Searching hadith for \"هل انتشر الإسلام بالعنف والإكراه؟\"\n",
      "Searching al-mawsuah for \"ما هو عيد الفطر؟\"\n",
      "Searching al-mawsuah for \"كيفية أداء الحج\"\n",
      "Searching al-mawsuah for \"ما هو حكم قتل غير المؤمنين في الفقه الإسلامي؟\"\n",
      "Searching al-mawsuah for \"أهمية الحج في الفقه الإسلامي\"\n"
     ]
    },
    {
     "name": "stderr",
     "output_type": "stream",
     "text": [
      "Average Metric: 560 / 72  (777.8):  73%|███████▎  | 72/98 [00:23<00:09,  2.68it/s]"
     ]
    },
    {
     "name": "stdout",
     "output_type": "stream",
     "text": [
      "Searching quran for \"هل العمرة والحج نفس الشيء؟\"\n",
      "Searching al-mawsuah for \"هل انتشر الإسلام بالعنف والإكراه؟\"\n",
      "Searching al-mawsuah for \"هل هناك استثناءات أو إعفاءات من الصيام؟\"\n",
      "Searching al-mawsuah for \"ما هي العمرة؟\"\n"
     ]
    },
    {
     "name": "stderr",
     "output_type": "stream",
     "text": [
      "Average Metric: 582 / 76  (765.8):  77%|███████▋  | 75/98 [00:24<00:06,  3.57it/s]"
     ]
    },
    {
     "name": "stdout",
     "output_type": "stream",
     "text": [
      "Searching quran for \"ماذا يؤمن المسلمون؟\"\n",
      "Searching quran for \"هل الشريعة موحدة وغير متغيرة؟\"\n",
      "Searching quran for \"ما هي الصدقة؟\"\n",
      "Searching quran for \"صلاة التراويح\"\n"
     ]
    },
    {
     "name": "stderr",
     "output_type": "stream",
     "text": [
      "Average Metric: 592 / 77  (768.8):  79%|███████▊  | 77/98 [00:24<00:04,  4.34it/s]"
     ]
    },
    {
     "name": "stdout",
     "output_type": "stream",
     "text": [
      "Searching hadith for \"هل العمرة والحج نفس الشيء؟\"\n",
      "Searching quran for \"ما هو التوحيد؟\"\n",
      "Searching quran for \"ما معنى الجهاد؟\"\n",
      "Searching quran for \"كيف يتناول الإسلام القدر والإرادة الحرة؟\"\n"
     ]
    },
    {
     "name": "stderr",
     "output_type": "stream",
     "text": [
      "Average Metric: 612 / 79  (774.7):  80%|███████▉  | 78/98 [00:24<00:04,  4.51it/s]"
     ]
    },
    {
     "name": "stdout",
     "output_type": "stream",
     "text": [
      "Searching hadith for \"ماذا يؤمن المسلمون؟\"\n",
      "Searching hadith for \"هل الشريعة موحدة وغير متغيرة؟\"\n",
      "Searching hadith for \"ما هي الصدقة؟\"\n",
      "Searching hadith for \"صلاة التراويح\"\n",
      "Searching al-mawsuah for \"هل العمرة والحج نفس الشيء؟\"\n",
      "Searching hadith for \"ما هو التوحيد؟\"\n",
      "Searching hadith for \"ما معنى الجهاد؟\"\n",
      "Searching hadith for \"كيف يتناول الإسلام القدر والإرادة الحرة؟\"\n",
      "Searching al-mawsuah for \"ماذا يؤمن المسلمون؟\"\n",
      "Searching al-mawsuah for \"هل الشريعة موحدة وغير متغيرة؟\"\n",
      "Searching al-mawsuah for \"ما هي الصدقة؟\"\n",
      "Searching quran for \"الطلاق في الإسلام\"\n"
     ]
    },
    {
     "name": "stderr",
     "output_type": "stream",
     "text": [
      "Average Metric: 620 / 80  (775.0):  82%|████████▏ | 80/98 [00:25<00:06,  2.71it/s]"
     ]
    },
    {
     "name": "stdout",
     "output_type": "stream",
     "text": [
      "Searching al-mawsuah for \"صلاة التراويح\"\n",
      "Searching al-mawsuah for \"ما هو التوحيد؟\"\n",
      "Searching al-mawsuah for \"ما معنى الجهاد؟\"\n",
      "Searching al-mawsuah for \"كيف يتناول الإسلام القدر والإرادة الحرة؟\"\n"
     ]
    },
    {
     "name": "stderr",
     "output_type": "stream",
     "text": [
      "Average Metric: 644 / 84  (766.7):  85%|████████▍ | 83/98 [00:26<00:04,  3.45it/s]"
     ]
    },
    {
     "name": "stdout",
     "output_type": "stream",
     "text": [
      "Searching quran for \"ما هي الأعياد التي يحتفل بها المسلمون؟\"\n",
      "Searching quran for \"هل الوسواس القهري نتيجة وساوس الشيطان؟\"\n",
      "Searching quran for \"كيف نعرف أن الله موجود؟\"\n",
      "Searching quran for \"تاريخ الشريعة\"\n"
     ]
    },
    {
     "name": "stderr",
     "output_type": "stream",
     "text": [
      "Average Metric: 652 / 85  (767.1):  87%|████████▋ | 85/98 [00:26<00:03,  4.17it/s]"
     ]
    },
    {
     "name": "stdout",
     "output_type": "stream",
     "text": [
      "Searching hadith for \"حديث عن الطلاق\"\n"
     ]
    },
    {
     "name": "stderr",
     "output_type": "stream",
     "text": [
      "Average Metric: 662 / 87  (760.9):  89%|████████▉ | 87/98 [00:27<00:02,  5.49it/s]"
     ]
    },
    {
     "name": "stdout",
     "output_type": "stream",
     "text": [
      "Searching quran for \"هل يسمح الإسلام بالحرب الوقائية؟\"\n",
      "Searching quran for \"الوحي في الإسلام\"\n",
      "Searching quran for \"هل الإسلام يشجع على العنف؟\"\n",
      "Searching hadith for \"ما هي الأعياد التي يحتفل بها المسلمون؟\"\n",
      "Searching hadith for \"هل الوسواس القهري نتيجة وساوس الشيطان؟\"\n",
      "Searching al-mawsuah for \"الطلاق في الفقه الإسلامي\"\n",
      "Searching hadith for \"تاريخ الشريعة\"\n",
      "Searching hadith for \"كيف نعرف أن الله موجود؟\"\n",
      "Searching hadith for \"الوحي في الإسلام\"\n",
      "Searching hadith for \"هل الإسلام يشجع على العنف؟\"\n",
      "Searching hadith for \"هل يسمح الإسلام بالحرب الوقائية؟\"\n",
      "Searching al-mawsuah for \"ما هي الأعياد التي يحتفل بها المسلمون؟\"\n",
      "Searching al-mawsuah for \"هل الوسواس القهري نتيجة وساوس الشيطان؟\"\n",
      "Searching al-mawsuah for \"تاريخ الشريعة\"\n",
      "Searching al-mawsuah for \"كيف نعرف أن الله موجود؟\"\n"
     ]
    },
    {
     "name": "stderr",
     "output_type": "stream",
     "text": [
      "Average Metric: 670 / 88  (761.4):  90%|████████▉ | 88/98 [00:28<00:03,  2.51it/s]"
     ]
    },
    {
     "name": "stdout",
     "output_type": "stream",
     "text": [
      "Searching quran for \"ما هي أهمية الحج؟\"\n",
      "Searching al-mawsuah for \"الوحي في الإسلام\"\n",
      "Searching al-mawsuah for \"هل الإسلام يشجع على العنف؟\"\n",
      "Searching al-mawsuah for \"هل يسمح الإسلام بالحرب الوقائية؟\"\n"
     ]
    },
    {
     "name": "stderr",
     "output_type": "stream",
     "text": [
      "Average Metric: 694 / 91  (762.6):  92%|█████████▏| 90/98 [00:28<00:03,  2.34it/s]"
     ]
    },
    {
     "name": "stdout",
     "output_type": "stream",
     "text": [
      "Searching quran for \"لماذا يطلب الله من الناس عبادته؟\"\n",
      "Searching quran for \"هل يؤمن المسلمون بصلب عيسى؟\"\n"
     ]
    },
    {
     "name": "stderr",
     "output_type": "stream",
     "text": [
      "Average Metric: 708 / 93  (761.3):  95%|█████████▍| 93/98 [00:29<00:01,  3.91it/s]"
     ]
    },
    {
     "name": "stdout",
     "output_type": "stream",
     "text": [
      "Searching hadith for \"ما هي أهمية الحج؟\"\n"
     ]
    },
    {
     "name": "stderr",
     "output_type": "stream",
     "text": [
      "Average Metric: 724 / 95  (762.1):  97%|█████████▋| 95/98 [00:29<00:00,  4.91it/s]"
     ]
    },
    {
     "name": "stdout",
     "output_type": "stream",
     "text": [
      "Searching hadith for \"هل ورد في الأحاديث أن المسلمين يؤمنون بصلب عيسى؟\"\n",
      "Searching hadith for \"لماذا يطلب الله من الناس عبادته؟\"\n",
      "Searching al-mawsuah for \"ما هي أهمية الحج؟\"\n",
      "Searching al-mawsuah for \"موقف الفقه الإسلامي من صلب عيسى\"\n",
      "Searching al-mawsuah for \"لماذا يطلب الله من الناس عبادته؟\"\n"
     ]
    },
    {
     "name": "stderr",
     "output_type": "stream",
     "text": [
      "Average Metric: 748 / 98  (763.3): 100%|██████████| 98/98 [00:31<00:00,  3.11it/s]\n"
     ]
    },
    {
     "name": "stdout",
     "output_type": "stream",
     "text": [
      "Searching quran for \"من يجب عليه أداء الحج؟\"\n",
      "Searching quran for \"أين الكعبة؟\"\n",
      "Searching quran for \"هل يسمح الإسلام بجرائم الشرف؟\"\n",
      "Searching quran for \"هل يقدم القرآن توجيهات حول كيفية التعامل مع الصدمة والألم؟\"\n",
      "Searching quran for \"هل يصوم المسلمون خارج رمضان؟\"\n",
      "Searching quran for \"ما معنى حلال؟\"\n",
      "Searching quran for \"ما هي الفتوى؟\"\n",
      "Searching quran for \"هل الردة يعاقب عليها بالإعدام في الإسلام؟\"\n"
     ]
    },
    {
     "name": "stderr",
     "output_type": "stream",
     "text": [
      "  0%|          | 0/98 [00:00<?, ?it/s]"
     ]
    },
    {
     "name": "stdout",
     "output_type": "stream",
     "text": [
      "Searching hadith for \"هل توجد أحاديث تتعلق بجرائم الشرف؟\"\n",
      "Searching hadith for \"أين الكعبة؟\"\n",
      "Searching hadith for \"من يجب عليه أداء الحج؟\"\n",
      "Searching hadith for \"ما معنى حلال؟\"\n",
      "Searching hadith for \"ما هي الفتوى؟\"\n",
      "Searching hadith for \"هل يصوم المسلمون خارج رمضان؟\"\n",
      "Searching hadith for \"هل تقدم السنة النبوية توجيهات حول كيفية التعامل مع الصدمة والألم؟\"\n",
      "Searching hadith for \"هل يعاقب المرتد بالإعدام في الإسلام؟\"\n",
      "Searching al-mawsuah for \"ما هو حكم الفقه الإسلامي في جرائم الشرف؟\"\n",
      "Searching al-mawsuah for \"من يجب عليه أداء الحج؟\"\n",
      "Searching al-mawsuah for \"ما معنى حلال؟\"\n",
      "Searching al-mawsuah for \"هل يصوم المسلمون خارج رمضان؟\"\n",
      "Searching al-mawsuah for \"أين الكعبة؟\"\n",
      "Searching al-mawsuah for \"ما هي الفتوى؟\"\n",
      "Searching al-mawsuah for \"كيفية التعامل مع الصدمة والألم في الفقه الإسلامي\"\n",
      "Searching al-mawsuah for \"حكم الردة في الفقه الإسلامي\"\n"
     ]
    },
    {
     "name": "stderr",
     "output_type": "stream",
     "text": [
      "Average Metric: 54 / 7  (771.4):   6%|▌         | 6/98 [00:02<01:01,  1.49it/s]"
     ]
    },
    {
     "name": "stdout",
     "output_type": "stream",
     "text": [
      "Searching quran for \"ما هو رمضان؟\"\n",
      "Searching quran for \"هل الإسلام يشجع على العنف؟\"\n",
      "Searching quran for \"هل يسمح الإسلام بالحرب الوقائية؟\"\n",
      "Searching quran for \"كيف يصف القرآن السعادة؟ كيف يمكن تحقيقها في الإسلام؟\"\n",
      "Searching quran for \"أهمية ليلة القدر\"\n",
      "Searching quran for \"هل يوفر الإسلام إرشادات حول كيفية التعامل مع الأمراض النفسية؟\"\n",
      "Searching quran for \"ما هو رمضان؟\"\n"
     ]
    },
    {
     "name": "stderr",
     "output_type": "stream",
     "text": [
      "Average Metric: 64 / 8  (800.0):   8%|▊         | 8/98 [00:02<00:18,  4.93it/s]"
     ]
    },
    {
     "name": "stdout",
     "output_type": "stream",
     "text": [
      "Searching quran for \"لماذا يصلي المسلمون يوميا؟\"\n",
      "Searching hadith for \"ما هو رمضان؟\"\n",
      "Searching hadith for \"هل الإسلام يشجع على العنف؟\"\n",
      "Searching hadith for \"فضل ليلة القدر\"\n",
      "Searching hadith for \"هل هناك أحاديث تتحدث عن كيفية التعامل مع الأمراض النفسية؟\"\n",
      "Searching hadith for \"ما هو رمضان؟\"\n",
      "Searching hadith for \"كيف يصف الحديث السعادة؟ كيف يمكن تحقيقها في الإسلام؟\"\n",
      "Searching hadith for \"هل يسمح الإسلام بالحرب الوقائية؟\"\n",
      "Searching hadith for \"لماذا يصلي المسلمون يوميا؟\"\n",
      "Searching al-mawsuah for \"ما هو رمضان؟\"\n",
      "Searching al-mawsuah for \"هل الإسلام يشجع على العنف؟\"\n",
      "Searching al-mawsuah for \"أهمية ليلة القدر في الفقه الإسلامي\"\n",
      "Searching al-mawsuah for \"إرشادات الفقه الإسلامي حول التعامل مع الأمراض النفسية\"\n",
      "Searching al-mawsuah for \"ما هو رمضان؟\"\n",
      "Searching al-mawsuah for \"السعادة في الفقه الإسلامي وكيفية تحقيقها\"\n",
      "Searching al-mawsuah for \"هل يسمح الإسلام بالحرب الوقائية؟\"\n",
      "Searching al-mawsuah for \"لماذا يصلي المسلمون يوميا؟\"\n"
     ]
    },
    {
     "name": "stderr",
     "output_type": "stream",
     "text": [
      "Average Metric: 86 / 12  (716.7):  11%|█         | 11/98 [00:04<00:34,  2.52it/s]"
     ]
    },
    {
     "name": "stdout",
     "output_type": "stream",
     "text": [
      "Searching quran for \"كيف تصوم رمضان؟\"\n",
      "Searching quran for \"كيف نعلم أن القرآن وحي إلهي؟\"\n",
      "Searching quran for \"من يجب عليه الصيام في رمضان؟\"\n",
      "Searching quran for \"هل التجديف يعاقب عليه بالإعدام؟\"\n"
     ]
    },
    {
     "name": "stderr",
     "output_type": "stream",
     "text": [
      "Average Metric: 114 / 16  (712.5):  16%|█▋        | 16/98 [00:05<00:17,  4.68it/s]"
     ]
    },
    {
     "name": "stdout",
     "output_type": "stream",
     "text": [
      "Searching quran for \"ما هو الغرض من الصيام في رمضان؟\"\n",
      "Searching quran for \"ماذا يقدم الإسلام للناس؟\"\n",
      "Searching quran for \"مدة الصيام في رمضان\"\n",
      "Searching quran for \"كيف يُساء تفسير الجهاد كإرهاب؟\"\n",
      "Searching hadith for \"كيف تصوم رمضان؟\"\n",
      "Searching hadith for \"كيف نعلم أن القرآن وحي إلهي؟\"\n",
      "Searching hadith for \"من يجب عليه الصيام في رمضان؟\"\n",
      "Searching hadith for \"هل التجديف يعاقب عليه بالإعدام؟\"\n",
      "Searching hadith for \"ماذا يقدم الإسلام للناس؟\"\n",
      "Searching hadith for \"ما هو الغرض من الصيام في رمضان؟\"\n",
      "Searching hadith for \"مدة الصيام في رمضان\"\n",
      "Searching hadith for \"كيف يُساء تفسير الجهاد كإرهاب؟\"\n",
      "Searching al-mawsuah for \"كيف تصوم رمضان؟\"\n",
      "Searching al-mawsuah for \"كيف نعلم أن القرآن وحي إلهي؟\"\n",
      "Searching al-mawsuah for \"من يجب عليه الصيام في رمضان؟\"\n",
      "Searching al-mawsuah for \"هل التجديف يعاقب عليه بالإعدام؟\"\n",
      "Searching al-mawsuah for \"ما هو الغرض من الصيام في رمضان؟\"Searching al-mawsuah for \"مدة الصيام في رمضان\"\n",
      "\n",
      "Searching al-mawsuah for \"كيف يُساء تفسير الجهاد كإرهاب؟\"\n",
      "Searching al-mawsuah for \"ماذا يقدم الإسلام للناس؟\"\n"
     ]
    },
    {
     "name": "stderr",
     "output_type": "stream",
     "text": [
      "Average Metric: 140 / 19  (736.8):  18%|█▊        | 18/98 [00:07<00:33,  2.38it/s]"
     ]
    },
    {
     "name": "stdout",
     "output_type": "stream",
     "text": [
      "Searching quran for \"كيف يُساء تفسير الجهاد كإرهاب؟\"\n",
      "Searching quran for \"أركان الإسلام الخمسة\"\n",
      "Searching quran for \"كيف يعامل الإسلام الأقليات الدينية؟\"\n"
     ]
    },
    {
     "name": "stderr",
     "output_type": "stream",
     "text": [
      "Average Metric: 172 / 23  (747.8):  22%|██▏       | 22/98 [00:07<00:19,  3.93it/s]"
     ]
    },
    {
     "name": "stdout",
     "output_type": "stream",
     "text": [
      "Searching quran for \"ليلة القدر\"\n",
      "Searching quran for \"من هو الله\"\n",
      "Searching quran for \"هل يؤمن المسلمون بالروح القدس؟\"\n",
      "Searching quran for \"هل يؤمن المسلمون بالجنة والنار؟\"\n"
     ]
    },
    {
     "name": "stderr",
     "output_type": "stream",
     "text": [
      "Average Metric: 182 / 24  (758.3):  24%|██▍       | 24/98 [00:07<00:15,  4.79it/s]"
     ]
    },
    {
     "name": "stdout",
     "output_type": "stream",
     "text": [
      "Searching quran for \"ما معنى الجهاد؟\"\n",
      "Searching hadith for \"كيف يُساء تفسير الجهاد كإرهاب؟\"\n",
      "Searching hadith for \"أركان الإسلام الخمسة\"\n",
      "Searching hadith for \"معاملة الإسلام للأقليات الدينية\"\n",
      "Searching hadith for \"ما هي ليلة القدر\"\n",
      "Searching hadith for \"هل ذكر الروح القدس في الأحاديث؟\"\n",
      "Searching hadith for \"من هو الله\"\n",
      "Searching hadith for \"هل ذكر النبي الجنة والنار؟\"\n",
      "Searching hadith for \"ما معنى الجهاد؟\"\n",
      "Searching al-mawsuah for \"كيف يُساء تفسير الجهاد كإرهاب؟\"\n",
      "Searching al-mawsuah for \"أركان الإسلام الخمسة\"\n",
      "Searching al-mawsuah for \"معاملة الأقليات الدينية في الفقه الإسلامي\"\n",
      "Searching al-mawsuah for \"ليلة القدر في الفقه الإسلامي\"\n",
      "Searching al-mawsuah for \"الإيمان بالروح القدس في الفقه الإسلامي\"\n",
      "Searching al-mawsuah for \"الإيمان بالجنة والنار في الفقه الإسلامي\"\n",
      "Searching al-mawsuah for \"من هو الله\"\n",
      "Searching al-mawsuah for \"ما معنى الجهاد؟\"\n"
     ]
    },
    {
     "name": "stderr",
     "output_type": "stream",
     "text": [
      "Average Metric: 198 / 26  (761.5):  27%|██▋       | 26/98 [00:09<00:30,  2.37it/s]"
     ]
    },
    {
     "name": "stdout",
     "output_type": "stream",
     "text": [
      "Searching quran for \"أين يحدث الحج؟\"\n",
      "Searching quran for \"أحكام الحرب في الإسلام\"\n"
     ]
    },
    {
     "name": "stderr",
     "output_type": "stream",
     "text": [
      "Average Metric: 216 / 28  (771.4):  28%|██▊       | 27/98 [00:09<00:26,  2.69it/s]"
     ]
    },
    {
     "name": "stdout",
     "output_type": "stream",
     "text": [
      "Searching quran for \"متى ليلة القدر؟\"\n",
      "Searching quran for \"كم مرة يصلي المسلمون خلال رمضان؟\"\n"
     ]
    },
    {
     "name": "stderr",
     "output_type": "stream",
     "text": [
      "Average Metric: 250 / 32  (781.2):  32%|███▏      | 31/98 [00:09<00:20,  3.25it/s]"
     ]
    },
    {
     "name": "stdout",
     "output_type": "stream",
     "text": [
      "Searching quran for \"لماذا الكعبة مهمة؟\"\n",
      "Searching quran for \"لماذا يجب على المسلمين الصيام لمدة شهر كامل؟\"\n",
      "Searching quran for \"كيف يمكن فهم والتعامل مع الحزن والأسى في الإسلام؟\"\n",
      "Searching quran for \"كيف يمكن للمرء أن يطهر قلبه وروحه؟\"\n",
      "Searching hadith for \"أين يحدث الحج؟\"\n",
      "Searching hadith for \"أحاديث عن أحكام الحرب في الإسلام\"\n",
      "Searching hadith for \"متى ليلة القدر؟\"\n",
      "Searching hadith for \"كم مرة يصلي المسلمون خلال رمضان؟\"\n",
      "Searching hadith for \"لماذا الكعبة مهمة؟\"\n",
      "Searching hadith for \"لماذا يجب على المسلمين الصيام لمدة شهر كامل؟\"\n",
      "Searching hadith for \"كيف يمكن للمرء أن يطهر قلبه وروحه؟\"\n",
      "Searching hadith for \"كيف يمكن فهم والتعامل مع الحزن والأسى في الإسلام؟\"\n",
      "Searching al-mawsuah for \"أين يحدث الحج؟\"\n",
      "Searching al-mawsuah for \"متى ليلة القدر؟\"\n",
      "Searching al-mawsuah for \"أحكام الحرب في الفقه الإسلامي\"\n",
      "Searching al-mawsuah for \"كم مرة يصلي المسلمون خلال رمضان؟\"\n",
      "Searching al-mawsuah for \"كيف يمكن للمرء أن يطهر قلبه وروحه؟\"\n",
      "Searching al-mawsuah for \"لماذا يجب على المسلمين الصيام لمدة شهر كامل؟\"\n",
      "Searching al-mawsuah for \"كيف يمكن فهم والتعامل مع الحزن والأسى في الإسلام؟\"\n",
      "Searching al-mawsuah for \"أهمية الكعبة في الفقه الإسلامي\"\n"
     ]
    },
    {
     "name": "stderr",
     "output_type": "stream",
     "text": [
      "Average Metric: 270 / 34  (794.1):  35%|███▍      | 34/98 [00:11<00:21,  2.91it/s]"
     ]
    },
    {
     "name": "stdout",
     "output_type": "stream",
     "text": [
      "Searching quran for \"ما هي الكعبة؟\"\n",
      "Searching quran for \"من هو النبي محمد؟\"\n"
     ]
    },
    {
     "name": "stderr",
     "output_type": "stream",
     "text": [
      "Average Metric: 286 / 36  (794.4):  36%|███▌      | 35/98 [00:12<00:19,  3.23it/s]"
     ]
    },
    {
     "name": "stdout",
     "output_type": "stream",
     "text": [
      "Searching quran for \"ما هي التزكية؟\"\n",
      "Searching quran for \"أحكام الحرب في الإسلام\"\n"
     ]
    },
    {
     "name": "stderr",
     "output_type": "stream",
     "text": [
      "Average Metric: 320 / 40  (800.0):  41%|████      | 40/98 [00:12<00:09,  5.90it/s]"
     ]
    },
    {
     "name": "stdout",
     "output_type": "stream",
     "text": [
      "Searching quran for \"ما الذي يعلمه الإسلام عن إدارة القلق والاكتئاب والشك الذاتي؟\"\n",
      "Searching quran for \"أين تؤدى العمرة؟\"\n",
      "Searching quran for \"كيف يفهم الإسلام الروح\"\n",
      "Searching quran for \"كيف تكون الروحانية الإسلامية فريدة؟\"\n",
      "Searching hadith for \"ما هي الكعبة؟\"\n",
      "Searching hadith for \"من هو النبي محمد؟\"\n",
      "Searching hadith for \"ما هي التزكية؟\"\n",
      "Searching hadith for \"أحاديث عن أحكام الحرب في الإسلام\"\n",
      "Searching hadith for \"ما الذي يعلمه الإسلام عن إدارة القلق والاكتئاب والشك الذاتي؟\"\n",
      "Searching hadith for \"كيف تكون الروحانية الإسلامية فريدة؟\"\n",
      "Searching hadith for \"فهم الروح في الإسلام\"\n",
      "Searching hadith for \"أين تؤدى العمرة؟\"\n",
      "Searching al-mawsuah for \"ما هي الكعبة؟\"\n",
      "Searching al-mawsuah for \"ما هي التزكية؟\"\n",
      "Searching al-mawsuah for \"من هو النبي محمد؟\"\n",
      "Searching al-mawsuah for \"أحكام الحرب في الفقه الإسلامي\"\n",
      "Searching al-mawsuah for \"ما الذي يعلمه الإسلام عن إدارة القلق والاكتئاب والشك الذاتي؟\"\n"
     ]
    },
    {
     "name": "stderr",
     "output_type": "stream",
     "text": [
      "Average Metric: 326 / 41  (795.1):  41%|████      | 40/98 [00:14<00:09,  5.90it/s]"
     ]
    },
    {
     "name": "stdout",
     "output_type": "stream",
     "text": [
      "Searching al-mawsuah for \"كيف تكون الروحانية الإسلامية فريدة؟\"\n",
      "Searching al-mawsuah for \"الروح في الفقه الإسلامي\"\n",
      "Searching quran for \"من هو عيسى في الإسلام؟\"\n"
     ]
    },
    {
     "name": "stderr",
     "output_type": "stream",
     "text": [
      "Average Metric: 342 / 43  (795.3):  44%|████▍     | 43/98 [00:14<00:19,  2.86it/s]"
     ]
    },
    {
     "name": "stdout",
     "output_type": "stream",
     "text": [
      "Searching quran for \"ما هو الإسلام؟\"\n",
      "Searching quran for \"متى رمضان؟\"\n"
     ]
    },
    {
     "name": "stderr",
     "output_type": "stream",
     "text": [
      "Average Metric: 364 / 46  (791.3):  46%|████▌     | 45/98 [00:14<00:14,  3.59it/s]"
     ]
    },
    {
     "name": "stdout",
     "output_type": "stream",
     "text": [
      "Searching quran for \"كيف يعامل الإسلام الأقليات الدينية؟\"\n",
      "Searching al-mawsuah for \"أين تؤدى العمرة؟\"\n",
      "Searching quran for \"كيف تتعلق الشريعة بطقوس العبادة؟\"\n",
      "Searching quran for \"هل انتشر الإسلام بالعنف والإكراه؟\"\n"
     ]
    },
    {
     "name": "stderr",
     "output_type": "stream",
     "text": [
      "Average Metric: 374 / 47  (795.7):  48%|████▊     | 47/98 [00:15<00:11,  4.57it/s]"
     ]
    },
    {
     "name": "stdout",
     "output_type": "stream",
     "text": [
      "Searching quran for \"لماذا يتم الاحتفال بشهر رمضان؟\"\n",
      "Searching hadith for \"من هو عيسى في الأحاديث؟\"\n",
      "Searching hadith for \"ما هو الإسلام؟\"\n",
      "Searching hadith for \"متى رمضان؟\"\n"
     ]
    },
    {
     "name": "stderr",
     "output_type": "stream",
     "text": [
      "Average Metric: 382 / 48  (795.8):  49%|████▉     | 48/98 [00:15<00:14,  3.34it/s]"
     ]
    },
    {
     "name": "stdout",
     "output_type": "stream",
     "text": [
      "Searching hadith for \"معاملة الإسلام للأقليات الدينية\"\n",
      "Searching hadith for \"كيف تتعلق الشريعة بطقوس العبادة؟\"\n",
      "Searching hadith for \"هل انتشر الإسلام بالعنف والإكراه؟\"\n",
      "Searching quran for \"من هو النبي إبراهيم؟\"\n",
      "Searching hadith for \"لماذا يتم الاحتفال بشهر رمضان؟\"\n",
      "Searching al-mawsuah for \"ما هو الإسلام؟\"\n",
      "Searching al-mawsuah for \"من هو عيسى في الفقه الإسلامي؟\"\n",
      "Searching al-mawsuah for \"متى رمضان؟\"\n",
      "Searching al-mawsuah for \"معاملة الأقليات الدينية في الفقه الإسلامي\"\n",
      "Searching al-mawsuah for \"كيف تتعلق الشريعة بطقوس العبادة؟\"\n",
      "Searching al-mawsuah for \"هل انتشر الإسلام بالعنف والإكراه؟\"\n",
      "Searching hadith for \"من هو النبي إبراهيم؟\"\n",
      "Searching al-mawsuah for \"لماذا يتم الاحتفال بشهر رمضان؟\"\n"
     ]
    },
    {
     "name": "stderr",
     "output_type": "stream",
     "text": [
      "Average Metric: 392 / 50  (784.0):  50%|█████     | 49/98 [00:16<00:24,  2.00it/s]"
     ]
    },
    {
     "name": "stdout",
     "output_type": "stream",
     "text": [
      "Searching quran for \"ما هو زكاة الفطر؟\"\n",
      "Searching quran for \"هل يسمح الإسلام بقتل المدنيين؟\"\n"
     ]
    },
    {
     "name": "stderr",
     "output_type": "stream",
     "text": [
      "Average Metric: 428 / 54  (792.6):  54%|█████▍    | 53/98 [00:17<00:16,  2.73it/s]"
     ]
    },
    {
     "name": "stdout",
     "output_type": "stream",
     "text": [
      "Searching quran for \"ما هو الفقه؟\"\n",
      "Searching quran for \"كيف تتعلق الشريعة بالمجتمع؟\"\n",
      "Searching quran for \"القيود الغذائية في الإسلام\"\n",
      "Searching quran for \"أهمية الصدقة في رمضان\"\n"
     ]
    },
    {
     "name": "stderr",
     "output_type": "stream",
     "text": [
      "Average Metric: 436 / 55  (792.7):  56%|█████▌    | 55/98 [00:17<00:08,  5.07it/s]"
     ]
    },
    {
     "name": "stdout",
     "output_type": "stream",
     "text": [
      "Searching quran for \"ما هو القرآن؟\"\n",
      "Searching al-mawsuah for \"من هو النبي إبراهيم؟\"\n",
      "Searching hadith for \"ما هو زكاة الفطر؟\"\n",
      "Searching hadith for \"هل يسمح الإسلام بقتل المدنيين؟\"\n",
      "Searching hadith for \"كيف تتعلق الشريعة بالمجتمع؟\"\n",
      "Searching hadith for \"ما هو الفقه؟\"\n",
      "Searching hadith for \"القيود الغذائية في الإسلام\"\n",
      "Searching hadith for \"فضل الصدقة في رمضان\"\n"
     ]
    },
    {
     "name": "stderr",
     "output_type": "stream",
     "text": [
      "Average Metric: 442 / 56  (789.3):  57%|█████▋    | 56/98 [00:18<00:13,  3.09it/s]"
     ]
    },
    {
     "name": "stdout",
     "output_type": "stream",
     "text": [
      "Searching hadith for \"ما هو القرآن؟\"\n",
      "Searching quran for \"من بنى الكعبة؟\"\n",
      "Searching al-mawsuah for \"ما هو زكاة الفطر؟\"\n",
      "Searching al-mawsuah for \"هل يسمح الإسلام بقتل المدنيين؟\"\n",
      "Searching al-mawsuah for \"كيف تتعلق الشريعة بالمجتمع؟\"\n",
      "Searching al-mawsuah for \"الصدقة في رمضان\"\n",
      "Searching al-mawsuah for \"ما هو الفقه؟\"\n",
      "Searching al-mawsuah for \"القيود الغذائية في الإسلام\"\n",
      "Searching al-mawsuah for \"ما هو القرآن؟\"\n"
     ]
    },
    {
     "name": "stderr",
     "output_type": "stream",
     "text": [
      "Average Metric: 452 / 58  (779.3):  58%|█████▊    | 57/98 [00:19<00:17,  2.38it/s]"
     ]
    },
    {
     "name": "stdout",
     "output_type": "stream",
     "text": [
      "Searching quran for \"من أين تأتي الشريعة؟\"\n",
      "Searching hadith for \"من بنى الكعبة؟\"\n",
      "Searching quran for \"كيف يغذي الإسلام رفاهنا العاطفي؟\"\n"
     ]
    },
    {
     "name": "stderr",
     "output_type": "stream",
     "text": [
      "Average Metric: 486 / 62  (783.9):  62%|██████▏   | 61/98 [00:19<00:09,  3.96it/s]"
     ]
    },
    {
     "name": "stdout",
     "output_type": "stream",
     "text": [
      "Searching quran for \"كيفية أداء العمرة\"\n",
      "Searching quran for \"آيات القرآن للتعامل مع الضيق والشدائد\"\n",
      "Searching quran for \"هل يقول القرآن بقتل غير المؤمنين؟\"\n",
      "Searching quran for \"هل التجديف يعاقب عليه بالإعدام؟\"\n"
     ]
    },
    {
     "name": "stderr",
     "output_type": "stream",
     "text": [
      "Average Metric: 496 / 63  (787.3):  63%|██████▎   | 62/98 [00:19<00:09,  3.96it/s]"
     ]
    },
    {
     "name": "stdout",
     "output_type": "stream",
     "text": [
      "Searching quran for \"هل يسمح الإسلام بقتل المدنيين؟\"\n",
      "Searching hadith for \"كيف يغذي الإسلام رفاهنا العاطفي؟\"\n",
      "Searching hadith for \"من أين تأتي الشريعة؟\"\n",
      "Searching al-mawsuah for \"من بنى الكعبة؟\"\n",
      "Searching hadith for \"كيفية أداء العمرة\"\n",
      "Searching hadith for \"أحاديث عن التعامل مع الضيق والشدائد\"\n",
      "Searching hadith for \"هل التجديف يعاقب عليه بالإعدام؟\"Searching hadith for \"هل يوجد حديث يأمر بقتل غير المؤمنين؟\"\n",
      "\n",
      "Searching hadith for \"هل يسمح الإسلام بقتل المدنيين؟\"\n"
     ]
    },
    {
     "name": "stderr",
     "output_type": "stream",
     "text": [
      "Average Metric: 504 / 64  (787.5):  65%|██████▌   | 64/98 [00:20<00:10,  3.16it/s]"
     ]
    },
    {
     "name": "stdout",
     "output_type": "stream",
     "text": [
      "Searching al-mawsuah for \"كيف يغذي الإسلام رفاهنا العاطفي؟\"\n",
      "Searching al-mawsuah for \"مصادر الشريعة الإسلامية\"\n",
      "Searching quran for \"ما معنى الإسلام؟\"\n",
      "Searching al-mawsuah for \"كيفية أداء العمرة\"\n",
      "Searching al-mawsuah for \"أحكام الفقه الإسلامي حول التعامل مع الضيق والشدائد\"\n",
      "Searching al-mawsuah for \"ما هو حكم قتل غير المؤمنين في الفقه الإسلامي؟\"\n",
      "Searching al-mawsuah for \"هل يسمح الإسلام بقتل المدنيين؟\"\n",
      "Searching al-mawsuah for \"هل التجديف يعاقب عليه بالإعدام؟\"\n"
     ]
    },
    {
     "name": "stderr",
     "output_type": "stream",
     "text": [
      "Average Metric: 522 / 67  (779.1):  68%|██████▊   | 67/98 [00:21<00:08,  3.47it/s]"
     ]
    },
    {
     "name": "stdout",
     "output_type": "stream",
     "text": [
      "Searching quran for \"ما هو عيد الفطر؟\"\n",
      "Searching quran for \"لماذا الحج مهم؟\"\n",
      "Searching hadith for \"ما معنى الإسلام في الحديث؟\"\n",
      "Searching quran for \"كيفية أداء الحج\"\n"
     ]
    },
    {
     "name": "stderr",
     "output_type": "stream",
     "text": [
      "Average Metric: 538 / 69  (779.7):  70%|███████   | 69/98 [00:22<00:06,  4.32it/s]"
     ]
    },
    {
     "name": "stdout",
     "output_type": "stream",
     "text": [
      "Searching quran for \"هل يقول القرآن بقتل غير المؤمنين؟\"\n",
      "Searching quran for \"هل هناك استثناءات أو إعفاءات من الصيام؟\"\n"
     ]
    },
    {
     "name": "stderr",
     "output_type": "stream",
     "text": [
      "Average Metric: 552 / 71  (777.5):  71%|███████▏  | 70/98 [00:22<00:06,  4.47it/s]"
     ]
    },
    {
     "name": "stdout",
     "output_type": "stream",
     "text": [
      "Searching quran for \"ما هي العمرة؟\"\n",
      "Searching quran for \"هل انتشر الإسلام بالعنف والإكراه؟\"\n",
      "Searching hadith for \"أهمية الحج في الأحاديث\"\n",
      "Searching hadith for \"ما هو عيد الفطر؟\"\n",
      "Searching al-mawsuah for \"ما هو تعريف الإسلام في الفقه الإسلامي؟\"\n",
      "Searching hadith for \"كيفية أداء الحج\"\n",
      "Searching hadith for \"هل يوجد حديث يأمر بقتل غير المؤمنين؟\"\n",
      "Searching hadith for \"هل هناك استثناءات أو إعفاءات من الصيام؟\"\n",
      "Searching hadith for \"هل انتشر الإسلام بالعنف والإكراه؟\"\n",
      "Searching hadith for \"ما هي العمرة؟\"\n",
      "Searching al-mawsuah for \"ما هو عيد الفطر؟\"Searching al-mawsuah for \"أهمية الحج في الفقه الإسلامي\"\n",
      "\n",
      "Searching al-mawsuah for \"كيفية أداء الحج\"\n",
      "Searching al-mawsuah for \"ما هو حكم قتل غير المؤمنين في الفقه الإسلامي؟\"\n"
     ]
    },
    {
     "name": "stderr",
     "output_type": "stream",
     "text": [
      "Average Metric: 560 / 72  (777.8):  73%|███████▎  | 72/98 [00:23<00:09,  2.67it/s]"
     ]
    },
    {
     "name": "stdout",
     "output_type": "stream",
     "text": [
      "Searching quran for \"هل العمرة والحج نفس الشيء؟\"\n",
      "Searching al-mawsuah for \"هل هناك استثناءات أو إعفاءات من الصيام؟\"\n",
      "Searching al-mawsuah for \"هل انتشر الإسلام بالعنف والإكراه؟\"\n",
      "Searching al-mawsuah for \"ما هي العمرة؟\"\n"
     ]
    },
    {
     "name": "stderr",
     "output_type": "stream",
     "text": [
      "Average Metric: 576 / 75  (768.0):  77%|███████▋  | 75/98 [00:24<00:06,  3.52it/s]"
     ]
    },
    {
     "name": "stdout",
     "output_type": "stream",
     "text": [
      "Searching quran for \"ماذا يؤمن المسلمون؟\"\n",
      "Searching quran for \"هل الشريعة موحدة وغير متغيرة؟\"\n",
      "Searching quran for \"ما هي الصدقة؟\"\n"
     ]
    },
    {
     "name": "stderr",
     "output_type": "stream",
     "text": [
      "Average Metric: 592 / 77  (768.8):  79%|███████▊  | 77/98 [00:24<00:04,  4.25it/s]"
     ]
    },
    {
     "name": "stdout",
     "output_type": "stream",
     "text": [
      "Searching quran for \"صلاة التراويح\"Searching hadith for \"هل العمرة والحج نفس الشيء؟\"\n",
      "\n",
      "Searching quran for \"ما هو التوحيد؟\"\n"
     ]
    },
    {
     "name": "stderr",
     "output_type": "stream",
     "text": [
      "Average Metric: 612 / 79  (774.7):  80%|███████▉  | 78/98 [00:24<00:04,  4.85it/s]"
     ]
    },
    {
     "name": "stdout",
     "output_type": "stream",
     "text": [
      "Searching quran for \"ما معنى الجهاد؟\"\n",
      "Searching quran for \"كيف يتناول الإسلام القدر والإرادة الحرة؟\"\n",
      "Searching hadith for \"ماذا يؤمن المسلمون؟\"\n",
      "Searching hadith for \"هل الشريعة موحدة وغير متغيرة؟\"\n",
      "Searching hadith for \"ما هي الصدقة؟\"\n",
      "Searching al-mawsuah for \"هل العمرة والحج نفس الشيء؟\"\n",
      "Searching hadith for \"صلاة التراويح\"\n",
      "Searching hadith for \"ما هو التوحيد؟\"\n",
      "Searching hadith for \"ما معنى الجهاد؟\"\n",
      "Searching hadith for \"كيف يتناول الإسلام القدر والإرادة الحرة؟\"\n"
     ]
    },
    {
     "name": "stderr",
     "output_type": "stream",
     "text": [
      "Average Metric: 620 / 80  (775.0):  82%|████████▏ | 80/98 [00:25<00:06,  2.70it/s]"
     ]
    },
    {
     "name": "stdout",
     "output_type": "stream",
     "text": [
      "Searching al-mawsuah for \"ماذا يؤمن المسلمون؟\"\n",
      "Searching al-mawsuah for \"ما هي الصدقة؟\"\n",
      "Searching quran for \"الطلاق في الإسلام\"\n",
      "Searching al-mawsuah for \"هل الشريعة موحدة وغير متغيرة؟\"\n",
      "Searching al-mawsuah for \"صلاة التراويح\"\n",
      "Searching al-mawsuah for \"ما معنى الجهاد؟\"\n",
      "Searching al-mawsuah for \"ما هو التوحيد؟\"\n",
      "Searching al-mawsuah for \"كيف يتناول الإسلام القدر والإرادة الحرة؟\"\n"
     ]
    },
    {
     "name": "stderr",
     "output_type": "stream",
     "text": [
      "Average Metric: 638 / 83  (768.7):  84%|████████▎ | 82/98 [00:26<00:05,  2.79it/s]"
     ]
    },
    {
     "name": "stdout",
     "output_type": "stream",
     "text": [
      "Searching quran for \"ما هي الأعياد التي يحتفل بها المسلمون؟\"\n",
      "Searching quran for \"هل الوسواس القهري نتيجة وساوس الشيطان؟\"\n",
      "Searching quran for \"كيف نعرف أن الله موجود؟\"\n",
      "Searching hadith for \"حديث عن الطلاق\"\n"
     ]
    },
    {
     "name": "stderr",
     "output_type": "stream",
     "text": [
      "Average Metric: 644 / 84  (766.7):  86%|████████▌ | 84/98 [00:26<00:03,  4.30it/s]"
     ]
    },
    {
     "name": "stdout",
     "output_type": "stream",
     "text": [
      "Searching quran for \"تاريخ الشريعة\"\n"
     ]
    },
    {
     "name": "stderr",
     "output_type": "stream",
     "text": [
      "Average Metric: 662 / 87  (760.9):  89%|████████▉ | 87/98 [00:27<00:01,  5.75it/s]"
     ]
    },
    {
     "name": "stdout",
     "output_type": "stream",
     "text": [
      "Searching quran for \"هل يسمح الإسلام بالحرب الوقائية؟\"\n",
      "Searching quran for \"الوحي في الإسلام\"\n",
      "Searching quran for \"هل الإسلام يشجع على العنف؟\"\n",
      "Searching hadith for \"ما هي الأعياد التي يحتفل بها المسلمون؟\"\n",
      "Searching al-mawsuah for \"الطلاق في الفقه الإسلامي\"\n",
      "Searching hadith for \"هل الوسواس القهري نتيجة وساوس الشيطان؟\"\n",
      "Searching hadith for \"كيف نعرف أن الله موجود؟\"\n",
      "Searching hadith for \"تاريخ الشريعة\"\n",
      "Searching hadith for \"هل يسمح الإسلام بالحرب الوقائية؟\"\n",
      "Searching hadith for \"الوحي في الإسلام\"\n",
      "Searching hadith for \"هل الإسلام يشجع على العنف؟\"\n",
      "Searching al-mawsuah for \"ما هي الأعياد التي يحتفل بها المسلمون؟\"\n"
     ]
    },
    {
     "name": "stderr",
     "output_type": "stream",
     "text": [
      "Average Metric: 670 / 88  (761.4):  90%|████████▉ | 88/98 [00:28<00:03,  2.55it/s]"
     ]
    },
    {
     "name": "stdout",
     "output_type": "stream",
     "text": [
      "Searching al-mawsuah for \"تاريخ الشريعة\"\n",
      "Searching al-mawsuah for \"هل الوسواس القهري نتيجة وساوس الشيطان؟\"\n",
      "Searching quran for \"ما هي أهمية الحج؟\"\n",
      "Searching al-mawsuah for \"كيف نعرف أن الله موجود؟\"\n",
      "Searching al-mawsuah for \"هل يسمح الإسلام بالحرب الوقائية؟\"\n",
      "Searching al-mawsuah for \"الوحي في الإسلام\"\n",
      "Searching al-mawsuah for \"هل الإسلام يشجع على العنف؟\"\n"
     ]
    },
    {
     "name": "stderr",
     "output_type": "stream",
     "text": [
      "Average Metric: 700 / 92  (760.9):  94%|█████████▍| 92/98 [00:29<00:01,  3.80it/s]"
     ]
    },
    {
     "name": "stdout",
     "output_type": "stream",
     "text": [
      "Searching quran for \"لماذا يطلب الله من الناس عبادته؟\"\n",
      "Searching quran for \"هل يؤمن المسلمون بصلب عيسى؟\"\n",
      "Searching hadith for \"ما هي أهمية الحج؟\"\n"
     ]
    },
    {
     "name": "stderr",
     "output_type": "stream",
     "text": [
      "Average Metric: 724 / 95  (762.1):  97%|█████████▋| 95/98 [00:29<00:00,  5.39it/s]"
     ]
    },
    {
     "name": "stdout",
     "output_type": "stream",
     "text": [
      "Searching hadith for \"هل ورد في الأحاديث أن المسلمين يؤمنون بصلب عيسى؟\"\n",
      "Searching hadith for \"لماذا يطلب الله من الناس عبادته؟\"\n",
      "Searching al-mawsuah for \"ما هي أهمية الحج؟\"\n"
     ]
    },
    {
     "name": "stderr",
     "output_type": "stream",
     "text": [
      "Average Metric: 734 / 96  (764.6):  98%|█████████▊| 96/98 [00:30<00:00,  2.25it/s]"
     ]
    },
    {
     "name": "stdout",
     "output_type": "stream",
     "text": [
      "Searching al-mawsuah for \"موقف الفقه الإسلامي من صلب عيسى\"\n",
      "Searching al-mawsuah for \"لماذا يطلب الله من الناس عبادته؟\"\n"
     ]
    },
    {
     "name": "stderr",
     "output_type": "stream",
     "text": [
      "Average Metric: 748 / 98  (763.3): 100%|██████████| 98/98 [00:31<00:00,  3.09it/s]\n"
     ]
    },
    {
     "name": "stdout",
     "output_type": "stream",
     "text": [
      "Searching quran for \"أين الكعبة؟\"\n",
      "Searching quran for \"من يجب عليه أداء الحج؟\"\n",
      "Searching quran for \"هل يسمح الإسلام بجرائم الشرف؟\"\n",
      "Searching quran for \"هل يصوم المسلمون خارج رمضان؟\"\n",
      "Searching quran for \"هل يقدم القرآن توجيهات حول كيفية التعامل مع الصدمة والألم؟\"\n",
      "Searching quran for \"ما هي الفتوى؟\"\n",
      "Searching quran for \"ما معنى حلال؟\"\n",
      "Searching quran for \"هل الردة يعاقب عليها بالإعدام في الإسلام؟\"\n"
     ]
    },
    {
     "name": "stderr",
     "output_type": "stream",
     "text": [
      "  0%|          | 0/98 [00:00<?, ?it/s]"
     ]
    },
    {
     "name": "stdout",
     "output_type": "stream",
     "text": [
      "Searching hadith for \"أين الكعبة؟\"\n",
      "Searching hadith for \"هل توجد أحاديث تتعلق بجرائم الشرف؟\"\n",
      "Searching hadith for \"من يجب عليه أداء الحج؟\"\n",
      "Searching hadith for \"هل تقدم السنة النبوية توجيهات حول كيفية التعامل مع الصدمة والألم؟\"\n",
      "Searching hadith for \"هل يصوم المسلمون خارج رمضان؟\"\n",
      "Searching hadith for \"ما معنى حلال؟\"\n",
      "Searching hadith for \"ما هي الفتوى؟\"\n",
      "Searching hadith for \"هل يعاقب المرتد بالإعدام في الإسلام؟\"\n",
      "Searching al-mawsuah for \"ما هو حكم الفقه الإسلامي في جرائم الشرف؟\"\n",
      "Searching al-mawsuah for \"من يجب عليه أداء الحج؟\"\n",
      "Searching al-mawsuah for \"أين الكعبة؟\"\n",
      "Searching al-mawsuah for \"كيفية التعامل مع الصدمة والألم في الفقه الإسلامي\"\n",
      "Searching al-mawsuah for \"هل يصوم المسلمون خارج رمضان؟\"\n",
      "Searching al-mawsuah for \"ما معنى حلال؟\"\n",
      "Searching al-mawsuah for \"ما هي الفتوى؟\"\n",
      "Searching al-mawsuah for \"حكم الردة في الفقه الإسلامي\"\n"
     ]
    },
    {
     "name": "stderr",
     "output_type": "stream",
     "text": [
      "Average Metric: 54 / 7  (771.4):   6%|▌         | 6/98 [00:02<01:37,  1.06s/it]"
     ]
    },
    {
     "name": "stdout",
     "output_type": "stream",
     "text": [
      "Searching quran for \"ما هو رمضان؟\"\n",
      "Searching quran for \"هل يسمح الإسلام بالحرب الوقائية؟\"\n",
      "Searching quran for \"هل الإسلام يشجع على العنف؟\"\n",
      "Searching quran for \"أهمية ليلة القدر\"\n",
      "Searching quran for \"كيف يصف القرآن السعادة؟ كيف يمكن تحقيقها في الإسلام؟\"\n",
      "Searching quran for \"هل يوفر الإسلام إرشادات حول كيفية التعامل مع الأمراض النفسية؟\"\n",
      "Searching quran for \"ما هو رمضان؟\"\n"
     ]
    },
    {
     "name": "stderr",
     "output_type": "stream",
     "text": [
      "Average Metric: 64 / 8  (800.0):   8%|▊         | 8/98 [00:03<00:25,  3.57it/s]"
     ]
    },
    {
     "name": "stdout",
     "output_type": "stream",
     "text": [
      "Searching quran for \"لماذا يصلي المسلمون يوميا؟\"\n",
      "Searching hadith for \"ما هو رمضان؟\"\n",
      "Searching hadith for \"هل يسمح الإسلام بالحرب الوقائية؟\"\n",
      "Searching hadith for \"فضل ليلة القدر\"\n",
      "Searching hadith for \"هل الإسلام يشجع على العنف؟\"\n",
      "Searching hadith for \"ما هو رمضان؟\"\n",
      "Searching hadith for \"هل هناك أحاديث تتحدث عن كيفية التعامل مع الأمراض النفسية؟\"\n",
      "Searching hadith for \"كيف يصف الحديث السعادة؟ كيف يمكن تحقيقها في الإسلام؟\"\n",
      "Searching hadith for \"لماذا يصلي المسلمون يوميا؟\"\n",
      "Searching al-mawsuah for \"ما هو رمضان؟\"\n",
      "Searching al-mawsuah for \"أهمية ليلة القدر في الفقه الإسلامي\"\n",
      "Searching al-mawsuah for \"هل الإسلام يشجع على العنف؟\"\n",
      "Searching al-mawsuah for \"إرشادات الفقه الإسلامي حول التعامل مع الأمراض النفسية\"\n",
      "Searching al-mawsuah for \"ما هو رمضان؟\"\n",
      "Searching al-mawsuah for \"السعادة في الفقه الإسلامي وكيفية تحقيقها\"\n",
      "Searching al-mawsuah for \"هل يسمح الإسلام بالحرب الوقائية؟\"\n"
     ]
    },
    {
     "name": "stderr",
     "output_type": "stream",
     "text": [
      "Average Metric: 66 / 9  (733.3):   9%|▉         | 9/98 [00:05<00:47,  1.87it/s]"
     ]
    },
    {
     "name": "stdout",
     "output_type": "stream",
     "text": [
      "Searching al-mawsuah for \"لماذا يصلي المسلمون يوميا؟\"\n",
      "Searching quran for \"كيف تصوم رمضان؟\"\n"
     ]
    },
    {
     "name": "stderr",
     "output_type": "stream",
     "text": [
      "Average Metric: 104 / 15  (693.3):  14%|█▍        | 14/98 [00:05<00:23,  3.53it/s]"
     ]
    },
    {
     "name": "stdout",
     "output_type": "stream",
     "text": [
      "Searching quran for \"كيف نعلم أن القرآن وحي إلهي؟\"\n",
      "Searching quran for \"من يجب عليه الصيام في رمضان؟\"\n",
      "Searching quran for \"هل التجديف يعاقب عليه بالإعدام؟\"\n",
      "Searching quran for \"ما هو الغرض من الصيام في رمضان؟\"\n",
      "Searching quran for \"ماذا يقدم الإسلام للناس؟\"\n",
      "Searching quran for \"مدة الصيام في رمضان\"\n"
     ]
    },
    {
     "name": "stderr",
     "output_type": "stream",
     "text": [
      "Average Metric: 114 / 16  (712.5):  16%|█▋        | 16/98 [00:05<00:16,  5.07it/s]"
     ]
    },
    {
     "name": "stdout",
     "output_type": "stream",
     "text": [
      "Searching quran for \"كيف يُساء تفسير الجهاد كإرهاب؟\"\n",
      "Searching hadith for \"كيف تصوم رمضان؟\"\n",
      "Searching hadith for \"كيف نعلم أن القرآن وحي إلهي؟\"\n",
      "Searching hadith for \"من يجب عليه الصيام في رمضان؟\"\n",
      "Searching hadith for \"هل التجديف يعاقب عليه بالإعدام؟\"\n",
      "Searching hadith for \"ماذا يقدم الإسلام للناس؟\"\n",
      "Searching hadith for \"ما هو الغرض من الصيام في رمضان؟\"\n",
      "Searching hadith for \"مدة الصيام في رمضان\"\n",
      "Searching hadith for \"كيف يُساء تفسير الجهاد كإرهاب؟\"\n",
      "Searching al-mawsuah for \"كيف تصوم رمضان؟\"\n",
      "Searching al-mawsuah for \"كيف نعلم أن القرآن وحي إلهي؟\"\n",
      "Searching al-mawsuah for \"من يجب عليه الصيام في رمضان؟\"\n",
      "Searching al-mawsuah for \"ما هو الغرض من الصيام في رمضان؟\"\n",
      "Searching al-mawsuah for \"هل التجديف يعاقب عليه بالإعدام؟\"\n",
      "Searching al-mawsuah for \"مدة الصيام في رمضان\"\n",
      "Searching al-mawsuah for \"ماذا يقدم الإسلام للناس؟\"\n",
      "Searching al-mawsuah for \"كيف يُساء تفسير الجهاد كإرهاب؟\"\n"
     ]
    },
    {
     "name": "stderr",
     "output_type": "stream",
     "text": [
      "Average Metric: 122 / 17  (717.6):  16%|█▋        | 16/98 [00:07<00:16,  5.07it/s]"
     ]
    },
    {
     "name": "stdout",
     "output_type": "stream",
     "text": [
      "Searching quran for \"كيف يُساء تفسير الجهاد كإرهاب؟\"\n"
     ]
    },
    {
     "name": "stderr",
     "output_type": "stream",
     "text": [
      "Average Metric: 132 / 18  (733.3):  18%|█▊        | 18/98 [00:07<00:33,  2.36it/s]"
     ]
    },
    {
     "name": "stdout",
     "output_type": "stream",
     "text": [
      "Searching quran for \"أركان الإسلام الخمسة\"\n"
     ]
    },
    {
     "name": "stderr",
     "output_type": "stream",
     "text": [
      "Average Metric: 182 / 24  (758.3):  23%|██▎       | 23/98 [00:08<00:29,  2.50it/s]"
     ]
    },
    {
     "name": "stdout",
     "output_type": "stream",
     "text": [
      "Searching quran for \"كيف يعامل الإسلام الأقليات الدينية؟\"\n",
      "Searching quran for \"ليلة القدر\"\n",
      "Searching quran for \"هل يؤمن المسلمون بالجنة والنار؟\"\n",
      "Searching quran for \"هل يؤمن المسلمون بالروح القدس؟\"\n",
      "Searching quran for \"من هو الله\"\n",
      "Searching quran for \"ما معنى الجهاد؟\"\n",
      "Searching hadith for \"كيف يُساء تفسير الجهاد كإرهاب؟\"\n",
      "Searching hadith for \"أركان الإسلام الخمسة\"\n",
      "Searching hadith for \"ما هي ليلة القدر\"\n",
      "Searching hadith for \"معاملة الإسلام للأقليات الدينية\"\n",
      "Searching hadith for \"هل ذكر الروح القدس في الأحاديث؟\"\n",
      "Searching hadith for \"هل ذكر النبي الجنة والنار؟\"\n",
      "Searching hadith for \"ما معنى الجهاد؟\"\n",
      "Searching hadith for \"من هو الله\"\n",
      "Searching al-mawsuah for \"كيف يُساء تفسير الجهاد كإرهاب؟\"\n",
      "Searching al-mawsuah for \"أركان الإسلام الخمسة\"\n",
      "Searching al-mawsuah for \"معاملة الأقليات الدينية في الفقه الإسلامي\"\n",
      "Searching al-mawsuah for \"ليلة القدر في الفقه الإسلامي\"\n",
      "Searching al-mawsuah for \"ما معنى الجهاد؟\"\n",
      "Searching al-mawsuah for \"الإيمان بالروح القدس في الفقه الإسلامي\"\n",
      "Searching al-mawsuah for \"الإيمان بالجنة والنار في الفقه الإسلامي\"\n"
     ]
    },
    {
     "name": "stderr",
     "output_type": "stream",
     "text": [
      "Average Metric: 192 / 25  (768.0):  26%|██▌       | 25/98 [00:09<00:24,  2.98it/s]"
     ]
    },
    {
     "name": "stdout",
     "output_type": "stream",
     "text": [
      "Searching quran for \"أين يحدث الحج؟\"\n",
      "Searching al-mawsuah for \"من هو الله\"\n"
     ]
    },
    {
     "name": "stderr",
     "output_type": "stream",
     "text": [
      "Average Metric: 198 / 26  (761.5):  27%|██▋       | 26/98 [00:10<00:24,  2.98it/s]"
     ]
    },
    {
     "name": "stdout",
     "output_type": "stream",
     "text": [
      "Searching quran for \"أحكام الحرب في الإسلام\"\n"
     ]
    },
    {
     "name": "stderr",
     "output_type": "stream",
     "text": [
      "Average Metric: 222 / 29  (765.5):  29%|██▊       | 28/98 [00:10<00:22,  3.10it/s]"
     ]
    },
    {
     "name": "stdout",
     "output_type": "stream",
     "text": [
      "Searching quran for \"متى ليلة القدر؟\"\n",
      "Searching quran for \"كم مرة يصلي المسلمون خلال رمضان؟\"\n",
      "Searching quran for \"لماذا الكعبة مهمة؟\"\n"
     ]
    },
    {
     "name": "stderr",
     "output_type": "stream",
     "text": [
      "Average Metric: 250 / 32  (781.2):  33%|███▎      | 32/98 [00:10<00:12,  5.22it/s]"
     ]
    },
    {
     "name": "stdout",
     "output_type": "stream",
     "text": [
      "Searching hadith for \"أين يحدث الحج؟\"\n",
      "Searching quran for \"لماذا يجب على المسلمين الصيام لمدة شهر كامل؟\"\n",
      "Searching quran for \"كيف يمكن فهم والتعامل مع الحزن والأسى في الإسلام؟\"\n",
      "Searching quran for \"كيف يمكن للمرء أن يطهر قلبه وروحه؟\"\n",
      "Searching hadith for \"أحاديث عن أحكام الحرب في الإسلام\"\n",
      "Searching hadith for \"لماذا الكعبة مهمة؟\"\n",
      "Searching hadith for \"متى ليلة القدر؟\"\n",
      "Searching hadith for \"كم مرة يصلي المسلمون خلال رمضان؟\"\n",
      "Searching al-mawsuah for \"أين يحدث الحج؟\"\n",
      "Searching hadith for \"كيف يمكن فهم والتعامل مع الحزن والأسى في الإسلام؟\"\n",
      "Searching hadith for \"لماذا يجب على المسلمين الصيام لمدة شهر كامل؟\"\n",
      "Searching hadith for \"كيف يمكن للمرء أن يطهر قلبه وروحه؟\"\n",
      "Searching al-mawsuah for \"أحكام الحرب في الفقه الإسلامي\"\n",
      "Searching al-mawsuah for \"متى ليلة القدر؟\"\n"
     ]
    },
    {
     "name": "stderr",
     "output_type": "stream",
     "text": [
      "Average Metric: 262 / 33  (793.9):  34%|███▎      | 33/98 [00:12<00:25,  2.52it/s]"
     ]
    },
    {
     "name": "stdout",
     "output_type": "stream",
     "text": [
      "Searching al-mawsuah for \"أهمية الكعبة في الفقه الإسلامي\"\n",
      "Searching al-mawsuah for \"كم مرة يصلي المسلمون خلال رمضان؟\"\n",
      "Searching al-mawsuah for \"كيف يمكن فهم والتعامل مع الحزن والأسى في الإسلام؟\"\n",
      "Searching quran for \"ما هي الكعبة؟\"\n",
      "Searching al-mawsuah for \"لماذا يجب على المسلمين الصيام لمدة شهر كامل؟\"\n",
      "Searching al-mawsuah for \"كيف يمكن للمرء أن يطهر قلبه وروحه؟\"\n"
     ]
    },
    {
     "name": "stderr",
     "output_type": "stream",
     "text": [
      "Average Metric: 290 / 37  (783.8):  37%|███▋      | 36/98 [00:12<00:18,  3.43it/s]"
     ]
    },
    {
     "name": "stdout",
     "output_type": "stream",
     "text": [
      "Searching quran for \"من هو النبي محمد؟\"\n",
      "Searching quran for \"ما هي التزكية؟\"\n",
      "Searching quran for \"أحكام الحرب في الإسلام\"\n",
      "Searching quran for \"ما الذي يعلمه الإسلام عن إدارة القلق والاكتئاب والشك الذاتي؟\"\n"
     ]
    },
    {
     "name": "stderr",
     "output_type": "stream",
     "text": [
      "Average Metric: 320 / 40  (800.0):  41%|████      | 40/98 [00:13<00:10,  5.66it/s]"
     ]
    },
    {
     "name": "stdout",
     "output_type": "stream",
     "text": [
      "Searching quran for \"أين تؤدى العمرة؟\"\n",
      "Searching hadith for \"ما هي الكعبة؟\"\n",
      "Searching quran for \"كيف تكون الروحانية الإسلامية فريدة؟\"\n",
      "Searching quran for \"كيف يفهم الإسلام الروح\"\n",
      "Searching hadith for \"ما هي التزكية؟\"\n",
      "Searching hadith for \"من هو النبي محمد؟\"\n",
      "Searching hadith for \"ما الذي يعلمه الإسلام عن إدارة القلق والاكتئاب والشك الذاتي؟\"\n",
      "Searching hadith for \"أحاديث عن أحكام الحرب في الإسلام\"\n",
      "Searching hadith for \"كيف تكون الروحانية الإسلامية فريدة؟\"\n",
      "Searching hadith for \"فهم الروح في الإسلام\"\n",
      "Searching al-mawsuah for \"ما هي الكعبة؟\"\n",
      "Searching al-mawsuah for \"ما هي التزكية؟\"\n",
      "Searching hadith for \"أين تؤدى العمرة؟\"\n",
      "Searching al-mawsuah for \"من هو النبي محمد؟\"\n",
      "Searching al-mawsuah for \"ما الذي يعلمه الإسلام عن إدارة القلق والاكتئاب والشك الذاتي؟\"\n",
      "Searching al-mawsuah for \"أحكام الحرب في الفقه الإسلامي\"\n"
     ]
    },
    {
     "name": "stderr",
     "output_type": "stream",
     "text": [
      "Average Metric: 336 / 42  (800.0):  43%|████▎     | 42/98 [00:14<00:22,  2.50it/s]"
     ]
    },
    {
     "name": "stdout",
     "output_type": "stream",
     "text": [
      "Searching al-mawsuah for \"كيف تكون الروحانية الإسلامية فريدة؟\"\n",
      "Searching quran for \"من هو عيسى في الإسلام؟\"\n",
      "Searching al-mawsuah for \"الروح في الفقه الإسلامي\"\n",
      "Searching quran for \"ما هو الإسلام؟\"\n"
     ]
    },
    {
     "name": "stderr",
     "output_type": "stream",
     "text": [
      "Average Metric: 358 / 45  (795.6):  45%|████▍     | 44/98 [00:15<00:17,  3.02it/s]"
     ]
    },
    {
     "name": "stdout",
     "output_type": "stream",
     "text": [
      "Searching quran for \"متى رمضان؟\"\n",
      "Searching quran for \"كيف يعامل الإسلام الأقليات الدينية؟\"\n",
      "Searching quran for \"كيف تتعلق الشريعة بطقوس العبادة؟\"\n"
     ]
    },
    {
     "name": "stderr",
     "output_type": "stream",
     "text": [
      "Average Metric: 374 / 47  (795.7):  48%|████▊     | 47/98 [00:15<00:11,  4.45it/s]"
     ]
    },
    {
     "name": "stdout",
     "output_type": "stream",
     "text": [
      "Searching al-mawsuah for \"أين تؤدى العمرة؟\"\n",
      "Searching quran for \"هل انتشر الإسلام بالعنف والإكراه؟\"\n",
      "Searching hadith for \"من هو عيسى في الأحاديث؟\"\n",
      "Searching quran for \"لماذا يتم الاحتفال بشهر رمضان؟\"\n",
      "Searching hadith for \"ما هو الإسلام؟\"\n",
      "Searching hadith for \"متى رمضان؟\"\n",
      "Searching hadith for \"كيف تتعلق الشريعة بطقوس العبادة؟\"\n",
      "Searching hadith for \"معاملة الإسلام للأقليات الدينية\"\n"
     ]
    },
    {
     "name": "stderr",
     "output_type": "stream",
     "text": [
      "Average Metric: 382 / 48  (795.8):  49%|████▉     | 48/98 [00:16<00:15,  3.20it/s]"
     ]
    },
    {
     "name": "stdout",
     "output_type": "stream",
     "text": [
      "Searching quran for \"من هو النبي إبراهيم؟\"\n",
      "Searching hadith for \"هل انتشر الإسلام بالعنف والإكراه؟\"\n",
      "Searching al-mawsuah for \"ما هو الإسلام؟\"\n",
      "Searching hadith for \"لماذا يتم الاحتفال بشهر رمضان؟\"\n",
      "Searching al-mawsuah for \"من هو عيسى في الفقه الإسلامي؟\"\n",
      "Searching al-mawsuah for \"كيف تتعلق الشريعة بطقوس العبادة؟\"\n",
      "Searching al-mawsuah for \"معاملة الأقليات الدينية في الفقه الإسلامي\"\n",
      "Searching al-mawsuah for \"متى رمضان؟\"\n",
      "Searching al-mawsuah for \"هل انتشر الإسلام بالعنف والإكراه؟\"\n",
      "Searching hadith for \"من هو النبي إبراهيم؟\"\n",
      "Searching al-mawsuah for \"لماذا يتم الاحتفال بشهر رمضان؟\"\n"
     ]
    },
    {
     "name": "stderr",
     "output_type": "stream",
     "text": [
      "Average Metric: 386 / 49  (787.8):  50%|█████     | 49/98 [00:17<00:23,  2.07it/s]"
     ]
    },
    {
     "name": "stdout",
     "output_type": "stream",
     "text": [
      "Searching quran for \"ما هو زكاة الفطر؟\"\n"
     ]
    },
    {
     "name": "stderr",
     "output_type": "stream",
     "text": [
      "Average Metric: 418 / 53  (788.7):  53%|█████▎    | 52/98 [00:17<00:13,  3.53it/s]"
     ]
    },
    {
     "name": "stdout",
     "output_type": "stream",
     "text": [
      "Searching quran for \"هل يسمح الإسلام بقتل المدنيين؟\"\n",
      "Searching quran for \"ما هو الفقه؟\"\n",
      "Searching quran for \"كيف تتعلق الشريعة بالمجتمع؟\"\n",
      "Searching quran for \"أهمية الصدقة في رمضان\"\n"
     ]
    },
    {
     "name": "stderr",
     "output_type": "stream",
     "text": [
      "Average Metric: 436 / 55  (792.7):  55%|█████▌    | 54/98 [00:18<00:12,  3.53it/s]"
     ]
    },
    {
     "name": "stdout",
     "output_type": "stream",
     "text": [
      "Searching quran for \"القيود الغذائية في الإسلام\"\n",
      "Searching quran for \"ما هو القرآن؟\"\n"
     ]
    },
    {
     "name": "stderr",
     "output_type": "stream",
     "text": [
      "Average Metric: 436 / 55  (792.7):  56%|█████▌    | 55/98 [00:18<00:08,  5.34it/s]"
     ]
    },
    {
     "name": "stdout",
     "output_type": "stream",
     "text": [
      "Searching al-mawsuah for \"من هو النبي إبراهيم؟\"\n",
      "Searching hadith for \"ما هو زكاة الفطر؟\"\n",
      "Searching hadith for \"هل يسمح الإسلام بقتل المدنيين؟\"\n",
      "Searching hadith for \"ما هو الفقه؟\"\n",
      "Searching hadith for \"كيف تتعلق الشريعة بالمجتمع؟\"\n",
      "Searching hadith for \"القيود الغذائية في الإسلام\"\n",
      "Searching hadith for \"فضل الصدقة في رمضان\"\n"
     ]
    },
    {
     "name": "stderr",
     "output_type": "stream",
     "text": [
      "Average Metric: 442 / 56  (789.3):  57%|█████▋    | 56/98 [00:19<00:14,  2.96it/s]"
     ]
    },
    {
     "name": "stdout",
     "output_type": "stream",
     "text": [
      "Searching al-mawsuah for \"ما هو زكاة الفطر؟\"\n",
      "Searching hadith for \"ما هو القرآن؟\"\n",
      "Searching quran for \"من بنى الكعبة؟\"\n",
      "Searching al-mawsuah for \"هل يسمح الإسلام بقتل المدنيين؟\"\n",
      "Searching al-mawsuah for \"ما هو الفقه؟\"\n",
      "Searching al-mawsuah for \"الصدقة في رمضان\"\n",
      "Searching al-mawsuah for \"كيف تتعلق الشريعة بالمجتمع؟\"\n"
     ]
    },
    {
     "name": "stderr",
     "output_type": "stream",
     "text": [
      "Average Metric: 446 / 57  (782.5):  58%|█████▊    | 57/98 [00:19<00:16,  2.46it/s]"
     ]
    },
    {
     "name": "stdout",
     "output_type": "stream",
     "text": [
      "Searching al-mawsuah for \"القيود الغذائية في الإسلام\"\n",
      "Searching al-mawsuah for \"ما هو القرآن؟\"\n",
      "Searching quran for \"من أين تأتي الشريعة؟\"\n"
     ]
    },
    {
     "name": "stderr",
     "output_type": "stream",
     "text": [
      "Average Metric: 452 / 58  (779.3):  59%|█████▉    | 58/98 [00:19<00:14,  2.73it/s]"
     ]
    },
    {
     "name": "stdout",
     "output_type": "stream",
     "text": [
      "Searching hadith for \"من بنى الكعبة؟\"\n",
      "Searching quran for \"كيف يغذي الإسلام رفاهنا العاطفي؟\"\n"
     ]
    },
    {
     "name": "stderr",
     "output_type": "stream",
     "text": [
      "Average Metric: 476 / 61  (780.3):  61%|██████    | 60/98 [00:20<00:12,  2.95it/s]"
     ]
    },
    {
     "name": "stdout",
     "output_type": "stream",
     "text": [
      "Searching quran for \"كيفية أداء العمرة\"\n",
      "Searching quran for \"آيات القرآن للتعامل مع الضيق والشدائد\"\n",
      "Searching quran for \"هل يقول القرآن بقتل غير المؤمنين؟\"\n"
     ]
    },
    {
     "name": "stderr",
     "output_type": "stream",
     "text": [
      "Average Metric: 496 / 63  (787.3):  63%|██████▎   | 62/98 [00:20<00:07,  4.80it/s]"
     ]
    },
    {
     "name": "stdout",
     "output_type": "stream",
     "text": [
      "Searching quran for \"هل التجديف يعاقب عليه بالإعدام؟\"\n",
      "Searching quran for \"هل يسمح الإسلام بقتل المدنيين؟\"\n",
      "Searching hadith for \"من أين تأتي الشريعة؟\"\n",
      "Searching al-mawsuah for \"من بنى الكعبة؟\"\n",
      "Searching hadith for \"كيف يغذي الإسلام رفاهنا العاطفي؟\"\n",
      "Searching hadith for \"كيفية أداء العمرة\"\n",
      "Searching hadith for \"أحاديث عن التعامل مع الضيق والشدائد\"\n",
      "Searching hadith for \"هل يوجد حديث يأمر بقتل غير المؤمنين؟\"\n",
      "Searching hadith for \"هل يسمح الإسلام بقتل المدنيين؟\"\n",
      "Searching hadith for \"هل التجديف يعاقب عليه بالإعدام؟\"\n",
      "Searching al-mawsuah for \"مصادر الشريعة الإسلامية\"\n"
     ]
    },
    {
     "name": "stderr",
     "output_type": "stream",
     "text": [
      "Average Metric: 504 / 64  (787.5):  65%|██████▌   | 64/98 [00:21<00:11,  3.01it/s]"
     ]
    },
    {
     "name": "stdout",
     "output_type": "stream",
     "text": [
      "Searching al-mawsuah for \"كيف يغذي الإسلام رفاهنا العاطفي؟\"\n",
      "Searching quran for \"ما معنى الإسلام؟\"\n",
      "Searching al-mawsuah for \"كيفية أداء العمرة\"\n",
      "Searching al-mawsuah for \"أحكام الفقه الإسلامي حول التعامل مع الضيق والشدائد\"\n",
      "Searching al-mawsuah for \"ما هو حكم قتل غير المؤمنين في الفقه الإسلامي؟\"\n",
      "Searching al-mawsuah for \"هل يسمح الإسلام بقتل المدنيين؟\"\n",
      "Searching al-mawsuah for \"هل التجديف يعاقب عليه بالإعدام؟\"\n"
     ]
    },
    {
     "name": "stderr",
     "output_type": "stream",
     "text": [
      "Average Metric: 522 / 66  (790.9):  67%|██████▋   | 66/98 [00:22<00:10,  3.04it/s]"
     ]
    },
    {
     "name": "stdout",
     "output_type": "stream",
     "text": [
      "Searching quran for \"ما هو عيد الفطر؟\"\n",
      "Searching quran for \"لماذا الحج مهم؟\"\n",
      "Searching hadith for \"ما معنى الإسلام في الحديث؟\"\n"
     ]
    },
    {
     "name": "stderr",
     "output_type": "stream",
     "text": [
      "Average Metric: 532 / 68  (782.4):  68%|██████▊   | 67/98 [00:22<00:08,  3.54it/s]"
     ]
    },
    {
     "name": "stdout",
     "output_type": "stream",
     "text": [
      "Searching quran for \"كيفية أداء الحج\"\n",
      "Searching quran for \"هل يقول القرآن بقتل غير المؤمنين؟\"\n"
     ]
    },
    {
     "name": "stderr",
     "output_type": "stream",
     "text": [
      "Average Metric: 544 / 70  (777.1):  70%|███████   | 69/98 [00:22<00:06,  4.59it/s]"
     ]
    },
    {
     "name": "stdout",
     "output_type": "stream",
     "text": [
      "Searching quran for \"هل هناك استثناءات أو إعفاءات من الصيام؟\"\n",
      "Searching quran for \"ما هي العمرة؟\"\n"
     ]
    },
    {
     "name": "stderr",
     "output_type": "stream",
     "text": [
      "Average Metric: 552 / 71  (777.5):  72%|███████▏  | 71/98 [00:22<00:04,  5.56it/s]"
     ]
    },
    {
     "name": "stdout",
     "output_type": "stream",
     "text": [
      "Searching quran for \"هل انتشر الإسلام بالعنف والإكراه؟\"\n",
      "Searching hadith for \"ما هو عيد الفطر؟\"\n",
      "Searching hadith for \"أهمية الحج في الأحاديث\"\n",
      "Searching al-mawsuah for \"ما هو تعريف الإسلام في الفقه الإسلامي؟\"\n",
      "Searching hadith for \"هل يوجد حديث يأمر بقتل غير المؤمنين؟\"\n",
      "Searching hadith for \"كيفية أداء الحج\"\n",
      "Searching hadith for \"ما هي العمرة؟\"\n",
      "Searching hadith for \"هل هناك استثناءات أو إعفاءات من الصيام؟\"\n",
      "Searching hadith for \"هل انتشر الإسلام بالعنف والإكراه؟\"\n",
      "Searching al-mawsuah for \"ما هو عيد الفطر؟\"\n"
     ]
    },
    {
     "name": "stderr",
     "output_type": "stream",
     "text": [
      "Average Metric: 560 / 72  (777.8):  73%|███████▎  | 72/98 [00:24<00:10,  2.59it/s]"
     ]
    },
    {
     "name": "stdout",
     "output_type": "stream",
     "text": [
      "Searching al-mawsuah for \"أهمية الحج في الفقه الإسلامي\"\n",
      "Searching al-mawsuah for \"ما هو حكم قتل غير المؤمنين في الفقه الإسلامي؟\"\n",
      "Searching al-mawsuah for \"كيفية أداء الحج\"\n",
      "Searching quran for \"هل العمرة والحج نفس الشيء؟\"\n",
      "Searching al-mawsuah for \"ما هي العمرة؟\"\n",
      "Searching al-mawsuah for \"هل هناك استثناءات أو إعفاءات من الصيام؟\"\n",
      "Searching al-mawsuah for \"هل انتشر الإسلام بالعنف والإكراه؟\"\n"
     ]
    },
    {
     "name": "stderr",
     "output_type": "stream",
     "text": [
      "Average Metric: 582 / 76  (765.8):  77%|███████▋  | 75/98 [00:24<00:06,  3.34it/s]"
     ]
    },
    {
     "name": "stdout",
     "output_type": "stream",
     "text": [
      "Searching quran for \"ماذا يؤمن المسلمون؟\"\n",
      "Searching quran for \"هل الشريعة موحدة وغير متغيرة؟\"\n",
      "Searching quran for \"ما هي الصدقة؟\"\n",
      "Searching hadith for \"هل العمرة والحج نفس الشيء؟\"\n",
      "Searching quran for \"صلاة التراويح\"\n"
     ]
    },
    {
     "name": "stderr",
     "output_type": "stream",
     "text": [
      "Average Metric: 612 / 79  (774.7):  80%|███████▉  | 78/98 [00:25<00:04,  4.09it/s]"
     ]
    },
    {
     "name": "stdout",
     "output_type": "stream",
     "text": [
      "Searching quran for \"ما هو التوحيد؟\"\n",
      "Searching quran for \"ما معنى الجهاد؟\"\n"
     ]
    },
    {
     "name": "stderr",
     "output_type": "stream",
     "text": [
      "Average Metric: 612 / 79  (774.7):  81%|████████  | 79/98 [00:25<00:03,  5.07it/s]"
     ]
    },
    {
     "name": "stdout",
     "output_type": "stream",
     "text": [
      "Searching quran for \"كيف يتناول الإسلام القدر والإرادة الحرة؟\"\n",
      "Searching hadith for \"ماذا يؤمن المسلمون؟\"\n",
      "Searching hadith for \"هل الشريعة موحدة وغير متغيرة؟\"\n",
      "Searching al-mawsuah for \"هل العمرة والحج نفس الشيء؟\"\n",
      "Searching hadith for \"صلاة التراويح\"\n",
      "Searching hadith for \"ما هي الصدقة؟\"\n",
      "Searching hadith for \"ما هو التوحيد؟\"\n",
      "Searching hadith for \"ما معنى الجهاد؟\"\n",
      "Searching hadith for \"كيف يتناول الإسلام القدر والإرادة الحرة؟\"\n"
     ]
    },
    {
     "name": "stderr",
     "output_type": "stream",
     "text": [
      "Average Metric: 620 / 80  (775.0):  82%|████████▏ | 80/98 [00:26<00:06,  2.85it/s]"
     ]
    },
    {
     "name": "stdout",
     "output_type": "stream",
     "text": [
      "Searching al-mawsuah for \"ماذا يؤمن المسلمون؟\"\n",
      "Searching quran for \"الطلاق في الإسلام\"\n",
      "Searching al-mawsuah for \"هل الشريعة موحدة وغير متغيرة؟\"\n",
      "Searching al-mawsuah for \"صلاة التراويح\"\n",
      "Searching al-mawsuah for \"ما هي الصدقة؟\"\n",
      "Searching al-mawsuah for \"ما معنى الجهاد؟\"\n",
      "Searching al-mawsuah for \"ما هو التوحيد؟\"\n"
     ]
    },
    {
     "name": "stderr",
     "output_type": "stream",
     "text": [
      "Average Metric: 640 / 83  (771.1):  85%|████████▍ | 83/98 [00:27<00:04,  3.37it/s]"
     ]
    },
    {
     "name": "stdout",
     "output_type": "stream",
     "text": [
      "Searching al-mawsuah for \"كيف يتناول الإسلام القدر والإرادة الحرة؟\"\n",
      "Searching quran for \"ما هي الأعياد التي يحتفل بها المسلمون؟\"\n",
      "Searching hadith for \"حديث عن الطلاق\"\n",
      "Searching quran for \"هل الوسواس القهري نتيجة وساوس الشيطان؟\"\n",
      "Searching quran for \"كيف نعرف أن الله موجود؟\"\n",
      "Searching quran for \"تاريخ الشريعة\"\n"
     ]
    },
    {
     "name": "stderr",
     "output_type": "stream",
     "text": [
      "Average Metric: 658 / 86  (765.1):  87%|████████▋ | 85/98 [00:27<00:03,  4.12it/s]"
     ]
    },
    {
     "name": "stdout",
     "output_type": "stream",
     "text": [
      "Searching quran for \"هل يسمح الإسلام بالحرب الوقائية؟\"\n",
      "Searching quran for \"الوحي في الإسلام\"\n"
     ]
    },
    {
     "name": "stderr",
     "output_type": "stream",
     "text": [
      "Average Metric: 662 / 87  (760.9):  89%|████████▉ | 87/98 [00:27<00:02,  4.99it/s]"
     ]
    },
    {
     "name": "stdout",
     "output_type": "stream",
     "text": [
      "Searching quran for \"هل الإسلام يشجع على العنف؟\"\n",
      "Searching al-mawsuah for \"الطلاق في الفقه الإسلامي\"\n",
      "Searching hadith for \"ما هي الأعياد التي يحتفل بها المسلمون؟\"\n",
      "Searching hadith for \"هل الوسواس القهري نتيجة وساوس الشيطان؟\"\n",
      "Searching hadith for \"تاريخ الشريعة\"\n",
      "Searching hadith for \"كيف نعرف أن الله موجود؟\"\n",
      "Searching hadith for \"هل يسمح الإسلام بالحرب الوقائية؟\"\n",
      "Searching hadith for \"الوحي في الإسلام\"\n",
      "Searching hadith for \"هل الإسلام يشجع على العنف؟\"\n"
     ]
    },
    {
     "name": "stderr",
     "output_type": "stream",
     "text": [
      "Average Metric: 670 / 88  (761.4):  90%|████████▉ | 88/98 [00:28<00:03,  2.75it/s]"
     ]
    },
    {
     "name": "stdout",
     "output_type": "stream",
     "text": [
      "Searching al-mawsuah for \"تاريخ الشريعة\"\n",
      "Searching al-mawsuah for \"ما هي الأعياد التي يحتفل بها المسلمون؟\"\n",
      "Searching al-mawsuah for \"هل الوسواس القهري نتيجة وساوس الشيطان؟\"\n",
      "Searching quran for \"ما هي أهمية الحج؟\"\n",
      "Searching al-mawsuah for \"كيف نعرف أن الله موجود؟\"\n",
      "Searching al-mawsuah for \"هل يسمح الإسلام بالحرب الوقائية؟\"\n",
      "Searching al-mawsuah for \"الوحي في الإسلام\"\n",
      "Searching al-mawsuah for \"هل الإسلام يشجع على العنف؟\"\n"
     ]
    },
    {
     "name": "stderr",
     "output_type": "stream",
     "text": [
      "Average Metric: 694 / 91  (762.6):  92%|█████████▏| 90/98 [00:29<00:03,  2.24it/s]"
     ]
    },
    {
     "name": "stdout",
     "output_type": "stream",
     "text": [
      "Searching quran for \"لماذا يطلب الله من الناس عبادته؟\"\n",
      "Searching quran for \"هل يؤمن المسلمون بصلب عيسى؟\"\n",
      "Searching hadith for \"ما هي أهمية الحج؟\"\n"
     ]
    },
    {
     "name": "stderr",
     "output_type": "stream",
     "text": [
      "Average Metric: 724 / 95  (762.1):  97%|█████████▋| 95/98 [00:30<00:00,  5.04it/s]"
     ]
    },
    {
     "name": "stdout",
     "output_type": "stream",
     "text": [
      "Searching hadith for \"هل ورد في الأحاديث أن المسلمين يؤمنون بصلب عيسى؟\"\n",
      "Searching hadith for \"لماذا يطلب الله من الناس عبادته؟\"\n",
      "Searching al-mawsuah for \"ما هي أهمية الحج؟\"\n"
     ]
    },
    {
     "name": "stderr",
     "output_type": "stream",
     "text": [
      "Average Metric: 734 / 96  (764.6):  98%|█████████▊| 96/98 [00:31<00:00,  2.35it/s]"
     ]
    },
    {
     "name": "stdout",
     "output_type": "stream",
     "text": [
      "Searching al-mawsuah for \"موقف الفقه الإسلامي من صلب عيسى\"\n",
      "Searching al-mawsuah for \"لماذا يطلب الله من الناس عبادته؟\"\n"
     ]
    },
    {
     "name": "stderr",
     "output_type": "stream",
     "text": [
      "Average Metric: 748 / 98  (763.3): 100%|██████████| 98/98 [00:32<00:00,  3.05it/s]\n"
     ]
    },
    {
     "name": "stdout",
     "output_type": "stream",
     "text": [
      "Searching quran for \"من يجب عليه أداء الحج؟\"\n",
      "Searching quran for \"أين الكعبة؟\"\n",
      "Searching quran for \"هل يسمح الإسلام بجرائم الشرف؟\"\n",
      "Searching quran for \"هل يصوم المسلمون خارج رمضان؟\"\n",
      "Searching quran for \"هل يقدم القرآن توجيهات حول كيفية التعامل مع الصدمة والألم؟\"\n",
      "Searching quran for \"ما هي الفتوى؟\"\n",
      "Searching quran for \"ما معنى حلال؟\"\n",
      "Searching quran for \"هل الردة يعاقب عليها بالإعدام في الإسلام؟\"\n"
     ]
    },
    {
     "name": "stderr",
     "output_type": "stream",
     "text": [
      "  0%|          | 0/98 [00:00<?, ?it/s]"
     ]
    },
    {
     "name": "stdout",
     "output_type": "stream",
     "text": [
      "Searching hadith for \"أين الكعبة؟\"\n",
      "Searching hadith for \"هل توجد أحاديث تتعلق بجرائم الشرف؟\"\n",
      "Searching hadith for \"من يجب عليه أداء الحج؟\"\n",
      "Searching hadith for \"هل يصوم المسلمون خارج رمضان؟\"\n",
      "Searching hadith for \"ما هي الفتوى؟\"\n",
      "Searching hadith for \"ما معنى حلال؟\"\n",
      "Searching hadith for \"هل يعاقب المرتد بالإعدام في الإسلام؟\"\n",
      "Searching hadith for \"هل تقدم السنة النبوية توجيهات حول كيفية التعامل مع الصدمة والألم؟\"\n",
      "Searching al-mawsuah for \"ما هو حكم الفقه الإسلامي في جرائم الشرف؟\"\n",
      "Searching al-mawsuah for \"من يجب عليه أداء الحج؟\"\n",
      "Searching al-mawsuah for \"أين الكعبة؟\"\n",
      "Searching al-mawsuah for \"هل يصوم المسلمون خارج رمضان؟\"\n",
      "Searching al-mawsuah for \"ما معنى حلال؟\"\n",
      "Searching al-mawsuah for \"ما هي الفتوى؟\"\n",
      "Searching al-mawsuah for \"حكم الردة في الفقه الإسلامي\"\n",
      "Searching al-mawsuah for \"كيفية التعامل مع الصدمة والألم في الفقه الإسلامي\"\n"
     ]
    },
    {
     "name": "stderr",
     "output_type": "stream",
     "text": [
      "Average Metric: 48 / 6  (800.0):   5%|▌         | 5/98 [00:02<00:34,  2.67it/s]"
     ]
    },
    {
     "name": "stdout",
     "output_type": "stream",
     "text": [
      "Searching quran for \"ما هو رمضان؟\"\n",
      "Searching quran for \"هل الإسلام يشجع على العنف؟\"\n",
      "Searching quran for \"هل يسمح الإسلام بالحرب الوقائية؟\"\n",
      "Searching quran for \"كيف يصف القرآن السعادة؟ كيف يمكن تحقيقها في الإسلام؟\"\n",
      "Searching quran for \"أهمية ليلة القدر\"\n",
      "Searching quran for \"هل يوفر الإسلام إرشادات حول كيفية التعامل مع الأمراض النفسية؟\"\n"
     ]
    },
    {
     "name": "stderr",
     "output_type": "stream",
     "text": [
      "Average Metric: 64 / 8  (800.0):   8%|▊         | 8/98 [00:02<00:20,  4.40it/s]"
     ]
    },
    {
     "name": "stdout",
     "output_type": "stream",
     "text": [
      "Searching quran for \"ما هو رمضان؟\"\n",
      "Searching quran for \"لماذا يصلي المسلمون يوميا؟\"\n",
      "Searching hadith for \"ما هو رمضان؟\"\n",
      "Searching hadith for \"هل يسمح الإسلام بالحرب الوقائية؟\"\n",
      "Searching hadith for \"هل الإسلام يشجع على العنف؟\"\n",
      "Searching hadith for \"فضل ليلة القدر\"\n",
      "Searching hadith for \"هل هناك أحاديث تتحدث عن كيفية التعامل مع الأمراض النفسية؟\"\n",
      "Searching hadith for \"كيف يصف الحديث السعادة؟ كيف يمكن تحقيقها في الإسلام؟\"\n",
      "Searching hadith for \"لماذا يصلي المسلمون يوميا؟\"\n",
      "Searching hadith for \"ما هو رمضان؟\"\n",
      "Searching al-mawsuah for \"ما هو رمضان؟\"\n",
      "Searching al-mawsuah for \"هل الإسلام يشجع على العنف؟\"\n",
      "Searching al-mawsuah for \"أهمية ليلة القدر في الفقه الإسلامي\"\n",
      "Searching al-mawsuah for \"إرشادات الفقه الإسلامي حول التعامل مع الأمراض النفسية\"\n",
      "Searching al-mawsuah for \"السعادة في الفقه الإسلامي وكيفية تحقيقها\"\n",
      "Searching al-mawsuah for \"هل يسمح الإسلام بالحرب الوقائية؟\"\n",
      "Searching al-mawsuah for \"ما هو رمضان؟\"\n",
      "Searching al-mawsuah for \"لماذا يصلي المسلمون يوميا؟\"\n"
     ]
    },
    {
     "name": "stderr",
     "output_type": "stream",
     "text": [
      "Average Metric: 104 / 15  (693.3):  14%|█▍        | 14/98 [00:04<00:22,  3.67it/s]"
     ]
    },
    {
     "name": "stdout",
     "output_type": "stream",
     "text": [
      "Searching quran for \"كيف تصوم رمضان؟\"\n",
      "Searching quran for \"كيف نعلم أن القرآن وحي إلهي؟\"\n",
      "Searching quran for \"هل التجديف يعاقب عليه بالإعدام؟\"\n",
      "Searching quran for \"من يجب عليه الصيام في رمضان؟\"\n",
      "Searching quran for \"ما هو الغرض من الصيام في رمضان؟\"\n",
      "Searching quran for \"ماذا يقدم الإسلام للناس؟\"\n",
      "Searching quran for \"مدة الصيام في رمضان\"\n"
     ]
    },
    {
     "name": "stderr",
     "output_type": "stream",
     "text": [
      "Average Metric: 114 / 16  (712.5):  15%|█▌        | 15/98 [00:05<00:22,  3.67it/s]"
     ]
    },
    {
     "name": "stdout",
     "output_type": "stream",
     "text": [
      "Searching quran for \"كيف يُساء تفسير الجهاد كإرهاب؟\"\n",
      "Searching hadith for \"كيف تصوم رمضان؟\"\n",
      "Searching hadith for \"هل التجديف يعاقب عليه بالإعدام؟\"\n",
      "Searching hadith for \"كيف نعلم أن القرآن وحي إلهي؟\"\n",
      "Searching hadith for \"من يجب عليه الصيام في رمضان؟\"\n",
      "Searching hadith for \"ماذا يقدم الإسلام للناس؟\"\n",
      "Searching hadith for \"ما هو الغرض من الصيام في رمضان؟\"\n",
      "Searching hadith for \"مدة الصيام في رمضان\"\n",
      "Searching hadith for \"كيف يُساء تفسير الجهاد كإرهاب؟\"\n",
      "Searching al-mawsuah for \"كيف تصوم رمضان؟\"\n",
      "Searching al-mawsuah for \"كيف نعلم أن القرآن وحي إلهي؟\"\n",
      "Searching al-mawsuah for \"من يجب عليه الصيام في رمضان؟\"\n",
      "Searching al-mawsuah for \"ما هو الغرض من الصيام في رمضان؟\"\n",
      "Searching al-mawsuah for \"هل التجديف يعاقب عليه بالإعدام؟\"\n",
      "Searching al-mawsuah for \"ماذا يقدم الإسلام للناس؟\"\n",
      "Searching al-mawsuah for \"مدة الصيام في رمضان\"\n",
      "Searching al-mawsuah for \"كيف يُساء تفسير الجهاد كإرهاب؟\"\n"
     ]
    },
    {
     "name": "stderr",
     "output_type": "stream",
     "text": [
      "Average Metric: 150 / 20  (750.0):  19%|█▉        | 19/98 [00:07<00:26,  2.95it/s]"
     ]
    },
    {
     "name": "stdout",
     "output_type": "stream",
     "text": [
      "Searching quran for \"كيف يُساء تفسير الجهاد كإرهاب؟\"\n",
      "Searching quran for \"أركان الإسلام الخمسة\"\n",
      "Searching quran for \"كيف يعامل الإسلام الأقليات الدينية؟\"\n"
     ]
    },
    {
     "name": "stderr",
     "output_type": "stream",
     "text": [
      "Average Metric: 182 / 24  (758.3):  24%|██▍       | 24/98 [00:07<00:13,  5.40it/s]"
     ]
    },
    {
     "name": "stdout",
     "output_type": "stream",
     "text": [
      "Searching quran for \"ليلة القدر\"\n",
      "Searching quran for \"من هو الله\"\n",
      "Searching quran for \"هل يؤمن المسلمون بالروح القدس؟\"\n",
      "Searching quran for \"هل يؤمن المسلمون بالجنة والنار؟\"\n",
      "Searching quran for \"ما معنى الجهاد؟\"\n",
      "Searching hadith for \"كيف يُساء تفسير الجهاد كإرهاب؟\"\n",
      "Searching hadith for \"معاملة الإسلام للأقليات الدينية\"\n",
      "Searching hadith for \"أركان الإسلام الخمسة\"\n",
      "Searching hadith for \"ما هي ليلة القدر\"\n",
      "Searching hadith for \"من هو الله\"\n",
      "Searching hadith for \"هل ذكر الروح القدس في الأحاديث؟\"\n",
      "Searching hadith for \"هل ذكر النبي الجنة والنار؟\"\n",
      "Searching hadith for \"ما معنى الجهاد؟\"\n",
      "Searching al-mawsuah for \"كيف يُساء تفسير الجهاد كإرهاب؟\"\n",
      "Searching al-mawsuah for \"معاملة الأقليات الدينية في الفقه الإسلامي\"\n",
      "Searching al-mawsuah for \"أركان الإسلام الخمسة\"\n",
      "Searching al-mawsuah for \"ليلة القدر في الفقه الإسلامي\"\n",
      "Searching al-mawsuah for \"ما معنى الجهاد؟\"\n",
      "Searching al-mawsuah for \"الإيمان بالروح القدس في الفقه الإسلامي\"\n",
      "Searching al-mawsuah for \"الإيمان بالجنة والنار في الفقه الإسلامي\"\n",
      "Searching al-mawsuah for \"من هو الله\"\n"
     ]
    },
    {
     "name": "stderr",
     "output_type": "stream",
     "text": [
      "Average Metric: 198 / 26  (761.5):  27%|██▋       | 26/98 [00:09<00:28,  2.50it/s]"
     ]
    },
    {
     "name": "stdout",
     "output_type": "stream",
     "text": [
      "Searching quran for \"أين يحدث الحج؟\"\n",
      "Searching quran for \"أحكام الحرب في الإسلام\"\n"
     ]
    },
    {
     "name": "stderr",
     "output_type": "stream",
     "text": [
      "Average Metric: 222 / 29  (765.5):  29%|██▊       | 28/98 [00:09<00:21,  3.20it/s]"
     ]
    },
    {
     "name": "stdout",
     "output_type": "stream",
     "text": [
      "Searching quran for \"متى ليلة القدر؟\"\n",
      "Searching quran for \"كم مرة يصلي المسلمون خلال رمضان؟\"\n",
      "Searching quran for \"لماذا الكعبة مهمة؟\"\n"
     ]
    },
    {
     "name": "stderr",
     "output_type": "stream",
     "text": [
      "Average Metric: 250 / 32  (781.2):  32%|███▏      | 31/98 [00:10<00:18,  3.66it/s]"
     ]
    },
    {
     "name": "stdout",
     "output_type": "stream",
     "text": [
      "Searching quran for \"لماذا يجب على المسلمين الصيام لمدة شهر كامل؟\"\n",
      "Searching quran for \"كيف يمكن فهم والتعامل مع الحزن والأسى في الإسلام؟\"\n",
      "Searching quran for \"كيف يمكن للمرء أن يطهر قلبه وروحه؟\"\n",
      "Searching hadith for \"أين يحدث الحج؟\"\n",
      "Searching hadith for \"أحاديث عن أحكام الحرب في الإسلام\"\n",
      "Searching hadith for \"متى ليلة القدر؟\"\n",
      "Searching hadith for \"كم مرة يصلي المسلمون خلال رمضان؟\"\n",
      "Searching hadith for \"لماذا الكعبة مهمة؟\"\n",
      "Searching hadith for \"لماذا يجب على المسلمين الصيام لمدة شهر كامل؟\"\n",
      "Searching hadith for \"كيف يمكن للمرء أن يطهر قلبه وروحه؟\"\n",
      "Searching hadith for \"كيف يمكن فهم والتعامل مع الحزن والأسى في الإسلام؟\"\n",
      "Searching al-mawsuah for \"أين يحدث الحج؟\"\n",
      "Searching al-mawsuah for \"متى ليلة القدر؟\"\n",
      "Searching al-mawsuah for \"أحكام الحرب في الفقه الإسلامي\"\n",
      "Searching al-mawsuah for \"كم مرة يصلي المسلمون خلال رمضان؟\"\n",
      "Searching al-mawsuah for \"أهمية الكعبة في الفقه الإسلامي\"\n",
      "Searching al-mawsuah for \"لماذا يجب على المسلمين الصيام لمدة شهر كامل؟\"\n",
      "Searching al-mawsuah for \"كيف يمكن للمرء أن يطهر قلبه وروحه؟\"\n",
      "Searching al-mawsuah for \"كيف يمكن فهم والتعامل مع الحزن والأسى في الإسلام؟\"\n"
     ]
    },
    {
     "name": "stderr",
     "output_type": "stream",
     "text": [
      "Average Metric: 270 / 34  (794.1):  35%|███▍      | 34/98 [00:11<00:22,  2.85it/s]"
     ]
    },
    {
     "name": "stdout",
     "output_type": "stream",
     "text": [
      "Searching quran for \"ما هي الكعبة؟\"\n",
      "Searching quran for \"من هو النبي محمد؟\"\n"
     ]
    },
    {
     "name": "stderr",
     "output_type": "stream",
     "text": [
      "Average Metric: 286 / 36  (794.4):  36%|███▌      | 35/98 [00:12<00:19,  3.22it/s]"
     ]
    },
    {
     "name": "stdout",
     "output_type": "stream",
     "text": [
      "Searching quran for \"ما هي التزكية؟\"\n",
      "Searching quran for \"أحكام الحرب في الإسلام\"\n"
     ]
    },
    {
     "name": "stderr",
     "output_type": "stream",
     "text": [
      "Average Metric: 310 / 39  (794.9):  39%|███▉      | 38/98 [00:12<00:16,  3.68it/s]"
     ]
    },
    {
     "name": "stdout",
     "output_type": "stream",
     "text": [
      "Searching quran for \"ما الذي يعلمه الإسلام عن إدارة القلق والاكتئاب والشك الذاتي؟\"\n",
      "Searching quran for \"أين تؤدى العمرة؟\"\n",
      "Searching quran for \"كيف تكون الروحانية الإسلامية فريدة؟\"\n"
     ]
    },
    {
     "name": "stderr",
     "output_type": "stream",
     "text": [
      "Average Metric: 320 / 40  (800.0):  41%|████      | 40/98 [00:12<00:10,  5.44it/s]"
     ]
    },
    {
     "name": "stdout",
     "output_type": "stream",
     "text": [
      "Searching quran for \"كيف يفهم الإسلام الروح\"\n",
      "Searching hadith for \"ما هي الكعبة؟\"\n",
      "Searching hadith for \"من هو النبي محمد؟\"\n",
      "Searching hadith for \"ما هي التزكية؟\"\n",
      "Searching hadith for \"أحاديث عن أحكام الحرب في الإسلام\"\n",
      "Searching hadith for \"كيف تكون الروحانية الإسلامية فريدة؟\"\n",
      "Searching hadith for \"ما الذي يعلمه الإسلام عن إدارة القلق والاكتئاب والشك الذاتي؟\"\n",
      "Searching hadith for \"فهم الروح في الإسلام\"\n",
      "Searching al-mawsuah for \"ما هي الكعبة؟\"\n",
      "Searching hadith for \"أين تؤدى العمرة؟\"\n",
      "Searching al-mawsuah for \"ما هي التزكية؟\"\n",
      "Searching al-mawsuah for \"من هو النبي محمد؟\"\n",
      "Searching al-mawsuah for \"أحكام الحرب في الفقه الإسلامي\"\n",
      "Searching al-mawsuah for \"كيف تكون الروحانية الإسلامية فريدة؟\"\n",
      "Searching al-mawsuah for \"ما الذي يعلمه الإسلام عن إدارة القلق والاكتئاب والشك الذاتي؟\"\n"
     ]
    },
    {
     "name": "stderr",
     "output_type": "stream",
     "text": [
      "Average Metric: 336 / 42  (800.0):  43%|████▎     | 42/98 [00:14<00:22,  2.51it/s]"
     ]
    },
    {
     "name": "stdout",
     "output_type": "stream",
     "text": [
      "Searching al-mawsuah for \"الروح في الفقه الإسلامي\"\n",
      "Searching quran for \"من هو عيسى في الإسلام؟\"\n",
      "Searching quran for \"ما هو الإسلام؟\"\n"
     ]
    },
    {
     "name": "stderr",
     "output_type": "stream",
     "text": [
      "Average Metric: 342 / 43  (795.3):  43%|████▎     | 42/98 [00:14<00:22,  2.51it/s]"
     ]
    },
    {
     "name": "stdout",
     "output_type": "stream",
     "text": [
      "Searching quran for \"متى رمضان؟\"\n"
     ]
    },
    {
     "name": "stderr",
     "output_type": "stream",
     "text": [
      "Average Metric: 364 / 46  (791.3):  46%|████▌     | 45/98 [00:14<00:17,  2.99it/s]"
     ]
    },
    {
     "name": "stdout",
     "output_type": "stream",
     "text": [
      "Searching quran for \"كيف يعامل الإسلام الأقليات الدينية؟\"\n",
      "Searching quran for \"كيف تتعلق الشريعة بطقوس العبادة؟\"\n",
      "Searching quran for \"هل انتشر الإسلام بالعنف والإكراه؟\"\n",
      "Searching al-mawsuah for \"أين تؤدى العمرة؟\"\n"
     ]
    },
    {
     "name": "stderr",
     "output_type": "stream",
     "text": [
      "Average Metric: 374 / 47  (795.7):  48%|████▊     | 47/98 [00:15<00:12,  3.99it/s]"
     ]
    },
    {
     "name": "stdout",
     "output_type": "stream",
     "text": [
      "Searching quran for \"لماذا يتم الاحتفال بشهر رمضان؟\"\n",
      "Searching hadith for \"ما هو الإسلام؟\"\n",
      "Searching hadith for \"من هو عيسى في الأحاديث؟\"\n",
      "Searching hadith for \"متى رمضان؟\"\n"
     ]
    },
    {
     "name": "stderr",
     "output_type": "stream",
     "text": [
      "Average Metric: 382 / 48  (795.8):  49%|████▉     | 48/98 [00:15<00:14,  3.44it/s]"
     ]
    },
    {
     "name": "stdout",
     "output_type": "stream",
     "text": [
      "Searching hadith for \"كيف تتعلق الشريعة بطقوس العبادة؟\"\n",
      "Searching hadith for \"معاملة الإسلام للأقليات الدينية\"\n",
      "Searching quran for \"من هو النبي إبراهيم؟\"\n",
      "Searching hadith for \"هل انتشر الإسلام بالعنف والإكراه؟\"\n",
      "Searching al-mawsuah for \"ما هو الإسلام؟\"\n",
      "Searching hadith for \"لماذا يتم الاحتفال بشهر رمضان؟\"\n",
      "Searching al-mawsuah for \"متى رمضان؟\"\n",
      "Searching al-mawsuah for \"من هو عيسى في الفقه الإسلامي؟\"\n",
      "Searching al-mawsuah for \"معاملة الأقليات الدينية في الفقه الإسلامي\"\n",
      "Searching al-mawsuah for \"هل انتشر الإسلام بالعنف والإكراه؟\"\n",
      "Searching al-mawsuah for \"كيف تتعلق الشريعة بطقوس العبادة؟\"\n",
      "Searching hadith for \"من هو النبي إبراهيم؟\"\n",
      "Searching al-mawsuah for \"لماذا يتم الاحتفال بشهر رمضان؟\"\n"
     ]
    },
    {
     "name": "stderr",
     "output_type": "stream",
     "text": [
      "Average Metric: 386 / 49  (787.8):  50%|█████     | 49/98 [00:16<00:21,  2.29it/s]"
     ]
    },
    {
     "name": "stdout",
     "output_type": "stream",
     "text": [
      "Searching quran for \"ما هو زكاة الفطر؟\"\n"
     ]
    },
    {
     "name": "stderr",
     "output_type": "stream",
     "text": [
      "Average Metric: 402 / 51  (788.2):  51%|█████     | 50/98 [00:17<00:18,  2.55it/s]"
     ]
    },
    {
     "name": "stdout",
     "output_type": "stream",
     "text": [
      "Searching quran for \"هل يسمح الإسلام بقتل المدنيين؟\"\n",
      "Searching quran for \"ما هو الفقه؟\"\n",
      "Searching quran for \"كيف تتعلق الشريعة بالمجتمع؟\"\n"
     ]
    },
    {
     "name": "stderr",
     "output_type": "stream",
     "text": [
      "Average Metric: 428 / 54  (792.6):  55%|█████▌    | 54/98 [00:17<00:08,  5.06it/s]"
     ]
    },
    {
     "name": "stdout",
     "output_type": "stream",
     "text": [
      "Searching quran for \"أهمية الصدقة في رمضان\"\n",
      "Searching quran for \"القيود الغذائية في الإسلام\"\n",
      "Searching al-mawsuah for \"من هو النبي إبراهيم؟\"\n"
     ]
    },
    {
     "name": "stderr",
     "output_type": "stream",
     "text": [
      "Average Metric: 436 / 55  (792.7):  55%|█████▌    | 54/98 [00:17<00:08,  5.06it/s]"
     ]
    },
    {
     "name": "stdout",
     "output_type": "stream",
     "text": [
      "Searching quran for \"ما هو القرآن؟\"\n",
      "Searching hadith for \"ما هو زكاة الفطر؟\"\n",
      "Searching hadith for \"هل يسمح الإسلام بقتل المدنيين؟\"\n",
      "Searching hadith for \"كيف تتعلق الشريعة بالمجتمع؟\"\n",
      "Searching hadith for \"ما هو الفقه؟\"\n",
      "Searching hadith for \"فضل الصدقة في رمضان\"\n",
      "Searching hadith for \"القيود الغذائية في الإسلام\"\n"
     ]
    },
    {
     "name": "stderr",
     "output_type": "stream",
     "text": [
      "Average Metric: 442 / 56  (789.3):  57%|█████▋    | 56/98 [00:18<00:12,  3.35it/s]"
     ]
    },
    {
     "name": "stdout",
     "output_type": "stream",
     "text": [
      "Searching hadith for \"ما هو القرآن؟\"\n",
      "Searching quran for \"من بنى الكعبة؟\"\n",
      "Searching al-mawsuah for \"ما هو زكاة الفطر؟\"\n",
      "Searching al-mawsuah for \"هل يسمح الإسلام بقتل المدنيين؟\"\n",
      "Searching al-mawsuah for \"الصدقة في رمضان\"\n",
      "Searching al-mawsuah for \"كيف تتعلق الشريعة بالمجتمع؟\"\n",
      "Searching al-mawsuah for \"ما هو الفقه؟\"\n"
     ]
    },
    {
     "name": "stderr",
     "output_type": "stream",
     "text": [
      "Average Metric: 446 / 57  (782.5):  58%|█████▊    | 57/98 [00:19<00:16,  2.48it/s]"
     ]
    },
    {
     "name": "stdout",
     "output_type": "stream",
     "text": [
      "Searching al-mawsuah for \"القيود الغذائية في الإسلام\"\n",
      "Searching al-mawsuah for \"ما هو القرآن؟\"\n",
      "Searching hadith for \"من بنى الكعبة؟\"\n",
      "Searching quran for \"من أين تأتي الشريعة؟\"\n"
     ]
    },
    {
     "name": "stderr",
     "output_type": "stream",
     "text": [
      "Average Metric: 452 / 58  (779.3):  58%|█████▊    | 57/98 [00:19<00:16,  2.48it/s]"
     ]
    },
    {
     "name": "stdout",
     "output_type": "stream",
     "text": [
      "Searching quran for \"كيف يغذي الإسلام رفاهنا العاطفي؟\"\n"
     ]
    },
    {
     "name": "stderr",
     "output_type": "stream",
     "text": [
      "Average Metric: 476 / 61  (780.3):  62%|██████▏   | 61/98 [00:19<00:08,  4.22it/s]"
     ]
    },
    {
     "name": "stdout",
     "output_type": "stream",
     "text": [
      "Searching quran for \"كيفية أداء العمرة\"\n",
      "Searching quran for \"آيات القرآن للتعامل مع الضيق والشدائد\"\n",
      "Searching quran for \"هل يقول القرآن بقتل غير المؤمنين؟\"\n"
     ]
    },
    {
     "name": "stderr",
     "output_type": "stream",
     "text": [
      "Average Metric: 496 / 63  (787.3):  63%|██████▎   | 62/98 [00:19<00:08,  4.49it/s]"
     ]
    },
    {
     "name": "stdout",
     "output_type": "stream",
     "text": [
      "Searching quran for \"هل التجديف يعاقب عليه بالإعدام؟\"\n",
      "Searching quran for \"هل يسمح الإسلام بقتل المدنيين؟\"\n",
      "Searching al-mawsuah for \"من بنى الكعبة؟\"\n",
      "Searching hadith for \"من أين تأتي الشريعة؟\"\n",
      "Searching hadith for \"كيف يغذي الإسلام رفاهنا العاطفي؟\"\n",
      "Searching hadith for \"كيفية أداء العمرة\"\n",
      "Searching hadith for \"أحاديث عن التعامل مع الضيق والشدائد\"\n",
      "Searching hadith for \"هل يوجد حديث يأمر بقتل غير المؤمنين؟\"\n",
      "Searching hadith for \"هل التجديف يعاقب عليه بالإعدام؟\"\n",
      "Searching hadith for \"هل يسمح الإسلام بقتل المدنيين؟\"\n"
     ]
    },
    {
     "name": "stderr",
     "output_type": "stream",
     "text": [
      "Average Metric: 504 / 64  (787.5):  65%|██████▌   | 64/98 [00:20<00:11,  3.03it/s]"
     ]
    },
    {
     "name": "stdout",
     "output_type": "stream",
     "text": [
      "Searching al-mawsuah for \"مصادر الشريعة الإسلامية\"\n",
      "Searching quran for \"ما معنى الإسلام؟\"\n",
      "Searching al-mawsuah for \"كيف يغذي الإسلام رفاهنا العاطفي؟\"\n",
      "Searching al-mawsuah for \"كيفية أداء العمرة\"\n",
      "Searching al-mawsuah for \"أحكام الفقه الإسلامي حول التعامل مع الضيق والشدائد\"\n",
      "Searching al-mawsuah for \"ما هو حكم قتل غير المؤمنين في الفقه الإسلامي؟\"\n",
      "Searching al-mawsuah for \"هل يسمح الإسلام بقتل المدنيين؟\"\n",
      "Searching al-mawsuah for \"هل التجديف يعاقب عليه بالإعدام؟\"\n"
     ]
    },
    {
     "name": "stderr",
     "output_type": "stream",
     "text": [
      "Average Metric: 522 / 67  (779.1):  68%|██████▊   | 67/98 [00:21<00:09,  3.30it/s]"
     ]
    },
    {
     "name": "stdout",
     "output_type": "stream",
     "text": [
      "Searching quran for \"ما هو عيد الفطر؟\"\n",
      "Searching hadith for \"ما معنى الإسلام في الحديث؟\"\n",
      "Searching quran for \"لماذا الحج مهم؟\"\n",
      "Searching quran for \"كيفية أداء الحج\"\n"
     ]
    },
    {
     "name": "stderr",
     "output_type": "stream",
     "text": [
      "Average Metric: 532 / 68  (782.4):  69%|██████▉   | 68/98 [00:22<00:07,  3.81it/s]"
     ]
    },
    {
     "name": "stdout",
     "output_type": "stream",
     "text": [
      "Searching quran for \"هل يقول القرآن بقتل غير المؤمنين؟\"\n"
     ]
    },
    {
     "name": "stderr",
     "output_type": "stream",
     "text": [
      "Average Metric: 552 / 71  (777.5):  71%|███████▏  | 70/98 [00:22<00:07,  3.88it/s]"
     ]
    },
    {
     "name": "stdout",
     "output_type": "stream",
     "text": [
      "Searching quran for \"هل هناك استثناءات أو إعفاءات من الصيام؟\"\n",
      "Searching quran for \"ما هي العمرة؟\"\n",
      "Searching quran for \"هل انتشر الإسلام بالعنف والإكراه؟\"\n",
      "Searching hadith for \"أهمية الحج في الأحاديث\"\n",
      "Searching hadith for \"ما هو عيد الفطر؟\"\n",
      "Searching al-mawsuah for \"ما هو تعريف الإسلام في الفقه الإسلامي؟\"\n",
      "Searching hadith for \"كيفية أداء الحج\"\n",
      "Searching hadith for \"هل يوجد حديث يأمر بقتل غير المؤمنين؟\"\n",
      "Searching hadith for \"ما هي العمرة؟\"\n",
      "Searching hadith for \"هل انتشر الإسلام بالعنف والإكراه؟\"\n",
      "Searching hadith for \"هل هناك استثناءات أو إعفاءات من الصيام؟\"\n"
     ]
    },
    {
     "name": "stderr",
     "output_type": "stream",
     "text": [
      "Average Metric: 560 / 72  (777.8):  73%|███████▎  | 72/98 [00:23<00:08,  2.97it/s]"
     ]
    },
    {
     "name": "stdout",
     "output_type": "stream",
     "text": [
      "Searching al-mawsuah for \"أهمية الحج في الفقه الإسلامي\"\n",
      "Searching al-mawsuah for \"ما هو عيد الفطر؟\"\n",
      "Searching al-mawsuah for \"كيفية أداء الحج\"\n",
      "Searching quran for \"هل العمرة والحج نفس الشيء؟\"\n",
      "Searching al-mawsuah for \"ما هو حكم قتل غير المؤمنين في الفقه الإسلامي؟\"\n",
      "Searching al-mawsuah for \"هل انتشر الإسلام بالعنف والإكراه؟\"\n",
      "Searching al-mawsuah for \"ما هي العمرة؟\"\n"
     ]
    },
    {
     "name": "stderr",
     "output_type": "stream",
     "text": [
      "Average Metric: 566 / 73  (775.3):  73%|███████▎  | 72/98 [00:24<00:08,  2.97it/s]"
     ]
    },
    {
     "name": "stdout",
     "output_type": "stream",
     "text": [
      "Searching al-mawsuah for \"هل هناك استثناءات أو إعفاءات من الصيام؟\"\n",
      "Searching quran for \"ماذا يؤمن المسلمون؟\"\n"
     ]
    },
    {
     "name": "stderr",
     "output_type": "stream",
     "text": [
      "Average Metric: 582 / 76  (765.8):  78%|███████▊  | 76/98 [00:24<00:05,  3.90it/s]"
     ]
    },
    {
     "name": "stdout",
     "output_type": "stream",
     "text": [
      "Searching quran for \"هل الشريعة موحدة وغير متغيرة؟\"\n",
      "Searching quran for \"ما هي الصدقة؟\"\n",
      "Searching hadith for \"هل العمرة والحج نفس الشيء؟\"\n",
      "Searching quran for \"صلاة التراويح\"\n"
     ]
    },
    {
     "name": "stderr",
     "output_type": "stream",
     "text": [
      "Average Metric: 600 / 78  (769.2):  80%|███████▉  | 78/98 [00:24<00:04,  4.42it/s]"
     ]
    },
    {
     "name": "stdout",
     "output_type": "stream",
     "text": [
      "Searching quran for \"ما هو التوحيد؟\"\n",
      "Searching quran for \"ما معنى الجهاد؟\"\n"
     ]
    },
    {
     "name": "stderr",
     "output_type": "stream",
     "text": [
      "Average Metric: 612 / 79  (774.7):  81%|████████  | 79/98 [00:24<00:04,  4.59it/s]"
     ]
    },
    {
     "name": "stdout",
     "output_type": "stream",
     "text": [
      "Searching quran for \"كيف يتناول الإسلام القدر والإرادة الحرة؟\"\n",
      "Searching al-mawsuah for \"هل العمرة والحج نفس الشيء؟\"\n",
      "Searching hadith for \"هل الشريعة موحدة وغير متغيرة؟\"\n",
      "Searching hadith for \"ماذا يؤمن المسلمون؟\"\n",
      "Searching hadith for \"صلاة التراويح\"\n",
      "Searching hadith for \"ما هي الصدقة؟\"\n",
      "Searching hadith for \"ما هو التوحيد؟\"\n",
      "Searching hadith for \"ما معنى الجهاد؟\"\n"
     ]
    },
    {
     "name": "stderr",
     "output_type": "stream",
     "text": [
      "Average Metric: 620 / 80  (775.0):  82%|████████▏ | 80/98 [00:25<00:06,  2.89it/s]"
     ]
    },
    {
     "name": "stdout",
     "output_type": "stream",
     "text": [
      "Searching quran for \"الطلاق في الإسلام\"\n",
      "Searching hadith for \"كيف يتناول الإسلام القدر والإرادة الحرة؟\"\n",
      "Searching al-mawsuah for \"ماذا يؤمن المسلمون؟\"\n",
      "Searching al-mawsuah for \"هل الشريعة موحدة وغير متغيرة؟\"\n",
      "Searching al-mawsuah for \"ما هي الصدقة؟\"\n",
      "Searching al-mawsuah for \"صلاة التراويح\"\n",
      "Searching al-mawsuah for \"ما هو التوحيد؟\"\n",
      "Searching al-mawsuah for \"ما معنى الجهاد؟\"\n"
     ]
    },
    {
     "name": "stderr",
     "output_type": "stream",
     "text": [
      "Average Metric: 634 / 82  (773.2):  83%|████████▎ | 81/98 [00:26<00:08,  2.04it/s]"
     ]
    },
    {
     "name": "stdout",
     "output_type": "stream",
     "text": [
      "Searching hadith for \"حديث عن الطلاق\"\n",
      "Searching al-mawsuah for \"كيف يتناول الإسلام القدر والإرادة الحرة؟\"\n",
      "Searching quran for \"ما هي الأعياد التي يحتفل بها المسلمون؟\"\n",
      "Searching quran for \"هل الوسواس القهري نتيجة وساوس الشيطان؟\"\n"
     ]
    },
    {
     "name": "stderr",
     "output_type": "stream",
     "text": [
      "Average Metric: 644 / 84  (766.7):  85%|████████▍ | 83/98 [00:26<00:04,  3.16it/s]"
     ]
    },
    {
     "name": "stdout",
     "output_type": "stream",
     "text": [
      "Searching quran for \"كيف نعرف أن الله موجود؟\"\n",
      "Searching quran for \"تاريخ الشريعة\"\n"
     ]
    },
    {
     "name": "stderr",
     "output_type": "stream",
     "text": [
      "Average Metric: 658 / 86  (765.1):  87%|████████▋ | 85/98 [00:27<00:03,  3.91it/s]"
     ]
    },
    {
     "name": "stdout",
     "output_type": "stream",
     "text": [
      "Searching quran for \"هل يسمح الإسلام بالحرب الوقائية؟\"\n",
      "Searching quran for \"الوحي في الإسلام\"\n",
      "Searching al-mawsuah for \"الطلاق في الفقه الإسلامي\"\n"
     ]
    },
    {
     "name": "stderr",
     "output_type": "stream",
     "text": [
      "Average Metric: 662 / 87  (760.9):  89%|████████▉ | 87/98 [00:27<00:02,  4.55it/s]"
     ]
    },
    {
     "name": "stdout",
     "output_type": "stream",
     "text": [
      "Searching quran for \"هل الإسلام يشجع على العنف؟\"\n",
      "Searching hadith for \"ما هي الأعياد التي يحتفل بها المسلمون؟\"\n",
      "Searching hadith for \"هل الوسواس القهري نتيجة وساوس الشيطان؟\"\n",
      "Searching hadith for \"كيف نعرف أن الله موجود؟\"\n",
      "Searching hadith for \"تاريخ الشريعة\"\n"
     ]
    },
    {
     "name": "stderr",
     "output_type": "stream",
     "text": [
      "Average Metric: 670 / 88  (761.4):  90%|████████▉ | 88/98 [00:28<00:03,  3.15it/s]"
     ]
    },
    {
     "name": "stdout",
     "output_type": "stream",
     "text": [
      "Searching hadith for \"هل يسمح الإسلام بالحرب الوقائية؟\"\n",
      "Searching hadith for \"الوحي في الإسلام\"\n",
      "Searching quran for \"ما هي أهمية الحج؟\"\n",
      "Searching hadith for \"هل الإسلام يشجع على العنف؟\"\n",
      "Searching al-mawsuah for \"ما هي الأعياد التي يحتفل بها المسلمون؟\"\n",
      "Searching al-mawsuah for \"هل الوسواس القهري نتيجة وساوس الشيطان؟\"\n",
      "Searching al-mawsuah for \"تاريخ الشريعة\"\n",
      "Searching al-mawsuah for \"كيف نعرف أن الله موجود؟\"\n",
      "Searching al-mawsuah for \"الوحي في الإسلام\"\n",
      "Searching al-mawsuah for \"هل يسمح الإسلام بالحرب الوقائية؟\"\n"
     ]
    },
    {
     "name": "stderr",
     "output_type": "stream",
     "text": [
      "Average Metric: 684 / 90  (760.0):  91%|█████████ | 89/98 [00:29<00:04,  2.18it/s]"
     ]
    },
    {
     "name": "stdout",
     "output_type": "stream",
     "text": [
      "Searching hadith for \"ما هي أهمية الحج؟\"\n",
      "Searching al-mawsuah for \"هل الإسلام يشجع على العنف؟\"\n",
      "Searching quran for \"لماذا يطلب الله من الناس عبادته؟\"\n",
      "Searching quran for \"هل يؤمن المسلمون بصلب عيسى؟\"\n"
     ]
    },
    {
     "name": "stderr",
     "output_type": "stream",
     "text": [
      "Average Metric: 724 / 95  (762.1):  97%|█████████▋| 95/98 [00:29<00:00,  4.66it/s]"
     ]
    },
    {
     "name": "stdout",
     "output_type": "stream",
     "text": [
      "Searching al-mawsuah for \"ما هي أهمية الحج؟\"\n",
      "Searching hadith for \"هل ورد في الأحاديث أن المسلمين يؤمنون بصلب عيسى؟\"\n",
      "Searching hadith for \"لماذا يطلب الله من الناس عبادته؟\"\n"
     ]
    },
    {
     "name": "stderr",
     "output_type": "stream",
     "text": [
      "Average Metric: 734 / 96  (764.6):  98%|█████████▊| 96/98 [00:30<00:00,  2.99it/s]"
     ]
    },
    {
     "name": "stdout",
     "output_type": "stream",
     "text": [
      "Searching al-mawsuah for \"موقف الفقه الإسلامي من صلب عيسى\"\n",
      "Searching al-mawsuah for \"لماذا يطلب الله من الناس عبادته؟\"\n"
     ]
    },
    {
     "name": "stderr",
     "output_type": "stream",
     "text": [
      "Average Metric: 748 / 98  (763.3): 100%|██████████| 98/98 [00:31<00:00,  3.09it/s]\n"
     ]
    },
    {
     "name": "stdout",
     "output_type": "stream",
     "text": [
      "Searching quran for \"من يجب عليه أداء الحج؟\"\n",
      "Searching quran for \"هل يسمح الإسلام بجرائم الشرف؟\"\n",
      "Searching quran for \"أين الكعبة؟\"\n",
      "Searching quran for \"هل يصوم المسلمون خارج رمضان؟\"\n",
      "Searching quran for \"هل يقدم القرآن توجيهات حول كيفية التعامل مع الصدمة والألم؟\"\n",
      "Searching quran for \"ما هي الفتوى؟\"\n",
      "Searching quran for \"ما معنى حلال؟\"\n",
      "Searching quran for \"هل الردة يعاقب عليها بالإعدام في الإسلام؟\"\n"
     ]
    },
    {
     "name": "stderr",
     "output_type": "stream",
     "text": [
      "  0%|          | 0/98 [00:00<?, ?it/s]"
     ]
    },
    {
     "name": "stdout",
     "output_type": "stream",
     "text": [
      "Searching hadith for \"من يجب عليه أداء الحج؟\"\n",
      "Searching hadith for \"أين الكعبة؟\"\n",
      "Searching hadith for \"ما هي الفتوى؟\"\n",
      "Searching hadith for \"هل يصوم المسلمون خارج رمضان؟\"\n",
      "Searching hadith for \"ما معنى حلال؟\"\n",
      "Searching hadith for \"هل يعاقب المرتد بالإعدام في الإسلام؟\"\n",
      "Searching hadith for \"هل توجد أحاديث تتعلق بجرائم الشرف؟\"\n",
      "Searching hadith for \"هل تقدم السنة النبوية توجيهات حول كيفية التعامل مع الصدمة والألم؟\"\n",
      "Searching al-mawsuah for \"من يجب عليه أداء الحج؟\"\n",
      "Searching al-mawsuah for \"ما هو حكم الفقه الإسلامي في جرائم الشرف؟\"\n",
      "Searching al-mawsuah for \"أين الكعبة؟\"\n",
      "Searching al-mawsuah for \"ما هي الفتوى؟\"\n",
      "Searching al-mawsuah for \"هل يصوم المسلمون خارج رمضان؟\"\n",
      "Searching al-mawsuah for \"ما معنى حلال؟\"\n",
      "Searching al-mawsuah for \"كيفية التعامل مع الصدمة والألم في الفقه الإسلامي\"\n",
      "Searching al-mawsuah for \"حكم الردة في الفقه الإسلامي\"\n"
     ]
    },
    {
     "name": "stderr",
     "output_type": "stream",
     "text": [
      "Average Metric: 22 / 3  (733.3):   3%|▎         | 3/98 [00:02<01:03,  1.49it/s]"
     ]
    },
    {
     "name": "stdout",
     "output_type": "stream",
     "text": [
      "Searching quran for \"ما هو رمضان؟\"\n",
      "Searching quran for \"هل الإسلام يشجع على العنف؟\"\n",
      "Searching quran for \"كيف يصف القرآن السعادة؟ كيف يمكن تحقيقها في الإسلام؟\"\n",
      "Searching quran for \"أهمية ليلة القدر\"\n",
      "Searching quran for \"هل يسمح الإسلام بالحرب الوقائية؟\"\n"
     ]
    },
    {
     "name": "stderr",
     "output_type": "stream",
     "text": [
      "Average Metric: 64 / 8  (800.0):   7%|▋         | 7/98 [00:02<00:21,  4.30it/s]"
     ]
    },
    {
     "name": "stdout",
     "output_type": "stream",
     "text": [
      "Searching quran for \"هل يوفر الإسلام إرشادات حول كيفية التعامل مع الأمراض النفسية؟\"\n",
      "Searching quran for \"ما هو رمضان؟\"\n",
      "Searching quran for \"لماذا يصلي المسلمون يوميا؟\"\n",
      "Searching hadith for \"ما هو رمضان؟\"\n",
      "Searching hadith for \"هل الإسلام يشجع على العنف؟\"\n",
      "Searching hadith for \"هل يسمح الإسلام بالحرب الوقائية؟\"\n",
      "Searching hadith for \"فضل ليلة القدر\"\n",
      "Searching hadith for \"لماذا يصلي المسلمون يوميا؟\"\n",
      "Searching hadith for \"ما هو رمضان؟\"\n",
      "Searching hadith for \"هل هناك أحاديث تتحدث عن كيفية التعامل مع الأمراض النفسية؟\"\n",
      "Searching hadith for \"كيف يصف الحديث السعادة؟ كيف يمكن تحقيقها في الإسلام؟\"\n",
      "Searching al-mawsuah for \"ما هو رمضان؟\"\n",
      "Searching al-mawsuah for \"هل الإسلام يشجع على العنف؟\"\n",
      "Searching al-mawsuah for \"ما هو رمضان؟\"\n",
      "Searching al-mawsuah for \"أهمية ليلة القدر في الفقه الإسلامي\"\n",
      "Searching al-mawsuah for \"إرشادات الفقه الإسلامي حول التعامل مع الأمراض النفسية\"\n",
      "Searching al-mawsuah for \"السعادة في الفقه الإسلامي وكيفية تحقيقها\"\n",
      "Searching al-mawsuah for \"هل يسمح الإسلام بالحرب الوقائية؟\"\n",
      "Searching al-mawsuah for \"لماذا يصلي المسلمون يوميا؟\"\n"
     ]
    },
    {
     "name": "stderr",
     "output_type": "stream",
     "text": [
      "Average Metric: 104 / 14  (742.9):  14%|█▍        | 14/98 [00:04<00:21,  3.87it/s]"
     ]
    },
    {
     "name": "stdout",
     "output_type": "stream",
     "text": [
      "Searching quran for \"كيف تصوم رمضان؟\"\n",
      "Searching quran for \"كيف نعلم أن القرآن وحي إلهي؟\"\n",
      "Searching quran for \"من يجب عليه الصيام في رمضان؟\"\n",
      "Searching quran for \"هل التجديف يعاقب عليه بالإعدام؟\"\n",
      "Searching quran for \"ما هو الغرض من الصيام في رمضان؟\"\n",
      "Searching quran for \"ماذا يقدم الإسلام للناس؟\"\n"
     ]
    },
    {
     "name": "stderr",
     "output_type": "stream",
     "text": [
      "Average Metric: 114 / 16  (712.5):  15%|█▌        | 15/98 [00:05<00:21,  3.87it/s]"
     ]
    },
    {
     "name": "stdout",
     "output_type": "stream",
     "text": [
      "Searching quran for \"مدة الصيام في رمضان\"\n",
      "Searching quran for \"كيف يُساء تفسير الجهاد كإرهاب؟\"\n",
      "Searching hadith for \"كيف تصوم رمضان؟\"\n",
      "Searching hadith for \"كيف نعلم أن القرآن وحي إلهي؟\"\n",
      "Searching hadith for \"هل التجديف يعاقب عليه بالإعدام؟\"\n",
      "Searching hadith for \"من يجب عليه الصيام في رمضان؟\"\n",
      "Searching hadith for \"ماذا يقدم الإسلام للناس؟\"\n",
      "Searching hadith for \"ما هو الغرض من الصيام في رمضان؟\"\n",
      "Searching hadith for \"مدة الصيام في رمضان\"\n",
      "Searching hadith for \"كيف يُساء تفسير الجهاد كإرهاب؟\"\n",
      "Searching al-mawsuah for \"كيف تصوم رمضان؟\"\n",
      "Searching al-mawsuah for \"كيف نعلم أن القرآن وحي إلهي؟\"\n",
      "Searching al-mawsuah for \"من يجب عليه الصيام في رمضان؟\"\n",
      "Searching al-mawsuah for \"ما هو الغرض من الصيام في رمضان؟\"\n",
      "Searching al-mawsuah for \"هل التجديف يعاقب عليه بالإعدام؟\"\n",
      "Searching al-mawsuah for \"ماذا يقدم الإسلام للناس؟\"\n",
      "Searching al-mawsuah for \"مدة الصيام في رمضان\"\n",
      "Searching al-mawsuah for \"كيف يُساء تفسير الجهاد كإرهاب؟\"\n"
     ]
    },
    {
     "name": "stderr",
     "output_type": "stream",
     "text": [
      "Average Metric: 132 / 18  (733.3):  17%|█▋        | 17/98 [00:07<00:32,  2.49it/s]"
     ]
    },
    {
     "name": "stdout",
     "output_type": "stream",
     "text": [
      "Searching quran for \"كيف يُساء تفسير الجهاد كإرهاب؟\"\n",
      "Searching quran for \"أركان الإسلام الخمسة\"\n"
     ]
    },
    {
     "name": "stderr",
     "output_type": "stream",
     "text": [
      "Average Metric: 156 / 21  (742.9):  21%|██▏       | 21/98 [00:07<00:20,  3.74it/s]"
     ]
    },
    {
     "name": "stdout",
     "output_type": "stream",
     "text": [
      "Searching quran for \"كيف يعامل الإسلام الأقليات الدينية؟\"\n",
      "Searching quran for \"ليلة القدر\"\n",
      "Searching quran for \"من هو الله\"\n"
     ]
    },
    {
     "name": "stderr",
     "output_type": "stream",
     "text": [
      "Average Metric: 182 / 24  (758.3):  23%|██▎       | 23/98 [00:07<00:16,  4.68it/s]"
     ]
    },
    {
     "name": "stdout",
     "output_type": "stream",
     "text": [
      "Searching quran for \"هل يؤمن المسلمون بالروح القدس؟\"\n",
      "Searching quran for \"هل يؤمن المسلمون بالجنة والنار؟\"\n",
      "Searching quran for \"ما معنى الجهاد؟\"\n",
      "Searching hadith for \"كيف يُساء تفسير الجهاد كإرهاب؟\"\n",
      "Searching hadith for \"أركان الإسلام الخمسة\"\n",
      "Searching hadith for \"معاملة الإسلام للأقليات الدينية\"\n",
      "Searching hadith for \"ما هي ليلة القدر\"\n",
      "Searching hadith for \"من هو الله\"\n",
      "Searching hadith for \"هل ذكر الروح القدس في الأحاديث؟\"\n",
      "Searching hadith for \"ما معنى الجهاد؟\"\n",
      "Searching hadith for \"هل ذكر النبي الجنة والنار؟\"\n",
      "Searching al-mawsuah for \"كيف يُساء تفسير الجهاد كإرهاب؟\"\n",
      "Searching al-mawsuah for \"أركان الإسلام الخمسة\"\n",
      "Searching al-mawsuah for \"ليلة القدر في الفقه الإسلامي\"\n",
      "Searching al-mawsuah for \"معاملة الأقليات الدينية في الفقه الإسلامي\"\n",
      "Searching al-mawsuah for \"ما معنى الجهاد؟\"\n",
      "Searching al-mawsuah for \"الإيمان بالروح القدس في الفقه الإسلامي\"\n",
      "Searching al-mawsuah for \"من هو الله\"\n",
      "Searching al-mawsuah for \"الإيمان بالجنة والنار في الفقه الإسلامي\"\n"
     ]
    },
    {
     "name": "stderr",
     "output_type": "stream",
     "text": [
      "Average Metric: 192 / 25  (768.0):  26%|██▌       | 25/98 [00:09<00:29,  2.44it/s]"
     ]
    },
    {
     "name": "stdout",
     "output_type": "stream",
     "text": [
      "Searching quran for \"أين يحدث الحج؟\"\n"
     ]
    },
    {
     "name": "stderr",
     "output_type": "stream",
     "text": [
      "Average Metric: 222 / 29  (765.5):  29%|██▊       | 28/98 [00:09<00:19,  3.59it/s]"
     ]
    },
    {
     "name": "stdout",
     "output_type": "stream",
     "text": [
      "Searching quran for \"أحكام الحرب في الإسلام\"\n",
      "Searching quran for \"متى ليلة القدر؟\"\n",
      "Searching quran for \"كم مرة يصلي المسلمون خلال رمضان؟\"\n",
      "Searching quran for \"لماذا الكعبة مهمة؟\"\n"
     ]
    },
    {
     "name": "stderr",
     "output_type": "stream",
     "text": [
      "Average Metric: 250 / 32  (781.2):  32%|███▏      | 31/98 [00:10<00:16,  4.17it/s]"
     ]
    },
    {
     "name": "stdout",
     "output_type": "stream",
     "text": [
      "Searching quran for \"لماذا يجب على المسلمين الصيام لمدة شهر كامل؟\"\n",
      "Searching quran for \"كيف يمكن فهم والتعامل مع الحزن والأسى في الإسلام؟\"\n",
      "Searching quran for \"كيف يمكن للمرء أن يطهر قلبه وروحه؟\"\n",
      "Searching hadith for \"أين يحدث الحج؟\"\n",
      "Searching hadith for \"أحاديث عن أحكام الحرب في الإسلام\"\n",
      "Searching hadith for \"متى ليلة القدر؟\"\n",
      "Searching hadith for \"كم مرة يصلي المسلمون خلال رمضان؟\"\n",
      "Searching hadith for \"لماذا الكعبة مهمة؟\"\n",
      "Searching hadith for \"لماذا يجب على المسلمين الصيام لمدة شهر كامل؟\"\n",
      "Searching hadith for \"كيف يمكن للمرء أن يطهر قلبه وروحه؟\"\n",
      "Searching hadith for \"كيف يمكن فهم والتعامل مع الحزن والأسى في الإسلام؟\"\n",
      "Searching al-mawsuah for \"أين يحدث الحج؟\"\n",
      "Searching al-mawsuah for \"متى ليلة القدر؟\"\n",
      "Searching al-mawsuah for \"أحكام الحرب في الفقه الإسلامي\"\n",
      "Searching al-mawsuah for \"كم مرة يصلي المسلمون خلال رمضان؟\"\n",
      "Searching al-mawsuah for \"أهمية الكعبة في الفقه الإسلامي\"\n",
      "Searching al-mawsuah for \"لماذا يجب على المسلمين الصيام لمدة شهر كامل؟\"\n",
      "Searching al-mawsuah for \"كيف يمكن للمرء أن يطهر قلبه وروحه؟\"\n",
      "Searching al-mawsuah for \"كيف يمكن فهم والتعامل مع الحزن والأسى في الإسلام؟\"\n"
     ]
    },
    {
     "name": "stderr",
     "output_type": "stream",
     "text": [
      "Average Metric: 270 / 34  (794.1):  34%|███▎      | 33/98 [00:11<00:25,  2.59it/s]"
     ]
    },
    {
     "name": "stdout",
     "output_type": "stream",
     "text": [
      "Searching quran for \"ما هي الكعبة؟\"\n",
      "Searching quran for \"من هو النبي محمد؟\"\n"
     ]
    },
    {
     "name": "stderr",
     "output_type": "stream",
     "text": [
      "Average Metric: 286 / 36  (794.4):  36%|███▌      | 35/98 [00:12<00:19,  3.19it/s]"
     ]
    },
    {
     "name": "stdout",
     "output_type": "stream",
     "text": [
      "Searching quran for \"ما هي التزكية؟\"\n",
      "Searching quran for \"أحكام الحرب في الإسلام\"\n"
     ]
    },
    {
     "name": "stderr",
     "output_type": "stream",
     "text": [
      "Average Metric: 310 / 39  (794.9):  39%|███▉      | 38/98 [00:12<00:14,  4.04it/s]"
     ]
    },
    {
     "name": "stdout",
     "output_type": "stream",
     "text": [
      "Searching quran for \"ما الذي يعلمه الإسلام عن إدارة القلق والاكتئاب والشك الذاتي؟\"\n"
     ]
    },
    {
     "name": "stderr",
     "output_type": "stream",
     "text": [
      "Average Metric: 320 / 40  (800.0):  40%|███▉      | 39/98 [00:12<00:14,  4.04it/s]"
     ]
    },
    {
     "name": "stdout",
     "output_type": "stream",
     "text": [
      "Searching quran for \"كيف يفهم الإسلام الروح\"\n",
      "Searching quran for \"أين تؤدى العمرة؟\"\n",
      "Searching quran for \"كيف تكون الروحانية الإسلامية فريدة؟\"\n",
      "Searching hadith for \"ما هي الكعبة؟\"\n",
      "Searching hadith for \"من هو النبي محمد؟\"\n",
      "Searching hadith for \"ما هي التزكية؟\"\n",
      "Searching hadith for \"أحاديث عن أحكام الحرب في الإسلام\"\n",
      "Searching hadith for \"ما الذي يعلمه الإسلام عن إدارة القلق والاكتئاب والشك الذاتي؟\"\n",
      "Searching hadith for \"كيف تكون الروحانية الإسلامية فريدة؟\"\n",
      "Searching hadith for \"فهم الروح في الإسلام\"\n",
      "Searching al-mawsuah for \"ما هي الكعبة؟\"\n",
      "Searching al-mawsuah for \"ما هي التزكية؟\"\n",
      "Searching al-mawsuah for \"من هو النبي محمد؟\"\n",
      "Searching hadith for \"أين تؤدى العمرة؟\"\n",
      "Searching al-mawsuah for \"أحكام الحرب في الفقه الإسلامي\"\n",
      "Searching al-mawsuah for \"ما الذي يعلمه الإسلام عن إدارة القلق والاكتئاب والشك الذاتي؟\"\n",
      "Searching al-mawsuah for \"كيف تكون الروحانية الإسلامية فريدة؟\"\n"
     ]
    },
    {
     "name": "stderr",
     "output_type": "stream",
     "text": [
      "Average Metric: 336 / 42  (800.0):  42%|████▏     | 41/98 [00:14<00:23,  2.43it/s]"
     ]
    },
    {
     "name": "stdout",
     "output_type": "stream",
     "text": [
      "Searching al-mawsuah for \"الروح في الفقه الإسلامي\"\n",
      "Searching quran for \"من هو عيسى في الإسلام؟\"\n",
      "Searching quran for \"ما هو الإسلام؟\"\n"
     ]
    },
    {
     "name": "stderr",
     "output_type": "stream",
     "text": [
      "Average Metric: 354 / 44  (804.5):  45%|████▍     | 44/98 [00:14<00:15,  3.54it/s]"
     ]
    },
    {
     "name": "stdout",
     "output_type": "stream",
     "text": [
      "Searching quran for \"متى رمضان؟\"\n",
      "Searching quran for \"كيف يعامل الإسلام الأقليات الدينية؟\"\n"
     ]
    },
    {
     "name": "stderr",
     "output_type": "stream",
     "text": [
      "Average Metric: 364 / 46  (791.3):  46%|████▌     | 45/98 [00:14<00:14,  3.72it/s]"
     ]
    },
    {
     "name": "stdout",
     "output_type": "stream",
     "text": [
      "Searching quran for \"كيف تتعلق الشريعة بطقوس العبادة؟\"\n",
      "Searching quran for \"هل انتشر الإسلام بالعنف والإكراه؟\"\n",
      "Searching al-mawsuah for \"أين تؤدى العمرة؟\"\n"
     ]
    },
    {
     "name": "stderr",
     "output_type": "stream",
     "text": [
      "Average Metric: 374 / 47  (795.7):  48%|████▊     | 47/98 [00:15<00:10,  4.66it/s]"
     ]
    },
    {
     "name": "stdout",
     "output_type": "stream",
     "text": [
      "Searching quran for \"لماذا يتم الاحتفال بشهر رمضان؟\"\n",
      "Searching hadith for \"من هو عيسى في الأحاديث؟\"\n",
      "Searching hadith for \"ما هو الإسلام؟\"\n",
      "Searching hadith for \"متى رمضان؟\"\n",
      "Searching hadith for \"معاملة الإسلام للأقليات الدينية\"\n",
      "Searching hadith for \"كيف تتعلق الشريعة بطقوس العبادة؟\"\n",
      "Searching hadith for \"هل انتشر الإسلام بالعنف والإكراه؟\"\n"
     ]
    },
    {
     "name": "stderr",
     "output_type": "stream",
     "text": [
      "Average Metric: 382 / 48  (795.8):  49%|████▉     | 48/98 [00:15<00:15,  3.20it/s]"
     ]
    },
    {
     "name": "stdout",
     "output_type": "stream",
     "text": [
      "Searching quran for \"من هو النبي إبراهيم؟\"\n",
      "Searching hadith for \"لماذا يتم الاحتفال بشهر رمضان؟\"\n",
      "Searching al-mawsuah for \"ما هو الإسلام؟\"\n",
      "Searching al-mawsuah for \"متى رمضان؟\"\n",
      "Searching al-mawsuah for \"من هو عيسى في الفقه الإسلامي؟\"\n",
      "Searching al-mawsuah for \"معاملة الأقليات الدينية في الفقه الإسلامي\"\n",
      "Searching al-mawsuah for \"كيف تتعلق الشريعة بطقوس العبادة؟\"\n",
      "Searching al-mawsuah for \"هل انتشر الإسلام بالعنف والإكراه؟\"\n",
      "Searching al-mawsuah for \"لماذا يتم الاحتفال بشهر رمضان؟\"\n",
      "Searching hadith for \"من هو النبي إبراهيم؟\"\n"
     ]
    },
    {
     "name": "stderr",
     "output_type": "stream",
     "text": [
      "Average Metric: 392 / 50  (784.0):  50%|█████     | 49/98 [00:16<00:23,  2.12it/s]"
     ]
    },
    {
     "name": "stdout",
     "output_type": "stream",
     "text": [
      "Searching quran for \"ما هو زكاة الفطر؟\"\n",
      "Searching quran for \"هل يسمح الإسلام بقتل المدنيين؟\"\n"
     ]
    },
    {
     "name": "stderr",
     "output_type": "stream",
     "text": [
      "Average Metric: 428 / 54  (792.6):  55%|█████▌    | 54/98 [00:17<00:09,  4.85it/s]"
     ]
    },
    {
     "name": "stdout",
     "output_type": "stream",
     "text": [
      "Searching quran for \"ما هو الفقه؟\"\n",
      "Searching quran for \"كيف تتعلق الشريعة بالمجتمع؟\"\n",
      "Searching quran for \"أهمية الصدقة في رمضان\"\n",
      "Searching quran for \"القيود الغذائية في الإسلام\"\n"
     ]
    },
    {
     "name": "stderr",
     "output_type": "stream",
     "text": [
      "Average Metric: 436 / 55  (792.7):  55%|█████▌    | 54/98 [00:17<00:09,  4.85it/s]"
     ]
    },
    {
     "name": "stdout",
     "output_type": "stream",
     "text": [
      "Searching quran for \"ما هو القرآن؟\"\n",
      "Searching hadith for \"ما هو زكاة الفطر؟\"\n",
      "Searching al-mawsuah for \"من هو النبي إبراهيم؟\"\n",
      "Searching hadith for \"هل يسمح الإسلام بقتل المدنيين؟\"\n",
      "Searching hadith for \"كيف تتعلق الشريعة بالمجتمع؟\"\n",
      "Searching hadith for \"ما هو الفقه؟\"\n",
      "Searching hadith for \"القيود الغذائية في الإسلام\"\n",
      "Searching hadith for \"ما هو القرآن؟\"\n",
      "Searching hadith for \"فضل الصدقة في رمضان\"\n",
      "Searching al-mawsuah for \"ما هو زكاة الفطر؟\"\n",
      "Searching al-mawsuah for \"هل يسمح الإسلام بقتل المدنيين؟\"\n"
     ]
    },
    {
     "name": "stderr",
     "output_type": "stream",
     "text": [
      "Average Metric: 442 / 56  (789.3):  57%|█████▋    | 56/98 [00:18<00:14,  2.99it/s]"
     ]
    },
    {
     "name": "stdout",
     "output_type": "stream",
     "text": [
      "Searching quran for \"من بنى الكعبة؟\"\n",
      "Searching al-mawsuah for \"كيف تتعلق الشريعة بالمجتمع؟\"\n",
      "Searching al-mawsuah for \"ما هو الفقه؟\"\n",
      "Searching al-mawsuah for \"ما هو القرآن؟\"\n"
     ]
    },
    {
     "name": "stderr",
     "output_type": "stream",
     "text": [
      "Average Metric: 452 / 58  (779.3):  58%|█████▊    | 57/98 [00:19<00:15,  2.65it/s]"
     ]
    },
    {
     "name": "stdout",
     "output_type": "stream",
     "text": [
      "Searching al-mawsuah for \"القيود الغذائية في الإسلام\"\n",
      "Searching al-mawsuah for \"الصدقة في رمضان\"\n",
      "Searching quran for \"من أين تأتي الشريعة؟\"\n",
      "Searching quran for \"كيف يغذي الإسلام رفاهنا العاطفي؟\"\n",
      "Searching hadith for \"من بنى الكعبة؟\"\n"
     ]
    },
    {
     "name": "stderr",
     "output_type": "stream",
     "text": [
      "Average Metric: 480 / 61  (786.9):  62%|██████▏   | 61/98 [00:19<00:08,  4.12it/s]"
     ]
    },
    {
     "name": "stdout",
     "output_type": "stream",
     "text": [
      "Searching quran for \"كيفية أداء العمرة\"\n",
      "Searching quran for \"آيات القرآن للتعامل مع الضيق والشدائد\"\n",
      "Searching quran for \"هل يقول القرآن بقتل غير المؤمنين؟\"\n"
     ]
    },
    {
     "name": "stderr",
     "output_type": "stream",
     "text": [
      "Average Metric: 496 / 63  (787.3):  63%|██████▎   | 62/98 [00:19<00:08,  4.39it/s]"
     ]
    },
    {
     "name": "stdout",
     "output_type": "stream",
     "text": [
      "Searching quran for \"هل التجديف يعاقب عليه بالإعدام؟\"\n",
      "Searching quran for \"هل يسمح الإسلام بقتل المدنيين؟\"\n",
      "Searching hadith for \"كيف يغذي الإسلام رفاهنا العاطفي؟\"\n",
      "Searching hadith for \"من أين تأتي الشريعة؟\"\n",
      "Searching al-mawsuah for \"من بنى الكعبة؟\"\n",
      "Searching hadith for \"كيفية أداء العمرة\"\n",
      "Searching hadith for \"أحاديث عن التعامل مع الضيق والشدائد\"\n",
      "Searching hadith for \"هل يوجد حديث يأمر بقتل غير المؤمنين؟\"\n",
      "Searching hadith for \"هل التجديف يعاقب عليه بالإعدام؟\"\n",
      "Searching hadith for \"هل يسمح الإسلام بقتل المدنيين؟\"\n",
      "Searching al-mawsuah for \"كيف يغذي الإسلام رفاهنا العاطفي؟\"\n",
      "Searching al-mawsuah for \"مصادر الشريعة الإسلامية\"\n"
     ]
    },
    {
     "name": "stderr",
     "output_type": "stream",
     "text": [
      "Average Metric: 504 / 64  (787.5):  65%|██████▌   | 64/98 [00:21<00:12,  2.83it/s]"
     ]
    },
    {
     "name": "stdout",
     "output_type": "stream",
     "text": [
      "Searching quran for \"ما معنى الإسلام؟\"\n",
      "Searching al-mawsuah for \"كيفية أداء العمرة\"\n",
      "Searching al-mawsuah for \"أحكام الفقه الإسلامي حول التعامل مع الضيق والشدائد\"\n",
      "Searching al-mawsuah for \"ما هو حكم قتل غير المؤمنين في الفقه الإسلامي؟\"\n",
      "Searching al-mawsuah for \"هل يسمح الإسلام بقتل المدنيين؟\"\n",
      "Searching al-mawsuah for \"هل التجديف يعاقب عليه بالإعدام؟\"\n"
     ]
    },
    {
     "name": "stderr",
     "output_type": "stream",
     "text": [
      "Average Metric: 522 / 66  (790.9):  66%|██████▋   | 65/98 [00:21<00:13,  2.52it/s]"
     ]
    },
    {
     "name": "stdout",
     "output_type": "stream",
     "text": [
      "Searching quran for \"ما هو عيد الفطر؟\"\n",
      "Searching quran for \"لماذا الحج مهم؟\"\n",
      "Searching hadith for \"ما معنى الإسلام في الحديث؟\""
     ]
    },
    {
     "name": "stderr",
     "output_type": "stream",
     "text": [
      "Average Metric: 532 / 68  (782.4):  68%|██████▊   | 67/98 [00:21<00:09,  3.30it/s]"
     ]
    },
    {
     "name": "stdout",
     "output_type": "stream",
     "text": [
      "\n",
      "Searching quran for \"كيفية أداء الحج\"\n",
      "Searching quran for \"هل يقول القرآن بقتل غير المؤمنين؟\"\n"
     ]
    },
    {
     "name": "stderr",
     "output_type": "stream",
     "text": [
      "Average Metric: 552 / 71  (777.5):  72%|███████▏  | 71/98 [00:22<00:04,  5.41it/s]"
     ]
    },
    {
     "name": "stdout",
     "output_type": "stream",
     "text": [
      "Searching quran for \"هل هناك استثناءات أو إعفاءات من الصيام؟\"\n",
      "Searching quran for \"ما هي العمرة؟\"\n",
      "Searching quran for \"هل انتشر الإسلام بالعنف والإكراه؟\"\n",
      "Searching hadith for \"أهمية الحج في الأحاديث\"\n",
      "Searching hadith for \"ما هو عيد الفطر؟\"\n",
      "Searching hadith for \"كيفية أداء الحج\"\n",
      "Searching al-mawsuah for \"ما هو تعريف الإسلام في الفقه الإسلامي؟\"\n",
      "Searching hadith for \"هل يوجد حديث يأمر بقتل غير المؤمنين؟\"\n",
      "Searching hadith for \"هل هناك استثناءات أو إعفاءات من الصيام؟\"\n",
      "Searching hadith for \"ما هي العمرة؟\"\n",
      "Searching hadith for \"هل انتشر الإسلام بالعنف والإكراه؟\"\n",
      "Searching al-mawsuah for \"أهمية الحج في الفقه الإسلامي\"\n",
      "Searching al-mawsuah for \"كيفية أداء الحج\"\n",
      "Searching al-mawsuah for \"ما هو عيد الفطر؟\"\n",
      "Searching al-mawsuah for \"ما هو حكم قتل غير المؤمنين في الفقه الإسلامي؟\"\n"
     ]
    },
    {
     "name": "stderr",
     "output_type": "stream",
     "text": [
      "Average Metric: 560 / 72  (777.8):  73%|███████▎  | 72/98 [00:23<00:10,  2.40it/s]"
     ]
    },
    {
     "name": "stdout",
     "output_type": "stream",
     "text": [
      "Searching quran for \"هل العمرة والحج نفس الشيء؟\"\n",
      "Searching al-mawsuah for \"هل انتشر الإسلام بالعنف والإكراه؟\"\n",
      "Searching al-mawsuah for \"ما هي العمرة؟\"\n",
      "Searching al-mawsuah for \"هل هناك استثناءات أو إعفاءات من الصيام؟\"\n"
     ]
    },
    {
     "name": "stderr",
     "output_type": "stream",
     "text": [
      "Average Metric: 576 / 75  (768.0):  76%|███████▌  | 74/98 [00:24<00:10,  2.30it/s]"
     ]
    },
    {
     "name": "stdout",
     "output_type": "stream",
     "text": [
      "Searching quran for \"ماذا يؤمن المسلمون؟\"\n",
      "Searching quran for \"هل الشريعة موحدة وغير متغيرة؟\"\n",
      "Searching quran for \"ما هي الصدقة؟\"\n"
     ]
    },
    {
     "name": "stderr",
     "output_type": "stream",
     "text": [
      "Average Metric: 600 / 78  (769.2):  79%|███████▊  | 77/98 [00:24<00:05,  4.07it/s]"
     ]
    },
    {
     "name": "stdout",
     "output_type": "stream",
     "text": [
      "Searching quran for \"صلاة التراويح\"\n",
      "Searching hadith for \"هل العمرة والحج نفس الشيء؟\"\n",
      "Searching quran for \"ما هو التوحيد؟\"\n",
      "Searching quran for \"ما معنى الجهاد؟\"\n"
     ]
    },
    {
     "name": "stderr",
     "output_type": "stream",
     "text": [
      "Average Metric: 612 / 79  (774.7):  81%|████████  | 79/98 [00:24<00:03,  5.26it/s]"
     ]
    },
    {
     "name": "stdout",
     "output_type": "stream",
     "text": [
      "Searching quran for \"كيف يتناول الإسلام القدر والإرادة الحرة؟\"\n",
      "Searching hadith for \"هل الشريعة موحدة وغير متغيرة؟\"\n",
      "Searching hadith for \"ماذا يؤمن المسلمون؟\"\n",
      "Searching hadith for \"ما هي الصدقة؟\"\n",
      "Searching al-mawsuah for \"هل العمرة والحج نفس الشيء؟\"\n",
      "Searching hadith for \"صلاة التراويح\"\n",
      "Searching hadith for \"ما معنى الجهاد؟\"\n",
      "Searching hadith for \"ما هو التوحيد؟\"\n",
      "Searching hadith for \"كيف يتناول الإسلام القدر والإرادة الحرة؟\"\n"
     ]
    },
    {
     "name": "stderr",
     "output_type": "stream",
     "text": [
      "Average Metric: 620 / 80  (775.0):  82%|████████▏ | 80/98 [00:25<00:07,  2.55it/s]"
     ]
    },
    {
     "name": "stdout",
     "output_type": "stream",
     "text": [
      "Searching al-mawsuah for \"ماذا يؤمن المسلمون؟\"\n",
      "Searching al-mawsuah for \"ما هي الصدقة؟\"\n",
      "Searching al-mawsuah for \"هل الشريعة موحدة وغير متغيرة؟\"\n",
      "Searching quran for \"الطلاق في الإسلام\"\n",
      "Searching al-mawsuah for \"صلاة التراويح\"\n",
      "Searching al-mawsuah for \"ما معنى الجهاد؟\"\n",
      "Searching al-mawsuah for \"ما هو التوحيد؟\"\n",
      "Searching al-mawsuah for \"كيف يتناول الإسلام القدر والإرادة الحرة؟\"\n"
     ]
    },
    {
     "name": "stderr",
     "output_type": "stream",
     "text": [
      "Average Metric: 644 / 84  (766.7):  86%|████████▌ | 84/98 [00:26<00:03,  3.77it/s]"
     ]
    },
    {
     "name": "stdout",
     "output_type": "stream",
     "text": [
      "Searching quran for \"هل الوسواس القهري نتيجة وساوس الشيطان؟\"Searching quran for \"ما هي الأعياد التي يحتفل بها المسلمون؟\"\n",
      "\n",
      "Searching quran for \"كيف نعرف أن الله موجود؟\"\n",
      "Searching hadith for \"حديث عن الطلاق\"\n",
      "Searching quran for \"تاريخ الشريعة\"\n"
     ]
    },
    {
     "name": "stderr",
     "output_type": "stream",
     "text": [
      "Average Metric: 658 / 86  (765.1):  88%|████████▊ | 86/98 [00:27<00:02,  4.64it/s]"
     ]
    },
    {
     "name": "stdout",
     "output_type": "stream",
     "text": [
      "Searching quran for \"هل يسمح الإسلام بالحرب الوقائية؟\"\n",
      "Searching quran for \"الوحي في الإسلام\"\n"
     ]
    },
    {
     "name": "stderr",
     "output_type": "stream",
     "text": [
      "Average Metric: 662 / 87  (760.9):  89%|████████▉ | 87/98 [00:27<00:02,  5.02it/s]"
     ]
    },
    {
     "name": "stdout",
     "output_type": "stream",
     "text": [
      "Searching quran for \"هل الإسلام يشجع على العنف؟\"\n",
      "Searching al-mawsuah for \"الطلاق في الفقه الإسلامي\"\n",
      "Searching hadith for \"هل الوسواس القهري نتيجة وساوس الشيطان؟\"\n",
      "Searching hadith for \"ما هي الأعياد التي يحتفل بها المسلمون؟\"\n",
      "Searching hadith for \"كيف نعرف أن الله موجود؟\"\n",
      "Searching hadith for \"تاريخ الشريعة\"\n",
      "Searching hadith for \"هل يسمح الإسلام بالحرب الوقائية؟\"\n",
      "Searching hadith for \"الوحي في الإسلام\"\n",
      "Searching hadith for \"هل الإسلام يشجع على العنف؟\"\n"
     ]
    },
    {
     "name": "stderr",
     "output_type": "stream",
     "text": [
      "Average Metric: 670 / 88  (761.4):  90%|████████▉ | 88/98 [00:28<00:04,  2.27it/s]"
     ]
    },
    {
     "name": "stdout",
     "output_type": "stream",
     "text": [
      "Searching al-mawsuah for \"تاريخ الشريعة\"\n",
      "Searching al-mawsuah for \"هل الوسواس القهري نتيجة وساوس الشيطان؟\"\n",
      "Searching quran for \"ما هي أهمية الحج؟\"\n",
      "Searching al-mawsuah for \"ما هي الأعياد التي يحتفل بها المسلمون؟\"\n",
      "Searching al-mawsuah for \"كيف نعرف أن الله موجود؟\"\n",
      "Searching al-mawsuah for \"الوحي في الإسلام\"\n",
      "Searching al-mawsuah for \"هل يسمح الإسلام بالحرب الوقائية؟\"\n",
      "Searching al-mawsuah for \"هل الإسلام يشجع على العنف؟\"\n"
     ]
    },
    {
     "name": "stderr",
     "output_type": "stream",
     "text": [
      "Average Metric: 700 / 92  (760.9):  94%|█████████▍| 92/98 [00:29<00:01,  3.77it/s]"
     ]
    },
    {
     "name": "stdout",
     "output_type": "stream",
     "text": [
      "Searching quran for \"لماذا يطلب الله من الناس عبادته؟\"\n",
      "Searching quran for \"هل يؤمن المسلمون بصلب عيسى؟\"\n",
      "Searching hadith for \"ما هي أهمية الحج؟\"\n"
     ]
    },
    {
     "name": "stderr",
     "output_type": "stream",
     "text": [
      "Average Metric: 724 / 95  (762.1):  97%|█████████▋| 95/98 [00:29<00:00,  5.19it/s]"
     ]
    },
    {
     "name": "stdout",
     "output_type": "stream",
     "text": [
      "Searching hadith for \"هل ورد في الأحاديث أن المسلمين يؤمنون بصلب عيسى؟\"\n",
      "Searching hadith for \"لماذا يطلب الله من الناس عبادته؟\"\n",
      "Searching al-mawsuah for \"ما هي أهمية الحج؟\"\n"
     ]
    },
    {
     "name": "stderr",
     "output_type": "stream",
     "text": [
      "Average Metric: 734 / 96  (764.6):  98%|█████████▊| 96/98 [00:30<00:00,  2.45it/s]"
     ]
    },
    {
     "name": "stdout",
     "output_type": "stream",
     "text": [
      "Searching al-mawsuah for \"موقف الفقه الإسلامي من صلب عيسى\"\n",
      "Searching al-mawsuah for \"لماذا يطلب الله من الناس عبادته؟\"\n"
     ]
    },
    {
     "name": "stderr",
     "output_type": "stream",
     "text": [
      "Average Metric: 748 / 98  (763.3): 100%|██████████| 98/98 [00:31<00:00,  3.09it/s]\n"
     ]
    },
    {
     "name": "stdout",
     "output_type": "stream",
     "text": [
      "Searching quran for \"أين الكعبة؟\"\n",
      "Searching quran for \"هل يسمح الإسلام بجرائم الشرف؟\"\n",
      "Searching quran for \"من يجب عليه أداء الحج؟\"\n",
      "Searching quran for \"هل يصوم المسلمون خارج رمضان؟\"\n",
      "Searching quran for \"هل يقدم القرآن توجيهات حول كيفية التعامل مع الصدمة والألم؟\"\n",
      "Searching quran for \"ما هي الفتوى؟\"\n"
     ]
    },
    {
     "name": "stderr",
     "output_type": "stream",
     "text": [
      "  0%|          | 0/98 [00:00<?, ?it/s]"
     ]
    },
    {
     "name": "stdout",
     "output_type": "stream",
     "text": [
      "Searching quran for \"ما معنى حلال؟\"\n",
      "Searching quran for \"هل الردة يعاقب عليها بالإعدام في الإسلام؟\"\n",
      "Searching hadith for \"أين الكعبة؟\"\n",
      "Searching hadith for \"هل يصوم المسلمون خارج رمضان؟\"\n",
      "Searching hadith for \"ما معنى حلال؟\"\n",
      "Searching hadith for \"ما هي الفتوى؟\"\n",
      "Searching hadith for \"هل تقدم السنة النبوية توجيهات حول كيفية التعامل مع الصدمة والألم؟\"\n",
      "Searching hadith for \"من يجب عليه أداء الحج؟\"\n",
      "Searching hadith for \"هل يعاقب المرتد بالإعدام في الإسلام؟\"\n",
      "Searching hadith for \"هل توجد أحاديث تتعلق بجرائم الشرف؟\"\n",
      "Searching al-mawsuah for \"من يجب عليه أداء الحج؟\"\n",
      "Searching al-mawsuah for \"أين الكعبة؟\"\n",
      "Searching al-mawsuah for \"هل يصوم المسلمون خارج رمضان؟\"\n",
      "Searching al-mawsuah for \"ما هو حكم الفقه الإسلامي في جرائم الشرف؟\"\n",
      "Searching al-mawsuah for \"كيفية التعامل مع الصدمة والألم في الفقه الإسلامي\"\n",
      "Searching al-mawsuah for \"ما هي الفتوى؟\"\n",
      "Searching al-mawsuah for \"ما معنى حلال؟\"\n",
      "Searching al-mawsuah for \"حكم الردة في الفقه الإسلامي\"\n"
     ]
    },
    {
     "name": "stderr",
     "output_type": "stream",
     "text": [
      "Average Metric: 40 / 5  (800.0):   5%|▌         | 5/98 [00:02<00:34,  2.73it/s]"
     ]
    },
    {
     "name": "stdout",
     "output_type": "stream",
     "text": [
      "Searching quran for \"ما هو رمضان؟\"\n",
      "Searching quran for \"هل الإسلام يشجع على العنف؟\"\n",
      "Searching quran for \"هل يسمح الإسلام بالحرب الوقائية؟\"\n",
      "Searching quran for \"أهمية ليلة القدر\"\n",
      "Searching quran for \"كيف يصف القرآن السعادة؟ كيف يمكن تحقيقها في الإسلام؟\"\n"
     ]
    },
    {
     "name": "stderr",
     "output_type": "stream",
     "text": [
      "Average Metric: 64 / 8  (800.0):   7%|▋         | 7/98 [00:02<00:23,  3.81it/s]"
     ]
    },
    {
     "name": "stdout",
     "output_type": "stream",
     "text": [
      "Searching quran for \"هل يوفر الإسلام إرشادات حول كيفية التعامل مع الأمراض النفسية؟\"\n",
      "Searching quran for \"ما هو رمضان؟\"\n",
      "Searching quran for \"لماذا يصلي المسلمون يوميا؟\"\n",
      "Searching hadith for \"ما هو رمضان؟\"\n",
      "Searching hadith for \"هل يسمح الإسلام بالحرب الوقائية؟\"\n",
      "Searching hadith for \"هل الإسلام يشجع على العنف؟\"\n",
      "Searching hadith for \"كيف يصف الحديث السعادة؟ كيف يمكن تحقيقها في الإسلام؟\"\n",
      "Searching hadith for \"فضل ليلة القدر\"\n",
      "Searching hadith for \"هل هناك أحاديث تتحدث عن كيفية التعامل مع الأمراض النفسية؟\"\n",
      "Searching hadith for \"ما هو رمضان؟\"\n",
      "Searching hadith for \"لماذا يصلي المسلمون يوميا؟\"\n",
      "Searching al-mawsuah for \"ما هو رمضان؟\"\n",
      "Searching al-mawsuah for \"هل الإسلام يشجع على العنف؟\"\n",
      "Searching al-mawsuah for \"السعادة في الفقه الإسلامي وكيفية تحقيقها\"\n",
      "Searching al-mawsuah for \"أهمية ليلة القدر في الفقه الإسلامي\"\n",
      "Searching al-mawsuah for \"هل يسمح الإسلام بالحرب الوقائية؟\"\n",
      "Searching al-mawsuah for \"ما هو رمضان؟\"\n",
      "Searching al-mawsuah for \"إرشادات الفقه الإسلامي حول التعامل مع الأمراض النفسية\"\n",
      "Searching al-mawsuah for \"لماذا يصلي المسلمون يوميا؟\"\n"
     ]
    },
    {
     "name": "stderr",
     "output_type": "stream",
     "text": [
      "Average Metric: 84 / 12  (700.0):  11%|█         | 11/98 [00:04<00:39,  2.23it/s]"
     ]
    },
    {
     "name": "stdout",
     "output_type": "stream",
     "text": [
      "Searching quran for \"كيف تصوم رمضان؟\"\n",
      "Searching quran for \"كيف نعلم أن القرآن وحي إلهي؟\"\n",
      "Searching quran for \"من يجب عليه الصيام في رمضان؟\"\n",
      "Searching quran for \"هل التجديف يعاقب عليه بالإعدام؟\"\n"
     ]
    },
    {
     "name": "stderr",
     "output_type": "stream",
     "text": [
      "Average Metric: 114 / 16  (712.5):  16%|█▋        | 16/98 [00:05<00:14,  5.57it/s]"
     ]
    },
    {
     "name": "stdout",
     "output_type": "stream",
     "text": [
      "Searching quran for \"ما هو الغرض من الصيام في رمضان؟\"\n",
      "Searching quran for \"مدة الصيام في رمضان\"\n",
      "Searching quran for \"ماذا يقدم الإسلام للناس؟\"\n",
      "Searching quran for \"كيف يُساء تفسير الجهاد كإرهاب؟\"\n",
      "Searching hadith for \"كيف تصوم رمضان؟\"\n",
      "Searching hadith for \"كيف نعلم أن القرآن وحي إلهي؟\"\n",
      "Searching hadith for \"من يجب عليه الصيام في رمضان؟\"\n",
      "Searching hadith for \"هل التجديف يعاقب عليه بالإعدام؟\"\n",
      "Searching hadith for \"ماذا يقدم الإسلام للناس؟\"\n",
      "Searching hadith for \"مدة الصيام في رمضان\"\n",
      "Searching hadith for \"ما هو الغرض من الصيام في رمضان؟\"\n",
      "Searching hadith for \"كيف يُساء تفسير الجهاد كإرهاب؟\"\n",
      "Searching al-mawsuah for \"كيف تصوم رمضان؟\"\n",
      "Searching al-mawsuah for \"كيف نعلم أن القرآن وحي إلهي؟\"\n",
      "Searching al-mawsuah for \"من يجب عليه الصيام في رمضان؟\"\n",
      "Searching al-mawsuah for \"هل التجديف يعاقب عليه بالإعدام؟\"\n",
      "Searching al-mawsuah for \"مدة الصيام في رمضان\"\n",
      "Searching al-mawsuah for \"ما هو الغرض من الصيام في رمضان؟\"\n",
      "Searching al-mawsuah for \"ماذا يقدم الإسلام للناس؟\"\n",
      "Searching al-mawsuah for \"كيف يُساء تفسير الجهاد كإرهاب؟\"\n"
     ]
    },
    {
     "name": "stderr",
     "output_type": "stream",
     "text": [
      "Average Metric: 132 / 18  (733.3):  18%|█▊        | 18/98 [00:07<00:33,  2.41it/s]"
     ]
    },
    {
     "name": "stdout",
     "output_type": "stream",
     "text": [
      "Searching quran for \"كيف يُساء تفسير الجهاد كإرهاب؟\"\n",
      "Searching quran for \"أركان الإسلام الخمسة\"\n"
     ]
    },
    {
     "name": "stderr",
     "output_type": "stream",
     "text": [
      "Average Metric: 166 / 22  (754.5):  21%|██▏       | 21/98 [00:07<00:25,  3.01it/s]"
     ]
    },
    {
     "name": "stdout",
     "output_type": "stream",
     "text": [
      "Searching quran for \"كيف يعامل الإسلام الأقليات الدينية؟\"\n",
      "Searching quran for \"ليلة القدر\"\n",
      "Searching quran for \"من هو الله\"\n",
      "Searching quran for \"هل يؤمن المسلمون بالروح القدس؟\"\n",
      "Searching quran for \"هل يؤمن المسلمون بالجنة والنار؟\"\n"
     ]
    },
    {
     "name": "stderr",
     "output_type": "stream",
     "text": [
      "Average Metric: 182 / 24  (758.3):  23%|██▎       | 23/98 [00:07<00:16,  4.46it/s]"
     ]
    },
    {
     "name": "stdout",
     "output_type": "stream",
     "text": [
      "Searching quran for \"ما معنى الجهاد؟\"\n",
      "Searching hadith for \"كيف يُساء تفسير الجهاد كإرهاب؟\"\n",
      "Searching hadith for \"معاملة الإسلام للأقليات الدينية\"\n",
      "Searching hadith for \"أركان الإسلام الخمسة\"\n",
      "Searching hadith for \"ما هي ليلة القدر\"\n",
      "Searching hadith for \"هل ذكر النبي الجنة والنار؟\"\n",
      "Searching hadith for \"هل ذكر الروح القدس في الأحاديث؟\"\n",
      "Searching hadith for \"من هو الله\"\n",
      "Searching hadith for \"ما معنى الجهاد؟\"\n",
      "Searching al-mawsuah for \"كيف يُساء تفسير الجهاد كإرهاب؟\"\n",
      "Searching al-mawsuah for \"معاملة الأقليات الدينية في الفقه الإسلامي\"\n",
      "Searching al-mawsuah for \"أركان الإسلام الخمسة\"\n",
      "Searching al-mawsuah for \"ليلة القدر في الفقه الإسلامي\"\n"
     ]
    },
    {
     "name": "stderr",
     "output_type": "stream",
     "text": [
      "Average Metric: 192 / 25  (768.0):  26%|██▌       | 25/98 [00:09<00:28,  2.58it/s]"
     ]
    },
    {
     "name": "stdout",
     "output_type": "stream",
     "text": [
      "Searching al-mawsuah for \"ما معنى الجهاد؟\"\n",
      "Searching al-mawsuah for \"الإيمان بالجنة والنار في الفقه الإسلامي\"\n",
      "Searching al-mawsuah for \"الإيمان بالروح القدس في الفقه الإسلامي\"\n",
      "Searching quran for \"أين يحدث الحج؟\"\n",
      "Searching al-mawsuah for \"من هو الله\"\n"
     ]
    },
    {
     "name": "stderr",
     "output_type": "stream",
     "text": [
      "Average Metric: 208 / 27  (770.4):  27%|██▋       | 26/98 [00:09<00:27,  2.61it/s]"
     ]
    },
    {
     "name": "stdout",
     "output_type": "stream",
     "text": [
      "Searching quran for \"أحكام الحرب في الإسلام\"\n",
      "Searching quran for \"متى ليلة القدر؟\"\n"
     ]
    },
    {
     "name": "stderr",
     "output_type": "stream",
     "text": [
      "Average Metric: 244 / 31  (787.1):  32%|███▏      | 31/98 [00:09<00:13,  4.95it/s]"
     ]
    },
    {
     "name": "stdout",
     "output_type": "stream",
     "text": [
      "Searching quran for \"كم مرة يصلي المسلمون خلال رمضان؟\"\n",
      "Searching quran for \"لماذا الكعبة مهمة؟\"\n",
      "Searching quran for \"لماذا يجب على المسلمين الصيام لمدة شهر كامل؟\"\n",
      "Searching quran for \"كيف يمكن فهم والتعامل مع الحزن والأسى في الإسلام؟\"\n",
      "Searching hadith for \"أين يحدث الحج؟\"\n"
     ]
    },
    {
     "name": "stderr",
     "output_type": "stream",
     "text": [
      "Average Metric: 250 / 32  (781.2):  32%|███▏      | 31/98 [00:10<00:13,  4.95it/s]"
     ]
    },
    {
     "name": "stdout",
     "output_type": "stream",
     "text": [
      "Searching quran for \"كيف يمكن للمرء أن يطهر قلبه وروحه؟\"\n",
      "Searching hadith for \"أحاديث عن أحكام الحرب في الإسلام\"\n",
      "Searching hadith for \"متى ليلة القدر؟\"\n",
      "Searching hadith for \"كم مرة يصلي المسلمون خلال رمضان؟\"\n",
      "Searching hadith for \"لماذا يجب على المسلمين الصيام لمدة شهر كامل؟\"\n",
      "Searching hadith for \"لماذا الكعبة مهمة؟\"\n",
      "Searching al-mawsuah for \"أين يحدث الحج؟\"\n",
      "Searching hadith for \"كيف يمكن فهم والتعامل مع الحزن والأسى في الإسلام؟\"\n",
      "Searching hadith for \"كيف يمكن للمرء أن يطهر قلبه وروحه؟\"\n",
      "Searching al-mawsuah for \"متى ليلة القدر؟\"\n",
      "Searching al-mawsuah for \"أحكام الحرب في الفقه الإسلامي\"\n"
     ]
    },
    {
     "name": "stderr",
     "output_type": "stream",
     "text": [
      "Average Metric: 262 / 33  (793.9):  34%|███▎      | 33/98 [00:11<00:24,  2.68it/s]"
     ]
    },
    {
     "name": "stdout",
     "output_type": "stream",
     "text": [
      "Searching al-mawsuah for \"كم مرة يصلي المسلمون خلال رمضان؟\"Searching al-mawsuah for \"لماذا يجب على المسلمين الصيام لمدة شهر كامل؟\"\n",
      "\n",
      "Searching al-mawsuah for \"كيف يمكن فهم والتعامل مع الحزن والأسى في الإسلام؟\"\n",
      "Searching al-mawsuah for \"أهمية الكعبة في الفقه الإسلامي\"\n",
      "Searching quran for \"ما هي الكعبة؟\"\n",
      "Searching al-mawsuah for \"كيف يمكن للمرء أن يطهر قلبه وروحه؟\"\n"
     ]
    },
    {
     "name": "stderr",
     "output_type": "stream",
     "text": [
      "Average Metric: 282 / 35  (805.7):  36%|███▌      | 35/98 [00:12<00:20,  3.05it/s]"
     ]
    },
    {
     "name": "stdout",
     "output_type": "stream",
     "text": [
      "Searching quran for \"من هو النبي محمد؟\"\n",
      "Searching quran for \"ما هي التزكية؟\"\n"
     ]
    },
    {
     "name": "stderr",
     "output_type": "stream",
     "text": [
      "Average Metric: 298 / 37  (805.4):  37%|███▋      | 36/98 [00:12<00:17,  3.57it/s]"
     ]
    },
    {
     "name": "stdout",
     "output_type": "stream",
     "text": [
      "Searching quran for \"أحكام الحرب في الإسلام\"\n",
      "Searching quran for \"ما الذي يعلمه الإسلام عن إدارة القلق والاكتئاب والشك الذاتي؟\"\n"
     ]
    },
    {
     "name": "stderr",
     "output_type": "stream",
     "text": [
      "Average Metric: 320 / 40  (800.0):  40%|███▉      | 39/98 [00:12<00:13,  4.35it/s]"
     ]
    },
    {
     "name": "stdout",
     "output_type": "stream",
     "text": [
      "Searching hadith for \"ما هي الكعبة؟\"\n",
      "Searching quran for \"أين تؤدى العمرة؟\"\n",
      "Searching quran for \"كيف تكون الروحانية الإسلامية فريدة؟\"\n",
      "Searching quran for \"كيف يفهم الإسلام الروح\"\n",
      "Searching hadith for \"من هو النبي محمد؟\"\n",
      "Searching hadith for \"ما هي التزكية؟\"\n",
      "Searching hadith for \"ما الذي يعلمه الإسلام عن إدارة القلق والاكتئاب والشك الذاتي؟\"\n",
      "Searching hadith for \"أحاديث عن أحكام الحرب في الإسلام\"\n",
      "Searching hadith for \"كيف تكون الروحانية الإسلامية فريدة؟\"\n",
      "Searching al-mawsuah for \"ما هي الكعبة؟\"\n",
      "Searching hadith for \"فهم الروح في الإسلام\"\n",
      "Searching al-mawsuah for \"ما هي التزكية؟\"\n",
      "Searching hadith for \"أين تؤدى العمرة؟\"\n",
      "Searching al-mawsuah for \"من هو النبي محمد؟\"\n"
     ]
    },
    {
     "name": "stderr",
     "output_type": "stream",
     "text": [
      "Average Metric: 326 / 41  (795.1):  42%|████▏     | 41/98 [00:14<00:20,  2.73it/s]"
     ]
    },
    {
     "name": "stdout",
     "output_type": "stream",
     "text": [
      "Searching al-mawsuah for \"ما الذي يعلمه الإسلام عن إدارة القلق والاكتئاب والشك الذاتي؟\"\n",
      "Searching al-mawsuah for \"أحكام الحرب في الفقه الإسلامي\"\n",
      "Searching quran for \"من هو عيسى في الإسلام؟\"\n",
      "Searching al-mawsuah for \"كيف تكون الروحانية الإسلامية فريدة؟\"\n"
     ]
    },
    {
     "name": "stderr",
     "output_type": "stream",
     "text": [
      "Average Metric: 336 / 42  (800.0):  43%|████▎     | 42/98 [00:14<00:20,  2.79it/s]"
     ]
    },
    {
     "name": "stdout",
     "output_type": "stream",
     "text": [
      "Searching al-mawsuah for \"الروح في الفقه الإسلامي\"\n",
      "Searching quran for \"ما هو الإسلام؟\"\n"
     ]
    },
    {
     "name": "stderr",
     "output_type": "stream",
     "text": [
      "Average Metric: 342 / 43  (795.3):  44%|████▍     | 43/98 [00:14<00:17,  3.11it/s]"
     ]
    },
    {
     "name": "stdout",
     "output_type": "stream",
     "text": [
      "Searching quran for \"متى رمضان؟\"\n"
     ]
    },
    {
     "name": "stderr",
     "output_type": "stream",
     "text": [
      "Average Metric: 364 / 46  (791.3):  47%|████▋     | 46/98 [00:14<00:10,  4.83it/s]"
     ]
    },
    {
     "name": "stdout",
     "output_type": "stream",
     "text": [
      "Searching quran for \"كيف يعامل الإسلام الأقليات الدينية؟\"\n",
      "Searching quran for \"كيف تتعلق الشريعة بطقوس العبادة؟\"\n",
      "Searching quran for \"هل انتشر الإسلام بالعنف والإكراه؟\"\n",
      "Searching hadith for \"من هو عيسى في الأحاديث؟\"\n"
     ]
    },
    {
     "name": "stderr",
     "output_type": "stream",
     "text": [
      "Average Metric: 374 / 47  (795.7):  48%|████▊     | 47/98 [00:15<00:10,  4.64it/s]"
     ]
    },
    {
     "name": "stdout",
     "output_type": "stream",
     "text": [
      "Searching al-mawsuah for \"أين تؤدى العمرة؟\"\n",
      "Searching quran for \"لماذا يتم الاحتفال بشهر رمضان؟\"\n",
      "Searching hadith for \"ما هو الإسلام؟\"\n",
      "Searching hadith for \"متى رمضان؟\"\n",
      "Searching hadith for \"معاملة الإسلام للأقليات الدينية\"\n",
      "Searching hadith for \"كيف تتعلق الشريعة بطقوس العبادة؟\"\n",
      "Searching hadith for \"هل انتشر الإسلام بالعنف والإكراه؟\"\n"
     ]
    },
    {
     "name": "stderr",
     "output_type": "stream",
     "text": [
      "Average Metric: 382 / 48  (795.8):  49%|████▉     | 48/98 [00:15<00:16,  3.07it/s]"
     ]
    },
    {
     "name": "stdout",
     "output_type": "stream",
     "text": [
      "Searching quran for \"من هو النبي إبراهيم؟\"\n",
      "Searching al-mawsuah for \"من هو عيسى في الفقه الإسلامي؟\"\n",
      "Searching al-mawsuah for \"ما هو الإسلام؟\"\n",
      "Searching hadith for \"لماذا يتم الاحتفال بشهر رمضان؟\"\n",
      "Searching al-mawsuah for \"متى رمضان؟\"\n",
      "Searching al-mawsuah for \"معاملة الأقليات الدينية في الفقه الإسلامي\"\n",
      "Searching al-mawsuah for \"كيف تتعلق الشريعة بطقوس العبادة؟\"\n",
      "Searching al-mawsuah for \"هل انتشر الإسلام بالعنف والإكراه؟\"\n",
      "Searching al-mawsuah for \"لماذا يتم الاحتفال بشهر رمضان؟\"\n"
     ]
    },
    {
     "name": "stderr",
     "output_type": "stream",
     "text": [
      "Average Metric: 392 / 50  (784.0):  50%|█████     | 49/98 [00:16<00:22,  2.15it/s]"
     ]
    },
    {
     "name": "stdout",
     "output_type": "stream",
     "text": [
      "Searching hadith for \"من هو النبي إبراهيم؟\"\n",
      "Searching quran for \"ما هو زكاة الفطر؟\"\n",
      "Searching quran for \"هل يسمح الإسلام بقتل المدنيين؟\"\n"
     ]
    },
    {
     "name": "stderr",
     "output_type": "stream",
     "text": [
      "Average Metric: 418 / 53  (788.7):  53%|█████▎    | 52/98 [00:17<00:13,  3.48it/s]"
     ]
    },
    {
     "name": "stdout",
     "output_type": "stream",
     "text": [
      "Searching quran for \"ما هو الفقه؟\"\n",
      "Searching quran for \"كيف تتعلق الشريعة بالمجتمع؟\"\n",
      "Searching quran for \"أهمية الصدقة في رمضان\"\n"
     ]
    },
    {
     "name": "stderr",
     "output_type": "stream",
     "text": [
      "Average Metric: 436 / 55  (792.7):  56%|█████▌    | 55/98 [00:17<00:07,  5.53it/s]"
     ]
    },
    {
     "name": "stdout",
     "output_type": "stream",
     "text": [
      "Searching quran for \"القيود الغذائية في الإسلام\"\n",
      "Searching quran for \"ما هو القرآن؟\"\n",
      "Searching hadith for \"ما هو زكاة الفطر؟\"\n",
      "Searching hadith for \"هل يسمح الإسلام بقتل المدنيين؟\"\n",
      "Searching al-mawsuah for \"من هو النبي إبراهيم؟\"\n",
      "Searching hadith for \"ما هو الفقه؟\"\n",
      "Searching hadith for \"كيف تتعلق الشريعة بالمجتمع؟\"\n",
      "Searching hadith for \"فضل الصدقة في رمضان\"\n",
      "Searching hadith for \"القيود الغذائية في الإسلام\"\n",
      "Searching hadith for \"ما هو القرآن؟\"\n",
      "Searching al-mawsuah for \"ما هو زكاة الفطر؟\"\n",
      "Searching al-mawsuah for \"هل يسمح الإسلام بقتل المدنيين؟\"\n"
     ]
    },
    {
     "name": "stderr",
     "output_type": "stream",
     "text": [
      "Average Metric: 442 / 56  (789.3):  57%|█████▋    | 56/98 [00:18<00:15,  2.67it/s]"
     ]
    },
    {
     "name": "stdout",
     "output_type": "stream",
     "text": [
      "Searching quran for \"من بنى الكعبة؟\"\n",
      "Searching al-mawsuah for \"ما هو الفقه؟\"\n",
      "Searching al-mawsuah for \"الصدقة في رمضان\"\n",
      "Searching al-mawsuah for \"كيف تتعلق الشريعة بالمجتمع؟\"\n",
      "Searching al-mawsuah for \"ما هو القرآن؟\"\n",
      "Searching al-mawsuah for \"القيود الغذائية في الإسلام\"\n"
     ]
    },
    {
     "name": "stderr",
     "output_type": "stream",
     "text": [
      "Average Metric: 452 / 58  (779.3):  58%|█████▊    | 57/98 [00:19<00:17,  2.40it/s]"
     ]
    },
    {
     "name": "stdout",
     "output_type": "stream",
     "text": [
      "Searching quran for \"من أين تأتي الشريعة؟\"\n",
      "Searching quran for \"كيف يغذي الإسلام رفاهنا العاطفي؟\"\n"
     ]
    },
    {
     "name": "stderr",
     "output_type": "stream",
     "text": [
      "Average Metric: 470 / 60  (783.3):  61%|██████    | 60/98 [00:19<00:10,  3.59it/s]"
     ]
    },
    {
     "name": "stdout",
     "output_type": "stream",
     "text": [
      "Searching hadith for \"من بنى الكعبة؟\"\n",
      "Searching quran for \"كيفية أداء العمرة\"\n",
      "Searching quran for \"آيات القرآن للتعامل مع الضيق والشدائد\"\n",
      "Searching quran for \"هل يقول القرآن بقتل غير المؤمنين؟\"\n"
     ]
    },
    {
     "name": "stderr",
     "output_type": "stream",
     "text": [
      "Average Metric: 496 / 63  (787.3):  63%|██████▎   | 62/98 [00:19<00:07,  4.78it/s]"
     ]
    },
    {
     "name": "stdout",
     "output_type": "stream",
     "text": [
      "Searching quran for \"هل التجديف يعاقب عليه بالإعدام؟\"\n",
      "Searching quran for \"هل يسمح الإسلام بقتل المدنيين؟\"\n",
      "Searching hadith for \"كيف يغذي الإسلام رفاهنا العاطفي؟\"\n",
      "Searching hadith for \"من أين تأتي الشريعة؟\"\n",
      "Searching al-mawsuah for \"من بنى الكعبة؟\"\n",
      "Searching hadith for \"كيفية أداء العمرة\"\n",
      "Searching hadith for \"أحاديث عن التعامل مع الضيق والشدائد\"\n",
      "Searching hadith for \"هل يوجد حديث يأمر بقتل غير المؤمنين؟\"\n",
      "Searching hadith for \"هل يسمح الإسلام بقتل المدنيين؟\"\n",
      "Searching hadith for \"هل التجديف يعاقب عليه بالإعدام؟\"\n",
      "Searching al-mawsuah for \"كيف يغذي الإسلام رفاهنا العاطفي؟\"\n",
      "Searching al-mawsuah for \"مصادر الشريعة الإسلامية\"\n",
      "Searching al-mawsuah for \"كيفية أداء العمرة\"\n"
     ]
    },
    {
     "name": "stderr",
     "output_type": "stream",
     "text": [
      "Average Metric: 504 / 64  (787.5):  65%|██████▌   | 64/98 [00:21<00:12,  2.72it/s]"
     ]
    },
    {
     "name": "stdout",
     "output_type": "stream",
     "text": [
      "Searching quran for \"ما معنى الإسلام؟\"\n",
      "Searching al-mawsuah for \"ما هو حكم قتل غير المؤمنين في الفقه الإسلامي؟\"\n",
      "Searching al-mawsuah for \"أحكام الفقه الإسلامي حول التعامل مع الضيق والشدائد\"\n",
      "Searching al-mawsuah for \"هل يسمح الإسلام بقتل المدنيين؟\"\n",
      "Searching al-mawsuah for \"هل التجديف يعاقب عليه بالإعدام؟\"\n"
     ]
    },
    {
     "name": "stderr",
     "output_type": "stream",
     "text": [
      "Average Metric: 522 / 67  (779.1):  67%|██████▋   | 66/98 [00:21<00:12,  2.54it/s]"
     ]
    },
    {
     "name": "stdout",
     "output_type": "stream",
     "text": [
      "Searching quran for \"ما هو عيد الفطر؟\"\n",
      "Searching quran for \"لماذا الحج مهم؟\"\n",
      "Searching quran for \"كيفية أداء الحج\"\n"
     ]
    },
    {
     "name": "stderr",
     "output_type": "stream",
     "text": [
      "Average Metric: 532 / 68  (782.4):  69%|██████▉   | 68/98 [00:21<00:07,  4.00it/s]"
     ]
    },
    {
     "name": "stdout",
     "output_type": "stream",
     "text": [
      "Searching quran for \"هل يقول القرآن بقتل غير المؤمنين؟\"\n",
      "Searching hadith for \"ما معنى الإسلام في الحديث؟\"\n"
     ]
    },
    {
     "name": "stderr",
     "output_type": "stream",
     "text": [
      "Average Metric: 552 / 71  (777.5):  72%|███████▏  | 71/98 [00:22<00:05,  5.24it/s]"
     ]
    },
    {
     "name": "stdout",
     "output_type": "stream",
     "text": [
      "Searching quran for \"هل هناك استثناءات أو إعفاءات من الصيام؟\"\n",
      "Searching quran for \"ما هي العمرة؟\"\n",
      "Searching quran for \"هل انتشر الإسلام بالعنف والإكراه؟\"\n",
      "Searching hadith for \"ما هو عيد الفطر؟\"\n",
      "Searching hadith for \"أهمية الحج في الأحاديث\"\n",
      "Searching hadith for \"كيفية أداء الحج\"\n",
      "Searching hadith for \"هل يوجد حديث يأمر بقتل غير المؤمنين؟\"\n",
      "Searching al-mawsuah for \"ما هو تعريف الإسلام في الفقه الإسلامي؟\"\n",
      "Searching hadith for \"هل هناك استثناءات أو إعفاءات من الصيام؟\"\n",
      "Searching hadith for \"ما هي العمرة؟\"\n",
      "Searching hadith for \"هل انتشر الإسلام بالعنف والإكراه؟\"\n",
      "Searching al-mawsuah for \"كيفية أداء الحج\"\n",
      "Searching al-mawsuah for \"ما هو عيد الفطر؟\"\n",
      "Searching al-mawsuah for \"أهمية الحج في الفقه الإسلامي\"\n",
      "Searching al-mawsuah for \"ما هو حكم قتل غير المؤمنين في الفقه الإسلامي؟\"\n"
     ]
    },
    {
     "name": "stderr",
     "output_type": "stream",
     "text": [
      "Average Metric: 560 / 72  (777.8):  73%|███████▎  | 72/98 [00:23<00:11,  2.24it/s]"
     ]
    },
    {
     "name": "stdout",
     "output_type": "stream",
     "text": [
      "Searching quran for \"هل العمرة والحج نفس الشيء؟\"\n",
      "Searching al-mawsuah for \"ما هي العمرة؟\"\n",
      "Searching al-mawsuah for \"هل انتشر الإسلام بالعنف والإكراه؟\"\n",
      "Searching al-mawsuah for \"هل هناك استثناءات أو إعفاءات من الصيام؟\"\n"
     ]
    },
    {
     "name": "stderr",
     "output_type": "stream",
     "text": [
      "Average Metric: 576 / 75  (768.0):  77%|███████▋  | 75/98 [00:24<00:06,  3.70it/s]"
     ]
    },
    {
     "name": "stdout",
     "output_type": "stream",
     "text": [
      "Searching quran for \"ماذا يؤمن المسلمون؟\"\n",
      "Searching quran for \"هل الشريعة موحدة وغير متغيرة؟\"\n",
      "Searching quran for \"ما هي الصدقة؟\"\n"
     ]
    },
    {
     "name": "stderr",
     "output_type": "stream",
     "text": [
      "Average Metric: 582 / 76  (765.8):  78%|███████▊  | 76/98 [00:24<00:05,  3.77it/s]"
     ]
    },
    {
     "name": "stdout",
     "output_type": "stream",
     "text": [
      "Searching quran for \"صلاة التراويح\"\n"
     ]
    },
    {
     "name": "stderr",
     "output_type": "stream",
     "text": [
      "Average Metric: 612 / 79  (774.7):  81%|████████  | 79/98 [00:24<00:03,  5.34it/s]"
     ]
    },
    {
     "name": "stdout",
     "output_type": "stream",
     "text": [
      "Searching hadith for \"هل العمرة والحج نفس الشيء؟\"\n",
      "Searching quran for \"ما هو التوحيد؟\"\n",
      "Searching quran for \"ما معنى الجهاد؟\"\n",
      "Searching hadith for \"ماذا يؤمن المسلمون؟\"\n",
      "Searching quran for \"كيف يتناول الإسلام القدر والإرادة الحرة؟\"\n",
      "Searching hadith for \"ما هي الصدقة؟\"\n",
      "Searching hadith for \"هل الشريعة موحدة وغير متغيرة؟\"\n",
      "Searching hadith for \"صلاة التراويح\"\n",
      "Searching al-mawsuah for \"هل العمرة والحج نفس الشيء؟\"\n",
      "Searching hadith for \"ما هو التوحيد؟\"\n",
      "Searching hadith for \"ما معنى الجهاد؟\"\n",
      "Searching hadith for \"كيف يتناول الإسلام القدر والإرادة الحرة؟\"\n",
      "Searching al-mawsuah for \"ماذا يؤمن المسلمون؟\"\n",
      "Searching al-mawsuah for \"ما هي الصدقة؟\"\n",
      "Searching al-mawsuah for \"هل الشريعة موحدة وغير متغيرة؟\"\n"
     ]
    },
    {
     "name": "stderr",
     "output_type": "stream",
     "text": [
      "Average Metric: 620 / 80  (775.0):  82%|████████▏ | 80/98 [00:26<00:07,  2.28it/s]"
     ]
    },
    {
     "name": "stdout",
     "output_type": "stream",
     "text": [
      "Searching al-mawsuah for \"صلاة التراويح\"\n",
      "Searching quran for \"الطلاق في الإسلام\"\n",
      "Searching al-mawsuah for \"ما معنى الجهاد؟\"\n"
     ]
    },
    {
     "name": "stderr",
     "output_type": "stream",
     "text": [
      "Average Metric: 628 / 81  (775.3):  83%|████████▎ | 81/98 [00:26<00:06,  2.47it/s]"
     ]
    },
    {
     "name": "stdout",
     "output_type": "stream",
     "text": [
      "Searching al-mawsuah for \"ما هو التوحيد؟\"\n",
      "Searching quran for \"ما هي الأعياد التي يحتفل بها المسلمون؟\"\n",
      "Searching al-mawsuah for \"كيف يتناول الإسلام القدر والإرادة الحرة؟\"\n"
     ]
    },
    {
     "name": "stderr",
     "output_type": "stream",
     "text": [
      "Average Metric: 638 / 83  (768.7):  85%|████████▍ | 83/98 [00:26<00:04,  3.39it/s]"
     ]
    },
    {
     "name": "stdout",
     "output_type": "stream",
     "text": [
      "Searching quran for \"هل الوسواس القهري نتيجة وساوس الشيطان؟\"\n",
      "Searching quran for \"كيف نعرف أن الله موجود؟\"\n"
     ]
    },
    {
     "name": "stderr",
     "output_type": "stream",
     "text": [
      "Average Metric: 644 / 84  (766.7):  85%|████████▍ | 83/98 [00:26<00:04,  3.39it/s]"
     ]
    },
    {
     "name": "stdout",
     "output_type": "stream",
     "text": [
      "Searching quran for \"تاريخ الشريعة\"\n",
      "Searching hadith for \"حديث عن الطلاق\"\n"
     ]
    },
    {
     "name": "stderr",
     "output_type": "stream",
     "text": [
      "Average Metric: 662 / 87  (760.9):  88%|████████▊ | 86/98 [00:27<00:02,  4.65it/s]"
     ]
    },
    {
     "name": "stdout",
     "output_type": "stream",
     "text": [
      "Searching quran for \"هل يسمح الإسلام بالحرب الوقائية؟\"\n",
      "Searching quran for \"الوحي في الإسلام\"\n",
      "Searching quran for \"هل الإسلام يشجع على العنف؟\"\n",
      "Searching hadith for \"ما هي الأعياد التي يحتفل بها المسلمون؟\"\n",
      "Searching hadith for \"هل الوسواس القهري نتيجة وساوس الشيطان؟\"\n",
      "Searching hadith for \"كيف نعرف أن الله موجود؟\"\n",
      "Searching hadith for \"تاريخ الشريعة\"\n",
      "Searching al-mawsuah for \"الطلاق في الفقه الإسلامي\"\n",
      "Searching hadith for \"هل يسمح الإسلام بالحرب الوقائية؟\"\n",
      "Searching hadith for \"هل الإسلام يشجع على العنف؟\"\n",
      "Searching hadith for \"الوحي في الإسلام\"\n",
      "Searching al-mawsuah for \"ما هي الأعياد التي يحتفل بها المسلمون؟\"\n",
      "Searching al-mawsuah for \"هل الوسواس القهري نتيجة وساوس الشيطان؟\"\n",
      "Searching al-mawsuah for \"تاريخ الشريعة\"\n",
      "Searching al-mawsuah for \"كيف نعرف أن الله موجود؟\"\n"
     ]
    },
    {
     "name": "stderr",
     "output_type": "stream",
     "text": [
      "Average Metric: 670 / 88  (761.4):  90%|████████▉ | 88/98 [00:28<00:03,  2.53it/s]"
     ]
    },
    {
     "name": "stdout",
     "output_type": "stream",
     "text": [
      "Searching quran for \"ما هي أهمية الحج؟\"\n",
      "Searching al-mawsuah for \"هل يسمح الإسلام بالحرب الوقائية؟\"\n"
     ]
    },
    {
     "name": "stderr",
     "output_type": "stream",
     "text": [
      "Average Metric: 676 / 89  (759.6):  91%|█████████ | 89/98 [00:28<00:03,  2.66it/s]"
     ]
    },
    {
     "name": "stdout",
     "output_type": "stream",
     "text": [
      "Searching al-mawsuah for \"الوحي في الإسلام\"\n",
      "Searching al-mawsuah for \"هل الإسلام يشجع على العنف؟\"\n",
      "Searching quran for \"لماذا يطلب الله من الناس عبادته؟\"\n"
     ]
    },
    {
     "name": "stderr",
     "output_type": "stream",
     "text": [
      "Average Metric: 694 / 91  (762.6):  92%|█████████▏| 90/98 [00:29<00:02,  3.12it/s]"
     ]
    },
    {
     "name": "stdout",
     "output_type": "stream",
     "text": [
      "Searching quran for \"هل يؤمن المسلمون بصلب عيسى؟\"\n"
     ]
    },
    {
     "name": "stderr",
     "output_type": "stream",
     "text": [
      "Average Metric: 708 / 93  (761.3):  95%|█████████▍| 93/98 [00:29<00:01,  4.25it/s]"
     ]
    },
    {
     "name": "stdout",
     "output_type": "stream",
     "text": [
      "Searching hadith for \"ما هي أهمية الحج؟\"\n"
     ]
    },
    {
     "name": "stderr",
     "output_type": "stream",
     "text": [
      "Average Metric: 724 / 95  (762.1):  96%|█████████▌| 94/98 [00:29<00:00,  4.72it/s]"
     ]
    },
    {
     "name": "stdout",
     "output_type": "stream",
     "text": [
      "Searching hadith for \"لماذا يطلب الله من الناس عبادته؟\"\n",
      "Searching hadith for \"هل ورد في الأحاديث أن المسلمين يؤمنون بصلب عيسى؟\"\n",
      "Searching al-mawsuah for \"ما هي أهمية الحج؟\"\n",
      "Searching al-mawsuah for \"لماذا يطلب الله من الناس عبادته؟\"\n",
      "Searching al-mawsuah for \"موقف الفقه الإسلامي من صلب عيسى\"\n"
     ]
    },
    {
     "name": "stderr",
     "output_type": "stream",
     "text": [
      "Average Metric: 748 / 98  (763.3): 100%|██████████| 98/98 [00:31<00:00,  3.11it/s]\n"
     ]
    },
    {
     "name": "stdout",
     "output_type": "stream",
     "text": [
      "Searching quran for \"أين الكعبة؟\"\n",
      "Searching quran for \"من يجب عليه أداء الحج؟\"\n",
      "Searching quran for \"هل يسمح الإسلام بجرائم الشرف؟\"\n",
      "Searching quran for \"هل يصوم المسلمون خارج رمضان؟\"\n",
      "Searching quran for \"هل يقدم القرآن توجيهات حول كيفية التعامل مع الصدمة والألم؟\"\n",
      "Searching quran for \"ما هي الفتوى؟\"\n",
      "Searching quran for \"ما معنى حلال؟\"\n",
      "Searching quran for \"هل الردة يعاقب عليها بالإعدام في الإسلام؟\"\n"
     ]
    },
    {
     "name": "stderr",
     "output_type": "stream",
     "text": [
      "  0%|          | 0/98 [00:00<?, ?it/s]"
     ]
    },
    {
     "name": "stdout",
     "output_type": "stream",
     "text": [
      "Searching hadith for \"أين الكعبة؟\"\n",
      "Searching hadith for \"هل توجد أحاديث تتعلق بجرائم الشرف؟\"\n",
      "Searching hadith for \"هل يصوم المسلمون خارج رمضان؟\"\n",
      "Searching hadith for \"ما معنى حلال؟\"\n",
      "Searching hadith for \"من يجب عليه أداء الحج؟\"\n",
      "Searching hadith for \"ما هي الفتوى؟\"\n",
      "Searching hadith for \"هل تقدم السنة النبوية توجيهات حول كيفية التعامل مع الصدمة والألم؟\"\n",
      "Searching hadith for \"هل يعاقب المرتد بالإعدام في الإسلام؟\"\n",
      "Searching al-mawsuah for \"ما هو حكم الفقه الإسلامي في جرائم الشرف؟\"\n",
      "Searching al-mawsuah for \"من يجب عليه أداء الحج؟\"\n",
      "Searching al-mawsuah for \"أين الكعبة؟\"\n",
      "Searching al-mawsuah for \"هل يصوم المسلمون خارج رمضان؟\"\n",
      "Searching al-mawsuah for \"ما معنى حلال؟\"\n",
      "Searching al-mawsuah for \"ما هي الفتوى؟\"\n",
      "Searching al-mawsuah for \"كيفية التعامل مع الصدمة والألم في الفقه الإسلامي\"\n",
      "Searching al-mawsuah for \"حكم الردة في الفقه الإسلامي\"\n"
     ]
    },
    {
     "name": "stderr",
     "output_type": "stream",
     "text": [
      "Average Metric: 48 / 6  (800.0):   5%|▌         | 5/98 [00:02<03:46,  2.43s/it]"
     ]
    },
    {
     "name": "stdout",
     "output_type": "stream",
     "text": [
      "Searching quran for \"ما هو رمضان؟\"\n",
      "Searching quran for \"هل الإسلام يشجع على العنف؟\"\n",
      "Searching quran for \"هل يسمح الإسلام بالحرب الوقائية؟\"\n",
      "Searching quran for \"كيف يصف القرآن السعادة؟ كيف يمكن تحقيقها في الإسلام؟\"\n",
      "Searching quran for \"أهمية ليلة القدر\"\n",
      "Searching quran for \"هل يوفر الإسلام إرشادات حول كيفية التعامل مع الأمراض النفسية؟\"\n"
     ]
    },
    {
     "name": "stderr",
     "output_type": "stream",
     "text": [
      "Average Metric: 64 / 8  (800.0):   7%|▋         | 7/98 [00:02<00:26,  3.44it/s]"
     ]
    },
    {
     "name": "stdout",
     "output_type": "stream",
     "text": [
      "Searching quran for \"ما هو رمضان؟\"\n",
      "Searching quran for \"لماذا يصلي المسلمون يوميا؟\"\n",
      "Searching hadith for \"ما هو رمضان؟\"\n",
      "Searching hadith for \"فضل ليلة القدر\"\n",
      "Searching hadith for \"هل يسمح الإسلام بالحرب الوقائية؟\"\n",
      "Searching hadith for \"هل الإسلام يشجع على العنف؟\"\n",
      "Searching hadith for \"هل هناك أحاديث تتحدث عن كيفية التعامل مع الأمراض النفسية؟\"\n",
      "Searching hadith for \"كيف يصف الحديث السعادة؟ كيف يمكن تحقيقها في الإسلام؟\"\n",
      "Searching hadith for \"لماذا يصلي المسلمون يوميا؟\"\n",
      "Searching hadith for \"ما هو رمضان؟\"\n",
      "Searching al-mawsuah for \"ما هو رمضان؟\"\n",
      "Searching al-mawsuah for \"أهمية ليلة القدر في الفقه الإسلامي\"\n",
      "Searching al-mawsuah for \"هل الإسلام يشجع على العنف؟\"\n",
      "Searching al-mawsuah for \"إرشادات الفقه الإسلامي حول التعامل مع الأمراض النفسية\"\n",
      "Searching al-mawsuah for \"السعادة في الفقه الإسلامي وكيفية تحقيقها\"\n",
      "Searching al-mawsuah for \"هل يسمح الإسلام بالحرب الوقائية؟\"\n",
      "Searching al-mawsuah for \"لماذا يصلي المسلمون يوميا؟\"\n",
      "Searching al-mawsuah for \"ما هو رمضان؟\"\n"
     ]
    },
    {
     "name": "stderr",
     "output_type": "stream",
     "text": [
      "Average Metric: 98 / 13  (753.8):  12%|█▏        | 12/98 [00:04<00:28,  3.00it/s]"
     ]
    },
    {
     "name": "stdout",
     "output_type": "stream",
     "text": [
      "Searching quran for \"كيف تصوم رمضان؟\"\n",
      "Searching quran for \"كيف نعلم أن القرآن وحي إلهي؟\"\n",
      "Searching quran for \"من يجب عليه الصيام في رمضان؟\"\n",
      "Searching quran for \"هل التجديف يعاقب عليه بالإعدام؟\"\n",
      "Searching quran for \"ما هو الغرض من الصيام في رمضان؟\"\n"
     ]
    },
    {
     "name": "stderr",
     "output_type": "stream",
     "text": [
      "Average Metric: 114 / 16  (712.5):  15%|█▌        | 15/98 [00:05<00:21,  3.82it/s]"
     ]
    },
    {
     "name": "stdout",
     "output_type": "stream",
     "text": [
      "Searching quran for \"ماذا يقدم الإسلام للناس؟\"\n",
      "Searching quran for \"مدة الصيام في رمضان\"\n",
      "Searching quran for \"كيف يُساء تفسير الجهاد كإرهاب؟\"\n",
      "Searching hadith for \"كيف تصوم رمضان؟\"\n",
      "Searching hadith for \"هل التجديف يعاقب عليه بالإعدام؟\"\n",
      "Searching hadith for \"كيف نعلم أن القرآن وحي إلهي؟\"\n",
      "Searching hadith for \"من يجب عليه الصيام في رمضان؟\"\n",
      "Searching hadith for \"ما هو الغرض من الصيام في رمضان؟\"\n",
      "Searching hadith for \"ماذا يقدم الإسلام للناس؟\"\n",
      "Searching hadith for \"مدة الصيام في رمضان\"\n",
      "Searching hadith for \"كيف يُساء تفسير الجهاد كإرهاب؟\"\n",
      "Searching al-mawsuah for \"كيف تصوم رمضان؟\"\n",
      "Searching al-mawsuah for \"كيف نعلم أن القرآن وحي إلهي؟\"\n",
      "Searching al-mawsuah for \"من يجب عليه الصيام في رمضان؟\"\n",
      "Searching al-mawsuah for \"هل التجديف يعاقب عليه بالإعدام؟\"\n",
      "Searching al-mawsuah for \"ما هو الغرض من الصيام في رمضان؟\"\n",
      "Searching al-mawsuah for \"مدة الصيام في رمضان\"\n",
      "Searching al-mawsuah for \"كيف يُساء تفسير الجهاد كإرهاب؟\"\n",
      "Searching al-mawsuah for \"ماذا يقدم الإسلام للناس؟\"\n"
     ]
    },
    {
     "name": "stderr",
     "output_type": "stream",
     "text": [
      "Average Metric: 132 / 18  (733.3):  17%|█▋        | 17/98 [00:07<00:34,  2.38it/s]"
     ]
    },
    {
     "name": "stdout",
     "output_type": "stream",
     "text": [
      "Searching quran for \"كيف يُساء تفسير الجهاد كإرهاب؟\"\n",
      "Searching quran for \"أركان الإسلام الخمسة\"\n"
     ]
    },
    {
     "name": "stderr",
     "output_type": "stream",
     "text": [
      "Average Metric: 182 / 24  (758.3):  23%|██▎       | 23/98 [00:07<00:25,  2.90it/s]"
     ]
    },
    {
     "name": "stdout",
     "output_type": "stream",
     "text": [
      "Searching quran for \"كيف يعامل الإسلام الأقليات الدينية؟\"\n",
      "Searching quran for \"ليلة القدر\"\n",
      "Searching quran for \"من هو الله\"\n",
      "Searching quran for \"هل يؤمن المسلمون بالروح القدس؟\"\n",
      "Searching quran for \"هل يؤمن المسلمون بالجنة والنار؟\"\n",
      "Searching quran for \"ما معنى الجهاد؟\"\n"
     ]
    },
    {
     "name": "stderr",
     "output_type": "stream",
     "text": [
      "Average Metric: 182 / 24  (758.3):  24%|██▍       | 24/98 [00:07<00:14,  5.00it/s]"
     ]
    },
    {
     "name": "stdout",
     "output_type": "stream",
     "text": [
      "Searching hadith for \"كيف يُساء تفسير الجهاد كإرهاب؟\"\n",
      "Searching hadith for \"أركان الإسلام الخمسة\"\n",
      "Searching hadith for \"معاملة الإسلام للأقليات الدينية\"\n",
      "Searching hadith for \"ما هي ليلة القدر\"\n",
      "Searching hadith for \"هل ذكر النبي الجنة والنار؟\"\n",
      "Searching hadith for \"هل ذكر الروح القدس في الأحاديث؟\"\n",
      "Searching hadith for \"من هو الله\"\n",
      "Searching hadith for \"ما معنى الجهاد؟\"\n",
      "Searching al-mawsuah for \"كيف يُساء تفسير الجهاد كإرهاب؟\"\n",
      "Searching al-mawsuah for \"أركان الإسلام الخمسة\"\n",
      "Searching al-mawsuah for \"معاملة الأقليات الدينية في الفقه الإسلامي\"\n",
      "Searching al-mawsuah for \"ليلة القدر في الفقه الإسلامي\"\n",
      "Searching al-mawsuah for \"الإيمان بالجنة والنار في الفقه الإسلامي\"\n",
      "Searching al-mawsuah for \"الإيمان بالروح القدس في الفقه الإسلامي\"\n",
      "Searching al-mawsuah for \"ما معنى الجهاد؟\"\n",
      "Searching al-mawsuah for \"من هو الله\"\n"
     ]
    },
    {
     "name": "stderr",
     "output_type": "stream",
     "text": [
      "Average Metric: 198 / 26  (761.5):  27%|██▋       | 26/98 [00:09<00:26,  2.70it/s]"
     ]
    },
    {
     "name": "stdout",
     "output_type": "stream",
     "text": [
      "Searching quran for \"أين يحدث الحج؟\"\n",
      "Searching quran for \"أحكام الحرب في الإسلام\"\n"
     ]
    },
    {
     "name": "stderr",
     "output_type": "stream",
     "text": [
      "Average Metric: 244 / 31  (787.1):  31%|███       | 30/98 [00:10<00:16,  4.01it/s]"
     ]
    },
    {
     "name": "stdout",
     "output_type": "stream",
     "text": [
      "Searching quran for \"متى ليلة القدر؟\"\n",
      "Searching quran for \"كم مرة يصلي المسلمون خلال رمضان؟\"\n",
      "Searching quran for \"لماذا الكعبة مهمة؟\"\n",
      "Searching quran for \"لماذا يجب على المسلمين الصيام لمدة شهر كامل؟\"\n"
     ]
    },
    {
     "name": "stderr",
     "output_type": "stream",
     "text": [
      "Average Metric: 250 / 32  (781.2):  32%|███▏      | 31/98 [00:10<00:16,  4.01it/s]"
     ]
    },
    {
     "name": "stdout",
     "output_type": "stream",
     "text": [
      "Searching quran for \"كيف يمكن فهم والتعامل مع الحزن والأسى في الإسلام؟\"\n",
      "Searching quran for \"كيف يمكن للمرء أن يطهر قلبه وروحه؟\"\n",
      "Searching hadith for \"أين يحدث الحج؟\"\n",
      "Searching hadith for \"أحاديث عن أحكام الحرب في الإسلام\"\n",
      "Searching hadith for \"متى ليلة القدر؟\"\n",
      "Searching hadith for \"كم مرة يصلي المسلمون خلال رمضان؟\"\n",
      "Searching hadith for \"لماذا الكعبة مهمة؟\"\n",
      "Searching hadith for \"كيف يمكن للمرء أن يطهر قلبه وروحه؟\"\n",
      "Searching hadith for \"لماذا يجب على المسلمين الصيام لمدة شهر كامل؟\"\n",
      "Searching hadith for \"كيف يمكن فهم والتعامل مع الحزن والأسى في الإسلام؟\"\n",
      "Searching al-mawsuah for \"أين يحدث الحج؟\"\n",
      "Searching al-mawsuah for \"أحكام الحرب في الفقه الإسلامي\"\n",
      "Searching al-mawsuah for \"متى ليلة القدر؟\"\n",
      "Searching al-mawsuah for \"كم مرة يصلي المسلمون خلال رمضان؟\"\n",
      "Searching al-mawsuah for \"أهمية الكعبة في الفقه الإسلامي\"\n",
      "Searching al-mawsuah for \"كيف يمكن للمرء أن يطهر قلبه وروحه؟\"\n",
      "Searching al-mawsuah for \"لماذا يجب على المسلمين الصيام لمدة شهر كامل؟\"\n",
      "Searching al-mawsuah for \"كيف يمكن فهم والتعامل مع الحزن والأسى في الإسلام؟\"\n"
     ]
    },
    {
     "name": "stderr",
     "output_type": "stream",
     "text": [
      "Average Metric: 262 / 33  (793.9):  34%|███▎      | 33/98 [00:11<00:24,  2.67it/s]"
     ]
    },
    {
     "name": "stdout",
     "output_type": "stream",
     "text": [
      "Searching quran for \"ما هي الكعبة؟\"\n"
     ]
    },
    {
     "name": "stderr",
     "output_type": "stream",
     "text": [
      "Average Metric: 286 / 36  (794.4):  36%|███▌      | 35/98 [00:12<00:22,  2.80it/s]"
     ]
    },
    {
     "name": "stdout",
     "output_type": "stream",
     "text": [
      "Searching quran for \"من هو النبي محمد؟\"\n",
      "Searching quran for \"ما هي التزكية؟\"\n",
      "Searching quran for \"أحكام الحرب في الإسلام\"\n"
     ]
    },
    {
     "name": "stderr",
     "output_type": "stream",
     "text": [
      "Average Metric: 320 / 40  (800.0):  40%|███▉      | 39/98 [00:12<00:15,  3.88it/s]"
     ]
    },
    {
     "name": "stdout",
     "output_type": "stream",
     "text": [
      "Searching quran for \"ما الذي يعلمه الإسلام عن إدارة القلق والاكتئاب والشك الذاتي؟\"\n",
      "Searching quran for \"أين تؤدى العمرة؟\"\n",
      "Searching quran for \"كيف تكون الروحانية الإسلامية فريدة؟\"\n",
      "Searching quran for \"كيف يفهم الإسلام الروح\"\n",
      "Searching hadith for \"ما هي الكعبة؟\"\n",
      "Searching hadith for \"ما هي التزكية؟\"\n",
      "Searching hadith for \"من هو النبي محمد؟\"\n",
      "Searching hadith for \"أحاديث عن أحكام الحرب في الإسلام\"\n",
      "Searching hadith for \"ما الذي يعلمه الإسلام عن إدارة القلق والاكتئاب والشك الذاتي؟\"\n",
      "Searching hadith for \"كيف تكون الروحانية الإسلامية فريدة؟\"\n",
      "Searching hadith for \"فهم الروح في الإسلام\"\n",
      "Searching hadith for \"أين تؤدى العمرة؟\"\n",
      "Searching al-mawsuah for \"ما هي الكعبة؟\"\n",
      "Searching al-mawsuah for \"ما هي التزكية؟\"\n",
      "Searching al-mawsuah for \"أحكام الحرب في الفقه الإسلامي\"\n",
      "Searching al-mawsuah for \"من هو النبي محمد؟\"\n",
      "Searching al-mawsuah for \"ما الذي يعلمه الإسلام عن إدارة القلق والاكتئاب والشك الذاتي؟\"\n",
      "Searching al-mawsuah for \"كيف تكون الروحانية الإسلامية فريدة؟\"\n",
      "Searching al-mawsuah for \"الروح في الفقه الإسلامي\"\n"
     ]
    },
    {
     "name": "stderr",
     "output_type": "stream",
     "text": [
      "Average Metric: 336 / 42  (800.0):  42%|████▏     | 41/98 [00:14<00:20,  2.74it/s]"
     ]
    },
    {
     "name": "stdout",
     "output_type": "stream",
     "text": [
      "Searching quran for \"من هو عيسى في الإسلام؟\"\n",
      "Searching quran for \"ما هو الإسلام؟\"\n"
     ]
    },
    {
     "name": "stderr",
     "output_type": "stream",
     "text": [
      "Average Metric: 364 / 46  (791.3):  46%|████▌     | 45/98 [00:14<00:13,  3.94it/s]"
     ]
    },
    {
     "name": "stdout",
     "output_type": "stream",
     "text": [
      "Searching quran for \"متى رمضان؟\"Searching quran for \"كيف يعامل الإسلام الأقليات الدينية؟\"\n",
      "\n",
      "Searching quran for \"كيف تتعلق الشريعة بطقوس العبادة؟\"\n",
      "Searching quran for \"هل انتشر الإسلام بالعنف والإكراه؟\"\n",
      "Searching al-mawsuah for \"أين تؤدى العمرة؟\"\n"
     ]
    },
    {
     "name": "stderr",
     "output_type": "stream",
     "text": [
      "Average Metric: 374 / 47  (795.7):  48%|████▊     | 47/98 [00:15<00:11,  4.56it/s]"
     ]
    },
    {
     "name": "stdout",
     "output_type": "stream",
     "text": [
      "Searching quran for \"لماذا يتم الاحتفال بشهر رمضان؟\"\n",
      "Searching hadith for \"ما هو الإسلام؟\"\n",
      "Searching hadith for \"من هو عيسى في الأحاديث؟\"\n"
     ]
    },
    {
     "name": "stderr",
     "output_type": "stream",
     "text": [
      "Average Metric: 382 / 48  (795.8):  49%|████▉     | 48/98 [00:15<00:13,  3.73it/s]"
     ]
    },
    {
     "name": "stdout",
     "output_type": "stream",
     "text": [
      "Searching hadith for \"معاملة الإسلام للأقليات الدينية\"\n",
      "Searching hadith for \"متى رمضان؟\"\n",
      "Searching quran for \"من هو النبي إبراهيم؟\"\n",
      "Searching hadith for \"كيف تتعلق الشريعة بطقوس العبادة؟\"\n",
      "Searching hadith for \"هل انتشر الإسلام بالعنف والإكراه؟\"\n",
      "Searching hadith for \"لماذا يتم الاحتفال بشهر رمضان؟\"\n",
      "Searching al-mawsuah for \"ما هو الإسلام؟\"\n",
      "Searching al-mawsuah for \"من هو عيسى في الفقه الإسلامي؟\"\n",
      "Searching al-mawsuah for \"معاملة الأقليات الدينية في الفقه الإسلامي\"\n",
      "Searching al-mawsuah for \"هل انتشر الإسلام بالعنف والإكراه؟\"\n",
      "Searching al-mawsuah for \"كيف تتعلق الشريعة بطقوس العبادة؟\"\n",
      "Searching al-mawsuah for \"متى رمضان؟\"\n",
      "Searching hadith for \"من هو النبي إبراهيم؟\"\n",
      "Searching al-mawsuah for \"لماذا يتم الاحتفال بشهر رمضان؟\"\n"
     ]
    },
    {
     "name": "stderr",
     "output_type": "stream",
     "text": [
      "Average Metric: 392 / 50  (784.0):  50%|█████     | 49/98 [00:17<00:27,  1.75it/s]"
     ]
    },
    {
     "name": "stdout",
     "output_type": "stream",
     "text": [
      "Searching quran for \"ما هو زكاة الفطر؟\"\n",
      "Searching quran for \"هل يسمح الإسلام بقتل المدنيين؟\"\n"
     ]
    },
    {
     "name": "stderr",
     "output_type": "stream",
     "text": [
      "Average Metric: 428 / 54  (792.6):  55%|█████▌    | 54/98 [00:17<00:11,  3.85it/s]"
     ]
    },
    {
     "name": "stdout",
     "output_type": "stream",
     "text": [
      "Searching quran for \"ما هو الفقه؟\"\n",
      "Searching quran for \"كيف تتعلق الشريعة بالمجتمع؟\"\n",
      "Searching quran for \"أهمية الصدقة في رمضان\"\n",
      "Searching quran for \"القيود الغذائية في الإسلام\"\n"
     ]
    },
    {
     "name": "stderr",
     "output_type": "stream",
     "text": [
      "Average Metric: 436 / 55  (792.7):  55%|█████▌    | 54/98 [00:18<00:11,  3.85it/s]"
     ]
    },
    {
     "name": "stdout",
     "output_type": "stream",
     "text": [
      "Searching al-mawsuah for \"من هو النبي إبراهيم؟\"\n",
      "Searching quran for \"ما هو القرآن؟\"\n",
      "Searching hadith for \"هل يسمح الإسلام بقتل المدنيين؟\"\n",
      "Searching hadith for \"ما هو زكاة الفطر؟\"\n"
     ]
    },
    {
     "name": "stderr",
     "output_type": "stream",
     "text": [
      "Average Metric: 442 / 56  (789.3):  57%|█████▋    | 56/98 [00:18<00:13,  3.17it/s]"
     ]
    },
    {
     "name": "stdout",
     "output_type": "stream",
     "text": [
      "Searching hadith for \"ما هو الفقه؟\"\n",
      "Searching hadith for \"كيف تتعلق الشريعة بالمجتمع؟\"\n",
      "Searching hadith for \"فضل الصدقة في رمضان\"\n",
      "Searching hadith for \"القيود الغذائية في الإسلام\"\n",
      "Searching quran for \"من بنى الكعبة؟\"\n",
      "Searching hadith for \"ما هو القرآن؟\"\n",
      "Searching al-mawsuah for \"هل يسمح الإسلام بقتل المدنيين؟\"\n",
      "Searching al-mawsuah for \"ما هو زكاة الفطر؟\"\n",
      "Searching al-mawsuah for \"الصدقة في رمضان\"\n",
      "Searching al-mawsuah for \"كيف تتعلق الشريعة بالمجتمع؟\"\n",
      "Searching al-mawsuah for \"ما هو الفقه؟\"\n",
      "Searching al-mawsuah for \"ما هو القرآن؟\"\n"
     ]
    },
    {
     "name": "stderr",
     "output_type": "stream",
     "text": [
      "Average Metric: 448 / 57  (786.0):  58%|█████▊    | 57/98 [00:19<00:17,  2.35it/s]"
     ]
    },
    {
     "name": "stdout",
     "output_type": "stream",
     "text": [
      "Searching al-mawsuah for \"القيود الغذائية في الإسلام\"\n",
      "Searching hadith for \"من بنى الكعبة؟\"\n",
      "Searching quran for \"من أين تأتي الشريعة؟\"\n"
     ]
    },
    {
     "name": "stderr",
     "output_type": "stream",
     "text": [
      "Average Metric: 452 / 58  (779.3):  58%|█████▊    | 57/98 [00:19<00:17,  2.35it/s]"
     ]
    },
    {
     "name": "stdout",
     "output_type": "stream",
     "text": [
      "Searching quran for \"كيف يغذي الإسلام رفاهنا العاطفي؟\"\n"
     ]
    },
    {
     "name": "stderr",
     "output_type": "stream",
     "text": [
      "Average Metric: 486 / 62  (783.9):  63%|██████▎   | 62/98 [00:20<00:08,  4.31it/s]"
     ]
    },
    {
     "name": "stdout",
     "output_type": "stream",
     "text": [
      "Searching quran for \"كيفية أداء العمرة\"\n",
      "Searching quran for \"هل يقول القرآن بقتل غير المؤمنين؟\"\n",
      "Searching quran for \"آيات القرآن للتعامل مع الضيق والشدائد\"\n",
      "Searching quran for \"هل التجديف يعاقب عليه بالإعدام؟\"\n",
      "Searching al-mawsuah for \"من بنى الكعبة؟\"\n"
     ]
    },
    {
     "name": "stderr",
     "output_type": "stream",
     "text": [
      "Average Metric: 496 / 63  (787.3):  63%|██████▎   | 62/98 [00:20<00:08,  4.31it/s]"
     ]
    },
    {
     "name": "stdout",
     "output_type": "stream",
     "text": [
      "Searching quran for \"هل يسمح الإسلام بقتل المدنيين؟\"\n",
      "Searching hadith for \"من أين تأتي الشريعة؟\"\n",
      "Searching hadith for \"كيف يغذي الإسلام رفاهنا العاطفي؟\"\n"
     ]
    },
    {
     "name": "stderr",
     "output_type": "stream",
     "text": [
      "Average Metric: 504 / 64  (787.5):  65%|██████▌   | 64/98 [00:21<00:09,  3.41it/s]"
     ]
    },
    {
     "name": "stdout",
     "output_type": "stream",
     "text": [
      "Searching hadith for \"كيفية أداء العمرة\"\n",
      "Searching hadith for \"هل يوجد حديث يأمر بقتل غير المؤمنين؟\"\n",
      "Searching hadith for \"أحاديث عن التعامل مع الضيق والشدائد\"\n",
      "Searching hadith for \"هل التجديف يعاقب عليه بالإعدام؟\"\n",
      "Searching quran for \"ما معنى الإسلام؟\"\n",
      "Searching hadith for \"هل يسمح الإسلام بقتل المدنيين؟\"\n",
      "Searching al-mawsuah for \"مصادر الشريعة الإسلامية\"\n",
      "Searching al-mawsuah for \"كيف يغذي الإسلام رفاهنا العاطفي؟\"\n",
      "Searching al-mawsuah for \"كيفية أداء العمرة\"\n",
      "Searching al-mawsuah for \"ما هو حكم قتل غير المؤمنين في الفقه الإسلامي؟\"\n",
      "Searching al-mawsuah for \"أحكام الفقه الإسلامي حول التعامل مع الضيق والشدائد\"\n",
      "Searching al-mawsuah for \"هل التجديف يعاقب عليه بالإعدام؟\"\n"
     ]
    },
    {
     "name": "stderr",
     "output_type": "stream",
     "text": [
      "Average Metric: 514 / 65  (790.8):  66%|██████▋   | 65/98 [00:22<00:13,  2.53it/s]"
     ]
    },
    {
     "name": "stdout",
     "output_type": "stream",
     "text": [
      "Searching al-mawsuah for \"هل يسمح الإسلام بقتل المدنيين؟\"\n",
      "Searching hadith for \"ما معنى الإسلام في الحديث؟\"\n",
      "Searching quran for \"ما هو عيد الفطر؟\"\n",
      "Searching quran for \"لماذا الحج مهم؟\"\n"
     ]
    },
    {
     "name": "stderr",
     "output_type": "stream",
     "text": [
      "Average Metric: 546 / 70  (780.0):  70%|███████   | 69/98 [00:22<00:07,  3.88it/s]"
     ]
    },
    {
     "name": "stdout",
     "output_type": "stream",
     "text": [
      "Searching quran for \"هل يقول القرآن بقتل غير المؤمنين؟\"\n",
      "Searching quran for \"كيفية أداء الحج\"\n",
      "Searching quran for \"هل هناك استثناءات أو إعفاءات من الصيام؟\"\n",
      "Searching quran for \"ما هي العمرة؟\"\n"
     ]
    },
    {
     "name": "stderr",
     "output_type": "stream",
     "text": [
      "Average Metric: 552 / 71  (777.5):  71%|███████▏  | 70/98 [00:22<00:07,  3.88it/s]"
     ]
    },
    {
     "name": "stdout",
     "output_type": "stream",
     "text": [
      "Searching quran for \"هل انتشر الإسلام بالعنف والإكراه؟\"\n",
      "Searching al-mawsuah for \"ما هو تعريف الإسلام في الفقه الإسلامي؟\"\n",
      "Searching hadith for \"ما هو عيد الفطر؟\"\n",
      "Searching hadith for \"أهمية الحج في الأحاديث\"\n",
      "Searching hadith for \"كيفية أداء الحج\"\n",
      "Searching hadith for \"هل يوجد حديث يأمر بقتل غير المؤمنين؟\"\n",
      "Searching hadith for \"هل انتشر الإسلام بالعنف والإكراه؟\"Searching hadith for \"ما هي العمرة؟\"\n",
      "\n",
      "Searching hadith for \"هل هناك استثناءات أو إعفاءات من الصيام؟\"\n",
      "Searching al-mawsuah for \"ما هو عيد الفطر؟\"\n"
     ]
    },
    {
     "name": "stderr",
     "output_type": "stream",
     "text": [
      "Average Metric: 560 / 72  (777.8):  73%|███████▎  | 72/98 [00:24<00:07,  3.28it/s]"
     ]
    },
    {
     "name": "stdout",
     "output_type": "stream",
     "text": [
      "Searching al-mawsuah for \"أهمية الحج في الفقه الإسلامي\"\n",
      "Searching quran for \"هل العمرة والحج نفس الشيء؟\"\n",
      "Searching al-mawsuah for \"كيفية أداء الحج\"\n",
      "Searching al-mawsuah for \"ما هو حكم قتل غير المؤمنين في الفقه الإسلامي؟\"\n",
      "Searching al-mawsuah for \"هل انتشر الإسلام بالعنف والإكراه؟\"\n",
      "Searching al-mawsuah for \"ما هي العمرة؟\"\n",
      "Searching al-mawsuah for \"هل هناك استثناءات أو إعفاءات من الصيام؟\"\n"
     ]
    },
    {
     "name": "stderr",
     "output_type": "stream",
     "text": [
      "Average Metric: 576 / 75  (768.0):  76%|███████▌  | 74/98 [00:24<00:09,  2.57it/s]"
     ]
    },
    {
     "name": "stdout",
     "output_type": "stream",
     "text": [
      "Searching hadith for \"هل العمرة والحج نفس الشيء؟\"\n",
      "Searching quran for \"ماذا يؤمن المسلمون؟\"\n",
      "Searching quran for \"هل الشريعة موحدة وغير متغيرة؟\"\n",
      "Searching quran for \"ما هي الصدقة؟\"\n"
     ]
    },
    {
     "name": "stderr",
     "output_type": "stream",
     "text": [
      "Average Metric: 600 / 78  (769.2):  79%|███████▊  | 77/98 [00:25<00:05,  3.93it/s]"
     ]
    },
    {
     "name": "stdout",
     "output_type": "stream",
     "text": [
      "Searching quran for \"صلاة التراويح\"\n",
      "Searching quran for \"ما هو التوحيد؟\"\n",
      "Searching quran for \"ما معنى الجهاد؟\"\n"
     ]
    },
    {
     "name": "stderr",
     "output_type": "stream",
     "text": [
      "Average Metric: 612 / 79  (774.7):  81%|████████  | 79/98 [00:25<00:03,  5.42it/s]"
     ]
    },
    {
     "name": "stdout",
     "output_type": "stream",
     "text": [
      "Searching quran for \"كيف يتناول الإسلام القدر والإرادة الحرة؟\"Searching al-mawsuah for \"هل العمرة والحج نفس الشيء؟\"\n",
      "\n",
      "Searching hadith for \"ماذا يؤمن المسلمون؟\"\n",
      "Searching hadith for \"هل الشريعة موحدة وغير متغيرة؟\"\n",
      "Searching hadith for \"ما هي الصدقة؟\"\n",
      "Searching hadith for \"صلاة التراويح\"\n",
      "Searching hadith for \"ما معنى الجهاد؟\"\n"
     ]
    },
    {
     "name": "stderr",
     "output_type": "stream",
     "text": [
      "Average Metric: 620 / 80  (775.0):  82%|████████▏ | 80/98 [00:26<00:05,  3.28it/s]"
     ]
    },
    {
     "name": "stdout",
     "output_type": "stream",
     "text": [
      "Searching hadith for \"ما هو التوحيد؟\"\n",
      "Searching quran for \"الطلاق في الإسلام\"\n",
      "Searching hadith for \"كيف يتناول الإسلام القدر والإرادة الحرة؟\"\n",
      "Searching al-mawsuah for \"ماذا يؤمن المسلمون؟\"\n",
      "Searching al-mawsuah for \"هل الشريعة موحدة وغير متغيرة؟\"\n",
      "Searching al-mawsuah for \"ما هي الصدقة؟\"\n",
      "Searching al-mawsuah for \"صلاة التراويح\"\n",
      "Searching al-mawsuah for \"ما معنى الجهاد؟\"\n"
     ]
    },
    {
     "name": "stderr",
     "output_type": "stream",
     "text": [
      "Average Metric: 628 / 81  (775.3):  83%|████████▎ | 81/98 [00:27<00:07,  2.16it/s]"
     ]
    },
    {
     "name": "stdout",
     "output_type": "stream",
     "text": [
      "Searching al-mawsuah for \"ما هو التوحيد؟\"\n",
      "Searching hadith for \"حديث عن الطلاق\"\n",
      "Searching al-mawsuah for \"كيف يتناول الإسلام القدر والإرادة الحرة؟\"\n",
      "Searching quran for \"ما هي الأعياد التي يحتفل بها المسلمون؟\"\n"
     ]
    },
    {
     "name": "stderr",
     "output_type": "stream",
     "text": [
      "Average Metric: 638 / 83  (768.7):  85%|████████▍ | 83/98 [00:27<00:04,  3.14it/s]"
     ]
    },
    {
     "name": "stdout",
     "output_type": "stream",
     "text": [
      "Searching quran for \"هل الوسواس القهري نتيجة وساوس الشيطان؟\"\n",
      "Searching quran for \"كيف نعرف أن الله موجود؟\"\n"
     ]
    },
    {
     "name": "stderr",
     "output_type": "stream",
     "text": [
      "Average Metric: 650 / 85  (764.7):  86%|████████▌ | 84/98 [00:27<00:03,  3.51it/s]"
     ]
    },
    {
     "name": "stdout",
     "output_type": "stream",
     "text": [
      "Searching quran for \"تاريخ الشريعة\"\n",
      "Searching quran for \"هل يسمح الإسلام بالحرب الوقائية؟\"\n",
      "Searching al-mawsuah for \"الطلاق في الفقه الإسلامي\"\n"
     ]
    },
    {
     "name": "stderr",
     "output_type": "stream",
     "text": [
      "Average Metric: 662 / 87  (760.9):  88%|████████▊ | 86/98 [00:27<00:02,  4.48it/s]"
     ]
    },
    {
     "name": "stdout",
     "output_type": "stream",
     "text": [
      "Searching quran for \"الوحي في الإسلام\"\n",
      "Searching quran for \"هل الإسلام يشجع على العنف؟\"\n",
      "Searching hadith for \"هل الوسواس القهري نتيجة وساوس الشيطان؟\"\n",
      "Searching hadith for \"ما هي الأعياد التي يحتفل بها المسلمون؟\"\n",
      "Searching hadith for \"كيف نعرف أن الله موجود؟\"\n",
      "Searching hadith for \"تاريخ الشريعة\"\n",
      "Searching hadith for \"هل يسمح الإسلام بالحرب الوقائية؟\"\n"
     ]
    },
    {
     "name": "stderr",
     "output_type": "stream",
     "text": [
      "Average Metric: 670 / 88  (761.4):  90%|████████▉ | 88/98 [00:28<00:03,  3.32it/s]"
     ]
    },
    {
     "name": "stdout",
     "output_type": "stream",
     "text": [
      "Searching hadith for \"هل الإسلام يشجع على العنف؟\"Searching hadith for \"الوحي في الإسلام\"\n",
      "\n",
      "Searching quran for \"ما هي أهمية الحج؟\"\n",
      "Searching al-mawsuah for \"هل الوسواس القهري نتيجة وساوس الشيطان؟\"\n",
      "Searching al-mawsuah for \"ما هي الأعياد التي يحتفل بها المسلمون؟\"\n",
      "Searching al-mawsuah for \"تاريخ الشريعة\"\n",
      "Searching al-mawsuah for \"كيف نعرف أن الله موجود؟\"\n",
      "Searching al-mawsuah for \"هل يسمح الإسلام بالحرب الوقائية؟\"\n",
      "Searching al-mawsuah for \"الوحي في الإسلام\"\n",
      "Searching al-mawsuah for \"هل الإسلام يشجع على العنف؟\"\n",
      "Searching hadith for \"ما هي أهمية الحج؟\"\n"
     ]
    },
    {
     "name": "stderr",
     "output_type": "stream",
     "text": [
      "Average Metric: 684 / 90  (760.0):  91%|█████████ | 89/98 [00:29<00:03,  2.36it/s]"
     ]
    },
    {
     "name": "stdout",
     "output_type": "stream",
     "text": [
      "Searching quran for \"لماذا يطلب الله من الناس عبادته؟\"\n",
      "Searching quran for \"هل يؤمن المسلمون بصلب عيسى؟\"\n"
     ]
    },
    {
     "name": "stderr",
     "output_type": "stream",
     "text": [
      "Average Metric: 724 / 95  (762.1):  96%|█████████▌| 94/98 [00:30<00:00,  4.60it/s]"
     ]
    },
    {
     "name": "stdout",
     "output_type": "stream",
     "text": [
      "Searching al-mawsuah for \"ما هي أهمية الحج؟\"\n",
      "Searching hadith for \"لماذا يطلب الله من الناس عبادته؟\"\n",
      "Searching hadith for \"هل ورد في الأحاديث أن المسلمين يؤمنون بصلب عيسى؟\"\n"
     ]
    },
    {
     "name": "stderr",
     "output_type": "stream",
     "text": [
      "Average Metric: 734 / 96  (764.6):  98%|█████████▊| 96/98 [00:31<00:00,  3.14it/s]"
     ]
    },
    {
     "name": "stdout",
     "output_type": "stream",
     "text": [
      "Searching al-mawsuah for \"لماذا يطلب الله من الناس عبادته؟\"\n",
      "Searching al-mawsuah for \"موقف الفقه الإسلامي من صلب عيسى\"\n"
     ]
    },
    {
     "name": "stderr",
     "output_type": "stream",
     "text": [
      "Average Metric: 748 / 98  (763.3): 100%|██████████| 98/98 [00:32<00:00,  3.03it/s]\n"
     ]
    },
    {
     "name": "stdout",
     "output_type": "stream",
     "text": [
      "Searching quran for \"أين الكعبة؟\"\n",
      "Searching quran for \"من يجب عليه أداء الحج؟\"\n",
      "Searching quran for \"هل يسمح الإسلام بجرائم الشرف؟\"\n",
      "Searching quran for \"هل يصوم المسلمون خارج رمضان؟\"\n",
      "Searching quran for \"هل يقدم القرآن توجيهات حول كيفية التعامل مع الصدمة والألم؟\"\n",
      "Searching quran for \"ما هي الفتوى؟\"\n",
      "Searching quran for \"ما معنى حلال؟\"\n"
     ]
    },
    {
     "name": "stderr",
     "output_type": "stream",
     "text": [
      "  0%|          | 0/98 [00:00<?, ?it/s]"
     ]
    },
    {
     "name": "stdout",
     "output_type": "stream",
     "text": [
      "Searching quran for \"هل الردة يعاقب عليها بالإعدام في الإسلام؟\"\n",
      "Searching hadith for \"هل توجد أحاديث تتعلق بجرائم الشرف؟\"\n",
      "Searching hadith for \"هل يصوم المسلمون خارج رمضان؟\"\n",
      "Searching hadith for \"من يجب عليه أداء الحج؟\"\n",
      "Searching hadith for \"هل تقدم السنة النبوية توجيهات حول كيفية التعامل مع الصدمة والألم؟\"\n",
      "Searching hadith for \"أين الكعبة؟\"\n",
      "Searching hadith for \"ما معنى حلال؟\"\n",
      "Searching hadith for \"ما هي الفتوى؟\"\n",
      "Searching hadith for \"هل يعاقب المرتد بالإعدام في الإسلام؟\"\n",
      "Searching al-mawsuah for \"ما هو حكم الفقه الإسلامي في جرائم الشرف؟\"\n",
      "Searching al-mawsuah for \"من يجب عليه أداء الحج؟\"\n",
      "Searching al-mawsuah for \"هل يصوم المسلمون خارج رمضان؟\"\n",
      "Searching al-mawsuah for \"أين الكعبة؟\"\n",
      "Searching al-mawsuah for \"كيفية التعامل مع الصدمة والألم في الفقه الإسلامي\"\n",
      "Searching al-mawsuah for \"ما معنى حلال؟\"\n",
      "Searching al-mawsuah for \"ما هي الفتوى؟\"\n",
      "Searching al-mawsuah for \"حكم الردة في الفقه الإسلامي\"\n"
     ]
    },
    {
     "name": "stderr",
     "output_type": "stream",
     "text": [
      "Average Metric: 54 / 7  (771.4):   6%|▌         | 6/98 [00:02<00:42,  2.15it/s]"
     ]
    },
    {
     "name": "stdout",
     "output_type": "stream",
     "text": [
      "Searching quran for \"ما هو رمضان؟\"\n",
      "Searching quran for \"هل الإسلام يشجع على العنف؟\"\n",
      "Searching quran for \"هل يسمح الإسلام بالحرب الوقائية؟\"\n",
      "Searching quran for \"كيف يصف القرآن السعادة؟ كيف يمكن تحقيقها في الإسلام؟\"\n",
      "Searching quran for \"أهمية ليلة القدر\"\n",
      "Searching quran for \"هل يوفر الإسلام إرشادات حول كيفية التعامل مع الأمراض النفسية؟\"\n",
      "Searching quran for \"ما هو رمضان؟\"\n"
     ]
    },
    {
     "name": "stderr",
     "output_type": "stream",
     "text": [
      "Average Metric: 64 / 8  (800.0):   8%|▊         | 8/98 [00:02<00:19,  4.57it/s]"
     ]
    },
    {
     "name": "stdout",
     "output_type": "stream",
     "text": [
      "Searching quran for \"لماذا يصلي المسلمون يوميا؟\"\n",
      "Searching hadith for \"ما هو رمضان؟\"\n",
      "Searching hadith for \"هل يسمح الإسلام بالحرب الوقائية؟\"\n",
      "Searching hadith for \"هل الإسلام يشجع على العنف؟\"\n",
      "Searching hadith for \"فضل ليلة القدر\"\n",
      "Searching hadith for \"هل هناك أحاديث تتحدث عن كيفية التعامل مع الأمراض النفسية؟\"\n",
      "Searching hadith for \"ما هو رمضان؟\"\n",
      "Searching hadith for \"كيف يصف الحديث السعادة؟ كيف يمكن تحقيقها في الإسلام؟\"\n",
      "Searching hadith for \"لماذا يصلي المسلمون يوميا؟\"\n",
      "Searching al-mawsuah for \"ما هو رمضان؟\"\n",
      "Searching al-mawsuah for \"هل الإسلام يشجع على العنف؟\"\n",
      "Searching al-mawsuah for \"أهمية ليلة القدر في الفقه الإسلامي\"\n",
      "Searching al-mawsuah for \"إرشادات الفقه الإسلامي حول التعامل مع الأمراض النفسية\"\n",
      "Searching al-mawsuah for \"هل يسمح الإسلام بالحرب الوقائية؟\"\n",
      "Searching al-mawsuah for \"ما هو رمضان؟\"\n",
      "Searching al-mawsuah for \"السعادة في الفقه الإسلامي وكيفية تحقيقها\"\n",
      "Searching al-mawsuah for \"لماذا يصلي المسلمون يوميا؟\"\n"
     ]
    },
    {
     "name": "stderr",
     "output_type": "stream",
     "text": [
      "Average Metric: 82 / 11  (745.5):  10%|█         | 10/98 [00:04<00:40,  2.18it/s]"
     ]
    },
    {
     "name": "stdout",
     "output_type": "stream",
     "text": [
      "Searching quran for \"كيف تصوم رمضان؟\"\n",
      "Searching quran for \"كيف نعلم أن القرآن وحي إلهي؟\"\n",
      "Searching quran for \"من يجب عليه الصيام في رمضان؟\"\n"
     ]
    },
    {
     "name": "stderr",
     "output_type": "stream",
     "text": [
      "Average Metric: 104 / 15  (693.3):  14%|█▍        | 14/98 [00:04<00:28,  2.93it/s]"
     ]
    },
    {
     "name": "stdout",
     "output_type": "stream",
     "text": [
      "Searching quran for \"هل التجديف يعاقب عليه بالإعدام؟\"\n",
      "Searching quran for \"ما هو الغرض من الصيام في رمضان؟\"\n",
      "Searching quran for \"ماذا يقدم الإسلام للناس؟\"\n",
      "Searching quran for \"مدة الصيام في رمضان\"\n"
     ]
    },
    {
     "name": "stderr",
     "output_type": "stream",
     "text": [
      "Average Metric: 114 / 16  (712.5):  16%|█▋        | 16/98 [00:05<00:17,  4.70it/s]"
     ]
    },
    {
     "name": "stdout",
     "output_type": "stream",
     "text": [
      "Searching quran for \"كيف يُساء تفسير الجهاد كإرهاب؟\"\n",
      "Searching hadith for \"كيف تصوم رمضان؟\"\n",
      "Searching hadith for \"كيف نعلم أن القرآن وحي إلهي؟\"\n",
      "Searching hadith for \"من يجب عليه الصيام في رمضان؟\"\n",
      "Searching hadith for \"هل التجديف يعاقب عليه بالإعدام؟\"\n",
      "Searching hadith for \"ماذا يقدم الإسلام للناس؟\"\n",
      "Searching hadith for \"مدة الصيام في رمضان\"\n",
      "Searching hadith for \"ما هو الغرض من الصيام في رمضان؟\"\n",
      "Searching hadith for \"كيف يُساء تفسير الجهاد كإرهاب؟\"\n",
      "Searching al-mawsuah for \"كيف تصوم رمضان؟\"\n",
      "Searching al-mawsuah for \"كيف نعلم أن القرآن وحي إلهي؟\"\n",
      "Searching al-mawsuah for \"من يجب عليه الصيام في رمضان؟\"\n",
      "Searching al-mawsuah for \"مدة الصيام في رمضان\"\n",
      "Searching al-mawsuah for \"ما هو الغرض من الصيام في رمضان؟\"\n",
      "Searching al-mawsuah for \"هل التجديف يعاقب عليه بالإعدام؟\"\n",
      "Searching al-mawsuah for \"ماذا يقدم الإسلام للناس؟\"\n",
      "Searching al-mawsuah for \"كيف يُساء تفسير الجهاد كإرهاب؟\"\n"
     ]
    },
    {
     "name": "stderr",
     "output_type": "stream",
     "text": [
      "Average Metric: 122 / 17  (717.6):  16%|█▋        | 16/98 [00:06<00:17,  4.70it/s]"
     ]
    },
    {
     "name": "stdout",
     "output_type": "stream",
     "text": [
      "Searching quran for \"كيف يُساء تفسير الجهاد كإرهاب؟\"\n"
     ]
    },
    {
     "name": "stderr",
     "output_type": "stream",
     "text": [
      "Average Metric: 142 / 19  (747.4):  19%|█▉        | 19/98 [00:07<00:29,  2.66it/s]"
     ]
    },
    {
     "name": "stdout",
     "output_type": "stream",
     "text": [
      "Searching quran for \"أركان الإسلام الخمسة\"\n",
      "Searching quran for \"كيف يعامل الإسلام الأقليات الدينية؟\"\n",
      "Searching quran for \"ليلة القدر\"\n",
      "Searching quran for \"من هو الله\"\n"
     ]
    },
    {
     "name": "stderr",
     "output_type": "stream",
     "text": [
      "Average Metric: 182 / 24  (758.3):  23%|██▎       | 23/98 [00:07<00:16,  4.66it/s]"
     ]
    },
    {
     "name": "stdout",
     "output_type": "stream",
     "text": [
      "Searching quran for \"هل يؤمن المسلمون بالروح القدس؟\"\n",
      "Searching quran for \"هل يؤمن المسلمون بالجنة والنار؟\"\n",
      "Searching quran for \"ما معنى الجهاد؟\"\n",
      "Searching hadith for \"كيف يُساء تفسير الجهاد كإرهاب؟\"\n",
      "Searching hadith for \"أركان الإسلام الخمسة\"\n",
      "Searching hadith for \"معاملة الإسلام للأقليات الدينية\"\n",
      "Searching hadith for \"هل ذكر الروح القدس في الأحاديث؟\"\n",
      "Searching hadith for \"من هو الله\"\n",
      "Searching hadith for \"هل ذكر النبي الجنة والنار؟\"\n",
      "Searching hadith for \"ما هي ليلة القدر\"\n",
      "Searching hadith for \"ما معنى الجهاد؟\"\n",
      "Searching al-mawsuah for \"كيف يُساء تفسير الجهاد كإرهاب؟\"\n",
      "Searching al-mawsuah for \"أركان الإسلام الخمسة\"\n",
      "Searching al-mawsuah for \"معاملة الأقليات الدينية في الفقه الإسلامي\"\n"
     ]
    },
    {
     "name": "stderr",
     "output_type": "stream",
     "text": [
      "Average Metric: 192 / 25  (768.0):  26%|██▌       | 25/98 [00:09<00:27,  2.70it/s]"
     ]
    },
    {
     "name": "stdout",
     "output_type": "stream",
     "text": [
      "Searching al-mawsuah for \"ليلة القدر في الفقه الإسلامي\"\n",
      "Searching al-mawsuah for \"الإيمان بالروح القدس في الفقه الإسلامي\"\n",
      "Searching al-mawsuah for \"الإيمان بالجنة والنار في الفقه الإسلامي\"\n",
      "Searching al-mawsuah for \"ما معنى الجهاد؟\"\n",
      "Searching al-mawsuah for \"من هو الله\"\n",
      "Searching quran for \"أين يحدث الحج؟\"\n"
     ]
    },
    {
     "name": "stderr",
     "output_type": "stream",
     "text": [
      "Average Metric: 198 / 26  (761.5):  26%|██▌       | 25/98 [00:09<00:27,  2.70it/s]"
     ]
    },
    {
     "name": "stdout",
     "output_type": "stream",
     "text": [
      "Searching quran for \"أحكام الحرب في الإسلام\"\n"
     ]
    },
    {
     "name": "stderr",
     "output_type": "stream",
     "text": [
      "Average Metric: 216 / 28  (771.4):  28%|██▊       | 27/98 [00:09<00:25,  2.80it/s]"
     ]
    },
    {
     "name": "stdout",
     "output_type": "stream",
     "text": [
      "Searching quran for \"متى ليلة القدر؟\"\n",
      "Searching quran for \"كم مرة يصلي المسلمون خلال رمضان؟\"\n",
      "Searching hadith for \"أين يحدث الحج؟\"\n"
     ]
    },
    {
     "name": "stderr",
     "output_type": "stream",
     "text": [
      "Average Metric: 250 / 32  (781.2):  32%|███▏      | 31/98 [00:10<00:19,  3.40it/s]"
     ]
    },
    {
     "name": "stdout",
     "output_type": "stream",
     "text": [
      "Searching quran for \"لماذا الكعبة مهمة؟\"\n",
      "Searching quran for \"لماذا يجب على المسلمين الصيام لمدة شهر كامل؟\"\n",
      "Searching quran for \"كيف يمكن فهم والتعامل مع الحزن والأسى في الإسلام؟\"\n",
      "Searching quran for \"كيف يمكن للمرء أن يطهر قلبه وروحه؟\"\n",
      "Searching hadith for \"أحاديث عن أحكام الحرب في الإسلام\"\n",
      "Searching hadith for \"متى ليلة القدر؟\"\n",
      "Searching hadith for \"كم مرة يصلي المسلمون خلال رمضان؟\"\n",
      "Searching hadith for \"لماذا الكعبة مهمة؟\"\n",
      "Searching al-mawsuah for \"أين يحدث الحج؟\"\n",
      "Searching hadith for \"كيف يمكن فهم والتعامل مع الحزن والأسى في الإسلام؟\"\n",
      "Searching hadith for \"لماذا يجب على المسلمين الصيام لمدة شهر كامل؟\"\n",
      "Searching hadith for \"كيف يمكن للمرء أن يطهر قلبه وروحه؟\"\n",
      "Searching al-mawsuah for \"أحكام الحرب في الفقه الإسلامي\"\n",
      "Searching al-mawsuah for \"متى ليلة القدر؟\"\n"
     ]
    },
    {
     "name": "stderr",
     "output_type": "stream",
     "text": [
      "Average Metric: 262 / 33  (793.9):  34%|███▎      | 33/98 [00:11<00:22,  2.93it/s]"
     ]
    },
    {
     "name": "stdout",
     "output_type": "stream",
     "text": [
      "Searching al-mawsuah for \"كم مرة يصلي المسلمون خلال رمضان؟\"\n",
      "Searching al-mawsuah for \"كيف يمكن للمرء أن يطهر قلبه وروحه؟\"\n",
      "Searching al-mawsuah for \"لماذا يجب على المسلمين الصيام لمدة شهر كامل؟\"\n",
      "Searching al-mawsuah for \"كيف يمكن فهم والتعامل مع الحزن والأسى في الإسلام؟\"\n",
      "Searching quran for \"ما هي الكعبة؟\"\n",
      "Searching al-mawsuah for \"أهمية الكعبة في الفقه الإسلامي\"\n"
     ]
    },
    {
     "name": "stderr",
     "output_type": "stream",
     "text": [
      "Average Metric: 286 / 36  (794.4):  37%|███▋      | 36/98 [00:12<00:17,  3.58it/s]"
     ]
    },
    {
     "name": "stdout",
     "output_type": "stream",
     "text": [
      "Searching quran for \"من هو النبي محمد؟\"\n",
      "Searching quran for \"ما هي التزكية؟\"\n",
      "Searching quran for \"أحكام الحرب في الإسلام\"\n"
     ]
    },
    {
     "name": "stderr",
     "output_type": "stream",
     "text": [
      "Average Metric: 320 / 40  (800.0):  40%|███▉      | 39/98 [00:12<00:16,  3.53it/s]"
     ]
    },
    {
     "name": "stdout",
     "output_type": "stream",
     "text": [
      "Searching hadith for \"ما هي الكعبة؟\"\n",
      "Searching quran for \"أين تؤدى العمرة؟\"\n",
      "Searching quran for \"ما الذي يعلمه الإسلام عن إدارة القلق والاكتئاب والشك الذاتي؟\"\n",
      "Searching quran for \"كيف تكون الروحانية الإسلامية فريدة؟\"\n",
      "Searching quran for \"كيف يفهم الإسلام الروح\"\n",
      "Searching hadith for \"ما هي التزكية؟\"\n",
      "Searching hadith for \"من هو النبي محمد؟\"\n",
      "Searching hadith for \"أحاديث عن أحكام الحرب في الإسلام\"\n",
      "Searching hadith for \"كيف تكون الروحانية الإسلامية فريدة؟\"\n",
      "Searching hadith for \"ما الذي يعلمه الإسلام عن إدارة القلق والاكتئاب والشك الذاتي؟\"\n",
      "Searching al-mawsuah for \"ما هي الكعبة؟\"\n",
      "Searching hadith for \"فهم الروح في الإسلام\"\n",
      "Searching al-mawsuah for \"ما هي التزكية؟\"\n",
      "Searching hadith for \"أين تؤدى العمرة؟\"\n",
      "Searching al-mawsuah for \"من هو النبي محمد؟\"\n",
      "Searching al-mawsuah for \"أحكام الحرب في الفقه الإسلامي\"\n"
     ]
    },
    {
     "name": "stderr",
     "output_type": "stream",
     "text": [
      "Average Metric: 336 / 42  (800.0):  43%|████▎     | 42/98 [00:14<00:17,  3.13it/s]"
     ]
    },
    {
     "name": "stdout",
     "output_type": "stream",
     "text": [
      "Searching al-mawsuah for \"كيف تكون الروحانية الإسلامية فريدة؟\"\n",
      "Searching quran for \"من هو عيسى في الإسلام؟\"\n",
      "Searching al-mawsuah for \"ما الذي يعلمه الإسلام عن إدارة القلق والاكتئاب والشك الذاتي؟\"\n",
      "Searching al-mawsuah for \"الروح في الفقه الإسلامي\"\n",
      "Searching quran for \"ما هو الإسلام؟\"\n"
     ]
    },
    {
     "name": "stderr",
     "output_type": "stream",
     "text": [
      "Average Metric: 342 / 43  (795.3):  44%|████▍     | 43/98 [00:14<00:17,  3.14it/s]"
     ]
    },
    {
     "name": "stdout",
     "output_type": "stream",
     "text": [
      "Searching quran for \"متى رمضان؟\"\n"
     ]
    },
    {
     "name": "stderr",
     "output_type": "stream",
     "text": [
      "Average Metric: 364 / 46  (791.3):  46%|████▌     | 45/98 [00:14<00:14,  3.78it/s]"
     ]
    },
    {
     "name": "stdout",
     "output_type": "stream",
     "text": [
      "Searching quran for \"كيف يعامل الإسلام الأقليات الدينية؟\"\n",
      "Searching al-mawsuah for \"أين تؤدى العمرة؟\"\n",
      "Searching quran for \"كيف تتعلق الشريعة بطقوس العبادة؟\"\n",
      "Searching quran for \"هل انتشر الإسلام بالعنف والإكراه؟\"\n"
     ]
    },
    {
     "name": "stderr",
     "output_type": "stream",
     "text": [
      "Average Metric: 374 / 47  (795.7):  48%|████▊     | 47/98 [00:15<00:10,  4.78it/s]"
     ]
    },
    {
     "name": "stdout",
     "output_type": "stream",
     "text": [
      "Searching hadith for \"من هو عيسى في الأحاديث؟\"\n",
      "Searching hadith for \"ما هو الإسلام؟\"\n",
      "Searching quran for \"لماذا يتم الاحتفال بشهر رمضان؟\"\n",
      "Searching hadith for \"متى رمضان؟\"\n"
     ]
    },
    {
     "name": "stderr",
     "output_type": "stream",
     "text": [
      "Average Metric: 382 / 48  (795.8):  49%|████▉     | 48/98 [00:15<00:14,  3.40it/s]"
     ]
    },
    {
     "name": "stdout",
     "output_type": "stream",
     "text": [
      "Searching hadith for \"معاملة الإسلام للأقليات الدينية\"\n",
      "Searching hadith for \"كيف تتعلق الشريعة بطقوس العبادة؟\"\n",
      "Searching quran for \"من هو النبي إبراهيم؟\"\n",
      "Searching al-mawsuah for \"ما هو الإسلام؟\"\n",
      "Searching hadith for \"هل انتشر الإسلام بالعنف والإكراه؟\"\n",
      "Searching al-mawsuah for \"من هو عيسى في الفقه الإسلامي؟\"\n",
      "Searching hadith for \"لماذا يتم الاحتفال بشهر رمضان؟\"\n",
      "Searching al-mawsuah for \"متى رمضان؟\"\n",
      "Searching al-mawsuah for \"معاملة الأقليات الدينية في الفقه الإسلامي\"\n",
      "Searching al-mawsuah for \"هل انتشر الإسلام بالعنف والإكراه؟\"\n",
      "Searching al-mawsuah for \"كيف تتعلق الشريعة بطقوس العبادة؟\"\n"
     ]
    },
    {
     "name": "stderr",
     "output_type": "stream",
     "text": [
      "Average Metric: 386 / 49  (787.8):  50%|█████     | 49/98 [00:16<00:19,  2.48it/s]"
     ]
    },
    {
     "name": "stdout",
     "output_type": "stream",
     "text": [
      "Searching quran for \"ما هو زكاة الفطر؟\"\n",
      "Searching hadith for \"من هو النبي إبراهيم؟\"\n",
      "Searching al-mawsuah for \"لماذا يتم الاحتفال بشهر رمضان؟\"\n"
     ]
    },
    {
     "name": "stderr",
     "output_type": "stream",
     "text": [
      "Average Metric: 398 / 51  (780.4):  51%|█████     | 50/98 [00:16<00:19,  2.51it/s]"
     ]
    },
    {
     "name": "stdout",
     "output_type": "stream",
     "text": [
      "Searching quran for \"هل يسمح الإسلام بقتل المدنيين؟\"\n",
      "Searching quran for \"ما هو الفقه؟\"\n"
     ]
    },
    {
     "name": "stderr",
     "output_type": "stream",
     "text": [
      "Average Metric: 428 / 54  (792.6):  54%|█████▍    | 53/98 [00:17<00:10,  4.14it/s]"
     ]
    },
    {
     "name": "stdout",
     "output_type": "stream",
     "text": [
      "Searching quran for \"كيف تتعلق الشريعة بالمجتمع؟\"\n",
      "Searching quran for \"أهمية الصدقة في رمضان\"\n",
      "Searching quran for \"القيود الغذائية في الإسلام\"\n",
      "Searching hadith for \"ما هو زكاة الفطر؟\"\n"
     ]
    },
    {
     "name": "stderr",
     "output_type": "stream",
     "text": [
      "Average Metric: 436 / 55  (792.7):  56%|█████▌    | 55/98 [00:17<00:07,  5.56it/s]"
     ]
    },
    {
     "name": "stdout",
     "output_type": "stream",
     "text": [
      "Searching quran for \"ما هو القرآن؟\"\n",
      "Searching al-mawsuah for \"من هو النبي إبراهيم؟\"\n",
      "Searching hadith for \"هل يسمح الإسلام بقتل المدنيين؟\"\n",
      "Searching hadith for \"ما هو الفقه؟\"\n",
      "Searching hadith for \"كيف تتعلق الشريعة بالمجتمع؟\"\n",
      "Searching al-mawsuah for \"ما هو زكاة الفطر؟\"\n",
      "Searching hadith for \"فضل الصدقة في رمضان\"\n",
      "Searching hadith for \"القيود الغذائية في الإسلام\"\n"
     ]
    },
    {
     "name": "stderr",
     "output_type": "stream",
     "text": [
      "Average Metric: 442 / 56  (789.3):  57%|█████▋    | 56/98 [00:18<00:15,  2.73it/s]"
     ]
    },
    {
     "name": "stdout",
     "output_type": "stream",
     "text": [
      "Searching hadith for \"ما هو القرآن؟\"\n",
      "Searching al-mawsuah for \"هل يسمح الإسلام بقتل المدنيين؟\"\n",
      "Searching quran for \"من بنى الكعبة؟\"\n",
      "Searching al-mawsuah for \"ما هو الفقه؟\"\n"
     ]
    },
    {
     "name": "stderr",
     "output_type": "stream",
     "text": [
      "Average Metric: 446 / 57  (782.5):  58%|█████▊    | 57/98 [00:18<00:15,  2.72it/s]"
     ]
    },
    {
     "name": "stdout",
     "output_type": "stream",
     "text": [
      "Searching al-mawsuah for \"كيف تتعلق الشريعة بالمجتمع؟\"\n",
      "Searching quran for \"من أين تأتي الشريعة؟\"\n",
      "Searching al-mawsuah for \"الصدقة في رمضان\"\n",
      "Searching al-mawsuah for \"ما هو القرآن؟\"\n",
      "Searching al-mawsuah for \"القيود الغذائية في الإسلام\"\n"
     ]
    },
    {
     "name": "stderr",
     "output_type": "stream",
     "text": [
      "Average Metric: 460 / 59  (779.7):  60%|██████    | 59/98 [00:19<00:12,  3.04it/s]"
     ]
    },
    {
     "name": "stdout",
     "output_type": "stream",
     "text": [
      "Searching quran for \"كيف يغذي الإسلام رفاهنا العاطفي؟\"\n",
      "Searching hadith for \"من بنى الكعبة؟\"\n",
      "Searching quran for \"كيفية أداء العمرة\"\n"
     ]
    },
    {
     "name": "stderr",
     "output_type": "stream",
     "text": [
      "Average Metric: 476 / 61  (780.3):  61%|██████    | 60/98 [00:19<00:10,  3.52it/s]"
     ]
    },
    {
     "name": "stdout",
     "output_type": "stream",
     "text": [
      "Searching quran for \"آيات القرآن للتعامل مع الضيق والشدائد\"\n",
      "Searching quran for \"هل يقول القرآن بقتل غير المؤمنين؟\"\n",
      "Searching hadith for \"من أين تأتي الشريعة؟\"\n"
     ]
    },
    {
     "name": "stderr",
     "output_type": "stream",
     "text": [
      "Average Metric: 496 / 63  (787.3):  63%|██████▎   | 62/98 [00:19<00:07,  4.67it/s]"
     ]
    },
    {
     "name": "stdout",
     "output_type": "stream",
     "text": [
      "Searching quran for \"هل التجديف يعاقب عليه بالإعدام؟\"\n",
      "Searching quran for \"هل يسمح الإسلام بقتل المدنيين؟\"\n",
      "Searching hadith for \"كيف يغذي الإسلام رفاهنا العاطفي؟\"\n",
      "Searching al-mawsuah for \"من بنى الكعبة؟\"\n",
      "Searching hadith for \"كيفية أداء العمرة\"\n",
      "Searching hadith for \"أحاديث عن التعامل مع الضيق والشدائد\"\n",
      "Searching hadith for \"هل يوجد حديث يأمر بقتل غير المؤمنين؟\"\n",
      "Searching al-mawsuah for \"مصادر الشريعة الإسلامية\"\n",
      "Searching hadith for \"هل التجديف يعاقب عليه بالإعدام؟\"\n",
      "Searching hadith for \"هل يسمح الإسلام بقتل المدنيين؟\"\n"
     ]
    },
    {
     "name": "stderr",
     "output_type": "stream",
     "text": [
      "Average Metric: 504 / 64  (787.5):  65%|██████▌   | 64/98 [00:21<00:11,  2.84it/s]"
     ]
    },
    {
     "name": "stdout",
     "output_type": "stream",
     "text": [
      "Searching al-mawsuah for \"كيف يغذي الإسلام رفاهنا العاطفي؟\"\n",
      "Searching al-mawsuah for \"كيفية أداء العمرة\"\n",
      "Searching quran for \"ما معنى الإسلام؟\"\n"
     ]
    },
    {
     "name": "stderr",
     "output_type": "stream",
     "text": [
      "Average Metric: 514 / 65  (790.8):  66%|██████▋   | 65/98 [00:21<00:11,  2.99it/s]"
     ]
    },
    {
     "name": "stdout",
     "output_type": "stream",
     "text": [
      "Searching al-mawsuah for \"ما هو حكم قتل غير المؤمنين في الفقه الإسلامي؟\"\n",
      "Searching al-mawsuah for \"أحكام الفقه الإسلامي حول التعامل مع الضيق والشدائد\"\n",
      "Searching quran for \"ما هو عيد الفطر؟\"\n",
      "Searching al-mawsuah for \"هل يسمح الإسلام بقتل المدنيين؟\"\n",
      "Searching al-mawsuah for \"هل التجديف يعاقب عليه بالإعدام؟\"\n"
     ]
    },
    {
     "name": "stderr",
     "output_type": "stream",
     "text": [
      "Average Metric: 522 / 67  (779.1):  67%|██████▋   | 66/98 [00:21<00:10,  2.93it/s]"
     ]
    },
    {
     "name": "stdout",
     "output_type": "stream",
     "text": [
      "Searching quran for \"لماذا الحج مهم؟\"\n",
      "Searching quran for \"كيفية أداء الحج\"\n",
      "Searching hadith for \"ما معنى الإسلام في الحديث؟\"\n"
     ]
    },
    {
     "name": "stderr",
     "output_type": "stream",
     "text": [
      "Average Metric: 538 / 69  (779.7):  70%|███████   | 69/98 [00:22<00:07,  4.06it/s]"
     ]
    },
    {
     "name": "stdout",
     "output_type": "stream",
     "text": [
      "Searching quran for \"هل يقول القرآن بقتل غير المؤمنين؟\"\n",
      "Searching hadith for \"ما هو عيد الفطر؟\"\n",
      "Searching quran for \"هل هناك استثناءات أو إعفاءات من الصيام؟\"\n"
     ]
    },
    {
     "name": "stderr",
     "output_type": "stream",
     "text": [
      "Average Metric: 552 / 71  (777.5):  72%|███████▏  | 71/98 [00:22<00:04,  5.57it/s]"
     ]
    },
    {
     "name": "stdout",
     "output_type": "stream",
     "text": [
      "Searching quran for \"ما هي العمرة؟\"\n",
      "Searching quran for \"هل انتشر الإسلام بالعنف والإكراه؟\"\n",
      "Searching hadith for \"أهمية الحج في الأحاديث\"\n",
      "Searching hadith for \"كيفية أداء الحج\"\n",
      "Searching al-mawsuah for \"ما هو تعريف الإسلام في الفقه الإسلامي؟\"\n",
      "Searching hadith for \"هل يوجد حديث يأمر بقتل غير المؤمنين؟\"\n",
      "Searching al-mawsuah for \"ما هو عيد الفطر؟\"\n",
      "Searching hadith for \"هل هناك استثناءات أو إعفاءات من الصيام؟\"\n",
      "Searching hadith for \"ما هي العمرة؟\"\n",
      "Searching hadith for \"هل انتشر الإسلام بالعنف والإكراه؟\"\n",
      "Searching al-mawsuah for \"أهمية الحج في الفقه الإسلامي\"\n",
      "Searching al-mawsuah for \"كيفية أداء الحج\"\n"
     ]
    },
    {
     "name": "stderr",
     "output_type": "stream",
     "text": [
      "Average Metric: 560 / 72  (777.8):  73%|███████▎  | 72/98 [00:23<00:10,  2.47it/s]"
     ]
    },
    {
     "name": "stdout",
     "output_type": "stream",
     "text": [
      "Searching al-mawsuah for \"ما هو حكم قتل غير المؤمنين في الفقه الإسلامي؟\"\n",
      "Searching quran for \"هل العمرة والحج نفس الشيء؟\"\n"
     ]
    },
    {
     "name": "stderr",
     "output_type": "stream",
     "text": [
      "Average Metric: 566 / 73  (775.3):  74%|███████▍  | 73/98 [00:23<00:09,  2.65it/s]"
     ]
    },
    {
     "name": "stdout",
     "output_type": "stream",
     "text": [
      "Searching quran for \"ماذا يؤمن المسلمون؟\"Searching al-mawsuah for \"هل انتشر الإسلام بالعنف والإكراه؟\"\n",
      "\n",
      "Searching al-mawsuah for \"ما هي العمرة؟\"\n",
      "Searching al-mawsuah for \"هل هناك استثناءات أو إعفاءات من الصيام؟\"\n"
     ]
    },
    {
     "name": "stderr",
     "output_type": "stream",
     "text": [
      "Average Metric: 576 / 75  (768.0):  76%|███████▌  | 74/98 [00:24<00:08,  2.72it/s]"
     ]
    },
    {
     "name": "stdout",
     "output_type": "stream",
     "text": [
      "Searching quran for \"هل الشريعة موحدة وغير متغيرة؟\"\n",
      "Searching quran for \"ما هي الصدقة؟\"\n",
      "Searching hadith for \"هل العمرة والحج نفس الشيء؟\"\n"
     ]
    },
    {
     "name": "stderr",
     "output_type": "stream",
     "text": [
      "Average Metric: 592 / 77  (768.8):  79%|███████▊  | 77/98 [00:24<00:04,  4.22it/s]"
     ]
    },
    {
     "name": "stdout",
     "output_type": "stream",
     "text": [
      "Searching quran for \"صلاة التراويح\"\n",
      "Searching quran for \"ما هو التوحيد؟\"\n",
      "Searching hadith for \"ماذا يؤمن المسلمون؟\"\n"
     ]
    },
    {
     "name": "stderr",
     "output_type": "stream",
     "text": [
      "Average Metric: 612 / 79  (774.7):  81%|████████  | 79/98 [00:24<00:03,  5.01it/s]"
     ]
    },
    {
     "name": "stdout",
     "output_type": "stream",
     "text": [
      "Searching quran for \"ما معنى الجهاد؟\"\n",
      "Searching quran for \"كيف يتناول الإسلام القدر والإرادة الحرة؟\"\n",
      "Searching hadith for \"هل الشريعة موحدة وغير متغيرة؟\"\n",
      "Searching hadith for \"ما هي الصدقة؟\"\n",
      "Searching al-mawsuah for \"هل العمرة والحج نفس الشيء؟\"\n",
      "Searching hadith for \"صلاة التراويح\"\n",
      "Searching hadith for \"ما هو التوحيد؟\"\n",
      "Searching al-mawsuah for \"ماذا يؤمن المسلمون؟\"\n",
      "Searching hadith for \"ما معنى الجهاد؟\"\n",
      "Searching hadith for \"كيف يتناول الإسلام القدر والإرادة الحرة؟\"\n"
     ]
    },
    {
     "name": "stderr",
     "output_type": "stream",
     "text": [
      "Average Metric: 620 / 80  (775.0):  82%|████████▏ | 80/98 [00:25<00:07,  2.47it/s]"
     ]
    },
    {
     "name": "stdout",
     "output_type": "stream",
     "text": [
      "Searching quran for \"الطلاق في الإسلام\"\n",
      "Searching al-mawsuah for \"ما هي الصدقة؟\"\n",
      "Searching al-mawsuah for \"هل الشريعة موحدة وغير متغيرة؟\"\n"
     ]
    },
    {
     "name": "stderr",
     "output_type": "stream",
     "text": [
      "Average Metric: 628 / 81  (775.3):  83%|████████▎ | 81/98 [00:26<00:06,  2.46it/s]"
     ]
    },
    {
     "name": "stdout",
     "output_type": "stream",
     "text": [
      "Searching al-mawsuah for \"صلاة التراويح\"\n",
      "Searching al-mawsuah for \"ما معنى الجهاد؟\"\n",
      "Searching quran for \"ما هي الأعياد التي يحتفل بها المسلمون؟\"\n",
      "Searching al-mawsuah for \"ما هو التوحيد؟\"\n"
     ]
    },
    {
     "name": "stderr",
     "output_type": "stream",
     "text": [
      "Average Metric: 638 / 83  (768.7):  84%|████████▎ | 82/98 [00:26<00:06,  2.44it/s]"
     ]
    },
    {
     "name": "stdout",
     "output_type": "stream",
     "text": [
      "Searching al-mawsuah for \"كيف يتناول الإسلام القدر والإرادة الحرة؟\"\n",
      "Searching quran for \"هل الوسواس القهري نتيجة وساوس الشيطان؟\"\n",
      "Searching hadith for \"حديث عن الطلاق\"\n",
      "Searching quran for \"كيف نعرف أن الله موجود؟\"\n"
     ]
    },
    {
     "name": "stderr",
     "output_type": "stream",
     "text": [
      "Average Metric: 658 / 86  (765.1):  87%|████████▋ | 85/98 [00:27<00:03,  3.96it/s]"
     ]
    },
    {
     "name": "stdout",
     "output_type": "stream",
     "text": [
      "Searching quran for \"تاريخ الشريعة\"\n",
      "Searching quran for \"الوحي في الإسلام\"\n",
      "Searching quran for \"هل يسمح الإسلام بالحرب الوقائية؟\"\n",
      "Searching hadith for \"ما هي الأعياد التي يحتفل بها المسلمون؟\"\n"
     ]
    },
    {
     "name": "stderr",
     "output_type": "stream",
     "text": [
      "Average Metric: 662 / 87  (760.9):  89%|████████▉ | 87/98 [00:27<00:02,  5.48it/s]"
     ]
    },
    {
     "name": "stdout",
     "output_type": "stream",
     "text": [
      "Searching quran for \"هل الإسلام يشجع على العنف؟\"\n",
      "Searching al-mawsuah for \"الطلاق في الفقه الإسلامي\"\n",
      "Searching hadith for \"هل الوسواس القهري نتيجة وساوس الشيطان؟\"\n",
      "Searching hadith for \"كيف نعرف أن الله موجود؟\"\n",
      "Searching hadith for \"تاريخ الشريعة\"\n",
      "Searching hadith for \"هل يسمح الإسلام بالحرب الوقائية؟\"\n",
      "Searching hadith for \"الوحي في الإسلام\"\n",
      "Searching al-mawsuah for \"ما هي الأعياد التي يحتفل بها المسلمون؟\"\n",
      "Searching hadith for \"هل الإسلام يشجع على العنف؟\"\n"
     ]
    },
    {
     "name": "stderr",
     "output_type": "stream",
     "text": [
      "Average Metric: 670 / 88  (761.4):  90%|████████▉ | 88/98 [00:28<00:03,  2.64it/s]"
     ]
    },
    {
     "name": "stdout",
     "output_type": "stream",
     "text": [
      "Searching al-mawsuah for \"هل الوسواس القهري نتيجة وساوس الشيطان؟\"\n",
      "Searching quran for \"ما هي أهمية الحج؟\"\n",
      "Searching al-mawsuah for \"تاريخ الشريعة\"\n",
      "Searching al-mawsuah for \"كيف نعرف أن الله موجود؟\"\n"
     ]
    },
    {
     "name": "stderr",
     "output_type": "stream",
     "text": [
      "Average Metric: 676 / 89  (759.6):  91%|█████████ | 89/98 [00:28<00:03,  2.51it/s]"
     ]
    },
    {
     "name": "stdout",
     "output_type": "stream",
     "text": [
      "Searching al-mawsuah for \"الوحي في الإسلام\"\n",
      "Searching al-mawsuah for \"هل يسمح الإسلام بالحرب الوقائية؟\"\n",
      "Searching quran for \"لماذا يطلب الله من الناس عبادته؟\"\n",
      "Searching al-mawsuah for \"هل الإسلام يشجع على العنف؟\"\n"
     ]
    },
    {
     "name": "stderr",
     "output_type": "stream",
     "text": [
      "Average Metric: 700 / 92  (760.9):  93%|█████████▎| 91/98 [00:29<00:02,  3.35it/s]"
     ]
    },
    {
     "name": "stdout",
     "output_type": "stream",
     "text": [
      "Searching quran for \"هل يؤمن المسلمون بصلب عيسى؟\"\n",
      "Searching hadith for \"ما هي أهمية الحج؟\"\n"
     ]
    },
    {
     "name": "stderr",
     "output_type": "stream",
     "text": [
      "Average Metric: 724 / 95  (762.1):  97%|█████████▋| 95/98 [00:29<00:00,  5.39it/s]"
     ]
    },
    {
     "name": "stdout",
     "output_type": "stream",
     "text": [
      "Searching hadith for \"لماذا يطلب الله من الناس عبادته؟\"\n",
      "Searching hadith for \"هل ورد في الأحاديث أن المسلمين يؤمنون بصلب عيسى؟\"\n",
      "Searching al-mawsuah for \"ما هي أهمية الحج؟\"\n",
      "Searching al-mawsuah for \"لماذا يطلب الله من الناس عبادته؟\"\n",
      "Searching al-mawsuah for \"موقف الفقه الإسلامي من صلب عيسى\"\n"
     ]
    },
    {
     "name": "stderr",
     "output_type": "stream",
     "text": [
      "Average Metric: 748 / 98  (763.3): 100%|██████████| 98/98 [00:31<00:00,  3.11it/s]\n"
     ]
    },
    {
     "name": "stdout",
     "output_type": "stream",
     "text": [
      "Searching quran for \"من يجب عليه أداء الحج؟\"\n",
      "Searching quran for \"أين الكعبة؟\"\n",
      "Searching quran for \"هل يسمح الإسلام بجرائم الشرف؟\"\n",
      "Searching quran for \"هل يصوم المسلمون خارج رمضان؟\"\n",
      "Searching quran for \"هل يقدم القرآن توجيهات حول كيفية التعامل مع الصدمة والألم؟\"\n",
      "Searching quran for \"ما هي الفتوى؟\"\n",
      "Searching quran for \"ما معنى حلال؟\"\n",
      "Searching quran for \"هل الردة يعاقب عليها بالإعدام في الإسلام؟\"\n"
     ]
    },
    {
     "name": "stderr",
     "output_type": "stream",
     "text": [
      "  0%|          | 0/98 [00:00<?, ?it/s]"
     ]
    },
    {
     "name": "stdout",
     "output_type": "stream",
     "text": [
      "Searching hadith for \"أين الكعبة؟\"\n",
      "Searching hadith for \"هل توجد أحاديث تتعلق بجرائم الشرف؟\"\n",
      "Searching hadith for \"هل يصوم المسلمون خارج رمضان؟\"\n",
      "Searching hadith for \"هل تقدم السنة النبوية توجيهات حول كيفية التعامل مع الصدمة والألم؟\"\n",
      "Searching hadith for \"من يجب عليه أداء الحج؟\"\n",
      "Searching hadith for \"ما معنى حلال؟\"\n",
      "Searching hadith for \"ما هي الفتوى؟\"\n",
      "Searching hadith for \"هل يعاقب المرتد بالإعدام في الإسلام؟\"\n",
      "Searching al-mawsuah for \"ما هو حكم الفقه الإسلامي في جرائم الشرف؟\"\n",
      "Searching al-mawsuah for \"من يجب عليه أداء الحج؟\"\n",
      "Searching al-mawsuah for \"أين الكعبة؟\"\n",
      "Searching al-mawsuah for \"هل يصوم المسلمون خارج رمضان؟\"\n",
      "Searching al-mawsuah for \"كيفية التعامل مع الصدمة والألم في الفقه الإسلامي\"\n",
      "Searching al-mawsuah for \"ما معنى حلال؟\"\n",
      "Searching al-mawsuah for \"ما هي الفتوى؟\"\n",
      "Searching al-mawsuah for \"حكم الردة في الفقه الإسلامي\"\n"
     ]
    },
    {
     "name": "stderr",
     "output_type": "stream",
     "text": [
      "Average Metric: 48 / 6  (800.0):   5%|▌         | 5/98 [00:02<00:43,  2.15it/s]"
     ]
    },
    {
     "name": "stdout",
     "output_type": "stream",
     "text": [
      "Searching quran for \"ما هو رمضان؟\"\n",
      "Searching quran for \"هل الإسلام يشجع على العنف؟\"\n",
      "Searching quran for \"هل يسمح الإسلام بالحرب الوقائية؟\"\n",
      "Searching quran for \"أهمية ليلة القدر\"\n",
      "Searching quran for \"كيف يصف القرآن السعادة؟ كيف يمكن تحقيقها في الإسلام؟\"\n",
      "Searching quran for \"هل يوفر الإسلام إرشادات حول كيفية التعامل مع الأمراض النفسية؟\"\n"
     ]
    },
    {
     "name": "stderr",
     "output_type": "stream",
     "text": [
      "Average Metric: 64 / 8  (800.0):   7%|▋         | 7/98 [00:02<00:21,  4.20it/s]"
     ]
    },
    {
     "name": "stdout",
     "output_type": "stream",
     "text": [
      "Searching quran for \"ما هو رمضان؟\"\n",
      "Searching quran for \"لماذا يصلي المسلمون يوميا؟\"\n",
      "Searching hadith for \"ما هو رمضان؟\"\n",
      "Searching hadith for \"هل يسمح الإسلام بالحرب الوقائية؟\"\n",
      "Searching hadith for \"هل الإسلام يشجع على العنف؟\"\n",
      "Searching hadith for \"فضل ليلة القدر\"\n",
      "Searching hadith for \"هل هناك أحاديث تتحدث عن كيفية التعامل مع الأمراض النفسية؟\"\n",
      "Searching hadith for \"كيف يصف الحديث السعادة؟ كيف يمكن تحقيقها في الإسلام؟\"\n",
      "Searching hadith for \"ما هو رمضان؟\"\n",
      "Searching hadith for \"لماذا يصلي المسلمون يوميا؟\"\n",
      "Searching al-mawsuah for \"ما هو رمضان؟\"\n",
      "Searching al-mawsuah for \"هل الإسلام يشجع على العنف؟\"\n",
      "Searching al-mawsuah for \"أهمية ليلة القدر في الفقه الإسلامي\"\n",
      "Searching al-mawsuah for \"إرشادات الفقه الإسلامي حول التعامل مع الأمراض النفسية\"\n",
      "Searching al-mawsuah for \"السعادة في الفقه الإسلامي وكيفية تحقيقها\"\n",
      "Searching al-mawsuah for \"هل يسمح الإسلام بالحرب الوقائية؟\"\n",
      "Searching al-mawsuah for \"ما هو رمضان؟\"\n",
      "Searching al-mawsuah for \"لماذا يصلي المسلمون يوميا؟\"\n"
     ]
    },
    {
     "name": "stderr",
     "output_type": "stream",
     "text": [
      "Average Metric: 74 / 10  (740.0):  10%|█         | 10/98 [00:04<00:40,  2.15it/s]"
     ]
    },
    {
     "name": "stdout",
     "output_type": "stream",
     "text": [
      "Searching quran for \"كيف تصوم رمضان؟\"\n",
      "Searching quran for \"كيف نعلم أن القرآن وحي إلهي؟\"\n",
      "Searching quran for \"من يجب عليه الصيام في رمضان؟\"\n",
      "Searching quran for \"هل التجديف يعاقب عليه بالإعدام؟\"\n",
      "Searching quran for \"ما هو الغرض من الصيام في رمضان؟\"\n"
     ]
    },
    {
     "name": "stderr",
     "output_type": "stream",
     "text": [
      "Average Metric: 114 / 16  (712.5):  15%|█▌        | 15/98 [00:05<00:19,  4.18it/s]"
     ]
    },
    {
     "name": "stdout",
     "output_type": "stream",
     "text": [
      "Searching quran for \"مدة الصيام في رمضان\"\n",
      "Searching quran for \"ماذا يقدم الإسلام للناس؟\"\n",
      "Searching quran for \"كيف يُساء تفسير الجهاد كإرهاب؟\"\n",
      "Searching hadith for \"كيف تصوم رمضان؟\"\n",
      "Searching hadith for \"هل التجديف يعاقب عليه بالإعدام؟\"\n",
      "Searching hadith for \"كيف نعلم أن القرآن وحي إلهي؟\"\n",
      "Searching hadith for \"ماذا يقدم الإسلام للناس؟\"\n",
      "Searching hadith for \"من يجب عليه الصيام في رمضان؟\"\n",
      "Searching hadith for \"مدة الصيام في رمضان\"\n",
      "Searching hadith for \"ما هو الغرض من الصيام في رمضان؟\"\n",
      "Searching hadith for \"كيف يُساء تفسير الجهاد كإرهاب؟\"\n",
      "Searching al-mawsuah for \"كيف تصوم رمضان؟\"\n",
      "Searching al-mawsuah for \"كيف نعلم أن القرآن وحي إلهي؟\"\n",
      "Searching al-mawsuah for \"من يجب عليه الصيام في رمضان؟\"\n",
      "Searching al-mawsuah for \"ما هو الغرض من الصيام في رمضان؟\"\n",
      "Searching al-mawsuah for \"مدة الصيام في رمضان\"\n",
      "Searching al-mawsuah for \"ماذا يقدم الإسلام للناس؟\"\n",
      "Searching al-mawsuah for \"هل التجديف يعاقب عليه بالإعدام؟\"\n",
      "Searching al-mawsuah for \"كيف يُساء تفسير الجهاد كإرهاب؟\"\n"
     ]
    },
    {
     "name": "stderr",
     "output_type": "stream",
     "text": [
      "Average Metric: 122 / 17  (717.6):  16%|█▋        | 16/98 [00:06<00:19,  4.18it/s]"
     ]
    },
    {
     "name": "stdout",
     "output_type": "stream",
     "text": [
      "Searching quran for \"كيف يُساء تفسير الجهاد كإرهاب؟\"\n"
     ]
    },
    {
     "name": "stderr",
     "output_type": "stream",
     "text": [
      "Average Metric: 182 / 24  (758.3):  23%|██▎       | 23/98 [00:07<00:24,  3.07it/s]"
     ]
    },
    {
     "name": "stdout",
     "output_type": "stream",
     "text": [
      "Searching quran for \"أركان الإسلام الخمسة\"\n",
      "Searching quran for \"كيف يعامل الإسلام الأقليات الدينية؟\"\n",
      "Searching quran for \"من هو الله\"\n",
      "Searching quran for \"ليلة القدر\"\n",
      "Searching quran for \"هل يؤمن المسلمون بالروح القدس؟\"\n",
      "Searching quran for \"هل يؤمن المسلمون بالجنة والنار؟\"\n",
      "Searching quran for \"ما معنى الجهاد؟\"\n",
      "Searching hadith for \"كيف يُساء تفسير الجهاد كإرهاب؟\"\n",
      "Searching hadith for \"أركان الإسلام الخمسة\"\n",
      "Searching hadith for \"معاملة الإسلام للأقليات الدينية\"\n",
      "Searching hadith for \"هل ذكر الروح القدس في الأحاديث؟\"\n",
      "Searching hadith for \"هل ذكر النبي الجنة والنار؟\"\n",
      "Searching hadith for \"من هو الله\"\n",
      "Searching hadith for \"ما معنى الجهاد؟\"\n",
      "Searching hadith for \"ما هي ليلة القدر\"\n",
      "Searching al-mawsuah for \"كيف يُساء تفسير الجهاد كإرهاب؟\"\n",
      "Searching al-mawsuah for \"أركان الإسلام الخمسة\"\n",
      "Searching al-mawsuah for \"معاملة الأقليات الدينية في الفقه الإسلامي\"\n",
      "Searching al-mawsuah for \"ليلة القدر في الفقه الإسلامي\"\n",
      "Searching al-mawsuah for \"ما معنى الجهاد؟\"\n",
      "Searching al-mawsuah for \"الإيمان بالجنة والنار في الفقه الإسلامي\"\n",
      "Searching al-mawsuah for \"الإيمان بالروح القدس في الفقه الإسلامي\"\n",
      "Searching al-mawsuah for \"من هو الله\"\n"
     ]
    },
    {
     "name": "stderr",
     "output_type": "stream",
     "text": [
      "Average Metric: 192 / 25  (768.0):  26%|██▌       | 25/98 [00:09<00:25,  2.89it/s]"
     ]
    },
    {
     "name": "stdout",
     "output_type": "stream",
     "text": [
      "Searching quran for \"أين يحدث الحج؟\"\n"
     ]
    },
    {
     "name": "stderr",
     "output_type": "stream",
     "text": [
      "Average Metric: 214 / 28  (764.3):  28%|██▊       | 27/98 [00:09<00:23,  3.07it/s]"
     ]
    },
    {
     "name": "stdout",
     "output_type": "stream",
     "text": [
      "Searching quran for \"أحكام الحرب في الإسلام\"\n",
      "Searching quran for \"متى ليلة القدر؟\"\n",
      "Searching quran for \"كم مرة يصلي المسلمون خلال رمضان؟\"\n"
     ]
    },
    {
     "name": "stderr",
     "output_type": "stream",
     "text": [
      "Average Metric: 250 / 32  (781.2):  32%|███▏      | 31/98 [00:10<00:14,  4.47it/s]"
     ]
    },
    {
     "name": "stdout",
     "output_type": "stream",
     "text": [
      "Searching quran for \"لماذا الكعبة مهمة؟\"\n",
      "Searching quran for \"لماذا يجب على المسلمين الصيام لمدة شهر كامل؟\"\n",
      "Searching quran for \"كيف يمكن فهم والتعامل مع الحزن والأسى في الإسلام؟\"\n",
      "Searching hadith for \"أين يحدث الحج؟\"\n",
      "Searching quran for \"كيف يمكن للمرء أن يطهر قلبه وروحه؟\"\n",
      "Searching hadith for \"أحاديث عن أحكام الحرب في الإسلام\"\n",
      "Searching hadith for \"متى ليلة القدر؟\"\n",
      "Searching hadith for \"كم مرة يصلي المسلمون خلال رمضان؟\"\n",
      "Searching hadith for \"لماذا الكعبة مهمة؟\"\n",
      "Searching hadith for \"لماذا يجب على المسلمين الصيام لمدة شهر كامل؟\"\n",
      "Searching hadith for \"كيف يمكن للمرء أن يطهر قلبه وروحه؟\"\n",
      "Searching al-mawsuah for \"أين يحدث الحج؟\"\n",
      "Searching hadith for \"كيف يمكن فهم والتعامل مع الحزن والأسى في الإسلام؟\"\n",
      "Searching al-mawsuah for \"متى ليلة القدر؟\"\n",
      "Searching al-mawsuah for \"أحكام الحرب في الفقه الإسلامي\"\n",
      "Searching al-mawsuah for \"كم مرة يصلي المسلمون خلال رمضان؟\"\n"
     ]
    },
    {
     "name": "stderr",
     "output_type": "stream",
     "text": [
      "Average Metric: 262 / 33  (793.9):  34%|███▎      | 33/98 [00:11<00:24,  2.65it/s]"
     ]
    },
    {
     "name": "stdout",
     "output_type": "stream",
     "text": [
      "Searching al-mawsuah for \"أهمية الكعبة في الفقه الإسلامي\"\n",
      "Searching al-mawsuah for \"لماذا يجب على المسلمين الصيام لمدة شهر كامل؟\"\n",
      "Searching al-mawsuah for \"كيف يمكن للمرء أن يطهر قلبه وروحه؟\"\n",
      "Searching al-mawsuah for \"كيف يمكن فهم والتعامل مع الحزن والأسى في الإسلام؟\"\n",
      "Searching quran for \"ما هي الكعبة؟\"\n"
     ]
    },
    {
     "name": "stderr",
     "output_type": "stream",
     "text": [
      "Average Metric: 270 / 34  (794.1):  35%|███▍      | 34/98 [00:11<00:22,  2.81it/s]"
     ]
    },
    {
     "name": "stdout",
     "output_type": "stream",
     "text": [
      "Searching quran for \"من هو النبي محمد؟\"\n"
     ]
    },
    {
     "name": "stderr",
     "output_type": "stream",
     "text": [
      "Average Metric: 298 / 37  (805.4):  37%|███▋      | 36/98 [00:12<00:20,  2.96it/s]"
     ]
    },
    {
     "name": "stdout",
     "output_type": "stream",
     "text": [
      "Searching quran for \"ما هي التزكية؟\"\n",
      "Searching quran for \"أحكام الحرب في الإسلام\"\n"
     ]
    },
    {
     "name": "stderr",
     "output_type": "stream",
     "text": [
      "Average Metric: 320 / 40  (800.0):  41%|████      | 40/98 [00:12<00:10,  5.76it/s]"
     ]
    },
    {
     "name": "stdout",
     "output_type": "stream",
     "text": [
      "Searching quran for \"ما الذي يعلمه الإسلام عن إدارة القلق والاكتئاب والشك الذاتي؟\"\n",
      "Searching quran for \"أين تؤدى العمرة؟\"\n",
      "Searching quran for \"كيف تكون الروحانية الإسلامية فريدة؟\"\n",
      "Searching hadith for \"ما هي الكعبة؟\"\n",
      "Searching quran for \"كيف يفهم الإسلام الروح\"\n",
      "Searching hadith for \"من هو النبي محمد؟\"\n",
      "Searching hadith for \"ما هي التزكية؟\"\n",
      "Searching hadith for \"أحاديث عن أحكام الحرب في الإسلام\"\n",
      "Searching hadith for \"كيف تكون الروحانية الإسلامية فريدة؟\"\n",
      "Searching hadith for \"ما الذي يعلمه الإسلام عن إدارة القلق والاكتئاب والشك الذاتي؟\"\n",
      "Searching hadith for \"فهم الروح في الإسلام\"\n",
      "Searching al-mawsuah for \"ما هي الكعبة؟\"\n",
      "Searching hadith for \"أين تؤدى العمرة؟\"\n",
      "Searching al-mawsuah for \"ما هي التزكية؟\"\n",
      "Searching al-mawsuah for \"من هو النبي محمد؟\"\n",
      "Searching al-mawsuah for \"أحكام الحرب في الفقه الإسلامي\"\n"
     ]
    },
    {
     "name": "stderr",
     "output_type": "stream",
     "text": [
      "Average Metric: 326 / 41  (795.1):  41%|████      | 40/98 [00:14<00:10,  5.76it/s]"
     ]
    },
    {
     "name": "stdout",
     "output_type": "stream",
     "text": [
      "Searching al-mawsuah for \"كيف تكون الروحانية الإسلامية فريدة؟\"\n",
      "Searching al-mawsuah for \"ما الذي يعلمه الإسلام عن إدارة القلق والاكتئاب والشك الذاتي؟\"\n",
      "Searching quran for \"من هو عيسى في الإسلام؟\"\n",
      "Searching al-mawsuah for \"الروح في الفقه الإسلامي\"\n"
     ]
    },
    {
     "name": "stderr",
     "output_type": "stream",
     "text": [
      "Average Metric: 342 / 43  (795.3):  44%|████▍     | 43/98 [00:14<00:19,  2.76it/s]"
     ]
    },
    {
     "name": "stdout",
     "output_type": "stream",
     "text": [
      "Searching quran for \"ما هو الإسلام؟\"\n",
      "Searching quran for \"متى رمضان؟\"\n"
     ]
    },
    {
     "name": "stderr",
     "output_type": "stream",
     "text": [
      "Average Metric: 364 / 46  (791.3):  47%|████▋     | 46/98 [00:14<00:11,  4.48it/s]"
     ]
    },
    {
     "name": "stdout",
     "output_type": "stream",
     "text": [
      "Searching quran for \"كيف يعامل الإسلام الأقليات الدينية؟\"\n",
      "Searching quran for \"كيف تتعلق الشريعة بطقوس العبادة؟\"\n",
      "Searching al-mawsuah for \"أين تؤدى العمرة؟\"\n",
      "Searching quran for \"هل انتشر الإسلام بالعنف والإكراه؟\"\n"
     ]
    },
    {
     "name": "stderr",
     "output_type": "stream",
     "text": [
      "Average Metric: 374 / 47  (795.7):  47%|████▋     | 46/98 [00:15<00:11,  4.48it/s]"
     ]
    },
    {
     "name": "stdout",
     "output_type": "stream",
     "text": [
      "Searching hadith for \"من هو عيسى في الأحاديث؟\"\n",
      "Searching quran for \"لماذا يتم الاحتفال بشهر رمضان؟\"\n",
      "Searching hadith for \"ما هو الإسلام؟\"\n",
      "Searching hadith for \"متى رمضان؟\"\n"
     ]
    },
    {
     "name": "stderr",
     "output_type": "stream",
     "text": [
      "Average Metric: 382 / 48  (795.8):  49%|████▉     | 48/98 [00:15<00:13,  3.84it/s]"
     ]
    },
    {
     "name": "stdout",
     "output_type": "stream",
     "text": [
      "Searching hadith for \"معاملة الإسلام للأقليات الدينية\"\n",
      "Searching hadith for \"كيف تتعلق الشريعة بطقوس العبادة؟\"\n",
      "Searching quran for \"من هو النبي إبراهيم؟\"\n",
      "Searching hadith for \"هل انتشر الإسلام بالعنف والإكراه؟\"\n",
      "Searching hadith for \"لماذا يتم الاحتفال بشهر رمضان؟\"\n",
      "Searching al-mawsuah for \"من هو عيسى في الفقه الإسلامي؟\"\n",
      "Searching al-mawsuah for \"ما هو الإسلام؟\"\n",
      "Searching al-mawsuah for \"كيف تتعلق الشريعة بطقوس العبادة؟\"\n",
      "Searching al-mawsuah for \"معاملة الأقليات الدينية في الفقه الإسلامي\"\n",
      "Searching al-mawsuah for \"متى رمضان؟\"\n",
      "Searching al-mawsuah for \"هل انتشر الإسلام بالعنف والإكراه؟\"\n",
      "Searching hadith for \"من هو النبي إبراهيم؟\"\n",
      "Searching al-mawsuah for \"لماذا يتم الاحتفال بشهر رمضان؟\"\n"
     ]
    },
    {
     "name": "stderr",
     "output_type": "stream",
     "text": [
      "Average Metric: 408 / 52  (784.6):  52%|█████▏    | 51/98 [00:17<00:14,  3.14it/s]"
     ]
    },
    {
     "name": "stdout",
     "output_type": "stream",
     "text": [
      "Searching quran for \"ما هو زكاة الفطر؟\"\n",
      "Searching quran for \"هل يسمح الإسلام بقتل المدنيين؟\"\n",
      "Searching quran for \"ما هو الفقه؟\"\n",
      "Searching quran for \"كيف تتعلق الشريعة بالمجتمع؟\"\n"
     ]
    },
    {
     "name": "stderr",
     "output_type": "stream",
     "text": [
      "Average Metric: 436 / 55  (792.7):  56%|█████▌    | 55/98 [00:17<00:08,  5.08it/s]"
     ]
    },
    {
     "name": "stdout",
     "output_type": "stream",
     "text": [
      "Searching quran for \"أهمية الصدقة في رمضان\"\n",
      "Searching quran for \"القيود الغذائية في الإسلام\"\n",
      "Searching al-mawsuah for \"من هو النبي إبراهيم؟\"\n",
      "Searching quran for \"ما هو القرآن؟\"\n",
      "Searching hadith for \"ما هو زكاة الفطر؟\"\n",
      "Searching hadith for \"هل يسمح الإسلام بقتل المدنيين؟\"\n",
      "Searching hadith for \"ما هو الفقه؟\"\n",
      "Searching hadith for \"كيف تتعلق الشريعة بالمجتمع؟\"\n",
      "Searching hadith for \"القيود الغذائية في الإسلام\"\n",
      "Searching hadith for \"فضل الصدقة في رمضان\"\n"
     ]
    },
    {
     "name": "stderr",
     "output_type": "stream",
     "text": [
      "Average Metric: 442 / 56  (789.3):  57%|█████▋    | 56/98 [00:18<00:13,  3.08it/s]"
     ]
    },
    {
     "name": "stdout",
     "output_type": "stream",
     "text": [
      "Searching hadith for \"ما هو القرآن؟\"\n",
      "Searching quran for \"من بنى الكعبة؟\"\n",
      "Searching al-mawsuah for \"ما هو زكاة الفطر؟\"\n",
      "Searching al-mawsuah for \"هل يسمح الإسلام بقتل المدنيين؟\"\n",
      "Searching al-mawsuah for \"ما هو الفقه؟\"\n",
      "Searching al-mawsuah for \"كيف تتعلق الشريعة بالمجتمع؟\"\n",
      "Searching al-mawsuah for \"الصدقة في رمضان\"\n",
      "Searching al-mawsuah for \"القيود الغذائية في الإسلام\"\n",
      "Searching al-mawsuah for \"ما هو القرآن؟\"\n",
      "Searching hadith for \"من بنى الكعبة؟\"\n"
     ]
    },
    {
     "name": "stderr",
     "output_type": "stream",
     "text": [
      "Average Metric: 452 / 58  (779.3):  59%|█████▉    | 58/98 [00:19<00:14,  2.67it/s]"
     ]
    },
    {
     "name": "stdout",
     "output_type": "stream",
     "text": [
      "Searching quran for \"من أين تأتي الشريعة؟\"\n",
      "Searching quran for \"كيف يغذي الإسلام رفاهنا العاطفي؟\"\n"
     ]
    },
    {
     "name": "stderr",
     "output_type": "stream",
     "text": [
      "Average Metric: 476 / 61  (780.3):  62%|██████▏   | 61/98 [00:19<00:08,  4.55it/s]"
     ]
    },
    {
     "name": "stdout",
     "output_type": "stream",
     "text": [
      "Searching quran for \"كيفية أداء العمرة\"\n",
      "Searching quran for \"آيات القرآن للتعامل مع الضيق والشدائد\"\n",
      "Searching quran for \"هل يقول القرآن بقتل غير المؤمنين؟\"\n"
     ]
    },
    {
     "name": "stderr",
     "output_type": "stream",
     "text": [
      "Average Metric: 496 / 63  (787.3):  63%|██████▎   | 62/98 [00:19<00:07,  5.00it/s]"
     ]
    },
    {
     "name": "stdout",
     "output_type": "stream",
     "text": [
      "Searching quran for \"هل التجديف يعاقب عليه بالإعدام؟\"\n",
      "Searching quran for \"هل يسمح الإسلام بقتل المدنيين؟\"\n",
      "Searching al-mawsuah for \"من بنى الكعبة؟\"\n",
      "Searching hadith for \"من أين تأتي الشريعة؟\"\n",
      "Searching hadith for \"كيف يغذي الإسلام رفاهنا العاطفي؟\"\n",
      "Searching hadith for \"كيفية أداء العمرة\"\n",
      "Searching hadith for \"أحاديث عن التعامل مع الضيق والشدائد\"\n",
      "Searching hadith for \"هل يوجد حديث يأمر بقتل غير المؤمنين؟\"\n"
     ]
    },
    {
     "name": "stderr",
     "output_type": "stream",
     "text": [
      "Average Metric: 504 / 64  (787.5):  65%|██████▌   | 64/98 [00:20<00:10,  3.11it/s]"
     ]
    },
    {
     "name": "stdout",
     "output_type": "stream",
     "text": [
      "Searching hadith for \"هل يسمح الإسلام بقتل المدنيين؟\"\n",
      "Searching hadith for \"هل التجديف يعاقب عليه بالإعدام؟\"\n",
      "Searching quran for \"ما معنى الإسلام؟\"\n",
      "Searching al-mawsuah for \"مصادر الشريعة الإسلامية\"\n",
      "Searching al-mawsuah for \"كيف يغذي الإسلام رفاهنا العاطفي؟\"\n",
      "Searching al-mawsuah for \"أحكام الفقه الإسلامي حول التعامل مع الضيق والشدائد\"\n",
      "Searching al-mawsuah for \"كيفية أداء العمرة\"\n",
      "Searching al-mawsuah for \"ما هو حكم قتل غير المؤمنين في الفقه الإسلامي؟\"\n",
      "Searching al-mawsuah for \"هل يسمح الإسلام بقتل المدنيين؟\"\n"
     ]
    },
    {
     "name": "stderr",
     "output_type": "stream",
     "text": [
      "Average Metric: 514 / 65  (790.8):  66%|██████▋   | 65/98 [00:21<00:14,  2.32it/s]"
     ]
    },
    {
     "name": "stdout",
     "output_type": "stream",
     "text": [
      "Searching al-mawsuah for \"هل التجديف يعاقب عليه بالإعدام؟\"\n",
      "Searching hadith for \"ما معنى الإسلام في الحديث؟\"\n",
      "Searching quran for \"ما هو عيد الفطر؟\"\n"
     ]
    },
    {
     "name": "stderr",
     "output_type": "stream",
     "text": [
      "Average Metric: 532 / 68  (782.4):  68%|██████▊   | 67/98 [00:21<00:11,  2.73it/s]"
     ]
    },
    {
     "name": "stdout",
     "output_type": "stream",
     "text": [
      "Searching quran for \"لماذا الحج مهم؟\"\n",
      "Searching quran for \"كيفية أداء الحج\"\n",
      "Searching quran for \"هل يقول القرآن بقتل غير المؤمنين؟\"\n"
     ]
    },
    {
     "name": "stderr",
     "output_type": "stream",
     "text": [
      "Average Metric: 544 / 70  (777.1):  70%|███████   | 69/98 [00:22<00:06,  4.40it/s]"
     ]
    },
    {
     "name": "stdout",
     "output_type": "stream",
     "text": [
      "Searching quran for \"هل هناك استثناءات أو إعفاءات من الصيام؟\"\n",
      "Searching quran for \"ما هي العمرة؟\"\n"
     ]
    },
    {
     "name": "stderr",
     "output_type": "stream",
     "text": [
      "Average Metric: 552 / 71  (777.5):  72%|███████▏  | 71/98 [00:22<00:05,  5.08it/s]"
     ]
    },
    {
     "name": "stdout",
     "output_type": "stream",
     "text": [
      "Searching quran for \"هل انتشر الإسلام بالعنف والإكراه؟\"\n",
      "Searching hadith for \"ما هو عيد الفطر؟\"\n",
      "Searching al-mawsuah for \"ما هو تعريف الإسلام في الفقه الإسلامي؟\"\n",
      "Searching hadith for \"أهمية الحج في الأحاديث\"\n",
      "Searching hadith for \"كيفية أداء الحج\"\n",
      "Searching hadith for \"هل يوجد حديث يأمر بقتل غير المؤمنين؟\"\n",
      "Searching hadith for \"هل هناك استثناءات أو إعفاءات من الصيام؟\"\n",
      "Searching hadith for \"ما هي العمرة؟\"\n",
      "Searching hadith for \"هل انتشر الإسلام بالعنف والإكراه؟\"\n",
      "Searching al-mawsuah for \"ما هو عيد الفطر؟\"\n",
      "Searching al-mawsuah for \"كيفية أداء الحج\"\n"
     ]
    },
    {
     "name": "stderr",
     "output_type": "stream",
     "text": [
      "Average Metric: 560 / 72  (777.8):  73%|███████▎  | 72/98 [00:23<00:09,  2.80it/s]"
     ]
    },
    {
     "name": "stdout",
     "output_type": "stream",
     "text": [
      "Searching al-mawsuah for \"ما هو حكم قتل غير المؤمنين في الفقه الإسلامي؟\"\n",
      "Searching quran for \"هل العمرة والحج نفس الشيء؟\"\n",
      "Searching al-mawsuah for \"أهمية الحج في الفقه الإسلامي\"\n",
      "Searching al-mawsuah for \"ما هي العمرة؟\"\n",
      "Searching al-mawsuah for \"هل هناك استثناءات أو إعفاءات من الصيام؟\"\n",
      "Searching al-mawsuah for \"هل انتشر الإسلام بالعنف والإكراه؟\"\n"
     ]
    },
    {
     "name": "stderr",
     "output_type": "stream",
     "text": [
      "Average Metric: 572 / 74  (773.0):  74%|███████▍  | 73/98 [00:24<00:10,  2.30it/s]"
     ]
    },
    {
     "name": "stdout",
     "output_type": "stream",
     "text": [
      "Searching quran for \"ماذا يؤمن المسلمون؟\"\n",
      "Searching quran for \"هل الشريعة موحدة وغير متغيرة؟\"\n",
      "Searching hadith for \"هل العمرة والحج نفس الشيء؟\"\n"
     ]
    },
    {
     "name": "stderr",
     "output_type": "stream",
     "text": [
      "Average Metric: 582 / 76  (765.8):  77%|███████▋  | 75/98 [00:24<00:07,  3.17it/s]"
     ]
    },
    {
     "name": "stdout",
     "output_type": "stream",
     "text": [
      "Searching quran for \"ما هي الصدقة؟\"\n",
      "Searching quran for \"صلاة التراويح\"\n"
     ]
    },
    {
     "name": "stderr",
     "output_type": "stream",
     "text": [
      "Average Metric: 612 / 79  (774.7):  80%|███████▉  | 78/98 [00:24<00:04,  4.00it/s]"
     ]
    },
    {
     "name": "stdout",
     "output_type": "stream",
     "text": [
      "Searching quran for \"ما هو التوحيد؟\"\n",
      "Searching quran for \"ما معنى الجهاد؟\"\n",
      "Searching quran for \"كيف يتناول الإسلام القدر والإرادة الحرة؟\"\n",
      "Searching al-mawsuah for \"هل العمرة والحج نفس الشيء؟\"\n",
      "Searching hadith for \"ماذا يؤمن المسلمون؟\"\n",
      "Searching hadith for \"هل الشريعة موحدة وغير متغيرة؟\"\n",
      "Searching hadith for \"صلاة التراويح\"\n",
      "Searching hadith for \"ما هي الصدقة؟\"\n",
      "Searching hadith for \"ما هو التوحيد؟\"\n",
      "Searching hadith for \"ما معنى الجهاد؟\"\n",
      "Searching hadith for \"كيف يتناول الإسلام القدر والإرادة الحرة؟\"\n"
     ]
    },
    {
     "name": "stderr",
     "output_type": "stream",
     "text": [
      "Average Metric: 620 / 80  (775.0):  82%|████████▏ | 80/98 [00:25<00:05,  3.35it/s]"
     ]
    },
    {
     "name": "stdout",
     "output_type": "stream",
     "text": [
      "Searching quran for \"الطلاق في الإسلام\"\n",
      "Searching al-mawsuah for \"ماذا يؤمن المسلمون؟\"\n",
      "Searching al-mawsuah for \"هل الشريعة موحدة وغير متغيرة؟\"\n",
      "Searching al-mawsuah for \"صلاة التراويح\"\n",
      "Searching al-mawsuah for \"ما هي الصدقة؟\"\n",
      "Searching al-mawsuah for \"ما معنى الجهاد؟\"\n",
      "Searching al-mawsuah for \"ما هو التوحيد؟\"\n",
      "Searching al-mawsuah for \"كيف يتناول الإسلام القدر والإرادة الحرة؟\"\n"
     ]
    },
    {
     "name": "stderr",
     "output_type": "stream",
     "text": [
      "Average Metric: 640 / 83  (771.1):  84%|████████▎ | 82/98 [00:26<00:05,  2.96it/s]"
     ]
    },
    {
     "name": "stdout",
     "output_type": "stream",
     "text": [
      "Searching quran for \"ما هي الأعياد التي يحتفل بها المسلمون؟\"Searching hadith for \"حديث عن الطلاق\"\n",
      "\n",
      "Searching quran for \"هل الوسواس القهري نتيجة وساوس الشيطان؟\"\n",
      "Searching quran for \"كيف نعرف أن الله موجود؟\"\n"
     ]
    },
    {
     "name": "stderr",
     "output_type": "stream",
     "text": [
      "Average Metric: 650 / 85  (764.7):  87%|████████▋ | 85/98 [00:26<00:03,  4.28it/s]"
     ]
    },
    {
     "name": "stdout",
     "output_type": "stream",
     "text": [
      "Searching quran for \"تاريخ الشريعة\"\n",
      "Searching quran for \"هل يسمح الإسلام بالحرب الوقائية؟\"\n"
     ]
    },
    {
     "name": "stderr",
     "output_type": "stream",
     "text": [
      "Average Metric: 662 / 87  (760.9):  89%|████████▉ | 87/98 [00:27<00:01,  5.88it/s]"
     ]
    },
    {
     "name": "stdout",
     "output_type": "stream",
     "text": [
      "Searching quran for \"الوحي في الإسلام\"\n",
      "Searching quran for \"هل الإسلام يشجع على العنف؟\"\n",
      "Searching al-mawsuah for \"الطلاق في الفقه الإسلامي\"\n",
      "Searching hadith for \"ما هي الأعياد التي يحتفل بها المسلمون؟\"\n",
      "Searching hadith for \"هل الوسواس القهري نتيجة وساوس الشيطان؟\"\n",
      "Searching hadith for \"كيف نعرف أن الله موجود؟\"\n",
      "Searching hadith for \"تاريخ الشريعة\"\n",
      "Searching hadith for \"هل يسمح الإسلام بالحرب الوقائية؟\"\n",
      "Searching hadith for \"الوحي في الإسلام\"\n",
      "Searching hadith for \"هل الإسلام يشجع على العنف؟\"\n"
     ]
    },
    {
     "name": "stderr",
     "output_type": "stream",
     "text": [
      "Average Metric: 670 / 88  (761.4):  90%|████████▉ | 88/98 [00:28<00:03,  2.89it/s]"
     ]
    },
    {
     "name": "stdout",
     "output_type": "stream",
     "text": [
      "Searching quran for \"ما هي أهمية الحج؟\"\n",
      "Searching al-mawsuah for \"ما هي الأعياد التي يحتفل بها المسلمون؟\"\n",
      "Searching al-mawsuah for \"هل الوسواس القهري نتيجة وساوس الشيطان؟\"\n",
      "Searching al-mawsuah for \"تاريخ الشريعة\"\n",
      "Searching al-mawsuah for \"كيف نعرف أن الله موجود؟\"\n",
      "Searching al-mawsuah for \"الوحي في الإسلام\"\n",
      "Searching al-mawsuah for \"هل الإسلام يشجع على العنف؟\"\n",
      "Searching al-mawsuah for \"هل يسمح الإسلام بالحرب الوقائية؟\"\n"
     ]
    },
    {
     "name": "stderr",
     "output_type": "stream",
     "text": [
      "Average Metric: 694 / 91  (762.6):  93%|█████████▎| 91/98 [00:29<00:02,  3.33it/s]"
     ]
    },
    {
     "name": "stdout",
     "output_type": "stream",
     "text": [
      "Searching quran for \"لماذا يطلب الله من الناس عبادته؟\"\n",
      "Searching hadith for \"ما هي أهمية الحج؟\"\n",
      "Searching quran for \"هل يؤمن المسلمون بصلب عيسى؟\"\n"
     ]
    },
    {
     "name": "stderr",
     "output_type": "stream",
     "text": [
      "Average Metric: 724 / 95  (762.1):  96%|█████████▌| 94/98 [00:29<00:01,  3.68it/s]"
     ]
    },
    {
     "name": "stdout",
     "output_type": "stream",
     "text": [
      "Searching al-mawsuah for \"ما هي أهمية الحج؟\"\n",
      "Searching hadith for \"هل ورد في الأحاديث أن المسلمين يؤمنون بصلب عيسى؟\"\n",
      "Searching hadith for \"لماذا يطلب الله من الناس عبادته؟\"\n"
     ]
    },
    {
     "name": "stderr",
     "output_type": "stream",
     "text": [
      "Average Metric: 734 / 96  (764.6):  98%|█████████▊| 96/98 [00:30<00:00,  3.17it/s]"
     ]
    },
    {
     "name": "stdout",
     "output_type": "stream",
     "text": [
      "Searching al-mawsuah for \"لماذا يطلب الله من الناس عبادته؟\"\n",
      "Searching al-mawsuah for \"موقف الفقه الإسلامي من صلب عيسى\"\n"
     ]
    },
    {
     "name": "stderr",
     "output_type": "stream",
     "text": [
      "Average Metric: 748 / 98  (763.3): 100%|██████████| 98/98 [00:31<00:00,  3.12it/s]\n"
     ]
    },
    {
     "name": "stdout",
     "output_type": "stream",
     "text": [
      "Searching quran for \"أين الكعبة؟\"\n",
      "Searching quran for \"من يجب عليه أداء الحج؟\"\n",
      "Searching quran for \"هل يسمح الإسلام بجرائم الشرف؟\"\n",
      "Searching quran for \"هل يصوم المسلمون خارج رمضان؟\"\n",
      "Searching quran for \"هل يقدم القرآن توجيهات حول كيفية التعامل مع الصدمة والألم؟\"\n",
      "Searching quran for \"ما هي الفتوى؟\"\n",
      "Searching quran for \"ما معنى حلال؟\"\n",
      "Searching quran for \"هل الردة يعاقب عليها بالإعدام في الإسلام؟\"\n"
     ]
    },
    {
     "name": "stderr",
     "output_type": "stream",
     "text": [
      "  0%|          | 0/98 [00:00<?, ?it/s]"
     ]
    },
    {
     "name": "stdout",
     "output_type": "stream",
     "text": [
      "Searching hadith for \"هل توجد أحاديث تتعلق بجرائم الشرف؟\"\n",
      "Searching hadith for \"هل يصوم المسلمون خارج رمضان؟\"\n",
      "Searching hadith for \"أين الكعبة؟\"\n",
      "Searching hadith for \"ما معنى حلال؟\"\n",
      "Searching hadith for \"ما هي الفتوى؟\"\n",
      "Searching hadith for \"من يجب عليه أداء الحج؟\"\n",
      "Searching hadith for \"هل تقدم السنة النبوية توجيهات حول كيفية التعامل مع الصدمة والألم؟\"\n",
      "Searching hadith for \"هل يعاقب المرتد بالإعدام في الإسلام؟\"\n",
      "Searching al-mawsuah for \"ما هو حكم الفقه الإسلامي في جرائم الشرف؟\"\n",
      "Searching al-mawsuah for \"من يجب عليه أداء الحج؟\"\n",
      "Searching al-mawsuah for \"أين الكعبة؟\"\n",
      "Searching al-mawsuah for \"هل يصوم المسلمون خارج رمضان؟\"\n",
      "Searching al-mawsuah for \"ما معنى حلال؟\"\n",
      "Searching al-mawsuah for \"ما هي الفتوى؟\"\n",
      "Searching al-mawsuah for \"كيفية التعامل مع الصدمة والألم في الفقه الإسلامي\"\n",
      "Searching al-mawsuah for \"حكم الردة في الفقه الإسلامي\"\n"
     ]
    },
    {
     "name": "stderr",
     "output_type": "stream",
     "text": [
      "Average Metric: 48 / 6  (800.0):   5%|▌         | 5/98 [00:02<01:00,  1.53it/s]"
     ]
    },
    {
     "name": "stdout",
     "output_type": "stream",
     "text": [
      "Searching quran for \"ما هو رمضان؟\"\n",
      "Searching quran for \"هل الإسلام يشجع على العنف؟\"\n",
      "Searching quran for \"هل يسمح الإسلام بالحرب الوقائية؟\"\n",
      "Searching quran for \"أهمية ليلة القدر\"\n",
      "Searching quran for \"كيف يصف القرآن السعادة؟ كيف يمكن تحقيقها في الإسلام؟\"\n",
      "Searching quran for \"هل يوفر الإسلام إرشادات حول كيفية التعامل مع الأمراض النفسية؟\"\n"
     ]
    },
    {
     "name": "stderr",
     "output_type": "stream",
     "text": [
      "Average Metric: 64 / 8  (800.0):   7%|▋         | 7/98 [00:02<00:22,  4.12it/s]"
     ]
    },
    {
     "name": "stdout",
     "output_type": "stream",
     "text": [
      "Searching quran for \"ما هو رمضان؟\"\n",
      "Searching quran for \"لماذا يصلي المسلمون يوميا؟\"\n",
      "Searching hadith for \"هل الإسلام يشجع على العنف؟\"\n",
      "Searching hadith for \"هل يسمح الإسلام بالحرب الوقائية؟\"\n",
      "Searching hadith for \"فضل ليلة القدر\"\n",
      "Searching hadith for \"هل هناك أحاديث تتحدث عن كيفية التعامل مع الأمراض النفسية؟\"\n",
      "Searching hadith for \"ما هو رمضان؟\"\n",
      "Searching hadith for \"كيف يصف الحديث السعادة؟ كيف يمكن تحقيقها في الإسلام؟\"\n",
      "Searching hadith for \"لماذا يصلي المسلمون يوميا؟\"\n",
      "Searching hadith for \"ما هو رمضان؟\"\n",
      "Searching al-mawsuah for \"هل الإسلام يشجع على العنف؟\"\n",
      "Searching al-mawsuah for \"أهمية ليلة القدر في الفقه الإسلامي\"\n",
      "Searching al-mawsuah for \"ما هو رمضان؟\"\n",
      "Searching al-mawsuah for \"إرشادات الفقه الإسلامي حول التعامل مع الأمراض النفسية\"\n",
      "Searching al-mawsuah for \"السعادة في الفقه الإسلامي وكيفية تحقيقها\"\n",
      "Searching al-mawsuah for \"هل يسمح الإسلام بالحرب الوقائية؟\"\n",
      "Searching al-mawsuah for \"ما هو رمضان؟\"\n",
      "Searching al-mawsuah for \"لماذا يصلي المسلمون يوميا؟\"\n"
     ]
    },
    {
     "name": "stderr",
     "output_type": "stream",
     "text": [
      "Average Metric: 100 / 14  (714.3):  13%|█▎        | 13/98 [00:04<00:27,  3.13it/s]"
     ]
    },
    {
     "name": "stdout",
     "output_type": "stream",
     "text": [
      "Searching quran for \"كيف تصوم رمضان؟\"\n",
      "Searching quran for \"كيف نعلم أن القرآن وحي إلهي؟\"\n",
      "Searching quran for \"من يجب عليه الصيام في رمضان؟\"\n",
      "Searching quran for \"هل التجديف يعاقب عليه بالإعدام؟\"\n",
      "Searching quran for \"ما هو الغرض من الصيام في رمضان؟\"\n",
      "Searching quran for \"ماذا يقدم الإسلام للناس؟\"\n"
     ]
    },
    {
     "name": "stderr",
     "output_type": "stream",
     "text": [
      "Average Metric: 114 / 16  (712.5):  15%|█▌        | 15/98 [00:05<00:17,  4.67it/s]"
     ]
    },
    {
     "name": "stdout",
     "output_type": "stream",
     "text": [
      "Searching quran for \"مدة الصيام في رمضان\"\n",
      "Searching quran for \"كيف يُساء تفسير الجهاد كإرهاب؟\"\n",
      "Searching hadith for \"كيف تصوم رمضان؟\"\n",
      "Searching hadith for \"كيف نعلم أن القرآن وحي إلهي؟\"\n",
      "Searching hadith for \"من يجب عليه الصيام في رمضان؟\"\n",
      "Searching hadith for \"هل التجديف يعاقب عليه بالإعدام؟\"\n",
      "Searching hadith for \"ماذا يقدم الإسلام للناس؟\"\n",
      "Searching hadith for \"ما هو الغرض من الصيام في رمضان؟\"\n",
      "Searching hadith for \"مدة الصيام في رمضان\"\n",
      "Searching hadith for \"كيف يُساء تفسير الجهاد كإرهاب؟\"\n",
      "Searching al-mawsuah for \"كيف تصوم رمضان؟\"\n",
      "Searching al-mawsuah for \"كيف نعلم أن القرآن وحي إلهي؟\"\n",
      "Searching al-mawsuah for \"من يجب عليه الصيام في رمضان؟\"\n",
      "Searching al-mawsuah for \"ما هو الغرض من الصيام في رمضان؟\"\n",
      "Searching al-mawsuah for \"مدة الصيام في رمضان\"\n",
      "Searching al-mawsuah for \"هل التجديف يعاقب عليه بالإعدام؟\"\n",
      "Searching al-mawsuah for \"ماذا يقدم الإسلام للناس؟\"\n",
      "Searching al-mawsuah for \"كيف يُساء تفسير الجهاد كإرهاب؟\"\n"
     ]
    },
    {
     "name": "stderr",
     "output_type": "stream",
     "text": [
      "Average Metric: 122 / 17  (717.6):  17%|█▋        | 17/98 [00:07<00:33,  2.39it/s]"
     ]
    },
    {
     "name": "stdout",
     "output_type": "stream",
     "text": [
      "Searching quran for \"كيف يُساء تفسير الجهاد كإرهاب؟\"\n"
     ]
    },
    {
     "name": "stderr",
     "output_type": "stream",
     "text": [
      "Average Metric: 156 / 21  (742.9):  20%|██        | 20/98 [00:07<00:27,  2.79it/s]"
     ]
    },
    {
     "name": "stdout",
     "output_type": "stream",
     "text": [
      "Searching quran for \"أركان الإسلام الخمسة\"\n",
      "Searching quran for \"كيف يعامل الإسلام الأقليات الدينية؟\"\n",
      "Searching quran for \"ليلة القدر\"\n",
      "Searching quran for \"من هو الله\"\n"
     ]
    },
    {
     "name": "stderr",
     "output_type": "stream",
     "text": [
      "Average Metric: 182 / 24  (758.3):  24%|██▍       | 24/98 [00:07<00:14,  5.18it/s]"
     ]
    },
    {
     "name": "stdout",
     "output_type": "stream",
     "text": [
      "Searching quran for \"هل يؤمن المسلمون بالروح القدس؟\"\n",
      "Searching quran for \"هل يؤمن المسلمون بالجنة والنار؟\"\n",
      "Searching quran for \"ما معنى الجهاد؟\"\n",
      "Searching hadith for \"كيف يُساء تفسير الجهاد كإرهاب؟\"\n",
      "Searching hadith for \"أركان الإسلام الخمسة\"\n",
      "Searching hadith for \"معاملة الإسلام للأقليات الدينية\"\n",
      "Searching hadith for \"هل ذكر الروح القدس في الأحاديث؟\"\n",
      "Searching hadith for \"من هو الله\"\n",
      "Searching hadith for \"هل ذكر النبي الجنة والنار؟\"\n",
      "Searching hadith for \"ما هي ليلة القدر\"\n",
      "Searching hadith for \"ما معنى الجهاد؟\"\n",
      "Searching al-mawsuah for \"كيف يُساء تفسير الجهاد كإرهاب؟\"\n",
      "Searching al-mawsuah for \"أركان الإسلام الخمسة\"\n",
      "Searching al-mawsuah for \"معاملة الأقليات الدينية في الفقه الإسلامي\"\n",
      "Searching al-mawsuah for \"الإيمان بالروح القدس في الفقه الإسلامي\"\n",
      "Searching al-mawsuah for \"ليلة القدر في الفقه الإسلامي\"\n",
      "Searching al-mawsuah for \"ما معنى الجهاد؟\"\n",
      "Searching al-mawsuah for \"الإيمان بالجنة والنار في الفقه الإسلامي\"\n",
      "Searching al-mawsuah for \"من هو الله\"\n",
      "Searching quran for \"أين يحدث الحج؟\"\n"
     ]
    },
    {
     "name": "stderr",
     "output_type": "stream",
     "text": [
      "Average Metric: 198 / 26  (761.5):  26%|██▌       | 25/98 [00:09<00:14,  5.18it/s]"
     ]
    },
    {
     "name": "stdout",
     "output_type": "stream",
     "text": [
      "Searching quran for \"أحكام الحرب في الإسلام\"\n"
     ]
    },
    {
     "name": "stderr",
     "output_type": "stream",
     "text": [
      "Average Metric: 226 / 29  (779.3):  30%|██▉       | 29/98 [00:09<00:20,  3.32it/s]"
     ]
    },
    {
     "name": "stdout",
     "output_type": "stream",
     "text": [
      "Searching quran for \"متى ليلة القدر؟\"\n",
      "Searching quran for \"كم مرة يصلي المسلمون خلال رمضان؟\"\n",
      "Searching quran for \"لماذا الكعبة مهمة؟\"\n"
     ]
    },
    {
     "name": "stderr",
     "output_type": "stream",
     "text": [
      "Average Metric: 250 / 32  (781.2):  32%|███▏      | 31/98 [00:10<00:16,  4.11it/s]"
     ]
    },
    {
     "name": "stdout",
     "output_type": "stream",
     "text": [
      "Searching quran for \"لماذا يجب على المسلمين الصيام لمدة شهر كامل؟\"\n",
      "Searching quran for \"كيف يمكن فهم والتعامل مع الحزن والأسى في الإسلام؟\"\n",
      "Searching quran for \"كيف يمكن للمرء أن يطهر قلبه وروحه؟\"\n",
      "Searching hadith for \"أين يحدث الحج؟\"\n",
      "Searching hadith for \"أحاديث عن أحكام الحرب في الإسلام\"\n",
      "Searching hadith for \"متى ليلة القدر؟\"\n",
      "Searching hadith for \"كم مرة يصلي المسلمون خلال رمضان؟\"\n",
      "Searching hadith for \"لماذا الكعبة مهمة؟\"\n",
      "Searching hadith for \"كيف يمكن للمرء أن يطهر قلبه وروحه؟\"Searching hadith for \"لماذا يجب على المسلمين الصيام لمدة شهر كامل؟\"\n",
      "\n",
      "Searching al-mawsuah for \"أين يحدث الحج؟\"\n",
      "Searching hadith for \"كيف يمكن فهم والتعامل مع الحزن والأسى في الإسلام؟\"\n",
      "Searching al-mawsuah for \"أحكام الحرب في الفقه الإسلامي\"\n",
      "Searching al-mawsuah for \"متى ليلة القدر؟\"\n"
     ]
    },
    {
     "name": "stderr",
     "output_type": "stream",
     "text": [
      "Average Metric: 262 / 33  (793.9):  33%|███▎      | 32/98 [00:11<00:16,  4.11it/s]"
     ]
    },
    {
     "name": "stdout",
     "output_type": "stream",
     "text": [
      "Searching al-mawsuah for \"كم مرة يصلي المسلمون خلال رمضان؟\"\n",
      "Searching al-mawsuah for \"أهمية الكعبة في الفقه الإسلامي\"\n",
      "Searching al-mawsuah for \"كيف يمكن للمرء أن يطهر قلبه وروحه؟\"\n",
      "Searching al-mawsuah for \"لماذا يجب على المسلمين الصيام لمدة شهر كامل؟\"\n",
      "Searching al-mawsuah for \"كيف يمكن فهم والتعامل مع الحزن والأسى في الإسلام؟\"\n"
     ]
    },
    {
     "name": "stderr",
     "output_type": "stream",
     "text": [
      "Average Metric: 262 / 33  (793.9):  34%|███▎      | 33/98 [00:11<00:25,  2.57it/s]"
     ]
    },
    {
     "name": "stdout",
     "output_type": "stream",
     "text": [
      "Searching quran for \"ما هي الكعبة؟\"\n"
     ]
    },
    {
     "name": "stderr",
     "output_type": "stream",
     "text": [
      "Average Metric: 282 / 35  (805.7):  36%|███▌      | 35/98 [00:12<00:21,  2.92it/s]"
     ]
    },
    {
     "name": "stdout",
     "output_type": "stream",
     "text": [
      "Searching quran for \"من هو النبي محمد؟\"\n",
      "Searching quran for \"ما هي التزكية؟\"\n"
     ]
    },
    {
     "name": "stderr",
     "output_type": "stream",
     "text": [
      "Average Metric: 286 / 36  (794.4):  36%|███▌      | 35/98 [00:12<00:21,  2.92it/s]"
     ]
    },
    {
     "name": "stdout",
     "output_type": "stream",
     "text": [
      "Searching quran for \"أحكام الحرب في الإسلام\"\n",
      "Searching quran for \"ما الذي يعلمه الإسلام عن إدارة القلق والاكتئاب والشك الذاتي؟\"\n"
     ]
    },
    {
     "name": "stderr",
     "output_type": "stream",
     "text": [
      "Average Metric: 320 / 40  (800.0):  40%|███▉      | 39/98 [00:12<00:13,  4.49it/s]"
     ]
    },
    {
     "name": "stdout",
     "output_type": "stream",
     "text": [
      "Searching quran for \"أين تؤدى العمرة؟\"\n",
      "Searching hadith for \"ما هي الكعبة؟\"\n",
      "Searching quran for \"كيف تكون الروحانية الإسلامية فريدة؟\"\n",
      "Searching quran for \"كيف يفهم الإسلام الروح\"\n",
      "Searching hadith for \"من هو النبي محمد؟\"\n",
      "Searching hadith for \"ما هي التزكية؟\"\n",
      "Searching hadith for \"أحاديث عن أحكام الحرب في الإسلام\"\n",
      "Searching hadith for \"ما الذي يعلمه الإسلام عن إدارة القلق والاكتئاب والشك الذاتي؟\"\n",
      "Searching hadith for \"فهم الروح في الإسلام\"\n",
      "Searching al-mawsuah for \"ما هي الكعبة؟\"\n",
      "Searching hadith for \"كيف تكون الروحانية الإسلامية فريدة؟\"\n",
      "Searching hadith for \"أين تؤدى العمرة؟\"\n",
      "Searching al-mawsuah for \"ما هي التزكية؟\"\n",
      "Searching al-mawsuah for \"من هو النبي محمد؟\"\n",
      "Searching al-mawsuah for \"أحكام الحرب في الفقه الإسلامي\"\n",
      "Searching al-mawsuah for \"ما الذي يعلمه الإسلام عن إدارة القلق والاكتئاب والشك الذاتي؟\"\n"
     ]
    },
    {
     "name": "stderr",
     "output_type": "stream",
     "text": [
      "Average Metric: 326 / 41  (795.1):  42%|████▏     | 41/98 [00:14<00:22,  2.51it/s]"
     ]
    },
    {
     "name": "stdout",
     "output_type": "stream",
     "text": [
      "Searching quran for \"من هو عيسى في الإسلام؟\"\n",
      "Searching al-mawsuah for \"كيف تكون الروحانية الإسلامية فريدة؟\"\n",
      "Searching al-mawsuah for \"الروح في الفقه الإسلامي\"\n"
     ]
    },
    {
     "name": "stderr",
     "output_type": "stream",
     "text": [
      "Average Metric: 336 / 42  (800.0):  43%|████▎     | 42/98 [00:14<00:21,  2.67it/s]"
     ]
    },
    {
     "name": "stdout",
     "output_type": "stream",
     "text": [
      "Searching quran for \"ما هو الإسلام؟\"\n"
     ]
    },
    {
     "name": "stderr",
     "output_type": "stream",
     "text": [
      "Average Metric: 354 / 44  (804.5):  45%|████▍     | 44/98 [00:14<00:16,  3.25it/s]"
     ]
    },
    {
     "name": "stdout",
     "output_type": "stream",
     "text": [
      "Searching quran for \"متى رمضان؟\"\n",
      "Searching quran for \"كيف يعامل الإسلام الأقليات الدينية؟\"\n"
     ]
    },
    {
     "name": "stderr",
     "output_type": "stream",
     "text": [
      "Average Metric: 374 / 47  (795.7):  48%|████▊     | 47/98 [00:15<00:09,  5.30it/s]"
     ]
    },
    {
     "name": "stdout",
     "output_type": "stream",
     "text": [
      "Searching al-mawsuah for \"أين تؤدى العمرة؟\"\n",
      "Searching quran for \"كيف تتعلق الشريعة بطقوس العبادة؟\"\n",
      "Searching quran for \"هل انتشر الإسلام بالعنف والإكراه؟\"\n",
      "Searching hadith for \"من هو عيسى في الأحاديث؟\"\n",
      "Searching quran for \"لماذا يتم الاحتفال بشهر رمضان؟\"\n",
      "Searching hadith for \"ما هو الإسلام؟\"\n",
      "Searching hadith for \"متى رمضان؟\"\n",
      "Searching hadith for \"معاملة الإسلام للأقليات الدينية\"\n"
     ]
    },
    {
     "name": "stderr",
     "output_type": "stream",
     "text": [
      "Average Metric: 382 / 48  (795.8):  49%|████▉     | 48/98 [00:15<00:14,  3.46it/s]"
     ]
    },
    {
     "name": "stdout",
     "output_type": "stream",
     "text": [
      "Searching quran for \"من هو النبي إبراهيم؟\"\n",
      "Searching hadith for \"كيف تتعلق الشريعة بطقوس العبادة؟\"\n",
      "Searching hadith for \"هل انتشر الإسلام بالعنف والإكراه؟\"\n",
      "Searching hadith for \"لماذا يتم الاحتفال بشهر رمضان؟\"\n",
      "Searching al-mawsuah for \"ما هو الإسلام؟\"\n",
      "Searching al-mawsuah for \"من هو عيسى في الفقه الإسلامي؟\"\n",
      "Searching al-mawsuah for \"متى رمضان؟\"\n",
      "Searching al-mawsuah for \"معاملة الأقليات الدينية في الفقه الإسلامي\"\n",
      "Searching al-mawsuah for \"كيف تتعلق الشريعة بطقوس العبادة؟\"\n",
      "Searching al-mawsuah for \"هل انتشر الإسلام بالعنف والإكراه؟\"\n",
      "Searching hadith for \"من هو النبي إبراهيم؟\"\n",
      "Searching al-mawsuah for \"لماذا يتم الاحتفال بشهر رمضان؟\"\n"
     ]
    },
    {
     "name": "stderr",
     "output_type": "stream",
     "text": [
      "Average Metric: 392 / 50  (784.0):  51%|█████     | 50/98 [00:17<00:19,  2.47it/s]"
     ]
    },
    {
     "name": "stdout",
     "output_type": "stream",
     "text": [
      "Searching quran for \"ما هو زكاة الفطر؟\"\n",
      "Searching quran for \"هل يسمح الإسلام بقتل المدنيين؟\"\n"
     ]
    },
    {
     "name": "stderr",
     "output_type": "stream",
     "text": [
      "Average Metric: 428 / 54  (792.6):  54%|█████▍    | 53/98 [00:17<00:09,  4.73it/s]"
     ]
    },
    {
     "name": "stdout",
     "output_type": "stream",
     "text": [
      "Searching quran for \"ما هو الفقه؟\"\n",
      "Searching quran for \"كيف تتعلق الشريعة بالمجتمع؟\"\n",
      "Searching quran for \"أهمية الصدقة في رمضان\"\n",
      "Searching quran for \"القيود الغذائية في الإسلام\"\n"
     ]
    },
    {
     "name": "stderr",
     "output_type": "stream",
     "text": [
      "Average Metric: 436 / 55  (792.7):  55%|█████▌    | 54/98 [00:17<00:09,  4.73it/s]"
     ]
    },
    {
     "name": "stdout",
     "output_type": "stream",
     "text": [
      "Searching quran for \"ما هو القرآن؟\"\n",
      "Searching al-mawsuah for \"من هو النبي إبراهيم؟\"\n",
      "Searching hadith for \"ما هو زكاة الفطر؟\"\n",
      "Searching hadith for \"هل يسمح الإسلام بقتل المدنيين؟\"\n",
      "Searching hadith for \"كيف تتعلق الشريعة بالمجتمع؟\"\n",
      "Searching hadith for \"ما هو الفقه؟\"\n",
      "Searching hadith for \"فضل الصدقة في رمضان\"\n",
      "Searching hadith for \"القيود الغذائية في الإسلام\"\n",
      "Searching hadith for \"ما هو القرآن؟\"\n",
      "Searching al-mawsuah for \"ما هو زكاة الفطر؟\"\n"
     ]
    },
    {
     "name": "stderr",
     "output_type": "stream",
     "text": [
      "Average Metric: 442 / 56  (789.3):  57%|█████▋    | 56/98 [00:18<00:12,  3.38it/s]"
     ]
    },
    {
     "name": "stdout",
     "output_type": "stream",
     "text": [
      "Searching quran for \"من بنى الكعبة؟\"\n",
      "Searching al-mawsuah for \"هل يسمح الإسلام بقتل المدنيين؟\"\n",
      "Searching al-mawsuah for \"كيف تتعلق الشريعة بالمجتمع؟\"\n",
      "Searching al-mawsuah for \"ما هو الفقه؟\"\n",
      "Searching al-mawsuah for \"الصدقة في رمضان\"\n",
      "Searching al-mawsuah for \"ما هو القرآن؟\"\n"
     ]
    },
    {
     "name": "stderr",
     "output_type": "stream",
     "text": [
      "Average Metric: 446 / 57  (782.5):  58%|█████▊    | 57/98 [00:19<00:15,  2.63it/s]"
     ]
    },
    {
     "name": "stdout",
     "output_type": "stream",
     "text": [
      "Searching al-mawsuah for \"القيود الغذائية في الإسلام\"\n",
      "Searching quran for \"من أين تأتي الشريعة؟\"\n",
      "Searching hadith for \"من بنى الكعبة؟\"\n"
     ]
    },
    {
     "name": "stderr",
     "output_type": "stream",
     "text": [
      "Average Metric: 470 / 60  (783.3):  60%|██████    | 59/98 [00:19<00:11,  3.33it/s]"
     ]
    },
    {
     "name": "stdout",
     "output_type": "stream",
     "text": [
      "Searching quran for \"كيف يغذي الإسلام رفاهنا العاطفي؟\"\n",
      "Searching quran for \"كيفية أداء العمرة\"\n",
      "Searching quran for \"آيات القرآن للتعامل مع الضيق والشدائد\"\n"
     ]
    },
    {
     "name": "stderr",
     "output_type": "stream",
     "text": [
      "Average Metric: 486 / 62  (783.9):  62%|██████▏   | 61/98 [00:19<00:07,  4.68it/s]"
     ]
    },
    {
     "name": "stdout",
     "output_type": "stream",
     "text": [
      "Searching quran for \"هل يقول القرآن بقتل غير المؤمنين؟\"\n",
      "Searching quran for \"هل التجديف يعاقب عليه بالإعدام؟\"\n"
     ]
    },
    {
     "name": "stderr",
     "output_type": "stream",
     "text": [
      "Average Metric: 496 / 63  (787.3):  64%|██████▍   | 63/98 [00:19<00:06,  5.56it/s]"
     ]
    },
    {
     "name": "stdout",
     "output_type": "stream",
     "text": [
      "Searching quran for \"هل يسمح الإسلام بقتل المدنيين؟\"\n",
      "Searching hadith for \"من أين تأتي الشريعة؟\"\n",
      "Searching al-mawsuah for \"من بنى الكعبة؟\"\n",
      "Searching hadith for \"كيف يغذي الإسلام رفاهنا العاطفي؟\"\n",
      "Searching hadith for \"كيفية أداء العمرة\"\n",
      "Searching hadith for \"أحاديث عن التعامل مع الضيق والشدائد\"\n",
      "Searching hadith for \"هل التجديف يعاقب عليه بالإعدام؟\"\n",
      "Searching hadith for \"هل يوجد حديث يأمر بقتل غير المؤمنين؟\"\n"
     ]
    },
    {
     "name": "stderr",
     "output_type": "stream",
     "text": [
      "Average Metric: 504 / 64  (787.5):  65%|██████▌   | 64/98 [00:20<00:11,  2.97it/s]"
     ]
    },
    {
     "name": "stdout",
     "output_type": "stream",
     "text": [
      "Searching hadith for \"هل يسمح الإسلام بقتل المدنيين؟\"\n",
      "Searching al-mawsuah for \"مصادر الشريعة الإسلامية\"\n",
      "Searching quran for \"ما معنى الإسلام؟\"\n",
      "Searching al-mawsuah for \"كيف يغذي الإسلام رفاهنا العاطفي؟\"\n",
      "Searching al-mawsuah for \"كيفية أداء العمرة\"\n",
      "Searching al-mawsuah for \"أحكام الفقه الإسلامي حول التعامل مع الضيق والشدائد\"\n",
      "Searching al-mawsuah for \"ما هو حكم قتل غير المؤمنين في الفقه الإسلامي؟\"\n",
      "Searching al-mawsuah for \"هل التجديف يعاقب عليه بالإعدام؟\"\n"
     ]
    },
    {
     "name": "stderr",
     "output_type": "stream",
     "text": [
      "Average Metric: 514 / 65  (790.8):  66%|██████▋   | 65/98 [00:21<00:14,  2.30it/s]"
     ]
    },
    {
     "name": "stdout",
     "output_type": "stream",
     "text": [
      "Searching al-mawsuah for \"هل يسمح الإسلام بقتل المدنيين؟\"\n",
      "Searching quran for \"ما هو عيد الفطر؟\"\n",
      "Searching hadith for \"ما معنى الإسلام في الحديث؟\"\n"
     ]
    },
    {
     "name": "stderr",
     "output_type": "stream",
     "text": [
      "Average Metric: 532 / 68  (782.4):  68%|██████▊   | 67/98 [00:21<00:11,  2.65it/s]"
     ]
    },
    {
     "name": "stdout",
     "output_type": "stream",
     "text": [
      "Searching quran for \"لماذا الحج مهم؟\"\n",
      "Searching quran for \"هل يقول القرآن بقتل غير المؤمنين؟\"\n",
      "Searching quran for \"كيفية أداء الحج\"\n"
     ]
    },
    {
     "name": "stderr",
     "output_type": "stream",
     "text": [
      "Average Metric: 552 / 71  (777.5):  71%|███████▏  | 70/98 [00:22<00:06,  4.01it/s]"
     ]
    },
    {
     "name": "stdout",
     "output_type": "stream",
     "text": [
      "Searching quran for \"هل هناك استثناءات أو إعفاءات من الصيام؟\"\n",
      "Searching quran for \"ما هي العمرة؟\"\n",
      "Searching quran for \"هل انتشر الإسلام بالعنف والإكراه؟\"\n",
      "Searching hadith for \"ما هو عيد الفطر؟\"\n",
      "Searching al-mawsuah for \"ما هو تعريف الإسلام في الفقه الإسلامي؟\"\n",
      "Searching hadith for \"أهمية الحج في الأحاديث\"\n",
      "Searching hadith for \"كيفية أداء الحج\"\n",
      "Searching hadith for \"هل يوجد حديث يأمر بقتل غير المؤمنين؟\"\n",
      "Searching hadith for \"هل انتشر الإسلام بالعنف والإكراه؟\"\n",
      "Searching hadith for \"ما هي العمرة؟\"\n",
      "Searching hadith for \"هل هناك استثناءات أو إعفاءات من الصيام؟\"\n"
     ]
    },
    {
     "name": "stderr",
     "output_type": "stream",
     "text": [
      "Average Metric: 560 / 72  (777.8):  73%|███████▎  | 72/98 [00:23<00:08,  3.24it/s]"
     ]
    },
    {
     "name": "stdout",
     "output_type": "stream",
     "text": [
      "Searching al-mawsuah for \"ما هو عيد الفطر؟\"\n",
      "Searching al-mawsuah for \"كيفية أداء الحج\"\n",
      "Searching quran for \"هل العمرة والحج نفس الشيء؟\"\n",
      "Searching al-mawsuah for \"ما هو حكم قتل غير المؤمنين في الفقه الإسلامي؟\"\n",
      "Searching al-mawsuah for \"أهمية الحج في الفقه الإسلامي\"\n",
      "Searching al-mawsuah for \"هل انتشر الإسلام بالعنف والإكراه؟\"\n",
      "Searching al-mawsuah for \"ما هي العمرة؟\"\n"
     ]
    },
    {
     "name": "stderr",
     "output_type": "stream",
     "text": [
      "Average Metric: 566 / 73  (775.3):  74%|███████▍  | 73/98 [00:24<00:09,  2.65it/s]"
     ]
    },
    {
     "name": "stdout",
     "output_type": "stream",
     "text": [
      "Searching al-mawsuah for \"هل هناك استثناءات أو إعفاءات من الصيام؟\"\n",
      "Searching quran for \"ماذا يؤمن المسلمون؟\"\n"
     ]
    },
    {
     "name": "stderr",
     "output_type": "stream",
     "text": [
      "Average Metric: 578 / 75  (770.7):  76%|███████▌  | 74/98 [00:24<00:08,  2.90it/s]"
     ]
    },
    {
     "name": "stdout",
     "output_type": "stream",
     "text": [
      "Searching hadith for \"هل العمرة والحج نفس الشيء؟\"\n",
      "Searching quran for \"هل الشريعة موحدة وغير متغيرة؟\"\n",
      "Searching quran for \"ما هي الصدقة؟\"\n",
      "Searching quran for \"صلاة التراويح\"\n"
     ]
    },
    {
     "name": "stderr",
     "output_type": "stream",
     "text": [
      "Average Metric: 600 / 78  (769.2):  80%|███████▉  | 78/98 [00:24<00:03,  5.02it/s]"
     ]
    },
    {
     "name": "stdout",
     "output_type": "stream",
     "text": [
      "Searching quran for \"ما هو التوحيد؟\"\n",
      "Searching quran for \"ما معنى الجهاد؟\"\n"
     ]
    },
    {
     "name": "stderr",
     "output_type": "stream",
     "text": [
      "Average Metric: 612 / 79  (774.7):  81%|████████  | 79/98 [00:24<00:03,  5.20it/s]"
     ]
    },
    {
     "name": "stdout",
     "output_type": "stream",
     "text": [
      "Searching quran for \"كيف يتناول الإسلام القدر والإرادة الحرة؟\"\n",
      "Searching al-mawsuah for \"هل العمرة والحج نفس الشيء؟\"\n",
      "Searching hadith for \"ماذا يؤمن المسلمون؟\"\n",
      "Searching hadith for \"هل الشريعة موحدة وغير متغيرة؟\"\n",
      "Searching hadith for \"صلاة التراويح\"\n",
      "Searching hadith for \"ما هي الصدقة؟\"\n",
      "Searching hadith for \"ما هو التوحيد؟\"\n",
      "Searching hadith for \"ما معنى الجهاد؟\"\n"
     ]
    },
    {
     "name": "stderr",
     "output_type": "stream",
     "text": [
      "Average Metric: 620 / 80  (775.0):  82%|████████▏ | 80/98 [00:25<00:06,  2.96it/s]"
     ]
    },
    {
     "name": "stdout",
     "output_type": "stream",
     "text": [
      "Searching hadith for \"كيف يتناول الإسلام القدر والإرادة الحرة؟\"\n",
      "Searching quran for \"الطلاق في الإسلام\"\n",
      "Searching al-mawsuah for \"ماذا يؤمن المسلمون؟\"\n",
      "Searching al-mawsuah for \"صلاة التراويح\"\n",
      "Searching al-mawsuah for \"ما هي الصدقة؟\"\n",
      "Searching al-mawsuah for \"هل الشريعة موحدة وغير متغيرة؟\"\n",
      "Searching al-mawsuah for \"ما معنى الجهاد؟\"\n",
      "Searching al-mawsuah for \"ما هو التوحيد؟\"\n",
      "Searching al-mawsuah for \"كيف يتناول الإسلام القدر والإرادة الحرة؟\"\n"
     ]
    },
    {
     "name": "stderr",
     "output_type": "stream",
     "text": [
      "Average Metric: 628 / 81  (775.3):  83%|████████▎ | 81/98 [00:26<00:07,  2.14it/s]"
     ]
    },
    {
     "name": "stdout",
     "output_type": "stream",
     "text": [
      "Searching hadith for \"حديث عن الطلاق\"\n",
      "Searching quran for \"ما هي الأعياد التي يحتفل بها المسلمون؟\"\n"
     ]
    },
    {
     "name": "stderr",
     "output_type": "stream",
     "text": [
      "Average Metric: 644 / 84  (766.7):  85%|████████▍ | 83/98 [00:26<00:06,  2.46it/s]"
     ]
    },
    {
     "name": "stdout",
     "output_type": "stream",
     "text": [
      "Searching quran for \"هل الوسواس القهري نتيجة وساوس الشيطان؟\"\n",
      "Searching quran for \"كيف نعرف أن الله موجود؟\"\n",
      "Searching quran for \"تاريخ الشريعة\"\n"
     ]
    },
    {
     "name": "stderr",
     "output_type": "stream",
     "text": [
      "Average Metric: 662 / 87  (760.9):  89%|████████▉ | 87/98 [00:27<00:02,  5.36it/s]"
     ]
    },
    {
     "name": "stdout",
     "output_type": "stream",
     "text": [
      "Searching quran for \"هل يسمح الإسلام بالحرب الوقائية؟\"\n",
      "Searching quran for \"الوحي في الإسلام\"\n",
      "Searching quran for \"هل الإسلام يشجع على العنف؟\"\n",
      "Searching al-mawsuah for \"الطلاق في الفقه الإسلامي\"\n",
      "Searching hadith for \"ما هي الأعياد التي يحتفل بها المسلمون؟\"\n",
      "Searching hadith for \"هل الوسواس القهري نتيجة وساوس الشيطان؟\"\n",
      "Searching hadith for \"تاريخ الشريعة\"\n",
      "Searching hadith for \"كيف نعرف أن الله موجود؟\"\n",
      "Searching hadith for \"هل يسمح الإسلام بالحرب الوقائية؟\"\n",
      "Searching hadith for \"الوحي في الإسلام\"\n"
     ]
    },
    {
     "name": "stderr",
     "output_type": "stream",
     "text": [
      "Average Metric: 670 / 88  (761.4):  90%|████████▉ | 88/98 [00:28<00:03,  3.14it/s]"
     ]
    },
    {
     "name": "stdout",
     "output_type": "stream",
     "text": [
      "Searching hadith for \"هل الإسلام يشجع على العنف؟\"\n",
      "Searching quran for \"ما هي أهمية الحج؟\"\n",
      "Searching al-mawsuah for \"ما هي الأعياد التي يحتفل بها المسلمون؟\"\n",
      "Searching al-mawsuah for \"تاريخ الشريعة\"\n",
      "Searching al-mawsuah for \"هل الوسواس القهري نتيجة وساوس الشيطان؟\"\n",
      "Searching al-mawsuah for \"كيف نعرف أن الله موجود؟\"\n",
      "Searching al-mawsuah for \"الوحي في الإسلام\"\n",
      "Searching al-mawsuah for \"هل يسمح الإسلام بالحرب الوقائية؟\"\n",
      "Searching al-mawsuah for \"هل الإسلام يشجع على العنف؟\"\n",
      "Searching hadith for \"ما هي أهمية الحج؟\"\n"
     ]
    },
    {
     "name": "stderr",
     "output_type": "stream",
     "text": [
      "Average Metric: 700 / 92  (760.9):  94%|█████████▍| 92/98 [00:29<00:01,  3.67it/s]"
     ]
    },
    {
     "name": "stdout",
     "output_type": "stream",
     "text": [
      "Searching quran for \"لماذا يطلب الله من الناس عبادته؟\"\n",
      "Searching quran for \"هل يؤمن المسلمون بصلب عيسى؟\"\n"
     ]
    },
    {
     "name": "stderr",
     "output_type": "stream",
     "text": [
      "Average Metric: 724 / 95  (762.1):  97%|█████████▋| 95/98 [00:29<00:00,  5.05it/s]"
     ]
    },
    {
     "name": "stdout",
     "output_type": "stream",
     "text": [
      "Searching al-mawsuah for \"ما هي أهمية الحج؟\"\n",
      "Searching hadith for \"هل ورد في الأحاديث أن المسلمين يؤمنون بصلب عيسى؟\"\n",
      "Searching hadith for \"لماذا يطلب الله من الناس عبادته؟\"\n"
     ]
    },
    {
     "name": "stderr",
     "output_type": "stream",
     "text": [
      "Average Metric: 734 / 96  (764.6):  98%|█████████▊| 96/98 [00:30<00:00,  2.91it/s]"
     ]
    },
    {
     "name": "stdout",
     "output_type": "stream",
     "text": [
      "Searching al-mawsuah for \"موقف الفقه الإسلامي من صلب عيسى\"\n",
      "Searching al-mawsuah for \"لماذا يطلب الله من الناس عبادته؟\"\n"
     ]
    },
    {
     "name": "stderr",
     "output_type": "stream",
     "text": [
      "Average Metric: 748 / 98  (763.3): 100%|██████████| 98/98 [00:31<00:00,  3.09it/s]\n"
     ]
    },
    {
     "name": "stdout",
     "output_type": "stream",
     "text": [
      "Searching quran for \"من يجب عليه أداء الحج؟\"\n",
      "Searching quran for \"أين الكعبة؟\"\n",
      "Searching quran for \"هل يسمح الإسلام بجرائم الشرف؟\"\n",
      "Searching quran for \"هل يقدم القرآن توجيهات حول كيفية التعامل مع الصدمة والألم؟\"\n",
      "Searching quran for \"هل يصوم المسلمون خارج رمضان؟\"\n",
      "Searching quran for \"ما هي الفتوى؟\"\n",
      "Searching quran for \"ما معنى حلال؟\"\n"
     ]
    },
    {
     "name": "stderr",
     "output_type": "stream",
     "text": [
      "  0%|          | 0/98 [00:00<?, ?it/s]"
     ]
    },
    {
     "name": "stdout",
     "output_type": "stream",
     "text": [
      "Searching quran for \"هل الردة يعاقب عليها بالإعدام في الإسلام؟\"\n",
      "Searching hadith for \"أين الكعبة؟\"\n",
      "Searching hadith for \"هل توجد أحاديث تتعلق بجرائم الشرف؟\"\n",
      "Searching hadith for \"هل يصوم المسلمون خارج رمضان؟\"\n",
      "Searching hadith for \"ما هي الفتوى؟\"\n",
      "Searching hadith for \"هل تقدم السنة النبوية توجيهات حول كيفية التعامل مع الصدمة والألم؟\"\n",
      "Searching hadith for \"ما معنى حلال؟\"\n",
      "Searching hadith for \"من يجب عليه أداء الحج؟\"\n",
      "Searching hadith for \"هل يعاقب المرتد بالإعدام في الإسلام؟\"\n",
      "Searching al-mawsuah for \"ما هو حكم الفقه الإسلامي في جرائم الشرف؟\"\n",
      "Searching al-mawsuah for \"من يجب عليه أداء الحج؟\"\n",
      "Searching al-mawsuah for \"أين الكعبة؟\"\n",
      "Searching al-mawsuah for \"ما هي الفتوى؟\"\n",
      "Searching al-mawsuah for \"هل يصوم المسلمون خارج رمضان؟\"\n",
      "Searching al-mawsuah for \"كيفية التعامل مع الصدمة والألم في الفقه الإسلامي\"\n",
      "Searching al-mawsuah for \"ما معنى حلال؟\"\n",
      "Searching al-mawsuah for \"حكم الردة في الفقه الإسلامي\"\n"
     ]
    },
    {
     "name": "stderr",
     "output_type": "stream",
     "text": [
      "Average Metric: 64 / 8  (800.0):   7%|▋         | 7/98 [00:02<01:40,  1.11s/it]"
     ]
    },
    {
     "name": "stdout",
     "output_type": "stream",
     "text": [
      "Searching quran for \"ما هو رمضان؟\"\n",
      "Searching quran for \"أهمية ليلة القدر\"\n",
      "Searching quran for \"هل الإسلام يشجع على العنف؟\"\n",
      "Searching quran for \"هل يسمح الإسلام بالحرب الوقائية؟\"\n",
      "Searching quran for \"ما هو رمضان؟\"\n",
      "Searching quran for \"هل يوفر الإسلام إرشادات حول كيفية التعامل مع الأمراض النفسية؟\"\n",
      "Searching quran for \"كيف يصف القرآن السعادة؟ كيف يمكن تحقيقها في الإسلام؟\"\n",
      "Searching quran for \"لماذا يصلي المسلمون يوميا؟\"\n",
      "Searching hadith for \"لماذا يصلي المسلمون يوميا؟\"\n",
      "Searching hadith for \"هل الإسلام يشجع على العنف؟\"\n",
      "Searching hadith for \"ما هو رمضان؟\"\n",
      "Searching hadith for \"هل يسمح الإسلام بالحرب الوقائية؟\"\n",
      "Searching hadith for \"فضل ليلة القدر\"\n",
      "Searching hadith for \"هل هناك أحاديث تتحدث عن كيفية التعامل مع الأمراض النفسية؟\"\n",
      "Searching hadith for \"ما هو رمضان؟\"\n",
      "Searching hadith for \"كيف يصف الحديث السعادة؟ كيف يمكن تحقيقها في الإسلام؟\"\n",
      "Searching al-mawsuah for \"هل الإسلام يشجع على العنف؟\"\n",
      "Searching al-mawsuah for \"ما هو رمضان؟\"\n",
      "Searching al-mawsuah for \"ما هو رمضان؟\"\n",
      "Searching al-mawsuah for \"أهمية ليلة القدر في الفقه الإسلامي\"\n",
      "Searching al-mawsuah for \"إرشادات الفقه الإسلامي حول التعامل مع الأمراض النفسية\"\n",
      "Searching al-mawsuah for \"السعادة في الفقه الإسلامي وكيفية تحقيقها\"\n",
      "Searching al-mawsuah for \"لماذا يصلي المسلمون يوميا؟\"\n",
      "Searching al-mawsuah for \"هل يسمح الإسلام بالحرب الوقائية؟\"\n"
     ]
    },
    {
     "name": "stderr",
     "output_type": "stream",
     "text": [
      "Average Metric: 104 / 14  (742.9):  13%|█▎        | 13/98 [00:05<00:38,  2.19it/s]"
     ]
    },
    {
     "name": "stdout",
     "output_type": "stream",
     "text": [
      "Searching quran for \"كيف تصوم رمضان؟\"\n",
      "Searching quran for \"كيف نعلم أن القرآن وحي إلهي؟\"\n",
      "Searching quran for \"من يجب عليه الصيام في رمضان؟\"\n",
      "Searching quran for \"هل التجديف يعاقب عليه بالإعدام؟\"\n",
      "Searching quran for \"ما هو الغرض من الصيام في رمضان؟\"\n",
      "Searching quran for \"ماذا يقدم الإسلام للناس؟\"\n"
     ]
    },
    {
     "name": "stderr",
     "output_type": "stream",
     "text": [
      "Average Metric: 114 / 16  (712.5):  15%|█▌        | 15/98 [00:05<00:20,  4.08it/s]"
     ]
    },
    {
     "name": "stdout",
     "output_type": "stream",
     "text": [
      "Searching quran for \"مدة الصيام في رمضان\"\n",
      "Searching quran for \"كيف يُساء تفسير الجهاد كإرهاب؟\"\n",
      "Searching hadith for \"كيف تصوم رمضان؟\"\n",
      "Searching hadith for \"هل التجديف يعاقب عليه بالإعدام؟\"\n",
      "Searching hadith for \"من يجب عليه الصيام في رمضان؟\"\n",
      "Searching hadith for \"كيف نعلم أن القرآن وحي إلهي؟\"\n",
      "Searching hadith for \"ماذا يقدم الإسلام للناس؟\"\n",
      "Searching hadith for \"ما هو الغرض من الصيام في رمضان؟\"\n",
      "Searching hadith for \"كيف يُساء تفسير الجهاد كإرهاب؟\"\n",
      "Searching hadith for \"مدة الصيام في رمضان\"\n",
      "Searching al-mawsuah for \"كيف تصوم رمضان؟\"\n",
      "Searching al-mawsuah for \"من يجب عليه الصيام في رمضان؟\"\n",
      "Searching al-mawsuah for \"كيف نعلم أن القرآن وحي إلهي؟\"\n",
      "Searching al-mawsuah for \"ما هو الغرض من الصيام في رمضان؟\"\n",
      "Searching al-mawsuah for \"هل التجديف يعاقب عليه بالإعدام؟\"\n",
      "Searching al-mawsuah for \"ماذا يقدم الإسلام للناس؟\"\n",
      "Searching al-mawsuah for \"كيف يُساء تفسير الجهاد كإرهاب؟\"\n",
      "Searching al-mawsuah for \"مدة الصيام في رمضان\"\n"
     ]
    },
    {
     "name": "stderr",
     "output_type": "stream",
     "text": [
      "Average Metric: 132 / 18  (733.3):  18%|█▊        | 18/98 [00:07<00:29,  2.75it/s]"
     ]
    },
    {
     "name": "stdout",
     "output_type": "stream",
     "text": [
      "Searching quran for \"كيف يُساء تفسير الجهاد كإرهاب؟\"\n",
      "Searching quran for \"أركان الإسلام الخمسة\"\n"
     ]
    },
    {
     "name": "stderr",
     "output_type": "stream",
     "text": [
      "Average Metric: 182 / 24  (758.3):  23%|██▎       | 23/98 [00:07<00:25,  2.91it/s]"
     ]
    },
    {
     "name": "stdout",
     "output_type": "stream",
     "text": [
      "Searching quran for \"كيف يعامل الإسلام الأقليات الدينية؟\"\n",
      "Searching quran for \"ليلة القدر\"\n",
      "Searching quran for \"من هو الله\"\n",
      "Searching quran for \"هل يؤمن المسلمون بالجنة والنار؟\"\n",
      "Searching quran for \"هل يؤمن المسلمون بالروح القدس؟\"\n",
      "Searching quran for \"ما معنى الجهاد؟\"\n",
      "Searching hadith for \"كيف يُساء تفسير الجهاد كإرهاب؟\"\n",
      "Searching hadith for \"أركان الإسلام الخمسة\"\n",
      "Searching hadith for \"ما هي ليلة القدر\"\n",
      "Searching hadith for \"معاملة الإسلام للأقليات الدينية\"\n",
      "Searching hadith for \"هل ذكر الروح القدس في الأحاديث؟\"\n",
      "Searching hadith for \"ما معنى الجهاد؟\"\n",
      "Searching hadith for \"هل ذكر النبي الجنة والنار؟\"\n",
      "Searching hadith for \"من هو الله\"\n",
      "Searching al-mawsuah for \"كيف يُساء تفسير الجهاد كإرهاب؟\"\n",
      "Searching al-mawsuah for \"أركان الإسلام الخمسة\"\n",
      "Searching al-mawsuah for \"معاملة الأقليات الدينية في الفقه الإسلامي\"\n",
      "Searching al-mawsuah for \"ليلة القدر في الفقه الإسلامي\"\n",
      "Searching al-mawsuah for \"ما معنى الجهاد؟\"\n",
      "Searching al-mawsuah for \"الإيمان بالروح القدس في الفقه الإسلامي\"\n",
      "Searching al-mawsuah for \"الإيمان بالجنة والنار في الفقه الإسلامي\"\n",
      "Searching al-mawsuah for \"من هو الله\"\n"
     ]
    },
    {
     "name": "stderr",
     "output_type": "stream",
     "text": [
      "Average Metric: 198 / 26  (761.5):  26%|██▌       | 25/98 [00:09<00:24,  2.94it/s]"
     ]
    },
    {
     "name": "stdout",
     "output_type": "stream",
     "text": [
      "Searching quran for \"أين يحدث الحج؟\"\n",
      "Searching quran for \"أحكام الحرب في الإسلام\"\n"
     ]
    },
    {
     "name": "stderr",
     "output_type": "stream",
     "text": [
      "Average Metric: 244 / 31  (787.1):  31%|███       | 30/98 [00:10<00:15,  4.47it/s]"
     ]
    },
    {
     "name": "stdout",
     "output_type": "stream",
     "text": [
      "Searching quran for \"متى ليلة القدر؟\"\n",
      "Searching quran for \"كم مرة يصلي المسلمون خلال رمضان؟\"\n",
      "Searching quran for \"لماذا الكعبة مهمة؟\"\n",
      "Searching quran for \"لماذا يجب على المسلمين الصيام لمدة شهر كامل؟\"\n",
      "Searching quran for \"كيف يمكن فهم والتعامل مع الحزن والأسى في الإسلام؟\"\n"
     ]
    },
    {
     "name": "stderr",
     "output_type": "stream",
     "text": [
      "Average Metric: 250 / 32  (781.2):  33%|███▎      | 32/98 [00:10<00:12,  5.37it/s]"
     ]
    },
    {
     "name": "stdout",
     "output_type": "stream",
     "text": [
      "Searching quran for \"كيف يمكن للمرء أن يطهر قلبه وروحه؟\"\n",
      "Searching hadith for \"أين يحدث الحج؟\"\n",
      "Searching hadith for \"أحاديث عن أحكام الحرب في الإسلام\"\n",
      "Searching hadith for \"متى ليلة القدر؟\"\n",
      "Searching hadith for \"لماذا الكعبة مهمة؟\"\n",
      "Searching hadith for \"كم مرة يصلي المسلمون خلال رمضان؟\"\n",
      "Searching hadith for \"لماذا يجب على المسلمين الصيام لمدة شهر كامل؟\"\n",
      "Searching hadith for \"كيف يمكن فهم والتعامل مع الحزن والأسى في الإسلام؟\"\n",
      "Searching hadith for \"كيف يمكن للمرء أن يطهر قلبه وروحه؟\"\n",
      "Searching al-mawsuah for \"أين يحدث الحج؟\"\n",
      "Searching al-mawsuah for \"أحكام الحرب في الفقه الإسلامي\"\n",
      "Searching al-mawsuah for \"متى ليلة القدر؟\"\n",
      "Searching al-mawsuah for \"كم مرة يصلي المسلمون خلال رمضان؟\"\n",
      "Searching al-mawsuah for \"أهمية الكعبة في الفقه الإسلامي\"\n",
      "Searching al-mawsuah for \"لماذا يجب على المسلمين الصيام لمدة شهر كامل؟\"\n",
      "Searching al-mawsuah for \"كيف يمكن فهم والتعامل مع الحزن والأسى في الإسلام؟\"\n",
      "Searching al-mawsuah for \"كيف يمكن للمرء أن يطهر قلبه وروحه؟\"\n"
     ]
    },
    {
     "name": "stderr",
     "output_type": "stream",
     "text": [
      "Average Metric: 270 / 34  (794.1):  35%|███▍      | 34/98 [00:12<00:24,  2.60it/s]"
     ]
    },
    {
     "name": "stdout",
     "output_type": "stream",
     "text": [
      "Searching quran for \"ما هي الكعبة؟\"\n",
      "Searching quran for \"من هو النبي محمد؟\"\n"
     ]
    },
    {
     "name": "stderr",
     "output_type": "stream",
     "text": [
      "Average Metric: 286 / 36  (794.4):  37%|███▋      | 36/98 [00:12<00:19,  3.22it/s]"
     ]
    },
    {
     "name": "stdout",
     "output_type": "stream",
     "text": [
      "Searching quran for \"ما هي التزكية؟\"\n",
      "Searching quran for \"أحكام الحرب في الإسلام\"\n"
     ]
    },
    {
     "name": "stderr",
     "output_type": "stream",
     "text": [
      "Average Metric: 320 / 40  (800.0):  40%|███▉      | 39/98 [00:12<00:17,  3.43it/s]"
     ]
    },
    {
     "name": "stdout",
     "output_type": "stream",
     "text": [
      "Searching quran for \"ما الذي يعلمه الإسلام عن إدارة القلق والاكتئاب والشك الذاتي؟\"\n",
      "Searching quran for \"أين تؤدى العمرة؟\"\n",
      "Searching quran for \"كيف يفهم الإسلام الروح\"\n",
      "Searching quran for \"كيف تكون الروحانية الإسلامية فريدة؟\"\n",
      "Searching hadith for \"ما هي الكعبة؟\"\n",
      "Searching hadith for \"ما هي التزكية؟\"\n",
      "Searching hadith for \"من هو النبي محمد؟\"\n",
      "Searching hadith for \"أحاديث عن أحكام الحرب في الإسلام\"\n",
      "Searching hadith for \"كيف تكون الروحانية الإسلامية فريدة؟\"\n",
      "Searching hadith for \"فهم الروح في الإسلام\"\n",
      "Searching hadith for \"ما الذي يعلمه الإسلام عن إدارة القلق والاكتئاب والشك الذاتي؟\"\n",
      "Searching hadith for \"أين تؤدى العمرة؟\"\n",
      "Searching al-mawsuah for \"ما هي الكعبة؟\"\n",
      "Searching al-mawsuah for \"ما هي التزكية؟\"\n",
      "Searching al-mawsuah for \"من هو النبي محمد؟\"\n",
      "Searching al-mawsuah for \"أحكام الحرب في الفقه الإسلامي\"\n",
      "Searching al-mawsuah for \"ما الذي يعلمه الإسلام عن إدارة القلق والاكتئاب والشك الذاتي؟\"Searching al-mawsuah for \"كيف تكون الروحانية الإسلامية فريدة؟\"\n",
      "\n",
      "Searching al-mawsuah for \"الروح في الفقه الإسلامي\"\n"
     ]
    },
    {
     "name": "stderr",
     "output_type": "stream",
     "text": [
      "Average Metric: 336 / 42  (800.0):  42%|████▏     | 41/98 [00:14<00:21,  2.60it/s]"
     ]
    },
    {
     "name": "stdout",
     "output_type": "stream",
     "text": [
      "Searching quran for \"من هو عيسى في الإسلام؟\"\n",
      "Searching quran for \"ما هو الإسلام؟\"\n"
     ]
    },
    {
     "name": "stderr",
     "output_type": "stream",
     "text": [
      "Average Metric: 360 / 45  (800.0):  45%|████▍     | 44/98 [00:15<00:16,  3.31it/s]"
     ]
    },
    {
     "name": "stdout",
     "output_type": "stream",
     "text": [
      "Searching quran for \"متى رمضان؟\"\n",
      "Searching quran for \"كيف يعامل الإسلام الأقليات الدينية؟\"\n",
      "Searching al-mawsuah for \"أين تؤدى العمرة؟\"\n",
      "Searching quran for \"كيف تتعلق الشريعة بطقوس العبادة؟\"\n"
     ]
    },
    {
     "name": "stderr",
     "output_type": "stream",
     "text": [
      "Average Metric: 374 / 47  (795.7):  48%|████▊     | 47/98 [00:15<00:10,  4.66it/s]"
     ]
    },
    {
     "name": "stdout",
     "output_type": "stream",
     "text": [
      "Searching quran for \"هل انتشر الإسلام بالعنف والإكراه؟\"\n",
      "Searching quran for \"لماذا يتم الاحتفال بشهر رمضان؟\"\n",
      "Searching hadith for \"ما هو الإسلام؟\"\n",
      "Searching hadith for \"من هو عيسى في الأحاديث؟\"\n"
     ]
    },
    {
     "name": "stderr",
     "output_type": "stream",
     "text": [
      "Average Metric: 382 / 48  (795.8):  48%|████▊     | 47/98 [00:15<00:10,  4.66it/s]"
     ]
    },
    {
     "name": "stdout",
     "output_type": "stream",
     "text": [
      "Searching hadith for \"متى رمضان؟\"\n",
      "Searching hadith for \"معاملة الإسلام للأقليات الدينية\"\n",
      "Searching quran for \"من هو النبي إبراهيم؟\"\n"
     ]
    },
    {
     "name": "stderr",
     "output_type": "stream",
     "text": [
      "Average Metric: 382 / 48  (795.8):  49%|████▉     | 48/98 [00:15<00:13,  3.59it/s]"
     ]
    },
    {
     "name": "stdout",
     "output_type": "stream",
     "text": [
      "Searching hadith for \"كيف تتعلق الشريعة بطقوس العبادة؟\"\n",
      "Searching hadith for \"هل انتشر الإسلام بالعنف والإكراه؟\"\n",
      "Searching hadith for \"لماذا يتم الاحتفال بشهر رمضان؟\"\n",
      "Searching al-mawsuah for \"ما هو الإسلام؟\"\n",
      "Searching al-mawsuah for \"من هو عيسى في الفقه الإسلامي؟\"\n",
      "Searching al-mawsuah for \"متى رمضان؟\"\n",
      "Searching al-mawsuah for \"معاملة الأقليات الدينية في الفقه الإسلامي\"\n",
      "Searching al-mawsuah for \"كيف تتعلق الشريعة بطقوس العبادة؟\"\n",
      "Searching hadith for \"من هو النبي إبراهيم؟\"\n",
      "Searching al-mawsuah for \"هل انتشر الإسلام بالعنف والإكراه؟\"\n",
      "Searching al-mawsuah for \"لماذا يتم الاحتفال بشهر رمضان؟\"\n"
     ]
    },
    {
     "name": "stderr",
     "output_type": "stream",
     "text": [
      "Average Metric: 392 / 50  (784.0):  51%|█████     | 50/98 [00:17<00:19,  2.46it/s]"
     ]
    },
    {
     "name": "stdout",
     "output_type": "stream",
     "text": [
      "Searching quran for \"ما هو زكاة الفطر؟\"\n",
      "Searching quran for \"هل يسمح الإسلام بقتل المدنيين؟\"\n"
     ]
    },
    {
     "name": "stderr",
     "output_type": "stream",
     "text": [
      "Average Metric: 428 / 54  (792.6):  55%|█████▌    | 54/98 [00:17<00:08,  5.16it/s]"
     ]
    },
    {
     "name": "stdout",
     "output_type": "stream",
     "text": [
      "Searching quran for \"ما هو الفقه؟\"\n",
      "Searching quran for \"كيف تتعلق الشريعة بالمجتمع؟\"\n",
      "Searching quran for \"أهمية الصدقة في رمضان\"\n",
      "Searching quran for \"القيود الغذائية في الإسلام\"\n"
     ]
    },
    {
     "name": "stderr",
     "output_type": "stream",
     "text": [
      "Average Metric: 436 / 55  (792.7):  55%|█████▌    | 54/98 [00:17<00:08,  5.16it/s]"
     ]
    },
    {
     "name": "stdout",
     "output_type": "stream",
     "text": [
      "Searching al-mawsuah for \"من هو النبي إبراهيم؟\"\n",
      "Searching quran for \"ما هو القرآن؟\"\n",
      "Searching hadith for \"ما هو زكاة الفطر؟\"\n",
      "Searching hadith for \"هل يسمح الإسلام بقتل المدنيين؟\"\n",
      "Searching hadith for \"كيف تتعلق الشريعة بالمجتمع؟\"\n",
      "Searching hadith for \"ما هو الفقه؟\"\n",
      "Searching hadith for \"فضل الصدقة في رمضان\"\n",
      "Searching hadith for \"القيود الغذائية في الإسلام\"\n"
     ]
    },
    {
     "name": "stderr",
     "output_type": "stream",
     "text": [
      "Average Metric: 442 / 56  (789.3):  57%|█████▋    | 56/98 [00:18<00:12,  3.34it/s]"
     ]
    },
    {
     "name": "stdout",
     "output_type": "stream",
     "text": [
      "Searching hadith for \"ما هو القرآن؟\"\n",
      "Searching al-mawsuah for \"ما هو زكاة الفطر؟\"\n",
      "Searching quran for \"من بنى الكعبة؟\"\n",
      "Searching al-mawsuah for \"هل يسمح الإسلام بقتل المدنيين؟\"\n",
      "Searching al-mawsuah for \"الصدقة في رمضان\"\n",
      "Searching al-mawsuah for \"ما هو الفقه؟\"\n",
      "Searching al-mawsuah for \"كيف تتعلق الشريعة بالمجتمع؟\"\n",
      "Searching al-mawsuah for \"ما هو القرآن؟\"\n",
      "Searching al-mawsuah for \"القيود الغذائية في الإسلام\"\n",
      "Searching hadith for \"من بنى الكعبة؟\"\n"
     ]
    },
    {
     "name": "stderr",
     "output_type": "stream",
     "text": [
      "Average Metric: 496 / 63  (787.3):  63%|██████▎   | 62/98 [00:20<00:09,  3.91it/s]"
     ]
    },
    {
     "name": "stdout",
     "output_type": "stream",
     "text": [
      "Searching quran for \"من أين تأتي الشريعة؟\"\n",
      "Searching al-mawsuah for \"من بنى الكعبة؟\"\n",
      "Searching quran for \"كيف يغذي الإسلام رفاهنا العاطفي؟\"\n",
      "Searching quran for \"كيفية أداء العمرة\"\n",
      "Searching quran for \"آيات القرآن للتعامل مع الضيق والشدائد\"\n",
      "Searching quran for \"هل يقول القرآن بقتل غير المؤمنين؟\"\n",
      "Searching quran for \"هل التجديف يعاقب عليه بالإعدام؟\"\n",
      "Searching quran for \"هل يسمح الإسلام بقتل المدنيين؟\"\n",
      "Searching hadith for \"كيف يغذي الإسلام رفاهنا العاطفي؟\"\n",
      "Searching hadith for \"كيفية أداء العمرة\"\n",
      "Searching hadith for \"أحاديث عن التعامل مع الضيق والشدائد\"\n",
      "Searching hadith for \"هل يوجد حديث يأمر بقتل غير المؤمنين؟\"\n",
      "Searching hadith for \"من أين تأتي الشريعة؟\"\n",
      "Searching hadith for \"هل يسمح الإسلام بقتل المدنيين؟\"\n",
      "Searching hadith for \"هل التجديف يعاقب عليه بالإعدام؟\"\n",
      "Searching al-mawsuah for \"كيفية أداء العمرة\"\n",
      "Searching al-mawsuah for \"أحكام الفقه الإسلامي حول التعامل مع الضيق والشدائد\"\n",
      "Searching al-mawsuah for \"ما هو حكم قتل غير المؤمنين في الفقه الإسلامي؟\"\n",
      "Searching al-mawsuah for \"كيف يغذي الإسلام رفاهنا العاطفي؟\"\n",
      "Searching al-mawsuah for \"هل يسمح الإسلام بقتل المدنيين؟\"\n",
      "Searching al-mawsuah for \"مصادر الشريعة الإسلامية\"\n",
      "Searching al-mawsuah for \"هل التجديف يعاقب عليه بالإعدام؟\"\n"
     ]
    },
    {
     "name": "stderr",
     "output_type": "stream",
     "text": [
      "Average Metric: 496 / 63  (787.3):  64%|██████▍   | 63/98 [00:38<00:08,  3.91it/s]ERROR:dspy.evaluate.evaluate:\u001b[2m2024-06-04T12:44:04.104429Z\u001b[0m [\u001b[31m\u001b[1merror    \u001b[0m] \u001b[1mError for example in dev set: \t\t HTTPSConnectionPool(host='api.vectara.io', port=443): Max retries exceeded with url: /v1/query (Caused by NewConnectionError('<urllib3.connection.HTTPSConnection object at 0x7ed1a8510cd0>: Failed to establish a new connection: [Errno -2] Name or service not known'))\u001b[0m [\u001b[34m\u001b[1mdspy.evaluate.evaluate\u001b[0m] \u001b[36mfilename\u001b[0m=\u001b[35mevaluate.py\u001b[0m \u001b[36mlineno\u001b[0m=\u001b[35m147\u001b[0m\n",
      "Average Metric: 496.0 / 64  (775.0):  65%|██████▌   | 64/98 [00:45<01:51,  3.29s/it]"
     ]
    },
    {
     "name": "stdout",
     "output_type": "stream",
     "text": [
      "Searching quran for \"ما معنى الإسلام؟\"\n",
      "Searching hadith for \"ما معنى الإسلام في الحديث؟\"\n"
     ]
    },
    {
     "name": "stderr",
     "output_type": "stream",
     "text": [
      "ERROR:dspy.evaluate.evaluate:\u001b[2m2024-06-04T12:44:05.637029Z\u001b[0m [\u001b[31m\u001b[1merror    \u001b[0m] \u001b[1mError for example in dev set: \t\t HTTPSConnectionPool(host='api.vectara.io', port=443): Max retries exceeded with url: /v1/query (Caused by NewConnectionError('<urllib3.connection.HTTPSConnection object at 0x7ed1a8513100>: Failed to establish a new connection: [Errno -2] Name or service not known'))\u001b[0m [\u001b[34m\u001b[1mdspy.evaluate.evaluate\u001b[0m] \u001b[36mfilename\u001b[0m=\u001b[35mevaluate.py\u001b[0m \u001b[36mlineno\u001b[0m=\u001b[35m147\u001b[0m\n",
      "Average Metric: 496.0 / 65  (763.1):  66%|██████▋   | 65/98 [00:46<01:39,  3.03s/it]ERROR:dspy.evaluate.evaluate:\u001b[2m2024-06-04T12:44:05.677471Z\u001b[0m [\u001b[31m\u001b[1merror    \u001b[0m] \u001b[1mError for example in dev set: \t\t HTTPSConnectionPool(host='api.vectara.io', port=443): Max retries exceeded with url: /v1/query (Caused by NewConnectionError('<urllib3.connection.HTTPSConnection object at 0x7ed1a85816f0>: Failed to establish a new connection: [Errno -2] Name or service not known'))\u001b[0m [\u001b[34m\u001b[1mdspy.evaluate.evaluate\u001b[0m] \u001b[36mfilename\u001b[0m=\u001b[35mevaluate.py\u001b[0m \u001b[36mlineno\u001b[0m=\u001b[35m147\u001b[0m\n",
      "Average Metric: 496.0 / 66  (751.5):  66%|██████▋   | 65/98 [00:46<01:39,  3.03s/it]ERROR:dspy.evaluate.evaluate:\u001b[2m2024-06-04T12:44:05.693855Z\u001b[0m [\u001b[31m\u001b[1merror    \u001b[0m] \u001b[1mError for example in dev set: \t\t HTTPSConnectionPool(host='api.vectara.io', port=443): Max retries exceeded with url: /v1/query (Caused by NewConnectionError('<urllib3.connection.HTTPSConnection object at 0x7ed1a8581690>: Failed to establish a new connection: [Errno -2] Name or service not known'))\u001b[0m [\u001b[34m\u001b[1mdspy.evaluate.evaluate\u001b[0m] \u001b[36mfilename\u001b[0m=\u001b[35mevaluate.py\u001b[0m \u001b[36mlineno\u001b[0m=\u001b[35m147\u001b[0m\n",
      "Average Metric: 496.0 / 67  (740.3):  67%|██████▋   | 66/98 [00:46<01:36,  3.03s/it]"
     ]
    },
    {
     "name": "stdout",
     "output_type": "stream",
     "text": [
      "Searching quran for \"ما هو عيد الفطر؟\"\n",
      "Searching quran for \"لماذا الحج مهم؟\"\n",
      "Searching quran for \"كيفية أداء الحج\"\n",
      "Searching quran for \"هل يقول القرآن بقتل غير المؤمنين؟\"\n",
      "Searching al-mawsuah for \"ما هو تعريف الإسلام في الفقه الإسلامي؟\"\n",
      "Searching quran for \"هل هناك استثناءات أو إعفاءات من الصيام؟\"\n",
      "Searching quran for \"ما هي العمرة؟\"\n",
      "Searching quran for \"هل انتشر الإسلام بالعنف والإكراه؟\"\n",
      "Searching hadith for \"كيفية أداء الحج\"\n",
      "Searching hadith for \"ما هو عيد الفطر؟\"\n",
      "Searching hadith for \"هل يوجد حديث يأمر بقتل غير المؤمنين؟\"\n",
      "Searching hadith for \"أهمية الحج في الأحاديث\"\n",
      "Searching hadith for \"ما هي العمرة؟\"\n",
      "Searching hadith for \"هل هناك استثناءات أو إعفاءات من الصيام؟\"\n",
      "Searching hadith for \"هل انتشر الإسلام بالعنف والإكراه؟\"\n",
      "Searching quran for \"هل العمرة والحج نفس الشيء؟\"\n",
      "Searching al-mawsuah for \"كيفية أداء الحج\"\n",
      "Searching al-mawsuah for \"ما هو حكم قتل غير المؤمنين في الفقه الإسلامي؟\"\n",
      "Searching al-mawsuah for \"ما هو عيد الفطر؟\"\n",
      "Searching al-mawsuah for \"أهمية الحج في الفقه الإسلامي\"\n",
      "Searching al-mawsuah for \"ما هي العمرة؟\"\n",
      "Searching al-mawsuah for \"هل انتشر الإسلام بالعنف والإكراه؟\"\n",
      "Searching al-mawsuah for \"هل هناك استثناءات أو إعفاءات من الصيام؟\"\n",
      "Searching hadith for \"هل العمرة والحج نفس الشيء؟\"\n",
      "Searching quran for \"ماذا يؤمن المسلمون؟\"\n",
      "Searching quran for \"هل الشريعة موحدة وغير متغيرة؟\"\n",
      "Searching quran for \"ما هي الصدقة؟\"\n",
      "Searching quran for \"صلاة التراويح\"\n",
      "Searching al-mawsuah for \"هل العمرة والحج نفس الشيء؟\"\n",
      "Searching quran for \"ما هو التوحيد؟\"\n",
      "Searching quran for \"ما معنى الجهاد؟\"\n",
      "Searching quran for \"كيف يتناول الإسلام القدر والإرادة الحرة؟\"\n",
      "Searching hadith for \"ماذا يؤمن المسلمون؟\"\n",
      "Searching hadith for \"هل الشريعة موحدة وغير متغيرة؟\"\n",
      "Searching hadith for \"ما هي الصدقة؟\"\n",
      "Searching quran for \"الطلاق في الإسلام\"\n",
      "Searching hadith for \"صلاة التراويح\"\n",
      "Searching hadith for \"ما معنى الجهاد؟\"\n",
      "Searching hadith for \"ما هو التوحيد؟\"\n",
      "Searching hadith for \"كيف يتناول الإسلام القدر والإرادة الحرة؟\"\n",
      "Searching al-mawsuah for \"ماذا يؤمن المسلمون؟\"\n",
      "Searching al-mawsuah for \"هل الشريعة موحدة وغير متغيرة؟\"\n",
      "Searching al-mawsuah for \"ما معنى الجهاد؟\"\n",
      "Searching al-mawsuah for \"ما هي الصدقة؟\"\n",
      "Searching hadith for \"حديث عن الطلاق\"\n",
      "Searching al-mawsuah for \"صلاة التراويح\"\n",
      "Searching al-mawsuah for \"ما هو التوحيد؟\"\n",
      "Searching al-mawsuah for \"كيف يتناول الإسلام القدر والإرادة الحرة؟\"\n",
      "Searching quran for \"ما هي الأعياد التي يحتفل بها المسلمون؟\"\n",
      "Searching quran for \"هل الوسواس القهري نتيجة وساوس الشيطان؟\"\n",
      "Searching al-mawsuah for \"الطلاق في الفقه الإسلامي\"\n",
      "Searching quran for \"كيف نعرف أن الله موجود؟\"\n",
      "Searching quran for \"تاريخ الشريعة\"\n",
      "Searching quran for \"هل يسمح الإسلام بالحرب الوقائية؟\"\n",
      "Searching quran for \"الوحي في الإسلام\"\n",
      "Searching quran for \"هل الإسلام يشجع على العنف؟\"\n",
      "Searching hadith for \"ما هي الأعياد التي يحتفل بها المسلمون؟\"\n",
      "Searching hadith for \"هل الوسواس القهري نتيجة وساوس الشيطان؟\"\n",
      "Searching hadith for \"تاريخ الشريعة\"\n",
      "Searching hadith for \"هل يسمح الإسلام بالحرب الوقائية؟\"\n",
      "Searching quran for \"ما هي أهمية الحج؟\"\n",
      "Searching hadith for \"كيف نعرف أن الله موجود؟\"\n",
      "Searching hadith for \"هل الإسلام يشجع على العنف؟\"\n",
      "Searching hadith for \"الوحي في الإسلام\"\n",
      "Searching al-mawsuah for \"ما هي الأعياد التي يحتفل بها المسلمون؟\"\n",
      "Searching al-mawsuah for \"هل الوسواس القهري نتيجة وساوس الشيطان؟\"\n",
      "Searching al-mawsuah for \"تاريخ الشريعة\"\n",
      "Searching al-mawsuah for \"هل يسمح الإسلام بالحرب الوقائية؟\"\n",
      "Searching al-mawsuah for \"كيف نعرف أن الله موجود؟\"\n",
      "Searching hadith for \"ما هي أهمية الحج؟\"\n",
      "Searching al-mawsuah for \"هل الإسلام يشجع على العنف؟\"\n",
      "Searching al-mawsuah for \"الوحي في الإسلام\"\n",
      "Searching quran for \"لماذا يطلب الله من الناس عبادته؟\"\n",
      "Searching quran for \"هل يؤمن المسلمون بصلب عيسى؟\"\n",
      "Searching al-mawsuah for \"ما هي أهمية الحج؟\"\n",
      "Searching hadith for \"هل ورد في الأحاديث أن المسلمين يؤمنون بصلب عيسى؟\"\n",
      "Searching hadith for \"لماذا يطلب الله من الناس عبادته؟\"\n",
      "Searching al-mawsuah for \"موقف الفقه الإسلامي من صلب عيسى\"\n",
      "Searching al-mawsuah for \"لماذا يطلب الله من الناس عبادته؟\"\n"
     ]
    },
    {
     "ename": "ConnectionError",
     "evalue": "HTTPSConnectionPool(host='api.vectara.io', port=443): Max retries exceeded with url: /v1/query (Caused by NewConnectionError('<urllib3.connection.HTTPSConnection object at 0x7ed1a85119f0>: Failed to establish a new connection: [Errno -2] Name or service not known'))",
     "output_type": "error",
     "traceback": [
      "\u001b[0;31m---------------------------------------------------------------------------\u001b[0m",
      "\u001b[0;31mgaierror\u001b[0m                                  Traceback (most recent call last)",
      "File \u001b[0;32m~/miniforge3/envs/main/lib/python3.10/site-packages/urllib3/connection.py:174\u001b[0m, in \u001b[0;36mHTTPConnection._new_conn\u001b[0;34m(self)\u001b[0m\n\u001b[1;32m    173\u001b[0m \u001b[38;5;28;01mtry\u001b[39;00m:\n\u001b[0;32m--> 174\u001b[0m     conn \u001b[38;5;241m=\u001b[39m \u001b[43mconnection\u001b[49m\u001b[38;5;241;43m.\u001b[39;49m\u001b[43mcreate_connection\u001b[49m\u001b[43m(\u001b[49m\n\u001b[1;32m    175\u001b[0m \u001b[43m        \u001b[49m\u001b[43m(\u001b[49m\u001b[38;5;28;43mself\u001b[39;49m\u001b[38;5;241;43m.\u001b[39;49m\u001b[43m_dns_host\u001b[49m\u001b[43m,\u001b[49m\u001b[43m \u001b[49m\u001b[38;5;28;43mself\u001b[39;49m\u001b[38;5;241;43m.\u001b[39;49m\u001b[43mport\u001b[49m\u001b[43m)\u001b[49m\u001b[43m,\u001b[49m\u001b[43m \u001b[49m\u001b[38;5;28;43mself\u001b[39;49m\u001b[38;5;241;43m.\u001b[39;49m\u001b[43mtimeout\u001b[49m\u001b[43m,\u001b[49m\u001b[43m \u001b[49m\u001b[38;5;241;43m*\u001b[39;49m\u001b[38;5;241;43m*\u001b[39;49m\u001b[43mextra_kw\u001b[49m\n\u001b[1;32m    176\u001b[0m \u001b[43m    \u001b[49m\u001b[43m)\u001b[49m\n\u001b[1;32m    178\u001b[0m \u001b[38;5;28;01mexcept\u001b[39;00m SocketTimeout:\n",
      "File \u001b[0;32m~/miniforge3/envs/main/lib/python3.10/site-packages/urllib3/util/connection.py:72\u001b[0m, in \u001b[0;36mcreate_connection\u001b[0;34m(address, timeout, source_address, socket_options)\u001b[0m\n\u001b[1;32m     68\u001b[0m     \u001b[38;5;28;01mreturn\u001b[39;00m six\u001b[38;5;241m.\u001b[39mraise_from(\n\u001b[1;32m     69\u001b[0m         LocationParseError(\u001b[38;5;124mu\u001b[39m\u001b[38;5;124m\"\u001b[39m\u001b[38;5;124m'\u001b[39m\u001b[38;5;132;01m%s\u001b[39;00m\u001b[38;5;124m'\u001b[39m\u001b[38;5;124m, label empty or too long\u001b[39m\u001b[38;5;124m\"\u001b[39m \u001b[38;5;241m%\u001b[39m host), \u001b[38;5;28;01mNone\u001b[39;00m\n\u001b[1;32m     70\u001b[0m     )\n\u001b[0;32m---> 72\u001b[0m \u001b[38;5;28;01mfor\u001b[39;00m res \u001b[38;5;129;01min\u001b[39;00m \u001b[43msocket\u001b[49m\u001b[38;5;241;43m.\u001b[39;49m\u001b[43mgetaddrinfo\u001b[49m\u001b[43m(\u001b[49m\u001b[43mhost\u001b[49m\u001b[43m,\u001b[49m\u001b[43m \u001b[49m\u001b[43mport\u001b[49m\u001b[43m,\u001b[49m\u001b[43m \u001b[49m\u001b[43mfamily\u001b[49m\u001b[43m,\u001b[49m\u001b[43m \u001b[49m\u001b[43msocket\u001b[49m\u001b[38;5;241;43m.\u001b[39;49m\u001b[43mSOCK_STREAM\u001b[49m\u001b[43m)\u001b[49m:\n\u001b[1;32m     73\u001b[0m     af, socktype, proto, canonname, sa \u001b[38;5;241m=\u001b[39m res\n",
      "File \u001b[0;32m~/miniforge3/envs/main/lib/python3.10/socket.py:955\u001b[0m, in \u001b[0;36mgetaddrinfo\u001b[0;34m(host, port, family, type, proto, flags)\u001b[0m\n\u001b[1;32m    954\u001b[0m addrlist \u001b[38;5;241m=\u001b[39m []\n\u001b[0;32m--> 955\u001b[0m \u001b[38;5;28;01mfor\u001b[39;00m res \u001b[38;5;129;01min\u001b[39;00m \u001b[43m_socket\u001b[49m\u001b[38;5;241;43m.\u001b[39;49m\u001b[43mgetaddrinfo\u001b[49m\u001b[43m(\u001b[49m\u001b[43mhost\u001b[49m\u001b[43m,\u001b[49m\u001b[43m \u001b[49m\u001b[43mport\u001b[49m\u001b[43m,\u001b[49m\u001b[43m \u001b[49m\u001b[43mfamily\u001b[49m\u001b[43m,\u001b[49m\u001b[43m \u001b[49m\u001b[38;5;28;43mtype\u001b[39;49m\u001b[43m,\u001b[49m\u001b[43m \u001b[49m\u001b[43mproto\u001b[49m\u001b[43m,\u001b[49m\u001b[43m \u001b[49m\u001b[43mflags\u001b[49m\u001b[43m)\u001b[49m:\n\u001b[1;32m    956\u001b[0m     af, socktype, proto, canonname, sa \u001b[38;5;241m=\u001b[39m res\n",
      "\u001b[0;31mgaierror\u001b[0m: [Errno -2] Name or service not known",
      "\nDuring handling of the above exception, another exception occurred:\n",
      "\u001b[0;31mNewConnectionError\u001b[0m                        Traceback (most recent call last)",
      "File \u001b[0;32m~/miniforge3/envs/main/lib/python3.10/site-packages/urllib3/connectionpool.py:715\u001b[0m, in \u001b[0;36mHTTPConnectionPool.urlopen\u001b[0;34m(self, method, url, body, headers, retries, redirect, assert_same_host, timeout, pool_timeout, release_conn, chunked, body_pos, **response_kw)\u001b[0m\n\u001b[1;32m    714\u001b[0m \u001b[38;5;66;03m# Make the request on the httplib connection object.\u001b[39;00m\n\u001b[0;32m--> 715\u001b[0m httplib_response \u001b[38;5;241m=\u001b[39m \u001b[38;5;28;43mself\u001b[39;49m\u001b[38;5;241;43m.\u001b[39;49m\u001b[43m_make_request\u001b[49m\u001b[43m(\u001b[49m\n\u001b[1;32m    716\u001b[0m \u001b[43m    \u001b[49m\u001b[43mconn\u001b[49m\u001b[43m,\u001b[49m\n\u001b[1;32m    717\u001b[0m \u001b[43m    \u001b[49m\u001b[43mmethod\u001b[49m\u001b[43m,\u001b[49m\n\u001b[1;32m    718\u001b[0m \u001b[43m    \u001b[49m\u001b[43murl\u001b[49m\u001b[43m,\u001b[49m\n\u001b[1;32m    719\u001b[0m \u001b[43m    \u001b[49m\u001b[43mtimeout\u001b[49m\u001b[38;5;241;43m=\u001b[39;49m\u001b[43mtimeout_obj\u001b[49m\u001b[43m,\u001b[49m\n\u001b[1;32m    720\u001b[0m \u001b[43m    \u001b[49m\u001b[43mbody\u001b[49m\u001b[38;5;241;43m=\u001b[39;49m\u001b[43mbody\u001b[49m\u001b[43m,\u001b[49m\n\u001b[1;32m    721\u001b[0m \u001b[43m    \u001b[49m\u001b[43mheaders\u001b[49m\u001b[38;5;241;43m=\u001b[39;49m\u001b[43mheaders\u001b[49m\u001b[43m,\u001b[49m\n\u001b[1;32m    722\u001b[0m \u001b[43m    \u001b[49m\u001b[43mchunked\u001b[49m\u001b[38;5;241;43m=\u001b[39;49m\u001b[43mchunked\u001b[49m\u001b[43m,\u001b[49m\n\u001b[1;32m    723\u001b[0m \u001b[43m\u001b[49m\u001b[43m)\u001b[49m\n\u001b[1;32m    725\u001b[0m \u001b[38;5;66;03m# If we're going to release the connection in ``finally:``, then\u001b[39;00m\n\u001b[1;32m    726\u001b[0m \u001b[38;5;66;03m# the response doesn't need to know about the connection. Otherwise\u001b[39;00m\n\u001b[1;32m    727\u001b[0m \u001b[38;5;66;03m# it will also try to release it and we'll have a double-release\u001b[39;00m\n\u001b[1;32m    728\u001b[0m \u001b[38;5;66;03m# mess.\u001b[39;00m\n",
      "File \u001b[0;32m~/miniforge3/envs/main/lib/python3.10/site-packages/urllib3/connectionpool.py:404\u001b[0m, in \u001b[0;36mHTTPConnectionPool._make_request\u001b[0;34m(self, conn, method, url, timeout, chunked, **httplib_request_kw)\u001b[0m\n\u001b[1;32m    403\u001b[0m \u001b[38;5;28;01mtry\u001b[39;00m:\n\u001b[0;32m--> 404\u001b[0m     \u001b[38;5;28;43mself\u001b[39;49m\u001b[38;5;241;43m.\u001b[39;49m\u001b[43m_validate_conn\u001b[49m\u001b[43m(\u001b[49m\u001b[43mconn\u001b[49m\u001b[43m)\u001b[49m\n\u001b[1;32m    405\u001b[0m \u001b[38;5;28;01mexcept\u001b[39;00m (SocketTimeout, BaseSSLError) \u001b[38;5;28;01mas\u001b[39;00m e:\n\u001b[1;32m    406\u001b[0m     \u001b[38;5;66;03m# Py2 raises this as a BaseSSLError, Py3 raises it as socket timeout.\u001b[39;00m\n",
      "File \u001b[0;32m~/miniforge3/envs/main/lib/python3.10/site-packages/urllib3/connectionpool.py:1058\u001b[0m, in \u001b[0;36mHTTPSConnectionPool._validate_conn\u001b[0;34m(self, conn)\u001b[0m\n\u001b[1;32m   1057\u001b[0m \u001b[38;5;28;01mif\u001b[39;00m \u001b[38;5;129;01mnot\u001b[39;00m \u001b[38;5;28mgetattr\u001b[39m(conn, \u001b[38;5;124m\"\u001b[39m\u001b[38;5;124msock\u001b[39m\u001b[38;5;124m\"\u001b[39m, \u001b[38;5;28;01mNone\u001b[39;00m):  \u001b[38;5;66;03m# AppEngine might not have  `.sock`\u001b[39;00m\n\u001b[0;32m-> 1058\u001b[0m     \u001b[43mconn\u001b[49m\u001b[38;5;241;43m.\u001b[39;49m\u001b[43mconnect\u001b[49m\u001b[43m(\u001b[49m\u001b[43m)\u001b[49m\n\u001b[1;32m   1060\u001b[0m \u001b[38;5;28;01mif\u001b[39;00m \u001b[38;5;129;01mnot\u001b[39;00m conn\u001b[38;5;241m.\u001b[39mis_verified:\n",
      "File \u001b[0;32m~/miniforge3/envs/main/lib/python3.10/site-packages/urllib3/connection.py:363\u001b[0m, in \u001b[0;36mHTTPSConnection.connect\u001b[0;34m(self)\u001b[0m\n\u001b[1;32m    361\u001b[0m \u001b[38;5;28;01mdef\u001b[39;00m \u001b[38;5;21mconnect\u001b[39m(\u001b[38;5;28mself\u001b[39m):\n\u001b[1;32m    362\u001b[0m     \u001b[38;5;66;03m# Add certificate verification\u001b[39;00m\n\u001b[0;32m--> 363\u001b[0m     \u001b[38;5;28mself\u001b[39m\u001b[38;5;241m.\u001b[39msock \u001b[38;5;241m=\u001b[39m conn \u001b[38;5;241m=\u001b[39m \u001b[38;5;28;43mself\u001b[39;49m\u001b[38;5;241;43m.\u001b[39;49m\u001b[43m_new_conn\u001b[49m\u001b[43m(\u001b[49m\u001b[43m)\u001b[49m\n\u001b[1;32m    364\u001b[0m     hostname \u001b[38;5;241m=\u001b[39m \u001b[38;5;28mself\u001b[39m\u001b[38;5;241m.\u001b[39mhost\n",
      "File \u001b[0;32m~/miniforge3/envs/main/lib/python3.10/site-packages/urllib3/connection.py:186\u001b[0m, in \u001b[0;36mHTTPConnection._new_conn\u001b[0;34m(self)\u001b[0m\n\u001b[1;32m    185\u001b[0m \u001b[38;5;28;01mexcept\u001b[39;00m SocketError \u001b[38;5;28;01mas\u001b[39;00m e:\n\u001b[0;32m--> 186\u001b[0m     \u001b[38;5;28;01mraise\u001b[39;00m NewConnectionError(\n\u001b[1;32m    187\u001b[0m         \u001b[38;5;28mself\u001b[39m, \u001b[38;5;124m\"\u001b[39m\u001b[38;5;124mFailed to establish a new connection: \u001b[39m\u001b[38;5;132;01m%s\u001b[39;00m\u001b[38;5;124m\"\u001b[39m \u001b[38;5;241m%\u001b[39m e\n\u001b[1;32m    188\u001b[0m     )\n\u001b[1;32m    190\u001b[0m \u001b[38;5;28;01mreturn\u001b[39;00m conn\n",
      "\u001b[0;31mNewConnectionError\u001b[0m: <urllib3.connection.HTTPSConnection object at 0x7ed1a85119f0>: Failed to establish a new connection: [Errno -2] Name or service not known",
      "\nDuring handling of the above exception, another exception occurred:\n",
      "\u001b[0;31mMaxRetryError\u001b[0m                             Traceback (most recent call last)",
      "File \u001b[0;32m~/miniforge3/envs/main/lib/python3.10/site-packages/requests/adapters.py:486\u001b[0m, in \u001b[0;36mHTTPAdapter.send\u001b[0;34m(self, request, stream, timeout, verify, cert, proxies)\u001b[0m\n\u001b[1;32m    485\u001b[0m \u001b[38;5;28;01mtry\u001b[39;00m:\n\u001b[0;32m--> 486\u001b[0m     resp \u001b[38;5;241m=\u001b[39m \u001b[43mconn\u001b[49m\u001b[38;5;241;43m.\u001b[39;49m\u001b[43murlopen\u001b[49m\u001b[43m(\u001b[49m\n\u001b[1;32m    487\u001b[0m \u001b[43m        \u001b[49m\u001b[43mmethod\u001b[49m\u001b[38;5;241;43m=\u001b[39;49m\u001b[43mrequest\u001b[49m\u001b[38;5;241;43m.\u001b[39;49m\u001b[43mmethod\u001b[49m\u001b[43m,\u001b[49m\n\u001b[1;32m    488\u001b[0m \u001b[43m        \u001b[49m\u001b[43murl\u001b[49m\u001b[38;5;241;43m=\u001b[39;49m\u001b[43murl\u001b[49m\u001b[43m,\u001b[49m\n\u001b[1;32m    489\u001b[0m \u001b[43m        \u001b[49m\u001b[43mbody\u001b[49m\u001b[38;5;241;43m=\u001b[39;49m\u001b[43mrequest\u001b[49m\u001b[38;5;241;43m.\u001b[39;49m\u001b[43mbody\u001b[49m\u001b[43m,\u001b[49m\n\u001b[1;32m    490\u001b[0m \u001b[43m        \u001b[49m\u001b[43mheaders\u001b[49m\u001b[38;5;241;43m=\u001b[39;49m\u001b[43mrequest\u001b[49m\u001b[38;5;241;43m.\u001b[39;49m\u001b[43mheaders\u001b[49m\u001b[43m,\u001b[49m\n\u001b[1;32m    491\u001b[0m \u001b[43m        \u001b[49m\u001b[43mredirect\u001b[49m\u001b[38;5;241;43m=\u001b[39;49m\u001b[38;5;28;43;01mFalse\u001b[39;49;00m\u001b[43m,\u001b[49m\n\u001b[1;32m    492\u001b[0m \u001b[43m        \u001b[49m\u001b[43massert_same_host\u001b[49m\u001b[38;5;241;43m=\u001b[39;49m\u001b[38;5;28;43;01mFalse\u001b[39;49;00m\u001b[43m,\u001b[49m\n\u001b[1;32m    493\u001b[0m \u001b[43m        \u001b[49m\u001b[43mpreload_content\u001b[49m\u001b[38;5;241;43m=\u001b[39;49m\u001b[38;5;28;43;01mFalse\u001b[39;49;00m\u001b[43m,\u001b[49m\n\u001b[1;32m    494\u001b[0m \u001b[43m        \u001b[49m\u001b[43mdecode_content\u001b[49m\u001b[38;5;241;43m=\u001b[39;49m\u001b[38;5;28;43;01mFalse\u001b[39;49;00m\u001b[43m,\u001b[49m\n\u001b[1;32m    495\u001b[0m \u001b[43m        \u001b[49m\u001b[43mretries\u001b[49m\u001b[38;5;241;43m=\u001b[39;49m\u001b[38;5;28;43mself\u001b[39;49m\u001b[38;5;241;43m.\u001b[39;49m\u001b[43mmax_retries\u001b[49m\u001b[43m,\u001b[49m\n\u001b[1;32m    496\u001b[0m \u001b[43m        \u001b[49m\u001b[43mtimeout\u001b[49m\u001b[38;5;241;43m=\u001b[39;49m\u001b[43mtimeout\u001b[49m\u001b[43m,\u001b[49m\n\u001b[1;32m    497\u001b[0m \u001b[43m        \u001b[49m\u001b[43mchunked\u001b[49m\u001b[38;5;241;43m=\u001b[39;49m\u001b[43mchunked\u001b[49m\u001b[43m,\u001b[49m\n\u001b[1;32m    498\u001b[0m \u001b[43m    \u001b[49m\u001b[43m)\u001b[49m\n\u001b[1;32m    500\u001b[0m \u001b[38;5;28;01mexcept\u001b[39;00m (ProtocolError, \u001b[38;5;167;01mOSError\u001b[39;00m) \u001b[38;5;28;01mas\u001b[39;00m err:\n",
      "File \u001b[0;32m~/miniforge3/envs/main/lib/python3.10/site-packages/urllib3/connectionpool.py:799\u001b[0m, in \u001b[0;36mHTTPConnectionPool.urlopen\u001b[0;34m(self, method, url, body, headers, retries, redirect, assert_same_host, timeout, pool_timeout, release_conn, chunked, body_pos, **response_kw)\u001b[0m\n\u001b[1;32m    797\u001b[0m     e \u001b[38;5;241m=\u001b[39m ProtocolError(\u001b[38;5;124m\"\u001b[39m\u001b[38;5;124mConnection aborted.\u001b[39m\u001b[38;5;124m\"\u001b[39m, e)\n\u001b[0;32m--> 799\u001b[0m retries \u001b[38;5;241m=\u001b[39m \u001b[43mretries\u001b[49m\u001b[38;5;241;43m.\u001b[39;49m\u001b[43mincrement\u001b[49m\u001b[43m(\u001b[49m\n\u001b[1;32m    800\u001b[0m \u001b[43m    \u001b[49m\u001b[43mmethod\u001b[49m\u001b[43m,\u001b[49m\u001b[43m \u001b[49m\u001b[43murl\u001b[49m\u001b[43m,\u001b[49m\u001b[43m \u001b[49m\u001b[43merror\u001b[49m\u001b[38;5;241;43m=\u001b[39;49m\u001b[43me\u001b[49m\u001b[43m,\u001b[49m\u001b[43m \u001b[49m\u001b[43m_pool\u001b[49m\u001b[38;5;241;43m=\u001b[39;49m\u001b[38;5;28;43mself\u001b[39;49m\u001b[43m,\u001b[49m\u001b[43m \u001b[49m\u001b[43m_stacktrace\u001b[49m\u001b[38;5;241;43m=\u001b[39;49m\u001b[43msys\u001b[49m\u001b[38;5;241;43m.\u001b[39;49m\u001b[43mexc_info\u001b[49m\u001b[43m(\u001b[49m\u001b[43m)\u001b[49m\u001b[43m[\u001b[49m\u001b[38;5;241;43m2\u001b[39;49m\u001b[43m]\u001b[49m\n\u001b[1;32m    801\u001b[0m \u001b[43m\u001b[49m\u001b[43m)\u001b[49m\n\u001b[1;32m    802\u001b[0m retries\u001b[38;5;241m.\u001b[39msleep()\n",
      "File \u001b[0;32m~/miniforge3/envs/main/lib/python3.10/site-packages/urllib3/util/retry.py:592\u001b[0m, in \u001b[0;36mRetry.increment\u001b[0;34m(self, method, url, response, error, _pool, _stacktrace)\u001b[0m\n\u001b[1;32m    591\u001b[0m \u001b[38;5;28;01mif\u001b[39;00m new_retry\u001b[38;5;241m.\u001b[39mis_exhausted():\n\u001b[0;32m--> 592\u001b[0m     \u001b[38;5;28;01mraise\u001b[39;00m MaxRetryError(_pool, url, error \u001b[38;5;129;01mor\u001b[39;00m ResponseError(cause))\n\u001b[1;32m    594\u001b[0m log\u001b[38;5;241m.\u001b[39mdebug(\u001b[38;5;124m\"\u001b[39m\u001b[38;5;124mIncremented Retry for (url=\u001b[39m\u001b[38;5;124m'\u001b[39m\u001b[38;5;132;01m%s\u001b[39;00m\u001b[38;5;124m'\u001b[39m\u001b[38;5;124m): \u001b[39m\u001b[38;5;132;01m%r\u001b[39;00m\u001b[38;5;124m\"\u001b[39m, url, new_retry)\n",
      "\u001b[0;31mMaxRetryError\u001b[0m: HTTPSConnectionPool(host='api.vectara.io', port=443): Max retries exceeded with url: /v1/query (Caused by NewConnectionError('<urllib3.connection.HTTPSConnection object at 0x7ed1a85119f0>: Failed to establish a new connection: [Errno -2] Name or service not known'))",
      "\nDuring handling of the above exception, another exception occurred:\n",
      "\u001b[0;31mConnectionError\u001b[0m                           Traceback (most recent call last)",
      "Cell \u001b[0;32mIn[17], line 9\u001b[0m\n\u001b[1;32m      7\u001b[0m \u001b[38;5;66;03m##\u001b[39;00m\n\u001b[1;32m      8\u001b[0m kwargs \u001b[38;5;241m=\u001b[39m \u001b[38;5;28mdict\u001b[39m(num_threads\u001b[38;5;241m=\u001b[39m\u001b[38;5;241m8\u001b[39m, display_progress\u001b[38;5;241m=\u001b[39m\u001b[38;5;28;01mTrue\u001b[39;00m, display_table\u001b[38;5;241m=\u001b[39m\u001b[38;5;241m0\u001b[39m) \u001b[38;5;66;03m# Used in Evaluate class in the optimization process\u001b[39;00m\n\u001b[0;32m----> 9\u001b[0m compiled_prompt_opt \u001b[38;5;241m=\u001b[39m \u001b[43mteleprompter\u001b[49m\u001b[38;5;241;43m.\u001b[39;49m\u001b[43mcompile\u001b[49m\u001b[43m(\u001b[49m\u001b[43mAnsariFlow\u001b[49m\u001b[43m(\u001b[49m\u001b[43mopenai_model_name\u001b[49m\u001b[38;5;241;43m=\u001b[39;49m\u001b[38;5;124;43m\"\u001b[39;49m\u001b[38;5;124;43mgpt-4o\u001b[39;49m\u001b[38;5;124;43m\"\u001b[39;49m\u001b[43m)\u001b[49m\u001b[43m,\u001b[49m\u001b[43m \u001b[49m\u001b[43mtrainset\u001b[49m\u001b[38;5;241;43m=\u001b[39;49m\u001b[43mtrainset\u001b[49m\u001b[43m,\u001b[49m\u001b[43m \u001b[49m\u001b[43meval_kwargs\u001b[49m\u001b[38;5;241;43m=\u001b[39;49m\u001b[43mkwargs\u001b[49m\u001b[43m)\u001b[49m\n\u001b[1;32m     10\u001b[0m \u001b[38;5;66;03m##\u001b[39;00m\n\u001b[1;32m     11\u001b[0m compiled_prompt_opt\u001b[38;5;241m.\u001b[39msave(\u001b[38;5;124m\"\u001b[39m\u001b[38;5;124moptimized_prompts_05_4o_minimal_init_prompt.json\u001b[39m\u001b[38;5;124m\"\u001b[39m)\n",
      "File \u001b[0;32m~/miniforge3/envs/main/lib/python3.10/site-packages/dspy/teleprompt/copro_optimizer.py:220\u001b[0m, in \u001b[0;36mCOPRO.compile\u001b[0;34m(self, student, trainset, eval_kwargs)\u001b[0m\n\u001b[1;32m    216\u001b[0m     \u001b[38;5;28mself\u001b[39m\u001b[38;5;241m.\u001b[39m_print_signature(predictor)\n\u001b[1;32m    217\u001b[0m dspy\u001b[38;5;241m.\u001b[39mlogger\u001b[38;5;241m.\u001b[39minfo(\n\u001b[1;32m    218\u001b[0m     \u001b[38;5;124mf\u001b[39m\u001b[38;5;124m\"\u001b[39m\u001b[38;5;124mAt Depth \u001b[39m\u001b[38;5;132;01m{\u001b[39;00md\u001b[38;5;241m+\u001b[39m\u001b[38;5;241m1\u001b[39m\u001b[38;5;132;01m}\u001b[39;00m\u001b[38;5;124m/\u001b[39m\u001b[38;5;132;01m{\u001b[39;00m\u001b[38;5;28mself\u001b[39m\u001b[38;5;241m.\u001b[39mdepth\u001b[38;5;132;01m}\u001b[39;00m\u001b[38;5;124m, Evaluating Prompt Candidate #\u001b[39m\u001b[38;5;132;01m{\u001b[39;00mc_i\u001b[38;5;241m+\u001b[39m\u001b[38;5;241m1\u001b[39m\u001b[38;5;132;01m}\u001b[39;00m\u001b[38;5;124m/\u001b[39m\u001b[38;5;132;01m{\u001b[39;00m\u001b[38;5;28mlen\u001b[39m(candidates_)\u001b[38;5;132;01m}\u001b[39;00m\u001b[38;5;124m for Predictor \u001b[39m\u001b[38;5;132;01m{\u001b[39;00mp_i\u001b[38;5;241m+\u001b[39m\u001b[38;5;241m1\u001b[39m\u001b[38;5;132;01m}\u001b[39;00m\u001b[38;5;124m of \u001b[39m\u001b[38;5;132;01m{\u001b[39;00m\u001b[38;5;28mlen\u001b[39m(module\u001b[38;5;241m.\u001b[39mpredictors())\u001b[38;5;132;01m}\u001b[39;00m\u001b[38;5;124m.\u001b[39m\u001b[38;5;124m\"\u001b[39m,\n\u001b[1;32m    219\u001b[0m )\n\u001b[0;32m--> 220\u001b[0m score \u001b[38;5;241m=\u001b[39m \u001b[43mevaluate\u001b[49m\u001b[43m(\u001b[49m\u001b[43mmodule_clone\u001b[49m\u001b[43m,\u001b[49m\u001b[43m \u001b[49m\u001b[43mdevset\u001b[49m\u001b[38;5;241;43m=\u001b[39;49m\u001b[43mtrainset\u001b[49m\u001b[43m,\u001b[49m\u001b[43m \u001b[49m\u001b[38;5;241;43m*\u001b[39;49m\u001b[38;5;241;43m*\u001b[39;49m\u001b[43meval_kwargs\u001b[49m\u001b[43m)\u001b[49m\n\u001b[1;32m    221\u001b[0m \u001b[38;5;28;01mif\u001b[39;00m \u001b[38;5;28mself\u001b[39m\u001b[38;5;241m.\u001b[39mprompt_model:\n\u001b[1;32m    222\u001b[0m     dspy\u001b[38;5;241m.\u001b[39mlogger\u001b[38;5;241m.\u001b[39mdebug(\u001b[38;5;124mf\u001b[39m\u001b[38;5;124m\"\u001b[39m\u001b[38;5;124mprompt_model.inspect_history(n=1) \u001b[39m\u001b[38;5;132;01m{\u001b[39;00m\u001b[38;5;28mself\u001b[39m\u001b[38;5;241m.\u001b[39mprompt_model\u001b[38;5;241m.\u001b[39minspect_history(n\u001b[38;5;241m=\u001b[39m\u001b[38;5;241m1\u001b[39m)\u001b[38;5;132;01m}\u001b[39;00m\u001b[38;5;124m\"\u001b[39m)\n",
      "File \u001b[0;32m~/miniforge3/envs/main/lib/python3.10/site-packages/dspy/evaluate/evaluate.py:160\u001b[0m, in \u001b[0;36mEvaluate.__call__\u001b[0;34m(self, program, metric, devset, num_threads, display_progress, display_table, return_all_scores, return_outputs)\u001b[0m\n\u001b[1;32m    158\u001b[0m     reordered_devset, ncorrect, ntotal \u001b[38;5;241m=\u001b[39m \u001b[38;5;28mself\u001b[39m\u001b[38;5;241m.\u001b[39m_execute_single_thread(wrapped_program, devset, display_progress)\n\u001b[1;32m    159\u001b[0m \u001b[38;5;28;01melse\u001b[39;00m:\n\u001b[0;32m--> 160\u001b[0m     reordered_devset, ncorrect, ntotal \u001b[38;5;241m=\u001b[39m \u001b[38;5;28;43mself\u001b[39;49m\u001b[38;5;241;43m.\u001b[39;49m\u001b[43m_execute_multi_thread\u001b[49m\u001b[43m(\u001b[49m\n\u001b[1;32m    161\u001b[0m \u001b[43m        \u001b[49m\u001b[43mwrapped_program\u001b[49m\u001b[43m,\u001b[49m\n\u001b[1;32m    162\u001b[0m \u001b[43m        \u001b[49m\u001b[43mdevset\u001b[49m\u001b[43m,\u001b[49m\n\u001b[1;32m    163\u001b[0m \u001b[43m        \u001b[49m\u001b[43mnum_threads\u001b[49m\u001b[43m,\u001b[49m\n\u001b[1;32m    164\u001b[0m \u001b[43m        \u001b[49m\u001b[43mdisplay_progress\u001b[49m\u001b[43m,\u001b[49m\n\u001b[1;32m    165\u001b[0m \u001b[43m    \u001b[49m\u001b[43m)\u001b[49m\n\u001b[1;32m    167\u001b[0m dspy\u001b[38;5;241m.\u001b[39mlogger\u001b[38;5;241m.\u001b[39minfo(\u001b[38;5;124mf\u001b[39m\u001b[38;5;124m\"\u001b[39m\u001b[38;5;124mAverage Metric: \u001b[39m\u001b[38;5;132;01m{\u001b[39;00mncorrect\u001b[38;5;132;01m}\u001b[39;00m\u001b[38;5;124m / \u001b[39m\u001b[38;5;132;01m{\u001b[39;00mntotal\u001b[38;5;132;01m}\u001b[39;00m\u001b[38;5;124m (\u001b[39m\u001b[38;5;132;01m{\u001b[39;00m\u001b[38;5;28mround\u001b[39m(\u001b[38;5;241m100\u001b[39m\u001b[38;5;250m \u001b[39m\u001b[38;5;241m*\u001b[39m\u001b[38;5;250m \u001b[39mncorrect\u001b[38;5;250m \u001b[39m\u001b[38;5;241m/\u001b[39m\u001b[38;5;250m \u001b[39mntotal,\u001b[38;5;250m \u001b[39m\u001b[38;5;241m1\u001b[39m)\u001b[38;5;132;01m}\u001b[39;00m\u001b[38;5;124m%)\u001b[39m\u001b[38;5;124m\"\u001b[39m)\n\u001b[1;32m    169\u001b[0m predicted_devset \u001b[38;5;241m=\u001b[39m \u001b[38;5;28msorted\u001b[39m(reordered_devset)\n",
      "File \u001b[0;32m~/miniforge3/envs/main/lib/python3.10/site-packages/dspy/evaluate/evaluate.py:87\u001b[0m, in \u001b[0;36mEvaluate._execute_multi_thread\u001b[0;34m(self, wrapped_program, devset, num_threads, display_progress)\u001b[0m\n\u001b[1;32m     84\u001b[0m pbar \u001b[38;5;241m=\u001b[39m tqdm\u001b[38;5;241m.\u001b[39mtqdm(total\u001b[38;5;241m=\u001b[39m\u001b[38;5;28mlen\u001b[39m(devset), dynamic_ncols\u001b[38;5;241m=\u001b[39m\u001b[38;5;28;01mTrue\u001b[39;00m, disable\u001b[38;5;241m=\u001b[39m\u001b[38;5;129;01mnot\u001b[39;00m display_progress)\n\u001b[1;32m     86\u001b[0m \u001b[38;5;28;01mfor\u001b[39;00m future \u001b[38;5;129;01min\u001b[39;00m as_completed(futures):\n\u001b[0;32m---> 87\u001b[0m     example_idx, example, prediction, score \u001b[38;5;241m=\u001b[39m \u001b[43mfuture\u001b[49m\u001b[38;5;241;43m.\u001b[39;49m\u001b[43mresult\u001b[49m\u001b[43m(\u001b[49m\u001b[43m)\u001b[49m\n\u001b[1;32m     88\u001b[0m     reordered_devset\u001b[38;5;241m.\u001b[39mappend((example_idx, example, prediction, score))\n\u001b[1;32m     89\u001b[0m     ncorrect \u001b[38;5;241m+\u001b[39m\u001b[38;5;241m=\u001b[39m score\n",
      "File \u001b[0;32m~/miniforge3/envs/main/lib/python3.10/concurrent/futures/_base.py:451\u001b[0m, in \u001b[0;36mFuture.result\u001b[0;34m(self, timeout)\u001b[0m\n\u001b[1;32m    449\u001b[0m     \u001b[38;5;28;01mraise\u001b[39;00m CancelledError()\n\u001b[1;32m    450\u001b[0m \u001b[38;5;28;01melif\u001b[39;00m \u001b[38;5;28mself\u001b[39m\u001b[38;5;241m.\u001b[39m_state \u001b[38;5;241m==\u001b[39m FINISHED:\n\u001b[0;32m--> 451\u001b[0m     \u001b[38;5;28;01mreturn\u001b[39;00m \u001b[38;5;28;43mself\u001b[39;49m\u001b[38;5;241;43m.\u001b[39;49m\u001b[43m__get_result\u001b[49m\u001b[43m(\u001b[49m\u001b[43m)\u001b[49m\n\u001b[1;32m    453\u001b[0m \u001b[38;5;28mself\u001b[39m\u001b[38;5;241m.\u001b[39m_condition\u001b[38;5;241m.\u001b[39mwait(timeout)\n\u001b[1;32m    455\u001b[0m \u001b[38;5;28;01mif\u001b[39;00m \u001b[38;5;28mself\u001b[39m\u001b[38;5;241m.\u001b[39m_state \u001b[38;5;129;01min\u001b[39;00m [CANCELLED, CANCELLED_AND_NOTIFIED]:\n",
      "File \u001b[0;32m~/miniforge3/envs/main/lib/python3.10/concurrent/futures/_base.py:403\u001b[0m, in \u001b[0;36mFuture.__get_result\u001b[0;34m(self)\u001b[0m\n\u001b[1;32m    401\u001b[0m \u001b[38;5;28;01mif\u001b[39;00m \u001b[38;5;28mself\u001b[39m\u001b[38;5;241m.\u001b[39m_exception:\n\u001b[1;32m    402\u001b[0m     \u001b[38;5;28;01mtry\u001b[39;00m:\n\u001b[0;32m--> 403\u001b[0m         \u001b[38;5;28;01mraise\u001b[39;00m \u001b[38;5;28mself\u001b[39m\u001b[38;5;241m.\u001b[39m_exception\n\u001b[1;32m    404\u001b[0m     \u001b[38;5;28;01mfinally\u001b[39;00m:\n\u001b[1;32m    405\u001b[0m         \u001b[38;5;66;03m# Break a reference cycle with the exception in self._exception\u001b[39;00m\n\u001b[1;32m    406\u001b[0m         \u001b[38;5;28mself\u001b[39m \u001b[38;5;241m=\u001b[39m \u001b[38;5;28;01mNone\u001b[39;00m\n",
      "File \u001b[0;32m~/miniforge3/envs/main/lib/python3.10/concurrent/futures/thread.py:58\u001b[0m, in \u001b[0;36m_WorkItem.run\u001b[0;34m(self)\u001b[0m\n\u001b[1;32m     55\u001b[0m     \u001b[38;5;28;01mreturn\u001b[39;00m\n\u001b[1;32m     57\u001b[0m \u001b[38;5;28;01mtry\u001b[39;00m:\n\u001b[0;32m---> 58\u001b[0m     result \u001b[38;5;241m=\u001b[39m \u001b[38;5;28;43mself\u001b[39;49m\u001b[38;5;241;43m.\u001b[39;49m\u001b[43mfn\u001b[49m\u001b[43m(\u001b[49m\u001b[38;5;241;43m*\u001b[39;49m\u001b[38;5;28;43mself\u001b[39;49m\u001b[38;5;241;43m.\u001b[39;49m\u001b[43margs\u001b[49m\u001b[43m,\u001b[49m\u001b[43m \u001b[49m\u001b[38;5;241;43m*\u001b[39;49m\u001b[38;5;241;43m*\u001b[39;49m\u001b[38;5;28;43mself\u001b[39;49m\u001b[38;5;241;43m.\u001b[39;49m\u001b[43mkwargs\u001b[49m\u001b[43m)\u001b[49m\n\u001b[1;32m     59\u001b[0m \u001b[38;5;28;01mexcept\u001b[39;00m \u001b[38;5;167;01mBaseException\u001b[39;00m \u001b[38;5;28;01mas\u001b[39;00m exc:\n\u001b[1;32m     60\u001b[0m     \u001b[38;5;28mself\u001b[39m\u001b[38;5;241m.\u001b[39mfuture\u001b[38;5;241m.\u001b[39mset_exception(exc)\n",
      "File \u001b[0;32m~/miniforge3/envs/main/lib/python3.10/site-packages/dspy/evaluate/evaluate.py:145\u001b[0m, in \u001b[0;36mEvaluate.__call__.<locals>.wrapped_program\u001b[0;34m(example_idx, example)\u001b[0m\n\u001b[1;32m    143\u001b[0m     current_error_count \u001b[38;5;241m=\u001b[39m \u001b[38;5;28mself\u001b[39m\u001b[38;5;241m.\u001b[39merror_count\n\u001b[1;32m    144\u001b[0m \u001b[38;5;28;01mif\u001b[39;00m current_error_count \u001b[38;5;241m>\u001b[39m\u001b[38;5;241m=\u001b[39m \u001b[38;5;28mself\u001b[39m\u001b[38;5;241m.\u001b[39mmax_errors:\n\u001b[0;32m--> 145\u001b[0m     \u001b[38;5;28;01mraise\u001b[39;00m e\n\u001b[1;32m    147\u001b[0m dspy\u001b[38;5;241m.\u001b[39mlogger\u001b[38;5;241m.\u001b[39merror(\u001b[38;5;124mf\u001b[39m\u001b[38;5;124m\"\u001b[39m\u001b[38;5;124mError for example in dev set: \u001b[39m\u001b[38;5;130;01m\\t\u001b[39;00m\u001b[38;5;130;01m\\t\u001b[39;00m\u001b[38;5;124m \u001b[39m\u001b[38;5;132;01m{\u001b[39;00me\u001b[38;5;132;01m}\u001b[39;00m\u001b[38;5;124m\"\u001b[39m)\n\u001b[1;32m    149\u001b[0m \u001b[38;5;28;01mreturn\u001b[39;00m example_idx, example, {}, \u001b[38;5;241m0.0\u001b[39m\n",
      "File \u001b[0;32m~/miniforge3/envs/main/lib/python3.10/site-packages/dspy/evaluate/evaluate.py:127\u001b[0m, in \u001b[0;36mEvaluate.__call__.<locals>.wrapped_program\u001b[0;34m(example_idx, example)\u001b[0m\n\u001b[1;32m    124\u001b[0m     thread_stacks[threading\u001b[38;5;241m.\u001b[39mget_ident()] \u001b[38;5;241m=\u001b[39m \u001b[38;5;28mlist\u001b[39m(dspy\u001b[38;5;241m.\u001b[39msettings\u001b[38;5;241m.\u001b[39mmain_stack)\n\u001b[1;32m    126\u001b[0m \u001b[38;5;28;01mtry\u001b[39;00m:\n\u001b[0;32m--> 127\u001b[0m     prediction \u001b[38;5;241m=\u001b[39m \u001b[43mprogram\u001b[49m\u001b[43m(\u001b[49m\u001b[38;5;241;43m*\u001b[39;49m\u001b[38;5;241;43m*\u001b[39;49m\u001b[43mexample\u001b[49m\u001b[38;5;241;43m.\u001b[39;49m\u001b[43minputs\u001b[49m\u001b[43m(\u001b[49m\u001b[43m)\u001b[49m\u001b[43m)\u001b[49m\n\u001b[1;32m    128\u001b[0m     score \u001b[38;5;241m=\u001b[39m metric(\n\u001b[1;32m    129\u001b[0m         example,\n\u001b[1;32m    130\u001b[0m         prediction,\n\u001b[1;32m    131\u001b[0m     )  \u001b[38;5;66;03m# FIXME: TODO: What's the right order? Maybe force name-based kwargs!\u001b[39;00m\n\u001b[1;32m    133\u001b[0m     \u001b[38;5;66;03m# increment assert and suggest failures to program's attributes\u001b[39;00m\n",
      "File \u001b[0;32m~/miniforge3/envs/main/lib/python3.10/site-packages/dspy/primitives/program.py:26\u001b[0m, in \u001b[0;36mModule.__call__\u001b[0;34m(self, *args, **kwargs)\u001b[0m\n\u001b[1;32m     25\u001b[0m \u001b[38;5;28;01mdef\u001b[39;00m \u001b[38;5;21m__call__\u001b[39m(\u001b[38;5;28mself\u001b[39m, \u001b[38;5;241m*\u001b[39margs, \u001b[38;5;241m*\u001b[39m\u001b[38;5;241m*\u001b[39mkwargs):\n\u001b[0;32m---> 26\u001b[0m     \u001b[38;5;28;01mreturn\u001b[39;00m \u001b[38;5;28;43mself\u001b[39;49m\u001b[38;5;241;43m.\u001b[39;49m\u001b[43mforward\u001b[49m\u001b[43m(\u001b[49m\u001b[38;5;241;43m*\u001b[39;49m\u001b[43margs\u001b[49m\u001b[43m,\u001b[49m\u001b[43m \u001b[49m\u001b[38;5;241;43m*\u001b[39;49m\u001b[38;5;241;43m*\u001b[39;49m\u001b[43mkwargs\u001b[49m\u001b[43m)\u001b[49m\n",
      "Cell \u001b[0;32mIn[6], line 27\u001b[0m, in \u001b[0;36mAnsariFlow.forward\u001b[0;34m(self, question)\u001b[0m\n\u001b[1;32m     25\u001b[0m         search_results[source] \u001b[38;5;241m=\u001b[39m \u001b[38;5;28mself\u001b[39m\u001b[38;5;241m.\u001b[39mqs\u001b[38;5;241m.\u001b[39mrun_as_list(search_query)\n\u001b[1;32m     26\u001b[0m     \u001b[38;5;28;01melif\u001b[39;00m source \u001b[38;5;241m==\u001b[39m SearchSource\u001b[38;5;241m.\u001b[39mMAWSUAH:\n\u001b[0;32m---> 27\u001b[0m         search_results[source] \u001b[38;5;241m=\u001b[39m \u001b[38;5;28;43mself\u001b[39;49m\u001b[38;5;241;43m.\u001b[39;49m\u001b[43mms\u001b[49m\u001b[38;5;241;43m.\u001b[39;49m\u001b[43mrun_as_list\u001b[49m\u001b[43m(\u001b[49m\u001b[43msearch_query\u001b[49m\u001b[43m)\u001b[49m\n\u001b[1;32m     29\u001b[0m \u001b[38;5;66;03m# Stage 2: Generate the final answer using search results\u001b[39;00m\n\u001b[1;32m     30\u001b[0m \u001b[38;5;28;01mwith\u001b[39;00m dspy\u001b[38;5;241m.\u001b[39mcontext(lm\u001b[38;5;241m=\u001b[39m\u001b[38;5;28mself\u001b[39m\u001b[38;5;241m.\u001b[39mllm):\n",
      "File \u001b[0;32m~/Documents/hdd/projects/ansari/dspy/prompt-opt-dspy/tools/search_mawsuah.py:94\u001b[0m, in \u001b[0;36mSearchMawsuah.run_as_list\u001b[0;34m(self, query, num_results)\u001b[0m\n\u001b[1;32m     93\u001b[0m \u001b[38;5;28;01mdef\u001b[39;00m \u001b[38;5;21mrun_as_list\u001b[39m(\u001b[38;5;28mself\u001b[39m, query: \u001b[38;5;28mstr\u001b[39m, num_results: \u001b[38;5;28mint\u001b[39m \u001b[38;5;241m=\u001b[39m \u001b[38;5;241m2\u001b[39m):\n\u001b[0;32m---> 94\u001b[0m     \u001b[38;5;28;01mreturn\u001b[39;00m \u001b[38;5;28mself\u001b[39m\u001b[38;5;241m.\u001b[39mpp_response(\u001b[38;5;28;43mself\u001b[39;49m\u001b[38;5;241;43m.\u001b[39;49m\u001b[43mrun\u001b[49m\u001b[43m(\u001b[49m\u001b[43mquery\u001b[49m\u001b[43m,\u001b[49m\u001b[43m \u001b[49m\u001b[43mnum_results\u001b[49m\u001b[43m)\u001b[49m)\n",
      "File \u001b[0;32m~/Documents/hdd/projects/ansari/dspy/prompt-opt-dspy/tools/search_mawsuah.py:76\u001b[0m, in \u001b[0;36mSearchMawsuah.run\u001b[0;34m(self, query, num_results)\u001b[0m\n\u001b[1;32m     40\u001b[0m headers \u001b[38;5;241m=\u001b[39m {\n\u001b[1;32m     41\u001b[0m     \u001b[38;5;124m\"\u001b[39m\u001b[38;5;124mx-api-key\u001b[39m\u001b[38;5;124m\"\u001b[39m: \u001b[38;5;28mself\u001b[39m\u001b[38;5;241m.\u001b[39mauth_token,\n\u001b[1;32m     42\u001b[0m     \u001b[38;5;124m\"\u001b[39m\u001b[38;5;124mcustomer-id\u001b[39m\u001b[38;5;124m\"\u001b[39m: \u001b[38;5;28mself\u001b[39m\u001b[38;5;241m.\u001b[39mcustomer_id,\n\u001b[1;32m     43\u001b[0m     \u001b[38;5;124m\"\u001b[39m\u001b[38;5;124mContent-Type\u001b[39m\u001b[38;5;124m\"\u001b[39m: \u001b[38;5;124m\"\u001b[39m\u001b[38;5;124mapplication/json\u001b[39m\u001b[38;5;124m\"\u001b[39m,\n\u001b[1;32m     44\u001b[0m     \u001b[38;5;124m\"\u001b[39m\u001b[38;5;124mAccept\u001b[39m\u001b[38;5;124m\"\u001b[39m: \u001b[38;5;124m\"\u001b[39m\u001b[38;5;124mapplication/json\u001b[39m\u001b[38;5;124m\"\u001b[39m,\n\u001b[1;32m     45\u001b[0m }\n\u001b[1;32m     46\u001b[0m data \u001b[38;5;241m=\u001b[39m {\n\u001b[1;32m     47\u001b[0m     \u001b[38;5;124m\"\u001b[39m\u001b[38;5;124mquery\u001b[39m\u001b[38;5;124m\"\u001b[39m: [\n\u001b[1;32m     48\u001b[0m         {\n\u001b[0;32m   (...)\u001b[0m\n\u001b[1;32m     73\u001b[0m     ]\n\u001b[1;32m     74\u001b[0m }\n\u001b[0;32m---> 76\u001b[0m response \u001b[38;5;241m=\u001b[39m \u001b[43mrequests\u001b[49m\u001b[38;5;241;43m.\u001b[39;49m\u001b[43mpost\u001b[49m\u001b[43m(\u001b[49m\u001b[38;5;28;43mself\u001b[39;49m\u001b[38;5;241;43m.\u001b[39;49m\u001b[43mbase_url\u001b[49m\u001b[43m,\u001b[49m\u001b[43m \u001b[49m\u001b[43mheaders\u001b[49m\u001b[38;5;241;43m=\u001b[39;49m\u001b[43mheaders\u001b[49m\u001b[43m,\u001b[49m\u001b[43m \u001b[49m\u001b[43mdata\u001b[49m\u001b[38;5;241;43m=\u001b[39;49m\u001b[43mjson\u001b[49m\u001b[38;5;241;43m.\u001b[39;49m\u001b[43mdumps\u001b[49m\u001b[43m(\u001b[49m\u001b[43mdata\u001b[49m\u001b[43m)\u001b[49m\u001b[43m)\u001b[49m\n\u001b[1;32m     78\u001b[0m \u001b[38;5;28;01mif\u001b[39;00m response\u001b[38;5;241m.\u001b[39mstatus_code \u001b[38;5;241m!=\u001b[39m \u001b[38;5;241m200\u001b[39m:\n\u001b[1;32m     79\u001b[0m     \u001b[38;5;28mprint\u001b[39m(\n\u001b[1;32m     80\u001b[0m         \u001b[38;5;124mf\u001b[39m\u001b[38;5;124m\"\u001b[39m\u001b[38;5;124mQuery failed with code \u001b[39m\u001b[38;5;132;01m{\u001b[39;00mresponse\u001b[38;5;241m.\u001b[39mstatus_code\u001b[38;5;132;01m}\u001b[39;00m\u001b[38;5;124m, reason \u001b[39m\u001b[38;5;132;01m{\u001b[39;00mresponse\u001b[38;5;241m.\u001b[39mreason\u001b[38;5;132;01m}\u001b[39;00m\u001b[38;5;124m, text \u001b[39m\u001b[38;5;132;01m{\u001b[39;00mresponse\u001b[38;5;241m.\u001b[39mtext\u001b[38;5;132;01m}\u001b[39;00m\u001b[38;5;124m\"\u001b[39m\n\u001b[1;32m     81\u001b[0m     )\n",
      "File \u001b[0;32m~/miniforge3/envs/main/lib/python3.10/site-packages/requests/api.py:115\u001b[0m, in \u001b[0;36mpost\u001b[0;34m(url, data, json, **kwargs)\u001b[0m\n\u001b[1;32m    103\u001b[0m \u001b[38;5;28;01mdef\u001b[39;00m \u001b[38;5;21mpost\u001b[39m(url, data\u001b[38;5;241m=\u001b[39m\u001b[38;5;28;01mNone\u001b[39;00m, json\u001b[38;5;241m=\u001b[39m\u001b[38;5;28;01mNone\u001b[39;00m, \u001b[38;5;241m*\u001b[39m\u001b[38;5;241m*\u001b[39mkwargs):\n\u001b[1;32m    104\u001b[0m \u001b[38;5;250m    \u001b[39m\u001b[38;5;124mr\u001b[39m\u001b[38;5;124;03m\"\"\"Sends a POST request.\u001b[39;00m\n\u001b[1;32m    105\u001b[0m \n\u001b[1;32m    106\u001b[0m \u001b[38;5;124;03m    :param url: URL for the new :class:`Request` object.\u001b[39;00m\n\u001b[0;32m   (...)\u001b[0m\n\u001b[1;32m    112\u001b[0m \u001b[38;5;124;03m    :rtype: requests.Response\u001b[39;00m\n\u001b[1;32m    113\u001b[0m \u001b[38;5;124;03m    \"\"\"\u001b[39;00m\n\u001b[0;32m--> 115\u001b[0m     \u001b[38;5;28;01mreturn\u001b[39;00m \u001b[43mrequest\u001b[49m\u001b[43m(\u001b[49m\u001b[38;5;124;43m\"\u001b[39;49m\u001b[38;5;124;43mpost\u001b[39;49m\u001b[38;5;124;43m\"\u001b[39;49m\u001b[43m,\u001b[49m\u001b[43m \u001b[49m\u001b[43murl\u001b[49m\u001b[43m,\u001b[49m\u001b[43m \u001b[49m\u001b[43mdata\u001b[49m\u001b[38;5;241;43m=\u001b[39;49m\u001b[43mdata\u001b[49m\u001b[43m,\u001b[49m\u001b[43m \u001b[49m\u001b[43mjson\u001b[49m\u001b[38;5;241;43m=\u001b[39;49m\u001b[43mjson\u001b[49m\u001b[43m,\u001b[49m\u001b[43m \u001b[49m\u001b[38;5;241;43m*\u001b[39;49m\u001b[38;5;241;43m*\u001b[39;49m\u001b[43mkwargs\u001b[49m\u001b[43m)\u001b[49m\n",
      "File \u001b[0;32m~/miniforge3/envs/main/lib/python3.10/site-packages/requests/api.py:59\u001b[0m, in \u001b[0;36mrequest\u001b[0;34m(method, url, **kwargs)\u001b[0m\n\u001b[1;32m     55\u001b[0m \u001b[38;5;66;03m# By using the 'with' statement we are sure the session is closed, thus we\u001b[39;00m\n\u001b[1;32m     56\u001b[0m \u001b[38;5;66;03m# avoid leaving sockets open which can trigger a ResourceWarning in some\u001b[39;00m\n\u001b[1;32m     57\u001b[0m \u001b[38;5;66;03m# cases, and look like a memory leak in others.\u001b[39;00m\n\u001b[1;32m     58\u001b[0m \u001b[38;5;28;01mwith\u001b[39;00m sessions\u001b[38;5;241m.\u001b[39mSession() \u001b[38;5;28;01mas\u001b[39;00m session:\n\u001b[0;32m---> 59\u001b[0m     \u001b[38;5;28;01mreturn\u001b[39;00m \u001b[43msession\u001b[49m\u001b[38;5;241;43m.\u001b[39;49m\u001b[43mrequest\u001b[49m\u001b[43m(\u001b[49m\u001b[43mmethod\u001b[49m\u001b[38;5;241;43m=\u001b[39;49m\u001b[43mmethod\u001b[49m\u001b[43m,\u001b[49m\u001b[43m \u001b[49m\u001b[43murl\u001b[49m\u001b[38;5;241;43m=\u001b[39;49m\u001b[43murl\u001b[49m\u001b[43m,\u001b[49m\u001b[43m \u001b[49m\u001b[38;5;241;43m*\u001b[39;49m\u001b[38;5;241;43m*\u001b[39;49m\u001b[43mkwargs\u001b[49m\u001b[43m)\u001b[49m\n",
      "File \u001b[0;32m~/miniforge3/envs/main/lib/python3.10/site-packages/requests/sessions.py:589\u001b[0m, in \u001b[0;36mSession.request\u001b[0;34m(self, method, url, params, data, headers, cookies, files, auth, timeout, allow_redirects, proxies, hooks, stream, verify, cert, json)\u001b[0m\n\u001b[1;32m    584\u001b[0m send_kwargs \u001b[38;5;241m=\u001b[39m {\n\u001b[1;32m    585\u001b[0m     \u001b[38;5;124m\"\u001b[39m\u001b[38;5;124mtimeout\u001b[39m\u001b[38;5;124m\"\u001b[39m: timeout,\n\u001b[1;32m    586\u001b[0m     \u001b[38;5;124m\"\u001b[39m\u001b[38;5;124mallow_redirects\u001b[39m\u001b[38;5;124m\"\u001b[39m: allow_redirects,\n\u001b[1;32m    587\u001b[0m }\n\u001b[1;32m    588\u001b[0m send_kwargs\u001b[38;5;241m.\u001b[39mupdate(settings)\n\u001b[0;32m--> 589\u001b[0m resp \u001b[38;5;241m=\u001b[39m \u001b[38;5;28;43mself\u001b[39;49m\u001b[38;5;241;43m.\u001b[39;49m\u001b[43msend\u001b[49m\u001b[43m(\u001b[49m\u001b[43mprep\u001b[49m\u001b[43m,\u001b[49m\u001b[43m \u001b[49m\u001b[38;5;241;43m*\u001b[39;49m\u001b[38;5;241;43m*\u001b[39;49m\u001b[43msend_kwargs\u001b[49m\u001b[43m)\u001b[49m\n\u001b[1;32m    591\u001b[0m \u001b[38;5;28;01mreturn\u001b[39;00m resp\n",
      "File \u001b[0;32m~/miniforge3/envs/main/lib/python3.10/site-packages/requests/sessions.py:703\u001b[0m, in \u001b[0;36mSession.send\u001b[0;34m(self, request, **kwargs)\u001b[0m\n\u001b[1;32m    700\u001b[0m start \u001b[38;5;241m=\u001b[39m preferred_clock()\n\u001b[1;32m    702\u001b[0m \u001b[38;5;66;03m# Send the request\u001b[39;00m\n\u001b[0;32m--> 703\u001b[0m r \u001b[38;5;241m=\u001b[39m \u001b[43madapter\u001b[49m\u001b[38;5;241;43m.\u001b[39;49m\u001b[43msend\u001b[49m\u001b[43m(\u001b[49m\u001b[43mrequest\u001b[49m\u001b[43m,\u001b[49m\u001b[43m \u001b[49m\u001b[38;5;241;43m*\u001b[39;49m\u001b[38;5;241;43m*\u001b[39;49m\u001b[43mkwargs\u001b[49m\u001b[43m)\u001b[49m\n\u001b[1;32m    705\u001b[0m \u001b[38;5;66;03m# Total elapsed time of the request (approximately)\u001b[39;00m\n\u001b[1;32m    706\u001b[0m elapsed \u001b[38;5;241m=\u001b[39m preferred_clock() \u001b[38;5;241m-\u001b[39m start\n",
      "File \u001b[0;32m~/miniforge3/envs/main/lib/python3.10/site-packages/requests/adapters.py:519\u001b[0m, in \u001b[0;36mHTTPAdapter.send\u001b[0;34m(self, request, stream, timeout, verify, cert, proxies)\u001b[0m\n\u001b[1;32m    515\u001b[0m     \u001b[38;5;28;01mif\u001b[39;00m \u001b[38;5;28misinstance\u001b[39m(e\u001b[38;5;241m.\u001b[39mreason, _SSLError):\n\u001b[1;32m    516\u001b[0m         \u001b[38;5;66;03m# This branch is for urllib3 v1.22 and later.\u001b[39;00m\n\u001b[1;32m    517\u001b[0m         \u001b[38;5;28;01mraise\u001b[39;00m SSLError(e, request\u001b[38;5;241m=\u001b[39mrequest)\n\u001b[0;32m--> 519\u001b[0m     \u001b[38;5;28;01mraise\u001b[39;00m \u001b[38;5;167;01mConnectionError\u001b[39;00m(e, request\u001b[38;5;241m=\u001b[39mrequest)\n\u001b[1;32m    521\u001b[0m \u001b[38;5;28;01mexcept\u001b[39;00m ClosedPoolError \u001b[38;5;28;01mas\u001b[39;00m e:\n\u001b[1;32m    522\u001b[0m     \u001b[38;5;28;01mraise\u001b[39;00m \u001b[38;5;167;01mConnectionError\u001b[39;00m(e, request\u001b[38;5;241m=\u001b[39mrequest)\n",
      "\u001b[0;31mConnectionError\u001b[0m: HTTPSConnectionPool(host='api.vectara.io', port=443): Max retries exceeded with url: /v1/query (Caused by NewConnectionError('<urllib3.connection.HTTPSConnection object at 0x7ed1a85119f0>: Failed to establish a new connection: [Errno -2] Name or service not known'))"
     ]
    }
   ],
   "source": [
    "from dspy.teleprompt import COPRO\n",
    "\n",
    "teleprompter = COPRO(\n",
    "    metric=metric,\n",
    "    verbose=True,\n",
    ")\n",
    "##\n",
    "kwargs = dict(num_threads=8, display_progress=True, display_table=0) # Used in Evaluate class in the optimization process\n",
    "compiled_prompt_opt = teleprompter.compile(AnsariFlow(openai_model_name=\"gpt-4o\"), trainset=trainset, eval_kwargs=kwargs)\n",
    "##\n",
    "compiled_prompt_opt.save(\"optimized_prompts_05_4o_minimal_init_prompt.json\")"
   ]
  },
  {
   "cell_type": "code",
   "execution_count": null,
   "metadata": {},
   "outputs": [],
   "source": []
  },
  {
   "cell_type": "code",
   "execution_count": null,
   "metadata": {},
   "outputs": [],
   "source": [
    "answer = \"\"\"\n",
    "In Islam, men and women are considered equal in terms of their spiritual worth and responsibilities before Allah. However, they have different roles and responsibilities in certain aspects of life. This concept of equality with distinction is rooted in the Qur'an and Hadith.\n",
    "\n",
    "### Equality in Spiritual Worth\n",
    "\n",
    "The Qur'an emphasizes that both men and women are equally capable of attaining spiritual success and are equally accountable for their actions:\n",
    "\n",
    "Ayah: 33:35\n",
    "Arabic: إِنَّ الْمُسْلِمِينَ وَالْمُسْلِمَاتِ وَالْمُؤْمِنِينَ وَالْمُؤْمِنَاتِ وَالْقَانِتِينَ وَالْقَانِتَاتِ وَالصَّادِقِينَ وَالصَّادِقَاتِ وَالصَّابِرِينَ وَالصَّابِرَاتِ وَالْخَاشِعِينَ وَالْخَاشِعَاتِ وَالْمُتَصَدِّقِينَ وَالْمُتَصَدِّقَاتِ وَالصَّائِمِينَ وَالصَّائِمَاتِ وَالْحَافِظِينَ فُرُوجَهُمْ وَالْحَافِظَاتِ وَالذَّاكِرِينَ اللَّهَ كَثِيرًا وَالذَّاكِرَاتِ أَعَدَّ اللَّهُ لَهُم مَّغْفِرَةً وَأَجْرًا عَظِيمًا\n",
    "Translation: \"Indeed, the Muslim men and Muslim women, the believing men and believing women, the obedient men and obedient women, the truthful men and truthful women, the patient men and patient women, the humble men and humble women, the charitable men and charitable women, the fasting men and fasting women, the men who guard their private parts and the women who do so, and the men who remember Allah often and the women who do so - for them Allah has prepared forgiveness and a great reward.\"\n",
    "\n",
    "### Different Roles and Responsibilities\n",
    "\n",
    "While men and women are equal in their spiritual worth, they have different roles and responsibilities in certain aspects of life. For example, men are generally given the role of financial providers, while women are often given the role of caregivers. This distinction is not meant to imply superiority or inferiority but rather to ensure a balanced and functional society.\n",
    "\n",
    "Ayah: 4:34\n",
    "Arabic: الرِّجَالُ قَوَّامُونَ عَلَى النِّسَاءِ بِمَا فَضَّلَ اللَّهُ بَعْضَهُمْ عَلَىٰ بَعْضٍ وَبِمَا أَنفَقُوا مِنْ أَمْوَالِهِمْ\n",
    "Translation: \"Men are the protectors and maintainers of women, because Allah has given the one more (strength) than the other, and because they support them from their means.\"\n",
    "\n",
    "### Scholarly Opinions\n",
    "\n",
    "Classical scholars like Imam Al-Ghazali and Ibn Taymiyah have emphasized that the different roles assigned to men and women are complementary and are designed to create a balanced and just society. Modern scholars like Yasir Qadhi and Hamza Yusuf also stress that these roles should not be seen as a form of discrimination but rather as a means to ensure that both men and women can fulfill their potential in different aspects of life.\n",
    "\n",
    "### Conclusion\n",
    "\n",
    "In summary, Islam teaches that men and women are equal in their spiritual worth and accountability before Allah, but they have different roles and responsibilities in certain aspects of life. This distinction is meant to create a balanced and functional society, not to imply any form of superiority or inferiority.\n",
    "\"\"\"\n",
    "question = \"Are men and women equal in Islam?\"\n",
    "yaqeen_answer = \"\"\"Every man and woman is equal in their humanity and dignity before God.\n",
    "\n",
    "In Islam, nobility and distinction are a function of piety, not of gender, race, wealth, or any other worldly trait.\n",
    "\n",
    "O people, We created you from a male and a female, and made you into nations and tribes so that you may get to know one another. Surely the most noble of you in the sight of God is the most righteous among you. God is truly All-Knowing, All-Aware.\n",
    "\n",
    "[Quran, 49:13]\n",
    "\n",
    "The Prophet Muhammad ﷺ also declared that, “Women are the shaqā’iq (full siblings) of men.”\"\"\""
   ]
  }
 ],
 "metadata": {
  "kernelspec": {
   "display_name": "main",
   "language": "python",
   "name": "python3"
  },
  "language_info": {
   "codemirror_mode": {
    "name": "ipython",
    "version": 3
   },
   "file_extension": ".py",
   "mimetype": "text/x-python",
   "name": "python",
   "nbconvert_exporter": "python",
   "pygments_lexer": "ipython3",
   "version": "3.10.12"
  }
 },
 "nbformat": 4,
 "nbformat_minor": 2
}
