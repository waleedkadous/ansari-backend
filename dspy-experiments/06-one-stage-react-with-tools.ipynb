{
 "cells": [
  {
   "cell_type": "code",
   "execution_count": 1,
   "metadata": {},
   "outputs": [],
   "source": [
    "from env_vars import *"
   ]
  },
  {
   "cell_type": "code",
   "execution_count": 2,
   "metadata": {},
   "outputs": [],
   "source": [
    "from pprint import pprint\n",
    "\n",
    "import dspy\n",
    "import openai\n",
    "import backoff\n",
    "from lingua import LanguageDetectorBuilder\n",
    "from dspy.retrieve.vectara_rm import VectaraRM\n",
    "\n",
    "from tools.search_hadith import SearchHadith\n",
    "from tools.search_quran import SearchQuran\n",
    "from tools.search_mawsuah import SearchMawsuah"
   ]
  },
  {
   "cell_type": "code",
   "execution_count": 3,
   "metadata": {},
   "outputs": [],
   "source": [
    "class OpenAIWrapper(dspy.dsp.modules.gpt3.GPT3):\n",
    "    @backoff.on_exception(\n",
    "        backoff.expo,\n",
    "        (openai.RateLimitError, openai.InternalServerError),\n",
    "        max_time=1000,\n",
    "        on_backoff=dspy.dsp.modules.gpt3.backoff_hdlr,\n",
    "    )\n",
    "    def request(self, prompt: str, **kwargs):\n",
    "        \"\"\"Handles retreival of GPT-3 completions whilst handling rate limiting and caching.\"\"\"\n",
    "        if \"model_type\" in kwargs:\n",
    "            del kwargs[\"model_type\"]\n",
    "\n",
    "        return self.basic_request(prompt, **kwargs)"
   ]
  },
  {
   "cell_type": "code",
   "execution_count": 4,
   "metadata": {},
   "outputs": [],
   "source": [
    "from tools.kalimat_rm import KalimatRM"
   ]
  },
  {
   "cell_type": "code",
   "execution_count": 5,
   "metadata": {},
   "outputs": [],
   "source": [
    "class GenerateAnswer(dspy.Signature):\n",
    "    \"\"\"You are Ansari, a multilingual Islamic bot designed to answer Islam-related questions with accuracy and depth. Fluent in languages such as Arabic (including transliteration), Bahasa, Bosnian, French, Turkish, Urdu, and more, you, Ansari, craft precise, evidence-based responses exclusively from the Sunni tradition.\n",
    "\n",
    "Here is how you work: You receive a question which you will respond to in the same language. You form search queries to search the Hadith, Quran, and Mawsuah, an encyclopedia of Islamic jurisprudence (fiqh). You, Ansari, will then provide a concise, well-supported answer, citing classical scholars like Al Ghazali, Ibn Al Qayyim, Ibn Taymiyah, Imam Shafiee, Imam Nawawi, Imam Abu Hanifah, Ibn Hajr al Asqalani, Imam Ahmad bin Hanbal, Imam Malik, and Ibn Hazm, as well as modern scholars like Yusuf Al Qaradawi, Yasir Qadhi, Ma'in Al Qudah, Shu'aib Al Arnaout, Hamza Yusuf, Zaid Shakir, Taqiuddin Usmani, Muhammad Shinqeeti, Ismail Menk, Omar Suleiman, Salman Al-Awdah, Jamaaluddin Zarabozo, and Yaser Birjas.\n",
    "\n",
    "When referencing the Quran, you, Ansari, include the ayah number, Arabic text, and translation (if the user's language is different from Arabic). For Hadith, only those found in the search results are used, complete with the collection, LK ID, text, and grade. If unsure about a Hadith reference, you, Ansari, will indicate this clearly as, \"I believe (though not 100% sure of the reference) there is a hadith that says: [text of hadith].\" Being especially cautious about obligatory or prohibited matters, you, Ansari, ensure all answers are backed by direct evidence. Instead of vague references, specific scholars are quoted for clarity.\n",
    "\n",
    "Continually enhance your language capabilities for the Holy Quran, Hadith, and Mawsuah by practicing effective search queries. Engage consistently with diverse questions posing challenges, analyzing them thoroughly to craft authentic Arabic search queries. Regular interaction with different topics ensures a richer vocabulary and precise queries targeting each source appropriately.\n",
    "\n",
    "You, Ansari, will answer questions with thorough, well-researched answers, grounded in the rich tradition of Sunni scholarship.\"\"\"\n",
    "\n",
    "    question: str = dspy.InputField(description=\"An Islam-related question\")\n",
    "    answer: str = dspy.OutputField(description=\"Final answer to the question\")"
   ]
  },
  {
   "cell_type": "code",
   "execution_count": 6,
   "metadata": {},
   "outputs": [],
   "source": [
    "quran_rm = KalimatRM(source=\"quran\", kalimat_api_key=KALEMAT_API_KEY, k=3)\n",
    "hadith_rm = KalimatRM(source=\"hadith\", kalimat_api_key=KALEMAT_API_KEY, k=3)\n",
    "mawsuah_rm = VectaraRM(VECTARA_CUSTOMER_ID, VECTARA_CORPUS_ID, VECTARA_AUTH_TOKEN, k=3)\n",
    "\n",
    "# a tool is an object with a name, desc, and input_variable\n",
    "# will be renedered into: \"{tool.name}[{tool.input_variable}], which {tool.desc}\"\n",
    "qs = SearchQuran(KALEMAT_API_KEY)\n",
    "qs.name = \"Search Quran\"\n",
    "qs.desc = \"Search the quran for relevant verses. Returns a list of verses. Multiple verses may be relevant.\"\n",
    "qs.input_variable = \"query\"\n",
    "\n",
    "hs = SearchHadith(KALEMAT_API_KEY)\n",
    "hs.name = \"Search Hadith\"\n",
    "hs.desc = \"Search the Hadith for relevant narrations. Returns a list of hadith. Multiple hadith may be relevant.\"\n",
    "hs.input_variable = \"query\"\n",
    "\n",
    "ms = SearchMawsuah(VECTARA_AUTH_TOKEN)\n",
    "ms.name = \"Search Mawsuah, an encyclopedia of Islamic jurisprudence (fiqh)\"\n",
    "ms.desc = \"Queries an encyclopedia of Islamic jurisprudence (fiqh) for relevant rulings. You call this function when you need to provide information about Islamic law.  Regardless of the language used in the original conversation, you will compose the query in Arabic before searching the encyclopedia. The function returns a list of **potentially** relevant matches, which may include multiple paragraphs.\"\n",
    "ms.input_variable = \"query\"\n",
    "\n",
    "tools = [qs, hs, ms]"
   ]
  },
  {
   "cell_type": "code",
   "execution_count": 9,
   "metadata": {},
   "outputs": [
    {
     "name": "stdout",
     "output_type": "stream",
     "text": [
      "Prediction(\n",
      "    observations=['Failed to parse action. Bad formatting or incorrect action name.', 'Failed to parse action. Bad formatting or incorrect action name.', 'Failed to parse action. Bad formatting or incorrect action name.'],\n",
      "    answer='Headscarves are obligatory for Muslim women as a form of modesty and obedience to Islamic teachings.'\n",
      ")\n"
     ]
    }
   ],
   "source": [
    "lm_gpt3 = OpenAIWrapper(model=\"gpt-3.5-turbo\", api_key=OPENAI_API_KEY, max_tokens=2000, model_type='chat')\n",
    "react_module = dspy.ReAct(GenerateAnswer, max_iters=5, num_results=3, tools=tools)\n",
    "##\n",
    "question = \"kadinların başörtüsü takmaları şart mı?\"\n",
    "with dspy.context(lm=lm_gpt3):\n",
    "    answer = react_module(question=question)\n",
    "pprint(answer)"
   ]
  },
  {
   "cell_type": "code",
   "execution_count": null,
   "metadata": {},
   "outputs": [],
   "source": [
    "# dspy's react implementation is really bad, should be reimplemented based on the following blog post:\n",
    "# https://www.databricks.com/blog/optimizing-databricks-llm-pipelines-dspy\n",
    "# "
   ]
  },
  {
   "cell_type": "code",
   "execution_count": null,
   "metadata": {},
   "outputs": [],
   "source": []
  }
 ],
 "metadata": {
  "kernelspec": {
   "display_name": "main",
   "language": "python",
   "name": "python3"
  },
  "language_info": {
   "codemirror_mode": {
    "name": "ipython",
    "version": 3
   },
   "file_extension": ".py",
   "mimetype": "text/x-python",
   "name": "python",
   "nbconvert_exporter": "python",
   "pygments_lexer": "ipython3",
   "version": "3.10.12"
  }
 },
 "nbformat": 4,
 "nbformat_minor": 2
}
