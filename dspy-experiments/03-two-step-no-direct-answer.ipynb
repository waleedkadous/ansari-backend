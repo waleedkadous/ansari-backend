{
 "cells": [
  {
   "cell_type": "code",
   "execution_count": null,
   "metadata": {},
   "outputs": [],
   "source": [
    "\"\"\"\n",
    "A two-stage program for answering Islam-related questions by leveraging a large language model and searching through authoritative Islamic sources.\n",
    "\n",
    "The program first accepts a question, determines its language, and generates optimized search queries in Arabic for multiple sources, including Hadith, Quran, and the Encyclopedia of Islamic Jurisprudence (Mawsuah). It does not provide a direct answer at this stage.\n",
    "\n",
    "In the second stage, the program utilizes the original question, its language, and the search results from the selected sources to generate a factually based final answer. The answer is provided in the same language as the input question and begins by proofreading the question without altering its semantic meaning. The program exclusively follows the Sunni tradition and cites relevant classical scholars, as well as modern scholars to ensure a comprehensive and accurate response.\n",
    "\"\"\"\n"
   ]
  },
  {
   "cell_type": "code",
   "execution_count": null,
   "metadata": {},
   "outputs": [],
   "source": [
    "# TODO:\n",
    "# 2. adapt the current signature descriptions and answer requirements to the original Ansari prompt\n",
    "# 3. put the whole thing in one dspy.module\n",
    "# 4. provide ~50 example questions\n",
    "# 5. define a metric for evaluation\n",
    "# 6. run corpo or mirpo optimization"
   ]
  },
  {
   "cell_type": "code",
   "execution_count": null,
   "metadata": {},
   "outputs": [],
   "source": [
    "from env_vars import *"
   ]
  },
  {
   "cell_type": "code",
   "execution_count": null,
   "metadata": {},
   "outputs": [],
   "source": [
    "from enum import Enum\n",
    "from pprint import pprint\n",
    "\n",
    "import dspy\n",
    "from pydantic import BaseModel, Field\n",
    "\n",
    "from tools.search_hadith import SearchHadith\n",
    "from tools.search_quran import SearchQuran\n",
    "from tools.search_mawsuah import SearchMawsuah"
   ]
  },
  {
   "cell_type": "code",
   "execution_count": null,
   "metadata": {},
   "outputs": [],
   "source": [
    "# Stage 1\n",
    "class SearchSource(str, Enum):\n",
    "    HADITH = \"Hadith\"\n",
    "    QURAN = \"Quran\"\n",
    "    MAWSUAH = \"Mawsuah\"\n",
    "    NONE = \"None\"\n",
    "\n",
    "class Stage1InputQuery(BaseModel):\n",
    "    query: str = Field(description=\"Islam-related question\")\n",
    "\n",
    "class Stage1OutputResult(BaseModel):\n",
    "    language: str = Field(description=\"Language of the question\")\n",
    "    search_queries: dict[SearchSource, str] = Field(description=\"Dictionary containing search queries for each source in Arabic\")\n",
    "\n",
    "\n",
    "class GenerateStage1Output(dspy.Signature):\n",
    "    \"\"\"Determine search requirements and generate search queries for multiple Islamic sources based on a given question.\n",
    "\n",
    "    Accept an Islam-related question, which may not be in Arabic, and generate optimized search queries in Arabic for each required source.\n",
    "    \"\"\"\n",
    "    input: Stage1InputQuery = dspy.InputField()\n",
    "    output: Stage1OutputResult = dspy.OutputField()\n"
   ]
  },
  {
   "cell_type": "code",
   "execution_count": null,
   "metadata": {},
   "outputs": [],
   "source": [
    "# Stage 2\n",
    "class Stage2InputData(BaseModel):\n",
    "    question: str = Field(description=\"An Islam-related question\")\n",
    "    language: str = Field(description=\"Language of the question\")\n",
    "    search_results: dict[SearchSource, list[str]] = Field(description=\"Dictionary containing search results for each source\")\n",
    "\n",
    "class Stage2OutputAnswer(BaseModel):\n",
    "    answer: str = Field(description=\"Final answer to the question in the same language as the question, based on the relevant search results from Hadith, Quran, or Mawsuah. The answer is concise, evidence-based, and cites classical and modern scholars from the Sunni tradition. When presenting the Qur'an, include the ayah number, Arabic text, and translation (if the user's language is different from Arabic). Only use hadith that are the result of the search. If the hadith is from the search results, present it with the collection, LK id, text, and grade. Otherwise, present the hadith as 'I believe (though not 100% sure of the reference) there is a hadith that says: [text of hadith]'.\")\n",
    "\n",
    "class GenerateStage2FinalAnswer(dspy.Signature):\n",
    "    \"\"\"Produce a factually based final answer to an Islam-related question using search results from multiple sources.\n",
    "\n",
    "    Accept an input containing the original question, its language, and the search results from Hadith, Quran, and Mawsuah. Begin by proofreading the question without altering its semantic meaning. Then, provide a concise, evidence-based answer that exclusively follows the Sunni tradition, citing relevant classical scholars such as Al Ghazali, Ibn Al Qayyim, Ibn Taymiyah, Imam Shafiee, Imam Nawawi, Imam Abu Hanifah, Ibn Hajr al Asqalani, Imam Ahmad bin Hanbal, Imam Malik, and Ibn Hazm, as well as modern scholars like Yusuf Al Qaradawi, Yasir Qadhi, Ma'in Al Qudah, Shu'aib Al Arnaout, Hamza Yusuf, Zaid Shakir, Taqiuddin Usmani, Muhammad Shinqeeti, Ismail Menk, Omar Suleiman, Salman Al-Awdah, Jamaaluddin Zarabozo, and Yaser Birjas. Be particularly careful about matters that are obligatory or prohibited, ensuring that evidences directly support the assertion. Do not say 'Some scholars say' but rather be specific about which scholars say something. Utilize search results from multiple sources as necessary to ensure a comprehensive and accurate response.\n",
    "    \"\"\"\n",
    "\n",
    "    input: Stage2InputData = dspy.InputField()\n",
    "    output: Stage2OutputAnswer = dspy.OutputField()"
   ]
  },
  {
   "cell_type": "code",
   "execution_count": null,
   "metadata": {},
   "outputs": [],
   "source": [
    "def process_question(question: str, llm_gpt4, stage1_predictor, hs, qs, ms, stage2_predictor):\n",
    "    # Stage 1: Generate search queries or provide a direct answer\n",
    "    with dspy.context(lm=llm_gpt4):\n",
    "        stage1_input = Stage1InputQuery(query=question)\n",
    "        stage1_prediction = stage1_predictor(input=stage1_input)\n",
    "\n",
    "    # Stage 1 search queries and results\n",
    "    search_results = {source: [] for source in SearchSource}\n",
    "\n",
    "    for source, search_query in stage1_prediction.output.search_queries.items():\n",
    "        if source == SearchSource.HADITH:\n",
    "            search_results[source] = hs.run_as_list(search_query)\n",
    "        elif source == SearchSource.QURAN:\n",
    "            search_results[source] = qs.run_as_list(search_query)\n",
    "        elif source == SearchSource.MAWSUAH:\n",
    "            search_results[source] = ms.run_as_list(search_query)\n",
    "\n",
    "    # Stage 2: Generate the final answer using search results\n",
    "    with dspy.context(lm=llm_gpt4):\n",
    "        stage2_input = Stage2InputData(question=question, language=stage1_prediction.output.language, search_results=search_results)\n",
    "        stage2_prediction = stage2_predictor(input=stage2_input)\n",
    "    return stage2_prediction.output.answer"
   ]
  },
  {
   "cell_type": "code",
   "execution_count": null,
   "metadata": {},
   "outputs": [],
   "source": [
    "stage1_predictor = dspy.TypedPredictor(GenerateStage1Output, max_retries=5, explain_errors=True)\n",
    "stage2_predictor = dspy.TypedPredictor(GenerateStage2FinalAnswer, max_retries=5, explain_errors=True)"
   ]
  },
  {
   "cell_type": "code",
   "execution_count": null,
   "metadata": {},
   "outputs": [],
   "source": [
    "llm_gpt4 = dspy.OpenAI(model='gpt-4-turbo-2024-04-09', api_key=openai_key)\n",
    "llm_gpt3 = dspy.OpenAI(model='gpt-3.5-turbo-0125', api_key=openai_key)\n",
    "llm_gpt4o = dspy.OpenAI(model='gpt-4o-2024-05-13', api_key=openai_key)\n",
    "ms = SearchMawsuah(auth_token=VECTARA_AUTH_TOKEN, customer_id=VECTARA_CUSTOMER_ID, corpus_id=VECTARA_CORPUS_ID)\n",
    "hs = SearchHadith(api_key=kalimat_api_key)\n",
    "qs = SearchQuran(api_key=kalimat_api_key)"
   ]
  },
  {
   "cell_type": "code",
   "execution_count": null,
   "metadata": {},
   "outputs": [],
   "source": [
    "# convert the process question function to a dspy module\n",
    "# the queries are not good: they mention the source name inside the query text, they don't maximize retrieval recall. ask what makes a good query, then update the description accordingly\n",
    "# the final answer format is not working! do sth about it"
   ]
  },
  {
   "cell_type": "code",
   "execution_count": null,
   "metadata": {},
   "outputs": [],
   "source": [
    "question = \"kadinlarin basortusu takmalari sart mi?\"\n",
    "final_answer = process_question(question, llm_gpt4o, stage1_predictor, hs, qs, ms, stage2_predictor)\n",
    "pprint(final_answer)"
   ]
  },
  {
   "cell_type": "code",
   "execution_count": null,
   "metadata": {},
   "outputs": [],
   "source": [
    "llm_gpt4o.inspect_history()"
   ]
  },
  {
   "cell_type": "code",
   "execution_count": null,
   "metadata": {},
   "outputs": [],
   "source": []
  }
 ],
 "metadata": {
  "kernelspec": {
   "display_name": "main",
   "language": "python",
   "name": "python3"
  },
  "language_info": {
   "codemirror_mode": {
    "name": "ipython",
    "version": 3
   },
   "file_extension": ".py",
   "mimetype": "text/x-python",
   "name": "python",
   "nbconvert_exporter": "python",
   "pygments_lexer": "ipython3",
   "version": "3.10.12"
  }
 },
 "nbformat": 4,
 "nbformat_minor": 2
}
